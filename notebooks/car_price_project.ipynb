{
 "cells": [
  {
   "cell_type": "markdown",
   "metadata": {},
   "source": [
    "# Proyecto ML: Modelo predictivo de precios de coche."
   ]
  },
  {
   "cell_type": "markdown",
   "metadata": {},
   "source": [
    "## 1. Introducción."
   ]
  },
  {
   "cell_type": "markdown",
   "metadata": {},
   "source": [
    "Autos Pintos es una red de concesionarios que lleva algunos años operando en el mercado nacional, vendiendo vehículos de 2ª mano. La dirección quiere elaborar un modelo predictivo, utilizando Machine Learning, para saber una estimación del precio de un determinado vehículo y, poder optimizar la compraventa de coches.\n",
    "\n",
    "Por esto, el objetivo es tener una plataforma web donde poder saber el precio de un determinado vehículo, en base al precio de otros vehículos registrados en nuestra base de datos. Para ello, se utiliza una tabla con cerca de 50000 registros de vehículos de la base de datos de nuestra red de concesionarios.\n",
    "\n",
    "En este proyecto, se utilizarán modelos de Machine Learning para calcular el precio de un coche a partir de características como la marca, modelo, tipo de combustible, año, etc. Se trata, por tanto, de un problema de regresión. Se utilizará como métrica de optimización el Mean Squared Error (MSE), aunque también se analizarán otras métricas como el Mean Average Error (MAE)."
   ]
  },
  {
   "cell_type": "markdown",
   "metadata": {},
   "source": [
    "## 2. Obtención y procesado de datos."
   ]
  },
  {
   "cell_type": "markdown",
   "metadata": {},
   "source": [
    "Importamos los datos desde el siguiente link:\n",
    "\n",
    "[https://www.kaggle.com/datasets/datamarket/venta-de-coches](https://www.kaggle.com/datasets/datamarket/venta-de-coches)\n",
    "\n"
   ]
  },
  {
   "cell_type": "code",
   "execution_count": 1,
   "metadata": {},
   "outputs": [],
   "source": [
    "# Importamos las librerías necesarias\n",
    "\n",
    "import pandas as pd\n",
    "import numpy as np\n",
    "import matplotlib.pyplot as plt\n",
    "import seaborn as sns\n",
    "import pickle\n",
    "\n",
    "\n",
    "sns.set_style(\"darkgrid\")\n",
    "\n",
    "\n",
    "colors = [\"#d5001c\", \"#f59908\", \"#ffcb01\", \"#969696\"]"
   ]
  },
  {
   "cell_type": "code",
   "execution_count": 2,
   "metadata": {},
   "outputs": [
    {
     "data": {
      "text/html": [
       "<div>\n",
       "<style scoped>\n",
       "    .dataframe tbody tr th:only-of-type {\n",
       "        vertical-align: middle;\n",
       "    }\n",
       "\n",
       "    .dataframe tbody tr th {\n",
       "        vertical-align: top;\n",
       "    }\n",
       "\n",
       "    .dataframe thead th {\n",
       "        text-align: right;\n",
       "    }\n",
       "</style>\n",
       "<table border=\"1\" class=\"dataframe\">\n",
       "  <thead>\n",
       "    <tr style=\"text-align: right;\">\n",
       "      <th></th>\n",
       "      <th>url</th>\n",
       "      <th>company</th>\n",
       "      <th>make</th>\n",
       "      <th>model</th>\n",
       "      <th>version</th>\n",
       "      <th>price</th>\n",
       "      <th>price_financed</th>\n",
       "      <th>fuel</th>\n",
       "      <th>year</th>\n",
       "      <th>kms</th>\n",
       "      <th>...</th>\n",
       "      <th>doors</th>\n",
       "      <th>shift</th>\n",
       "      <th>color</th>\n",
       "      <th>photos</th>\n",
       "      <th>is_professional</th>\n",
       "      <th>dealer</th>\n",
       "      <th>province</th>\n",
       "      <th>country</th>\n",
       "      <th>publish_date</th>\n",
       "      <th>insert_date</th>\n",
       "    </tr>\n",
       "  </thead>\n",
       "  <tbody>\n",
       "    <tr>\n",
       "      <th>0</th>\n",
       "      <td>e158ae0ca53119ca199c28c36b5c2fcd</td>\n",
       "      <td>9881bcdd5a0ad4733037b3fb25e69c3a</td>\n",
       "      <td>SEAT</td>\n",
       "      <td>Toledo</td>\n",
       "      <td>SEAT Toledo  4p.</td>\n",
       "      <td>950</td>\n",
       "      <td>NaN</td>\n",
       "      <td>Diésel</td>\n",
       "      <td>2000.0</td>\n",
       "      <td>227000</td>\n",
       "      <td>...</td>\n",
       "      <td>4</td>\n",
       "      <td>Manual</td>\n",
       "      <td>Verde</td>\n",
       "      <td>5</td>\n",
       "      <td>False</td>\n",
       "      <td>0f4bb8455d27349b8273109b66a847f3</td>\n",
       "      <td>Navarra</td>\n",
       "      <td>Spain</td>\n",
       "      <td>2020-12-18 10:47:13</td>\n",
       "      <td>2021-01-15 00:00:00</td>\n",
       "    </tr>\n",
       "    <tr>\n",
       "      <th>1</th>\n",
       "      <td>ff267ebb7e700246f47f84f3db660b4b</td>\n",
       "      <td>9881bcdd5a0ad4733037b3fb25e69c3a</td>\n",
       "      <td>CITROEN</td>\n",
       "      <td>C1</td>\n",
       "      <td>CITROEN C1 PureTech 60KW 82CV Feel 5p.</td>\n",
       "      <td>6200</td>\n",
       "      <td>NaN</td>\n",
       "      <td>Gasolina</td>\n",
       "      <td>2017.0</td>\n",
       "      <td>50071</td>\n",
       "      <td>...</td>\n",
       "      <td>5</td>\n",
       "      <td>Manual</td>\n",
       "      <td>Blanco</td>\n",
       "      <td>6</td>\n",
       "      <td>True</td>\n",
       "      <td>Autos Raymara</td>\n",
       "      <td>Tenerife</td>\n",
       "      <td>Spain</td>\n",
       "      <td>2021-01-02 11:25:40</td>\n",
       "      <td>2021-01-15 00:00:00</td>\n",
       "    </tr>\n",
       "    <tr>\n",
       "      <th>2</th>\n",
       "      <td>de4b02db28ea7786c622b969be10c7c7</td>\n",
       "      <td>9881bcdd5a0ad4733037b3fb25e69c3a</td>\n",
       "      <td>FORD</td>\n",
       "      <td>Transit Connect</td>\n",
       "      <td>FORD Transit Connect Van 1.5 TDCi 100cv Ambien...</td>\n",
       "      <td>7851</td>\n",
       "      <td>7024.0</td>\n",
       "      <td>Diésel</td>\n",
       "      <td>2016.0</td>\n",
       "      <td>103000</td>\n",
       "      <td>...</td>\n",
       "      <td>4</td>\n",
       "      <td>Manual</td>\n",
       "      <td>Blanco</td>\n",
       "      <td>10</td>\n",
       "      <td>True</td>\n",
       "      <td>Auto 96</td>\n",
       "      <td>Barcelona</td>\n",
       "      <td>Spain</td>\n",
       "      <td>2020-12-16 10:51:45</td>\n",
       "      <td>2021-01-15 00:00:00</td>\n",
       "    </tr>\n",
       "    <tr>\n",
       "      <th>3</th>\n",
       "      <td>0449972a4d07594acf92e9a7dd28b39c</td>\n",
       "      <td>9881bcdd5a0ad4733037b3fb25e69c3a</td>\n",
       "      <td>VOLKSWAGEN</td>\n",
       "      <td>Caravelle</td>\n",
       "      <td>VOLKSWAGEN Caravelle Largo 2.0 TDI 140 Comfort...</td>\n",
       "      <td>19426</td>\n",
       "      <td>NaN</td>\n",
       "      <td>Diésel</td>\n",
       "      <td>2014.0</td>\n",
       "      <td>120000</td>\n",
       "      <td>...</td>\n",
       "      <td>4</td>\n",
       "      <td>Manual</td>\n",
       "      <td>Blanco</td>\n",
       "      <td>9</td>\n",
       "      <td>True</td>\n",
       "      <td>Inniauto</td>\n",
       "      <td>Navarra</td>\n",
       "      <td>Spain</td>\n",
       "      <td>2020-11-25 11:09:14</td>\n",
       "      <td>2021-01-15 00:00:00</td>\n",
       "    </tr>\n",
       "    <tr>\n",
       "      <th>4</th>\n",
       "      <td>12c4fa49bd4fdf23f19ecf396d3f02ef</td>\n",
       "      <td>9881bcdd5a0ad4733037b3fb25e69c3a</td>\n",
       "      <td>FORD</td>\n",
       "      <td>Transit</td>\n",
       "      <td>FORD Transit 350 96kW L4 Ambiente Propulsion T...</td>\n",
       "      <td>22850</td>\n",
       "      <td>22800.0</td>\n",
       "      <td>Diésel</td>\n",
       "      <td>2017.0</td>\n",
       "      <td>107000</td>\n",
       "      <td>...</td>\n",
       "      <td>2</td>\n",
       "      <td>Manual</td>\n",
       "      <td>Blanco</td>\n",
       "      <td>4</td>\n",
       "      <td>True</td>\n",
       "      <td>Autofleet España,s.l</td>\n",
       "      <td>Sevilla</td>\n",
       "      <td>Spain</td>\n",
       "      <td>2021-01-12 20:00:34</td>\n",
       "      <td>2021-01-15 00:00:00</td>\n",
       "    </tr>\n",
       "    <tr>\n",
       "      <th>...</th>\n",
       "      <td>...</td>\n",
       "      <td>...</td>\n",
       "      <td>...</td>\n",
       "      <td>...</td>\n",
       "      <td>...</td>\n",
       "      <td>...</td>\n",
       "      <td>...</td>\n",
       "      <td>...</td>\n",
       "      <td>...</td>\n",
       "      <td>...</td>\n",
       "      <td>...</td>\n",
       "      <td>...</td>\n",
       "      <td>...</td>\n",
       "      <td>...</td>\n",
       "      <td>...</td>\n",
       "      <td>...</td>\n",
       "      <td>...</td>\n",
       "      <td>...</td>\n",
       "      <td>...</td>\n",
       "      <td>...</td>\n",
       "      <td>...</td>\n",
       "    </tr>\n",
       "    <tr>\n",
       "      <th>49995</th>\n",
       "      <td>730210734bfbe1d3df878d5df71246f2</td>\n",
       "      <td>9881bcdd5a0ad4733037b3fb25e69c3a</td>\n",
       "      <td>HYUNDAI</td>\n",
       "      <td>i30</td>\n",
       "      <td>HYUNDAI i30 1.4 TGDI Tecno Fastback DCT 5p.</td>\n",
       "      <td>18490</td>\n",
       "      <td>16490.0</td>\n",
       "      <td>Gasolina</td>\n",
       "      <td>2018.0</td>\n",
       "      <td>47000</td>\n",
       "      <td>...</td>\n",
       "      <td>5</td>\n",
       "      <td>Automático</td>\n",
       "      <td>Gris / Plata</td>\n",
       "      <td>26</td>\n",
       "      <td>True</td>\n",
       "      <td>Flexicar Málaga</td>\n",
       "      <td>Málaga</td>\n",
       "      <td>Spain</td>\n",
       "      <td>2020-11-24 19:59:52</td>\n",
       "      <td>2021-01-15 00:00:00</td>\n",
       "    </tr>\n",
       "    <tr>\n",
       "      <th>49996</th>\n",
       "      <td>732b04fb47dd9559dbdcd099c5af484e</td>\n",
       "      <td>9881bcdd5a0ad4733037b3fb25e69c3a</td>\n",
       "      <td>RENAULT</td>\n",
       "      <td>Laguna</td>\n",
       "      <td>RENAULT Laguna Coupe Limited 2.0 Energy dCi 15...</td>\n",
       "      <td>14500</td>\n",
       "      <td>13551.0</td>\n",
       "      <td>Diésel</td>\n",
       "      <td>2015.0</td>\n",
       "      <td>68750</td>\n",
       "      <td>...</td>\n",
       "      <td>2</td>\n",
       "      <td>Manual</td>\n",
       "      <td>KNG Gris Casiopea (metalizado)</td>\n",
       "      <td>30</td>\n",
       "      <td>True</td>\n",
       "      <td>Ocasion Plus</td>\n",
       "      <td>Málaga</td>\n",
       "      <td>Spain</td>\n",
       "      <td>2021-01-13 17:02:41</td>\n",
       "      <td>2021-01-15 00:00:00</td>\n",
       "    </tr>\n",
       "    <tr>\n",
       "      <th>49997</th>\n",
       "      <td>c10afb53957fb8012707239bdfa66018</td>\n",
       "      <td>9881bcdd5a0ad4733037b3fb25e69c3a</td>\n",
       "      <td>PEUGEOT</td>\n",
       "      <td>108</td>\n",
       "      <td>PEUGEOT 108 TOP Allure VTi 52kW 72CV 5p.</td>\n",
       "      <td>11000</td>\n",
       "      <td>9000.0</td>\n",
       "      <td>Gasolina</td>\n",
       "      <td>2019.0</td>\n",
       "      <td>21422</td>\n",
       "      <td>...</td>\n",
       "      <td>5</td>\n",
       "      <td>Manual</td>\n",
       "      <td>Gris / Plata</td>\n",
       "      <td>17</td>\n",
       "      <td>True</td>\n",
       "      <td>Psa Retail Huelva</td>\n",
       "      <td>Huelva</td>\n",
       "      <td>Spain</td>\n",
       "      <td>2021-01-08 16:47:24</td>\n",
       "      <td>2021-01-15 00:00:00</td>\n",
       "    </tr>\n",
       "    <tr>\n",
       "      <th>49998</th>\n",
       "      <td>f74363a6688ba11b71b4d980a959b8d3</td>\n",
       "      <td>9881bcdd5a0ad4733037b3fb25e69c3a</td>\n",
       "      <td>AUDI</td>\n",
       "      <td>RS4</td>\n",
       "      <td>AUDI RS4 Avant 4.2 FSI 450cv quattro 5p.</td>\n",
       "      <td>47900</td>\n",
       "      <td>NaN</td>\n",
       "      <td>Gasolina</td>\n",
       "      <td>2013.0</td>\n",
       "      <td>47900</td>\n",
       "      <td>...</td>\n",
       "      <td>5</td>\n",
       "      <td>Automático</td>\n",
       "      <td>Gris / Plata (Antracita)</td>\n",
       "      <td>20</td>\n",
       "      <td>True</td>\n",
       "      <td>Codigocar Lugo</td>\n",
       "      <td>Lugo</td>\n",
       "      <td>Spain</td>\n",
       "      <td>2021-01-13 16:22:53</td>\n",
       "      <td>2021-01-15 00:00:00</td>\n",
       "    </tr>\n",
       "    <tr>\n",
       "      <th>49999</th>\n",
       "      <td>3d60801ccb96ef038747130e8a34ceda</td>\n",
       "      <td>9881bcdd5a0ad4733037b3fb25e69c3a</td>\n",
       "      <td>CITROEN</td>\n",
       "      <td>C2</td>\n",
       "      <td>CITROEN C2 1.4 HDI VTR Plus 3p.</td>\n",
       "      <td>2790</td>\n",
       "      <td>NaN</td>\n",
       "      <td>Diésel</td>\n",
       "      <td>2006.0</td>\n",
       "      <td>106000</td>\n",
       "      <td>...</td>\n",
       "      <td>3</td>\n",
       "      <td>Manual</td>\n",
       "      <td>Negro</td>\n",
       "      <td>21</td>\n",
       "      <td>True</td>\n",
       "      <td>AUTOVALENCIA 19</td>\n",
       "      <td>Barcelona</td>\n",
       "      <td>Spain</td>\n",
       "      <td>2021-01-10 16:32:41</td>\n",
       "      <td>2021-01-15 00:00:00</td>\n",
       "    </tr>\n",
       "  </tbody>\n",
       "</table>\n",
       "<p>50000 rows × 21 columns</p>\n",
       "</div>"
      ],
      "text/plain": [
       "                                    url                           company  \\\n",
       "0      e158ae0ca53119ca199c28c36b5c2fcd  9881bcdd5a0ad4733037b3fb25e69c3a   \n",
       "1      ff267ebb7e700246f47f84f3db660b4b  9881bcdd5a0ad4733037b3fb25e69c3a   \n",
       "2      de4b02db28ea7786c622b969be10c7c7  9881bcdd5a0ad4733037b3fb25e69c3a   \n",
       "3      0449972a4d07594acf92e9a7dd28b39c  9881bcdd5a0ad4733037b3fb25e69c3a   \n",
       "4      12c4fa49bd4fdf23f19ecf396d3f02ef  9881bcdd5a0ad4733037b3fb25e69c3a   \n",
       "...                                 ...                               ...   \n",
       "49995  730210734bfbe1d3df878d5df71246f2  9881bcdd5a0ad4733037b3fb25e69c3a   \n",
       "49996  732b04fb47dd9559dbdcd099c5af484e  9881bcdd5a0ad4733037b3fb25e69c3a   \n",
       "49997  c10afb53957fb8012707239bdfa66018  9881bcdd5a0ad4733037b3fb25e69c3a   \n",
       "49998  f74363a6688ba11b71b4d980a959b8d3  9881bcdd5a0ad4733037b3fb25e69c3a   \n",
       "49999  3d60801ccb96ef038747130e8a34ceda  9881bcdd5a0ad4733037b3fb25e69c3a   \n",
       "\n",
       "             make            model  \\\n",
       "0            SEAT           Toledo   \n",
       "1         CITROEN               C1   \n",
       "2            FORD  Transit Connect   \n",
       "3      VOLKSWAGEN        Caravelle   \n",
       "4            FORD          Transit   \n",
       "...           ...              ...   \n",
       "49995     HYUNDAI              i30   \n",
       "49996     RENAULT           Laguna   \n",
       "49997     PEUGEOT              108   \n",
       "49998        AUDI              RS4   \n",
       "49999     CITROEN               C2   \n",
       "\n",
       "                                                 version  price  \\\n",
       "0                                       SEAT Toledo  4p.    950   \n",
       "1                 CITROEN C1 PureTech 60KW 82CV Feel 5p.   6200   \n",
       "2      FORD Transit Connect Van 1.5 TDCi 100cv Ambien...   7851   \n",
       "3      VOLKSWAGEN Caravelle Largo 2.0 TDI 140 Comfort...  19426   \n",
       "4      FORD Transit 350 96kW L4 Ambiente Propulsion T...  22850   \n",
       "...                                                  ...    ...   \n",
       "49995        HYUNDAI i30 1.4 TGDI Tecno Fastback DCT 5p.  18490   \n",
       "49996  RENAULT Laguna Coupe Limited 2.0 Energy dCi 15...  14500   \n",
       "49997           PEUGEOT 108 TOP Allure VTi 52kW 72CV 5p.  11000   \n",
       "49998           AUDI RS4 Avant 4.2 FSI 450cv quattro 5p.  47900   \n",
       "49999                    CITROEN C2 1.4 HDI VTR Plus 3p.   2790   \n",
       "\n",
       "       price_financed      fuel    year     kms  ...  doors       shift  \\\n",
       "0                 NaN    Diésel  2000.0  227000  ...      4      Manual   \n",
       "1                 NaN  Gasolina  2017.0   50071  ...      5      Manual   \n",
       "2              7024.0    Diésel  2016.0  103000  ...      4      Manual   \n",
       "3                 NaN    Diésel  2014.0  120000  ...      4      Manual   \n",
       "4             22800.0    Diésel  2017.0  107000  ...      2      Manual   \n",
       "...               ...       ...     ...     ...  ...    ...         ...   \n",
       "49995         16490.0  Gasolina  2018.0   47000  ...      5  Automático   \n",
       "49996         13551.0    Diésel  2015.0   68750  ...      2      Manual   \n",
       "49997          9000.0  Gasolina  2019.0   21422  ...      5      Manual   \n",
       "49998             NaN  Gasolina  2013.0   47900  ...      5  Automático   \n",
       "49999             NaN    Diésel  2006.0  106000  ...      3      Manual   \n",
       "\n",
       "                                color photos  is_professional  \\\n",
       "0                               Verde      5            False   \n",
       "1                              Blanco      6             True   \n",
       "2                              Blanco     10             True   \n",
       "3                              Blanco      9             True   \n",
       "4                              Blanco      4             True   \n",
       "...                               ...    ...              ...   \n",
       "49995                    Gris / Plata     26             True   \n",
       "49996  KNG Gris Casiopea (metalizado)     30             True   \n",
       "49997                    Gris / Plata     17             True   \n",
       "49998        Gris / Plata (Antracita)     20             True   \n",
       "49999                           Negro     21             True   \n",
       "\n",
       "                                 dealer   province country  \\\n",
       "0      0f4bb8455d27349b8273109b66a847f3    Navarra   Spain   \n",
       "1                         Autos Raymara   Tenerife   Spain   \n",
       "2                               Auto 96  Barcelona   Spain   \n",
       "3                              Inniauto    Navarra   Spain   \n",
       "4                  Autofleet España,s.l    Sevilla   Spain   \n",
       "...                                 ...        ...     ...   \n",
       "49995                   Flexicar Málaga     Málaga   Spain   \n",
       "49996                      Ocasion Plus     Málaga   Spain   \n",
       "49997                 Psa Retail Huelva     Huelva   Spain   \n",
       "49998                    Codigocar Lugo       Lugo   Spain   \n",
       "49999                   AUTOVALENCIA 19  Barcelona   Spain   \n",
       "\n",
       "              publish_date          insert_date  \n",
       "0      2020-12-18 10:47:13  2021-01-15 00:00:00  \n",
       "1      2021-01-02 11:25:40  2021-01-15 00:00:00  \n",
       "2      2020-12-16 10:51:45  2021-01-15 00:00:00  \n",
       "3      2020-11-25 11:09:14  2021-01-15 00:00:00  \n",
       "4      2021-01-12 20:00:34  2021-01-15 00:00:00  \n",
       "...                    ...                  ...  \n",
       "49995  2020-11-24 19:59:52  2021-01-15 00:00:00  \n",
       "49996  2021-01-13 17:02:41  2021-01-15 00:00:00  \n",
       "49997  2021-01-08 16:47:24  2021-01-15 00:00:00  \n",
       "49998  2021-01-13 16:22:53  2021-01-15 00:00:00  \n",
       "49999  2021-01-10 16:32:41  2021-01-15 00:00:00  \n",
       "\n",
       "[50000 rows x 21 columns]"
      ]
     },
     "execution_count": 2,
     "metadata": {},
     "output_type": "execute_result"
    }
   ],
   "source": [
    "df = pd.read_csv(\"../data/raw/coches-de-segunda-mano-sample.csv\")\n",
    "df"
   ]
  },
  {
   "cell_type": "code",
   "execution_count": 3,
   "metadata": {},
   "outputs": [
    {
     "name": "stdout",
     "output_type": "stream",
     "text": [
      "<class 'pandas.core.frame.DataFrame'>\n",
      "RangeIndex: 50000 entries, 0 to 49999\n",
      "Data columns (total 21 columns):\n",
      " #   Column           Non-Null Count  Dtype  \n",
      "---  ------           --------------  -----  \n",
      " 0   url              50000 non-null  object \n",
      " 1   company          50000 non-null  object \n",
      " 2   make             49998 non-null  object \n",
      " 3   model            49995 non-null  object \n",
      " 4   version          50000 non-null  object \n",
      " 5   price            50000 non-null  int64  \n",
      " 6   price_financed   23563 non-null  float64\n",
      " 7   fuel             49954 non-null  object \n",
      " 8   year             49998 non-null  float64\n",
      " 9   kms              50000 non-null  int64  \n",
      " 10  power            41472 non-null  float64\n",
      " 11  doors            50000 non-null  int64  \n",
      " 12  shift            49889 non-null  object \n",
      " 13  color            49406 non-null  object \n",
      " 14  photos           50000 non-null  int64  \n",
      " 15  is_professional  50000 non-null  bool   \n",
      " 16  dealer           50000 non-null  object \n",
      " 17  province         49994 non-null  object \n",
      " 18  country          50000 non-null  object \n",
      " 19  publish_date     50000 non-null  object \n",
      " 20  insert_date      50000 non-null  object \n",
      "dtypes: bool(1), float64(3), int64(4), object(13)\n",
      "memory usage: 7.7+ MB\n"
     ]
    }
   ],
   "source": [
    "df.info()"
   ]
  },
  {
   "cell_type": "markdown",
   "metadata": {},
   "source": [
    "Vemos que el DataFrame se compone de 21 columnas, de las cuales, muchas de ellas son de tipo string. Además, contienen valores nulos, por lo que, a continuación, haremos un procesado de estas columnas.\n",
    "\n",
    "La columna target u objetivo a predecir, es la columna llamada ```\"price\"```, por lo que eliminaremos la columna ```\"price_financed\"```, ya que contiene muchos valores nulos y no es la variable que queremos predecir."
   ]
  },
  {
   "cell_type": "code",
   "execution_count": 4,
   "metadata": {},
   "outputs": [
    {
     "name": "stdout",
     "output_type": "stream",
     "text": [
      "<class 'pandas.core.frame.DataFrame'>\n",
      "RangeIndex: 50000 entries, 0 to 49999\n",
      "Data columns (total 20 columns):\n",
      " #   Column           Non-Null Count  Dtype  \n",
      "---  ------           --------------  -----  \n",
      " 0   url              50000 non-null  object \n",
      " 1   company          50000 non-null  object \n",
      " 2   make             49998 non-null  object \n",
      " 3   model            49995 non-null  object \n",
      " 4   version          50000 non-null  object \n",
      " 5   price            50000 non-null  int64  \n",
      " 6   fuel             49954 non-null  object \n",
      " 7   year             49998 non-null  float64\n",
      " 8   kms              50000 non-null  int64  \n",
      " 9   power            41472 non-null  float64\n",
      " 10  doors            50000 non-null  int64  \n",
      " 11  shift            49889 non-null  object \n",
      " 12  color            49406 non-null  object \n",
      " 13  photos           50000 non-null  int64  \n",
      " 14  is_professional  50000 non-null  bool   \n",
      " 15  dealer           50000 non-null  object \n",
      " 16  province         49994 non-null  object \n",
      " 17  country          50000 non-null  object \n",
      " 18  publish_date     50000 non-null  object \n",
      " 19  insert_date      50000 non-null  object \n",
      "dtypes: bool(1), float64(2), int64(4), object(13)\n",
      "memory usage: 7.3+ MB\n"
     ]
    }
   ],
   "source": [
    "df = df.drop(columns=\"price_financed\")\n",
    "df.info()"
   ]
  },
  {
   "cell_type": "markdown",
   "metadata": {},
   "source": [
    "Vamos a eliminar también las columnas de tipo ```str```: ```['url', 'company', 'dealer', 'province', 'country', 'publish_date', 'insert_date']```, ya que tampoco aportan información para el modelo."
   ]
  },
  {
   "cell_type": "code",
   "execution_count": 5,
   "metadata": {},
   "outputs": [
    {
     "name": "stdout",
     "output_type": "stream",
     "text": [
      "<class 'pandas.core.frame.DataFrame'>\n",
      "RangeIndex: 50000 entries, 0 to 49999\n",
      "Data columns (total 13 columns):\n",
      " #   Column           Non-Null Count  Dtype  \n",
      "---  ------           --------------  -----  \n",
      " 0   make             49998 non-null  object \n",
      " 1   model            49995 non-null  object \n",
      " 2   version          50000 non-null  object \n",
      " 3   price            50000 non-null  int64  \n",
      " 4   fuel             49954 non-null  object \n",
      " 5   year             49998 non-null  float64\n",
      " 6   kms              50000 non-null  int64  \n",
      " 7   power            41472 non-null  float64\n",
      " 8   doors            50000 non-null  int64  \n",
      " 9   shift            49889 non-null  object \n",
      " 10  color            49406 non-null  object \n",
      " 11  photos           50000 non-null  int64  \n",
      " 12  is_professional  50000 non-null  bool   \n",
      "dtypes: bool(1), float64(2), int64(4), object(6)\n",
      "memory usage: 4.6+ MB\n"
     ]
    }
   ],
   "source": [
    "df = df.drop(columns=[\"url\", \"company\", 'dealer', 'province', 'country', 'publish_date', 'insert_date'])\n",
    "df.info()"
   ]
  },
  {
   "cell_type": "code",
   "execution_count": 6,
   "metadata": {},
   "outputs": [
    {
     "data": {
      "text/plain": [
       "power\n",
       "NaN      8528\n",
       "150.0    4223\n",
       "110.0    2325\n",
       "115.0    1903\n",
       "120.0    1867\n",
       "         ... \n",
       "52.0        1\n",
       "772.0       1\n",
       "263.0       1\n",
       "316.0       1\n",
       "57.0        1\n",
       "Name: count, Length: 348, dtype: int64"
      ]
     },
     "execution_count": 6,
     "metadata": {},
     "output_type": "execute_result"
    }
   ],
   "source": [
    "df[\"power\"].value_counts(dropna=False)"
   ]
  },
  {
   "cell_type": "markdown",
   "metadata": {},
   "source": [
    "En la columna ```\"power\"``` hay 8528 valores nulos. Vamos a eliminar las filas que no contienen este valor, ya que tenemos una cantidad de datos abundante y puede ser un parámetro sensible en el modelo, por lo que tratar de rellenar esos NaN por alguna métrica como la media, puede afectar negativamente."
   ]
  },
  {
   "cell_type": "code",
   "execution_count": 7,
   "metadata": {},
   "outputs": [
    {
     "data": {
      "text/html": [
       "<div>\n",
       "<style scoped>\n",
       "    .dataframe tbody tr th:only-of-type {\n",
       "        vertical-align: middle;\n",
       "    }\n",
       "\n",
       "    .dataframe tbody tr th {\n",
       "        vertical-align: top;\n",
       "    }\n",
       "\n",
       "    .dataframe thead th {\n",
       "        text-align: right;\n",
       "    }\n",
       "</style>\n",
       "<table border=\"1\" class=\"dataframe\">\n",
       "  <thead>\n",
       "    <tr style=\"text-align: right;\">\n",
       "      <th></th>\n",
       "      <th>make</th>\n",
       "      <th>model</th>\n",
       "      <th>version</th>\n",
       "      <th>price</th>\n",
       "      <th>fuel</th>\n",
       "      <th>year</th>\n",
       "      <th>kms</th>\n",
       "      <th>power</th>\n",
       "      <th>doors</th>\n",
       "      <th>shift</th>\n",
       "      <th>color</th>\n",
       "      <th>photos</th>\n",
       "      <th>is_professional</th>\n",
       "    </tr>\n",
       "  </thead>\n",
       "  <tbody>\n",
       "    <tr>\n",
       "      <th>0</th>\n",
       "      <td>SEAT</td>\n",
       "      <td>Toledo</td>\n",
       "      <td>SEAT Toledo  4p.</td>\n",
       "      <td>950</td>\n",
       "      <td>Diésel</td>\n",
       "      <td>2000.0</td>\n",
       "      <td>227000</td>\n",
       "      <td>NaN</td>\n",
       "      <td>4</td>\n",
       "      <td>Manual</td>\n",
       "      <td>Verde</td>\n",
       "      <td>5</td>\n",
       "      <td>False</td>\n",
       "    </tr>\n",
       "    <tr>\n",
       "      <th>11</th>\n",
       "      <td>VOLKSWAGEN</td>\n",
       "      <td>Golf</td>\n",
       "      <td>VOLKSWAGEN Golf  3p.</td>\n",
       "      <td>1700</td>\n",
       "      <td>Diésel</td>\n",
       "      <td>1990.0</td>\n",
       "      <td>350000</td>\n",
       "      <td>NaN</td>\n",
       "      <td>3</td>\n",
       "      <td>Manual</td>\n",
       "      <td>Rojo</td>\n",
       "      <td>4</td>\n",
       "      <td>False</td>\n",
       "    </tr>\n",
       "    <tr>\n",
       "      <th>16</th>\n",
       "      <td>BMW</td>\n",
       "      <td>Serie 3</td>\n",
       "      <td>BMW Serie 3  5p.</td>\n",
       "      <td>4200</td>\n",
       "      <td>Diésel</td>\n",
       "      <td>2005.0</td>\n",
       "      <td>240000</td>\n",
       "      <td>NaN</td>\n",
       "      <td>5</td>\n",
       "      <td>Automático</td>\n",
       "      <td>Gris / Plata</td>\n",
       "      <td>7</td>\n",
       "      <td>False</td>\n",
       "    </tr>\n",
       "    <tr>\n",
       "      <th>18</th>\n",
       "      <td>MAZDA</td>\n",
       "      <td>Mazda5</td>\n",
       "      <td>MAZDA</td>\n",
       "      <td>5100</td>\n",
       "      <td>Diésel</td>\n",
       "      <td>2009.0</td>\n",
       "      <td>189500</td>\n",
       "      <td>NaN</td>\n",
       "      <td>5</td>\n",
       "      <td>Manual</td>\n",
       "      <td>Negro</td>\n",
       "      <td>0</td>\n",
       "      <td>False</td>\n",
       "    </tr>\n",
       "    <tr>\n",
       "      <th>19</th>\n",
       "      <td>BMW</td>\n",
       "      <td>Serie 1</td>\n",
       "      <td>BMW</td>\n",
       "      <td>5900</td>\n",
       "      <td>Diésel</td>\n",
       "      <td>2009.0</td>\n",
       "      <td>129000</td>\n",
       "      <td>NaN</td>\n",
       "      <td>3</td>\n",
       "      <td>Manual</td>\n",
       "      <td>Marrón</td>\n",
       "      <td>0</td>\n",
       "      <td>False</td>\n",
       "    </tr>\n",
       "    <tr>\n",
       "      <th>...</th>\n",
       "      <td>...</td>\n",
       "      <td>...</td>\n",
       "      <td>...</td>\n",
       "      <td>...</td>\n",
       "      <td>...</td>\n",
       "      <td>...</td>\n",
       "      <td>...</td>\n",
       "      <td>...</td>\n",
       "      <td>...</td>\n",
       "      <td>...</td>\n",
       "      <td>...</td>\n",
       "      <td>...</td>\n",
       "      <td>...</td>\n",
       "    </tr>\n",
       "    <tr>\n",
       "      <th>49949</th>\n",
       "      <td>RENAULT</td>\n",
       "      <td>Mégane</td>\n",
       "      <td>RENAULT</td>\n",
       "      <td>1150</td>\n",
       "      <td>Gasolina</td>\n",
       "      <td>2001.0</td>\n",
       "      <td>252230</td>\n",
       "      <td>NaN</td>\n",
       "      <td>5</td>\n",
       "      <td>Manual</td>\n",
       "      <td>Verde</td>\n",
       "      <td>0</td>\n",
       "      <td>False</td>\n",
       "    </tr>\n",
       "    <tr>\n",
       "      <th>49965</th>\n",
       "      <td>VOLKSWAGEN</td>\n",
       "      <td>Polo</td>\n",
       "      <td>VOLKSWAGEN</td>\n",
       "      <td>1600</td>\n",
       "      <td>Gasolina</td>\n",
       "      <td>2005.0</td>\n",
       "      <td>199700</td>\n",
       "      <td>NaN</td>\n",
       "      <td>3</td>\n",
       "      <td>Manual</td>\n",
       "      <td>Gris / Plata</td>\n",
       "      <td>0</td>\n",
       "      <td>False</td>\n",
       "    </tr>\n",
       "    <tr>\n",
       "      <th>49968</th>\n",
       "      <td>MERCEDES-BENZ</td>\n",
       "      <td>Vito</td>\n",
       "      <td>MERCEDES-BENZ Vito  5p.</td>\n",
       "      <td>3200</td>\n",
       "      <td>Diésel</td>\n",
       "      <td>2002.0</td>\n",
       "      <td>260000</td>\n",
       "      <td>NaN</td>\n",
       "      <td>5</td>\n",
       "      <td>Manual</td>\n",
       "      <td>Azul</td>\n",
       "      <td>0</td>\n",
       "      <td>False</td>\n",
       "    </tr>\n",
       "    <tr>\n",
       "      <th>49975</th>\n",
       "      <td>OPEL</td>\n",
       "      <td>Astra</td>\n",
       "      <td>OPEL</td>\n",
       "      <td>750</td>\n",
       "      <td>Diésel</td>\n",
       "      <td>2001.0</td>\n",
       "      <td>210000</td>\n",
       "      <td>NaN</td>\n",
       "      <td>3</td>\n",
       "      <td>Manual</td>\n",
       "      <td>Blanco</td>\n",
       "      <td>0</td>\n",
       "      <td>False</td>\n",
       "    </tr>\n",
       "    <tr>\n",
       "      <th>49985</th>\n",
       "      <td>HYUNDAI</td>\n",
       "      <td>Accent</td>\n",
       "      <td>HYUNDAI Accent  5p.</td>\n",
       "      <td>500</td>\n",
       "      <td>Gasolina</td>\n",
       "      <td>2002.0</td>\n",
       "      <td>123000</td>\n",
       "      <td>NaN</td>\n",
       "      <td>5</td>\n",
       "      <td>Manual</td>\n",
       "      <td>Gris / Plata</td>\n",
       "      <td>6</td>\n",
       "      <td>False</td>\n",
       "    </tr>\n",
       "  </tbody>\n",
       "</table>\n",
       "<p>8528 rows × 13 columns</p>\n",
       "</div>"
      ],
      "text/plain": [
       "                make    model                  version  price      fuel  \\\n",
       "0               SEAT   Toledo         SEAT Toledo  4p.    950    Diésel   \n",
       "11        VOLKSWAGEN     Golf     VOLKSWAGEN Golf  3p.   1700    Diésel   \n",
       "16               BMW  Serie 3         BMW Serie 3  5p.   4200    Diésel   \n",
       "18             MAZDA   Mazda5                    MAZDA   5100    Diésel   \n",
       "19               BMW  Serie 1                      BMW   5900    Diésel   \n",
       "...              ...      ...                      ...    ...       ...   \n",
       "49949        RENAULT   Mégane                  RENAULT   1150  Gasolina   \n",
       "49965     VOLKSWAGEN     Polo               VOLKSWAGEN   1600  Gasolina   \n",
       "49968  MERCEDES-BENZ     Vito  MERCEDES-BENZ Vito  5p.   3200    Diésel   \n",
       "49975           OPEL    Astra                     OPEL    750    Diésel   \n",
       "49985        HYUNDAI   Accent      HYUNDAI Accent  5p.    500  Gasolina   \n",
       "\n",
       "         year     kms  power  doors       shift         color  photos  \\\n",
       "0      2000.0  227000    NaN      4      Manual         Verde       5   \n",
       "11     1990.0  350000    NaN      3      Manual          Rojo       4   \n",
       "16     2005.0  240000    NaN      5  Automático  Gris / Plata       7   \n",
       "18     2009.0  189500    NaN      5      Manual         Negro       0   \n",
       "19     2009.0  129000    NaN      3      Manual        Marrón       0   \n",
       "...       ...     ...    ...    ...         ...           ...     ...   \n",
       "49949  2001.0  252230    NaN      5      Manual         Verde       0   \n",
       "49965  2005.0  199700    NaN      3      Manual  Gris / Plata       0   \n",
       "49968  2002.0  260000    NaN      5      Manual          Azul       0   \n",
       "49975  2001.0  210000    NaN      3      Manual        Blanco       0   \n",
       "49985  2002.0  123000    NaN      5      Manual  Gris / Plata       6   \n",
       "\n",
       "       is_professional  \n",
       "0                False  \n",
       "11               False  \n",
       "16               False  \n",
       "18               False  \n",
       "19               False  \n",
       "...                ...  \n",
       "49949            False  \n",
       "49965            False  \n",
       "49968            False  \n",
       "49975            False  \n",
       "49985            False  \n",
       "\n",
       "[8528 rows x 13 columns]"
      ]
     },
     "execution_count": 7,
     "metadata": {},
     "output_type": "execute_result"
    }
   ],
   "source": [
    "df.loc[df.loc[:, \"power\"].isna() == True, :]"
   ]
  },
  {
   "cell_type": "code",
   "execution_count": 8,
   "metadata": {},
   "outputs": [
    {
     "data": {
      "text/html": [
       "<div>\n",
       "<style scoped>\n",
       "    .dataframe tbody tr th:only-of-type {\n",
       "        vertical-align: middle;\n",
       "    }\n",
       "\n",
       "    .dataframe tbody tr th {\n",
       "        vertical-align: top;\n",
       "    }\n",
       "\n",
       "    .dataframe thead th {\n",
       "        text-align: right;\n",
       "    }\n",
       "</style>\n",
       "<table border=\"1\" class=\"dataframe\">\n",
       "  <thead>\n",
       "    <tr style=\"text-align: right;\">\n",
       "      <th></th>\n",
       "      <th>make</th>\n",
       "      <th>model</th>\n",
       "      <th>version</th>\n",
       "      <th>price</th>\n",
       "      <th>fuel</th>\n",
       "      <th>year</th>\n",
       "      <th>kms</th>\n",
       "      <th>power</th>\n",
       "      <th>doors</th>\n",
       "      <th>shift</th>\n",
       "      <th>color</th>\n",
       "      <th>photos</th>\n",
       "      <th>is_professional</th>\n",
       "    </tr>\n",
       "  </thead>\n",
       "  <tbody>\n",
       "    <tr>\n",
       "      <th>1</th>\n",
       "      <td>CITROEN</td>\n",
       "      <td>C1</td>\n",
       "      <td>CITROEN C1 PureTech 60KW 82CV Feel 5p.</td>\n",
       "      <td>6200</td>\n",
       "      <td>Gasolina</td>\n",
       "      <td>2017.0</td>\n",
       "      <td>50071</td>\n",
       "      <td>82.0</td>\n",
       "      <td>5</td>\n",
       "      <td>Manual</td>\n",
       "      <td>Blanco</td>\n",
       "      <td>6</td>\n",
       "      <td>True</td>\n",
       "    </tr>\n",
       "    <tr>\n",
       "      <th>2</th>\n",
       "      <td>FORD</td>\n",
       "      <td>Transit Connect</td>\n",
       "      <td>FORD Transit Connect Van 1.5 TDCi 100cv Ambien...</td>\n",
       "      <td>7851</td>\n",
       "      <td>Diésel</td>\n",
       "      <td>2016.0</td>\n",
       "      <td>103000</td>\n",
       "      <td>100.0</td>\n",
       "      <td>4</td>\n",
       "      <td>Manual</td>\n",
       "      <td>Blanco</td>\n",
       "      <td>10</td>\n",
       "      <td>True</td>\n",
       "    </tr>\n",
       "    <tr>\n",
       "      <th>3</th>\n",
       "      <td>VOLKSWAGEN</td>\n",
       "      <td>Caravelle</td>\n",
       "      <td>VOLKSWAGEN Caravelle Largo 2.0 TDI 140 Comfort...</td>\n",
       "      <td>19426</td>\n",
       "      <td>Diésel</td>\n",
       "      <td>2014.0</td>\n",
       "      <td>120000</td>\n",
       "      <td>140.0</td>\n",
       "      <td>4</td>\n",
       "      <td>Manual</td>\n",
       "      <td>Blanco</td>\n",
       "      <td>9</td>\n",
       "      <td>True</td>\n",
       "    </tr>\n",
       "    <tr>\n",
       "      <th>4</th>\n",
       "      <td>FORD</td>\n",
       "      <td>Transit</td>\n",
       "      <td>FORD Transit 350 96kW L4 Ambiente Propulsion T...</td>\n",
       "      <td>22850</td>\n",
       "      <td>Diésel</td>\n",
       "      <td>2017.0</td>\n",
       "      <td>107000</td>\n",
       "      <td>130.0</td>\n",
       "      <td>2</td>\n",
       "      <td>Manual</td>\n",
       "      <td>Blanco</td>\n",
       "      <td>4</td>\n",
       "      <td>True</td>\n",
       "    </tr>\n",
       "    <tr>\n",
       "      <th>5</th>\n",
       "      <td>PEUGEOT</td>\n",
       "      <td>3008</td>\n",
       "      <td>PEUGEOT 3008 Style 1.2 PureTech 130 SS 5p.</td>\n",
       "      <td>11490</td>\n",
       "      <td>Gasolina</td>\n",
       "      <td>2016.0</td>\n",
       "      <td>78665</td>\n",
       "      <td>130.0</td>\n",
       "      <td>5</td>\n",
       "      <td>Manual</td>\n",
       "      <td>Blanco</td>\n",
       "      <td>32</td>\n",
       "      <td>True</td>\n",
       "    </tr>\n",
       "    <tr>\n",
       "      <th>...</th>\n",
       "      <td>...</td>\n",
       "      <td>...</td>\n",
       "      <td>...</td>\n",
       "      <td>...</td>\n",
       "      <td>...</td>\n",
       "      <td>...</td>\n",
       "      <td>...</td>\n",
       "      <td>...</td>\n",
       "      <td>...</td>\n",
       "      <td>...</td>\n",
       "      <td>...</td>\n",
       "      <td>...</td>\n",
       "      <td>...</td>\n",
       "    </tr>\n",
       "    <tr>\n",
       "      <th>49995</th>\n",
       "      <td>HYUNDAI</td>\n",
       "      <td>i30</td>\n",
       "      <td>HYUNDAI i30 1.4 TGDI Tecno Fastback DCT 5p.</td>\n",
       "      <td>18490</td>\n",
       "      <td>Gasolina</td>\n",
       "      <td>2018.0</td>\n",
       "      <td>47000</td>\n",
       "      <td>140.0</td>\n",
       "      <td>5</td>\n",
       "      <td>Automático</td>\n",
       "      <td>Gris / Plata</td>\n",
       "      <td>26</td>\n",
       "      <td>True</td>\n",
       "    </tr>\n",
       "    <tr>\n",
       "      <th>49996</th>\n",
       "      <td>RENAULT</td>\n",
       "      <td>Laguna</td>\n",
       "      <td>RENAULT Laguna Coupe Limited 2.0 Energy dCi 15...</td>\n",
       "      <td>14500</td>\n",
       "      <td>Diésel</td>\n",
       "      <td>2015.0</td>\n",
       "      <td>68750</td>\n",
       "      <td>150.0</td>\n",
       "      <td>2</td>\n",
       "      <td>Manual</td>\n",
       "      <td>KNG Gris Casiopea (metalizado)</td>\n",
       "      <td>30</td>\n",
       "      <td>True</td>\n",
       "    </tr>\n",
       "    <tr>\n",
       "      <th>49997</th>\n",
       "      <td>PEUGEOT</td>\n",
       "      <td>108</td>\n",
       "      <td>PEUGEOT 108 TOP Allure VTi 52kW 72CV 5p.</td>\n",
       "      <td>11000</td>\n",
       "      <td>Gasolina</td>\n",
       "      <td>2019.0</td>\n",
       "      <td>21422</td>\n",
       "      <td>72.0</td>\n",
       "      <td>5</td>\n",
       "      <td>Manual</td>\n",
       "      <td>Gris / Plata</td>\n",
       "      <td>17</td>\n",
       "      <td>True</td>\n",
       "    </tr>\n",
       "    <tr>\n",
       "      <th>49998</th>\n",
       "      <td>AUDI</td>\n",
       "      <td>RS4</td>\n",
       "      <td>AUDI RS4 Avant 4.2 FSI 450cv quattro 5p.</td>\n",
       "      <td>47900</td>\n",
       "      <td>Gasolina</td>\n",
       "      <td>2013.0</td>\n",
       "      <td>47900</td>\n",
       "      <td>450.0</td>\n",
       "      <td>5</td>\n",
       "      <td>Automático</td>\n",
       "      <td>Gris / Plata (Antracita)</td>\n",
       "      <td>20</td>\n",
       "      <td>True</td>\n",
       "    </tr>\n",
       "    <tr>\n",
       "      <th>49999</th>\n",
       "      <td>CITROEN</td>\n",
       "      <td>C2</td>\n",
       "      <td>CITROEN C2 1.4 HDI VTR Plus 3p.</td>\n",
       "      <td>2790</td>\n",
       "      <td>Diésel</td>\n",
       "      <td>2006.0</td>\n",
       "      <td>106000</td>\n",
       "      <td>70.0</td>\n",
       "      <td>3</td>\n",
       "      <td>Manual</td>\n",
       "      <td>Negro</td>\n",
       "      <td>21</td>\n",
       "      <td>True</td>\n",
       "    </tr>\n",
       "  </tbody>\n",
       "</table>\n",
       "<p>41472 rows × 13 columns</p>\n",
       "</div>"
      ],
      "text/plain": [
       "             make            model  \\\n",
       "1         CITROEN               C1   \n",
       "2            FORD  Transit Connect   \n",
       "3      VOLKSWAGEN        Caravelle   \n",
       "4            FORD          Transit   \n",
       "5         PEUGEOT             3008   \n",
       "...           ...              ...   \n",
       "49995     HYUNDAI              i30   \n",
       "49996     RENAULT           Laguna   \n",
       "49997     PEUGEOT              108   \n",
       "49998        AUDI              RS4   \n",
       "49999     CITROEN               C2   \n",
       "\n",
       "                                                 version  price      fuel  \\\n",
       "1                 CITROEN C1 PureTech 60KW 82CV Feel 5p.   6200  Gasolina   \n",
       "2      FORD Transit Connect Van 1.5 TDCi 100cv Ambien...   7851    Diésel   \n",
       "3      VOLKSWAGEN Caravelle Largo 2.0 TDI 140 Comfort...  19426    Diésel   \n",
       "4      FORD Transit 350 96kW L4 Ambiente Propulsion T...  22850    Diésel   \n",
       "5             PEUGEOT 3008 Style 1.2 PureTech 130 SS 5p.  11490  Gasolina   \n",
       "...                                                  ...    ...       ...   \n",
       "49995        HYUNDAI i30 1.4 TGDI Tecno Fastback DCT 5p.  18490  Gasolina   \n",
       "49996  RENAULT Laguna Coupe Limited 2.0 Energy dCi 15...  14500    Diésel   \n",
       "49997           PEUGEOT 108 TOP Allure VTi 52kW 72CV 5p.  11000  Gasolina   \n",
       "49998           AUDI RS4 Avant 4.2 FSI 450cv quattro 5p.  47900  Gasolina   \n",
       "49999                    CITROEN C2 1.4 HDI VTR Plus 3p.   2790    Diésel   \n",
       "\n",
       "         year     kms  power  doors       shift  \\\n",
       "1      2017.0   50071   82.0      5      Manual   \n",
       "2      2016.0  103000  100.0      4      Manual   \n",
       "3      2014.0  120000  140.0      4      Manual   \n",
       "4      2017.0  107000  130.0      2      Manual   \n",
       "5      2016.0   78665  130.0      5      Manual   \n",
       "...       ...     ...    ...    ...         ...   \n",
       "49995  2018.0   47000  140.0      5  Automático   \n",
       "49996  2015.0   68750  150.0      2      Manual   \n",
       "49997  2019.0   21422   72.0      5      Manual   \n",
       "49998  2013.0   47900  450.0      5  Automático   \n",
       "49999  2006.0  106000   70.0      3      Manual   \n",
       "\n",
       "                                color  photos  is_professional  \n",
       "1                              Blanco       6             True  \n",
       "2                              Blanco      10             True  \n",
       "3                              Blanco       9             True  \n",
       "4                              Blanco       4             True  \n",
       "5                              Blanco      32             True  \n",
       "...                               ...     ...              ...  \n",
       "49995                    Gris / Plata      26             True  \n",
       "49996  KNG Gris Casiopea (metalizado)      30             True  \n",
       "49997                    Gris / Plata      17             True  \n",
       "49998        Gris / Plata (Antracita)      20             True  \n",
       "49999                           Negro      21             True  \n",
       "\n",
       "[41472 rows x 13 columns]"
      ]
     },
     "execution_count": 8,
     "metadata": {},
     "output_type": "execute_result"
    }
   ],
   "source": [
    "df = df.drop(index=(df.loc[df.loc[:, \"power\"].isna() == True, :]).index)\n",
    "df"
   ]
  },
  {
   "cell_type": "code",
   "execution_count": 9,
   "metadata": {},
   "outputs": [
    {
     "name": "stdout",
     "output_type": "stream",
     "text": [
      "<class 'pandas.core.frame.DataFrame'>\n",
      "Index: 41472 entries, 1 to 49999\n",
      "Data columns (total 13 columns):\n",
      " #   Column           Non-Null Count  Dtype  \n",
      "---  ------           --------------  -----  \n",
      " 0   make             41470 non-null  object \n",
      " 1   model            41471 non-null  object \n",
      " 2   version          41472 non-null  object \n",
      " 3   price            41472 non-null  int64  \n",
      " 4   fuel             41470 non-null  object \n",
      " 5   year             41470 non-null  float64\n",
      " 6   kms              41472 non-null  int64  \n",
      " 7   power            41472 non-null  float64\n",
      " 8   doors            41472 non-null  int64  \n",
      " 9   shift            41361 non-null  object \n",
      " 10  color            41369 non-null  object \n",
      " 11  photos           41472 non-null  int64  \n",
      " 12  is_professional  41472 non-null  bool   \n",
      "dtypes: bool(1), float64(2), int64(4), object(6)\n",
      "memory usage: 4.2+ MB\n"
     ]
    }
   ],
   "source": [
    "df.info()"
   ]
  },
  {
   "cell_type": "markdown",
   "metadata": {},
   "source": [
    "Las columnas ```\"color\"``` y ```\"shift\"``` siguen teniendo bastantes NaN."
   ]
  },
  {
   "cell_type": "code",
   "execution_count": 10,
   "metadata": {},
   "outputs": [
    {
     "data": {
      "text/plain": [
       "color\n",
       "Blanco                                              9681\n",
       "Gris / Plata                                        7971\n",
       "Negro                                               6271\n",
       "Azul                                                3996\n",
       "Rojo                                                2323\n",
       "                                                    ... \n",
       "Negro (7 PLAZAS)                                       1\n",
       "Granate (Polar)                                        1\n",
       "Blanco (Blanco Perlado / Techo Negro Metalizado)       1\n",
       "Negro (Negro Diamond)                                  1\n",
       "Azul (OFERTA MES!!! ENTREGA INMEDIATA!!!)              1\n",
       "Name: count, Length: 3530, dtype: int64"
      ]
     },
     "execution_count": 10,
     "metadata": {},
     "output_type": "execute_result"
    }
   ],
   "source": [
    "df[\"color\"].value_counts()"
   ]
  },
  {
   "cell_type": "markdown",
   "metadata": {},
   "source": [
    "Vamos a eliminar la columna color, ya que es una columna categórica con 3530 valores únicos."
   ]
  },
  {
   "cell_type": "code",
   "execution_count": 11,
   "metadata": {},
   "outputs": [],
   "source": [
    "df = df.drop(columns=\"color\")"
   ]
  },
  {
   "cell_type": "code",
   "execution_count": 12,
   "metadata": {},
   "outputs": [
    {
     "data": {
      "text/plain": [
       "shift\n",
       "Manual        27313\n",
       "Automático    14048\n",
       "NaN             111\n",
       "Name: count, dtype: int64"
      ]
     },
     "execution_count": 12,
     "metadata": {},
     "output_type": "execute_result"
    }
   ],
   "source": [
    "df[\"shift\"].value_counts(dropna=False)"
   ]
  },
  {
   "cell_type": "markdown",
   "metadata": {},
   "source": [
    "Como en la columna ```\"shift\"``` existen muchos coches manuales y automáticos, vamos a eliminar las filas con valores de ```\"shift\"``` nulos (111)."
   ]
  },
  {
   "cell_type": "code",
   "execution_count": 13,
   "metadata": {},
   "outputs": [
    {
     "data": {
      "text/html": [
       "<div>\n",
       "<style scoped>\n",
       "    .dataframe tbody tr th:only-of-type {\n",
       "        vertical-align: middle;\n",
       "    }\n",
       "\n",
       "    .dataframe tbody tr th {\n",
       "        vertical-align: top;\n",
       "    }\n",
       "\n",
       "    .dataframe thead th {\n",
       "        text-align: right;\n",
       "    }\n",
       "</style>\n",
       "<table border=\"1\" class=\"dataframe\">\n",
       "  <thead>\n",
       "    <tr style=\"text-align: right;\">\n",
       "      <th></th>\n",
       "      <th>make</th>\n",
       "      <th>model</th>\n",
       "      <th>version</th>\n",
       "      <th>price</th>\n",
       "      <th>fuel</th>\n",
       "      <th>year</th>\n",
       "      <th>kms</th>\n",
       "      <th>power</th>\n",
       "      <th>doors</th>\n",
       "      <th>shift</th>\n",
       "      <th>photos</th>\n",
       "      <th>is_professional</th>\n",
       "    </tr>\n",
       "  </thead>\n",
       "  <tbody>\n",
       "    <tr>\n",
       "      <th>1</th>\n",
       "      <td>CITROEN</td>\n",
       "      <td>C1</td>\n",
       "      <td>CITROEN C1 PureTech 60KW 82CV Feel 5p.</td>\n",
       "      <td>6200</td>\n",
       "      <td>Gasolina</td>\n",
       "      <td>2017.0</td>\n",
       "      <td>50071</td>\n",
       "      <td>82.0</td>\n",
       "      <td>5</td>\n",
       "      <td>Manual</td>\n",
       "      <td>6</td>\n",
       "      <td>True</td>\n",
       "    </tr>\n",
       "    <tr>\n",
       "      <th>2</th>\n",
       "      <td>FORD</td>\n",
       "      <td>Transit Connect</td>\n",
       "      <td>FORD Transit Connect Van 1.5 TDCi 100cv Ambien...</td>\n",
       "      <td>7851</td>\n",
       "      <td>Diésel</td>\n",
       "      <td>2016.0</td>\n",
       "      <td>103000</td>\n",
       "      <td>100.0</td>\n",
       "      <td>4</td>\n",
       "      <td>Manual</td>\n",
       "      <td>10</td>\n",
       "      <td>True</td>\n",
       "    </tr>\n",
       "    <tr>\n",
       "      <th>3</th>\n",
       "      <td>VOLKSWAGEN</td>\n",
       "      <td>Caravelle</td>\n",
       "      <td>VOLKSWAGEN Caravelle Largo 2.0 TDI 140 Comfort...</td>\n",
       "      <td>19426</td>\n",
       "      <td>Diésel</td>\n",
       "      <td>2014.0</td>\n",
       "      <td>120000</td>\n",
       "      <td>140.0</td>\n",
       "      <td>4</td>\n",
       "      <td>Manual</td>\n",
       "      <td>9</td>\n",
       "      <td>True</td>\n",
       "    </tr>\n",
       "    <tr>\n",
       "      <th>4</th>\n",
       "      <td>FORD</td>\n",
       "      <td>Transit</td>\n",
       "      <td>FORD Transit 350 96kW L4 Ambiente Propulsion T...</td>\n",
       "      <td>22850</td>\n",
       "      <td>Diésel</td>\n",
       "      <td>2017.0</td>\n",
       "      <td>107000</td>\n",
       "      <td>130.0</td>\n",
       "      <td>2</td>\n",
       "      <td>Manual</td>\n",
       "      <td>4</td>\n",
       "      <td>True</td>\n",
       "    </tr>\n",
       "    <tr>\n",
       "      <th>5</th>\n",
       "      <td>PEUGEOT</td>\n",
       "      <td>3008</td>\n",
       "      <td>PEUGEOT 3008 Style 1.2 PureTech 130 SS 5p.</td>\n",
       "      <td>11490</td>\n",
       "      <td>Gasolina</td>\n",
       "      <td>2016.0</td>\n",
       "      <td>78665</td>\n",
       "      <td>130.0</td>\n",
       "      <td>5</td>\n",
       "      <td>Manual</td>\n",
       "      <td>32</td>\n",
       "      <td>True</td>\n",
       "    </tr>\n",
       "    <tr>\n",
       "      <th>...</th>\n",
       "      <td>...</td>\n",
       "      <td>...</td>\n",
       "      <td>...</td>\n",
       "      <td>...</td>\n",
       "      <td>...</td>\n",
       "      <td>...</td>\n",
       "      <td>...</td>\n",
       "      <td>...</td>\n",
       "      <td>...</td>\n",
       "      <td>...</td>\n",
       "      <td>...</td>\n",
       "      <td>...</td>\n",
       "    </tr>\n",
       "    <tr>\n",
       "      <th>49995</th>\n",
       "      <td>HYUNDAI</td>\n",
       "      <td>i30</td>\n",
       "      <td>HYUNDAI i30 1.4 TGDI Tecno Fastback DCT 5p.</td>\n",
       "      <td>18490</td>\n",
       "      <td>Gasolina</td>\n",
       "      <td>2018.0</td>\n",
       "      <td>47000</td>\n",
       "      <td>140.0</td>\n",
       "      <td>5</td>\n",
       "      <td>Automático</td>\n",
       "      <td>26</td>\n",
       "      <td>True</td>\n",
       "    </tr>\n",
       "    <tr>\n",
       "      <th>49996</th>\n",
       "      <td>RENAULT</td>\n",
       "      <td>Laguna</td>\n",
       "      <td>RENAULT Laguna Coupe Limited 2.0 Energy dCi 15...</td>\n",
       "      <td>14500</td>\n",
       "      <td>Diésel</td>\n",
       "      <td>2015.0</td>\n",
       "      <td>68750</td>\n",
       "      <td>150.0</td>\n",
       "      <td>2</td>\n",
       "      <td>Manual</td>\n",
       "      <td>30</td>\n",
       "      <td>True</td>\n",
       "    </tr>\n",
       "    <tr>\n",
       "      <th>49997</th>\n",
       "      <td>PEUGEOT</td>\n",
       "      <td>108</td>\n",
       "      <td>PEUGEOT 108 TOP Allure VTi 52kW 72CV 5p.</td>\n",
       "      <td>11000</td>\n",
       "      <td>Gasolina</td>\n",
       "      <td>2019.0</td>\n",
       "      <td>21422</td>\n",
       "      <td>72.0</td>\n",
       "      <td>5</td>\n",
       "      <td>Manual</td>\n",
       "      <td>17</td>\n",
       "      <td>True</td>\n",
       "    </tr>\n",
       "    <tr>\n",
       "      <th>49998</th>\n",
       "      <td>AUDI</td>\n",
       "      <td>RS4</td>\n",
       "      <td>AUDI RS4 Avant 4.2 FSI 450cv quattro 5p.</td>\n",
       "      <td>47900</td>\n",
       "      <td>Gasolina</td>\n",
       "      <td>2013.0</td>\n",
       "      <td>47900</td>\n",
       "      <td>450.0</td>\n",
       "      <td>5</td>\n",
       "      <td>Automático</td>\n",
       "      <td>20</td>\n",
       "      <td>True</td>\n",
       "    </tr>\n",
       "    <tr>\n",
       "      <th>49999</th>\n",
       "      <td>CITROEN</td>\n",
       "      <td>C2</td>\n",
       "      <td>CITROEN C2 1.4 HDI VTR Plus 3p.</td>\n",
       "      <td>2790</td>\n",
       "      <td>Diésel</td>\n",
       "      <td>2006.0</td>\n",
       "      <td>106000</td>\n",
       "      <td>70.0</td>\n",
       "      <td>3</td>\n",
       "      <td>Manual</td>\n",
       "      <td>21</td>\n",
       "      <td>True</td>\n",
       "    </tr>\n",
       "  </tbody>\n",
       "</table>\n",
       "<p>41361 rows × 12 columns</p>\n",
       "</div>"
      ],
      "text/plain": [
       "             make            model  \\\n",
       "1         CITROEN               C1   \n",
       "2            FORD  Transit Connect   \n",
       "3      VOLKSWAGEN        Caravelle   \n",
       "4            FORD          Transit   \n",
       "5         PEUGEOT             3008   \n",
       "...           ...              ...   \n",
       "49995     HYUNDAI              i30   \n",
       "49996     RENAULT           Laguna   \n",
       "49997     PEUGEOT              108   \n",
       "49998        AUDI              RS4   \n",
       "49999     CITROEN               C2   \n",
       "\n",
       "                                                 version  price      fuel  \\\n",
       "1                 CITROEN C1 PureTech 60KW 82CV Feel 5p.   6200  Gasolina   \n",
       "2      FORD Transit Connect Van 1.5 TDCi 100cv Ambien...   7851    Diésel   \n",
       "3      VOLKSWAGEN Caravelle Largo 2.0 TDI 140 Comfort...  19426    Diésel   \n",
       "4      FORD Transit 350 96kW L4 Ambiente Propulsion T...  22850    Diésel   \n",
       "5             PEUGEOT 3008 Style 1.2 PureTech 130 SS 5p.  11490  Gasolina   \n",
       "...                                                  ...    ...       ...   \n",
       "49995        HYUNDAI i30 1.4 TGDI Tecno Fastback DCT 5p.  18490  Gasolina   \n",
       "49996  RENAULT Laguna Coupe Limited 2.0 Energy dCi 15...  14500    Diésel   \n",
       "49997           PEUGEOT 108 TOP Allure VTi 52kW 72CV 5p.  11000  Gasolina   \n",
       "49998           AUDI RS4 Avant 4.2 FSI 450cv quattro 5p.  47900  Gasolina   \n",
       "49999                    CITROEN C2 1.4 HDI VTR Plus 3p.   2790    Diésel   \n",
       "\n",
       "         year     kms  power  doors       shift  photos  is_professional  \n",
       "1      2017.0   50071   82.0      5      Manual       6             True  \n",
       "2      2016.0  103000  100.0      4      Manual      10             True  \n",
       "3      2014.0  120000  140.0      4      Manual       9             True  \n",
       "4      2017.0  107000  130.0      2      Manual       4             True  \n",
       "5      2016.0   78665  130.0      5      Manual      32             True  \n",
       "...       ...     ...    ...    ...         ...     ...              ...  \n",
       "49995  2018.0   47000  140.0      5  Automático      26             True  \n",
       "49996  2015.0   68750  150.0      2      Manual      30             True  \n",
       "49997  2019.0   21422   72.0      5      Manual      17             True  \n",
       "49998  2013.0   47900  450.0      5  Automático      20             True  \n",
       "49999  2006.0  106000   70.0      3      Manual      21             True  \n",
       "\n",
       "[41361 rows x 12 columns]"
      ]
     },
     "execution_count": 13,
     "metadata": {},
     "output_type": "execute_result"
    }
   ],
   "source": [
    "df = df.drop(index=(df.loc[df.loc[:, \"shift\"].isna() == True, :]).index)\n",
    "df"
   ]
  },
  {
   "cell_type": "code",
   "execution_count": 14,
   "metadata": {},
   "outputs": [
    {
     "name": "stdout",
     "output_type": "stream",
     "text": [
      "<class 'pandas.core.frame.DataFrame'>\n",
      "Index: 41361 entries, 1 to 49999\n",
      "Data columns (total 12 columns):\n",
      " #   Column           Non-Null Count  Dtype  \n",
      "---  ------           --------------  -----  \n",
      " 0   make             41359 non-null  object \n",
      " 1   model            41360 non-null  object \n",
      " 2   version          41361 non-null  object \n",
      " 3   price            41361 non-null  int64  \n",
      " 4   fuel             41359 non-null  object \n",
      " 5   year             41359 non-null  float64\n",
      " 6   kms              41361 non-null  int64  \n",
      " 7   power            41361 non-null  float64\n",
      " 8   doors            41361 non-null  int64  \n",
      " 9   shift            41361 non-null  object \n",
      " 10  photos           41361 non-null  int64  \n",
      " 11  is_professional  41361 non-null  bool   \n",
      "dtypes: bool(1), float64(2), int64(4), object(5)\n",
      "memory usage: 3.8+ MB\n"
     ]
    }
   ],
   "source": [
    "df.info()"
   ]
  },
  {
   "cell_type": "markdown",
   "metadata": {},
   "source": [
    "Eliminamos también las entradas que quedan con algún NaN."
   ]
  },
  {
   "cell_type": "code",
   "execution_count": 15,
   "metadata": {},
   "outputs": [
    {
     "name": "stdout",
     "output_type": "stream",
     "text": [
      "<class 'pandas.core.frame.DataFrame'>\n",
      "Index: 41354 entries, 1 to 49999\n",
      "Data columns (total 12 columns):\n",
      " #   Column           Non-Null Count  Dtype  \n",
      "---  ------           --------------  -----  \n",
      " 0   make             41354 non-null  object \n",
      " 1   model            41354 non-null  object \n",
      " 2   version          41354 non-null  object \n",
      " 3   price            41354 non-null  int64  \n",
      " 4   fuel             41354 non-null  object \n",
      " 5   year             41354 non-null  float64\n",
      " 6   kms              41354 non-null  int64  \n",
      " 7   power            41354 non-null  float64\n",
      " 8   doors            41354 non-null  int64  \n",
      " 9   shift            41354 non-null  object \n",
      " 10  photos           41354 non-null  int64  \n",
      " 11  is_professional  41354 non-null  bool   \n",
      "dtypes: bool(1), float64(2), int64(4), object(5)\n",
      "memory usage: 3.8+ MB\n"
     ]
    }
   ],
   "source": [
    "df = df.dropna()\n",
    "df.info()"
   ]
  },
  {
   "cell_type": "markdown",
   "metadata": {},
   "source": [
    "Vemos que hemos pasado de 41361 a 41354 filas. Ya no tenemos valores nulos, ahora vamos a procesar las columnas restantes para que puedan ser usadas en el modelo. Sin embargo, antes vamos a guardar en un set las marcas y modelos de coches que quedan en el DataFrame, para luego utilizarlas en la Web App de predicción de precios:"
   ]
  },
  {
   "cell_type": "code",
   "execution_count": 16,
   "metadata": {},
   "outputs": [
    {
     "data": {
      "text/html": [
       "<div>\n",
       "<style scoped>\n",
       "    .dataframe tbody tr th:only-of-type {\n",
       "        vertical-align: middle;\n",
       "    }\n",
       "\n",
       "    .dataframe tbody tr th {\n",
       "        vertical-align: top;\n",
       "    }\n",
       "\n",
       "    .dataframe thead th {\n",
       "        text-align: right;\n",
       "    }\n",
       "</style>\n",
       "<table border=\"1\" class=\"dataframe\">\n",
       "  <thead>\n",
       "    <tr style=\"text-align: right;\">\n",
       "      <th></th>\n",
       "      <th>make</th>\n",
       "      <th>model</th>\n",
       "      <th>version</th>\n",
       "      <th>price</th>\n",
       "      <th>fuel</th>\n",
       "      <th>year</th>\n",
       "      <th>kms</th>\n",
       "      <th>power</th>\n",
       "      <th>doors</th>\n",
       "      <th>shift</th>\n",
       "      <th>photos</th>\n",
       "      <th>is_professional</th>\n",
       "    </tr>\n",
       "  </thead>\n",
       "  <tbody>\n",
       "    <tr>\n",
       "      <th>1</th>\n",
       "      <td>CITROEN</td>\n",
       "      <td>C1</td>\n",
       "      <td>CITROEN C1 PureTech 60KW 82CV Feel 5p.</td>\n",
       "      <td>6200</td>\n",
       "      <td>Gasolina</td>\n",
       "      <td>2017.0</td>\n",
       "      <td>50071</td>\n",
       "      <td>82.0</td>\n",
       "      <td>5</td>\n",
       "      <td>Manual</td>\n",
       "      <td>6</td>\n",
       "      <td>True</td>\n",
       "    </tr>\n",
       "    <tr>\n",
       "      <th>2</th>\n",
       "      <td>FORD</td>\n",
       "      <td>Transit Connect</td>\n",
       "      <td>FORD Transit Connect Van 1.5 TDCi 100cv Ambien...</td>\n",
       "      <td>7851</td>\n",
       "      <td>Diésel</td>\n",
       "      <td>2016.0</td>\n",
       "      <td>103000</td>\n",
       "      <td>100.0</td>\n",
       "      <td>4</td>\n",
       "      <td>Manual</td>\n",
       "      <td>10</td>\n",
       "      <td>True</td>\n",
       "    </tr>\n",
       "    <tr>\n",
       "      <th>3</th>\n",
       "      <td>VOLKSWAGEN</td>\n",
       "      <td>Caravelle</td>\n",
       "      <td>VOLKSWAGEN Caravelle Largo 2.0 TDI 140 Comfort...</td>\n",
       "      <td>19426</td>\n",
       "      <td>Diésel</td>\n",
       "      <td>2014.0</td>\n",
       "      <td>120000</td>\n",
       "      <td>140.0</td>\n",
       "      <td>4</td>\n",
       "      <td>Manual</td>\n",
       "      <td>9</td>\n",
       "      <td>True</td>\n",
       "    </tr>\n",
       "    <tr>\n",
       "      <th>4</th>\n",
       "      <td>FORD</td>\n",
       "      <td>Transit</td>\n",
       "      <td>FORD Transit 350 96kW L4 Ambiente Propulsion T...</td>\n",
       "      <td>22850</td>\n",
       "      <td>Diésel</td>\n",
       "      <td>2017.0</td>\n",
       "      <td>107000</td>\n",
       "      <td>130.0</td>\n",
       "      <td>2</td>\n",
       "      <td>Manual</td>\n",
       "      <td>4</td>\n",
       "      <td>True</td>\n",
       "    </tr>\n",
       "    <tr>\n",
       "      <th>5</th>\n",
       "      <td>PEUGEOT</td>\n",
       "      <td>3008</td>\n",
       "      <td>PEUGEOT 3008 Style 1.2 PureTech 130 SS 5p.</td>\n",
       "      <td>11490</td>\n",
       "      <td>Gasolina</td>\n",
       "      <td>2016.0</td>\n",
       "      <td>78665</td>\n",
       "      <td>130.0</td>\n",
       "      <td>5</td>\n",
       "      <td>Manual</td>\n",
       "      <td>32</td>\n",
       "      <td>True</td>\n",
       "    </tr>\n",
       "  </tbody>\n",
       "</table>\n",
       "</div>"
      ],
      "text/plain": [
       "         make            model  \\\n",
       "1     CITROEN               C1   \n",
       "2        FORD  Transit Connect   \n",
       "3  VOLKSWAGEN        Caravelle   \n",
       "4        FORD          Transit   \n",
       "5     PEUGEOT             3008   \n",
       "\n",
       "                                             version  price      fuel    year  \\\n",
       "1             CITROEN C1 PureTech 60KW 82CV Feel 5p.   6200  Gasolina  2017.0   \n",
       "2  FORD Transit Connect Van 1.5 TDCi 100cv Ambien...   7851    Diésel  2016.0   \n",
       "3  VOLKSWAGEN Caravelle Largo 2.0 TDI 140 Comfort...  19426    Diésel  2014.0   \n",
       "4  FORD Transit 350 96kW L4 Ambiente Propulsion T...  22850    Diésel  2017.0   \n",
       "5         PEUGEOT 3008 Style 1.2 PureTech 130 SS 5p.  11490  Gasolina  2016.0   \n",
       "\n",
       "      kms  power  doors   shift  photos  is_professional  \n",
       "1   50071   82.0      5  Manual       6             True  \n",
       "2  103000  100.0      4  Manual      10             True  \n",
       "3  120000  140.0      4  Manual       9             True  \n",
       "4  107000  130.0      2  Manual       4             True  \n",
       "5   78665  130.0      5  Manual      32             True  "
      ]
     },
     "execution_count": 16,
     "metadata": {},
     "output_type": "execute_result"
    }
   ],
   "source": [
    "df.head()"
   ]
  },
  {
   "cell_type": "code",
   "execution_count": 17,
   "metadata": {},
   "outputs": [
    {
     "name": "stdout",
     "output_type": "stream",
     "text": [
      "{'CITROEN': {'Grand C4 Picasso', 'C3 Pluriel', 'C4 Aircross', 'BX', 'C3', 'C-15', 'C1', 'C6', 'C4 Sedán', 'Berlingo', 'C-Zero', 'Grand C4 Spacetourer', 'ZX', 'C4 Spacetourer', 'C5 Aircross Hybrid', 'C4', 'Xsara', '2CV', 'Jumper', 'C5', 'C-Elysée', 'C-Crosser', 'C5 Aircross', 'DS5', 'DS3', 'Evasión', 'Spacetourer', 'C8', 'ë-C4', 'Xsara Picasso', 'C4 Cactus', 'Saxo', 'C3 Picasso', 'Xantia', 'DS4', 'C4 Picasso', 'C3 Aircross', 'AX', 'Nemo', 'Jumpy', 'C2'}, 'FORD': {'Transit Courier', 'Transit Connect', 'Maverick', 'Sierra', 'Fiesta', 'Courier', 'Tourneo Custom', 'Ka+', 'EcoSport', 'KA', 'Fusion', 'C-Max', 'Explorer', 'Puma', 'Transit Custom', 'Edge', 'Fiesta Van', 'Connect', 'S-MAX', 'Focus C-MAX', 'Escort', 'Galaxy', 'Tourneo Courier', 'Mustang', 'B-MAX', 'Focus', 'Probe', 'Transit', 'Kuga', 'Ranger', 'Tourneo Connect', 'Grand C-Max', 'Capri', 'Mondeo', 'Grand Tourneo Connect'}, 'VOLKSWAGEN': {'Passat', 'New Beetle', 'Grand California', 'up!', 'Scirocco', 'Jetta', 'ID.3', 'e-up!', 'Golf Sportsvan', 'Tiguan Allspace', 'Transporter', 'Multivan', 'Arteon', 'Touareg', 'Golf', 'T-Roc', 'Phaeton', 'Bora', 'Passat CC', 'T-Cross', 'Eos', 'Amarok', 'Caddy', 'Polo', 'Beetle', 'Crafter', 'Lupo', 'Golf Plus', 'Touran', 'LT', 'Sharan', 'Caravelle', 'California', 'Corrado', 'Santana', 'Tiguan', 'CC'}, 'PEUGEOT': {'807', '205', '307', '206', '806', 'e-208', '5008', 'Boxer', 'Partner', '3008', '508', '307 SW', '207', '2008', 'Rifter', '607', '107', '407 SW', '306', '308', '4008', '309', 'e-2008', '4007', '106', 'Partner Origin', '508 Hybrid', '407', '206 +', '505', '208 XAD', 'Traveller', '206 SW', '406', '108', '208', 'Bipper', '1007', '3008 Hybrid', 'ion', '207 +', 'Expert', 'RCZ'}, 'LAND-ROVER': {'Discovery Sport', 'Discovery 4', 'Range Rover', 'Freelander', 'Range Rover Velar', 'Range Rover Sport', 'Defender', 'Discovery', 'Range Rover Evoque'}, 'HONDA': {'Civic', 'Prelude', 'CRX', 'Legend', 'CR-Z', 'Honda e', 'Jazz', 'HR-V', 'CR-V', 'Stream', 'Accord', 'FR-V', 'S2000', 'Insight'}, 'NISSAN': {'Navara', 'GT-R', 'QASHQAI', 'NV400', 'Terrano', 'Primera', 'CUBE', 'NT400 Cabstar', 'NV200', 'Almera', 'Kubistar', 'LEAF', 'QASHQAI+2', 'Murano', 'Pick-up', 'Cabstar', 'Sunny', 'Interstar', '300 ZX', 'Tiida', 'Vanette Cargo', 'Patrol GR', 'Pathfinder', 'Pixo', 'e-NV200 EVALIA', 'Serena', 'e-NV200', 'NT400', 'Cabstar E', 'Trade', 'Micra', 'Primastar', 'EVALIA', '370Z', 'PULSAR', 'JUKE', 'NV250', 'NOTE', 'Patrol', 'X-TRAIL', 'NV300', '350Z', 'Terrano II', 'NP300 Navara', 'Almera Tino', 'Maxima QX'}, 'MERCEDES-BENZ': {'Clase B', 'SLS AMG', 'CLS', 'GLC Coupé', 'Clase SLC', 'Clase SL', 'Viano', 'Clase GLK', 'Clase SLK', 'Clase E', 'Clase CL', 'GLS', 'Clase S', 'Clase C', 'Vito', 'Clase G', 'Clase GLS', 'GLE Coupé', '140D', '190', 'GLB', 'Clase GLA', '500', 'Clase CLK', 'Clase GLE Coupé', 'Clase GLC', 'Clase A', 'Citan', 'CLA', 'GLE', 'Mercedes-AMG GT', '200', 'Clase CLS', '220', 'Clase GLE', 'GLA', 'Clase CLC', 'EQC', '230', 'Clase M', 'Clase SL R129', 'Clase V', '260', '300', '100D', 'Sprinter', 'AMG GT', 'Clase R', 'Clase GL', 'Clase X', 'Clase CLA'}, 'FIAT': {'Idea', 'Croma', 'Coupé', 'Panda Classic', 'Punto EVO', 'Panda', 'Fiorino', '124 Spider', 'Fullback', 'Grande Punto', 'Punto', 'Brava', 'Freemont', 'Doblò Cargo', '500L', 'Qubo', 'Scudo', '500', 'Tipo', 'Seicento', 'Ducato', 'Barchetta', 'Ulysse', 'Doblò', 'Talento', 'Multipla', 'Doblò Panorama', 'Stilo', 'Uno', '500X', 'Bravo', '500C', 'Sedici', 'Linea'}, 'SKODA': {'Felicia', 'Superb', 'Kamiq', 'Fabia', 'Rapid', 'Spaceback', 'Scout', 'Karoq', 'Roomster', 'Yeti', 'Citigo', 'Kodiaq', 'Octavia', 'Scala'}, 'BMW': {'Serie 3', 'Serie 6', 'X5', 'Serie 8', 'X6', 'X7', 'Serie 7', 'i3', 'Z1', 'X3', 'X1', 'Serie 2', 'Serie 2 Gran Tourer', 'Compact', 'i8', 'Z3', 'X2', 'Serie 5', 'X4', 'Serie 1', 'Serie 2 Active Tourer', 'Z4', 'Serie 4'}, 'OPEL': {'Agila', 'Ampera', 'Zafira-e Life', 'Manta', 'Combo', 'GTC', 'Combo Life', 'Astra', 'Zafira Tourer', 'Grandland X PHEV', 'Antara', 'Karl', 'Signum', 'Kadett', 'Monterey', 'Cabrio', 'Movano', 'Adam', 'Corsa', 'Mokka', 'Vectra', 'Vivaro', 'Frontera', 'Zafira', 'Grandland X', 'Tigra', 'Meriva', 'Crossland X', 'Zafira Life', 'Corsa-e', 'Crossland', 'Omega', 'Mokka X', 'Insignia', 'Corsa Van', 'GT'}, 'AUDI': {'TTS', 'S6', 'TT RS', 'Cabriolet', 'A5', 'A4 Allroad Quattro', 'S7', 'RS5', 'Q3', 'A6 allroad quattro', 'A7', 'A2', 'S5', 'R8', 'Coupe', 'SQ7', 'A3', 'SQ5', 'S3', 'RS7', 'RS3', 'RS Q3', 'A8', 'RS4', 'Q7', 'S8', 'TT', 'A4', 'e-tron', 'RS6', 'Allroad Quattro', 'Q5', 'Q2', 'e-tron Sportback', 'S4', 'Q8', 'A6', 'A1', '100', 'Q3 Sportback', '90'}, 'VOLVO': {'V70', 'XC60', 'S40', 'V90', 'S60', '240', 'S80', 'C70', 'XC70', 'V90 Cross Country', '740', 'C30', '960', 'V60', '460', 'V50', 'V40 Cross Country', 'XC90', 'V70 XC', 'V60 Cross Country', 'XC40', 'S90', 'V40'}, 'MITSUBISHI': {'Colt', 'Space Wagon', 'Lancer', 'ASX', 'Outlander', 'Eclipse Cross', '300 GT', 'Grandis', 'Carisma', 'Montero iO', 'Space Star', 'Montero Sport', 'Galant', 'Space Gear', 'Montero', 'Eclipse', 'L200'}, 'RENAULT': {'Grand Espace', 'Maxity', 'Grand Scénic', 'Clio Campus', 'Grand Kangoo Combi', 'Vel Satis', 'Captur', 'R5', 'Kadjar', 'Master Propulsión', '19', 'Kangoo Express', 'Express', 'Espace', 'Grand Modus', 'Modus', 'Zoe', 'Master', 'Kangoo Combi', 'Latitude', 'Fluence', 'R21', 'Koleos', 'Laguna', 'R11', 'Clio', 'Talisman', 'Safrane', 'Twingo', 'Clio 4', 'Scénic', 'Kangoo Furgón', 'Mascott', 'R6', 'Wind', 'R4', 'Clio III', 'Mégane', 'Kangoo', 'Trafic', 'Kangoo Z.E.'}, 'SEAT': {'Ibiza', 'Inca', 'Marbella', 'Toledo', 'Alhambra', 'Altea XL', 'Arosa', 'Altea Freetrack', 'Córdoba', 'Exeo', 'Ateca', 'Arona', 'León', 'ALTEA', 'Tarraco', 'Mii'}, 'KIA': {'Venga', 'Stonic', 'Shuma', 'ceed Sporty Wagon', 'Sorento', 'Ceed Tourer', 'Niro', 'Rio', 'ceed Sportswagon', 'Soul', 'Stinger', 'Soul EV', 'ceed', 'Pregio', 'Optima SW', 'Sephia II', 'Picanto', 'Cerato', 'Carnival', 'Optima PHEV', 'Sportage', 'XCeed', 'Optima', 'e-Niro', 'Niro PHEV', 'e-Soul', 'ProCeed', 'Niro Hïbrido Enchufable', 'Carens', 'Pro Ceed', 'pro_ceed GT'}, 'DACIA': {'Sandero', 'Dokker', 'Logan', 'Lodgy', 'Duster'}, 'HYUNDAI': {'Atos Prime', 'Coupé', 'Matrix', 'i20', 'ix55', 'Atos', 'H-1', 'H-1 Travel', 'ix35', 'Trajet', 'ix20', 'Getz', 'Santa Fe', 'i10', 'Lantra', 'Elantra', 'Kona', 'Accent', 'Genesis', 'i30', 'H350', 'i20 Active', 'Sonata', 'Terracan', 'Grand Santa Fe', 'i40', 'Veloster', 'IONIQ', 'XG', 'TUCSON'}, 'JEEP': {'Cherokee', 'Compass', 'Grand Cherokee', 'Commander', 'Patriot', 'Wrangler Unlimited', 'Wrangler', 'Renegade'}, 'SUZUKI': {'Alto', 'Swift', 'SX4 S-Cross', 'SX4', 'Vitara', 'Liana', 'Jimny', 'Grand Vitara', 'Splash', 'Across', 'Samurai', 'Swace', 'Ignis', 'SCross', 'Grand Vitara XL-7'}, 'CHEVROLET': {'Orlando', 'Corvette Stingray', 'Trax', 'Tahoe', 'Captiva', 'Kalos', 'Aveo', 'Cruze', 'Volt', 'Lacetti', 'Camaro', 'Spark', 'Epica', 'Malibu', 'Matiz', 'Nubira'}, 'SSANGYONG': {'Korando KJ', 'Rexton II', 'Sports Pick Up', 'Kyron', 'Rexton', 'Musso', 'XLV', 'Actyon', 'Korando', 'Tivoli', 'Rodius'}, 'ABARTH': {'500', 'Punto EVO', '500C', '124 Spider'}, 'SMART': {'roadster', 'smart', 'fortwo', 'forfour'}, 'JAGUAR': {'S-Type', 'F-Type', 'XE', 'Serie XK', 'F-Pace', 'XF', 'i-Pace', 'X-Type', 'E-Pace', 'Serie XJ', 'XJ'}, 'TOYOTA': {'GR Yaris', '4Runner', 'Auris', 'Land Cruiser 80', 'Urban Cruiser', 'Avensis Verso', 'Land Cruiser 200', 'Proace', 'Corolla Sedán', 'Land Cruiser', 'Camry', 'Avensis', 'Land Cruiser 100', 'Corolla Verso', 'Yaris', 'Celica', 'Verso', 'Corolla', 'Land Cruiser 90', 'GT86', 'iQ', 'Supra', 'Prius', 'Prius+', 'Previa', 'Aygo', 'Hilux', 'Proace Verso', 'Rav4', 'Proace City Verso', 'Dyna', 'C-HR'}, 'PORSCHE': {'944', '718', 'Taycan', 'Macan', 'Cayman', 'Cayenne', '911', 'Panamera', '968', '928', 'Cayenne Coupé', 'Boxster'}, 'MINI': {'Paceman', 'Countryman', 'MINI', 'CLUBMAN'}, 'CHRYSLER': {'Stratus', 'Sebring 200C', 'Crossfire', '300C', 'Sebring', 'PT Cruiser', 'Voyager', 'Grand Voyager', 'Neon', '300M'}, 'MAZDA': {'323', 'Mazda5', 'Premacy', 'Mazda2', '626', 'CX-3', 'CX-7', 'Mazda3', 'MX-30', 'MX-5', 'Mazda6', 'CX-30', 'CX-9', 'CX-5', 'RX-8'}, 'MG': {'ZR', 'MGF'}, 'IVECO': {'Daily', 'Massif'}, 'DS': {'DS 7 Crossback', 'DS 4 Crossback', 'DS 3 Crossback E-Tense', 'DS 9', 'DS 7 Crossback E-Tense', 'DS 4', 'DS 5', 'DS 3', 'DS 3 Crossback'}, 'CADILLAC': {'CTS', 'BLS', 'Escalade', 'SRX', 'El Dorado'}, 'INFINITI': {'QX30', 'Q70', 'G', 'Q30', 'QX70', 'FX', 'Q60', 'EX', 'M', 'Q50'}, 'ASTON MARTIN': {'V8 Vantage', 'Rapide', 'DB9', 'Vantage', 'Vantage V8'}, 'ALFA ROMEO': {'Brera', 'Giulietta', 'Giulia', '147', '156', 'GT', '164', 'Stelvio', '159', 'Spider', 'MiTo', '33'}, 'LEXUS': {'GS450h', 'IS', 'LS460', 'UX', 'IS250', 'RX400h', 'NX', 'IS300', 'RX300', 'GS', 'GS300', 'SC430', 'ES', 'LS', 'IS200', 'RX', 'RX350', 'CT', 'RC', 'IS220d'}, 'TESLA': {'Model S', 'Model X', 'Model 3'}, 'SAAB': {'9-3', '9-5'}, 'DR AUTOMOBILES': {'DR3'}, 'SUBARU': {'LEVORG', 'Outback', 'WRX STI', 'Forester', 'G3X Justy', 'Tribeca', 'XV', 'Impreza', 'BRZ', 'Legacy'}, 'DODGE': {'Viper', 'Journey', 'Nitro', 'Caliber', 'Avenger'}, 'DAEWOO': {'Lanos', 'Leganza', 'Evanda', 'Kalos', 'Lacetti', 'Matiz', 'Nubira'}, 'BENTLEY': {'Bentayga', 'Continental Flying Spur', 'Continental GT', 'Continental GTC', 'Flying Spur', 'Continental'}, 'MASERATI': {'Ghibli', 'Coupé', 'GranCabrio', 'GranTurismo', 'Levante', 'Quattroporte', 'Spyder'}, 'ISUZU': {'Serie N', 'D-Max'}, 'LANCIA': {'Thema', 'Musa', 'Delta', 'Y', 'Lybra', 'Y10', 'Phedra', 'Voyager', 'Ypsilon'}, 'CUPRA': {'León', 'Ateca', 'Formentor'}, 'DFSK': {'580', 'Fengon 5', 'Serie C', 'Serie K'}, 'PONTIAC': {'Firebird', 'TRANS AM'}, 'FERRARI': {'458', 'GTC4', '599', '355', '488', 'FF', 'California', '360', '812', 'F355', 'Mondial', 'F430'}, 'MAHINDRA': {'Quanto', 'XUV500', 'Goa Pik Up Plus', 'KUV100', 'Goa'}, 'TATA': {'Aria', 'Safari', 'INDICA', 'Grand Safari'}, 'CORVETTE': {'Corvette'}, 'GALLOPER': {'Santamo', 'Super Exceed', 'Exceed'}, 'ALPINE': {'A110'}, 'LAMBORGHINI': {'Gallardo', 'Aventador', 'Huracán'}, 'LOTUS': {'Elise'}, 'ROVER': {'75', '45', '25', '200', '600', 'Mini'}, 'SANTANA': {'350', '300', 'Anibal'}, 'DAIHATSU': {'Terios'}, 'UMM': {'100'}, 'AUSTIN': {'Mini'}, 'HUMMER': {'H2'}, 'MAXUS': {'V80'}, 'MORGAN': {'Plus 4'}, 'PIAGGIO': {'Porter'}, 'IVECO-PEGASO': {'Daily'}, 'LDV': {'Maxus'}}\n"
     ]
    }
   ],
   "source": [
    "make_model_set = {}\n",
    "\n",
    "for index, row in df.iterrows():\n",
    "    make = row['make']\n",
    "    model = row['model']\n",
    "    \n",
    "    if make not in make_model_set:\n",
    "        make_model_set[make] = {model}\n",
    "    else:\n",
    "        make_model_set[make].add(model)\n",
    "\n",
    "# Guardamos el set con marcas y modelos en un pkl:\n",
    "\n",
    "with open('../utils/make_model_set.pkl', 'wb') as archivo_salida3:\n",
    "    pickle.dump(make_model_set, archivo_salida3)\n",
    "\n",
    "print(make_model_set)"
   ]
  },
  {
   "cell_type": "markdown",
   "metadata": {},
   "source": [
    "Una vez guardado este set, empezamos con el análisis y procesado de las variables que utilizaremos en el modelo:"
   ]
  },
  {
   "cell_type": "code",
   "execution_count": 18,
   "metadata": {},
   "outputs": [
    {
     "data": {
      "text/plain": [
       "make\n",
       "VOLKSWAGEN       3690\n",
       "BMW              3646\n",
       "MERCEDES-BENZ    3597\n",
       "AUDI             3133\n",
       "PEUGEOT          2669\n",
       "                 ... \n",
       "UMM                 1\n",
       "DAIHATSU            1\n",
       "LOTUS               1\n",
       "ALPINE              1\n",
       "LDV                 1\n",
       "Name: count, Length: 72, dtype: int64"
      ]
     },
     "execution_count": 18,
     "metadata": {},
     "output_type": "execute_result"
    }
   ],
   "source": [
    "make_df = df[\"make\"]\n",
    "make_df.value_counts()"
   ]
  },
  {
   "cell_type": "markdown",
   "metadata": {},
   "source": [
    "Tenemos 72 marcas diferentes de coches. Vamos a hacer un countplot para ver cuántos vehículos tenemos de cada marca:"
   ]
  },
  {
   "cell_type": "code",
   "execution_count": 19,
   "metadata": {},
   "outputs": [
    {
     "data": {
      "image/png": "[encoded data removed]",
      "text/plain": [
       "<Figure size 1500x1200 with 1 Axes>"
      ]
     },
     "metadata": {},
     "output_type": "display_data"
    }
   ],
   "source": [
    "plt.figure(figsize = (15, 12))\n",
    "sns.countplot(y = make_df, order=make_df.value_counts(ascending=False).index, color=colors[0])\n",
    "\n",
    "plt.title(\"Cantidad de coches por marca\", fontsize=14)\n",
    "plt.xlabel(\"Cantidad\")\n",
    "plt.ylabel(\"Marca\")\n",
    "\n",
    "plt.show()"
   ]
  },
  {
   "cell_type": "markdown",
   "metadata": {},
   "source": [
    "En el gráfico vemos cómo existen varias marcas de las cuales tenemos muy pocos coches registrados en la base de datos. Podría ser interesante quitar esas marcas, para obtener un mejor modelo, aunque las vamos a dejar para tener una mayor variedad de opciones en la Web App y ver cómo predice el modelo los coches de dichas marcas minoritarias.\n",
    "\n",
    "Vamos a asignar un valor numérico a cada marca para poder utilizar dicha columna como feature del modelo:"
   ]
  },
  {
   "cell_type": "code",
   "execution_count": 20,
   "metadata": {},
   "outputs": [
    {
     "name": "stderr",
     "output_type": "stream",
     "text": [
      "C:\\Users\\APint\\AppData\\Local\\Temp\\ipykernel_11012\\1975165367.py:8: SettingWithCopyWarning: \n",
      "A value is trying to be set on a copy of a slice from a DataFrame.\n",
      "Try using .loc[row_indexer,col_indexer] = value instead\n",
      "\n",
      "See the caveats in the documentation: https://pandas.pydata.org/pandas-docs/stable/user_guide/indexing.html#returning-a-view-versus-a-copy\n",
      "  df[\"make\"] = encoder_make.transform(df[\"make\"])\n"
     ]
    },
    {
     "data": {
      "text/plain": [
       "make\n",
       "70    3690\n",
       "7     3646\n",
       "45    3597\n",
       "4     3133\n",
       "52    2669\n",
       "      ... \n",
       "69       1\n",
       "16       1\n",
       "40       1\n",
       "2        1\n",
       "38       1\n",
       "Name: count, Length: 72, dtype: int64"
      ]
     },
     "execution_count": 20,
     "metadata": {},
     "output_type": "execute_result"
    }
   ],
   "source": [
    "# Asignamos cada marca a un valor numérico utilizando LabelEncoder:\n",
    "\n",
    "from sklearn.preprocessing import LabelEncoder\n",
    "\n",
    "encoder_make = LabelEncoder()\n",
    "encoder_make.fit(df[\"make\"].sort_values(ascending=False))\n",
    "list(encoder_make.classes_)\n",
    "df[\"make\"] = encoder_make.transform(df[\"make\"])\n",
    "\n",
    "# Guardamos el LabelEncoder para poder utilizarlo después en otros archivos:\n",
    "\n",
    "with open('../utils/label_encoder_make.pkl', 'wb') as archivo_salida1:\n",
    "    pickle.dump(encoder_make, archivo_salida1)\n",
    "\n",
    "df[\"make\"].value_counts()"
   ]
  },
  {
   "cell_type": "code",
   "execution_count": 21,
   "metadata": {},
   "outputs": [
    {
     "data": {
      "text/plain": [
       "['VOLKSWAGEN']"
      ]
     },
     "execution_count": 21,
     "metadata": {},
     "output_type": "execute_result"
    }
   ],
   "source": [
    "# Para visualizar el mapping de make con LabelEncoder\n",
    "\n",
    "list(encoder_make.inverse_transform([70]))"
   ]
  },
  {
   "cell_type": "code",
   "execution_count": 22,
   "metadata": {},
   "outputs": [
    {
     "name": "stdout",
     "output_type": "stream",
     "text": [
      "<class 'pandas.core.frame.DataFrame'>\n",
      "Index: 41354 entries, 1 to 49999\n",
      "Data columns (total 12 columns):\n",
      " #   Column           Non-Null Count  Dtype  \n",
      "---  ------           --------------  -----  \n",
      " 0   make             41354 non-null  int32  \n",
      " 1   model            41354 non-null  object \n",
      " 2   version          41354 non-null  object \n",
      " 3   price            41354 non-null  int64  \n",
      " 4   fuel             41354 non-null  object \n",
      " 5   year             41354 non-null  float64\n",
      " 6   kms              41354 non-null  int64  \n",
      " 7   power            41354 non-null  float64\n",
      " 8   doors            41354 non-null  int64  \n",
      " 9   shift            41354 non-null  object \n",
      " 10  photos           41354 non-null  int64  \n",
      " 11  is_professional  41354 non-null  bool   \n",
      "dtypes: bool(1), float64(2), int32(1), int64(4), object(4)\n",
      "memory usage: 3.7+ MB\n"
     ]
    }
   ],
   "source": [
    "df.info()"
   ]
  },
  {
   "cell_type": "markdown",
   "metadata": {},
   "source": [
    "Vamos ahora con la columna ```\"model\"```:"
   ]
  },
  {
   "cell_type": "code",
   "execution_count": 23,
   "metadata": {},
   "outputs": [
    {
     "data": {
      "text/plain": [
       "model\n",
       "Golf          1141\n",
       "Serie 3        949\n",
       "Clase C        724\n",
       "A4             713\n",
       "A3             713\n",
       "              ... \n",
       "V8 Vantage       1\n",
       "300M             1\n",
       "Serena           1\n",
       "300 GT           1\n",
       "R21              1\n",
       "Name: count, Length: 882, dtype: int64"
      ]
     },
     "execution_count": 23,
     "metadata": {},
     "output_type": "execute_result"
    }
   ],
   "source": [
    "df[\"model\"].value_counts()"
   ]
  },
  {
   "cell_type": "markdown",
   "metadata": {},
   "source": [
    "Tenemos 882 modelos diferentes. En esta ocasión no realizamos el countplot ya que es información demasiado específica para visualizar.\n",
    "\n",
    "Aunque son muchos valores diferentes, por el momento, realizamos otro Label Encoder. Más adelante veremos si es una columna que aporte información al modelo."
   ]
  },
  {
   "cell_type": "code",
   "execution_count": 24,
   "metadata": {},
   "outputs": [
    {
     "name": "stderr",
     "output_type": "stream",
     "text": [
      "C:\\Users\\APint\\AppData\\Local\\Temp\\ipykernel_11012\\2730398143.py:6: SettingWithCopyWarning: \n",
      "A value is trying to be set on a copy of a slice from a DataFrame.\n",
      "Try using .loc[row_indexer,col_indexer] = value instead\n",
      "\n",
      "See the caveats in the documentation: https://pandas.pydata.org/pandas-docs/stable/user_guide/indexing.html#returning-a-view-versus-a-copy\n",
      "  df[\"model\"] = encoder_model.transform(df[\"model\"])\n"
     ]
    },
    {
     "data": {
      "text/plain": [
       "model\n",
       "379    1141\n",
       "693     949\n",
       "216     724\n",
       "90      713\n",
       "89      713\n",
       "       ... \n",
       "788       1\n",
       "36        1\n",
       "688       1\n",
       "31        1\n",
       "616       1\n",
       "Name: count, Length: 882, dtype: int64"
      ]
     },
     "execution_count": 24,
     "metadata": {},
     "output_type": "execute_result"
    }
   ],
   "source": [
    "from sklearn.preprocessing import LabelEncoder\n",
    "\n",
    "encoder_model = LabelEncoder()\n",
    "encoder_model.fit(df[\"model\"].sort_values(ascending=False))\n",
    "list(encoder_model.classes_)\n",
    "df[\"model\"] = encoder_model.transform(df[\"model\"])\n",
    "\n",
    "# Guardamos el Encoding:\n",
    "\n",
    "with open('../utils/label_encoder_model.pkl', 'wb') as archivo_salida2:\n",
    "    pickle.dump(encoder_model, archivo_salida2)\n",
    "\n",
    "df[\"model\"].value_counts()"
   ]
  },
  {
   "cell_type": "code",
   "execution_count": 25,
   "metadata": {},
   "outputs": [
    {
     "data": {
      "text/plain": [
       "['Golf']"
      ]
     },
     "execution_count": 25,
     "metadata": {},
     "output_type": "execute_result"
    }
   ],
   "source": [
    "# Para visualizar el mapping de model con LabelEncoder\n",
    "\n",
    "list(encoder_model.inverse_transform([379]))"
   ]
  },
  {
   "cell_type": "code",
   "execution_count": 26,
   "metadata": {},
   "outputs": [
    {
     "name": "stdout",
     "output_type": "stream",
     "text": [
      "<class 'pandas.core.frame.DataFrame'>\n",
      "Index: 41354 entries, 1 to 49999\n",
      "Data columns (total 12 columns):\n",
      " #   Column           Non-Null Count  Dtype  \n",
      "---  ------           --------------  -----  \n",
      " 0   make             41354 non-null  int32  \n",
      " 1   model            41354 non-null  int32  \n",
      " 2   version          41354 non-null  object \n",
      " 3   price            41354 non-null  int64  \n",
      " 4   fuel             41354 non-null  object \n",
      " 5   year             41354 non-null  float64\n",
      " 6   kms              41354 non-null  int64  \n",
      " 7   power            41354 non-null  float64\n",
      " 8   doors            41354 non-null  int64  \n",
      " 9   shift            41354 non-null  object \n",
      " 10  photos           41354 non-null  int64  \n",
      " 11  is_professional  41354 non-null  bool   \n",
      "dtypes: bool(1), float64(2), int32(2), int64(4), object(3)\n",
      "memory usage: 3.5+ MB\n"
     ]
    }
   ],
   "source": [
    "df.info()"
   ]
  },
  {
   "cell_type": "markdown",
   "metadata": {},
   "source": [
    "Vamos ahora con la columna ```\"version\"```:"
   ]
  },
  {
   "cell_type": "code",
   "execution_count": 27,
   "metadata": {},
   "outputs": [
    {
     "data": {
      "text/plain": [
       "version\n",
       "BMW Serie 1 118d 5p.                                       145\n",
       "BMW X1 sDrive18d 5p.                                       141\n",
       "BMW Serie 1 116d 5p.                                       127\n",
       "BMW Serie 3 318d 4p.                                       114\n",
       "BMW Serie 3 320D 4p.                                       113\n",
       "                                                          ... \n",
       "RENAULT Scenic Expression 1.9dCi EU4 5p.                     1\n",
       "RENAULT Trafic Furgon 29 L2H1 dCi 70kW 95CV Euro 6           1\n",
       "RENAULT Trafic Passenger Privilege Largo 2.5dCi 150 4p.      1\n",
       "SEAT Ibiza SC 1.4 16v 85cv 25 Aniversario 3p.                1\n",
       "HYUNDAI i30 1.4 TGDI Tecno Fastback DCT 5p.                  1\n",
       "Name: count, Length: 16517, dtype: int64"
      ]
     },
     "execution_count": 27,
     "metadata": {},
     "output_type": "execute_result"
    }
   ],
   "source": [
    "df[\"version\"].value_counts()"
   ]
  },
  {
   "cell_type": "markdown",
   "metadata": {},
   "source": [
    "Vamos a eliminar la columna ```\"version\"```, ya que es información que ya tenemos en otras columnas (marca, modelo, potencia, etc.)"
   ]
  },
  {
   "cell_type": "code",
   "execution_count": 28,
   "metadata": {},
   "outputs": [
    {
     "name": "stdout",
     "output_type": "stream",
     "text": [
      "<class 'pandas.core.frame.DataFrame'>\n",
      "Index: 41354 entries, 1 to 49999\n",
      "Data columns (total 11 columns):\n",
      " #   Column           Non-Null Count  Dtype  \n",
      "---  ------           --------------  -----  \n",
      " 0   make             41354 non-null  int32  \n",
      " 1   model            41354 non-null  int32  \n",
      " 2   price            41354 non-null  int64  \n",
      " 3   fuel             41354 non-null  object \n",
      " 4   year             41354 non-null  float64\n",
      " 5   kms              41354 non-null  int64  \n",
      " 6   power            41354 non-null  float64\n",
      " 7   doors            41354 non-null  int64  \n",
      " 8   shift            41354 non-null  object \n",
      " 9   photos           41354 non-null  int64  \n",
      " 10  is_professional  41354 non-null  bool   \n",
      "dtypes: bool(1), float64(2), int32(2), int64(4), object(2)\n",
      "memory usage: 3.2+ MB\n"
     ]
    }
   ],
   "source": [
    "df = df.drop(columns=\"version\")\n",
    "df.info()"
   ]
  },
  {
   "cell_type": "markdown",
   "metadata": {},
   "source": [
    "Vamos ahora con la columna ```\"fuel\"```:"
   ]
  },
  {
   "cell_type": "code",
   "execution_count": 29,
   "metadata": {},
   "outputs": [
    {
     "data": {
      "text/plain": [
       "fuel\n",
       "Diésel                24933\n",
       "Gasolina              13980\n",
       "Híbrido                1172\n",
       "Eléctrico               554\n",
       "Híbrido enchufable      510\n",
       "Gas licuado (GLP)       114\n",
       "Gas natural (CNG)        91\n",
       "Name: count, dtype: int64"
      ]
     },
     "execution_count": 29,
     "metadata": {},
     "output_type": "execute_result"
    }
   ],
   "source": [
    "df[\"fuel\"].value_counts()"
   ]
  },
  {
   "cell_type": "code",
   "execution_count": 30,
   "metadata": {},
   "outputs": [
    {
     "data": {
      "image/png": "[encoded data removed]",
      "text/plain": [
       "<Figure size 600x400 with 1 Axes>"
      ]
     },
     "metadata": {},
     "output_type": "display_data"
    }
   ],
   "source": [
    "plt.figure(figsize = (6, 4))\n",
    "sns.countplot(y = df[\"fuel\"], order=df['fuel'].value_counts(ascending=False).index, color=colors[0])\n",
    "\n",
    "\n",
    "plt.title(\"Cantidad de coches por tipo de combustible\", fontsize=14)\n",
    "\n",
    "plt.xlabel(\"Cantidad\")\n",
    "plt.ylabel(\"Tipo de combustible\")\n",
    "\n",
    "plt.show()"
   ]
  },
  {
   "cell_type": "markdown",
   "metadata": {},
   "source": [
    "Vemos cómo predominan los coches de diésel y gasolina.\n",
    "\n",
    "Convertimos los valores en numéricos utilizando un mapeado:"
   ]
  },
  {
   "cell_type": "code",
   "execution_count": 31,
   "metadata": {},
   "outputs": [],
   "source": [
    "# Aplicamos un mapeado para la columna \"fuel\"\n",
    "\n",
    "fuel_types = {\"Diésel\" : 0,\n",
    "            \"Gasolina\" : 1,\n",
    "            \"Híbrido\" : 2,\n",
    "            \"Eléctrico\" : 3,\n",
    "            \"Híbrido enchufable\" : 4, \n",
    "            \"Gas licuado (GLP)\" : 5,\n",
    "            \"Gas natural (CNG)\" : 6}\n",
    "                     \n",
    "df[\"fuel\"] = df[\"fuel\"].map(fuel_types)"
   ]
  },
  {
   "cell_type": "code",
   "execution_count": 32,
   "metadata": {},
   "outputs": [
    {
     "data": {
      "text/plain": [
       "fuel\n",
       "0    24933\n",
       "1    13980\n",
       "2     1172\n",
       "3      554\n",
       "4      510\n",
       "5      114\n",
       "6       91\n",
       "Name: count, dtype: int64"
      ]
     },
     "execution_count": 32,
     "metadata": {},
     "output_type": "execute_result"
    }
   ],
   "source": [
    "df[\"fuel\"].value_counts()"
   ]
  },
  {
   "cell_type": "code",
   "execution_count": 33,
   "metadata": {},
   "outputs": [
    {
     "name": "stdout",
     "output_type": "stream",
     "text": [
      "<class 'pandas.core.frame.DataFrame'>\n",
      "Index: 41354 entries, 1 to 49999\n",
      "Data columns (total 11 columns):\n",
      " #   Column           Non-Null Count  Dtype  \n",
      "---  ------           --------------  -----  \n",
      " 0   make             41354 non-null  int32  \n",
      " 1   model            41354 non-null  int32  \n",
      " 2   price            41354 non-null  int64  \n",
      " 3   fuel             41354 non-null  int64  \n",
      " 4   year             41354 non-null  float64\n",
      " 5   kms              41354 non-null  int64  \n",
      " 6   power            41354 non-null  float64\n",
      " 7   doors            41354 non-null  int64  \n",
      " 8   shift            41354 non-null  object \n",
      " 9   photos           41354 non-null  int64  \n",
      " 10  is_professional  41354 non-null  bool   \n",
      "dtypes: bool(1), float64(2), int32(2), int64(5), object(1)\n",
      "memory usage: 3.2+ MB\n"
     ]
    }
   ],
   "source": [
    "df.info()"
   ]
  },
  {
   "cell_type": "markdown",
   "metadata": {},
   "source": [
    "Veamos los valores de la siguiente columna no numérica, ```\"doors\"```:"
   ]
  },
  {
   "cell_type": "code",
   "execution_count": 34,
   "metadata": {},
   "outputs": [
    {
     "data": {
      "text/plain": [
       "doors\n",
       "5    29448\n",
       "4     6267\n",
       "3     3509\n",
       "2     2130\n",
       "Name: count, dtype: int64"
      ]
     },
     "execution_count": 34,
     "metadata": {},
     "output_type": "execute_result"
    }
   ],
   "source": [
    "df[\"doors\"].value_counts()"
   ]
  },
  {
   "cell_type": "markdown",
   "metadata": {},
   "source": [
    "Vamos a agrupar los coches de 5 puertas con los de 4, y los de 3 con los de 2, ya que la diferencia es que no se cuenta el maletero."
   ]
  },
  {
   "cell_type": "code",
   "execution_count": 35,
   "metadata": {},
   "outputs": [],
   "source": [
    "num_puertas = {5: 5,\n",
    "            4 : 5,\n",
    "            3 : 3,\n",
    "            2 : 3}\n",
    "                     \n",
    "df[\"doors\"] = df[\"doors\"].map(num_puertas)"
   ]
  },
  {
   "cell_type": "code",
   "execution_count": 36,
   "metadata": {},
   "outputs": [
    {
     "data": {
      "text/plain": [
       "doors\n",
       "5    35715\n",
       "3     5639\n",
       "Name: count, dtype: int64"
      ]
     },
     "execution_count": 36,
     "metadata": {},
     "output_type": "execute_result"
    }
   ],
   "source": [
    "df[\"doors\"].value_counts()"
   ]
  },
  {
   "cell_type": "code",
   "execution_count": 37,
   "metadata": {},
   "outputs": [
    {
     "name": "stdout",
     "output_type": "stream",
     "text": [
      "<class 'pandas.core.frame.DataFrame'>\n",
      "Index: 41354 entries, 1 to 49999\n",
      "Data columns (total 11 columns):\n",
      " #   Column           Non-Null Count  Dtype  \n",
      "---  ------           --------------  -----  \n",
      " 0   make             41354 non-null  int32  \n",
      " 1   model            41354 non-null  int32  \n",
      " 2   price            41354 non-null  int64  \n",
      " 3   fuel             41354 non-null  int64  \n",
      " 4   year             41354 non-null  float64\n",
      " 5   kms              41354 non-null  int64  \n",
      " 6   power            41354 non-null  float64\n",
      " 7   doors            41354 non-null  int64  \n",
      " 8   shift            41354 non-null  object \n",
      " 9   photos           41354 non-null  int64  \n",
      " 10  is_professional  41354 non-null  bool   \n",
      "dtypes: bool(1), float64(2), int32(2), int64(5), object(1)\n",
      "memory usage: 3.2+ MB\n"
     ]
    }
   ],
   "source": [
    "df.info()"
   ]
  },
  {
   "cell_type": "markdown",
   "metadata": {},
   "source": [
    "De nuevo, convertimos a numérica la columna ```\"shift\"```:"
   ]
  },
  {
   "cell_type": "code",
   "execution_count": 38,
   "metadata": {},
   "outputs": [
    {
     "data": {
      "text/plain": [
       "shift\n",
       "Manual        27309\n",
       "Automático    14045\n",
       "Name: count, dtype: int64"
      ]
     },
     "execution_count": 38,
     "metadata": {},
     "output_type": "execute_result"
    }
   ],
   "source": [
    "df[\"shift\"].value_counts()"
   ]
  },
  {
   "cell_type": "code",
   "execution_count": 39,
   "metadata": {},
   "outputs": [],
   "source": [
    "df[\"shift\"] = df[\"shift\"].apply(lambda x: 0 if x == \"Manual\" else 1)"
   ]
  },
  {
   "cell_type": "code",
   "execution_count": 40,
   "metadata": {},
   "outputs": [
    {
     "data": {
      "text/plain": [
       "shift\n",
       "0    27309\n",
       "1    14045\n",
       "Name: count, dtype: int64"
      ]
     },
     "execution_count": 40,
     "metadata": {},
     "output_type": "execute_result"
    }
   ],
   "source": [
    "df[\"shift\"].value_counts()"
   ]
  },
  {
   "cell_type": "code",
   "execution_count": 41,
   "metadata": {},
   "outputs": [
    {
     "name": "stdout",
     "output_type": "stream",
     "text": [
      "<class 'pandas.core.frame.DataFrame'>\n",
      "Index: 41354 entries, 1 to 49999\n",
      "Data columns (total 11 columns):\n",
      " #   Column           Non-Null Count  Dtype  \n",
      "---  ------           --------------  -----  \n",
      " 0   make             41354 non-null  int32  \n",
      " 1   model            41354 non-null  int32  \n",
      " 2   price            41354 non-null  int64  \n",
      " 3   fuel             41354 non-null  int64  \n",
      " 4   year             41354 non-null  float64\n",
      " 5   kms              41354 non-null  int64  \n",
      " 6   power            41354 non-null  float64\n",
      " 7   doors            41354 non-null  int64  \n",
      " 8   shift            41354 non-null  int64  \n",
      " 9   photos           41354 non-null  int64  \n",
      " 10  is_professional  41354 non-null  bool   \n",
      "dtypes: bool(1), float64(2), int32(2), int64(6)\n",
      "memory usage: 3.2 MB\n"
     ]
    }
   ],
   "source": [
    "df.info()"
   ]
  },
  {
   "cell_type": "markdown",
   "metadata": {},
   "source": [
    "Veamos qué contiene la columna ```\"photos\"```:"
   ]
  },
  {
   "cell_type": "code",
   "execution_count": 42,
   "metadata": {},
   "outputs": [
    {
     "data": {
      "text/plain": [
       "1         6\n",
       "2        10\n",
       "3         9\n",
       "4         4\n",
       "5        32\n",
       "         ..\n",
       "49995    26\n",
       "49996    30\n",
       "49997    17\n",
       "49998    20\n",
       "49999    21\n",
       "Name: photos, Length: 41354, dtype: int64"
      ]
     },
     "execution_count": 42,
     "metadata": {},
     "output_type": "execute_result"
    }
   ],
   "source": [
    "df[\"photos\"]"
   ]
  },
  {
   "cell_type": "markdown",
   "metadata": {},
   "source": [
    "Vamos a eliminar la columna ```\"photos\"```, ya que contiene el número de fotos que tenemos del vehículo, y no queremos que influya en el precio que predice el modelo."
   ]
  },
  {
   "cell_type": "code",
   "execution_count": 43,
   "metadata": {},
   "outputs": [
    {
     "name": "stdout",
     "output_type": "stream",
     "text": [
      "<class 'pandas.core.frame.DataFrame'>\n",
      "Index: 41354 entries, 1 to 49999\n",
      "Data columns (total 10 columns):\n",
      " #   Column           Non-Null Count  Dtype  \n",
      "---  ------           --------------  -----  \n",
      " 0   make             41354 non-null  int32  \n",
      " 1   model            41354 non-null  int32  \n",
      " 2   price            41354 non-null  int64  \n",
      " 3   fuel             41354 non-null  int64  \n",
      " 4   year             41354 non-null  float64\n",
      " 5   kms              41354 non-null  int64  \n",
      " 6   power            41354 non-null  float64\n",
      " 7   doors            41354 non-null  int64  \n",
      " 8   shift            41354 non-null  int64  \n",
      " 9   is_professional  41354 non-null  bool   \n",
      "dtypes: bool(1), float64(2), int32(2), int64(5)\n",
      "memory usage: 2.9 MB\n"
     ]
    }
   ],
   "source": [
    "df = df.drop(columns=\"photos\")\n",
    "df.info()"
   ]
  },
  {
   "cell_type": "markdown",
   "metadata": {},
   "source": [
    "Tan solo falta la columna ```\"is_professional\"```, que hace referencia a si el vendedor del vehículo es un concesionario profesional o no."
   ]
  },
  {
   "cell_type": "code",
   "execution_count": 44,
   "metadata": {},
   "outputs": [
    {
     "data": {
      "text/plain": [
       "is_professional\n",
       "True     32348\n",
       "False     9006\n",
       "Name: count, dtype: int64"
      ]
     },
     "execution_count": 44,
     "metadata": {},
     "output_type": "execute_result"
    }
   ],
   "source": [
    "df[\"is_professional\"].value_counts()"
   ]
  },
  {
   "cell_type": "markdown",
   "metadata": {},
   "source": [
    "Cambiamos el tipo de la columna ```\"is_professional\"``` de bool a int:"
   ]
  },
  {
   "cell_type": "code",
   "execution_count": 45,
   "metadata": {},
   "outputs": [],
   "source": [
    "df[\"is_professional\"] = df[\"is_professional\"].apply(lambda x: 1 if x == True else 0)"
   ]
  },
  {
   "cell_type": "code",
   "execution_count": 46,
   "metadata": {},
   "outputs": [
    {
     "data": {
      "text/plain": [
       "is_professional\n",
       "1    32348\n",
       "0     9006\n",
       "Name: count, dtype: int64"
      ]
     },
     "execution_count": 46,
     "metadata": {},
     "output_type": "execute_result"
    }
   ],
   "source": [
    "df[\"is_professional\"].value_counts()"
   ]
  },
  {
   "cell_type": "code",
   "execution_count": 47,
   "metadata": {},
   "outputs": [
    {
     "name": "stdout",
     "output_type": "stream",
     "text": [
      "<class 'pandas.core.frame.DataFrame'>\n",
      "Index: 41354 entries, 1 to 49999\n",
      "Data columns (total 10 columns):\n",
      " #   Column           Non-Null Count  Dtype  \n",
      "---  ------           --------------  -----  \n",
      " 0   make             41354 non-null  int32  \n",
      " 1   model            41354 non-null  int32  \n",
      " 2   price            41354 non-null  int64  \n",
      " 3   fuel             41354 non-null  int64  \n",
      " 4   year             41354 non-null  float64\n",
      " 5   kms              41354 non-null  int64  \n",
      " 6   power            41354 non-null  float64\n",
      " 7   doors            41354 non-null  int64  \n",
      " 8   shift            41354 non-null  int64  \n",
      " 9   is_professional  41354 non-null  int64  \n",
      "dtypes: float64(2), int32(2), int64(6)\n",
      "memory usage: 3.2 MB\n"
     ]
    }
   ],
   "source": [
    "df.info()"
   ]
  },
  {
   "cell_type": "markdown",
   "metadata": {},
   "source": [
    "Ya tenemos nuestro DataFrame con todas las columnas de tipo numérico, listas para ser utilizadas por el modelo (después de escalar, dividir los conjuntos de train y test, etc.).\n",
    "\n",
    "Guardamos el DataFrame."
   ]
  },
  {
   "cell_type": "code",
   "execution_count": 48,
   "metadata": {},
   "outputs": [],
   "source": [
    "# Guardamos el DataFrame transformado\n",
    "\n",
    "df.to_csv(\"../data/processed/df_pre_modelo.csv\")"
   ]
  },
  {
   "cell_type": "markdown",
   "metadata": {},
   "source": [
    "## 3. Modelos predictivos."
   ]
  },
  {
   "cell_type": "code",
   "execution_count": 49,
   "metadata": {},
   "outputs": [
    {
     "data": {
      "text/html": [
       "<div>\n",
       "<style scoped>\n",
       "    .dataframe tbody tr th:only-of-type {\n",
       "        vertical-align: middle;\n",
       "    }\n",
       "\n",
       "    .dataframe tbody tr th {\n",
       "        vertical-align: top;\n",
       "    }\n",
       "\n",
       "    .dataframe thead th {\n",
       "        text-align: right;\n",
       "    }\n",
       "</style>\n",
       "<table border=\"1\" class=\"dataframe\">\n",
       "  <thead>\n",
       "    <tr style=\"text-align: right;\">\n",
       "      <th></th>\n",
       "      <th>make</th>\n",
       "      <th>model</th>\n",
       "      <th>price</th>\n",
       "      <th>fuel</th>\n",
       "      <th>year</th>\n",
       "      <th>kms</th>\n",
       "      <th>power</th>\n",
       "      <th>doors</th>\n",
       "      <th>shift</th>\n",
       "      <th>is_professional</th>\n",
       "    </tr>\n",
       "  </thead>\n",
       "  <tbody>\n",
       "    <tr>\n",
       "      <th>0</th>\n",
       "      <td>11</td>\n",
       "      <td>154</td>\n",
       "      <td>6200</td>\n",
       "      <td>1</td>\n",
       "      <td>2017.0</td>\n",
       "      <td>50071</td>\n",
       "      <td>82.0</td>\n",
       "      <td>5</td>\n",
       "      <td>0</td>\n",
       "      <td>1</td>\n",
       "    </tr>\n",
       "    <tr>\n",
       "      <th>1</th>\n",
       "      <td>23</td>\n",
       "      <td>769</td>\n",
       "      <td>7851</td>\n",
       "      <td>0</td>\n",
       "      <td>2016.0</td>\n",
       "      <td>103000</td>\n",
       "      <td>100.0</td>\n",
       "      <td>5</td>\n",
       "      <td>0</td>\n",
       "      <td>1</td>\n",
       "    </tr>\n",
       "    <tr>\n",
       "      <th>2</th>\n",
       "      <td>70</td>\n",
       "      <td>200</td>\n",
       "      <td>19426</td>\n",
       "      <td>0</td>\n",
       "      <td>2014.0</td>\n",
       "      <td>120000</td>\n",
       "      <td>140.0</td>\n",
       "      <td>5</td>\n",
       "      <td>0</td>\n",
       "      <td>1</td>\n",
       "    </tr>\n",
       "    <tr>\n",
       "      <th>3</th>\n",
       "      <td>23</td>\n",
       "      <td>768</td>\n",
       "      <td>22850</td>\n",
       "      <td>0</td>\n",
       "      <td>2017.0</td>\n",
       "      <td>107000</td>\n",
       "      <td>130.0</td>\n",
       "      <td>3</td>\n",
       "      <td>0</td>\n",
       "      <td>1</td>\n",
       "    </tr>\n",
       "    <tr>\n",
       "      <th>4</th>\n",
       "      <td>52</td>\n",
       "      <td>33</td>\n",
       "      <td>11490</td>\n",
       "      <td>1</td>\n",
       "      <td>2016.0</td>\n",
       "      <td>78665</td>\n",
       "      <td>130.0</td>\n",
       "      <td>5</td>\n",
       "      <td>0</td>\n",
       "      <td>1</td>\n",
       "    </tr>\n",
       "    <tr>\n",
       "      <th>...</th>\n",
       "      <td>...</td>\n",
       "      <td>...</td>\n",
       "      <td>...</td>\n",
       "      <td>...</td>\n",
       "      <td>...</td>\n",
       "      <td>...</td>\n",
       "      <td>...</td>\n",
       "      <td>...</td>\n",
       "      <td>...</td>\n",
       "      <td>...</td>\n",
       "    </tr>\n",
       "    <tr>\n",
       "      <th>41349</th>\n",
       "      <td>27</td>\n",
       "      <td>869</td>\n",
       "      <td>18490</td>\n",
       "      <td>1</td>\n",
       "      <td>2018.0</td>\n",
       "      <td>47000</td>\n",
       "      <td>140.0</td>\n",
       "      <td>5</td>\n",
       "      <td>1</td>\n",
       "      <td>1</td>\n",
       "    </tr>\n",
       "    <tr>\n",
       "      <th>41350</th>\n",
       "      <td>56</td>\n",
       "      <td>463</td>\n",
       "      <td>14500</td>\n",
       "      <td>0</td>\n",
       "      <td>2015.0</td>\n",
       "      <td>68750</td>\n",
       "      <td>150.0</td>\n",
       "      <td>3</td>\n",
       "      <td>0</td>\n",
       "      <td>1</td>\n",
       "    </tr>\n",
       "    <tr>\n",
       "      <th>41351</th>\n",
       "      <td>52</td>\n",
       "      <td>5</td>\n",
       "      <td>11000</td>\n",
       "      <td>1</td>\n",
       "      <td>2019.0</td>\n",
       "      <td>21422</td>\n",
       "      <td>72.0</td>\n",
       "      <td>5</td>\n",
       "      <td>0</td>\n",
       "      <td>1</td>\n",
       "    </tr>\n",
       "    <tr>\n",
       "      <th>41352</th>\n",
       "      <td>4</td>\n",
       "      <td>625</td>\n",
       "      <td>47900</td>\n",
       "      <td>1</td>\n",
       "      <td>2013.0</td>\n",
       "      <td>47900</td>\n",
       "      <td>450.0</td>\n",
       "      <td>5</td>\n",
       "      <td>1</td>\n",
       "      <td>1</td>\n",
       "    </tr>\n",
       "    <tr>\n",
       "      <th>41353</th>\n",
       "      <td>11</td>\n",
       "      <td>155</td>\n",
       "      <td>2790</td>\n",
       "      <td>0</td>\n",
       "      <td>2006.0</td>\n",
       "      <td>106000</td>\n",
       "      <td>70.0</td>\n",
       "      <td>3</td>\n",
       "      <td>0</td>\n",
       "      <td>1</td>\n",
       "    </tr>\n",
       "  </tbody>\n",
       "</table>\n",
       "<p>41354 rows × 10 columns</p>\n",
       "</div>"
      ],
      "text/plain": [
       "       make  model  price  fuel    year     kms  power  doors  shift  \\\n",
       "0        11    154   6200     1  2017.0   50071   82.0      5      0   \n",
       "1        23    769   7851     0  2016.0  103000  100.0      5      0   \n",
       "2        70    200  19426     0  2014.0  120000  140.0      5      0   \n",
       "3        23    768  22850     0  2017.0  107000  130.0      3      0   \n",
       "4        52     33  11490     1  2016.0   78665  130.0      5      0   \n",
       "...     ...    ...    ...   ...     ...     ...    ...    ...    ...   \n",
       "41349    27    869  18490     1  2018.0   47000  140.0      5      1   \n",
       "41350    56    463  14500     0  2015.0   68750  150.0      3      0   \n",
       "41351    52      5  11000     1  2019.0   21422   72.0      5      0   \n",
       "41352     4    625  47900     1  2013.0   47900  450.0      5      1   \n",
       "41353    11    155   2790     0  2006.0  106000   70.0      3      0   \n",
       "\n",
       "       is_professional  \n",
       "0                    1  \n",
       "1                    1  \n",
       "2                    1  \n",
       "3                    1  \n",
       "4                    1  \n",
       "...                ...  \n",
       "41349                1  \n",
       "41350                1  \n",
       "41351                1  \n",
       "41352                1  \n",
       "41353                1  \n",
       "\n",
       "[41354 rows x 10 columns]"
      ]
     },
     "execution_count": 49,
     "metadata": {},
     "output_type": "execute_result"
    }
   ],
   "source": [
    "df = pd.read_csv(\"../data/processed/df_pre_modelo.csv\", index_col=0).reset_index(drop=True)\n",
    "df"
   ]
  },
  {
   "cell_type": "markdown",
   "metadata": {},
   "source": [
    "Ya tenemos 9 columnas numéricas con las que poder predecir la columna target (```\"price\"```). Vamos ahora a ver la distibución de datos de la columna target:"
   ]
  },
  {
   "cell_type": "code",
   "execution_count": 50,
   "metadata": {},
   "outputs": [
    {
     "data": {
      "text/plain": [
       "<Figure size 1200x800 with 0 Axes>"
      ]
     },
     "metadata": {},
     "output_type": "display_data"
    },
    {
     "data": {
      "image/png": "[encoded data removed]",
      "text/plain": [
       "<Figure size 500x500 with 1 Axes>"
      ]
     },
     "metadata": {},
     "output_type": "display_data"
    }
   ],
   "source": [
    "plt.figure(figsize=(12, 8))\n",
    "\n",
    "sns.displot(df[\"price\"], color=colors[0])\n",
    "\n",
    "plt.title(\"Cantidad de coches por precio\", fontsize=14)\n",
    "\n",
    "plt.xlabel(\"Precio (euros)\")\n",
    "plt.ylabel(\"Cantidad\")\n",
    "\n",
    "plt.show()"
   ]
  },
  {
   "cell_type": "markdown",
   "metadata": {},
   "source": [
    "Vemos que existen muchos coches con un precio más bajo, y que, para precios más elevados, se reduce el número. Para corregir esto, y aumentar la eficacia del modelo predictivo, vamos a aplicar una transformación logarítmica a la columna ```\"price\"```, de modo que los datos tiendan a una distribución normal. \n",
    "\n",
    "Al final, cuando ya esté hecho el modelo, habrá que deshacer esta transformación para obtener el precio real del vehículo a predecir."
   ]
  },
  {
   "cell_type": "code",
   "execution_count": 51,
   "metadata": {},
   "outputs": [],
   "source": [
    "# Transformación logarítmica del target\n",
    "\n",
    "df[\"price\"] = np.log(df[\"price\"])"
   ]
  },
  {
   "cell_type": "code",
   "execution_count": 52,
   "metadata": {},
   "outputs": [
    {
     "data": {
      "text/plain": [
       "<Figure size 1200x800 with 0 Axes>"
      ]
     },
     "metadata": {},
     "output_type": "display_data"
    },
    {
     "data": {
      "image/png": "[encoded data removed]",
      "text/plain": [
       "<Figure size 500x500 with 1 Axes>"
      ]
     },
     "metadata": {},
     "output_type": "display_data"
    }
   ],
   "source": [
    "plt.figure(figsize=(12, 8))\n",
    "\n",
    "sns.displot(df[\"price\"], color=colors[0])\n",
    "\n",
    "plt.title(\"Cantidad de coches por precio después de transformar\", fontsize=14)\n",
    "\n",
    "plt.xlabel(\"Precio transformado\")\n",
    "plt.ylabel(\"Cantidad\")\n",
    "\n",
    "plt.yticks(range(0, 2250, 250))\n",
    "\n",
    "plt.show()"
   ]
  },
  {
   "cell_type": "markdown",
   "metadata": {},
   "source": [
    "Vemos como ahora los datos del target se distibuyen de forma gaussiana, por lo que el modelo funcionará mejor.\n",
    "\n",
    "Vamos ahora a dividir los datos de X (features) e y (target)."
   ]
  },
  {
   "cell_type": "code",
   "execution_count": 53,
   "metadata": {},
   "outputs": [],
   "source": [
    "X = df.drop(\"price\", axis=1)\n",
    "y = df[\"price\"]"
   ]
  },
  {
   "cell_type": "code",
   "execution_count": 54,
   "metadata": {},
   "outputs": [
    {
     "data": {
      "text/html": [
       "<div>\n",
       "<style scoped>\n",
       "    .dataframe tbody tr th:only-of-type {\n",
       "        vertical-align: middle;\n",
       "    }\n",
       "\n",
       "    .dataframe tbody tr th {\n",
       "        vertical-align: top;\n",
       "    }\n",
       "\n",
       "    .dataframe thead th {\n",
       "        text-align: right;\n",
       "    }\n",
       "</style>\n",
       "<table border=\"1\" class=\"dataframe\">\n",
       "  <thead>\n",
       "    <tr style=\"text-align: right;\">\n",
       "      <th></th>\n",
       "      <th>make</th>\n",
       "      <th>model</th>\n",
       "      <th>fuel</th>\n",
       "      <th>year</th>\n",
       "      <th>kms</th>\n",
       "      <th>power</th>\n",
       "      <th>doors</th>\n",
       "      <th>shift</th>\n",
       "      <th>is_professional</th>\n",
       "    </tr>\n",
       "  </thead>\n",
       "  <tbody>\n",
       "    <tr>\n",
       "      <th>0</th>\n",
       "      <td>11</td>\n",
       "      <td>154</td>\n",
       "      <td>1</td>\n",
       "      <td>2017.0</td>\n",
       "      <td>50071</td>\n",
       "      <td>82.0</td>\n",
       "      <td>5</td>\n",
       "      <td>0</td>\n",
       "      <td>1</td>\n",
       "    </tr>\n",
       "    <tr>\n",
       "      <th>1</th>\n",
       "      <td>23</td>\n",
       "      <td>769</td>\n",
       "      <td>0</td>\n",
       "      <td>2016.0</td>\n",
       "      <td>103000</td>\n",
       "      <td>100.0</td>\n",
       "      <td>5</td>\n",
       "      <td>0</td>\n",
       "      <td>1</td>\n",
       "    </tr>\n",
       "    <tr>\n",
       "      <th>2</th>\n",
       "      <td>70</td>\n",
       "      <td>200</td>\n",
       "      <td>0</td>\n",
       "      <td>2014.0</td>\n",
       "      <td>120000</td>\n",
       "      <td>140.0</td>\n",
       "      <td>5</td>\n",
       "      <td>0</td>\n",
       "      <td>1</td>\n",
       "    </tr>\n",
       "    <tr>\n",
       "      <th>3</th>\n",
       "      <td>23</td>\n",
       "      <td>768</td>\n",
       "      <td>0</td>\n",
       "      <td>2017.0</td>\n",
       "      <td>107000</td>\n",
       "      <td>130.0</td>\n",
       "      <td>3</td>\n",
       "      <td>0</td>\n",
       "      <td>1</td>\n",
       "    </tr>\n",
       "    <tr>\n",
       "      <th>4</th>\n",
       "      <td>52</td>\n",
       "      <td>33</td>\n",
       "      <td>1</td>\n",
       "      <td>2016.0</td>\n",
       "      <td>78665</td>\n",
       "      <td>130.0</td>\n",
       "      <td>5</td>\n",
       "      <td>0</td>\n",
       "      <td>1</td>\n",
       "    </tr>\n",
       "    <tr>\n",
       "      <th>...</th>\n",
       "      <td>...</td>\n",
       "      <td>...</td>\n",
       "      <td>...</td>\n",
       "      <td>...</td>\n",
       "      <td>...</td>\n",
       "      <td>...</td>\n",
       "      <td>...</td>\n",
       "      <td>...</td>\n",
       "      <td>...</td>\n",
       "    </tr>\n",
       "    <tr>\n",
       "      <th>41349</th>\n",
       "      <td>27</td>\n",
       "      <td>869</td>\n",
       "      <td>1</td>\n",
       "      <td>2018.0</td>\n",
       "      <td>47000</td>\n",
       "      <td>140.0</td>\n",
       "      <td>5</td>\n",
       "      <td>1</td>\n",
       "      <td>1</td>\n",
       "    </tr>\n",
       "    <tr>\n",
       "      <th>41350</th>\n",
       "      <td>56</td>\n",
       "      <td>463</td>\n",
       "      <td>0</td>\n",
       "      <td>2015.0</td>\n",
       "      <td>68750</td>\n",
       "      <td>150.0</td>\n",
       "      <td>3</td>\n",
       "      <td>0</td>\n",
       "      <td>1</td>\n",
       "    </tr>\n",
       "    <tr>\n",
       "      <th>41351</th>\n",
       "      <td>52</td>\n",
       "      <td>5</td>\n",
       "      <td>1</td>\n",
       "      <td>2019.0</td>\n",
       "      <td>21422</td>\n",
       "      <td>72.0</td>\n",
       "      <td>5</td>\n",
       "      <td>0</td>\n",
       "      <td>1</td>\n",
       "    </tr>\n",
       "    <tr>\n",
       "      <th>41352</th>\n",
       "      <td>4</td>\n",
       "      <td>625</td>\n",
       "      <td>1</td>\n",
       "      <td>2013.0</td>\n",
       "      <td>47900</td>\n",
       "      <td>450.0</td>\n",
       "      <td>5</td>\n",
       "      <td>1</td>\n",
       "      <td>1</td>\n",
       "    </tr>\n",
       "    <tr>\n",
       "      <th>41353</th>\n",
       "      <td>11</td>\n",
       "      <td>155</td>\n",
       "      <td>0</td>\n",
       "      <td>2006.0</td>\n",
       "      <td>106000</td>\n",
       "      <td>70.0</td>\n",
       "      <td>3</td>\n",
       "      <td>0</td>\n",
       "      <td>1</td>\n",
       "    </tr>\n",
       "  </tbody>\n",
       "</table>\n",
       "<p>41354 rows × 9 columns</p>\n",
       "</div>"
      ],
      "text/plain": [
       "       make  model  fuel    year     kms  power  doors  shift  is_professional\n",
       "0        11    154     1  2017.0   50071   82.0      5      0                1\n",
       "1        23    769     0  2016.0  103000  100.0      5      0                1\n",
       "2        70    200     0  2014.0  120000  140.0      5      0                1\n",
       "3        23    768     0  2017.0  107000  130.0      3      0                1\n",
       "4        52     33     1  2016.0   78665  130.0      5      0                1\n",
       "...     ...    ...   ...     ...     ...    ...    ...    ...              ...\n",
       "41349    27    869     1  2018.0   47000  140.0      5      1                1\n",
       "41350    56    463     0  2015.0   68750  150.0      3      0                1\n",
       "41351    52      5     1  2019.0   21422   72.0      5      0                1\n",
       "41352     4    625     1  2013.0   47900  450.0      5      1                1\n",
       "41353    11    155     0  2006.0  106000   70.0      3      0                1\n",
       "\n",
       "[41354 rows x 9 columns]"
      ]
     },
     "execution_count": 54,
     "metadata": {},
     "output_type": "execute_result"
    }
   ],
   "source": [
    "X"
   ]
  },
  {
   "cell_type": "markdown",
   "metadata": {},
   "source": [
    "Vamos a realizar un heatmap de las features de nuestro modelo, para ver cómo de correlacionadas están entre ellas:"
   ]
  },
  {
   "cell_type": "code",
   "execution_count": 55,
   "metadata": {},
   "outputs": [
    {
     "data": {
      "image/png": "[encoded data removed]",
      "text/plain": [
       "<Figure size 1200x800 with 2 Axes>"
      ]
     },
     "metadata": {},
     "output_type": "display_data"
    }
   ],
   "source": [
    "matriz_corr = X.corr(numeric_only=True).round(decimals=3)\n",
    "\n",
    "plt.figure(figsize=(12, 8))\n",
    "\n",
    "sns.heatmap(matriz_corr, annot=True, cmap='coolwarm', vmin=-1, vmax=1)\n",
    "\n",
    "plt.show()"
   ]
  },
  {
   "cell_type": "markdown",
   "metadata": {},
   "source": [
    "Vemos que la mayor correlación se da entre los kilómetros y el año del vehículo, y es negativa. Esto es lógico, ya que cuanto mayor sea el año (y más nuevp el coche), menor suele ser el número de kilómetros realizados.\n",
    "\n",
    "Además de esto, cabe mencionar que ninguna de las correlaciones es lo suficientemente elevada como para plantearse prescindir de alguna columna."
   ]
  },
  {
   "cell_type": "markdown",
   "metadata": {},
   "source": [
    "Separamos los datos de train y test:"
   ]
  },
  {
   "cell_type": "code",
   "execution_count": 56,
   "metadata": {},
   "outputs": [
    {
     "name": "stdout",
     "output_type": "stream",
     "text": [
      "(33083, 9)\n",
      "(8271, 9)\n",
      "(33083,)\n",
      "(8271,)\n"
     ]
    }
   ],
   "source": [
    "from sklearn.model_selection import train_test_split\n",
    "\n",
    "X_train, X_test, y_train, y_test = train_test_split(X, y, test_size=0.2, random_state=42)\n",
    "\n",
    "print(X_train.shape)\n",
    "print(X_test.shape)\n",
    "print(y_train.shape)\n",
    "print(y_test.shape)"
   ]
  },
  {
   "cell_type": "markdown",
   "metadata": {},
   "source": [
    "Vamos a escalar los datos de X entre 0 y 1:"
   ]
  },
  {
   "cell_type": "code",
   "execution_count": 57,
   "metadata": {},
   "outputs": [],
   "source": [
    "from sklearn.preprocessing import MinMaxScaler\n",
    "\n",
    "scaler = MinMaxScaler()\n",
    "\n",
    "scaler.fit(X_train)\n",
    "\n",
    "# Guardamos el Scaler\n",
    "\n",
    "with open('../utils/scaler.pkl', 'wb') as archivo_salida4:\n",
    "    pickle.dump(scaler, archivo_salida4)\n",
    "\n",
    "X_train = scaler.transform(X_train)\n",
    "X_test = scaler.transform(X_test)"
   ]
  },
  {
   "cell_type": "code",
   "execution_count": 58,
   "metadata": {},
   "outputs": [
    {
     "data": {
      "text/plain": [
       "array([[0.95774648, 0.14318182, 0.33333333, ..., 1.        , 1.        ,\n",
       "        0.        ],\n",
       "       [0.05633803, 0.10454545, 0.16666667, ..., 0.        , 1.        ,\n",
       "        0.        ],\n",
       "       [0.05633803, 0.7125    , 0.16666667, ..., 1.        , 1.        ,\n",
       "        1.        ],\n",
       "       ...,\n",
       "       [0.09859155, 0.92613636, 0.        , ..., 1.        , 1.        ,\n",
       "        1.        ],\n",
       "       [0.38028169, 0.9875    , 0.        , ..., 1.        , 0.        ,\n",
       "        1.        ],\n",
       "       [0.78873239, 0.87045455, 0.        , ..., 1.        , 0.        ,\n",
       "        1.        ]])"
      ]
     },
     "execution_count": 58,
     "metadata": {},
     "output_type": "execute_result"
    }
   ],
   "source": [
    "X_train"
   ]
  },
  {
   "cell_type": "markdown",
   "metadata": {},
   "source": [
    "Comenzamos la seleción del modelo de regresión. Para ello, probamos varias parametrizaciones de modelos utilizando GridSearchCV."
   ]
  },
  {
   "cell_type": "code",
   "execution_count": 59,
   "metadata": {},
   "outputs": [],
   "source": [
    "# Importamos los modelos de regresión que utilizaremos\n",
    "\n",
    "from sklearn.linear_model import LinearRegression\n",
    "from sklearn.preprocessing import PolynomialFeatures\n",
    "# from sklearn.linear_model import Lasso\n",
    "# from sklearn.linear_model import Ridge\n",
    "# from sklearn.linear_model import ElasticNet\n",
    "\n",
    "from sklearn.ensemble import RandomForestRegressor\n",
    "from sklearn.ensemble import AdaBoostRegressor\n",
    "from sklearn.ensemble import GradientBoostingRegressor\n",
    "\n",
    "import xgboost\n",
    "\n",
    "from sklearn.ensemble import VotingRegressor\n",
    "\n",
    "from sklearn.model_selection import GridSearchCV\n",
    "\n",
    "from sklearn import metrics"
   ]
  },
  {
   "cell_type": "code",
   "execution_count": 57,
   "metadata": {},
   "outputs": [
    {
     "name": "stdout",
     "output_type": "stream",
     "text": [
      "\u001b[1;31mInit signature:\u001b[0m\n",
      "\u001b[0mLinearRegression\u001b[0m\u001b[1;33m(\u001b[0m\u001b[1;33m\n",
      "\u001b[0m    \u001b[1;33m*\u001b[0m\u001b[1;33m,\u001b[0m\u001b[1;33m\n",
      "\u001b[0m    \u001b[0mfit_intercept\u001b[0m\u001b[1;33m=\u001b[0m\u001b[1;32mTrue\u001b[0m\u001b[1;33m,\u001b[0m\u001b[1;33m\n",
      "\u001b[0m    \u001b[0mcopy_X\u001b[0m\u001b[1;33m=\u001b[0m\u001b[1;32mTrue\u001b[0m\u001b[1;33m,\u001b[0m\u001b[1;33m\n",
      "\u001b[0m    \u001b[0mn_jobs\u001b[0m\u001b[1;33m=\u001b[0m\u001b[1;32mNone\u001b[0m\u001b[1;33m,\u001b[0m\u001b[1;33m\n",
      "\u001b[0m    \u001b[0mpositive\u001b[0m\u001b[1;33m=\u001b[0m\u001b[1;32mFalse\u001b[0m\u001b[1;33m,\u001b[0m\u001b[1;33m\n",
      "\u001b[0m\u001b[1;33m)\u001b[0m\u001b[1;33m\u001b[0m\u001b[1;33m\u001b[0m\u001b[0m\n",
      "\u001b[1;31mSource:\u001b[0m        \n",
      "\u001b[1;32mclass\u001b[0m \u001b[0mLinearRegression\u001b[0m\u001b[1;33m(\u001b[0m\u001b[0mMultiOutputMixin\u001b[0m\u001b[1;33m,\u001b[0m \u001b[0mRegressorMixin\u001b[0m\u001b[1;33m,\u001b[0m \u001b[0mLinearModel\u001b[0m\u001b[1;33m)\u001b[0m\u001b[1;33m:\u001b[0m\u001b[1;33m\n",
      "\u001b[0m    \u001b[1;34m\"\"\"\n",
      "    Ordinary least squares Linear Regression.\n",
      "\n",
      "    LinearRegression fits a linear model with coefficients w = (w1, ..., wp)\n",
      "    to minimize the residual sum of squares between the observed targets in\n",
      "    the dataset, and the targets predicted by the linear approximation.\n",
      "\n",
      "    Parameters\n",
      "    ----------\n",
      "    fit_intercept : bool, default=True\n",
      "        Whether to calculate the intercept for this model. If set\n",
      "        to False, no intercept will be used in calculations\n",
      "        (i.e. data is expected to be centered).\n",
      "\n",
      "    copy_X : bool, default=True\n",
      "        If True, X will be copied; else, it may be overwritten.\n",
      "\n",
      "    n_jobs : int, default=None\n",
      "        The number of jobs to use for the computation. This will only provide\n",
      "        speedup in case of sufficiently large problems, that is if firstly\n",
      "        `n_targets > 1` and secondly `X` is sparse or if `positive` is set\n",
      "        to `True`. ``None`` means 1 unless in a\n",
      "        :obj:`joblib.parallel_backend` context. ``-1`` means using all\n",
      "        processors. See :term:`Glossary <n_jobs>` for more details.\n",
      "\n",
      "    positive : bool, default=False\n",
      "        When set to ``True``, forces the coefficients to be positive. This\n",
      "        option is only supported for dense arrays.\n",
      "\n",
      "        .. versionadded:: 0.24\n",
      "\n",
      "    Attributes\n",
      "    ----------\n",
      "    coef_ : array of shape (n_features, ) or (n_targets, n_features)\n",
      "        Estimated coefficients for the linear regression problem.\n",
      "        If multiple targets are passed during the fit (y 2D), this\n",
      "        is a 2D array of shape (n_targets, n_features), while if only\n",
      "        one target is passed, this is a 1D array of length n_features.\n",
      "\n",
      "    rank_ : int\n",
      "        Rank of matrix `X`. Only available when `X` is dense.\n",
      "\n",
      "    singular_ : array of shape (min(X, y),)\n",
      "        Singular values of `X`. Only available when `X` is dense.\n",
      "\n",
      "    intercept_ : float or array of shape (n_targets,)\n",
      "        Independent term in the linear model. Set to 0.0 if\n",
      "        `fit_intercept = False`.\n",
      "\n",
      "    n_features_in_ : int\n",
      "        Number of features seen during :term:`fit`.\n",
      "\n",
      "        .. versionadded:: 0.24\n",
      "\n",
      "    feature_names_in_ : ndarray of shape (`n_features_in_`,)\n",
      "        Names of features seen during :term:`fit`. Defined only when `X`\n",
      "        has feature names that are all strings.\n",
      "\n",
      "        .. versionadded:: 1.0\n",
      "\n",
      "    See Also\n",
      "    --------\n",
      "    Ridge : Ridge regression addresses some of the\n",
      "        problems of Ordinary Least Squares by imposing a penalty on the\n",
      "        size of the coefficients with l2 regularization.\n",
      "    Lasso : The Lasso is a linear model that estimates\n",
      "        sparse coefficients with l1 regularization.\n",
      "    ElasticNet : Elastic-Net is a linear regression\n",
      "        model trained with both l1 and l2 -norm regularization of the\n",
      "        coefficients.\n",
      "\n",
      "    Notes\n",
      "    -----\n",
      "    From the implementation point of view, this is just plain Ordinary\n",
      "    Least Squares (scipy.linalg.lstsq) or Non Negative Least Squares\n",
      "    (scipy.optimize.nnls) wrapped as a predictor object.\n",
      "\n",
      "    Examples\n",
      "    --------\n",
      "    >>> import numpy as np\n",
      "    >>> from sklearn.linear_model import LinearRegression\n",
      "    >>> X = np.array([[1, 1], [1, 2], [2, 2], [2, 3]])\n",
      "    >>> # y = 1 * x_0 + 2 * x_1 + 3\n",
      "    >>> y = np.dot(X, np.array([1, 2])) + 3\n",
      "    >>> reg = LinearRegression().fit(X, y)\n",
      "    >>> reg.score(X, y)\n",
      "    1.0\n",
      "    >>> reg.coef_\n",
      "    array([1., 2.])\n",
      "    >>> reg.intercept_\n",
      "    3.0...\n",
      "    >>> reg.predict(np.array([[3, 5]]))\n",
      "    array([16.])\n",
      "    \"\"\"\u001b[0m\u001b[1;33m\n",
      "\u001b[0m\u001b[1;33m\n",
      "\u001b[0m    \u001b[0m_parameter_constraints\u001b[0m\u001b[1;33m:\u001b[0m \u001b[0mdict\u001b[0m \u001b[1;33m=\u001b[0m \u001b[1;33m{\u001b[0m\u001b[1;33m\n",
      "\u001b[0m        \u001b[1;34m\"fit_intercept\"\u001b[0m\u001b[1;33m:\u001b[0m \u001b[1;33m[\u001b[0m\u001b[1;34m\"boolean\"\u001b[0m\u001b[1;33m]\u001b[0m\u001b[1;33m,\u001b[0m\u001b[1;33m\n",
      "\u001b[0m        \u001b[1;34m\"copy_X\"\u001b[0m\u001b[1;33m:\u001b[0m \u001b[1;33m[\u001b[0m\u001b[1;34m\"boolean\"\u001b[0m\u001b[1;33m]\u001b[0m\u001b[1;33m,\u001b[0m\u001b[1;33m\n",
      "\u001b[0m        \u001b[1;34m\"n_jobs\"\u001b[0m\u001b[1;33m:\u001b[0m \u001b[1;33m[\u001b[0m\u001b[1;32mNone\u001b[0m\u001b[1;33m,\u001b[0m \u001b[0mIntegral\u001b[0m\u001b[1;33m]\u001b[0m\u001b[1;33m,\u001b[0m\u001b[1;33m\n",
      "\u001b[0m        \u001b[1;34m\"positive\"\u001b[0m\u001b[1;33m:\u001b[0m \u001b[1;33m[\u001b[0m\u001b[1;34m\"boolean\"\u001b[0m\u001b[1;33m]\u001b[0m\u001b[1;33m,\u001b[0m\u001b[1;33m\n",
      "\u001b[0m    \u001b[1;33m}\u001b[0m\u001b[1;33m\n",
      "\u001b[0m\u001b[1;33m\n",
      "\u001b[0m    \u001b[1;32mdef\u001b[0m \u001b[0m__init__\u001b[0m\u001b[1;33m(\u001b[0m\u001b[1;33m\n",
      "\u001b[0m        \u001b[0mself\u001b[0m\u001b[1;33m,\u001b[0m\u001b[1;33m\n",
      "\u001b[0m        \u001b[1;33m*\u001b[0m\u001b[1;33m,\u001b[0m\u001b[1;33m\n",
      "\u001b[0m        \u001b[0mfit_intercept\u001b[0m\u001b[1;33m=\u001b[0m\u001b[1;32mTrue\u001b[0m\u001b[1;33m,\u001b[0m\u001b[1;33m\n",
      "\u001b[0m        \u001b[0mcopy_X\u001b[0m\u001b[1;33m=\u001b[0m\u001b[1;32mTrue\u001b[0m\u001b[1;33m,\u001b[0m\u001b[1;33m\n",
      "\u001b[0m        \u001b[0mn_jobs\u001b[0m\u001b[1;33m=\u001b[0m\u001b[1;32mNone\u001b[0m\u001b[1;33m,\u001b[0m\u001b[1;33m\n",
      "\u001b[0m        \u001b[0mpositive\u001b[0m\u001b[1;33m=\u001b[0m\u001b[1;32mFalse\u001b[0m\u001b[1;33m,\u001b[0m\u001b[1;33m\n",
      "\u001b[0m    \u001b[1;33m)\u001b[0m\u001b[1;33m:\u001b[0m\u001b[1;33m\n",
      "\u001b[0m        \u001b[0mself\u001b[0m\u001b[1;33m.\u001b[0m\u001b[0mfit_intercept\u001b[0m \u001b[1;33m=\u001b[0m \u001b[0mfit_intercept\u001b[0m\u001b[1;33m\n",
      "\u001b[0m        \u001b[0mself\u001b[0m\u001b[1;33m.\u001b[0m\u001b[0mcopy_X\u001b[0m \u001b[1;33m=\u001b[0m \u001b[0mcopy_X\u001b[0m\u001b[1;33m\n",
      "\u001b[0m        \u001b[0mself\u001b[0m\u001b[1;33m.\u001b[0m\u001b[0mn_jobs\u001b[0m \u001b[1;33m=\u001b[0m \u001b[0mn_jobs\u001b[0m\u001b[1;33m\n",
      "\u001b[0m        \u001b[0mself\u001b[0m\u001b[1;33m.\u001b[0m\u001b[0mpositive\u001b[0m \u001b[1;33m=\u001b[0m \u001b[0mpositive\u001b[0m\u001b[1;33m\n",
      "\u001b[0m\u001b[1;33m\n",
      "\u001b[0m    \u001b[1;33m@\u001b[0m\u001b[0m_fit_context\u001b[0m\u001b[1;33m(\u001b[0m\u001b[0mprefer_skip_nested_validation\u001b[0m\u001b[1;33m=\u001b[0m\u001b[1;32mTrue\u001b[0m\u001b[1;33m)\u001b[0m\u001b[1;33m\n",
      "\u001b[0m    \u001b[1;32mdef\u001b[0m \u001b[0mfit\u001b[0m\u001b[1;33m(\u001b[0m\u001b[0mself\u001b[0m\u001b[1;33m,\u001b[0m \u001b[0mX\u001b[0m\u001b[1;33m,\u001b[0m \u001b[0my\u001b[0m\u001b[1;33m,\u001b[0m \u001b[0msample_weight\u001b[0m\u001b[1;33m=\u001b[0m\u001b[1;32mNone\u001b[0m\u001b[1;33m)\u001b[0m\u001b[1;33m:\u001b[0m\u001b[1;33m\n",
      "\u001b[0m        \u001b[1;34m\"\"\"\n",
      "        Fit linear model.\n",
      "\n",
      "        Parameters\n",
      "        ----------\n",
      "        X : {array-like, sparse matrix} of shape (n_samples, n_features)\n",
      "            Training data.\n",
      "\n",
      "        y : array-like of shape (n_samples,) or (n_samples, n_targets)\n",
      "            Target values. Will be cast to X's dtype if necessary.\n",
      "\n",
      "        sample_weight : array-like of shape (n_samples,), default=None\n",
      "            Individual weights for each sample.\n",
      "\n",
      "            .. versionadded:: 0.17\n",
      "               parameter *sample_weight* support to LinearRegression.\n",
      "\n",
      "        Returns\n",
      "        -------\n",
      "        self : object\n",
      "            Fitted Estimator.\n",
      "        \"\"\"\u001b[0m\u001b[1;33m\n",
      "\u001b[0m        \u001b[0mn_jobs_\u001b[0m \u001b[1;33m=\u001b[0m \u001b[0mself\u001b[0m\u001b[1;33m.\u001b[0m\u001b[0mn_jobs\u001b[0m\u001b[1;33m\n",
      "\u001b[0m\u001b[1;33m\n",
      "\u001b[0m        \u001b[0maccept_sparse\u001b[0m \u001b[1;33m=\u001b[0m \u001b[1;32mFalse\u001b[0m \u001b[1;32mif\u001b[0m \u001b[0mself\u001b[0m\u001b[1;33m.\u001b[0m\u001b[0mpositive\u001b[0m \u001b[1;32melse\u001b[0m \u001b[1;33m[\u001b[0m\u001b[1;34m\"csr\"\u001b[0m\u001b[1;33m,\u001b[0m \u001b[1;34m\"csc\"\u001b[0m\u001b[1;33m,\u001b[0m \u001b[1;34m\"coo\"\u001b[0m\u001b[1;33m]\u001b[0m\u001b[1;33m\n",
      "\u001b[0m\u001b[1;33m\n",
      "\u001b[0m        \u001b[0mX\u001b[0m\u001b[1;33m,\u001b[0m \u001b[0my\u001b[0m \u001b[1;33m=\u001b[0m \u001b[0mself\u001b[0m\u001b[1;33m.\u001b[0m\u001b[0m_validate_data\u001b[0m\u001b[1;33m(\u001b[0m\u001b[1;33m\n",
      "\u001b[0m            \u001b[0mX\u001b[0m\u001b[1;33m,\u001b[0m \u001b[0my\u001b[0m\u001b[1;33m,\u001b[0m \u001b[0maccept_sparse\u001b[0m\u001b[1;33m=\u001b[0m\u001b[0maccept_sparse\u001b[0m\u001b[1;33m,\u001b[0m \u001b[0my_numeric\u001b[0m\u001b[1;33m=\u001b[0m\u001b[1;32mTrue\u001b[0m\u001b[1;33m,\u001b[0m \u001b[0mmulti_output\u001b[0m\u001b[1;33m=\u001b[0m\u001b[1;32mTrue\u001b[0m\u001b[1;33m\n",
      "\u001b[0m        \u001b[1;33m)\u001b[0m\u001b[1;33m\n",
      "\u001b[0m\u001b[1;33m\n",
      "\u001b[0m        \u001b[0mhas_sw\u001b[0m \u001b[1;33m=\u001b[0m \u001b[0msample_weight\u001b[0m \u001b[1;32mis\u001b[0m \u001b[1;32mnot\u001b[0m \u001b[1;32mNone\u001b[0m\u001b[1;33m\n",
      "\u001b[0m        \u001b[1;32mif\u001b[0m \u001b[0mhas_sw\u001b[0m\u001b[1;33m:\u001b[0m\u001b[1;33m\n",
      "\u001b[0m            \u001b[0msample_weight\u001b[0m \u001b[1;33m=\u001b[0m \u001b[0m_check_sample_weight\u001b[0m\u001b[1;33m(\u001b[0m\u001b[1;33m\n",
      "\u001b[0m                \u001b[0msample_weight\u001b[0m\u001b[1;33m,\u001b[0m \u001b[0mX\u001b[0m\u001b[1;33m,\u001b[0m \u001b[0mdtype\u001b[0m\u001b[1;33m=\u001b[0m\u001b[0mX\u001b[0m\u001b[1;33m.\u001b[0m\u001b[0mdtype\u001b[0m\u001b[1;33m,\u001b[0m \u001b[0monly_non_negative\u001b[0m\u001b[1;33m=\u001b[0m\u001b[1;32mTrue\u001b[0m\u001b[1;33m\n",
      "\u001b[0m            \u001b[1;33m)\u001b[0m\u001b[1;33m\n",
      "\u001b[0m\u001b[1;33m\n",
      "\u001b[0m        \u001b[1;31m# Note that neither _rescale_data nor the rest of the fit method of\u001b[0m\u001b[1;33m\n",
      "\u001b[0m        \u001b[1;31m# LinearRegression can benefit from in-place operations when X is a\u001b[0m\u001b[1;33m\n",
      "\u001b[0m        \u001b[1;31m# sparse matrix. Therefore, let's not copy X when it is sparse.\u001b[0m\u001b[1;33m\n",
      "\u001b[0m        \u001b[0mcopy_X_in_preprocess_data\u001b[0m \u001b[1;33m=\u001b[0m \u001b[0mself\u001b[0m\u001b[1;33m.\u001b[0m\u001b[0mcopy_X\u001b[0m \u001b[1;32mand\u001b[0m \u001b[1;32mnot\u001b[0m \u001b[0msp\u001b[0m\u001b[1;33m.\u001b[0m\u001b[0missparse\u001b[0m\u001b[1;33m(\u001b[0m\u001b[0mX\u001b[0m\u001b[1;33m)\u001b[0m\u001b[1;33m\n",
      "\u001b[0m\u001b[1;33m\n",
      "\u001b[0m        \u001b[0mX\u001b[0m\u001b[1;33m,\u001b[0m \u001b[0my\u001b[0m\u001b[1;33m,\u001b[0m \u001b[0mX_offset\u001b[0m\u001b[1;33m,\u001b[0m \u001b[0my_offset\u001b[0m\u001b[1;33m,\u001b[0m \u001b[0mX_scale\u001b[0m \u001b[1;33m=\u001b[0m \u001b[0m_preprocess_data\u001b[0m\u001b[1;33m(\u001b[0m\u001b[1;33m\n",
      "\u001b[0m            \u001b[0mX\u001b[0m\u001b[1;33m,\u001b[0m\u001b[1;33m\n",
      "\u001b[0m            \u001b[0my\u001b[0m\u001b[1;33m,\u001b[0m\u001b[1;33m\n",
      "\u001b[0m            \u001b[0mfit_intercept\u001b[0m\u001b[1;33m=\u001b[0m\u001b[0mself\u001b[0m\u001b[1;33m.\u001b[0m\u001b[0mfit_intercept\u001b[0m\u001b[1;33m,\u001b[0m\u001b[1;33m\n",
      "\u001b[0m            \u001b[0mcopy\u001b[0m\u001b[1;33m=\u001b[0m\u001b[0mcopy_X_in_preprocess_data\u001b[0m\u001b[1;33m,\u001b[0m\u001b[1;33m\n",
      "\u001b[0m            \u001b[0msample_weight\u001b[0m\u001b[1;33m=\u001b[0m\u001b[0msample_weight\u001b[0m\u001b[1;33m,\u001b[0m\u001b[1;33m\n",
      "\u001b[0m        \u001b[1;33m)\u001b[0m\u001b[1;33m\n",
      "\u001b[0m\u001b[1;33m\n",
      "\u001b[0m        \u001b[1;32mif\u001b[0m \u001b[0mhas_sw\u001b[0m\u001b[1;33m:\u001b[0m\u001b[1;33m\n",
      "\u001b[0m            \u001b[1;31m# Sample weight can be implemented via a simple rescaling. Note\u001b[0m\u001b[1;33m\n",
      "\u001b[0m            \u001b[1;31m# that we safely do inplace rescaling when _preprocess_data has\u001b[0m\u001b[1;33m\n",
      "\u001b[0m            \u001b[1;31m# already made a copy if requested.\u001b[0m\u001b[1;33m\n",
      "\u001b[0m            \u001b[0mX\u001b[0m\u001b[1;33m,\u001b[0m \u001b[0my\u001b[0m\u001b[1;33m,\u001b[0m \u001b[0msample_weight_sqrt\u001b[0m \u001b[1;33m=\u001b[0m \u001b[0m_rescale_data\u001b[0m\u001b[1;33m(\u001b[0m\u001b[1;33m\n",
      "\u001b[0m                \u001b[0mX\u001b[0m\u001b[1;33m,\u001b[0m \u001b[0my\u001b[0m\u001b[1;33m,\u001b[0m \u001b[0msample_weight\u001b[0m\u001b[1;33m,\u001b[0m \u001b[0minplace\u001b[0m\u001b[1;33m=\u001b[0m\u001b[0mcopy_X_in_preprocess_data\u001b[0m\u001b[1;33m\n",
      "\u001b[0m            \u001b[1;33m)\u001b[0m\u001b[1;33m\n",
      "\u001b[0m\u001b[1;33m\n",
      "\u001b[0m        \u001b[1;32mif\u001b[0m \u001b[0mself\u001b[0m\u001b[1;33m.\u001b[0m\u001b[0mpositive\u001b[0m\u001b[1;33m:\u001b[0m\u001b[1;33m\n",
      "\u001b[0m            \u001b[1;32mif\u001b[0m \u001b[0my\u001b[0m\u001b[1;33m.\u001b[0m\u001b[0mndim\u001b[0m \u001b[1;33m<\u001b[0m \u001b[1;36m2\u001b[0m\u001b[1;33m:\u001b[0m\u001b[1;33m\n",
      "\u001b[0m                \u001b[0mself\u001b[0m\u001b[1;33m.\u001b[0m\u001b[0mcoef_\u001b[0m \u001b[1;33m=\u001b[0m \u001b[0moptimize\u001b[0m\u001b[1;33m.\u001b[0m\u001b[0mnnls\u001b[0m\u001b[1;33m(\u001b[0m\u001b[0mX\u001b[0m\u001b[1;33m,\u001b[0m \u001b[0my\u001b[0m\u001b[1;33m)\u001b[0m\u001b[1;33m[\u001b[0m\u001b[1;36m0\u001b[0m\u001b[1;33m]\u001b[0m\u001b[1;33m\n",
      "\u001b[0m            \u001b[1;32melse\u001b[0m\u001b[1;33m:\u001b[0m\u001b[1;33m\n",
      "\u001b[0m                \u001b[1;31m# scipy.optimize.nnls cannot handle y with shape (M, K)\u001b[0m\u001b[1;33m\n",
      "\u001b[0m                \u001b[0mouts\u001b[0m \u001b[1;33m=\u001b[0m \u001b[0mParallel\u001b[0m\u001b[1;33m(\u001b[0m\u001b[0mn_jobs\u001b[0m\u001b[1;33m=\u001b[0m\u001b[0mn_jobs_\u001b[0m\u001b[1;33m)\u001b[0m\u001b[1;33m(\u001b[0m\u001b[1;33m\n",
      "\u001b[0m                    \u001b[0mdelayed\u001b[0m\u001b[1;33m(\u001b[0m\u001b[0moptimize\u001b[0m\u001b[1;33m.\u001b[0m\u001b[0mnnls\u001b[0m\u001b[1;33m)\u001b[0m\u001b[1;33m(\u001b[0m\u001b[0mX\u001b[0m\u001b[1;33m,\u001b[0m \u001b[0my\u001b[0m\u001b[1;33m[\u001b[0m\u001b[1;33m:\u001b[0m\u001b[1;33m,\u001b[0m \u001b[0mj\u001b[0m\u001b[1;33m]\u001b[0m\u001b[1;33m)\u001b[0m \u001b[1;32mfor\u001b[0m \u001b[0mj\u001b[0m \u001b[1;32min\u001b[0m \u001b[0mrange\u001b[0m\u001b[1;33m(\u001b[0m\u001b[0my\u001b[0m\u001b[1;33m.\u001b[0m\u001b[0mshape\u001b[0m\u001b[1;33m[\u001b[0m\u001b[1;36m1\u001b[0m\u001b[1;33m]\u001b[0m\u001b[1;33m)\u001b[0m\u001b[1;33m\n",
      "\u001b[0m                \u001b[1;33m)\u001b[0m\u001b[1;33m\n",
      "\u001b[0m                \u001b[0mself\u001b[0m\u001b[1;33m.\u001b[0m\u001b[0mcoef_\u001b[0m \u001b[1;33m=\u001b[0m \u001b[0mnp\u001b[0m\u001b[1;33m.\u001b[0m\u001b[0mvstack\u001b[0m\u001b[1;33m(\u001b[0m\u001b[1;33m[\u001b[0m\u001b[0mout\u001b[0m\u001b[1;33m[\u001b[0m\u001b[1;36m0\u001b[0m\u001b[1;33m]\u001b[0m \u001b[1;32mfor\u001b[0m \u001b[0mout\u001b[0m \u001b[1;32min\u001b[0m \u001b[0mouts\u001b[0m\u001b[1;33m]\u001b[0m\u001b[1;33m)\u001b[0m\u001b[1;33m\n",
      "\u001b[0m        \u001b[1;32melif\u001b[0m \u001b[0msp\u001b[0m\u001b[1;33m.\u001b[0m\u001b[0missparse\u001b[0m\u001b[1;33m(\u001b[0m\u001b[0mX\u001b[0m\u001b[1;33m)\u001b[0m\u001b[1;33m:\u001b[0m\u001b[1;33m\n",
      "\u001b[0m            \u001b[0mX_offset_scale\u001b[0m \u001b[1;33m=\u001b[0m \u001b[0mX_offset\u001b[0m \u001b[1;33m/\u001b[0m \u001b[0mX_scale\u001b[0m\u001b[1;33m\n",
      "\u001b[0m\u001b[1;33m\n",
      "\u001b[0m            \u001b[1;32mif\u001b[0m \u001b[0mhas_sw\u001b[0m\u001b[1;33m:\u001b[0m\u001b[1;33m\n",
      "\u001b[0m\u001b[1;33m\n",
      "\u001b[0m                \u001b[1;32mdef\u001b[0m \u001b[0mmatvec\u001b[0m\u001b[1;33m(\u001b[0m\u001b[0mb\u001b[0m\u001b[1;33m)\u001b[0m\u001b[1;33m:\u001b[0m\u001b[1;33m\n",
      "\u001b[0m                    \u001b[1;32mreturn\u001b[0m \u001b[0mX\u001b[0m\u001b[1;33m.\u001b[0m\u001b[0mdot\u001b[0m\u001b[1;33m(\u001b[0m\u001b[0mb\u001b[0m\u001b[1;33m)\u001b[0m \u001b[1;33m-\u001b[0m \u001b[0msample_weight_sqrt\u001b[0m \u001b[1;33m*\u001b[0m \u001b[0mb\u001b[0m\u001b[1;33m.\u001b[0m\u001b[0mdot\u001b[0m\u001b[1;33m(\u001b[0m\u001b[0mX_offset_scale\u001b[0m\u001b[1;33m)\u001b[0m\u001b[1;33m\n",
      "\u001b[0m\u001b[1;33m\n",
      "\u001b[0m                \u001b[1;32mdef\u001b[0m \u001b[0mrmatvec\u001b[0m\u001b[1;33m(\u001b[0m\u001b[0mb\u001b[0m\u001b[1;33m)\u001b[0m\u001b[1;33m:\u001b[0m\u001b[1;33m\n",
      "\u001b[0m                    \u001b[1;32mreturn\u001b[0m \u001b[0mX\u001b[0m\u001b[1;33m.\u001b[0m\u001b[0mT\u001b[0m\u001b[1;33m.\u001b[0m\u001b[0mdot\u001b[0m\u001b[1;33m(\u001b[0m\u001b[0mb\u001b[0m\u001b[1;33m)\u001b[0m \u001b[1;33m-\u001b[0m \u001b[0mX_offset_scale\u001b[0m \u001b[1;33m*\u001b[0m \u001b[0mb\u001b[0m\u001b[1;33m.\u001b[0m\u001b[0mdot\u001b[0m\u001b[1;33m(\u001b[0m\u001b[0msample_weight_sqrt\u001b[0m\u001b[1;33m)\u001b[0m\u001b[1;33m\n",
      "\u001b[0m\u001b[1;33m\n",
      "\u001b[0m            \u001b[1;32melse\u001b[0m\u001b[1;33m:\u001b[0m\u001b[1;33m\n",
      "\u001b[0m\u001b[1;33m\n",
      "\u001b[0m                \u001b[1;32mdef\u001b[0m \u001b[0mmatvec\u001b[0m\u001b[1;33m(\u001b[0m\u001b[0mb\u001b[0m\u001b[1;33m)\u001b[0m\u001b[1;33m:\u001b[0m\u001b[1;33m\n",
      "\u001b[0m                    \u001b[1;32mreturn\u001b[0m \u001b[0mX\u001b[0m\u001b[1;33m.\u001b[0m\u001b[0mdot\u001b[0m\u001b[1;33m(\u001b[0m\u001b[0mb\u001b[0m\u001b[1;33m)\u001b[0m \u001b[1;33m-\u001b[0m \u001b[0mb\u001b[0m\u001b[1;33m.\u001b[0m\u001b[0mdot\u001b[0m\u001b[1;33m(\u001b[0m\u001b[0mX_offset_scale\u001b[0m\u001b[1;33m)\u001b[0m\u001b[1;33m\n",
      "\u001b[0m\u001b[1;33m\n",
      "\u001b[0m                \u001b[1;32mdef\u001b[0m \u001b[0mrmatvec\u001b[0m\u001b[1;33m(\u001b[0m\u001b[0mb\u001b[0m\u001b[1;33m)\u001b[0m\u001b[1;33m:\u001b[0m\u001b[1;33m\n",
      "\u001b[0m                    \u001b[1;32mreturn\u001b[0m \u001b[0mX\u001b[0m\u001b[1;33m.\u001b[0m\u001b[0mT\u001b[0m\u001b[1;33m.\u001b[0m\u001b[0mdot\u001b[0m\u001b[1;33m(\u001b[0m\u001b[0mb\u001b[0m\u001b[1;33m)\u001b[0m \u001b[1;33m-\u001b[0m \u001b[0mX_offset_scale\u001b[0m \u001b[1;33m*\u001b[0m \u001b[0mb\u001b[0m\u001b[1;33m.\u001b[0m\u001b[0msum\u001b[0m\u001b[1;33m(\u001b[0m\u001b[1;33m)\u001b[0m\u001b[1;33m\n",
      "\u001b[0m\u001b[1;33m\n",
      "\u001b[0m            \u001b[0mX_centered\u001b[0m \u001b[1;33m=\u001b[0m \u001b[0msparse\u001b[0m\u001b[1;33m.\u001b[0m\u001b[0mlinalg\u001b[0m\u001b[1;33m.\u001b[0m\u001b[0mLinearOperator\u001b[0m\u001b[1;33m(\u001b[0m\u001b[1;33m\n",
      "\u001b[0m                \u001b[0mshape\u001b[0m\u001b[1;33m=\u001b[0m\u001b[0mX\u001b[0m\u001b[1;33m.\u001b[0m\u001b[0mshape\u001b[0m\u001b[1;33m,\u001b[0m \u001b[0mmatvec\u001b[0m\u001b[1;33m=\u001b[0m\u001b[0mmatvec\u001b[0m\u001b[1;33m,\u001b[0m \u001b[0mrmatvec\u001b[0m\u001b[1;33m=\u001b[0m\u001b[0mrmatvec\u001b[0m\u001b[1;33m\n",
      "\u001b[0m            \u001b[1;33m)\u001b[0m\u001b[1;33m\n",
      "\u001b[0m\u001b[1;33m\n",
      "\u001b[0m            \u001b[1;32mif\u001b[0m \u001b[0my\u001b[0m\u001b[1;33m.\u001b[0m\u001b[0mndim\u001b[0m \u001b[1;33m<\u001b[0m \u001b[1;36m2\u001b[0m\u001b[1;33m:\u001b[0m\u001b[1;33m\n",
      "\u001b[0m                \u001b[0mself\u001b[0m\u001b[1;33m.\u001b[0m\u001b[0mcoef_\u001b[0m \u001b[1;33m=\u001b[0m \u001b[0mlsqr\u001b[0m\u001b[1;33m(\u001b[0m\u001b[0mX_centered\u001b[0m\u001b[1;33m,\u001b[0m \u001b[0my\u001b[0m\u001b[1;33m)\u001b[0m\u001b[1;33m[\u001b[0m\u001b[1;36m0\u001b[0m\u001b[1;33m]\u001b[0m\u001b[1;33m\n",
      "\u001b[0m            \u001b[1;32melse\u001b[0m\u001b[1;33m:\u001b[0m\u001b[1;33m\n",
      "\u001b[0m                \u001b[1;31m# sparse_lstsq cannot handle y with shape (M, K)\u001b[0m\u001b[1;33m\n",
      "\u001b[0m                \u001b[0mouts\u001b[0m \u001b[1;33m=\u001b[0m \u001b[0mParallel\u001b[0m\u001b[1;33m(\u001b[0m\u001b[0mn_jobs\u001b[0m\u001b[1;33m=\u001b[0m\u001b[0mn_jobs_\u001b[0m\u001b[1;33m)\u001b[0m\u001b[1;33m(\u001b[0m\u001b[1;33m\n",
      "\u001b[0m                    \u001b[0mdelayed\u001b[0m\u001b[1;33m(\u001b[0m\u001b[0mlsqr\u001b[0m\u001b[1;33m)\u001b[0m\u001b[1;33m(\u001b[0m\u001b[0mX_centered\u001b[0m\u001b[1;33m,\u001b[0m \u001b[0my\u001b[0m\u001b[1;33m[\u001b[0m\u001b[1;33m:\u001b[0m\u001b[1;33m,\u001b[0m \u001b[0mj\u001b[0m\u001b[1;33m]\u001b[0m\u001b[1;33m.\u001b[0m\u001b[0mravel\u001b[0m\u001b[1;33m(\u001b[0m\u001b[1;33m)\u001b[0m\u001b[1;33m)\u001b[0m\u001b[1;33m\n",
      "\u001b[0m                    \u001b[1;32mfor\u001b[0m \u001b[0mj\u001b[0m \u001b[1;32min\u001b[0m \u001b[0mrange\u001b[0m\u001b[1;33m(\u001b[0m\u001b[0my\u001b[0m\u001b[1;33m.\u001b[0m\u001b[0mshape\u001b[0m\u001b[1;33m[\u001b[0m\u001b[1;36m1\u001b[0m\u001b[1;33m]\u001b[0m\u001b[1;33m)\u001b[0m\u001b[1;33m\n",
      "\u001b[0m                \u001b[1;33m)\u001b[0m\u001b[1;33m\n",
      "\u001b[0m                \u001b[0mself\u001b[0m\u001b[1;33m.\u001b[0m\u001b[0mcoef_\u001b[0m \u001b[1;33m=\u001b[0m \u001b[0mnp\u001b[0m\u001b[1;33m.\u001b[0m\u001b[0mvstack\u001b[0m\u001b[1;33m(\u001b[0m\u001b[1;33m[\u001b[0m\u001b[0mout\u001b[0m\u001b[1;33m[\u001b[0m\u001b[1;36m0\u001b[0m\u001b[1;33m]\u001b[0m \u001b[1;32mfor\u001b[0m \u001b[0mout\u001b[0m \u001b[1;32min\u001b[0m \u001b[0mouts\u001b[0m\u001b[1;33m]\u001b[0m\u001b[1;33m)\u001b[0m\u001b[1;33m\n",
      "\u001b[0m        \u001b[1;32melse\u001b[0m\u001b[1;33m:\u001b[0m\u001b[1;33m\n",
      "\u001b[0m            \u001b[0mself\u001b[0m\u001b[1;33m.\u001b[0m\u001b[0mcoef_\u001b[0m\u001b[1;33m,\u001b[0m \u001b[0m_\u001b[0m\u001b[1;33m,\u001b[0m \u001b[0mself\u001b[0m\u001b[1;33m.\u001b[0m\u001b[0mrank_\u001b[0m\u001b[1;33m,\u001b[0m \u001b[0mself\u001b[0m\u001b[1;33m.\u001b[0m\u001b[0msingular_\u001b[0m \u001b[1;33m=\u001b[0m \u001b[0mlinalg\u001b[0m\u001b[1;33m.\u001b[0m\u001b[0mlstsq\u001b[0m\u001b[1;33m(\u001b[0m\u001b[0mX\u001b[0m\u001b[1;33m,\u001b[0m \u001b[0my\u001b[0m\u001b[1;33m)\u001b[0m\u001b[1;33m\n",
      "\u001b[0m            \u001b[0mself\u001b[0m\u001b[1;33m.\u001b[0m\u001b[0mcoef_\u001b[0m \u001b[1;33m=\u001b[0m \u001b[0mself\u001b[0m\u001b[1;33m.\u001b[0m\u001b[0mcoef_\u001b[0m\u001b[1;33m.\u001b[0m\u001b[0mT\u001b[0m\u001b[1;33m\n",
      "\u001b[0m\u001b[1;33m\n",
      "\u001b[0m        \u001b[1;32mif\u001b[0m \u001b[0my\u001b[0m\u001b[1;33m.\u001b[0m\u001b[0mndim\u001b[0m \u001b[1;33m==\u001b[0m \u001b[1;36m1\u001b[0m\u001b[1;33m:\u001b[0m\u001b[1;33m\n",
      "\u001b[0m            \u001b[0mself\u001b[0m\u001b[1;33m.\u001b[0m\u001b[0mcoef_\u001b[0m \u001b[1;33m=\u001b[0m \u001b[0mnp\u001b[0m\u001b[1;33m.\u001b[0m\u001b[0mravel\u001b[0m\u001b[1;33m(\u001b[0m\u001b[0mself\u001b[0m\u001b[1;33m.\u001b[0m\u001b[0mcoef_\u001b[0m\u001b[1;33m)\u001b[0m\u001b[1;33m\n",
      "\u001b[0m        \u001b[0mself\u001b[0m\u001b[1;33m.\u001b[0m\u001b[0m_set_intercept\u001b[0m\u001b[1;33m(\u001b[0m\u001b[0mX_offset\u001b[0m\u001b[1;33m,\u001b[0m \u001b[0my_offset\u001b[0m\u001b[1;33m,\u001b[0m \u001b[0mX_scale\u001b[0m\u001b[1;33m)\u001b[0m\u001b[1;33m\n",
      "\u001b[0m        \u001b[1;32mreturn\u001b[0m \u001b[0mself\u001b[0m\u001b[1;33m\u001b[0m\u001b[1;33m\u001b[0m\u001b[0m\n",
      "\u001b[1;31mFile:\u001b[0m           c:\\users\\apint\\anaconda3\\envs\\eda_env\\lib\\site-packages\\sklearn\\linear_model\\_base.py\n",
      "\u001b[1;31mType:\u001b[0m           ABCMeta\n",
      "\u001b[1;31mSubclasses:\u001b[0m     "
     ]
    }
   ],
   "source": [
    "LinearRegression??"
   ]
  },
  {
   "cell_type": "markdown",
   "metadata": {},
   "source": [
    "### 3.1. Linear Regression."
   ]
  },
  {
   "cell_type": "code",
   "execution_count": 68,
   "metadata": {},
   "outputs": [
    {
     "name": "stdout",
     "output_type": "stream",
     "text": [
      "MSE: 0.12263890643418233\n",
      "RMSE: 0.35019838154135197\n",
      "MAE: 0.24283480660999157\n",
      "MAPE: 0.026674827381996998\n",
      "r2 score: 0.8281045559437334\n"
     ]
    }
   ],
   "source": [
    "# Linear Regression\n",
    "\n",
    "param = {}\n",
    "\n",
    "gs_lin_reg = GridSearchCV(estimator=LinearRegression(), param_grid=param, cv=5, scoring=\"neg_mean_squared_error\")\n",
    "\n",
    "gs_lin_reg.fit(X_train, y_train)\n",
    "\n",
    "y_pred = gs_lin_reg.predict(X_test)\n",
    "\n",
    "print(f\"MSE: {metrics.mean_squared_error(y_test, y_pred)}\")\n",
    "print(f\"RMSE: {np.sqrt(metrics.mean_squared_error(y_test, y_pred))}\")\n",
    "print(f\"MAE: {metrics.mean_absolute_error(y_test, y_pred)}\")\n",
    "print(f\"MAPE: {metrics.mean_absolute_percentage_error(y_test, y_pred)}\")\n",
    "\n",
    "print(f\"r2 score: {metrics.r2_score(y_test, y_pred)}\")"
   ]
  },
  {
   "cell_type": "markdown",
   "metadata": {},
   "source": [
    "### 3.2. Polynomial Regression."
   ]
  },
  {
   "cell_type": "code",
   "execution_count": 80,
   "metadata": {},
   "outputs": [
    {
     "name": "stdout",
     "output_type": "stream",
     "text": [
      "Poly Degree 1:\n",
      "MSE: 0.12263890643417405\n",
      "RMSE: 0.35019838154134014\n",
      "MAE: 0.24283480660998097\n",
      "MAPE: 0.02667482738199821\n",
      "r2 score: 0.828104555943745\n",
      " \n",
      "Poly Degree 2:\n",
      "MSE: 0.09553850237884806\n",
      "RMSE: 0.30909303191571313\n",
      "MAE: 0.21626095775691423\n",
      "MAPE: 0.02375512216669376\n",
      "r2 score: 0.8660895325277835\n",
      " \n",
      "Poly Degree 3:\n",
      "MSE: 0.08651570093108019\n",
      "RMSE: 0.2941355145695266\n",
      "MAE: 0.20289091657348557\n",
      "MAPE: 0.022274495442548163\n",
      "r2 score: 0.8787362407102963\n",
      " \n",
      "Poly Degree 4:\n",
      "MSE: 0.07822994045467808\n",
      "RMSE: 0.2796961573827536\n",
      "MAE: 0.18819184106743264\n",
      "MAPE: 0.02070191605399146\n",
      "r2 score: 0.8903498837037568\n",
      " \n",
      "Poly Degree 5:\n",
      "MSE: 0.08486555397574838\n",
      "RMSE: 0.2913169304653411\n",
      "MAE: 0.18691347709280964\n",
      "MAPE: 0.02054176356999331\n",
      "r2 score: 0.8810491506333563\n",
      " \n"
     ]
    }
   ],
   "source": [
    "# Polynomial Regression\n",
    "\n",
    "param = {}\n",
    "\n",
    "for degree in range(1, 6):\n",
    "\n",
    "    poly_feat = PolynomialFeatures(degree = degree)\n",
    "\n",
    "    poly_feat.fit(X_train)\n",
    "\n",
    "    X_train_poly = poly_feat.transform(X_train)\n",
    "    X_test_poly = poly_feat.transform(X_test)\n",
    "\n",
    "\n",
    "    gs_poly = GridSearchCV(estimator=LinearRegression(), param_grid=param, cv=5, scoring=\"neg_mean_squared_error\")\n",
    "\n",
    "    gs_poly.fit(X_train_poly, y_train)\n",
    "\n",
    "    y_pred = gs_poly.predict(X_test_poly)\n",
    "\n",
    "    print(f\"Poly Degree {degree}:\")\n",
    "\n",
    "    print(f\"MSE: {metrics.mean_squared_error(y_test, y_pred)}\")\n",
    "    print(f\"RMSE: {np.sqrt(metrics.mean_squared_error(y_test, y_pred))}\")\n",
    "    print(f\"MAE: {metrics.mean_absolute_error(y_test, y_pred)}\")\n",
    "    print(f\"MAPE: {metrics.mean_absolute_percentage_error(y_test, y_pred)}\")\n",
    "\n",
    "    print(f\"r2 score: {metrics.r2_score(y_test, y_pred)}\")\n",
    "    print(\" \")"
   ]
  },
  {
   "cell_type": "code",
   "execution_count": 82,
   "metadata": {},
   "outputs": [
    {
     "name": "stdout",
     "output_type": "stream",
     "text": [
      "Poly Degree 4:\n",
      "MSE: 0.07822994045467808\n",
      "RMSE: 0.2796961573827536\n",
      "MAE: 0.18819184106743264\n",
      "MAPE: 0.02070191605399146\n",
      "r2 score: 0.8903498837037568\n"
     ]
    }
   ],
   "source": [
    "# El mejor era el de grado 4:\n",
    "\n",
    "degree = 4\n",
    "poly_feat = PolynomialFeatures(degree = degree)\n",
    "\n",
    "poly_feat.fit(X_train)\n",
    "\n",
    "X_train_poly = poly_feat.transform(X_train)\n",
    "X_test_poly = poly_feat.transform(X_test)\n",
    "\n",
    "\n",
    "best_poly_model = GridSearchCV(estimator=LinearRegression(), param_grid=param, cv=5, scoring=\"neg_mean_squared_error\")\n",
    "\n",
    "best_poly_model.fit(X_train_poly, y_train)\n",
    "\n",
    "y_pred = best_poly_model.predict(X_test_poly)\n",
    "\n",
    "print(f\"Poly Degree {degree}:\")\n",
    "\n",
    "print(f\"MSE: {metrics.mean_squared_error(y_test, y_pred)}\")\n",
    "print(f\"RMSE: {np.sqrt(metrics.mean_squared_error(y_test, y_pred))}\")\n",
    "print(f\"MAE: {metrics.mean_absolute_error(y_test, y_pred)}\")\n",
    "print(f\"MAPE: {metrics.mean_absolute_percentage_error(y_test, y_pred)}\")\n",
    "\n",
    "print(f\"r2 score: {metrics.r2_score(y_test, y_pred)}\")"
   ]
  },
  {
   "cell_type": "markdown",
   "metadata": {},
   "source": [
    "### 3.3. RandomForest."
   ]
  },
  {
   "cell_type": "code",
   "execution_count": 174,
   "metadata": {},
   "outputs": [
    {
     "name": "stdout",
     "output_type": "stream",
     "text": [
      "MSE: 0.05451177584614222\n",
      "RMSE: 0.23347757032773453\n",
      "MAE: 0.14716693554127488\n",
      "MAPE: 0.016401534487363346\n",
      "r2 score: 0.9235941824024896\n"
     ]
    }
   ],
   "source": [
    "# RandomForest\n",
    "\n",
    "param = {\"n_estimators\":[50, 100, 300], \"max_depth\":[3, 5, 9, 15, 33], \"n_jobs\":[-1], \"random_state\":[42]}\n",
    "\n",
    "gs_rf = GridSearchCV(estimator=RandomForestRegressor(), param_grid=param, cv=5, scoring=\"neg_mean_squared_error\")\n",
    "\n",
    "gs_rf.fit(X_train, y_train)\n",
    "\n",
    "y_pred = gs_rf.predict(X_test)\n",
    "\n",
    "print(f\"MSE: {metrics.mean_squared_error(y_test, y_pred)}\")\n",
    "print(f\"RMSE: {np.sqrt(metrics.mean_squared_error(y_test, y_pred))}\")\n",
    "print(f\"MAE: {metrics.mean_absolute_error(y_test, y_pred)}\")\n",
    "print(f\"MAPE: {metrics.mean_absolute_percentage_error(y_test, y_pred)}\")\n",
    "\n",
    "print(f\"r2 score: {metrics.r2_score(y_test, y_pred)}\")"
   ]
  },
  {
   "cell_type": "code",
   "execution_count": 175,
   "metadata": {},
   "outputs": [
    {
     "data": {
      "text/plain": [
       "{'max_depth': 33, 'n_estimators': 300, 'n_jobs': -1, 'random_state': 42}"
      ]
     },
     "execution_count": 175,
     "metadata": {},
     "output_type": "execute_result"
    }
   ],
   "source": [
    "gs_rf.best_params_"
   ]
  },
  {
   "cell_type": "markdown",
   "metadata": {},
   "source": [
    "### 3.4. ADA Boost Regression."
   ]
  },
  {
   "cell_type": "code",
   "execution_count": 64,
   "metadata": {},
   "outputs": [
    {
     "name": "stdout",
     "output_type": "stream",
     "text": [
      "MSE: 0.13417289631483206\n",
      "RMSE: 0.3662961865960825\n",
      "MAE: 0.27355246852552073\n",
      "MAPE: 0.02976218944479715\n",
      "r2 score: 0.8119380687340745\n"
     ]
    }
   ],
   "source": [
    "# ADA\n",
    "\n",
    "param = {\"n_estimators\":[50, 100, 300], \"learning_rate\":np.arange(0.1, 1.1, 0.1), \"random_state\":[42]}\n",
    "\n",
    "gs_ada = GridSearchCV(estimator=AdaBoostRegressor(), param_grid=param, cv=5, scoring=\"neg_mean_squared_error\")\n",
    "\n",
    "gs_ada.fit(X_train, y_train)\n",
    "\n",
    "y_pred = gs_ada.predict(X_test)\n",
    "\n",
    "print(f\"MSE: {metrics.mean_squared_error(y_test, y_pred)}\")\n",
    "print(f\"RMSE: {np.sqrt(metrics.mean_squared_error(y_test, y_pred))}\")\n",
    "print(f\"MAE: {metrics.mean_absolute_error(y_test, y_pred)}\")\n",
    "print(f\"MAPE: {metrics.mean_absolute_percentage_error(y_test, y_pred)}\")\n",
    "\n",
    "print(f\"r2 score: {metrics.r2_score(y_test, y_pred)}\")"
   ]
  },
  {
   "cell_type": "code",
   "execution_count": 66,
   "metadata": {},
   "outputs": [
    {
     "data": {
      "text/plain": [
       "-0.13393378710458156"
      ]
     },
     "execution_count": 66,
     "metadata": {},
     "output_type": "execute_result"
    }
   ],
   "source": [
    "gs_ada.best_score_"
   ]
  },
  {
   "cell_type": "code",
   "execution_count": 65,
   "metadata": {},
   "outputs": [
    {
     "data": {
      "text/plain": [
       "{'learning_rate': 0.2, 'n_estimators': 100, 'random_state': 42}"
      ]
     },
     "execution_count": 65,
     "metadata": {},
     "output_type": "execute_result"
    }
   ],
   "source": [
    "gs_ada.best_params_"
   ]
  },
  {
   "cell_type": "markdown",
   "metadata": {},
   "source": [
    "### 3.5. Gradient Boosting Regression."
   ]
  },
  {
   "cell_type": "code",
   "execution_count": 73,
   "metadata": {},
   "outputs": [
    {
     "name": "stdout",
     "output_type": "stream",
     "text": [
      "MSE: 0.0506577541161925\n",
      "RMSE: 0.2250727751554872\n",
      "MAE: 0.14678620311136992\n",
      "MAPE: 0.016289373829226954\n",
      "r2 score: 0.9289961286195145\n"
     ]
    }
   ],
   "source": [
    "# Gradient Boost\n",
    "\n",
    "param = {\"n_estimators\":[50, 100, 300], \"learning_rate\":np.arange(0.1, 1.1, 0.1), \"random_state\":[42]}\n",
    "\n",
    "gs_gb = GridSearchCV(estimator=GradientBoostingRegressor(), param_grid=param, cv=5, scoring=\"neg_mean_squared_error\")\n",
    "\n",
    "gs_gb.fit(X_train, y_train)\n",
    "\n",
    "y_pred = gs_gb.predict(X_test)\n",
    "\n",
    "print(f\"MSE: {metrics.mean_squared_error(y_test, y_pred)}\")\n",
    "print(f\"RMSE: {np.sqrt(metrics.mean_squared_error(y_test, y_pred))}\")\n",
    "print(f\"MAE: {metrics.mean_absolute_error(y_test, y_pred)}\")\n",
    "print(f\"MAPE: {metrics.mean_absolute_percentage_error(y_test, y_pred)}\")\n",
    "\n",
    "print(f\"r2 score: {metrics.r2_score(y_test, y_pred)}\")"
   ]
  },
  {
   "cell_type": "markdown",
   "metadata": {},
   "source": [
    "### 3.6. XGradient Boosting Regression."
   ]
  },
  {
   "cell_type": "code",
   "execution_count": 75,
   "metadata": {},
   "outputs": [
    {
     "name": "stdout",
     "output_type": "stream",
     "text": [
      "MSE: 0.04957618930949981\n",
      "RMSE: 0.2226571115179118\n",
      "MAE: 0.1445437798506806\n",
      "MAPE: 0.016053499713784097\n",
      "r2 score: 0.9305120917679779\n"
     ]
    }
   ],
   "source": [
    "# XG Boost\n",
    "\n",
    "param = {}\n",
    "\n",
    "gs_xgb = GridSearchCV(estimator=xgboost.XGBRegressor(), param_grid=param, cv=5, scoring=\"neg_mean_squared_error\")\n",
    "\n",
    "gs_xgb.fit(X_train, y_train)\n",
    "\n",
    "y_pred = gs_xgb.predict(X_test)\n",
    "\n",
    "print(f\"MSE: {metrics.mean_squared_error(y_test, y_pred)}\")\n",
    "print(f\"RMSE: {np.sqrt(metrics.mean_squared_error(y_test, y_pred))}\")\n",
    "print(f\"MAE: {metrics.mean_absolute_error(y_test, y_pred)}\")\n",
    "print(f\"MAPE: {metrics.mean_absolute_percentage_error(y_test, y_pred)}\")\n",
    "\n",
    "print(f\"r2 score: {metrics.r2_score(y_test, y_pred)}\")"
   ]
  },
  {
   "cell_type": "markdown",
   "metadata": {},
   "source": [
    "### 3.7. Voting."
   ]
  },
  {
   "cell_type": "code",
   "execution_count": 87,
   "metadata": {},
   "outputs": [
    {
     "name": "stdout",
     "output_type": "stream",
     "text": [
      "MSE: 0.058796955833126205\n",
      "RMSE: 0.2424808360120985\n",
      "MAE: 0.1625740170213521\n",
      "MAPE: 0.017986517228067562\n",
      "r2 score: 0.9175879080631227\n"
     ]
    }
   ],
   "source": [
    "# Voting\n",
    "\n",
    "# param = {\"estimators\":[gs_lin_reg.best_estimator_, best_poly_model.best_estimator_, gs_rf.best_estimator_, gs_ada.best_estimator_, gs_gb.best_estimator_, gs_xgb.best_estimator_],\n",
    "#          \"n_jobs\":[-1]}\n",
    "\n",
    "gs_voting = VotingRegressor(estimators=[(\"lin_reg\", gs_lin_reg.best_estimator_), (\"rf\", gs_rf.best_estimator_), (\"ada\", gs_ada.best_estimator_), (\"gb\", gs_gb.best_estimator_), (\"xgb\", gs_xgb.best_estimator_)],\n",
    "                            n_jobs=-1,)\n",
    "\n",
    "gs_voting.fit(X_train, y_train)\n",
    "\n",
    "y_pred = gs_voting.predict(X_test)\n",
    "\n",
    "print(f\"MSE: {metrics.mean_squared_error(y_test, y_pred)}\")\n",
    "print(f\"RMSE: {np.sqrt(metrics.mean_squared_error(y_test, y_pred))}\")\n",
    "print(f\"MAE: {metrics.mean_absolute_error(y_test, y_pred)}\")\n",
    "print(f\"MAPE: {metrics.mean_absolute_percentage_error(y_test, y_pred)}\")\n",
    "\n",
    "print(f\"r2 score: {metrics.r2_score(y_test, y_pred)}\")"
   ]
  },
  {
   "cell_type": "markdown",
   "metadata": {},
   "source": [
    "El Voting da peor. El modelo con mejores métricas es el XGradient Boost, aunque el RandomForest también estaba cerca. "
   ]
  },
  {
   "cell_type": "markdown",
   "metadata": {},
   "source": [
    "## 4. Selección y análisis del mejor modelo."
   ]
  },
  {
   "cell_type": "markdown",
   "metadata": {},
   "source": [
    "### 4.1. Selección de modelo:"
   ]
  },
  {
   "cell_type": "markdown",
   "metadata": {},
   "source": [
    "Vamos a comparar en una tabla el resultado obtenido para el MSE de test en cada modelo, ya que es la métrica que estamos utilizando, con el fin de elegir el mejor:"
   ]
  },
  {
   "cell_type": "code",
   "execution_count": 203,
   "metadata": {},
   "outputs": [
    {
     "data": {
      "text/html": [
       "<div>\n",
       "<style scoped>\n",
       "    .dataframe tbody tr th:only-of-type {\n",
       "        vertical-align: middle;\n",
       "    }\n",
       "\n",
       "    .dataframe tbody tr th {\n",
       "        vertical-align: top;\n",
       "    }\n",
       "\n",
       "    .dataframe thead th {\n",
       "        text-align: right;\n",
       "    }\n",
       "</style>\n",
       "<table border=\"1\" class=\"dataframe\">\n",
       "  <thead>\n",
       "    <tr style=\"text-align: right;\">\n",
       "      <th></th>\n",
       "      <th>Modelo</th>\n",
       "      <th>MSE</th>\n",
       "      <th>MAE</th>\n",
       "      <th>r2 score</th>\n",
       "    </tr>\n",
       "  </thead>\n",
       "  <tbody>\n",
       "    <tr>\n",
       "      <th>0</th>\n",
       "      <td>XG Boost</td>\n",
       "      <td>0.0496</td>\n",
       "      <td>0.1445</td>\n",
       "      <td>0.9305</td>\n",
       "    </tr>\n",
       "    <tr>\n",
       "      <th>1</th>\n",
       "      <td>Gradient Boost</td>\n",
       "      <td>0.0507</td>\n",
       "      <td>0.1468</td>\n",
       "      <td>0.9290</td>\n",
       "    </tr>\n",
       "    <tr>\n",
       "      <th>2</th>\n",
       "      <td>RandomForest</td>\n",
       "      <td>0.0545</td>\n",
       "      <td>0.1472</td>\n",
       "      <td>0.9236</td>\n",
       "    </tr>\n",
       "    <tr>\n",
       "      <th>3</th>\n",
       "      <td>Voting</td>\n",
       "      <td>0.0588</td>\n",
       "      <td>0.1626</td>\n",
       "      <td>0.9176</td>\n",
       "    </tr>\n",
       "    <tr>\n",
       "      <th>4</th>\n",
       "      <td>Polynomial Regression (grado 4)</td>\n",
       "      <td>0.0782</td>\n",
       "      <td>0.1882</td>\n",
       "      <td>0.8904</td>\n",
       "    </tr>\n",
       "    <tr>\n",
       "      <th>5</th>\n",
       "      <td>Linear Regression</td>\n",
       "      <td>0.1226</td>\n",
       "      <td>0.2428</td>\n",
       "      <td>0.8281</td>\n",
       "    </tr>\n",
       "    <tr>\n",
       "      <th>6</th>\n",
       "      <td>ADA Boost</td>\n",
       "      <td>0.1342</td>\n",
       "      <td>0.2736</td>\n",
       "      <td>0.8119</td>\n",
       "    </tr>\n",
       "  </tbody>\n",
       "</table>\n",
       "</div>"
      ],
      "text/plain": [
       "                            Modelo     MSE     MAE  r2 score\n",
       "0                         XG Boost  0.0496  0.1445    0.9305\n",
       "1                   Gradient Boost  0.0507  0.1468    0.9290\n",
       "2                     RandomForest  0.0545  0.1472    0.9236\n",
       "3                           Voting  0.0588  0.1626    0.9176\n",
       "4  Polynomial Regression (grado 4)  0.0782  0.1882    0.8904\n",
       "5                Linear Regression  0.1226  0.2428    0.8281\n",
       "6                        ADA Boost  0.1342  0.2736    0.8119"
      ]
     },
     "execution_count": 203,
     "metadata": {},
     "output_type": "execute_result"
    }
   ],
   "source": [
    "df_comp_modelos = pd.DataFrame({\"Modelo\":[\"Linear Regression\", \"Polynomial Regression (grado 4)\", \"RandomForest\", \"ADA Boost\", \"Gradient Boost\", \"XG Boost\", \"Voting\"],\n",
    "                                \"MSE\":[0.1226, 0.0782, 0.0545, 0.1342, 0.0507, 0.0496, 0.0588],\n",
    "                                \"MAE\":[0.2428, 0.1882, 0.1472, 0.2736, 0.1468, 0.1445, 0.1626],\n",
    "                                \"r2 score\":[0.8281, 0.8904, 0.9236, 0.8119, 0.9290, 0.9305, 0.9176]})\n",
    "\n",
    "df_comp_modelos = df_comp_modelos.sort_values(\"MSE\", ascending=True).reset_index(drop=True)\n",
    "df_comp_modelos"
   ]
  },
  {
   "cell_type": "markdown",
   "metadata": {},
   "source": [
    "Vemos que el mejor modelo es el XG Boost, aunque vamos a quedarnos también con el RandomForest, ya que su funcionamiento es distinto y sus resultados muy similares, por lo que puede sernos útil para comparar.\n",
    "\n",
    "Cabe destacar que el MAE representado en la tabla anterior no se corresponde con el error medio en la predicción del modelo sobre el precio del vehículo, ya que hemos aplicado una transformación logarítmica a este precio. Más adelante veremos el MAE y el MSE reales del mejor modelo, una vez aplicada la transformación inversa. "
   ]
  },
  {
   "cell_type": "markdown",
   "metadata": {},
   "source": [
    "Vamos a ver si podemos mejorar algo de estos dos modelos mirando la importancia de las columnas (features) y realizando alguna modificación. Comenzamos con el RandomForest:"
   ]
  },
  {
   "cell_type": "code",
   "execution_count": 176,
   "metadata": {},
   "outputs": [
    {
     "data": {
      "text/plain": [
       "array([0.02495883, 0.03147434, 0.00680901, 0.53096175, 0.07026803,\n",
       "       0.32062588, 0.00500783, 0.00581581, 0.00407853])"
      ]
     },
     "execution_count": 176,
     "metadata": {},
     "output_type": "execute_result"
    }
   ],
   "source": [
    "gs_rf.best_estimator_.feature_importances_"
   ]
  },
  {
   "cell_type": "markdown",
   "metadata": {},
   "source": [
    "Realizamos un dataframe con la importancia de las cada columna en el modelo RandomForest:"
   ]
  },
  {
   "cell_type": "code",
   "execution_count": 177,
   "metadata": {},
   "outputs": [
    {
     "data": {
      "text/html": [
       "<div>\n",
       "<style scoped>\n",
       "    .dataframe tbody tr th:only-of-type {\n",
       "        vertical-align: middle;\n",
       "    }\n",
       "\n",
       "    .dataframe tbody tr th {\n",
       "        vertical-align: top;\n",
       "    }\n",
       "\n",
       "    .dataframe thead th {\n",
       "        text-align: right;\n",
       "    }\n",
       "</style>\n",
       "<table border=\"1\" class=\"dataframe\">\n",
       "  <thead>\n",
       "    <tr style=\"text-align: right;\">\n",
       "      <th></th>\n",
       "      <th>Feature Importance</th>\n",
       "    </tr>\n",
       "  </thead>\n",
       "  <tbody>\n",
       "    <tr>\n",
       "      <th>year</th>\n",
       "      <td>0.530962</td>\n",
       "    </tr>\n",
       "    <tr>\n",
       "      <th>power</th>\n",
       "      <td>0.320626</td>\n",
       "    </tr>\n",
       "    <tr>\n",
       "      <th>kms</th>\n",
       "      <td>0.070268</td>\n",
       "    </tr>\n",
       "    <tr>\n",
       "      <th>model</th>\n",
       "      <td>0.031474</td>\n",
       "    </tr>\n",
       "    <tr>\n",
       "      <th>make</th>\n",
       "      <td>0.024959</td>\n",
       "    </tr>\n",
       "    <tr>\n",
       "      <th>fuel</th>\n",
       "      <td>0.006809</td>\n",
       "    </tr>\n",
       "    <tr>\n",
       "      <th>shift</th>\n",
       "      <td>0.005816</td>\n",
       "    </tr>\n",
       "    <tr>\n",
       "      <th>doors</th>\n",
       "      <td>0.005008</td>\n",
       "    </tr>\n",
       "    <tr>\n",
       "      <th>is_professional</th>\n",
       "      <td>0.004079</td>\n",
       "    </tr>\n",
       "  </tbody>\n",
       "</table>\n",
       "</div>"
      ],
      "text/plain": [
       "                 Feature Importance\n",
       "year                       0.530962\n",
       "power                      0.320626\n",
       "kms                        0.070268\n",
       "model                      0.031474\n",
       "make                       0.024959\n",
       "fuel                       0.006809\n",
       "shift                      0.005816\n",
       "doors                      0.005008\n",
       "is_professional            0.004079"
      ]
     },
     "execution_count": 177,
     "metadata": {},
     "output_type": "execute_result"
    }
   ],
   "source": [
    "df_feat_imp_rf = pd.DataFrame(gs_rf.best_estimator_.feature_importances_, index=X.columns)\n",
    "df_feat_imp_rf = df_feat_imp_rf.rename(columns={0:\"Feature Importance\"}).sort_values(\"Feature Importance\", ascending=False)\n",
    "df_feat_imp_rf"
   ]
  },
  {
   "cell_type": "code",
   "execution_count": 179,
   "metadata": {},
   "outputs": [
    {
     "name": "stderr",
     "output_type": "stream",
     "text": [
      "C:\\Users\\APint\\AppData\\Local\\Temp\\ipykernel_25268\\1927321448.py:3: FutureWarning: \n",
      "\n",
      "Setting a gradient palette using color= is deprecated and will be removed in v0.14.0. Set `palette='dark:#d5001c'` for the same effect.\n",
      "\n",
      "  sns.barplot(df_feat_imp_rf,  x=df_feat_imp_rf.index, y=df_feat_imp_rf[\"Feature Importance\"], orient=\"v\", color=colors[0], hue=df_feat_imp_rf[\"Feature Importance\"])\n"
     ]
    },
    {
     "data": {
      "image/png": "[encoded data removed]",
      "text/plain": [
       "<Figure size 640x480 with 1 Axes>"
      ]
     },
     "metadata": {},
     "output_type": "display_data"
    }
   ],
   "source": [
    "plt.figure()\n",
    "\n",
    "sns.barplot(df_feat_imp_rf,  x=df_feat_imp_rf.index, y=df_feat_imp_rf[\"Feature Importance\"], orient=\"v\", color=colors[0], hue=df_feat_imp_rf[\"Feature Importance\"])\n",
    "\n",
    "plt.title(\"Importancia de cada feature en el modelo RandomForest\", fontsize=14)\n",
    "plt.xlabel(\"Feature\")\n",
    "plt.ylabel(\"Importance\")\n",
    "\n",
    "plt.xticks(ticks=df_feat_imp_rf.index, rotation=45)\n",
    "\n",
    "plt.show()"
   ]
  },
  {
   "cell_type": "markdown",
   "metadata": {},
   "source": [
    "Se observa cómo las columnas con más importancia en el precio de un coche de segunda mano son, según nuestro modelo RandomForest, el año de matriculación, potencia del motor y kms recorridos. Las columnas de modelo y marca del coche también tienen algo de importancia, y las demás (combustible, cambio, puertas y si el vendedor es profesional) tienen una importancia mucho menor.\n",
    "\n",
    "Por esto, vamos a probar a hacer un Random Forest, con la misma parametrización que el mejor de antes, pero quitando las columnas menos importantes: ```[\"fuel\", \"shift\", \"doors\", \"is_professional\"]```, a ver si mejora el modelo."
   ]
  },
  {
   "cell_type": "code",
   "execution_count": 122,
   "metadata": {},
   "outputs": [
    {
     "data": {
      "text/html": [
       "<div>\n",
       "<style scoped>\n",
       "    .dataframe tbody tr th:only-of-type {\n",
       "        vertical-align: middle;\n",
       "    }\n",
       "\n",
       "    .dataframe tbody tr th {\n",
       "        vertical-align: top;\n",
       "    }\n",
       "\n",
       "    .dataframe thead th {\n",
       "        text-align: right;\n",
       "    }\n",
       "</style>\n",
       "<table border=\"1\" class=\"dataframe\">\n",
       "  <thead>\n",
       "    <tr style=\"text-align: right;\">\n",
       "      <th></th>\n",
       "      <th>make</th>\n",
       "      <th>model</th>\n",
       "      <th>year</th>\n",
       "      <th>kms</th>\n",
       "      <th>power</th>\n",
       "    </tr>\n",
       "  </thead>\n",
       "  <tbody>\n",
       "    <tr>\n",
       "      <th>0</th>\n",
       "      <td>11</td>\n",
       "      <td>154</td>\n",
       "      <td>2017.0</td>\n",
       "      <td>50071</td>\n",
       "      <td>82.0</td>\n",
       "    </tr>\n",
       "    <tr>\n",
       "      <th>1</th>\n",
       "      <td>23</td>\n",
       "      <td>769</td>\n",
       "      <td>2016.0</td>\n",
       "      <td>103000</td>\n",
       "      <td>100.0</td>\n",
       "    </tr>\n",
       "    <tr>\n",
       "      <th>2</th>\n",
       "      <td>70</td>\n",
       "      <td>200</td>\n",
       "      <td>2014.0</td>\n",
       "      <td>120000</td>\n",
       "      <td>140.0</td>\n",
       "    </tr>\n",
       "    <tr>\n",
       "      <th>3</th>\n",
       "      <td>23</td>\n",
       "      <td>768</td>\n",
       "      <td>2017.0</td>\n",
       "      <td>107000</td>\n",
       "      <td>130.0</td>\n",
       "    </tr>\n",
       "    <tr>\n",
       "      <th>4</th>\n",
       "      <td>52</td>\n",
       "      <td>33</td>\n",
       "      <td>2016.0</td>\n",
       "      <td>78665</td>\n",
       "      <td>130.0</td>\n",
       "    </tr>\n",
       "    <tr>\n",
       "      <th>...</th>\n",
       "      <td>...</td>\n",
       "      <td>...</td>\n",
       "      <td>...</td>\n",
       "      <td>...</td>\n",
       "      <td>...</td>\n",
       "    </tr>\n",
       "    <tr>\n",
       "      <th>41349</th>\n",
       "      <td>27</td>\n",
       "      <td>869</td>\n",
       "      <td>2018.0</td>\n",
       "      <td>47000</td>\n",
       "      <td>140.0</td>\n",
       "    </tr>\n",
       "    <tr>\n",
       "      <th>41350</th>\n",
       "      <td>56</td>\n",
       "      <td>463</td>\n",
       "      <td>2015.0</td>\n",
       "      <td>68750</td>\n",
       "      <td>150.0</td>\n",
       "    </tr>\n",
       "    <tr>\n",
       "      <th>41351</th>\n",
       "      <td>52</td>\n",
       "      <td>5</td>\n",
       "      <td>2019.0</td>\n",
       "      <td>21422</td>\n",
       "      <td>72.0</td>\n",
       "    </tr>\n",
       "    <tr>\n",
       "      <th>41352</th>\n",
       "      <td>4</td>\n",
       "      <td>625</td>\n",
       "      <td>2013.0</td>\n",
       "      <td>47900</td>\n",
       "      <td>450.0</td>\n",
       "    </tr>\n",
       "    <tr>\n",
       "      <th>41353</th>\n",
       "      <td>11</td>\n",
       "      <td>155</td>\n",
       "      <td>2006.0</td>\n",
       "      <td>106000</td>\n",
       "      <td>70.0</td>\n",
       "    </tr>\n",
       "  </tbody>\n",
       "</table>\n",
       "<p>41354 rows × 5 columns</p>\n",
       "</div>"
      ],
      "text/plain": [
       "       make  model    year     kms  power\n",
       "0        11    154  2017.0   50071   82.0\n",
       "1        23    769  2016.0  103000  100.0\n",
       "2        70    200  2014.0  120000  140.0\n",
       "3        23    768  2017.0  107000  130.0\n",
       "4        52     33  2016.0   78665  130.0\n",
       "...     ...    ...     ...     ...    ...\n",
       "41349    27    869  2018.0   47000  140.0\n",
       "41350    56    463  2015.0   68750  150.0\n",
       "41351    52      5  2019.0   21422   72.0\n",
       "41352     4    625  2013.0   47900  450.0\n",
       "41353    11    155  2006.0  106000   70.0\n",
       "\n",
       "[41354 rows x 5 columns]"
      ]
     },
     "execution_count": 122,
     "metadata": {},
     "output_type": "execute_result"
    }
   ],
   "source": [
    "# RF 2\n",
    "\n",
    "X_rf_2 = X.drop(columns=[\"fuel\", \"shift\", \"doors\", \"is_professional\"])\n",
    "X_rf_2"
   ]
  },
  {
   "cell_type": "code",
   "execution_count": 123,
   "metadata": {},
   "outputs": [
    {
     "name": "stdout",
     "output_type": "stream",
     "text": [
      "(33083, 5)\n",
      "(8271, 5)\n",
      "(33083,)\n",
      "(8271,)\n"
     ]
    }
   ],
   "source": [
    "from sklearn.model_selection import train_test_split\n",
    "\n",
    "X_train_rf2, X_test_rf2, y_train_rf2, y_test_rf2 = train_test_split(X_rf_2, y, test_size=0.2, random_state=42)\n",
    "\n",
    "print(X_train_rf2.shape)\n",
    "print(X_test_rf2.shape)\n",
    "print(y_train_rf2.shape)\n",
    "print(y_test_rf2.shape)"
   ]
  },
  {
   "cell_type": "code",
   "execution_count": 124,
   "metadata": {},
   "outputs": [],
   "source": [
    "from sklearn.preprocessing import MinMaxScaler\n",
    "\n",
    "scaler = MinMaxScaler()\n",
    "\n",
    "scaler.fit(X_train_rf2)\n",
    "X_train_rf2 = scaler.transform(X_train_rf2)\n",
    "X_test_rf2 = scaler.transform(X_test_rf2)"
   ]
  },
  {
   "cell_type": "code",
   "execution_count": 125,
   "metadata": {},
   "outputs": [
    {
     "name": "stdout",
     "output_type": "stream",
     "text": [
      "MSE: 0.05847540183637442\n",
      "RMSE: 0.24181687665747073\n",
      "MAE: 0.1534530278332284\n",
      "MAPE: 0.017127734652352834\n",
      "r2 score: 0.9180386106066045\n"
     ]
    }
   ],
   "source": [
    "# RandomForest\n",
    "\n",
    "# param = {\"n_estimators\":[50, 100, 300], \"max_depth\":[3, 5, 9, 15, 33], \"n_jobs\":[-1], \"random_state\":[42]}\n",
    "\n",
    "rf2 = RandomForestRegressor(n_estimators=300, max_depth=33, n_jobs=-1, random_state=42)\n",
    "\n",
    "rf2.fit(X_train_rf2, y_train_rf2)\n",
    "\n",
    "y_pred_rf2 = rf2.predict(X_test_rf2)\n",
    "\n",
    "print(f\"MSE: {metrics.mean_squared_error(y_test_rf2, y_pred_rf2)}\")\n",
    "print(f\"RMSE: {np.sqrt(metrics.mean_squared_error(y_test_rf2, y_pred_rf2))}\")\n",
    "print(f\"MAE: {metrics.mean_absolute_error(y_test_rf2, y_pred_rf2)}\")\n",
    "print(f\"MAPE: {metrics.mean_absolute_percentage_error(y_test_rf2, y_pred_rf2)}\")\n",
    "\n",
    "print(f\"r2 score: {metrics.r2_score(y_test_rf2, y_pred_rf2)}\")"
   ]
  },
  {
   "cell_type": "markdown",
   "metadata": {},
   "source": [
    "### 4.2. Análisis del modelo definitivo:"
   ]
  },
  {
   "cell_type": "markdown",
   "metadata": {},
   "source": [
    "Obtenemos un MSE más elevado que antes, por lo que no mejora. Nos quedamos entonces el XG Boost, que era el modelo con el MSE más bajo. Vamos a ver la importancia de las features en este modelo:"
   ]
  },
  {
   "cell_type": "code",
   "execution_count": 60,
   "metadata": {},
   "outputs": [
    {
     "name": "stdout",
     "output_type": "stream",
     "text": [
      "MSE: 0.04957618930949981\n",
      "RMSE: 0.2226571115179118\n",
      "MAE: 0.1445437798506806\n",
      "MAPE: 0.016053499713784097\n",
      "r2 score: 0.9305120917679779\n"
     ]
    }
   ],
   "source": [
    "xgb_model = xgboost.XGBRegressor()\n",
    "\n",
    "xgb_model.fit(X_train, y_train)\n",
    "\n",
    "y_pred = xgb_model.predict(X_test)\n",
    "\n",
    "print(f\"MSE: {metrics.mean_squared_error(y_test, y_pred)}\")\n",
    "print(f\"RMSE: {np.sqrt(metrics.mean_squared_error(y_test, y_pred))}\")\n",
    "print(f\"MAE: {metrics.mean_absolute_error(y_test, y_pred)}\")\n",
    "print(f\"MAPE: {metrics.mean_absolute_percentage_error(y_test, y_pred)}\")\n",
    "\n",
    "print(f\"r2 score: {metrics.r2_score(y_test, y_pred)}\")"
   ]
  },
  {
   "cell_type": "code",
   "execution_count": 61,
   "metadata": {},
   "outputs": [
    {
     "data": {
      "text/plain": [
       "Index(['make', 'model', 'fuel', 'year', 'kms', 'power', 'doors', 'shift',\n",
       "       'is_professional'],\n",
       "      dtype='object')"
      ]
     },
     "execution_count": 61,
     "metadata": {},
     "output_type": "execute_result"
    }
   ],
   "source": [
    "X.columns"
   ]
  },
  {
   "cell_type": "code",
   "execution_count": 62,
   "metadata": {},
   "outputs": [
    {
     "data": {
      "text/plain": [
       "array([0.02589002, 0.01698136, 0.02746964, 0.40790918, 0.04341248,\n",
       "       0.2574153 , 0.03125079, 0.16207652, 0.02759472], dtype=float32)"
      ]
     },
     "execution_count": 62,
     "metadata": {},
     "output_type": "execute_result"
    }
   ],
   "source": [
    "xgb_model.feature_importances_"
   ]
  },
  {
   "cell_type": "code",
   "execution_count": 63,
   "metadata": {},
   "outputs": [
    {
     "data": {
      "text/html": [
       "<div>\n",
       "<style scoped>\n",
       "    .dataframe tbody tr th:only-of-type {\n",
       "        vertical-align: middle;\n",
       "    }\n",
       "\n",
       "    .dataframe tbody tr th {\n",
       "        vertical-align: top;\n",
       "    }\n",
       "\n",
       "    .dataframe thead th {\n",
       "        text-align: right;\n",
       "    }\n",
       "</style>\n",
       "<table border=\"1\" class=\"dataframe\">\n",
       "  <thead>\n",
       "    <tr style=\"text-align: right;\">\n",
       "      <th></th>\n",
       "      <th>Feature Importance</th>\n",
       "    </tr>\n",
       "  </thead>\n",
       "  <tbody>\n",
       "    <tr>\n",
       "      <th>year</th>\n",
       "      <td>0.407909</td>\n",
       "    </tr>\n",
       "    <tr>\n",
       "      <th>power</th>\n",
       "      <td>0.257415</td>\n",
       "    </tr>\n",
       "    <tr>\n",
       "      <th>shift</th>\n",
       "      <td>0.162077</td>\n",
       "    </tr>\n",
       "    <tr>\n",
       "      <th>kms</th>\n",
       "      <td>0.043412</td>\n",
       "    </tr>\n",
       "    <tr>\n",
       "      <th>doors</th>\n",
       "      <td>0.031251</td>\n",
       "    </tr>\n",
       "    <tr>\n",
       "      <th>is_professional</th>\n",
       "      <td>0.027595</td>\n",
       "    </tr>\n",
       "    <tr>\n",
       "      <th>fuel</th>\n",
       "      <td>0.027470</td>\n",
       "    </tr>\n",
       "    <tr>\n",
       "      <th>make</th>\n",
       "      <td>0.025890</td>\n",
       "    </tr>\n",
       "    <tr>\n",
       "      <th>model</th>\n",
       "      <td>0.016981</td>\n",
       "    </tr>\n",
       "  </tbody>\n",
       "</table>\n",
       "</div>"
      ],
      "text/plain": [
       "                 Feature Importance\n",
       "year                       0.407909\n",
       "power                      0.257415\n",
       "shift                      0.162077\n",
       "kms                        0.043412\n",
       "doors                      0.031251\n",
       "is_professional            0.027595\n",
       "fuel                       0.027470\n",
       "make                       0.025890\n",
       "model                      0.016981"
      ]
     },
     "execution_count": 63,
     "metadata": {},
     "output_type": "execute_result"
    }
   ],
   "source": [
    "df_feat_imp = pd.DataFrame(xgb_model.feature_importances_, index=X.columns)\n",
    "df_feat_imp = df_feat_imp.rename(columns={0:\"Feature Importance\"}).sort_values(\"Feature Importance\", ascending=False)\n",
    "df_feat_imp"
   ]
  },
  {
   "cell_type": "code",
   "execution_count": 64,
   "metadata": {},
   "outputs": [
    {
     "name": "stderr",
     "output_type": "stream",
     "text": [
      "C:\\Users\\APint\\AppData\\Local\\Temp\\ipykernel_11012\\2831131608.py:3: FutureWarning: \n",
      "\n",
      "Setting a gradient palette using color= is deprecated and will be removed in v0.14.0. Set `palette='dark:#d5001c'` for the same effect.\n",
      "\n",
      "  sns.barplot(df_feat_imp,  x=df_feat_imp.index, y=df_feat_imp[\"Feature Importance\"], orient=\"v\", color=colors[0], hue=df_feat_imp[\"Feature Importance\"])\n"
     ]
    },
    {
     "data": {
      "image/png": "[encoded data removed]",
      "text/plain": [
       "<Figure size 640x480 with 1 Axes>"
      ]
     },
     "metadata": {},
     "output_type": "display_data"
    }
   ],
   "source": [
    "plt.figure()\n",
    "\n",
    "sns.barplot(df_feat_imp,  x=df_feat_imp.index, y=df_feat_imp[\"Feature Importance\"], orient=\"v\", color=colors[0], hue=df_feat_imp[\"Feature Importance\"])\n",
    "\n",
    "plt.title(\"Importancia de cada feature en el modelo XG Boost\", fontsize=14)\n",
    "plt.xlabel(\"Feature\")\n",
    "plt.ylabel(\"Importance\")\n",
    "\n",
    "plt.xticks(ticks=df_feat_imp.index, rotation=45)\n",
    "\n",
    "plt.show()"
   ]
  },
  {
   "cell_type": "markdown",
   "metadata": {},
   "source": [
    "Ahora observamos que las columnas más importantes siguen siendo ```\"year\"``` y ```\"power\"```. Sin embargo, el XGBoost le da mucha más importancia a la columna ```\"shift\"``` que el RandomForest previo, y menos a la columna ```\"kms\"```. Además la importancia de las columnas menos importantes es más elevada que en el anterior modelo, por lo que no descartaremos ninguna de estas columnas.\n",
    "\n",
    "Vamos a deshacer la transformación que realizamos en la columna ```\"price\"``` (target) para ver la dimensión real de nuestras métricas:"
   ]
  },
  {
   "cell_type": "code",
   "execution_count": 65,
   "metadata": {},
   "outputs": [
    {
     "name": "stdout",
     "output_type": "stream",
     "text": [
      "MSE: 18272700.177901953\n",
      "RMSE: 4274.657901856235\n",
      "MAE: 2058.2645003178463\n",
      "MAPE: 0.14780072255297733\n",
      "r2 score: 0.9325618651446707\n"
     ]
    }
   ],
   "source": [
    "y_pred = xgb_model.predict(X_test)\n",
    "\n",
    "y_test_final = np.exp(y_test)\n",
    "y_pred_final = np.exp(y_pred)\n",
    "\n",
    "print(f\"MSE: {metrics.mean_squared_error(y_test_final, y_pred_final)}\")\n",
    "print(f\"RMSE: {np.sqrt(metrics.mean_squared_error(y_test_final, y_pred_final))}\")\n",
    "print(f\"MAE: {metrics.mean_absolute_error(y_test_final, y_pred_final)}\")\n",
    "print(f\"MAPE: {metrics.mean_absolute_percentage_error(y_test_final, y_pred_final)}\")\n",
    "\n",
    "print(f\"r2 score: {metrics.r2_score(y_test_final, y_pred_final)}\")"
   ]
  },
  {
   "cell_type": "markdown",
   "metadata": {},
   "source": [
    "Vemos que el MAE = 2058 euros. Esto significa que para cada vehículo nos podemos ir esa cantidad de dinero de media en la predicción. \n",
    "\n",
    "El RMSE es algo mayor, 4274 euros, lo cual se debe a que existen unos pocos coches cuyo error es alto, y al hacer el error cuadrático este error se hace más grande.\n",
    "\n",
    "En cuanto al MAPE, nos indica que nuestro modelo tiene un % de error medio del 14.78% sobre el precio del vehículo, el cual es algo elevado."
   ]
  },
  {
   "cell_type": "markdown",
   "metadata": {},
   "source": [
    "Vamos a exportar el modelo final:"
   ]
  },
  {
   "cell_type": "code",
   "execution_count": 66,
   "metadata": {},
   "outputs": [],
   "source": [
    "import pickle\n",
    "\n",
    "# Guardamos el modelo final:\n",
    "\n",
    "with open(\"../model/modelo_final.pkl\", 'wb') as archivo_salida:\n",
    "    pickle.dump(xgb_model, archivo_salida)\n"
   ]
  },
  {
   "cell_type": "markdown",
   "metadata": {},
   "source": [
    "Creamos una función que nos permita meter nuevos inputs en el formato de nuestro DataFrame inicial y extraer las variables para pasar directamente al modelo.\n",
    "\n",
    "Además, creamos otras dos funciones: una para realizar predicciones y otra para destransformar la columna target ```\"price\"```."
   ]
  },
  {
   "cell_type": "code",
   "execution_count": 67,
   "metadata": {},
   "outputs": [],
   "source": [
    "# Función para transformar un df con nuevos inputs en X, y para pasar al modelo.\n",
    "\n",
    "from sklearn.preprocessing import LabelEncoder\n",
    "from sklearn.preprocessing import MinMaxScaler\n",
    "import pickle\n",
    "\n",
    "\n",
    "\n",
    "def new_input_clean(input_df):\n",
    "    '''\n",
    "    Introduce los nuevos inputs en formato DataFrame con las columnas iniciales y devuelve los datos listos para introducirlos al modelo.\n",
    "\n",
    "    El input DataFrame debe contener al menos las columnas (['make', 'model', 'fuel', 'year', 'kms', 'power', 'doors', 'shift', 'is_professional'])\n",
    "    '''\n",
    "\n",
    "    excepciones = ['make', 'model', 'fuel', 'year', 'kms', 'power', 'doors', 'shift', 'is_professional']\n",
    "\n",
    "    # Reemplazar NaN con 0 excepto en las columnas de excepciones (las que utiliza el modelo)\n",
    "    input_df = input_df.fillna({col: 0 for col in input_df.columns if col not in excepciones})\n",
    "\n",
    "\n",
    "    input_df = input_df.drop(columns=\"price_financed\")\n",
    "    input_df = input_df.drop(columns=[\"url\", \"company\", 'dealer', 'province', 'country', 'publish_date', 'insert_date'])\n",
    "    input_df = input_df.drop(index=(input_df.loc[df.loc[:, \"power\"].isna() == True, :]).index)\n",
    "    input_df = input_df.drop(columns=\"color\")\n",
    "    input_df = input_df.drop(index=(input_df.loc[df.loc[:, \"shift\"].isna() == True, :]).index)\n",
    "    input_df = input_df.dropna()\n",
    "\n",
    "    # Importamos los encodings hechos antes:\n",
    "    encoder_make = pickle.load(open(\"../utils/label_encoder_make.pkl\", 'rb'))\n",
    "    encoder_model = pickle.load(open(\"../utils/label_encoder_model.pkl\", 'rb'))\n",
    "\n",
    "    list(encoder_make.classes_)\n",
    "    input_df[\"make\"] = encoder_make.transform(input_df[\"make\"])\n",
    "\n",
    "    list(encoder_model.classes_)\n",
    "    input_df[\"model\"] = encoder_model.transform(input_df[\"model\"])\n",
    "\n",
    "    input_df = input_df.drop(columns=\"version\")\n",
    "\n",
    "    fuel_types = {\"Diésel\" : 0,\n",
    "            \"Gasolina\" : 1,\n",
    "            \"Híbrido\" : 2,\n",
    "            \"Eléctrico\" : 3,\n",
    "            \"Híbrido enchufable\" : 4, \n",
    "            \"Gas licuado (GLP)\" : 5,\n",
    "            \"Gas natural (CNG)\" : 6}\n",
    "                     \n",
    "    input_df[\"fuel\"] = input_df[\"fuel\"].map(fuel_types)\n",
    "\n",
    "    num_puertas = {5: 5,\n",
    "            4 : 5,\n",
    "            3 : 3,\n",
    "            2 : 3}\n",
    "    \n",
    "    input_df[\"doors\"] = input_df[\"doors\"].map(num_puertas)\n",
    "    \n",
    "    input_df[\"shift\"] = input_df[\"shift\"].apply(lambda x: 0 if x == \"Manual\" else 1)\n",
    "\n",
    "    input_df = input_df.drop(columns=\"photos\")\n",
    "\n",
    "    input_df[\"is_professional\"] = input_df[\"is_professional\"].apply(lambda x: 1 if x == True else 0)\n",
    "\n",
    "    input_df[\"price\"] = np.log(input_df[\"price\"])\n",
    "\n",
    "    X_input = input_df.drop(\"price\", axis=1)\n",
    "    y_input = input_df[\"price\"]\n",
    "    \n",
    "\n",
    "    scaler = pickle.load(open(\"../utils/scaler.pkl\", 'rb'))\n",
    "\n",
    "    X_input = scaler.transform(X_input)\n",
    "\n",
    "    return [X_input, y_input]\n",
    "\n",
    "# Función para hacer predicciones\n",
    "\n",
    "def predict(X_input):\n",
    "    return loaded_model.predict(X_input)\n",
    "\n",
    "# Función para deshacer la transformación y devolver el precio:\n",
    "\n",
    "import numpy as np\n",
    "\n",
    "def destransformar_y(y_out):\n",
    "    return np.exp(y_out)"
   ]
  },
  {
   "cell_type": "markdown",
   "metadata": {},
   "source": [
    "Vamos ahora a cargar el modelo y probarlo con un DataFrame de prueba con coches, para ver el precio que predice. "
   ]
  },
  {
   "cell_type": "code",
   "execution_count": 68,
   "metadata": {},
   "outputs": [],
   "source": [
    "import pickle\n",
    "\n",
    "loaded_model = pickle.load(open(\"../model/modelo_final.pkl\", 'rb'))"
   ]
  },
  {
   "cell_type": "code",
   "execution_count": 69,
   "metadata": {},
   "outputs": [
    {
     "data": {
      "text/html": [
       "<style>#sk-container-id-1 {color: black;}#sk-container-id-1 pre{padding: 0;}#sk-container-id-1 div.sk-toggleable {background-color: white;}#sk-container-id-1 label.sk-toggleable__label {cursor: pointer;display: block;width: 100%;margin-bottom: 0;padding: 0.3em;box-sizing: border-box;text-align: center;}#sk-container-id-1 label.sk-toggleable__label-arrow:before {content: \"▸\";float: left;margin-right: 0.25em;color: #696969;}#sk-container-id-1 label.sk-toggleable__label-arrow:hover:before {color: black;}#sk-container-id-1 div.sk-estimator:hover label.sk-toggleable__label-arrow:before {color: black;}#sk-container-id-1 div.sk-toggleable__content {max-height: 0;max-width: 0;overflow: hidden;text-align: left;background-color: #f0f8ff;}#sk-container-id-1 div.sk-toggleable__content pre {margin: 0.2em;color: black;border-radius: 0.25em;background-color: #f0f8ff;}#sk-container-id-1 input.sk-toggleable__control:checked~div.sk-toggleable__content {max-height: 200px;max-width: 100%;overflow: auto;}#sk-container-id-1 input.sk-toggleable__control:checked~label.sk-toggleable__label-arrow:before {content: \"▾\";}#sk-container-id-1 div.sk-estimator input.sk-toggleable__control:checked~label.sk-toggleable__label {background-color: #d4ebff;}#sk-container-id-1 div.sk-label input.sk-toggleable__control:checked~label.sk-toggleable__label {background-color: #d4ebff;}#sk-container-id-1 input.sk-hidden--visually {border: 0;clip: rect(1px 1px 1px 1px);clip: rect(1px, 1px, 1px, 1px);height: 1px;margin: -1px;overflow: hidden;padding: 0;position: absolute;width: 1px;}#sk-container-id-1 div.sk-estimator {font-family: monospace;background-color: #f0f8ff;border: 1px dotted black;border-radius: 0.25em;box-sizing: border-box;margin-bottom: 0.5em;}#sk-container-id-1 div.sk-estimator:hover {background-color: #d4ebff;}#sk-container-id-1 div.sk-parallel-item::after {content: \"\";width: 100%;border-bottom: 1px solid gray;flex-grow: 1;}#sk-container-id-1 div.sk-label:hover label.sk-toggleable__label {background-color: #d4ebff;}#sk-container-id-1 div.sk-serial::before {content: \"\";position: absolute;border-left: 1px solid gray;box-sizing: border-box;top: 0;bottom: 0;left: 50%;z-index: 0;}#sk-container-id-1 div.sk-serial {display: flex;flex-direction: column;align-items: center;background-color: white;padding-right: 0.2em;padding-left: 0.2em;position: relative;}#sk-container-id-1 div.sk-item {position: relative;z-index: 1;}#sk-container-id-1 div.sk-parallel {display: flex;align-items: stretch;justify-content: center;background-color: white;position: relative;}#sk-container-id-1 div.sk-item::before, #sk-container-id-1 div.sk-parallel-item::before {content: \"\";position: absolute;border-left: 1px solid gray;box-sizing: border-box;top: 0;bottom: 0;left: 50%;z-index: -1;}#sk-container-id-1 div.sk-parallel-item {display: flex;flex-direction: column;z-index: 1;position: relative;background-color: white;}#sk-container-id-1 div.sk-parallel-item:first-child::after {align-self: flex-end;width: 50%;}#sk-container-id-1 div.sk-parallel-item:last-child::after {align-self: flex-start;width: 50%;}#sk-container-id-1 div.sk-parallel-item:only-child::after {width: 0;}#sk-container-id-1 div.sk-dashed-wrapped {border: 1px dashed gray;margin: 0 0.4em 0.5em 0.4em;box-sizing: border-box;padding-bottom: 0.4em;background-color: white;}#sk-container-id-1 div.sk-label label {font-family: monospace;font-weight: bold;display: inline-block;line-height: 1.2em;}#sk-container-id-1 div.sk-label-container {text-align: center;}#sk-container-id-1 div.sk-container {/* jupyter's `normalize.less` sets `[hidden] { display: none; }` but bootstrap.min.css set `[hidden] { display: none !important; }` so we also need the `!important` here to be able to override the default hidden behavior on the sphinx rendered scikit-learn.org. See: https://github.com/scikit-learn/scikit-learn/issues/21755 */display: inline-block !important;position: relative;}#sk-container-id-1 div.sk-text-repr-fallback {display: none;}</style><div id=\"sk-container-id-1\" class=\"sk-top-container\"><div class=\"sk-text-repr-fallback\"><pre>XGBRegressor(base_score=None, booster=None, callbacks=None,\n",
       "             colsample_bylevel=None, colsample_bynode=None,\n",
       "             colsample_bytree=None, device=None, early_stopping_rounds=None,\n",
       "             enable_categorical=False, eval_metric=None, feature_types=None,\n",
       "             gamma=None, grow_policy=None, importance_type=None,\n",
       "             interaction_constraints=None, learning_rate=None, max_bin=None,\n",
       "             max_cat_threshold=None, max_cat_to_onehot=None,\n",
       "             max_delta_step=None, max_depth=None, max_leaves=None,\n",
       "             min_child_weight=None, missing=nan, monotone_constraints=None,\n",
       "             multi_strategy=None, n_estimators=None, n_jobs=None,\n",
       "             num_parallel_tree=None, random_state=None, ...)</pre><b>In a Jupyter environment, please rerun this cell to show the HTML representation or trust the notebook. <br />On GitHub, the HTML representation is unable to render, please try loading this page with nbviewer.org.</b></div><div class=\"sk-container\" hidden><div class=\"sk-item\"><div class=\"sk-estimator sk-toggleable\"><input class=\"sk-toggleable__control sk-hidden--visually\" id=\"sk-estimator-id-1\" type=\"checkbox\" checked><label for=\"sk-estimator-id-1\" class=\"sk-toggleable__label sk-toggleable__label-arrow\">XGBRegressor</label><div class=\"sk-toggleable__content\"><pre>XGBRegressor(base_score=None, booster=None, callbacks=None,\n",
       "             colsample_bylevel=None, colsample_bynode=None,\n",
       "             colsample_bytree=None, device=None, early_stopping_rounds=None,\n",
       "             enable_categorical=False, eval_metric=None, feature_types=None,\n",
       "             gamma=None, grow_policy=None, importance_type=None,\n",
       "             interaction_constraints=None, learning_rate=None, max_bin=None,\n",
       "             max_cat_threshold=None, max_cat_to_onehot=None,\n",
       "             max_delta_step=None, max_depth=None, max_leaves=None,\n",
       "             min_child_weight=None, missing=nan, monotone_constraints=None,\n",
       "             multi_strategy=None, n_estimators=None, n_jobs=None,\n",
       "             num_parallel_tree=None, random_state=None, ...)</pre></div></div></div></div></div>"
      ],
      "text/plain": [
       "XGBRegressor(base_score=None, booster=None, callbacks=None,\n",
       "             colsample_bylevel=None, colsample_bynode=None,\n",
       "             colsample_bytree=None, device=None, early_stopping_rounds=None,\n",
       "             enable_categorical=False, eval_metric=None, feature_types=None,\n",
       "             gamma=None, grow_policy=None, importance_type=None,\n",
       "             interaction_constraints=None, learning_rate=None, max_bin=None,\n",
       "             max_cat_threshold=None, max_cat_to_onehot=None,\n",
       "             max_delta_step=None, max_depth=None, max_leaves=None,\n",
       "             min_child_weight=None, missing=nan, monotone_constraints=None,\n",
       "             multi_strategy=None, n_estimators=None, n_jobs=None,\n",
       "             num_parallel_tree=None, random_state=None, ...)"
      ]
     },
     "execution_count": 69,
     "metadata": {},
     "output_type": "execute_result"
    }
   ],
   "source": [
    "loaded_model"
   ]
  },
  {
   "cell_type": "code",
   "execution_count": 70,
   "metadata": {},
   "outputs": [
    {
     "data": {
      "text/html": [
       "<div>\n",
       "<style scoped>\n",
       "    .dataframe tbody tr th:only-of-type {\n",
       "        vertical-align: middle;\n",
       "    }\n",
       "\n",
       "    .dataframe tbody tr th {\n",
       "        vertical-align: top;\n",
       "    }\n",
       "\n",
       "    .dataframe thead th {\n",
       "        text-align: right;\n",
       "    }\n",
       "</style>\n",
       "<table border=\"1\" class=\"dataframe\">\n",
       "  <thead>\n",
       "    <tr style=\"text-align: right;\">\n",
       "      <th></th>\n",
       "      <th>url</th>\n",
       "      <th>company</th>\n",
       "      <th>make</th>\n",
       "      <th>model</th>\n",
       "      <th>version</th>\n",
       "      <th>price</th>\n",
       "      <th>price_financed</th>\n",
       "      <th>fuel</th>\n",
       "      <th>year</th>\n",
       "      <th>kms</th>\n",
       "      <th>...</th>\n",
       "      <th>doors</th>\n",
       "      <th>shift</th>\n",
       "      <th>color</th>\n",
       "      <th>photos</th>\n",
       "      <th>is_professional</th>\n",
       "      <th>dealer</th>\n",
       "      <th>province</th>\n",
       "      <th>country</th>\n",
       "      <th>publish_date</th>\n",
       "      <th>insert_date</th>\n",
       "    </tr>\n",
       "  </thead>\n",
       "  <tbody>\n",
       "    <tr>\n",
       "      <th>0</th>\n",
       "      <td>730424e9e3d55f590709d0c843021ec4</td>\n",
       "      <td>9881bcdd5a0ad4733037b3fb25e69c3a</td>\n",
       "      <td>FORD</td>\n",
       "      <td>Fiesta</td>\n",
       "      <td>FORD Fiesta  3p.</td>\n",
       "      <td>1500</td>\n",
       "      <td>NaN</td>\n",
       "      <td>Diésel</td>\n",
       "      <td>2004</td>\n",
       "      <td>205000</td>\n",
       "      <td>...</td>\n",
       "      <td>3</td>\n",
       "      <td>Manual</td>\n",
       "      <td>Negro</td>\n",
       "      <td>3</td>\n",
       "      <td>False</td>\n",
       "      <td>2a7de613f57460323e61a1de9952cdf4</td>\n",
       "      <td>Lleida</td>\n",
       "      <td>Spain</td>\n",
       "      <td>2021-01-12 13:02:20</td>\n",
       "      <td>2021-01-15 00:00:00</td>\n",
       "    </tr>\n",
       "    <tr>\n",
       "      <th>1</th>\n",
       "      <td>776abe3de2f4fde98b80a06f6dcc7da1</td>\n",
       "      <td>9881bcdd5a0ad4733037b3fb25e69c3a</td>\n",
       "      <td>PEUGEOT</td>\n",
       "      <td>e-2008</td>\n",
       "      <td>PEUGEOT e2008 Electrico GT Line 5p.</td>\n",
       "      <td>35900</td>\n",
       "      <td>35200</td>\n",
       "      <td>Eléctrico</td>\n",
       "      <td>2020</td>\n",
       "      <td>1</td>\n",
       "      <td>...</td>\n",
       "      <td>5</td>\n",
       "      <td>Automático</td>\n",
       "      <td>Azul</td>\n",
       "      <td>6</td>\n",
       "      <td>True</td>\n",
       "      <td>PEUGEOT Joaquin Oliva</td>\n",
       "      <td>Tarragona</td>\n",
       "      <td>Spain</td>\n",
       "      <td>2021-01-15 10:35:56</td>\n",
       "      <td>2021-01-15 00:00:00</td>\n",
       "    </tr>\n",
       "    <tr>\n",
       "      <th>2</th>\n",
       "      <td>346c1cecd85155ce039aa9f89771e6be</td>\n",
       "      <td>9881bcdd5a0ad4733037b3fb25e69c3a</td>\n",
       "      <td>TOYOTA</td>\n",
       "      <td>Aygo</td>\n",
       "      <td>TOYOTA Aygo 1.0 70 xclusiv 5p.</td>\n",
       "      <td>5499</td>\n",
       "      <td>NaN</td>\n",
       "      <td>Gasolina</td>\n",
       "      <td>2016</td>\n",
       "      <td>136000</td>\n",
       "      <td>...</td>\n",
       "      <td>5</td>\n",
       "      <td>Manual</td>\n",
       "      <td>Azul</td>\n",
       "      <td>10</td>\n",
       "      <td>False</td>\n",
       "      <td>f384f99c5e39dd0fb2b45fe1bf527c6c</td>\n",
       "      <td>Málaga</td>\n",
       "      <td>Spain</td>\n",
       "      <td>2020-11-16 07:59:38</td>\n",
       "      <td>2021-01-15 00:00:00</td>\n",
       "    </tr>\n",
       "    <tr>\n",
       "      <th>3</th>\n",
       "      <td>96a96d1a27b29a91a087e80d074a11fb</td>\n",
       "      <td>9881bcdd5a0ad4733037b3fb25e69c3a</td>\n",
       "      <td>VOLKSWAGEN</td>\n",
       "      <td>Golf</td>\n",
       "      <td>VOLKSWAGEN Golf  5p.</td>\n",
       "      <td>6500</td>\n",
       "      <td>NaN</td>\n",
       "      <td>Diésel</td>\n",
       "      <td>2010</td>\n",
       "      <td>170600</td>\n",
       "      <td>...</td>\n",
       "      <td>5</td>\n",
       "      <td>Manual</td>\n",
       "      <td>Azul</td>\n",
       "      <td>2</td>\n",
       "      <td>False</td>\n",
       "      <td>d8c8aa18b685b78e7eed7d99c87ea5d5</td>\n",
       "      <td>Álava</td>\n",
       "      <td>Spain</td>\n",
       "      <td>2020-12-13 17:46:09</td>\n",
       "      <td>2021-01-15 00:00:00</td>\n",
       "    </tr>\n",
       "    <tr>\n",
       "      <th>4</th>\n",
       "      <td>c6aecea210008f6cd97be81d2c472eb8</td>\n",
       "      <td>9881bcdd5a0ad4733037b3fb25e69c3a</td>\n",
       "      <td>OPEL</td>\n",
       "      <td>Tigra</td>\n",
       "      <td>OPEL Tigra Sport 1.4 2p.</td>\n",
       "      <td>3750</td>\n",
       "      <td>NaN</td>\n",
       "      <td>Gasolina</td>\n",
       "      <td>2005</td>\n",
       "      <td>190000</td>\n",
       "      <td>...</td>\n",
       "      <td>2</td>\n",
       "      <td>Manual</td>\n",
       "      <td>Azul</td>\n",
       "      <td>16</td>\n",
       "      <td>True</td>\n",
       "      <td>Autos Mostoles</td>\n",
       "      <td>Madrid</td>\n",
       "      <td>Spain</td>\n",
       "      <td>2021-01-12 17:28:45</td>\n",
       "      <td>2021-01-15 00:00:00</td>\n",
       "    </tr>\n",
       "  </tbody>\n",
       "</table>\n",
       "<p>5 rows × 21 columns</p>\n",
       "</div>"
      ],
      "text/plain": [
       "                                url                           company  \\\n",
       "0  730424e9e3d55f590709d0c843021ec4  9881bcdd5a0ad4733037b3fb25e69c3a   \n",
       "1  776abe3de2f4fde98b80a06f6dcc7da1  9881bcdd5a0ad4733037b3fb25e69c3a   \n",
       "2  346c1cecd85155ce039aa9f89771e6be  9881bcdd5a0ad4733037b3fb25e69c3a   \n",
       "3  96a96d1a27b29a91a087e80d074a11fb  9881bcdd5a0ad4733037b3fb25e69c3a   \n",
       "4  c6aecea210008f6cd97be81d2c472eb8  9881bcdd5a0ad4733037b3fb25e69c3a   \n",
       "\n",
       "         make   model                              version  price  \\\n",
       "0        FORD  Fiesta                     FORD Fiesta  3p.   1500   \n",
       "1     PEUGEOT  e-2008  PEUGEOT e2008 Electrico GT Line 5p.  35900   \n",
       "2      TOYOTA    Aygo       TOYOTA Aygo 1.0 70 xclusiv 5p.   5499   \n",
       "3  VOLKSWAGEN    Golf                 VOLKSWAGEN Golf  5p.   6500   \n",
       "4        OPEL   Tigra             OPEL Tigra Sport 1.4 2p.   3750   \n",
       "\n",
       "  price_financed       fuel  year     kms  ...  doors       shift  color  \\\n",
       "0            NaN     Diésel  2004  205000  ...      3      Manual  Negro   \n",
       "1          35200  Eléctrico  2020       1  ...      5  Automático   Azul   \n",
       "2            NaN   Gasolina  2016  136000  ...      5      Manual   Azul   \n",
       "3            NaN     Diésel  2010  170600  ...      5      Manual   Azul   \n",
       "4            NaN   Gasolina  2005  190000  ...      2      Manual   Azul   \n",
       "\n",
       "  photos  is_professional                            dealer   province  \\\n",
       "0      3            False  2a7de613f57460323e61a1de9952cdf4     Lleida   \n",
       "1      6             True             PEUGEOT Joaquin Oliva  Tarragona   \n",
       "2     10            False  f384f99c5e39dd0fb2b45fe1bf527c6c     Málaga   \n",
       "3      2            False  d8c8aa18b685b78e7eed7d99c87ea5d5      Álava   \n",
       "4     16             True                    Autos Mostoles     Madrid   \n",
       "\n",
       "  country         publish_date          insert_date  \n",
       "0   Spain  2021-01-12 13:02:20  2021-01-15 00:00:00  \n",
       "1   Spain  2021-01-15 10:35:56  2021-01-15 00:00:00  \n",
       "2   Spain  2020-11-16 07:59:38  2021-01-15 00:00:00  \n",
       "3   Spain  2020-12-13 17:46:09  2021-01-15 00:00:00  \n",
       "4   Spain  2021-01-12 17:28:45  2021-01-15 00:00:00  \n",
       "\n",
       "[5 rows x 21 columns]"
      ]
     },
     "execution_count": 70,
     "metadata": {},
     "output_type": "execute_result"
    }
   ],
   "source": [
    "df_prueba = pd.read_csv(\"../data/raw/coches_prueba_df.csv\")\n",
    "df_prueba.head()"
   ]
  },
  {
   "cell_type": "code",
   "execution_count": 71,
   "metadata": {},
   "outputs": [],
   "source": [
    "X_input, y_input = new_input_clean(input_df=df_prueba)"
   ]
  },
  {
   "cell_type": "code",
   "execution_count": 72,
   "metadata": {},
   "outputs": [
    {
     "data": {
      "text/plain": [
       "array([ 7.587689 , 10.338383 ,  8.7033825,  8.933454 ,  8.087106 ,\n",
       "        9.714876 ,  9.2725935, 10.165454 ,  8.864722 ,  9.982693 ],\n",
       "      dtype=float32)"
      ]
     },
     "execution_count": 72,
     "metadata": {},
     "output_type": "execute_result"
    }
   ],
   "source": [
    "predictions = loaded_model.predict(X_input)\n",
    "predictions"
   ]
  },
  {
   "cell_type": "code",
   "execution_count": 73,
   "metadata": {},
   "outputs": [
    {
     "data": {
      "text/plain": [
       "array([ 1974., 30896.,  6023.,  7581.,  3252., 16562., 10642., 25990.,\n",
       "        7078., 21649.], dtype=float32)"
      ]
     },
     "execution_count": 73,
     "metadata": {},
     "output_type": "execute_result"
    }
   ],
   "source": [
    "y_prueba = destransformar_y(predictions).round(0)\n",
    "y_prueba"
   ]
  },
  {
   "cell_type": "markdown",
   "metadata": {},
   "source": [
    "Insertamos las predicciones realizadas en la columna ```\"predicted_price\"```, al lado de la columna target ```\"price\"```:"
   ]
  },
  {
   "cell_type": "code",
   "execution_count": 74,
   "metadata": {},
   "outputs": [
    {
     "data": {
      "text/html": [
       "<div>\n",
       "<style scoped>\n",
       "    .dataframe tbody tr th:only-of-type {\n",
       "        vertical-align: middle;\n",
       "    }\n",
       "\n",
       "    .dataframe tbody tr th {\n",
       "        vertical-align: top;\n",
       "    }\n",
       "\n",
       "    .dataframe thead th {\n",
       "        text-align: right;\n",
       "    }\n",
       "</style>\n",
       "<table border=\"1\" class=\"dataframe\">\n",
       "  <thead>\n",
       "    <tr style=\"text-align: right;\">\n",
       "      <th></th>\n",
       "      <th>url</th>\n",
       "      <th>company</th>\n",
       "      <th>make</th>\n",
       "      <th>model</th>\n",
       "      <th>version</th>\n",
       "      <th>price</th>\n",
       "      <th>predicted_price</th>\n",
       "      <th>price_financed</th>\n",
       "      <th>fuel</th>\n",
       "      <th>year</th>\n",
       "      <th>...</th>\n",
       "      <th>doors</th>\n",
       "      <th>shift</th>\n",
       "      <th>color</th>\n",
       "      <th>photos</th>\n",
       "      <th>is_professional</th>\n",
       "      <th>dealer</th>\n",
       "      <th>province</th>\n",
       "      <th>country</th>\n",
       "      <th>publish_date</th>\n",
       "      <th>insert_date</th>\n",
       "    </tr>\n",
       "  </thead>\n",
       "  <tbody>\n",
       "    <tr>\n",
       "      <th>0</th>\n",
       "      <td>730424e9e3d55f590709d0c843021ec4</td>\n",
       "      <td>9881bcdd5a0ad4733037b3fb25e69c3a</td>\n",
       "      <td>FORD</td>\n",
       "      <td>Fiesta</td>\n",
       "      <td>FORD Fiesta  3p.</td>\n",
       "      <td>1500</td>\n",
       "      <td>1974.0</td>\n",
       "      <td>NaN</td>\n",
       "      <td>Diésel</td>\n",
       "      <td>2004</td>\n",
       "      <td>...</td>\n",
       "      <td>3</td>\n",
       "      <td>Manual</td>\n",
       "      <td>Negro</td>\n",
       "      <td>3</td>\n",
       "      <td>False</td>\n",
       "      <td>2a7de613f57460323e61a1de9952cdf4</td>\n",
       "      <td>Lleida</td>\n",
       "      <td>Spain</td>\n",
       "      <td>2021-01-12 13:02:20</td>\n",
       "      <td>2021-01-15 00:00:00</td>\n",
       "    </tr>\n",
       "    <tr>\n",
       "      <th>1</th>\n",
       "      <td>776abe3de2f4fde98b80a06f6dcc7da1</td>\n",
       "      <td>9881bcdd5a0ad4733037b3fb25e69c3a</td>\n",
       "      <td>PEUGEOT</td>\n",
       "      <td>e-2008</td>\n",
       "      <td>PEUGEOT e2008 Electrico GT Line 5p.</td>\n",
       "      <td>35900</td>\n",
       "      <td>30896.0</td>\n",
       "      <td>35200</td>\n",
       "      <td>Eléctrico</td>\n",
       "      <td>2020</td>\n",
       "      <td>...</td>\n",
       "      <td>5</td>\n",
       "      <td>Automático</td>\n",
       "      <td>Azul</td>\n",
       "      <td>6</td>\n",
       "      <td>True</td>\n",
       "      <td>PEUGEOT Joaquin Oliva</td>\n",
       "      <td>Tarragona</td>\n",
       "      <td>Spain</td>\n",
       "      <td>2021-01-15 10:35:56</td>\n",
       "      <td>2021-01-15 00:00:00</td>\n",
       "    </tr>\n",
       "    <tr>\n",
       "      <th>2</th>\n",
       "      <td>346c1cecd85155ce039aa9f89771e6be</td>\n",
       "      <td>9881bcdd5a0ad4733037b3fb25e69c3a</td>\n",
       "      <td>TOYOTA</td>\n",
       "      <td>Aygo</td>\n",
       "      <td>TOYOTA Aygo 1.0 70 xclusiv 5p.</td>\n",
       "      <td>5499</td>\n",
       "      <td>6023.0</td>\n",
       "      <td>NaN</td>\n",
       "      <td>Gasolina</td>\n",
       "      <td>2016</td>\n",
       "      <td>...</td>\n",
       "      <td>5</td>\n",
       "      <td>Manual</td>\n",
       "      <td>Azul</td>\n",
       "      <td>10</td>\n",
       "      <td>False</td>\n",
       "      <td>f384f99c5e39dd0fb2b45fe1bf527c6c</td>\n",
       "      <td>Málaga</td>\n",
       "      <td>Spain</td>\n",
       "      <td>2020-11-16 07:59:38</td>\n",
       "      <td>2021-01-15 00:00:00</td>\n",
       "    </tr>\n",
       "    <tr>\n",
       "      <th>3</th>\n",
       "      <td>96a96d1a27b29a91a087e80d074a11fb</td>\n",
       "      <td>9881bcdd5a0ad4733037b3fb25e69c3a</td>\n",
       "      <td>VOLKSWAGEN</td>\n",
       "      <td>Golf</td>\n",
       "      <td>VOLKSWAGEN Golf  5p.</td>\n",
       "      <td>6500</td>\n",
       "      <td>7581.0</td>\n",
       "      <td>NaN</td>\n",
       "      <td>Diésel</td>\n",
       "      <td>2010</td>\n",
       "      <td>...</td>\n",
       "      <td>5</td>\n",
       "      <td>Manual</td>\n",
       "      <td>Azul</td>\n",
       "      <td>2</td>\n",
       "      <td>False</td>\n",
       "      <td>d8c8aa18b685b78e7eed7d99c87ea5d5</td>\n",
       "      <td>Álava</td>\n",
       "      <td>Spain</td>\n",
       "      <td>2020-12-13 17:46:09</td>\n",
       "      <td>2021-01-15 00:00:00</td>\n",
       "    </tr>\n",
       "    <tr>\n",
       "      <th>4</th>\n",
       "      <td>c6aecea210008f6cd97be81d2c472eb8</td>\n",
       "      <td>9881bcdd5a0ad4733037b3fb25e69c3a</td>\n",
       "      <td>OPEL</td>\n",
       "      <td>Tigra</td>\n",
       "      <td>OPEL Tigra Sport 1.4 2p.</td>\n",
       "      <td>3750</td>\n",
       "      <td>3252.0</td>\n",
       "      <td>NaN</td>\n",
       "      <td>Gasolina</td>\n",
       "      <td>2005</td>\n",
       "      <td>...</td>\n",
       "      <td>2</td>\n",
       "      <td>Manual</td>\n",
       "      <td>Azul</td>\n",
       "      <td>16</td>\n",
       "      <td>True</td>\n",
       "      <td>Autos Mostoles</td>\n",
       "      <td>Madrid</td>\n",
       "      <td>Spain</td>\n",
       "      <td>2021-01-12 17:28:45</td>\n",
       "      <td>2021-01-15 00:00:00</td>\n",
       "    </tr>\n",
       "    <tr>\n",
       "      <th>5</th>\n",
       "      <td>ea5c7ccb3ed4700ed71b605e7b93bafa</td>\n",
       "      <td>9881bcdd5a0ad4733037b3fb25e69c3a</td>\n",
       "      <td>PEUGEOT</td>\n",
       "      <td>208</td>\n",
       "      <td>PEUGEOT 208 PureTech 73kW 100CV GT Line 5p.</td>\n",
       "      <td>17600</td>\n",
       "      <td>16562.0</td>\n",
       "      <td>16100</td>\n",
       "      <td>Gasolina</td>\n",
       "      <td>2020</td>\n",
       "      <td>...</td>\n",
       "      <td>5</td>\n",
       "      <td>Manual</td>\n",
       "      <td>Rojo</td>\n",
       "      <td>24</td>\n",
       "      <td>True</td>\n",
       "      <td>Vallescar Ocasion</td>\n",
       "      <td>Barcelona</td>\n",
       "      <td>Spain</td>\n",
       "      <td>2020-12-30 19:14:41</td>\n",
       "      <td>2021-01-15 00:00:00</td>\n",
       "    </tr>\n",
       "    <tr>\n",
       "      <th>6</th>\n",
       "      <td>5a4a01690abfcb33c484792109435ce6</td>\n",
       "      <td>9881bcdd5a0ad4733037b3fb25e69c3a</td>\n",
       "      <td>NISSAN</td>\n",
       "      <td>Micra</td>\n",
       "      <td>NISSAN Micra IGT 66 kW 90 CV SS Acenta 5p.</td>\n",
       "      <td>10985</td>\n",
       "      <td>10642.0</td>\n",
       "      <td>8585</td>\n",
       "      <td>Gasolina</td>\n",
       "      <td>2017</td>\n",
       "      <td>...</td>\n",
       "      <td>5</td>\n",
       "      <td>Manual</td>\n",
       "      <td>Gris / Plata</td>\n",
       "      <td>47</td>\n",
       "      <td>True</td>\n",
       "      <td>REKORD MOTOR</td>\n",
       "      <td>Barcelona</td>\n",
       "      <td>Spain</td>\n",
       "      <td>2021-01-12 19:35:42</td>\n",
       "      <td>2021-01-15 00:00:00</td>\n",
       "    </tr>\n",
       "    <tr>\n",
       "      <th>7</th>\n",
       "      <td>0b603bd188cf5d378d4475143400dbcb</td>\n",
       "      <td>9881bcdd5a0ad4733037b3fb25e69c3a</td>\n",
       "      <td>BMW</td>\n",
       "      <td>Serie 3</td>\n",
       "      <td>BMW Serie 3 320D 4p.</td>\n",
       "      <td>21000</td>\n",
       "      <td>25990.0</td>\n",
       "      <td>NaN</td>\n",
       "      <td>Diésel</td>\n",
       "      <td>2017</td>\n",
       "      <td>...</td>\n",
       "      <td>4</td>\n",
       "      <td>Automático</td>\n",
       "      <td>Blanco</td>\n",
       "      <td>0</td>\n",
       "      <td>False</td>\n",
       "      <td>e355ec3b68d0fffc37d181f2da9d2fa3</td>\n",
       "      <td>Madrid</td>\n",
       "      <td>Spain</td>\n",
       "      <td>2020-12-25 18:14:00</td>\n",
       "      <td>2021-01-15 00:00:00</td>\n",
       "    </tr>\n",
       "    <tr>\n",
       "      <th>8</th>\n",
       "      <td>c8c2c213457aa0231d373c3648dd69a2</td>\n",
       "      <td>9881bcdd5a0ad4733037b3fb25e69c3a</td>\n",
       "      <td>BMW</td>\n",
       "      <td>Serie 3</td>\n",
       "      <td>BMW Serie 3 318d 4p.</td>\n",
       "      <td>8500</td>\n",
       "      <td>7078.0</td>\n",
       "      <td>NaN</td>\n",
       "      <td>Diésel</td>\n",
       "      <td>2008</td>\n",
       "      <td>...</td>\n",
       "      <td>4</td>\n",
       "      <td>Manual</td>\n",
       "      <td>Blanco</td>\n",
       "      <td>5</td>\n",
       "      <td>False</td>\n",
       "      <td>6575f7a4e9ad7c10fb4ff036d9ae2c04</td>\n",
       "      <td>Almería</td>\n",
       "      <td>Spain</td>\n",
       "      <td>2020-11-09 10:55:56</td>\n",
       "      <td>2021-01-15 00:00:00</td>\n",
       "    </tr>\n",
       "    <tr>\n",
       "      <th>9</th>\n",
       "      <td>c8c2c213457aa0231d369a2</td>\n",
       "      <td>9881bcd733037b3fb25e69c3a</td>\n",
       "      <td>SEAT</td>\n",
       "      <td>Arona</td>\n",
       "      <td>4p.</td>\n",
       "      <td>19500</td>\n",
       "      <td>21649.0</td>\n",
       "      <td>Hola</td>\n",
       "      <td>Diésel</td>\n",
       "      <td>2018</td>\n",
       "      <td>...</td>\n",
       "      <td>4</td>\n",
       "      <td>Manual</td>\n",
       "      <td>Blanco</td>\n",
       "      <td>5</td>\n",
       "      <td>False</td>\n",
       "      <td>6575f7a4e9ad7c10fb4ff036d9ae2c04</td>\n",
       "      <td>Pontevedra</td>\n",
       "      <td>Spain</td>\n",
       "      <td>2020-11-09 10:55:56</td>\n",
       "      <td>2021-01-15 00:00:00</td>\n",
       "    </tr>\n",
       "  </tbody>\n",
       "</table>\n",
       "<p>10 rows × 22 columns</p>\n",
       "</div>"
      ],
      "text/plain": [
       "                                url                           company  \\\n",
       "0  730424e9e3d55f590709d0c843021ec4  9881bcdd5a0ad4733037b3fb25e69c3a   \n",
       "1  776abe3de2f4fde98b80a06f6dcc7da1  9881bcdd5a0ad4733037b3fb25e69c3a   \n",
       "2  346c1cecd85155ce039aa9f89771e6be  9881bcdd5a0ad4733037b3fb25e69c3a   \n",
       "3  96a96d1a27b29a91a087e80d074a11fb  9881bcdd5a0ad4733037b3fb25e69c3a   \n",
       "4  c6aecea210008f6cd97be81d2c472eb8  9881bcdd5a0ad4733037b3fb25e69c3a   \n",
       "5  ea5c7ccb3ed4700ed71b605e7b93bafa  9881bcdd5a0ad4733037b3fb25e69c3a   \n",
       "6  5a4a01690abfcb33c484792109435ce6  9881bcdd5a0ad4733037b3fb25e69c3a   \n",
       "7  0b603bd188cf5d378d4475143400dbcb  9881bcdd5a0ad4733037b3fb25e69c3a   \n",
       "8  c8c2c213457aa0231d373c3648dd69a2  9881bcdd5a0ad4733037b3fb25e69c3a   \n",
       "9           c8c2c213457aa0231d369a2         9881bcd733037b3fb25e69c3a   \n",
       "\n",
       "         make    model                                      version  price  \\\n",
       "0        FORD   Fiesta                             FORD Fiesta  3p.   1500   \n",
       "1     PEUGEOT   e-2008          PEUGEOT e2008 Electrico GT Line 5p.  35900   \n",
       "2      TOYOTA     Aygo               TOYOTA Aygo 1.0 70 xclusiv 5p.   5499   \n",
       "3  VOLKSWAGEN     Golf                         VOLKSWAGEN Golf  5p.   6500   \n",
       "4        OPEL    Tigra                     OPEL Tigra Sport 1.4 2p.   3750   \n",
       "5     PEUGEOT      208  PEUGEOT 208 PureTech 73kW 100CV GT Line 5p.  17600   \n",
       "6      NISSAN    Micra   NISSAN Micra IGT 66 kW 90 CV SS Acenta 5p.  10985   \n",
       "7         BMW  Serie 3                         BMW Serie 3 320D 4p.  21000   \n",
       "8         BMW  Serie 3                         BMW Serie 3 318d 4p.   8500   \n",
       "9        SEAT    Arona                                          4p.  19500   \n",
       "\n",
       "   predicted_price price_financed       fuel  year  ...  doors       shift  \\\n",
       "0           1974.0            NaN     Diésel  2004  ...      3      Manual   \n",
       "1          30896.0          35200  Eléctrico  2020  ...      5  Automático   \n",
       "2           6023.0            NaN   Gasolina  2016  ...      5      Manual   \n",
       "3           7581.0            NaN     Diésel  2010  ...      5      Manual   \n",
       "4           3252.0            NaN   Gasolina  2005  ...      2      Manual   \n",
       "5          16562.0          16100   Gasolina  2020  ...      5      Manual   \n",
       "6          10642.0           8585   Gasolina  2017  ...      5      Manual   \n",
       "7          25990.0            NaN     Diésel  2017  ...      4  Automático   \n",
       "8           7078.0            NaN     Diésel  2008  ...      4      Manual   \n",
       "9          21649.0           Hola     Diésel  2018  ...      4      Manual   \n",
       "\n",
       "          color photos is_professional                            dealer  \\\n",
       "0         Negro      3           False  2a7de613f57460323e61a1de9952cdf4   \n",
       "1          Azul      6            True             PEUGEOT Joaquin Oliva   \n",
       "2          Azul     10           False  f384f99c5e39dd0fb2b45fe1bf527c6c   \n",
       "3          Azul      2           False  d8c8aa18b685b78e7eed7d99c87ea5d5   \n",
       "4          Azul     16            True                    Autos Mostoles   \n",
       "5          Rojo     24            True                 Vallescar Ocasion   \n",
       "6  Gris / Plata     47            True                      REKORD MOTOR   \n",
       "7        Blanco      0           False  e355ec3b68d0fffc37d181f2da9d2fa3   \n",
       "8        Blanco      5           False  6575f7a4e9ad7c10fb4ff036d9ae2c04   \n",
       "9        Blanco      5           False  6575f7a4e9ad7c10fb4ff036d9ae2c04   \n",
       "\n",
       "     province country         publish_date          insert_date  \n",
       "0      Lleida   Spain  2021-01-12 13:02:20  2021-01-15 00:00:00  \n",
       "1   Tarragona   Spain  2021-01-15 10:35:56  2021-01-15 00:00:00  \n",
       "2      Málaga   Spain  2020-11-16 07:59:38  2021-01-15 00:00:00  \n",
       "3       Álava   Spain  2020-12-13 17:46:09  2021-01-15 00:00:00  \n",
       "4      Madrid   Spain  2021-01-12 17:28:45  2021-01-15 00:00:00  \n",
       "5   Barcelona   Spain  2020-12-30 19:14:41  2021-01-15 00:00:00  \n",
       "6   Barcelona   Spain  2021-01-12 19:35:42  2021-01-15 00:00:00  \n",
       "7      Madrid   Spain  2020-12-25 18:14:00  2021-01-15 00:00:00  \n",
       "8     Almería   Spain  2020-11-09 10:55:56  2021-01-15 00:00:00  \n",
       "9  Pontevedra   Spain  2020-11-09 10:55:56  2021-01-15 00:00:00  \n",
       "\n",
       "[10 rows x 22 columns]"
      ]
     },
     "execution_count": 74,
     "metadata": {},
     "output_type": "execute_result"
    }
   ],
   "source": [
    "df_prueba.insert(6, \"predicted_price\", y_prueba)\n",
    "df_prueba.to_csv(\"../data/processed/df_prueba_pred.csv\")\n",
    "df_prueba"
   ]
  },
  {
   "cell_type": "markdown",
   "metadata": {},
   "source": [
    "Vemos que los precios que predice el modelo se ajustan bastante a los reales.\n",
    "\n",
    "Sin embargo, al realizar la Web App del concesionario (en el archivo streamlit_app.py), hemos visto que el modelo no hace especialmente bien los vehículos que contienen pocos datos de esa marca de coche en nuestro DataFrame inicial, que recordemos tenía los siguientes coches por marca:"
   ]
  },
  {
   "cell_type": "code",
   "execution_count": 75,
   "metadata": {},
   "outputs": [
    {
     "data": {
      "image/png": "[encoded data removed]",
      "text/plain": [
       "<Figure size 1500x1200 with 1 Axes>"
      ]
     },
     "metadata": {},
     "output_type": "display_data"
    }
   ],
   "source": [
    "plt.figure(figsize = (15, 12))\n",
    "sns.countplot(y = make_df, order=make_df.value_counts(ascending=False).index, color=colors[0])\n",
    "\n",
    "plt.title(\"Cantidad de coches por marca\", fontsize=14)\n",
    "plt.xlabel(\"Cantidad de coches\")\n",
    "plt.ylabel(\"Marca\")\n",
    "\n",
    "plt.show()"
   ]
  },
  {
   "cell_type": "markdown",
   "metadata": {},
   "source": [
    "Vamos a ver algún ejemplo, escogemos coches de marcas con pocos datos, como CUPRA o FERRARI y los comparamos con un coche de una marca con más datos, como SEAT:"
   ]
  },
  {
   "cell_type": "code",
   "execution_count": 76,
   "metadata": {},
   "outputs": [
    {
     "data": {
      "text/html": [
       "<div>\n",
       "<style scoped>\n",
       "    .dataframe tbody tr th:only-of-type {\n",
       "        vertical-align: middle;\n",
       "    }\n",
       "\n",
       "    .dataframe tbody tr th {\n",
       "        vertical-align: top;\n",
       "    }\n",
       "\n",
       "    .dataframe thead th {\n",
       "        text-align: right;\n",
       "    }\n",
       "</style>\n",
       "<table border=\"1\" class=\"dataframe\">\n",
       "  <thead>\n",
       "    <tr style=\"text-align: right;\">\n",
       "      <th></th>\n",
       "      <th>make</th>\n",
       "      <th>model</th>\n",
       "      <th>price</th>\n",
       "      <th>fuel</th>\n",
       "      <th>year</th>\n",
       "      <th>kms</th>\n",
       "      <th>power</th>\n",
       "      <th>doors</th>\n",
       "      <th>shift</th>\n",
       "      <th>is_professional</th>\n",
       "    </tr>\n",
       "  </thead>\n",
       "  <tbody>\n",
       "    <tr>\n",
       "      <th>0</th>\n",
       "      <td>CUPRA</td>\n",
       "      <td>Formentor</td>\n",
       "      <td>30500.0</td>\n",
       "      <td>Diésel</td>\n",
       "      <td>2020</td>\n",
       "      <td>2000</td>\n",
       "      <td>150</td>\n",
       "      <td>5</td>\n",
       "      <td>Manual</td>\n",
       "      <td>True</td>\n",
       "    </tr>\n",
       "    <tr>\n",
       "      <th>1</th>\n",
       "      <td>FERRARI</td>\n",
       "      <td>355</td>\n",
       "      <td>99500.0</td>\n",
       "      <td>Gasolina</td>\n",
       "      <td>1996</td>\n",
       "      <td>42000</td>\n",
       "      <td>380</td>\n",
       "      <td>2</td>\n",
       "      <td>Manual</td>\n",
       "      <td>True</td>\n",
       "    </tr>\n",
       "    <tr>\n",
       "      <th>2</th>\n",
       "      <td>FERRARI</td>\n",
       "      <td>355</td>\n",
       "      <td>99500.0</td>\n",
       "      <td>Gasolina</td>\n",
       "      <td>2004</td>\n",
       "      <td>42000</td>\n",
       "      <td>380</td>\n",
       "      <td>2</td>\n",
       "      <td>Manual</td>\n",
       "      <td>True</td>\n",
       "    </tr>\n",
       "    <tr>\n",
       "      <th>3</th>\n",
       "      <td>SEAT</td>\n",
       "      <td>Arona</td>\n",
       "      <td>19500.0</td>\n",
       "      <td>Diésel</td>\n",
       "      <td>2018</td>\n",
       "      <td>21000</td>\n",
       "      <td>125</td>\n",
       "      <td>5</td>\n",
       "      <td>Manual</td>\n",
       "      <td>True</td>\n",
       "    </tr>\n",
       "  </tbody>\n",
       "</table>\n",
       "</div>"
      ],
      "text/plain": [
       "      make      model    price      fuel  year    kms  power  doors   shift  \\\n",
       "0    CUPRA  Formentor  30500.0    Diésel  2020   2000    150      5  Manual   \n",
       "1  FERRARI        355  99500.0  Gasolina  1996  42000    380      2  Manual   \n",
       "2  FERRARI        355  99500.0  Gasolina  2004  42000    380      2  Manual   \n",
       "3     SEAT      Arona  19500.0    Diésel  2018  21000    125      5  Manual   \n",
       "\n",
       "   is_professional  \n",
       "0             True  \n",
       "1             True  \n",
       "2             True  \n",
       "3             True  "
      ]
     },
     "execution_count": 76,
     "metadata": {},
     "output_type": "execute_result"
    }
   ],
   "source": [
    "new_df = pd.DataFrame(columns=['make', 'model', 'price', 'fuel', 'year', 'kms', 'power', 'doors', 'shift', 'is_professional'])\n",
    "\n",
    "new_inputs = [[\"CUPRA\", \"Formentor\", 30500, \"Diésel\", 2020, 2000, 150, 5, \"Manual\", True],\n",
    "              [\"FERRARI\", \"355\", 99500.0, \"Gasolina\", 1996, 42000, 380, 2, \"Manual\", True],\n",
    "              [\"FERRARI\", \"355\", 99500.0, \"Gasolina\", 2004, 42000, 380, 2, \"Manual\", True], # Cambiamos solo el año\n",
    "              [\"SEAT\", \"Arona\", 19500.0, \"Diésel\", 2018, 21000, 125, 5, \"Manual\", True]]\n",
    "\n",
    "for i in range(0, 4):\n",
    "\n",
    "    new_df.loc[i] = new_inputs[i]\n",
    "\n",
    "new_df_init = new_df.copy()\n",
    "\n",
    "new_df"
   ]
  },
  {
   "cell_type": "code",
   "execution_count": 77,
   "metadata": {},
   "outputs": [],
   "source": [
    "new_df[\"make\"] = encoder_make.transform(new_df[\"make\"])\n",
    "new_df[\"model\"] = encoder_model.transform(new_df[\"model\"])\n",
    "\n",
    "new_df[\"price\"] = new_df[\"price\"].astype(\"float\")\n",
    "new_df[\"year\"] = new_df[\"year\"].astype(\"float\")\n",
    "new_df[\"kms\"] = new_df[\"kms\"].astype(\"float\")\n",
    "new_df[\"power\"] = new_df[\"power\"].astype(\"float\")\n",
    "\n",
    "\n",
    "fuel_types = {\"Diésel\" : 0,\n",
    "        \"Gasolina\" : 1,\n",
    "        \"Híbrido\" : 2,\n",
    "        \"Eléctrico\" : 3,\n",
    "        \"Híbrido enchufable\" : 4, \n",
    "        \"Gas licuado (GLP)\" : 5,\n",
    "        \"Gas natural (CNG)\" : 6}\n",
    "                    \n",
    "new_df[\"fuel\"] = new_df[\"fuel\"].map(fuel_types)\n",
    "\n",
    "num_puertas = {5: 5,\n",
    "        4 : 5,\n",
    "        3 : 3,\n",
    "        2 : 3}\n",
    "\n",
    "new_df[\"doors\"] = new_df[\"doors\"].map(num_puertas)\n",
    "\n",
    "new_df[\"shift\"] = new_df[\"shift\"].apply(lambda x: 0 if x == \"Manual\" else 1)\n",
    "\n",
    "new_df[\"is_professional\"] = new_df[\"is_professional\"].apply(lambda x: 1 if x == True else 0)"
   ]
  },
  {
   "cell_type": "code",
   "execution_count": 78,
   "metadata": {},
   "outputs": [
    {
     "data": {
      "text/plain": [
       "array([ 23506., 102299.,  73734.,  20850.], dtype=float32)"
      ]
     },
     "execution_count": 78,
     "metadata": {},
     "output_type": "execute_result"
    }
   ],
   "source": [
    "new_df[\"price\"] = np.log(new_df[\"price\"])\n",
    "\n",
    "X_new = new_df.drop(\"price\", axis=1)\n",
    "y_new = new_df[\"price\"]\n",
    "\n",
    "X_new = scaler.transform(X_new)\n",
    "\n",
    "predictions = loaded_model.predict(X_new)\n",
    "\n",
    "y_prueba = destransformar_y(predictions).round(0)\n",
    "\n",
    "y_prueba"
   ]
  },
  {
   "cell_type": "code",
   "execution_count": 79,
   "metadata": {},
   "outputs": [
    {
     "data": {
      "text/plain": [
       "array([ 23506., 102299.,  73734.,  20850.], dtype=float32)"
      ]
     },
     "execution_count": 79,
     "metadata": {},
     "output_type": "execute_result"
    }
   ],
   "source": [
    "y_prueba"
   ]
  },
  {
   "cell_type": "code",
   "execution_count": 80,
   "metadata": {},
   "outputs": [
    {
     "data": {
      "text/html": [
       "<div>\n",
       "<style scoped>\n",
       "    .dataframe tbody tr th:only-of-type {\n",
       "        vertical-align: middle;\n",
       "    }\n",
       "\n",
       "    .dataframe tbody tr th {\n",
       "        vertical-align: top;\n",
       "    }\n",
       "\n",
       "    .dataframe thead th {\n",
       "        text-align: right;\n",
       "    }\n",
       "</style>\n",
       "<table border=\"1\" class=\"dataframe\">\n",
       "  <thead>\n",
       "    <tr style=\"text-align: right;\">\n",
       "      <th></th>\n",
       "      <th>make</th>\n",
       "      <th>model</th>\n",
       "      <th>price</th>\n",
       "      <th>predicted_price</th>\n",
       "      <th>fuel</th>\n",
       "      <th>year</th>\n",
       "      <th>kms</th>\n",
       "      <th>power</th>\n",
       "      <th>doors</th>\n",
       "      <th>shift</th>\n",
       "      <th>is_professional</th>\n",
       "    </tr>\n",
       "  </thead>\n",
       "  <tbody>\n",
       "    <tr>\n",
       "      <th>0</th>\n",
       "      <td>CUPRA</td>\n",
       "      <td>Formentor</td>\n",
       "      <td>30500.0</td>\n",
       "      <td>23506.0</td>\n",
       "      <td>Diésel</td>\n",
       "      <td>2020</td>\n",
       "      <td>2000</td>\n",
       "      <td>150</td>\n",
       "      <td>5</td>\n",
       "      <td>Manual</td>\n",
       "      <td>True</td>\n",
       "    </tr>\n",
       "    <tr>\n",
       "      <th>1</th>\n",
       "      <td>FERRARI</td>\n",
       "      <td>355</td>\n",
       "      <td>99500.0</td>\n",
       "      <td>102299.0</td>\n",
       "      <td>Gasolina</td>\n",
       "      <td>1996</td>\n",
       "      <td>42000</td>\n",
       "      <td>380</td>\n",
       "      <td>2</td>\n",
       "      <td>Manual</td>\n",
       "      <td>True</td>\n",
       "    </tr>\n",
       "    <tr>\n",
       "      <th>2</th>\n",
       "      <td>FERRARI</td>\n",
       "      <td>355</td>\n",
       "      <td>99500.0</td>\n",
       "      <td>73734.0</td>\n",
       "      <td>Gasolina</td>\n",
       "      <td>2004</td>\n",
       "      <td>42000</td>\n",
       "      <td>380</td>\n",
       "      <td>2</td>\n",
       "      <td>Manual</td>\n",
       "      <td>True</td>\n",
       "    </tr>\n",
       "    <tr>\n",
       "      <th>3</th>\n",
       "      <td>SEAT</td>\n",
       "      <td>Arona</td>\n",
       "      <td>19500.0</td>\n",
       "      <td>20850.0</td>\n",
       "      <td>Diésel</td>\n",
       "      <td>2018</td>\n",
       "      <td>21000</td>\n",
       "      <td>125</td>\n",
       "      <td>5</td>\n",
       "      <td>Manual</td>\n",
       "      <td>True</td>\n",
       "    </tr>\n",
       "  </tbody>\n",
       "</table>\n",
       "</div>"
      ],
      "text/plain": [
       "      make      model    price  predicted_price      fuel  year    kms  power  \\\n",
       "0    CUPRA  Formentor  30500.0          23506.0    Diésel  2020   2000    150   \n",
       "1  FERRARI        355  99500.0         102299.0  Gasolina  1996  42000    380   \n",
       "2  FERRARI        355  99500.0          73734.0  Gasolina  2004  42000    380   \n",
       "3     SEAT      Arona  19500.0          20850.0    Diésel  2018  21000    125   \n",
       "\n",
       "   doors   shift  is_professional  \n",
       "0      5  Manual             True  \n",
       "1      2  Manual             True  \n",
       "2      2  Manual             True  \n",
       "3      5  Manual             True  "
      ]
     },
     "execution_count": 80,
     "metadata": {},
     "output_type": "execute_result"
    }
   ],
   "source": [
    "new_df_init.insert(3, \"predicted_price\", y_prueba)\n",
    "new_df_init"
   ]
  },
  {
   "cell_type": "markdown",
   "metadata": {},
   "source": [
    "Vemos cómo los precios predichos por el modelo para el SEAT y el FERRARI de 1996 son buenos. Sin embargo, para el CUPRA y para el FERRARI de 2004 empeoran un poco. Esto se debe a los pocos coches de esas marcas que existen en el Dataset original, ya que esas marcas más caras no las predice tan bien, al no darle tanta importancia a la marca."
   ]
  },
  {
   "cell_type": "markdown",
   "metadata": {},
   "source": [
    "Probamos a quitar las marcas con menos de 100 coches en el Dataset original:"
   ]
  },
  {
   "cell_type": "code",
   "execution_count": 81,
   "metadata": {},
   "outputs": [
    {
     "data": {
      "text/plain": [
       "make\n",
       "70    3690\n",
       "7     3646\n",
       "45    3597\n",
       "4     3133\n",
       "52    2669\n",
       "23    2512\n",
       "56    2441\n",
       "51    2316\n",
       "11    2243\n",
       "60    1935\n",
       "50    1440\n",
       "68    1383\n",
       "22    1215\n",
       "34    1024\n",
       "27    1019\n",
       "71     722\n",
       "47     718\n",
       "37     557\n",
       "61     505\n",
       "55     500\n",
       "44     435\n",
       "25     376\n",
       "32     309\n",
       "48     290\n",
       "33     276\n",
       "39     271\n",
       "14     256\n",
       "1      241\n",
       "65     213\n",
       "63     182\n",
       "62     164\n",
       "9      159\n",
       "20     125\n",
       "Name: count, dtype: int64"
      ]
     },
     "execution_count": 81,
     "metadata": {},
     "output_type": "execute_result"
    }
   ],
   "source": [
    "counts = df['make'].value_counts()\n",
    "\n",
    "# Filtramos el DataFrame original para quedarnos solo con las filas donde la cuenta de cada valor sea mayor a 100:\n",
    "\n",
    "df_filtrado = df[df['make'].isin(counts.index[counts > 100])]\n",
    "df_filtrado[\"make\"].value_counts(ascending=False)\n"
   ]
  },
  {
   "cell_type": "code",
   "execution_count": 82,
   "metadata": {},
   "outputs": [
    {
     "data": {
      "text/plain": [
       "0         8.732305\n",
       "1         8.968396\n",
       "2         9.874368\n",
       "3        10.036706\n",
       "4         9.349232\n",
       "           ...    \n",
       "41349     9.824985\n",
       "41350     9.581904\n",
       "41351     9.305651\n",
       "41352    10.776871\n",
       "41353     7.933797\n",
       "Name: price, Length: 40562, dtype: float64"
      ]
     },
     "execution_count": 82,
     "metadata": {},
     "output_type": "execute_result"
    }
   ],
   "source": [
    "# Comprobamos que el target está transformado\n",
    "\n",
    "df_filtrado[\"price\"]"
   ]
  },
  {
   "cell_type": "markdown",
   "metadata": {},
   "source": [
    "Pasamos de 41354 a 40562 filas."
   ]
  },
  {
   "cell_type": "code",
   "execution_count": 83,
   "metadata": {},
   "outputs": [],
   "source": [
    "X = df_filtrado.drop(\"price\", axis=1)\n",
    "y = df_filtrado[\"price\"]"
   ]
  },
  {
   "cell_type": "code",
   "execution_count": 84,
   "metadata": {},
   "outputs": [
    {
     "name": "stdout",
     "output_type": "stream",
     "text": [
      "(32449, 9)\n",
      "(8113, 9)\n",
      "(32449,)\n",
      "(8113,)\n"
     ]
    }
   ],
   "source": [
    "from sklearn.model_selection import train_test_split\n",
    "\n",
    "X_train, X_test, y_train, y_test = train_test_split(X, y, test_size=0.2, random_state=42)\n",
    "\n",
    "print(X_train.shape)\n",
    "print(X_test.shape)\n",
    "print(y_train.shape)\n",
    "print(y_test.shape)"
   ]
  },
  {
   "cell_type": "code",
   "execution_count": 85,
   "metadata": {},
   "outputs": [],
   "source": [
    "from sklearn.preprocessing import MinMaxScaler\n",
    "\n",
    "new_scaler = MinMaxScaler()\n",
    "\n",
    "new_scaler.fit(X_train)\n",
    "\n",
    "# Guardamos el Scaler\n",
    "\n",
    "# with open('../utils/new_scaler.pkl', 'wb') as archivo_salida4:\n",
    "#     pickle.dump(new_scaler, archivo_salida4)\n",
    "\n",
    "X_train = new_scaler.transform(X_train)\n",
    "X_test = new_scaler.transform(X_test)"
   ]
  },
  {
   "cell_type": "markdown",
   "metadata": {},
   "source": [
    "Mismo modelo que antes:"
   ]
  },
  {
   "cell_type": "code",
   "execution_count": 86,
   "metadata": {},
   "outputs": [
    {
     "name": "stdout",
     "output_type": "stream",
     "text": [
      "MSE: 0.04433694563891662\n",
      "RMSE: 0.2105634005208802\n",
      "MAE: 0.13824801548083696\n",
      "MAPE: 0.015374987968150922\n",
      "r2 score: 0.9368160519141184\n"
     ]
    }
   ],
   "source": [
    "xgb_model_new = xgboost.XGBRegressor()\n",
    "\n",
    "xgb_model_new.fit(X_train, y_train)\n",
    "\n",
    "y_pred_new = xgb_model_new.predict(X_test)\n",
    "\n",
    "print(f\"MSE: {metrics.mean_squared_error(y_test, y_pred_new)}\")\n",
    "print(f\"RMSE: {np.sqrt(metrics.mean_squared_error(y_test, y_pred_new))}\")\n",
    "print(f\"MAE: {metrics.mean_absolute_error(y_test, y_pred_new)}\")\n",
    "print(f\"MAPE: {metrics.mean_absolute_percentage_error(y_test, y_pred_new)}\")\n",
    "\n",
    "print(f\"r2 score: {metrics.r2_score(y_test, y_pred_new)}\")"
   ]
  },
  {
   "cell_type": "markdown",
   "metadata": {},
   "source": [
    "Métricas del mejor modelo antes de quitar las marcas con menos de 100 coches:\n",
    "\n",
    "- MSE: 18272700.17\n",
    "- RMSE: 4274.65\n",
    "- MAE: 2058.26\n",
    "- MAPE: 0.1478\n",
    "- r2 score: 0.9325"
   ]
  },
  {
   "cell_type": "markdown",
   "metadata": {},
   "source": [
    "Métricas del mismo modelo después de quitar las marcas con menos de 100 coches:"
   ]
  },
  {
   "cell_type": "code",
   "execution_count": 87,
   "metadata": {},
   "outputs": [
    {
     "name": "stdout",
     "output_type": "stream",
     "text": [
      "MSE: 18061782.963889908\n",
      "RMSE: 4249.915641973368\n",
      "MAE: 1986.9871555489647\n",
      "MAPE: 0.1440774474697274\n",
      "r2 score: 0.9224907034959373\n"
     ]
    }
   ],
   "source": [
    "y_pred_new = xgb_model_new.predict(X_test)\n",
    "\n",
    "# Deshacemos la transformación del target:\n",
    "\n",
    "y_test_final = np.exp(y_test)\n",
    "y_pred_final = np.exp(y_pred_new)\n",
    "\n",
    "print(f\"MSE: {metrics.mean_squared_error(y_test_final, y_pred_final)}\")\n",
    "print(f\"RMSE: {np.sqrt(metrics.mean_squared_error(y_test_final, y_pred_final))}\")\n",
    "print(f\"MAE: {metrics.mean_absolute_error(y_test_final, y_pred_final)}\")\n",
    "print(f\"MAPE: {metrics.mean_absolute_percentage_error(y_test_final, y_pred_final)}\")\n",
    "\n",
    "print(f\"r2 score: {metrics.r2_score(y_test_final, y_pred_final)}\")"
   ]
  },
  {
   "cell_type": "markdown",
   "metadata": {},
   "source": [
    "Vemos que todas las métricas excepto el r2 score mejoran, por lo que sería interesante utilizar este último modelo para predecir el precio de los vehículos. En la Web App vamos a dejar el modelo previo, para poder visualizar estas marcas de coches que predice algo peor."
   ]
  },
  {
   "cell_type": "code",
   "execution_count": 88,
   "metadata": {},
   "outputs": [],
   "source": [
    "# Guardamos este nuevo modelo final:\n",
    "\n",
    "with open(\"../model/new_modelo_final.pkl\", 'wb') as archivo_salida:\n",
    "    pickle.dump(xgb_model_new, archivo_salida)"
   ]
  }
 ],
 "metadata": {
  "kernelspec": {
   "display_name": "eda_env",
   "language": "python",
   "name": "python3"
  },
  "language_info": {
   "codemirror_mode": {
    "name": "ipython",
    "version": 3
   },
   "file_extension": ".py",
   "mimetype": "text/x-python",
   "name": "python",
   "nbconvert_exporter": "python",
   "pygments_lexer": "ipython3",
   "version": "3.9.18"
  }
 },
 "nbformat": 4,
 "nbformat_minor": 2
}

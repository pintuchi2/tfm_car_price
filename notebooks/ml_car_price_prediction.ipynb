{
 "cells": [
  {
   "cell_type": "markdown",
   "metadata": {},
   "source": [
    "# Proyecto ML: Modelo predictivo de precios de coche."
   ]
  },
  {
   "cell_type": "markdown",
   "metadata": {},
   "source": [
    "## 1. Introducción."
   ]
  },
  {
   "cell_type": "markdown",
   "metadata": {},
   "source": [
    "En este cuaderno buscaremos elaborar un modelo predictivo utilizando Machine Learning para saber una estimación del precio de un determinado vehículo de segunda mano y poder optimizar la compraventa de coches.\n",
    "\n",
    "Por esto, el objetivo es tener una plataforma web donde poder saber el precio de un determinado vehículo de segunda mano, en base al precio de otros coches registrados en nuestra base de datos. Para ello, se utilizan los registros guardados en la tabla TX_VEHICULOS_SEG_MANO de nuestra BBDD de sqlite, con cerca de 35.000 registros de vehículos de 10 marcas diferentes importadas desde un Dataset de Kaggle hecho a partir de WebScraping, a los que hemos añadido X vehículos scrapeados mediante el script guardado en la ruta ```\"dags/webscraping_script.py\"``` de la página de [coches.net](coches.net).\n",
    "\n",
    "Los registros obtenidos mediante ambos orígenes de datos han sido posibles de combinar mediante las transformaciones realizadas en el cuaderno ```\"notebooks/kaggle_dataset_cleaning.ipynb\"```, aunque antes de entrenar el modelo predictivo será necesario realizar algunas transformaciones adicionales, así como seleccionar las features del modelo.\n",
    "\n",
    "En este proyecto, se utilizarán modelos de Machine Learning para calcular el precio de un coche a partir de características como la marca, modelo, tipo de combustible, año, etc. Se trata, por tanto, de un problema de regresión. Se utilizará como métrica de optimización el Mean Squared Error (MSE), aunque también se analizarán otras métricas como el Mean Average Error (MAE)."
   ]
  },
  {
   "cell_type": "markdown",
   "metadata": {},
   "source": [
    "## 2. Obtención y procesado de datos."
   ]
  },
  {
   "cell_type": "markdown",
   "metadata": {},
   "source": [
    "Importamos los datos desde nuestra base de datos:"
   ]
  },
  {
   "cell_type": "code",
   "execution_count": 2,
   "metadata": {},
   "outputs": [],
   "source": [
    "# Importamos las librerías necesarias\n",
    "\n",
    "import pandas as pd\n",
    "import numpy as np\n",
    "import matplotlib.pyplot as plt\n",
    "import seaborn as sns\n",
    "import pickle\n",
    "\n",
    "\n",
    "sns.set_style(\"darkgrid\")\n",
    "\n",
    "\n",
    "colors = [\"#d5001c\", \"#f59908\", \"#ffcb01\", \"#969696\"]"
   ]
  },
  {
   "cell_type": "code",
   "execution_count": 3,
   "metadata": {},
   "outputs": [
    {
     "data": {
      "text/html": [
       "<div>\n",
       "<style scoped>\n",
       "    .dataframe tbody tr th:only-of-type {\n",
       "        vertical-align: middle;\n",
       "    }\n",
       "\n",
       "    .dataframe tbody tr th {\n",
       "        vertical-align: top;\n",
       "    }\n",
       "\n",
       "    .dataframe thead th {\n",
       "        text-align: right;\n",
       "    }\n",
       "</style>\n",
       "<table border=\"1\" class=\"dataframe\">\n",
       "  <thead>\n",
       "    <tr style=\"text-align: right;\">\n",
       "      <th></th>\n",
       "      <th>pk_anuncio_id</th>\n",
       "      <th>marca</th>\n",
       "      <th>modelo</th>\n",
       "      <th>precio</th>\n",
       "      <th>combustible</th>\n",
       "      <th>anyo_vehiculo</th>\n",
       "      <th>kilometraje</th>\n",
       "      <th>potencia</th>\n",
       "      <th>num_puertas</th>\n",
       "      <th>num_plazas</th>\n",
       "      <th>...</th>\n",
       "      <th>tipo_vehiculo</th>\n",
       "      <th>cilindrada_motor</th>\n",
       "      <th>color</th>\n",
       "      <th>provincia</th>\n",
       "      <th>etiqueta_eco</th>\n",
       "      <th>origen_anuncio</th>\n",
       "      <th>fecha_publicacion</th>\n",
       "      <th>anyomes_publicacion</th>\n",
       "      <th>fecha_carga</th>\n",
       "      <th>url</th>\n",
       "    </tr>\n",
       "  </thead>\n",
       "  <tbody>\n",
       "    <tr>\n",
       "      <th>0</th>\n",
       "      <td>60498281</td>\n",
       "      <td>BMW</td>\n",
       "      <td>x3</td>\n",
       "      <td>37900.0</td>\n",
       "      <td>Híbrido</td>\n",
       "      <td>2021.0</td>\n",
       "      <td>33200</td>\n",
       "      <td>190.0</td>\n",
       "      <td>5.0</td>\n",
       "      <td>5.0</td>\n",
       "      <td>...</td>\n",
       "      <td>SUV</td>\n",
       "      <td>1995.0</td>\n",
       "      <td>gris</td>\n",
       "      <td>Madrid</td>\n",
       "      <td>ECO (azul/verde)</td>\n",
       "      <td>WebScraping</td>\n",
       "      <td>2025-05-07</td>\n",
       "      <td>202505.0</td>\n",
       "      <td>2025-05-18 14:21:01</td>\n",
       "      <td>https://www.coches.net/bmw-x3-xdrive20d-xline-...</td>\n",
       "    </tr>\n",
       "    <tr>\n",
       "      <th>1</th>\n",
       "      <td>59710104</td>\n",
       "      <td>PEUGEOT</td>\n",
       "      <td>308</td>\n",
       "      <td>9000.0</td>\n",
       "      <td>Gasolina</td>\n",
       "      <td>2016.0</td>\n",
       "      <td>127300</td>\n",
       "      <td>110.0</td>\n",
       "      <td>5.0</td>\n",
       "      <td>5.0</td>\n",
       "      <td>...</td>\n",
       "      <td>Berlina</td>\n",
       "      <td>1199.0</td>\n",
       "      <td>blanco</td>\n",
       "      <td>Asturias</td>\n",
       "      <td>None</td>\n",
       "      <td>WebScraping</td>\n",
       "      <td>2025-01-25</td>\n",
       "      <td>202501.0</td>\n",
       "      <td>2025-05-18 11:18:51</td>\n",
       "      <td>https://www.coches.net/peugeot-308-5p-allure-1...</td>\n",
       "    </tr>\n",
       "    <tr>\n",
       "      <th>2</th>\n",
       "      <td>60479478</td>\n",
       "      <td>RENAULT</td>\n",
       "      <td>clio</td>\n",
       "      <td>11990.0</td>\n",
       "      <td>Diésel</td>\n",
       "      <td>2022.0</td>\n",
       "      <td>123000</td>\n",
       "      <td>100.0</td>\n",
       "      <td>5.0</td>\n",
       "      <td>5.0</td>\n",
       "      <td>...</td>\n",
       "      <td>Berlina</td>\n",
       "      <td>1461.0</td>\n",
       "      <td>blanco</td>\n",
       "      <td>Málaga</td>\n",
       "      <td>None</td>\n",
       "      <td>WebScraping</td>\n",
       "      <td>2025-05-18</td>\n",
       "      <td>202505.0</td>\n",
       "      <td>2025-05-18 10:06:26</td>\n",
       "      <td>https://www.coches.net/renault-clio-equilibre-...</td>\n",
       "    </tr>\n",
       "    <tr>\n",
       "      <th>3</th>\n",
       "      <td>60374025</td>\n",
       "      <td>CITROEN</td>\n",
       "      <td>c3</td>\n",
       "      <td>16500.0</td>\n",
       "      <td>Gasolina</td>\n",
       "      <td>2022.0</td>\n",
       "      <td>18150</td>\n",
       "      <td>83.0</td>\n",
       "      <td>5.0</td>\n",
       "      <td>5.0</td>\n",
       "      <td>...</td>\n",
       "      <td>Berlina</td>\n",
       "      <td>1199.0</td>\n",
       "      <td>blanco</td>\n",
       "      <td>Madrid</td>\n",
       "      <td>None</td>\n",
       "      <td>WebScraping</td>\n",
       "      <td>2025-04-19</td>\n",
       "      <td>202504.0</td>\n",
       "      <td>2025-05-18 10:05:00</td>\n",
       "      <td>https://www.coches.net/citroen-c3-puretech-60k...</td>\n",
       "    </tr>\n",
       "    <tr>\n",
       "      <th>4</th>\n",
       "      <td>60576644</td>\n",
       "      <td>VOLKSWAGEN</td>\n",
       "      <td>california</td>\n",
       "      <td>67900.0</td>\n",
       "      <td>Diesel</td>\n",
       "      <td>2023.0</td>\n",
       "      <td>12000</td>\n",
       "      <td>150.0</td>\n",
       "      <td>4.0</td>\n",
       "      <td>4.0</td>\n",
       "      <td>...</td>\n",
       "      <td>Monovolumen</td>\n",
       "      <td>1968.0</td>\n",
       "      <td>Blanco</td>\n",
       "      <td>Las Palmas</td>\n",
       "      <td>None</td>\n",
       "      <td>WebScraping</td>\n",
       "      <td>2025-05-18</td>\n",
       "      <td>202505.0</td>\n",
       "      <td>2025-05-18 07:24:21</td>\n",
       "      <td>https://www.coches.net/volkswagen-california-o...</td>\n",
       "    </tr>\n",
       "  </tbody>\n",
       "</table>\n",
       "<p>5 rows × 21 columns</p>\n",
       "</div>"
      ],
      "text/plain": [
       "   pk_anuncio_id       marca      modelo   precio combustible  anyo_vehiculo  \\\n",
       "0       60498281         BMW          x3  37900.0     Híbrido         2021.0   \n",
       "1       59710104     PEUGEOT         308   9000.0    Gasolina         2016.0   \n",
       "2       60479478     RENAULT        clio  11990.0      Diésel         2022.0   \n",
       "3       60374025     CITROEN          c3  16500.0    Gasolina         2022.0   \n",
       "4       60576644  VOLKSWAGEN  california  67900.0      Diesel         2023.0   \n",
       "\n",
       "   kilometraje  potencia  num_puertas  num_plazas  ... tipo_vehiculo  \\\n",
       "0        33200     190.0          5.0         5.0  ...           SUV   \n",
       "1       127300     110.0          5.0         5.0  ...       Berlina   \n",
       "2       123000     100.0          5.0         5.0  ...       Berlina   \n",
       "3        18150      83.0          5.0         5.0  ...       Berlina   \n",
       "4        12000     150.0          4.0         4.0  ...   Monovolumen   \n",
       "\n",
       "  cilindrada_motor   color   provincia      etiqueta_eco origen_anuncio  \\\n",
       "0           1995.0    gris      Madrid  ECO (azul/verde)    WebScraping   \n",
       "1           1199.0  blanco    Asturias              None    WebScraping   \n",
       "2           1461.0  blanco      Málaga              None    WebScraping   \n",
       "3           1199.0  blanco      Madrid              None    WebScraping   \n",
       "4           1968.0  Blanco  Las Palmas              None    WebScraping   \n",
       "\n",
       "  fecha_publicacion anyomes_publicacion          fecha_carga  \\\n",
       "0        2025-05-07            202505.0  2025-05-18 14:21:01   \n",
       "1        2025-01-25            202501.0  2025-05-18 11:18:51   \n",
       "2        2025-05-18            202505.0  2025-05-18 10:06:26   \n",
       "3        2025-04-19            202504.0  2025-05-18 10:05:00   \n",
       "4        2025-05-18            202505.0  2025-05-18 07:24:21   \n",
       "\n",
       "                                                 url  \n",
       "0  https://www.coches.net/bmw-x3-xdrive20d-xline-...  \n",
       "1  https://www.coches.net/peugeot-308-5p-allure-1...  \n",
       "2  https://www.coches.net/renault-clio-equilibre-...  \n",
       "3  https://www.coches.net/citroen-c3-puretech-60k...  \n",
       "4  https://www.coches.net/volkswagen-california-o...  \n",
       "\n",
       "[5 rows x 21 columns]"
      ]
     },
     "execution_count": 3,
     "metadata": {},
     "output_type": "execute_result"
    }
   ],
   "source": [
    "import sqlite3\n",
    "\n",
    "con = sqlite3.connect(\"../include/db_vehiculos.db\")\n",
    "\n",
    "query = \"\"\"\n",
    "SELECT *\n",
    "FROM TX_VEHICULOS_SEG_MANO\n",
    "--where\n",
    "    --origen_anuncio = 'WebScraping'\n",
    "    --origen_anuncio = 'dataset kaggle'\n",
    "    --and marca not in ('BMW', 'VOLKSWAGEN', 'MERCEDES-BENZ', 'AUDI', 'PEUGEOT', 'FORD', 'RENAULT', 'OPEL', 'CITROEN', 'SEAT')\n",
    "order by\n",
    "    fecha_carga desc\n",
    ";\n",
    "\"\"\"\n",
    "\n",
    "df = pd.read_sql_query(query, con)\n",
    "\n",
    "df.head()"
   ]
  },
  {
   "cell_type": "markdown",
   "metadata": {},
   "source": [
    "Podemos ver el número de registros para cada origen de datos:"
   ]
  },
  {
   "cell_type": "code",
   "execution_count": 4,
   "metadata": {},
   "outputs": [
    {
     "data": {
      "text/plain": [
       "origen_anuncio\n",
       "dataset kaggle    35041\n",
       "WebScraping        1566\n",
       "Name: count, dtype: int64"
      ]
     },
     "execution_count": 4,
     "metadata": {},
     "output_type": "execute_result"
    }
   ],
   "source": [
    "df['origen_anuncio'].value_counts()"
   ]
  },
  {
   "cell_type": "markdown",
   "metadata": {},
   "source": [
    "Vemos que la gran mayoría de registros provienen del dataset de kaggle.\n",
    "\n",
    "Vamos a ver qué columnas contiene el DataFrame:"
   ]
  },
  {
   "cell_type": "code",
   "execution_count": 5,
   "metadata": {},
   "outputs": [
    {
     "name": "stdout",
     "output_type": "stream",
     "text": [
      "<class 'pandas.core.frame.DataFrame'>\n",
      "RangeIndex: 36607 entries, 0 to 36606\n",
      "Data columns (total 21 columns):\n",
      " #   Column               Non-Null Count  Dtype  \n",
      "---  ------               --------------  -----  \n",
      " 0   pk_anuncio_id        36607 non-null  int64  \n",
      " 1   marca                36607 non-null  object \n",
      " 2   modelo               36607 non-null  object \n",
      " 3   precio               36607 non-null  float64\n",
      " 4   combustible          36545 non-null  object \n",
      " 5   anyo_vehiculo        36606 non-null  float64\n",
      " 6   kilometraje          36607 non-null  int64  \n",
      " 7   potencia             29814 non-null  float64\n",
      " 8   num_puertas          36595 non-null  float64\n",
      " 9   num_plazas           1550 non-null   float64\n",
      " 10  tipo_cambio          36527 non-null  object \n",
      " 11  tipo_vehiculo        1566 non-null   object \n",
      " 12  cilindrada_motor     1534 non-null   float64\n",
      " 13  color                36128 non-null  object \n",
      " 14  provincia            36603 non-null  object \n",
      " 15  etiqueta_eco         1121 non-null   object \n",
      " 16  origen_anuncio       36607 non-null  object \n",
      " 17  fecha_publicacion    36600 non-null  object \n",
      " 18  anyomes_publicacion  36600 non-null  float64\n",
      " 19  fecha_carga          36607 non-null  object \n",
      " 20  url                  36607 non-null  object \n",
      "dtypes: float64(7), int64(2), object(12)\n",
      "memory usage: 5.9+ MB\n"
     ]
    }
   ],
   "source": [
    "df.info()"
   ]
  },
  {
   "cell_type": "markdown",
   "metadata": {},
   "source": [
    "Vemos que el DataFrame se compone de 21 columnas, de las cuales, muchas de ellas son de tipo string. Además, contienen valores nulos, por lo que, a continuación, haremos un procesado de estas columnas.\n",
    "\n",
    "La columna target u objetivo a predecir es la columna llamada ```\"price\"```."
   ]
  },
  {
   "cell_type": "markdown",
   "metadata": {},
   "source": [
    "Lo primero que haremos es eliminar las columnas ```['num_plazas', 'tipo_vehiculo', 'cilindrada_motor', 'etiqueta_eco']```, ya que solo tienen valores no nulos para los registros obtenidos mediante WebScraping."
   ]
  },
  {
   "cell_type": "code",
   "execution_count": 6,
   "metadata": {},
   "outputs": [
    {
     "name": "stdout",
     "output_type": "stream",
     "text": [
      "<class 'pandas.core.frame.DataFrame'>\n",
      "RangeIndex: 36607 entries, 0 to 36606\n",
      "Data columns (total 17 columns):\n",
      " #   Column               Non-Null Count  Dtype  \n",
      "---  ------               --------------  -----  \n",
      " 0   pk_anuncio_id        36607 non-null  int64  \n",
      " 1   marca                36607 non-null  object \n",
      " 2   modelo               36607 non-null  object \n",
      " 3   precio               36607 non-null  float64\n",
      " 4   combustible          36545 non-null  object \n",
      " 5   anyo_vehiculo        36606 non-null  float64\n",
      " 6   kilometraje          36607 non-null  int64  \n",
      " 7   potencia             29814 non-null  float64\n",
      " 8   num_puertas          36595 non-null  float64\n",
      " 9   tipo_cambio          36527 non-null  object \n",
      " 10  color                36128 non-null  object \n",
      " 11  provincia            36603 non-null  object \n",
      " 12  origen_anuncio       36607 non-null  object \n",
      " 13  fecha_publicacion    36600 non-null  object \n",
      " 14  anyomes_publicacion  36600 non-null  float64\n",
      " 15  fecha_carga          36607 non-null  object \n",
      " 16  url                  36607 non-null  object \n",
      "dtypes: float64(5), int64(2), object(10)\n",
      "memory usage: 4.7+ MB\n"
     ]
    }
   ],
   "source": [
    "df = df.drop(columns=['num_plazas', 'tipo_vehiculo', 'cilindrada_motor', 'etiqueta_eco'])\n",
    "df.info()"
   ]
  },
  {
   "cell_type": "markdown",
   "metadata": {},
   "source": [
    "Vamos a eliminar también las columnas: ```['pk_anuncio_id', 'provincia', 'fecha_publicacion', 'anyomes_publicacion','fecha_carga', 'url']```, ya que tampoco aportan información para el modelo.\n",
    "\n",
    "De momento dejamos la columna ```'origen_anuncio'``` por si hay que distinguir en alguna transformación entre los datos de ambos orígenes."
   ]
  },
  {
   "cell_type": "code",
   "execution_count": 7,
   "metadata": {},
   "outputs": [
    {
     "name": "stdout",
     "output_type": "stream",
     "text": [
      "<class 'pandas.core.frame.DataFrame'>\n",
      "RangeIndex: 36607 entries, 0 to 36606\n",
      "Data columns (total 11 columns):\n",
      " #   Column          Non-Null Count  Dtype  \n",
      "---  ------          --------------  -----  \n",
      " 0   marca           36607 non-null  object \n",
      " 1   modelo          36607 non-null  object \n",
      " 2   precio          36607 non-null  float64\n",
      " 3   combustible     36545 non-null  object \n",
      " 4   anyo_vehiculo   36606 non-null  float64\n",
      " 5   kilometraje     36607 non-null  int64  \n",
      " 6   potencia        29814 non-null  float64\n",
      " 7   num_puertas     36595 non-null  float64\n",
      " 8   tipo_cambio     36527 non-null  object \n",
      " 9   color           36128 non-null  object \n",
      " 10  origen_anuncio  36607 non-null  object \n",
      "dtypes: float64(4), int64(1), object(6)\n",
      "memory usage: 3.1+ MB\n"
     ]
    }
   ],
   "source": [
    "df = df.drop(columns=['pk_anuncio_id', 'provincia', 'fecha_publicacion', 'anyomes_publicacion','fecha_carga', 'url'])\n",
    "\n",
    "df.info()"
   ]
  },
  {
   "cell_type": "markdown",
   "metadata": {},
   "source": [
    "Vamos a analizar los nulos de la columna ```'potencia'```, a ver si son debidos al tipo de combustible o simplemente falta en esos registros."
   ]
  },
  {
   "cell_type": "code",
   "execution_count": 8,
   "metadata": {},
   "outputs": [
    {
     "data": {
      "text/plain": [
       "combustible\n",
       "Diesel                   3\n",
       "Diésel                4883\n",
       "Eléctrico                0\n",
       "Gas licuado (GLP)        0\n",
       "Gas natural (CNG)        0\n",
       "Gasolina              1879\n",
       "Híbrido                  0\n",
       "Híbrido Enchufable       0\n",
       "Híbrido enchufable       0\n",
       "Name: potencia, dtype: int64"
      ]
     },
     "execution_count": 8,
     "metadata": {},
     "output_type": "execute_result"
    }
   ],
   "source": [
    "df.groupby(\"combustible\")[\"potencia\"].apply(lambda x: x.isnull().sum())"
   ]
  },
  {
   "cell_type": "markdown",
   "metadata": {},
   "source": [
    "Como parece que hay varios formatos de la columna combustible, vamos a mapearlos:"
   ]
  },
  {
   "cell_type": "code",
   "execution_count": 9,
   "metadata": {},
   "outputs": [],
   "source": [
    "\n",
    "mapa_combustible = {\n",
    "    \"Diesel\": \"Diésel\",\n",
    "    \"Híbrido enchufable\": \"Híbrido Enchufable\",\n",
    "    \"Híbrido Enchufable\": \"Híbrido Enchufable\"\n",
    "}\n",
    "\n",
    "df[\"combustible\"] = df[\"combustible\"].replace(mapa_combustible)"
   ]
  },
  {
   "cell_type": "code",
   "execution_count": 10,
   "metadata": {},
   "outputs": [
    {
     "data": {
      "text/plain": [
       "combustible\n",
       "Diésel                24416\n",
       "Gasolina              11179\n",
       "Híbrido Enchufable      325\n",
       "Eléctrico               306\n",
       "Híbrido                 212\n",
       "Gas natural (CNG)        58\n",
       "Gas licuado (GLP)        49\n",
       "Name: count, dtype: int64"
      ]
     },
     "execution_count": 10,
     "metadata": {},
     "output_type": "execute_result"
    }
   ],
   "source": [
    "df[\"combustible\"].value_counts()"
   ]
  },
  {
   "cell_type": "code",
   "execution_count": 11,
   "metadata": {},
   "outputs": [
    {
     "data": {
      "text/plain": [
       "combustible\n",
       "Diésel      4886\n",
       "Gasolina    1879\n",
       "dtype: int64"
      ]
     },
     "execution_count": 11,
     "metadata": {},
     "output_type": "execute_result"
    }
   ],
   "source": [
    "df[df[\"potencia\"].isna()].groupby(\"combustible\").size()"
   ]
  },
  {
   "cell_type": "markdown",
   "metadata": {},
   "source": [
    "Observamos que todos los nulos son para vehículos de gasolina o diésel, por lo que vamos a eliminar estos registros del DataFrame, ya que tenemos una cantidad de datos abundante y puede ser un parámetro sensible en el modelo, por lo que tratar de rellenar esos NaN por alguna métrica como la media, puede afectar negativamente."
   ]
  },
  {
   "cell_type": "code",
   "execution_count": 12,
   "metadata": {},
   "outputs": [
    {
     "data": {
      "text/html": [
       "<div>\n",
       "<style scoped>\n",
       "    .dataframe tbody tr th:only-of-type {\n",
       "        vertical-align: middle;\n",
       "    }\n",
       "\n",
       "    .dataframe tbody tr th {\n",
       "        vertical-align: top;\n",
       "    }\n",
       "\n",
       "    .dataframe thead th {\n",
       "        text-align: right;\n",
       "    }\n",
       "</style>\n",
       "<table border=\"1\" class=\"dataframe\">\n",
       "  <thead>\n",
       "    <tr style=\"text-align: right;\">\n",
       "      <th></th>\n",
       "      <th>marca</th>\n",
       "      <th>modelo</th>\n",
       "      <th>precio</th>\n",
       "      <th>combustible</th>\n",
       "      <th>anyo_vehiculo</th>\n",
       "      <th>kilometraje</th>\n",
       "      <th>potencia</th>\n",
       "      <th>num_puertas</th>\n",
       "      <th>tipo_cambio</th>\n",
       "      <th>color</th>\n",
       "      <th>origen_anuncio</th>\n",
       "    </tr>\n",
       "  </thead>\n",
       "  <tbody>\n",
       "    <tr>\n",
       "      <th>0</th>\n",
       "      <td>BMW</td>\n",
       "      <td>x3</td>\n",
       "      <td>37900.0</td>\n",
       "      <td>Híbrido</td>\n",
       "      <td>2021.0</td>\n",
       "      <td>33200</td>\n",
       "      <td>190.0</td>\n",
       "      <td>5.0</td>\n",
       "      <td>Automático</td>\n",
       "      <td>gris</td>\n",
       "      <td>WebScraping</td>\n",
       "    </tr>\n",
       "    <tr>\n",
       "      <th>1</th>\n",
       "      <td>PEUGEOT</td>\n",
       "      <td>308</td>\n",
       "      <td>9000.0</td>\n",
       "      <td>Gasolina</td>\n",
       "      <td>2016.0</td>\n",
       "      <td>127300</td>\n",
       "      <td>110.0</td>\n",
       "      <td>5.0</td>\n",
       "      <td>Manual</td>\n",
       "      <td>blanco</td>\n",
       "      <td>WebScraping</td>\n",
       "    </tr>\n",
       "    <tr>\n",
       "      <th>2</th>\n",
       "      <td>RENAULT</td>\n",
       "      <td>clio</td>\n",
       "      <td>11990.0</td>\n",
       "      <td>Diésel</td>\n",
       "      <td>2022.0</td>\n",
       "      <td>123000</td>\n",
       "      <td>100.0</td>\n",
       "      <td>5.0</td>\n",
       "      <td>Manual</td>\n",
       "      <td>blanco</td>\n",
       "      <td>WebScraping</td>\n",
       "    </tr>\n",
       "    <tr>\n",
       "      <th>3</th>\n",
       "      <td>CITROEN</td>\n",
       "      <td>c3</td>\n",
       "      <td>16500.0</td>\n",
       "      <td>Gasolina</td>\n",
       "      <td>2022.0</td>\n",
       "      <td>18150</td>\n",
       "      <td>83.0</td>\n",
       "      <td>5.0</td>\n",
       "      <td>Manual</td>\n",
       "      <td>blanco</td>\n",
       "      <td>WebScraping</td>\n",
       "    </tr>\n",
       "    <tr>\n",
       "      <th>4</th>\n",
       "      <td>VOLKSWAGEN</td>\n",
       "      <td>california</td>\n",
       "      <td>67900.0</td>\n",
       "      <td>Diésel</td>\n",
       "      <td>2023.0</td>\n",
       "      <td>12000</td>\n",
       "      <td>150.0</td>\n",
       "      <td>4.0</td>\n",
       "      <td>Automático</td>\n",
       "      <td>Blanco</td>\n",
       "      <td>WebScraping</td>\n",
       "    </tr>\n",
       "  </tbody>\n",
       "</table>\n",
       "</div>"
      ],
      "text/plain": [
       "        marca      modelo   precio combustible  anyo_vehiculo  kilometraje  \\\n",
       "0         BMW          x3  37900.0     Híbrido         2021.0        33200   \n",
       "1     PEUGEOT         308   9000.0    Gasolina         2016.0       127300   \n",
       "2     RENAULT        clio  11990.0      Diésel         2022.0       123000   \n",
       "3     CITROEN          c3  16500.0    Gasolina         2022.0        18150   \n",
       "4  VOLKSWAGEN  california  67900.0      Diésel         2023.0        12000   \n",
       "\n",
       "   potencia  num_puertas tipo_cambio   color origen_anuncio  \n",
       "0     190.0          5.0  Automático    gris    WebScraping  \n",
       "1     110.0          5.0      Manual  blanco    WebScraping  \n",
       "2     100.0          5.0      Manual  blanco    WebScraping  \n",
       "3      83.0          5.0      Manual  blanco    WebScraping  \n",
       "4     150.0          4.0  Automático  Blanco    WebScraping  "
      ]
     },
     "execution_count": 12,
     "metadata": {},
     "output_type": "execute_result"
    }
   ],
   "source": [
    "df = df.drop(index=(df.loc[df.loc[:, \"potencia\"].isna() == True, :]).index)\n",
    "df.head()"
   ]
  },
  {
   "cell_type": "code",
   "execution_count": 13,
   "metadata": {},
   "outputs": [
    {
     "name": "stdout",
     "output_type": "stream",
     "text": [
      "<class 'pandas.core.frame.DataFrame'>\n",
      "Index: 29814 entries, 0 to 36606\n",
      "Data columns (total 11 columns):\n",
      " #   Column          Non-Null Count  Dtype  \n",
      "---  ------          --------------  -----  \n",
      " 0   marca           29814 non-null  object \n",
      " 1   modelo          29814 non-null  object \n",
      " 2   precio          29814 non-null  float64\n",
      " 3   combustible     29780 non-null  object \n",
      " 4   anyo_vehiculo   29813 non-null  float64\n",
      " 5   kilometraje     29814 non-null  int64  \n",
      " 6   potencia        29814 non-null  float64\n",
      " 7   num_puertas     29814 non-null  float64\n",
      " 8   tipo_cambio     29734 non-null  object \n",
      " 9   color           29736 non-null  object \n",
      " 10  origen_anuncio  29814 non-null  object \n",
      "dtypes: float64(4), int64(1), object(6)\n",
      "memory usage: 2.7+ MB\n"
     ]
    }
   ],
   "source": [
    "df.info()"
   ]
  },
  {
   "cell_type": "markdown",
   "metadata": {},
   "source": [
    "Las columnas ```\"color\"``` y ```\"tipo_cambio\"``` siguen teniendo bastantes NaN."
   ]
  },
  {
   "cell_type": "code",
   "execution_count": 14,
   "metadata": {},
   "outputs": [
    {
     "data": {
      "text/plain": [
       "color\n",
       "blanco         7553\n",
       "gris           7107\n",
       "negro          5012\n",
       "azul           3480\n",
       "rojo           1690\n",
       "               ... \n",
       "h05               1\n",
       "c1n               1\n",
       "5j5j              1\n",
       "n6n6              1\n",
       "mineralgrau       1\n",
       "Name: count, Length: 323, dtype: int64"
      ]
     },
     "execution_count": 14,
     "metadata": {},
     "output_type": "execute_result"
    }
   ],
   "source": [
    "# pd.set_option(\"display.max_rows\", None)\n",
    "\n",
    "df[\"color\"].value_counts()"
   ]
  },
  {
   "cell_type": "markdown",
   "metadata": {},
   "source": [
    "Vamos a eliminar la columna color, ya que es una columna categórica con 323 valores únicos y algunos pueden estar en una codificación numérica y otros están mal guardados."
   ]
  },
  {
   "cell_type": "code",
   "execution_count": 15,
   "metadata": {},
   "outputs": [],
   "source": [
    "df = df.drop(columns=\"color\")"
   ]
  },
  {
   "cell_type": "code",
   "execution_count": 16,
   "metadata": {},
   "outputs": [
    {
     "data": {
      "text/plain": [
       "tipo_cambio\n",
       "Manual        19891\n",
       "Automático     9843\n",
       "None             80\n",
       "Name: count, dtype: int64"
      ]
     },
     "execution_count": 16,
     "metadata": {},
     "output_type": "execute_result"
    }
   ],
   "source": [
    "df[\"tipo_cambio\"].value_counts(dropna=False)"
   ]
  },
  {
   "cell_type": "markdown",
   "metadata": {},
   "source": [
    "Como en la columna ```\"tipo_cambio\"``` existen muchos coches manuales y automáticos, vamos a eliminar las filas con valores de ```\"tipo_cambio\"``` nulos (111)."
   ]
  },
  {
   "cell_type": "code",
   "execution_count": 17,
   "metadata": {},
   "outputs": [
    {
     "data": {
      "text/html": [
       "<div>\n",
       "<style scoped>\n",
       "    .dataframe tbody tr th:only-of-type {\n",
       "        vertical-align: middle;\n",
       "    }\n",
       "\n",
       "    .dataframe tbody tr th {\n",
       "        vertical-align: top;\n",
       "    }\n",
       "\n",
       "    .dataframe thead th {\n",
       "        text-align: right;\n",
       "    }\n",
       "</style>\n",
       "<table border=\"1\" class=\"dataframe\">\n",
       "  <thead>\n",
       "    <tr style=\"text-align: right;\">\n",
       "      <th></th>\n",
       "      <th>marca</th>\n",
       "      <th>modelo</th>\n",
       "      <th>precio</th>\n",
       "      <th>combustible</th>\n",
       "      <th>anyo_vehiculo</th>\n",
       "      <th>kilometraje</th>\n",
       "      <th>potencia</th>\n",
       "      <th>num_puertas</th>\n",
       "      <th>tipo_cambio</th>\n",
       "      <th>origen_anuncio</th>\n",
       "    </tr>\n",
       "  </thead>\n",
       "  <tbody>\n",
       "    <tr>\n",
       "      <th>0</th>\n",
       "      <td>BMW</td>\n",
       "      <td>x3</td>\n",
       "      <td>37900.0</td>\n",
       "      <td>Híbrido</td>\n",
       "      <td>2021.0</td>\n",
       "      <td>33200</td>\n",
       "      <td>190.0</td>\n",
       "      <td>5.0</td>\n",
       "      <td>Automático</td>\n",
       "      <td>WebScraping</td>\n",
       "    </tr>\n",
       "    <tr>\n",
       "      <th>1</th>\n",
       "      <td>PEUGEOT</td>\n",
       "      <td>308</td>\n",
       "      <td>9000.0</td>\n",
       "      <td>Gasolina</td>\n",
       "      <td>2016.0</td>\n",
       "      <td>127300</td>\n",
       "      <td>110.0</td>\n",
       "      <td>5.0</td>\n",
       "      <td>Manual</td>\n",
       "      <td>WebScraping</td>\n",
       "    </tr>\n",
       "    <tr>\n",
       "      <th>2</th>\n",
       "      <td>RENAULT</td>\n",
       "      <td>clio</td>\n",
       "      <td>11990.0</td>\n",
       "      <td>Diésel</td>\n",
       "      <td>2022.0</td>\n",
       "      <td>123000</td>\n",
       "      <td>100.0</td>\n",
       "      <td>5.0</td>\n",
       "      <td>Manual</td>\n",
       "      <td>WebScraping</td>\n",
       "    </tr>\n",
       "    <tr>\n",
       "      <th>3</th>\n",
       "      <td>CITROEN</td>\n",
       "      <td>c3</td>\n",
       "      <td>16500.0</td>\n",
       "      <td>Gasolina</td>\n",
       "      <td>2022.0</td>\n",
       "      <td>18150</td>\n",
       "      <td>83.0</td>\n",
       "      <td>5.0</td>\n",
       "      <td>Manual</td>\n",
       "      <td>WebScraping</td>\n",
       "    </tr>\n",
       "    <tr>\n",
       "      <th>4</th>\n",
       "      <td>VOLKSWAGEN</td>\n",
       "      <td>california</td>\n",
       "      <td>67900.0</td>\n",
       "      <td>Diésel</td>\n",
       "      <td>2023.0</td>\n",
       "      <td>12000</td>\n",
       "      <td>150.0</td>\n",
       "      <td>4.0</td>\n",
       "      <td>Automático</td>\n",
       "      <td>WebScraping</td>\n",
       "    </tr>\n",
       "  </tbody>\n",
       "</table>\n",
       "</div>"
      ],
      "text/plain": [
       "        marca      modelo   precio combustible  anyo_vehiculo  kilometraje  \\\n",
       "0         BMW          x3  37900.0     Híbrido         2021.0        33200   \n",
       "1     PEUGEOT         308   9000.0    Gasolina         2016.0       127300   \n",
       "2     RENAULT        clio  11990.0      Diésel         2022.0       123000   \n",
       "3     CITROEN          c3  16500.0    Gasolina         2022.0        18150   \n",
       "4  VOLKSWAGEN  california  67900.0      Diésel         2023.0        12000   \n",
       "\n",
       "   potencia  num_puertas tipo_cambio origen_anuncio  \n",
       "0     190.0          5.0  Automático    WebScraping  \n",
       "1     110.0          5.0      Manual    WebScraping  \n",
       "2     100.0          5.0      Manual    WebScraping  \n",
       "3      83.0          5.0      Manual    WebScraping  \n",
       "4     150.0          4.0  Automático    WebScraping  "
      ]
     },
     "execution_count": 17,
     "metadata": {},
     "output_type": "execute_result"
    }
   ],
   "source": [
    "df = df.drop(index=(df.loc[df.loc[:, \"tipo_cambio\"].isna() == True, :]).index)\n",
    "df.head()"
   ]
  },
  {
   "cell_type": "code",
   "execution_count": 18,
   "metadata": {},
   "outputs": [
    {
     "name": "stdout",
     "output_type": "stream",
     "text": [
      "<class 'pandas.core.frame.DataFrame'>\n",
      "Index: 29734 entries, 0 to 36606\n",
      "Data columns (total 10 columns):\n",
      " #   Column          Non-Null Count  Dtype  \n",
      "---  ------          --------------  -----  \n",
      " 0   marca           29734 non-null  object \n",
      " 1   modelo          29734 non-null  object \n",
      " 2   precio          29734 non-null  float64\n",
      " 3   combustible     29700 non-null  object \n",
      " 4   anyo_vehiculo   29733 non-null  float64\n",
      " 5   kilometraje     29734 non-null  int64  \n",
      " 6   potencia        29734 non-null  float64\n",
      " 7   num_puertas     29734 non-null  float64\n",
      " 8   tipo_cambio     29734 non-null  object \n",
      " 9   origen_anuncio  29734 non-null  object \n",
      "dtypes: float64(4), int64(1), object(5)\n",
      "memory usage: 2.5+ MB\n"
     ]
    }
   ],
   "source": [
    "df.info()"
   ]
  },
  {
   "cell_type": "markdown",
   "metadata": {},
   "source": [
    "Eliminamos también las entradas que quedan con algún NaN, ya que tenemos solo 34 en los que no está informado el combustible y 1 sin el año del vehículo."
   ]
  },
  {
   "cell_type": "code",
   "execution_count": 19,
   "metadata": {},
   "outputs": [
    {
     "name": "stdout",
     "output_type": "stream",
     "text": [
      "<class 'pandas.core.frame.DataFrame'>\n",
      "Index: 29699 entries, 0 to 36606\n",
      "Data columns (total 10 columns):\n",
      " #   Column          Non-Null Count  Dtype  \n",
      "---  ------          --------------  -----  \n",
      " 0   marca           29699 non-null  object \n",
      " 1   modelo          29699 non-null  object \n",
      " 2   precio          29699 non-null  float64\n",
      " 3   combustible     29699 non-null  object \n",
      " 4   anyo_vehiculo   29699 non-null  float64\n",
      " 5   kilometraje     29699 non-null  int64  \n",
      " 6   potencia        29699 non-null  float64\n",
      " 7   num_puertas     29699 non-null  float64\n",
      " 8   tipo_cambio     29699 non-null  object \n",
      " 9   origen_anuncio  29699 non-null  object \n",
      "dtypes: float64(4), int64(1), object(5)\n",
      "memory usage: 2.5+ MB\n"
     ]
    }
   ],
   "source": [
    "df = df.dropna()\n",
    "df.info()"
   ]
  },
  {
   "cell_type": "markdown",
   "metadata": {},
   "source": [
    "Vemos que nos hemos quedado con 29698 filas de 10 marcas de vehículos. Ya no tenemos valores nulos, ahora vamos a procesar las columnas restantes para que puedan ser usadas en el modelo. Sin embargo, antes vamos a guardar en un set las marcas y modelos de coches que quedan en el DataFrame, para luego utilizarlas en la Web App de predicción de precios:"
   ]
  },
  {
   "cell_type": "code",
   "execution_count": 20,
   "metadata": {},
   "outputs": [
    {
     "data": {
      "text/html": [
       "<div>\n",
       "<style scoped>\n",
       "    .dataframe tbody tr th:only-of-type {\n",
       "        vertical-align: middle;\n",
       "    }\n",
       "\n",
       "    .dataframe tbody tr th {\n",
       "        vertical-align: top;\n",
       "    }\n",
       "\n",
       "    .dataframe thead th {\n",
       "        text-align: right;\n",
       "    }\n",
       "</style>\n",
       "<table border=\"1\" class=\"dataframe\">\n",
       "  <thead>\n",
       "    <tr style=\"text-align: right;\">\n",
       "      <th></th>\n",
       "      <th>marca</th>\n",
       "      <th>modelo</th>\n",
       "      <th>precio</th>\n",
       "      <th>combustible</th>\n",
       "      <th>anyo_vehiculo</th>\n",
       "      <th>kilometraje</th>\n",
       "      <th>potencia</th>\n",
       "      <th>num_puertas</th>\n",
       "      <th>tipo_cambio</th>\n",
       "      <th>origen_anuncio</th>\n",
       "    </tr>\n",
       "  </thead>\n",
       "  <tbody>\n",
       "    <tr>\n",
       "      <th>0</th>\n",
       "      <td>BMW</td>\n",
       "      <td>x3</td>\n",
       "      <td>37900.0</td>\n",
       "      <td>Híbrido</td>\n",
       "      <td>2021.0</td>\n",
       "      <td>33200</td>\n",
       "      <td>190.0</td>\n",
       "      <td>5.0</td>\n",
       "      <td>Automático</td>\n",
       "      <td>WebScraping</td>\n",
       "    </tr>\n",
       "    <tr>\n",
       "      <th>1</th>\n",
       "      <td>PEUGEOT</td>\n",
       "      <td>308</td>\n",
       "      <td>9000.0</td>\n",
       "      <td>Gasolina</td>\n",
       "      <td>2016.0</td>\n",
       "      <td>127300</td>\n",
       "      <td>110.0</td>\n",
       "      <td>5.0</td>\n",
       "      <td>Manual</td>\n",
       "      <td>WebScraping</td>\n",
       "    </tr>\n",
       "    <tr>\n",
       "      <th>2</th>\n",
       "      <td>RENAULT</td>\n",
       "      <td>clio</td>\n",
       "      <td>11990.0</td>\n",
       "      <td>Diésel</td>\n",
       "      <td>2022.0</td>\n",
       "      <td>123000</td>\n",
       "      <td>100.0</td>\n",
       "      <td>5.0</td>\n",
       "      <td>Manual</td>\n",
       "      <td>WebScraping</td>\n",
       "    </tr>\n",
       "    <tr>\n",
       "      <th>3</th>\n",
       "      <td>CITROEN</td>\n",
       "      <td>c3</td>\n",
       "      <td>16500.0</td>\n",
       "      <td>Gasolina</td>\n",
       "      <td>2022.0</td>\n",
       "      <td>18150</td>\n",
       "      <td>83.0</td>\n",
       "      <td>5.0</td>\n",
       "      <td>Manual</td>\n",
       "      <td>WebScraping</td>\n",
       "    </tr>\n",
       "    <tr>\n",
       "      <th>4</th>\n",
       "      <td>VOLKSWAGEN</td>\n",
       "      <td>california</td>\n",
       "      <td>67900.0</td>\n",
       "      <td>Diésel</td>\n",
       "      <td>2023.0</td>\n",
       "      <td>12000</td>\n",
       "      <td>150.0</td>\n",
       "      <td>4.0</td>\n",
       "      <td>Automático</td>\n",
       "      <td>WebScraping</td>\n",
       "    </tr>\n",
       "  </tbody>\n",
       "</table>\n",
       "</div>"
      ],
      "text/plain": [
       "        marca      modelo   precio combustible  anyo_vehiculo  kilometraje  \\\n",
       "0         BMW          x3  37900.0     Híbrido         2021.0        33200   \n",
       "1     PEUGEOT         308   9000.0    Gasolina         2016.0       127300   \n",
       "2     RENAULT        clio  11990.0      Diésel         2022.0       123000   \n",
       "3     CITROEN          c3  16500.0    Gasolina         2022.0        18150   \n",
       "4  VOLKSWAGEN  california  67900.0      Diésel         2023.0        12000   \n",
       "\n",
       "   potencia  num_puertas tipo_cambio origen_anuncio  \n",
       "0     190.0          5.0  Automático    WebScraping  \n",
       "1     110.0          5.0      Manual    WebScraping  \n",
       "2     100.0          5.0      Manual    WebScraping  \n",
       "3      83.0          5.0      Manual    WebScraping  \n",
       "4     150.0          4.0  Automático    WebScraping  "
      ]
     },
     "execution_count": 20,
     "metadata": {},
     "output_type": "execute_result"
    }
   ],
   "source": [
    "df.head()"
   ]
  },
  {
   "cell_type": "code",
   "execution_count": 21,
   "metadata": {},
   "outputs": [
    {
     "name": "stdout",
     "output_type": "stream",
     "text": [
      "{'BMW': {'serie 6', 'serie 3', 'serie 5', 'ix3', 'i4 eDrive40', 'x6', 'i8', 'serie 1', 'i3', 'serie 2 gran tourer', 'x5', 'x2', 'x3', 'x1', 'serie 4', 'serie 8', 'iX1 xDrive30', 'z3', 'compact', 'z1', 'z4', 'x7', 'serie 7', 'x4', 'serie 2', 'serie 2 active tourer'}, 'PEUGEOT': {'106', 'bipper', '607', 'e-208', '206 sw', 'traveller', '406', '508 hybrid', '5008', '407', '208 xad', '206', '307', '3008 hybrid', '207', '308', '1007', '206 +', '407 sw', '108', '309', '508', 'rcz', '306', '505', 'ion', '2008', '208', 'partner', '307 sw', 'e-2008', 'rifter', '205', '3008', '207 +', 'expert', '4007', '807', '4008', 'boxer', '806', 'partner origin', '107'}, 'RENAULT': {'5 E-Tech Iconic Cinq Autonomia Conf', 'kangoo', 'grand modus', 'r4', 'kangoo combi', 'mascott', 'twingo', 'grand espace', 'modus', 'laguna', 'grand kangoo combi', 'kangoo express', '19', 'master propulsion', 'master', 'clio', 'r21', 'wind', 'vel satis', 'scenic', 'espace', 'r5', 'safrane', 'kangoo furgon', 'fluence', 'r11', 'maxity', 'express', 'talisman', 'megane', 'latitude', 'clio 4', 'kangoo z.e.', 'clio campus', 'clio iii', 'kadjar', 'koleos', 'trafic', 'r6', 'captur', 'grand scenic', 'zoe'}, 'CITROEN': {'c3', 'berlingo', 'xsara picasso', 'c3 aircross', 'c3 pluriel', 'c5 aircross hybrid', 'c5', 'grand c4 spacetourer', 'jumper', 'bx', 'c4 aircross', 'c4 sedan', 'c6', 'jumpy', '2cv', 'zx', 'c4 cactus', 'c8', 'e-c4', 'c4 spacetourer', 'xantia', 'nemo', 'saxo', 'ds3', 'c4 picasso', 'c1', 'c-15', 'c5 aircross', 'c4', 'grand c4 picasso', 'c3 picasso', 'c2', 'ds5', 'c-zero', 'c-elysee', 'c-crosser', 'spacetourer', 'ax', 'evasion', 'xsara', 'ds4'}, 'VOLKSWAGEN': {'new beetle', 'polo', 'sharan', 'lt', 'golf', 'jetta', 'crafter', 'transporter', 'corrado', 'scirocco', 'touareg', 'bora', 'beetle', 'ID. BUZZ Pro', 'passat cc', 't-cross', 'tiguan allspace', 'arteon', 'multivan', 'tiguan', 'golf sportsvan', 'santana', 't-roc', 'TRoc Sport 1.5 TSI DSG', 'up!', 'california', 'caravelle', 'amarok', 'touran', 'e-up!', 'Taigo Life 1.0 TSI', 'id.3', 'lupo', 'passat', 'eos', 'phaeton', 'golf plus', 'caddy', 'cc', 'grand california'}, 'OPEL': {'combo', 'vectra', 'frontera', 'zafira', 'zafira tourer', 'crossland x', 'astra', 'signum', 'zafira life', 'grandland x', 'manta', 'crossland', 'omega', 'agila', 'adam', 'gtc', 'vivaro', 'gt', 'mokka x', 'tigra', 'kadett', 'zafira-e life', 'corsa van', 'monterey', 'corsa', 'antara', 'movano', 'grandland x phev', 'corsa-e', 'insignia', 'meriva', 'ampera', 'cabrio', 'mokka', 'karl', 'combo life'}, 'MERCEDES-BENZ': {'gla', 'clase b', 'clase glk', 'clase clc', '300', 'clase x', 'clase a', 'clase s', 'glc coupe', 'vito', '260', '500', 'gle', '220', 'clase v', 'gle coupe', 'citan', 'clase cl', 'mercedes-amg gt', 'clase sl', 'EQA EQA 250', 'clase m', '100d', 'clase c', 'clase gle coupe', '400', '230', 'clase sl r129', '200', 'sls amg', '140d', 'cla', 'viano', 'clase cla', 'clase r', 'clase slc', 'amg gt', 'clase gl', 'clase slk', 'clase e', 'clase cls', 'sprinter', 'clase glc', 'gls', 'glb', 'eqc', 'clase clk', 'cls', 'clase gle', '190', 'clase gls', 'clase gla', 'clase g'}, 'FORD': {'galaxy', 'tourneo courier', 'sierra', 'ka', 'focus c-max', 'transit courier', 'b-max', 'mustang', 's-max', 'transit connect', 'focus', 'tourneo custom', 'c-max', 'explorer', 'fusion', 'capri', 'mondeo', 'escort', 'connect', 'kuga', 'puma', 'grand tourneo connect', 'grand c-max', 'ka+', 'fiesta', 'edge', 'probe', 'transit', 'ranger', 'transit custom', 'ecosport', 'maverick', 'fiesta van', 'courier', 'tourneo connect'}, 'AUDI': {'a8', 'a6', 'allroad quattro', 's6', 'tt rs', 'tts', 'sq5', 'rs3', 'a2', 'tt', 'a7', 'q3 sportback', 'a4', 'a5', 'a4 allroad quattro', 'q8', 'r8', 'q3', 's5', 'a3', 'q2', 'rs7', 'coupe', '100', 'e-tron', 'q5', 's3', 's8', 'rs q3', 'a6 allroad quattro', 'a1', 'e-tron sportback', 'q7', 'rs4', 'rs6', 'rs5', 'sq7', '90', 'cabriolet', 's7', 's4'}, 'SEAT': {'tarraco', 'altea freetrack', 'ibiza', 'ateca', 'altea', 'inca', 'cordoba', 'leon', 'mii', 'exeo', 'arosa', 'marbella', 'toledo', 'altea xl', 'arona', 'alhambra'}}\n"
     ]
    }
   ],
   "source": [
    "marca_modelo_set = {}\n",
    "\n",
    "for index, row in df.iterrows():\n",
    "    make = row['marca']\n",
    "    model = row['modelo']\n",
    "    \n",
    "    if make not in marca_modelo_set:\n",
    "        marca_modelo_set[make] = {model}\n",
    "    else:\n",
    "        marca_modelo_set[make].add(model)\n",
    "\n",
    "# Guardamos el set con marcas y modelos en un pkl:\n",
    "\n",
    "with open('../include/utils/marca_modelo_set.pkl', 'wb') as archivo_salida3:\n",
    "    pickle.dump(marca_modelo_set, archivo_salida3)\n",
    "\n",
    "print(marca_modelo_set)"
   ]
  },
  {
   "cell_type": "markdown",
   "metadata": {},
   "source": [
    "Una vez guardado este set, empezamos con el análisis y procesado de las variables que utilizaremos en el modelo:"
   ]
  },
  {
   "cell_type": "code",
   "execution_count": 22,
   "metadata": {},
   "outputs": [
    {
     "data": {
      "text/plain": [
       "marca\n",
       "VOLKSWAGEN       3871\n",
       "BMW              3806\n",
       "MERCEDES-BENZ    3685\n",
       "AUDI             3205\n",
       "PEUGEOT          2780\n",
       "FORD             2653\n",
       "RENAULT          2615\n",
       "OPEL             2519\n",
       "CITROEN          2444\n",
       "SEAT             2121\n",
       "Name: count, dtype: int64"
      ]
     },
     "execution_count": 22,
     "metadata": {},
     "output_type": "execute_result"
    }
   ],
   "source": [
    "marca_df = df[\"marca\"]\n",
    "marca_df.value_counts()"
   ]
  },
  {
   "cell_type": "markdown",
   "metadata": {},
   "source": [
    "Tenemos 72 marcas diferentes de coches. Vamos a hacer un countplot para ver cuántos vehículos tenemos de cada marca:"
   ]
  },
  {
   "cell_type": "code",
   "execution_count": 23,
   "metadata": {},
   "outputs": [
    {
     "data": {
      "image/png": "[encoded data removed]",
      "text/plain": [
       "<Figure size 1500x1200 with 1 Axes>"
      ]
     },
     "metadata": {},
     "output_type": "display_data"
    }
   ],
   "source": [
    "plt.figure(figsize = (15, 12))\n",
    "sns.countplot(y = marca_df, order=marca_df.value_counts(ascending=False).index, color=colors[0])\n",
    "\n",
    "plt.title(\"Cantidad de coches por marca\", fontsize=16)\n",
    "plt.xlabel(\"Cantidad\")\n",
    "plt.ylabel(\"Marca\")\n",
    "\n",
    "plt.show()"
   ]
  },
  {
   "cell_type": "markdown",
   "metadata": {},
   "source": [
    "En el gráfico vemos cómo tenemos muchos coches registrados en la base de datos para cada una de las 10 marcas.\n",
    "\n",
    "Vamos a asignar un valor numérico a cada marca para poder utilizar dicha columna como feature del modelo:"
   ]
  },
  {
   "cell_type": "code",
   "execution_count": 24,
   "metadata": {},
   "outputs": [
    {
     "data": {
      "text/plain": [
       "marca\n",
       "9    3871\n",
       "1    3806\n",
       "4    3685\n",
       "0    3205\n",
       "6    2780\n",
       "3    2653\n",
       "7    2615\n",
       "5    2519\n",
       "2    2444\n",
       "8    2121\n",
       "Name: count, dtype: int64"
      ]
     },
     "execution_count": 24,
     "metadata": {},
     "output_type": "execute_result"
    }
   ],
   "source": [
    "# Asignamos cada marca a un valor numérico utilizando LabelEncoder:\n",
    "\n",
    "from sklearn.preprocessing import LabelEncoder\n",
    "\n",
    "encoder_marca = LabelEncoder()\n",
    "encoder_marca.fit(df[\"marca\"].sort_values(ascending=False))\n",
    "list(encoder_marca.classes_)\n",
    "df[\"marca\"] = encoder_marca.transform(df[\"marca\"])\n",
    "\n",
    "# Guardamos el LabelEncoder para poder utilizarlo después en otros archivos:\n",
    "\n",
    "with open('../include/utils/label_encoder_marca.pkl', 'wb') as archivo_salida1:\n",
    "    pickle.dump(encoder_marca, archivo_salida1)\n",
    "\n",
    "df[\"marca\"].value_counts()"
   ]
  },
  {
   "cell_type": "code",
   "execution_count": 25,
   "metadata": {},
   "outputs": [
    {
     "name": "stdout",
     "output_type": "stream",
     "text": [
      "['AUDI' 'BMW' 'CITROEN' 'FORD' 'MERCEDES-BENZ' 'OPEL' 'PEUGEOT' 'RENAULT'\n",
      " 'SEAT' 'VOLKSWAGEN']\n"
     ]
    }
   ],
   "source": [
    "# muestra las marcas originales\n",
    "\n",
    "print(encoder_marca.classes_) \n"
   ]
  },
  {
   "cell_type": "code",
   "execution_count": 26,
   "metadata": {},
   "outputs": [
    {
     "data": {
      "text/plain": [
       "['AUDI']"
      ]
     },
     "execution_count": 26,
     "metadata": {},
     "output_type": "execute_result"
    }
   ],
   "source": [
    "# Para visualizar el mapping de marca con LabelEncoder\n",
    "\n",
    "list(encoder_marca.inverse_transform([0]))"
   ]
  },
  {
   "cell_type": "code",
   "execution_count": 27,
   "metadata": {},
   "outputs": [
    {
     "name": "stdout",
     "output_type": "stream",
     "text": [
      "<class 'pandas.core.frame.DataFrame'>\n",
      "Index: 29699 entries, 0 to 36606\n",
      "Data columns (total 10 columns):\n",
      " #   Column          Non-Null Count  Dtype  \n",
      "---  ------          --------------  -----  \n",
      " 0   marca           29699 non-null  int32  \n",
      " 1   modelo          29699 non-null  object \n",
      " 2   precio          29699 non-null  float64\n",
      " 3   combustible     29699 non-null  object \n",
      " 4   anyo_vehiculo   29699 non-null  float64\n",
      " 5   kilometraje     29699 non-null  int64  \n",
      " 6   potencia        29699 non-null  float64\n",
      " 7   num_puertas     29699 non-null  float64\n",
      " 8   tipo_cambio     29699 non-null  object \n",
      " 9   origen_anuncio  29699 non-null  object \n",
      "dtypes: float64(4), int32(1), int64(1), object(4)\n",
      "memory usage: 2.4+ MB\n"
     ]
    }
   ],
   "source": [
    "df.info()"
   ]
  },
  {
   "cell_type": "markdown",
   "metadata": {},
   "source": [
    "Vamos ahora con la columna ```\"modelo\"```:"
   ]
  },
  {
   "cell_type": "code",
   "execution_count": 28,
   "metadata": {},
   "outputs": [
    {
     "data": {
      "text/plain": [
       "modelo\n",
       "golf            1224\n",
       "serie 3          984\n",
       "a3               752\n",
       "clase c          738\n",
       "a4               725\n",
       "                ... \n",
       "400                1\n",
       "iX1 xDrive30       1\n",
       "ID. BUZZ Pro       1\n",
       "140d               1\n",
       "r21                1\n",
       "Name: count, Length: 373, dtype: int64"
      ]
     },
     "execution_count": 28,
     "metadata": {},
     "output_type": "execute_result"
    }
   ],
   "source": [
    "df[\"modelo\"].value_counts()"
   ]
  },
  {
   "cell_type": "markdown",
   "metadata": {},
   "source": [
    "Tenemos 373 modelos diferentes. En esta ocasión no realizamos el countplot ya que es información demasiado específica para visualizar.\n",
    "\n",
    "Aunque son muchos valores diferentes, por el momento, realizamos otro Label Encoder. Más adelante veremos si es una columna que aporte información al modelo."
   ]
  },
  {
   "cell_type": "code",
   "execution_count": 29,
   "metadata": {},
   "outputs": [
    {
     "data": {
      "text/plain": [
       "modelo\n",
       "196    1224\n",
       "309     984\n",
       "53      752\n",
       "119     738\n",
       "54      725\n",
       "       ... \n",
       "31        1\n",
       "215       1\n",
       "48        1\n",
       "6         1\n",
       "279       1\n",
       "Name: count, Length: 373, dtype: int64"
      ]
     },
     "execution_count": 29,
     "metadata": {},
     "output_type": "execute_result"
    }
   ],
   "source": [
    "from sklearn.preprocessing import LabelEncoder\n",
    "\n",
    "encoder_modelo = LabelEncoder()\n",
    "encoder_modelo.fit(df[\"modelo\"].sort_values(ascending=False))\n",
    "list(encoder_modelo.classes_)\n",
    "df[\"modelo\"] = encoder_modelo.transform(df[\"modelo\"])\n",
    "\n",
    "# Guardamos el Encoding:\n",
    "\n",
    "with open('../include/utils/label_encoder_modelo.pkl', 'wb') as archivo_salida2:\n",
    "    pickle.dump(encoder_modelo, archivo_salida2)\n",
    "\n",
    "df[\"modelo\"].value_counts()"
   ]
  },
  {
   "cell_type": "code",
   "execution_count": 30,
   "metadata": {},
   "outputs": [
    {
     "data": {
      "text/plain": [
       "['golf']"
      ]
     },
     "execution_count": 30,
     "metadata": {},
     "output_type": "execute_result"
    }
   ],
   "source": [
    "# Para visualizar el mapping de model con LabelEncoder\n",
    "\n",
    "list(encoder_modelo.inverse_transform([196]))"
   ]
  },
  {
   "cell_type": "code",
   "execution_count": 31,
   "metadata": {},
   "outputs": [
    {
     "name": "stdout",
     "output_type": "stream",
     "text": [
      "<class 'pandas.core.frame.DataFrame'>\n",
      "Index: 29699 entries, 0 to 36606\n",
      "Data columns (total 10 columns):\n",
      " #   Column          Non-Null Count  Dtype  \n",
      "---  ------          --------------  -----  \n",
      " 0   marca           29699 non-null  int32  \n",
      " 1   modelo          29699 non-null  int32  \n",
      " 2   precio          29699 non-null  float64\n",
      " 3   combustible     29699 non-null  object \n",
      " 4   anyo_vehiculo   29699 non-null  float64\n",
      " 5   kilometraje     29699 non-null  int64  \n",
      " 6   potencia        29699 non-null  float64\n",
      " 7   num_puertas     29699 non-null  float64\n",
      " 8   tipo_cambio     29699 non-null  object \n",
      " 9   origen_anuncio  29699 non-null  object \n",
      "dtypes: float64(4), int32(2), int64(1), object(3)\n",
      "memory usage: 2.3+ MB\n"
     ]
    }
   ],
   "source": [
    "df.info()"
   ]
  },
  {
   "cell_type": "markdown",
   "metadata": {},
   "source": [
    "Vamos ahora con la columna ```\"combustible\"```:"
   ]
  },
  {
   "cell_type": "code",
   "execution_count": 32,
   "metadata": {},
   "outputs": [
    {
     "data": {
      "text/plain": [
       "combustible\n",
       "Diésel                19469\n",
       "Gasolina               9280\n",
       "Híbrido Enchufable      325\n",
       "Eléctrico               306\n",
       "Híbrido                 212\n",
       "Gas natural (CNG)        58\n",
       "Gas licuado (GLP)        49\n",
       "Name: count, dtype: int64"
      ]
     },
     "execution_count": 32,
     "metadata": {},
     "output_type": "execute_result"
    }
   ],
   "source": [
    "df[\"combustible\"].value_counts()"
   ]
  },
  {
   "cell_type": "code",
   "execution_count": 34,
   "metadata": {},
   "outputs": [
    {
     "data": {
      "image/png": "[encoded data removed]",
      "text/plain": [
       "<Figure size 600x400 with 1 Axes>"
      ]
     },
     "metadata": {},
     "output_type": "display_data"
    }
   ],
   "source": [
    "plt.figure(figsize = (6, 4))\n",
    "sns.countplot(y = df[\"combustible\"], order=df['combustible'].value_counts(ascending=False).index, color=colors[0])\n",
    "\n",
    "\n",
    "plt.title(\"Cantidad de coches por tipo de combustible\", fontsize=14)\n",
    "\n",
    "plt.xlabel(\"Cantidad\")\n",
    "plt.ylabel(\"Tipo de combustible\")\n",
    "\n",
    "plt.show()"
   ]
  },
  {
   "cell_type": "markdown",
   "metadata": {},
   "source": [
    "Vemos cómo predominan los coches de diésel y gasolina.\n",
    "\n",
    "Convertimos los valores en numéricos utilizando un mapeado:"
   ]
  },
  {
   "cell_type": "code",
   "execution_count": 35,
   "metadata": {},
   "outputs": [],
   "source": [
    "# Aplicamos un mapeado para la columna \"fuel\"\n",
    "\n",
    "tipos_combutible = {\"Diésel\" : 0,\n",
    "            \"Gasolina\" : 1,\n",
    "            \"Híbrido\" : 2,\n",
    "            \"Eléctrico\" : 3,\n",
    "            \"Híbrido Enchufable\" : 4, \n",
    "            \"Gas licuado (GLP)\" : 5,\n",
    "            \"Gas natural (CNG)\" : 6}\n",
    "                     \n",
    "df[\"combustible\"] = df[\"combustible\"].map(tipos_combutible)"
   ]
  },
  {
   "cell_type": "code",
   "execution_count": 36,
   "metadata": {},
   "outputs": [
    {
     "data": {
      "text/plain": [
       "combustible\n",
       "0    19469\n",
       "1     9280\n",
       "4      325\n",
       "3      306\n",
       "2      212\n",
       "6       58\n",
       "5       49\n",
       "Name: count, dtype: int64"
      ]
     },
     "execution_count": 36,
     "metadata": {},
     "output_type": "execute_result"
    }
   ],
   "source": [
    "df[\"combustible\"].value_counts()"
   ]
  },
  {
   "cell_type": "code",
   "execution_count": 37,
   "metadata": {},
   "outputs": [
    {
     "name": "stdout",
     "output_type": "stream",
     "text": [
      "<class 'pandas.core.frame.DataFrame'>\n",
      "Index: 29699 entries, 0 to 36606\n",
      "Data columns (total 10 columns):\n",
      " #   Column          Non-Null Count  Dtype  \n",
      "---  ------          --------------  -----  \n",
      " 0   marca           29699 non-null  int32  \n",
      " 1   modelo          29699 non-null  int32  \n",
      " 2   precio          29699 non-null  float64\n",
      " 3   combustible     29699 non-null  int64  \n",
      " 4   anyo_vehiculo   29699 non-null  float64\n",
      " 5   kilometraje     29699 non-null  int64  \n",
      " 6   potencia        29699 non-null  float64\n",
      " 7   num_puertas     29699 non-null  float64\n",
      " 8   tipo_cambio     29699 non-null  object \n",
      " 9   origen_anuncio  29699 non-null  object \n",
      "dtypes: float64(4), int32(2), int64(2), object(2)\n",
      "memory usage: 2.3+ MB\n"
     ]
    }
   ],
   "source": [
    "df.info()"
   ]
  },
  {
   "cell_type": "markdown",
   "metadata": {},
   "source": [
    "Veamos los valores de la siguiente columna no numérica, ```\"num_puertas\"```:"
   ]
  },
  {
   "cell_type": "code",
   "execution_count": 39,
   "metadata": {},
   "outputs": [
    {
     "data": {
      "text/plain": [
       "num_puertas\n",
       "5    20996\n",
       "4     5017\n",
       "3     2152\n",
       "2     1534\n",
       "Name: count, dtype: int64"
      ]
     },
     "execution_count": 39,
     "metadata": {},
     "output_type": "execute_result"
    }
   ],
   "source": [
    "df[\"num_puertas\"] = df[\"num_puertas\"].astype(int)\n",
    "\n",
    "df[\"num_puertas\"].value_counts()"
   ]
  },
  {
   "cell_type": "markdown",
   "metadata": {},
   "source": [
    "Vamos a agrupar los coches de 5 puertas con los de 4, y los de 3 con los de 2, ya que la diferencia es que no se cuenta el maletero."
   ]
  },
  {
   "cell_type": "code",
   "execution_count": 40,
   "metadata": {},
   "outputs": [],
   "source": [
    "num_puertas = {5: 5,\n",
    "            4 : 5,\n",
    "            3 : 3,\n",
    "            2 : 3}\n",
    "                     \n",
    "df[\"num_puertas\"] = df[\"num_puertas\"].map(num_puertas)"
   ]
  },
  {
   "cell_type": "code",
   "execution_count": 41,
   "metadata": {},
   "outputs": [
    {
     "data": {
      "text/plain": [
       "num_puertas\n",
       "5    26013\n",
       "3     3686\n",
       "Name: count, dtype: int64"
      ]
     },
     "execution_count": 41,
     "metadata": {},
     "output_type": "execute_result"
    }
   ],
   "source": [
    "df[\"num_puertas\"].value_counts()"
   ]
  },
  {
   "cell_type": "code",
   "execution_count": 42,
   "metadata": {},
   "outputs": [
    {
     "name": "stdout",
     "output_type": "stream",
     "text": [
      "<class 'pandas.core.frame.DataFrame'>\n",
      "Index: 29699 entries, 0 to 36606\n",
      "Data columns (total 10 columns):\n",
      " #   Column          Non-Null Count  Dtype  \n",
      "---  ------          --------------  -----  \n",
      " 0   marca           29699 non-null  int32  \n",
      " 1   modelo          29699 non-null  int32  \n",
      " 2   precio          29699 non-null  float64\n",
      " 3   combustible     29699 non-null  int64  \n",
      " 4   anyo_vehiculo   29699 non-null  float64\n",
      " 5   kilometraje     29699 non-null  int64  \n",
      " 6   potencia        29699 non-null  float64\n",
      " 7   num_puertas     29699 non-null  int64  \n",
      " 8   tipo_cambio     29699 non-null  object \n",
      " 9   origen_anuncio  29699 non-null  object \n",
      "dtypes: float64(3), int32(2), int64(3), object(2)\n",
      "memory usage: 2.3+ MB\n"
     ]
    }
   ],
   "source": [
    "df.info()"
   ]
  },
  {
   "cell_type": "markdown",
   "metadata": {},
   "source": [
    "De nuevo, convertimos a numérica la columna ```\"tipo_cambio\"```:"
   ]
  },
  {
   "cell_type": "code",
   "execution_count": 43,
   "metadata": {},
   "outputs": [
    {
     "data": {
      "text/plain": [
       "tipo_cambio\n",
       "Manual        19857\n",
       "Automático     9842\n",
       "Name: count, dtype: int64"
      ]
     },
     "execution_count": 43,
     "metadata": {},
     "output_type": "execute_result"
    }
   ],
   "source": [
    "df[\"tipo_cambio\"].value_counts()"
   ]
  },
  {
   "cell_type": "code",
   "execution_count": 44,
   "metadata": {},
   "outputs": [],
   "source": [
    "df[\"tipo_cambio\"] = df[\"tipo_cambio\"].apply(lambda x: 0 if x == \"Manual\" else 1)"
   ]
  },
  {
   "cell_type": "code",
   "execution_count": 45,
   "metadata": {},
   "outputs": [
    {
     "data": {
      "text/plain": [
       "tipo_cambio\n",
       "0    19857\n",
       "1     9842\n",
       "Name: count, dtype: int64"
      ]
     },
     "execution_count": 45,
     "metadata": {},
     "output_type": "execute_result"
    }
   ],
   "source": [
    "df[\"tipo_cambio\"].value_counts()"
   ]
  },
  {
   "cell_type": "code",
   "execution_count": 46,
   "metadata": {},
   "outputs": [
    {
     "name": "stdout",
     "output_type": "stream",
     "text": [
      "<class 'pandas.core.frame.DataFrame'>\n",
      "Index: 29699 entries, 0 to 36606\n",
      "Data columns (total 10 columns):\n",
      " #   Column          Non-Null Count  Dtype  \n",
      "---  ------          --------------  -----  \n",
      " 0   marca           29699 non-null  int32  \n",
      " 1   modelo          29699 non-null  int32  \n",
      " 2   precio          29699 non-null  float64\n",
      " 3   combustible     29699 non-null  int64  \n",
      " 4   anyo_vehiculo   29699 non-null  float64\n",
      " 5   kilometraje     29699 non-null  int64  \n",
      " 6   potencia        29699 non-null  float64\n",
      " 7   num_puertas     29699 non-null  int64  \n",
      " 8   tipo_cambio     29699 non-null  int64  \n",
      " 9   origen_anuncio  29699 non-null  object \n",
      "dtypes: float64(3), int32(2), int64(4), object(1)\n",
      "memory usage: 2.3+ MB\n"
     ]
    }
   ],
   "source": [
    "df.info()"
   ]
  },
  {
   "cell_type": "markdown",
   "metadata": {},
   "source": [
    "Tan solo falta la columna ```\"origen_anuncio\"```, que vamos a eliminar ya que sólo la hemos mantenido para diferenciar el origen del anuncio, pero no la queremos utilizar en el modelo predictivo."
   ]
  },
  {
   "cell_type": "code",
   "execution_count": 47,
   "metadata": {},
   "outputs": [],
   "source": [
    "df.drop(columns=[\"origen_anuncio\"], inplace=True)"
   ]
  },
  {
   "cell_type": "code",
   "execution_count": 48,
   "metadata": {},
   "outputs": [
    {
     "name": "stdout",
     "output_type": "stream",
     "text": [
      "<class 'pandas.core.frame.DataFrame'>\n",
      "Index: 29699 entries, 0 to 36606\n",
      "Data columns (total 9 columns):\n",
      " #   Column         Non-Null Count  Dtype  \n",
      "---  ------         --------------  -----  \n",
      " 0   marca          29699 non-null  int32  \n",
      " 1   modelo         29699 non-null  int32  \n",
      " 2   precio         29699 non-null  float64\n",
      " 3   combustible    29699 non-null  int64  \n",
      " 4   anyo_vehiculo  29699 non-null  float64\n",
      " 5   kilometraje    29699 non-null  int64  \n",
      " 6   potencia       29699 non-null  float64\n",
      " 7   num_puertas    29699 non-null  int64  \n",
      " 8   tipo_cambio    29699 non-null  int64  \n",
      "dtypes: float64(3), int32(2), int64(4)\n",
      "memory usage: 2.0 MB\n"
     ]
    }
   ],
   "source": [
    "df.info()"
   ]
  },
  {
   "cell_type": "markdown",
   "metadata": {},
   "source": [
    "Ya tenemos nuestro DataFrame con todas las columnas de tipo numérico, listas para ser utilizadas por el modelo (después de escalar, dividir los conjuntos de train y test, etc.).\n",
    "\n",
    "Guardamos el DataFrame."
   ]
  },
  {
   "cell_type": "code",
   "execution_count": 50,
   "metadata": {},
   "outputs": [],
   "source": [
    "# Guardamos el DataFrame transformado\n",
    "\n",
    "df.to_csv(\"../include/data/processed/df_pre_modelo.csv\")"
   ]
  },
  {
   "cell_type": "markdown",
   "metadata": {},
   "source": [
    "## 3. Modelos predictivos."
   ]
  },
  {
   "cell_type": "code",
   "execution_count": 52,
   "metadata": {},
   "outputs": [
    {
     "data": {
      "text/html": [
       "<div>\n",
       "<style scoped>\n",
       "    .dataframe tbody tr th:only-of-type {\n",
       "        vertical-align: middle;\n",
       "    }\n",
       "\n",
       "    .dataframe tbody tr th {\n",
       "        vertical-align: top;\n",
       "    }\n",
       "\n",
       "    .dataframe thead th {\n",
       "        text-align: right;\n",
       "    }\n",
       "</style>\n",
       "<table border=\"1\" class=\"dataframe\">\n",
       "  <thead>\n",
       "    <tr style=\"text-align: right;\">\n",
       "      <th></th>\n",
       "      <th>marca</th>\n",
       "      <th>modelo</th>\n",
       "      <th>precio</th>\n",
       "      <th>combustible</th>\n",
       "      <th>anyo_vehiculo</th>\n",
       "      <th>kilometraje</th>\n",
       "      <th>potencia</th>\n",
       "      <th>num_puertas</th>\n",
       "      <th>tipo_cambio</th>\n",
       "    </tr>\n",
       "  </thead>\n",
       "  <tbody>\n",
       "    <tr>\n",
       "      <th>0</th>\n",
       "      <td>1</td>\n",
       "      <td>356</td>\n",
       "      <td>37900.0</td>\n",
       "      <td>2</td>\n",
       "      <td>2021.0</td>\n",
       "      <td>33200</td>\n",
       "      <td>190.0</td>\n",
       "      <td>5</td>\n",
       "      <td>1</td>\n",
       "    </tr>\n",
       "    <tr>\n",
       "      <th>1</th>\n",
       "      <td>6</td>\n",
       "      <td>29</td>\n",
       "      <td>9000.0</td>\n",
       "      <td>1</td>\n",
       "      <td>2016.0</td>\n",
       "      <td>127300</td>\n",
       "      <td>110.0</td>\n",
       "      <td>5</td>\n",
       "      <td>0</td>\n",
       "    </tr>\n",
       "    <tr>\n",
       "      <th>2</th>\n",
       "      <td>7</td>\n",
       "      <td>143</td>\n",
       "      <td>11990.0</td>\n",
       "      <td>0</td>\n",
       "      <td>2022.0</td>\n",
       "      <td>123000</td>\n",
       "      <td>100.0</td>\n",
       "      <td>5</td>\n",
       "      <td>0</td>\n",
       "    </tr>\n",
       "    <tr>\n",
       "      <th>3</th>\n",
       "      <td>2</td>\n",
       "      <td>92</td>\n",
       "      <td>16500.0</td>\n",
       "      <td>1</td>\n",
       "      <td>2022.0</td>\n",
       "      <td>18150</td>\n",
       "      <td>83.0</td>\n",
       "      <td>5</td>\n",
       "      <td>0</td>\n",
       "    </tr>\n",
       "    <tr>\n",
       "      <th>4</th>\n",
       "      <td>9</td>\n",
       "      <td>110</td>\n",
       "      <td>67900.0</td>\n",
       "      <td>0</td>\n",
       "      <td>2023.0</td>\n",
       "      <td>12000</td>\n",
       "      <td>150.0</td>\n",
       "      <td>5</td>\n",
       "      <td>1</td>\n",
       "    </tr>\n",
       "    <tr>\n",
       "      <th>...</th>\n",
       "      <td>...</td>\n",
       "      <td>...</td>\n",
       "      <td>...</td>\n",
       "      <td>...</td>\n",
       "      <td>...</td>\n",
       "      <td>...</td>\n",
       "      <td>...</td>\n",
       "      <td>...</td>\n",
       "      <td>...</td>\n",
       "    </tr>\n",
       "    <tr>\n",
       "      <th>29694</th>\n",
       "      <td>8</td>\n",
       "      <td>239</td>\n",
       "      <td>18590.0</td>\n",
       "      <td>0</td>\n",
       "      <td>2019.0</td>\n",
       "      <td>21153</td>\n",
       "      <td>115.0</td>\n",
       "      <td>5</td>\n",
       "      <td>0</td>\n",
       "    </tr>\n",
       "    <tr>\n",
       "      <th>29695</th>\n",
       "      <td>7</td>\n",
       "      <td>237</td>\n",
       "      <td>14500.0</td>\n",
       "      <td>0</td>\n",
       "      <td>2015.0</td>\n",
       "      <td>68750</td>\n",
       "      <td>150.0</td>\n",
       "      <td>3</td>\n",
       "      <td>0</td>\n",
       "    </tr>\n",
       "    <tr>\n",
       "      <th>29696</th>\n",
       "      <td>6</td>\n",
       "      <td>5</td>\n",
       "      <td>11000.0</td>\n",
       "      <td>1</td>\n",
       "      <td>2019.0</td>\n",
       "      <td>21422</td>\n",
       "      <td>72.0</td>\n",
       "      <td>5</td>\n",
       "      <td>0</td>\n",
       "    </tr>\n",
       "    <tr>\n",
       "      <th>29697</th>\n",
       "      <td>0</td>\n",
       "      <td>289</td>\n",
       "      <td>47900.0</td>\n",
       "      <td>1</td>\n",
       "      <td>2013.0</td>\n",
       "      <td>47900</td>\n",
       "      <td>450.0</td>\n",
       "      <td>5</td>\n",
       "      <td>1</td>\n",
       "    </tr>\n",
       "    <tr>\n",
       "      <th>29698</th>\n",
       "      <td>2</td>\n",
       "      <td>91</td>\n",
       "      <td>2790.0</td>\n",
       "      <td>0</td>\n",
       "      <td>2006.0</td>\n",
       "      <td>106000</td>\n",
       "      <td>70.0</td>\n",
       "      <td>3</td>\n",
       "      <td>0</td>\n",
       "    </tr>\n",
       "  </tbody>\n",
       "</table>\n",
       "<p>29699 rows × 9 columns</p>\n",
       "</div>"
      ],
      "text/plain": [
       "       marca  modelo   precio  combustible  anyo_vehiculo  kilometraje  \\\n",
       "0          1     356  37900.0            2         2021.0        33200   \n",
       "1          6      29   9000.0            1         2016.0       127300   \n",
       "2          7     143  11990.0            0         2022.0       123000   \n",
       "3          2      92  16500.0            1         2022.0        18150   \n",
       "4          9     110  67900.0            0         2023.0        12000   \n",
       "...      ...     ...      ...          ...            ...          ...   \n",
       "29694      8     239  18590.0            0         2019.0        21153   \n",
       "29695      7     237  14500.0            0         2015.0        68750   \n",
       "29696      6       5  11000.0            1         2019.0        21422   \n",
       "29697      0     289  47900.0            1         2013.0        47900   \n",
       "29698      2      91   2790.0            0         2006.0       106000   \n",
       "\n",
       "       potencia  num_puertas  tipo_cambio  \n",
       "0         190.0            5            1  \n",
       "1         110.0            5            0  \n",
       "2         100.0            5            0  \n",
       "3          83.0            5            0  \n",
       "4         150.0            5            1  \n",
       "...         ...          ...          ...  \n",
       "29694     115.0            5            0  \n",
       "29695     150.0            3            0  \n",
       "29696      72.0            5            0  \n",
       "29697     450.0            5            1  \n",
       "29698      70.0            3            0  \n",
       "\n",
       "[29699 rows x 9 columns]"
      ]
     },
     "execution_count": 52,
     "metadata": {},
     "output_type": "execute_result"
    }
   ],
   "source": [
    "df = pd.read_csv(\"../include/data/processed/df_pre_modelo.csv\", index_col=0).reset_index(drop=True)\n",
    "df"
   ]
  },
  {
   "cell_type": "markdown",
   "metadata": {},
   "source": [
    "Ya tenemos 9 columnas numéricas con las que poder predecir la columna target (```\"precio\"```). Vamos ahora a ver la distibución de datos de la columna target:"
   ]
  },
  {
   "cell_type": "code",
   "execution_count": 53,
   "metadata": {},
   "outputs": [
    {
     "name": "stderr",
     "output_type": "stream",
     "text": [
      "c:\\Users\\alberto.pintos\\AppData\\Local\\anaconda3\\Lib\\site-packages\\seaborn\\_oldcore.py:1119: FutureWarning: use_inf_as_na option is deprecated and will be removed in a future version. Convert inf values to NaN before operating instead.\n",
      "  with pd.option_context('mode.use_inf_as_na', True):\n",
      "c:\\Users\\alberto.pintos\\AppData\\Local\\anaconda3\\Lib\\site-packages\\seaborn\\axisgrid.py:118: UserWarning: The figure layout has changed to tight\n",
      "  self._figure.tight_layout(*args, **kwargs)\n"
     ]
    },
    {
     "data": {
      "text/plain": [
       "<Figure size 1200x800 with 0 Axes>"
      ]
     },
     "metadata": {},
     "output_type": "display_data"
    },
    {
     "data": {
      "image/png": "[encoded data removed]",
      "text/plain": [
       "<Figure size 500x500 with 1 Axes>"
      ]
     },
     "metadata": {},
     "output_type": "display_data"
    }
   ],
   "source": [
    "plt.figure(figsize=(12, 8))\n",
    "\n",
    "sns.displot(df[\"precio\"], color=colors[0])\n",
    "\n",
    "plt.title(\"Cantidad de coches por precio\", fontsize=14)\n",
    "\n",
    "plt.xlabel(\"Precio (euros)\")\n",
    "plt.ylabel(\"Cantidad\")\n",
    "\n",
    "plt.show()"
   ]
  },
  {
   "cell_type": "markdown",
   "metadata": {},
   "source": [
    "Vemos que existen muchos coches con un precio más bajo, y que, para precios más elevados, se reduce el número. Para corregir esto, y aumentar la eficacia del modelo predictivo, vamos a aplicar una transformación logarítmica a la columna ```\"precio\"```, de modo que los datos tiendan a una distribución normal. \n",
    "\n",
    "Al final, cuando ya esté hecho el modelo, habrá que deshacer esta transformación para obtener el precio real del vehículo a predecir."
   ]
  },
  {
   "cell_type": "code",
   "execution_count": 54,
   "metadata": {},
   "outputs": [],
   "source": [
    "# Transformación logarítmica del target\n",
    "\n",
    "df[\"precio\"] = np.log(df[\"precio\"])"
   ]
  },
  {
   "cell_type": "code",
   "execution_count": 56,
   "metadata": {},
   "outputs": [
    {
     "name": "stderr",
     "output_type": "stream",
     "text": [
      "c:\\Users\\alberto.pintos\\AppData\\Local\\anaconda3\\Lib\\site-packages\\seaborn\\_oldcore.py:1119: FutureWarning: use_inf_as_na option is deprecated and will be removed in a future version. Convert inf values to NaN before operating instead.\n",
      "  with pd.option_context('mode.use_inf_as_na', True):\n",
      "c:\\Users\\alberto.pintos\\AppData\\Local\\anaconda3\\Lib\\site-packages\\seaborn\\axisgrid.py:118: UserWarning: The figure layout has changed to tight\n",
      "  self._figure.tight_layout(*args, **kwargs)\n"
     ]
    },
    {
     "data": {
      "text/plain": [
       "<Figure size 1200x800 with 0 Axes>"
      ]
     },
     "metadata": {},
     "output_type": "display_data"
    },
    {
     "data": {
      "image/png": "[encoded data removed]",
      "text/plain": [
       "<Figure size 500x500 with 1 Axes>"
      ]
     },
     "metadata": {},
     "output_type": "display_data"
    }
   ],
   "source": [
    "plt.figure(figsize=(12, 8))\n",
    "\n",
    "sns.displot(df[\"precio\"], color=colors[0])\n",
    "\n",
    "plt.title(\"Cantidad de coches por precio después de transformar\", fontsize=14)\n",
    "\n",
    "plt.xlabel(\"Precio transformado\")\n",
    "plt.ylabel(\"Cantidad\")\n",
    "\n",
    "plt.yticks(range(0, 1500, 250))\n",
    "\n",
    "plt.show()"
   ]
  },
  {
   "cell_type": "markdown",
   "metadata": {},
   "source": [
    "Vemos como ahora los datos del target se distibuyen de forma gaussiana, por lo que el modelo funcionará mejor.\n",
    "\n",
    "Vamos ahora a dividir los datos de X (features) e y (target)."
   ]
  },
  {
   "cell_type": "code",
   "execution_count": 57,
   "metadata": {},
   "outputs": [],
   "source": [
    "X = df.drop(\"precio\", axis=1)\n",
    "y = df[\"precio\"]"
   ]
  },
  {
   "cell_type": "code",
   "execution_count": 58,
   "metadata": {},
   "outputs": [
    {
     "data": {
      "text/html": [
       "<div>\n",
       "<style scoped>\n",
       "    .dataframe tbody tr th:only-of-type {\n",
       "        vertical-align: middle;\n",
       "    }\n",
       "\n",
       "    .dataframe tbody tr th {\n",
       "        vertical-align: top;\n",
       "    }\n",
       "\n",
       "    .dataframe thead th {\n",
       "        text-align: right;\n",
       "    }\n",
       "</style>\n",
       "<table border=\"1\" class=\"dataframe\">\n",
       "  <thead>\n",
       "    <tr style=\"text-align: right;\">\n",
       "      <th></th>\n",
       "      <th>marca</th>\n",
       "      <th>modelo</th>\n",
       "      <th>combustible</th>\n",
       "      <th>anyo_vehiculo</th>\n",
       "      <th>kilometraje</th>\n",
       "      <th>potencia</th>\n",
       "      <th>num_puertas</th>\n",
       "      <th>tipo_cambio</th>\n",
       "    </tr>\n",
       "  </thead>\n",
       "  <tbody>\n",
       "    <tr>\n",
       "      <th>0</th>\n",
       "      <td>1</td>\n",
       "      <td>356</td>\n",
       "      <td>2</td>\n",
       "      <td>2021.0</td>\n",
       "      <td>33200</td>\n",
       "      <td>190.0</td>\n",
       "      <td>5</td>\n",
       "      <td>1</td>\n",
       "    </tr>\n",
       "    <tr>\n",
       "      <th>1</th>\n",
       "      <td>6</td>\n",
       "      <td>29</td>\n",
       "      <td>1</td>\n",
       "      <td>2016.0</td>\n",
       "      <td>127300</td>\n",
       "      <td>110.0</td>\n",
       "      <td>5</td>\n",
       "      <td>0</td>\n",
       "    </tr>\n",
       "    <tr>\n",
       "      <th>2</th>\n",
       "      <td>7</td>\n",
       "      <td>143</td>\n",
       "      <td>0</td>\n",
       "      <td>2022.0</td>\n",
       "      <td>123000</td>\n",
       "      <td>100.0</td>\n",
       "      <td>5</td>\n",
       "      <td>0</td>\n",
       "    </tr>\n",
       "    <tr>\n",
       "      <th>3</th>\n",
       "      <td>2</td>\n",
       "      <td>92</td>\n",
       "      <td>1</td>\n",
       "      <td>2022.0</td>\n",
       "      <td>18150</td>\n",
       "      <td>83.0</td>\n",
       "      <td>5</td>\n",
       "      <td>0</td>\n",
       "    </tr>\n",
       "    <tr>\n",
       "      <th>4</th>\n",
       "      <td>9</td>\n",
       "      <td>110</td>\n",
       "      <td>0</td>\n",
       "      <td>2023.0</td>\n",
       "      <td>12000</td>\n",
       "      <td>150.0</td>\n",
       "      <td>5</td>\n",
       "      <td>1</td>\n",
       "    </tr>\n",
       "    <tr>\n",
       "      <th>...</th>\n",
       "      <td>...</td>\n",
       "      <td>...</td>\n",
       "      <td>...</td>\n",
       "      <td>...</td>\n",
       "      <td>...</td>\n",
       "      <td>...</td>\n",
       "      <td>...</td>\n",
       "      <td>...</td>\n",
       "    </tr>\n",
       "    <tr>\n",
       "      <th>29694</th>\n",
       "      <td>8</td>\n",
       "      <td>239</td>\n",
       "      <td>0</td>\n",
       "      <td>2019.0</td>\n",
       "      <td>21153</td>\n",
       "      <td>115.0</td>\n",
       "      <td>5</td>\n",
       "      <td>0</td>\n",
       "    </tr>\n",
       "    <tr>\n",
       "      <th>29695</th>\n",
       "      <td>7</td>\n",
       "      <td>237</td>\n",
       "      <td>0</td>\n",
       "      <td>2015.0</td>\n",
       "      <td>68750</td>\n",
       "      <td>150.0</td>\n",
       "      <td>3</td>\n",
       "      <td>0</td>\n",
       "    </tr>\n",
       "    <tr>\n",
       "      <th>29696</th>\n",
       "      <td>6</td>\n",
       "      <td>5</td>\n",
       "      <td>1</td>\n",
       "      <td>2019.0</td>\n",
       "      <td>21422</td>\n",
       "      <td>72.0</td>\n",
       "      <td>5</td>\n",
       "      <td>0</td>\n",
       "    </tr>\n",
       "    <tr>\n",
       "      <th>29697</th>\n",
       "      <td>0</td>\n",
       "      <td>289</td>\n",
       "      <td>1</td>\n",
       "      <td>2013.0</td>\n",
       "      <td>47900</td>\n",
       "      <td>450.0</td>\n",
       "      <td>5</td>\n",
       "      <td>1</td>\n",
       "    </tr>\n",
       "    <tr>\n",
       "      <th>29698</th>\n",
       "      <td>2</td>\n",
       "      <td>91</td>\n",
       "      <td>0</td>\n",
       "      <td>2006.0</td>\n",
       "      <td>106000</td>\n",
       "      <td>70.0</td>\n",
       "      <td>3</td>\n",
       "      <td>0</td>\n",
       "    </tr>\n",
       "  </tbody>\n",
       "</table>\n",
       "<p>29699 rows × 8 columns</p>\n",
       "</div>"
      ],
      "text/plain": [
       "       marca  modelo  combustible  anyo_vehiculo  kilometraje  potencia  \\\n",
       "0          1     356            2         2021.0        33200     190.0   \n",
       "1          6      29            1         2016.0       127300     110.0   \n",
       "2          7     143            0         2022.0       123000     100.0   \n",
       "3          2      92            1         2022.0        18150      83.0   \n",
       "4          9     110            0         2023.0        12000     150.0   \n",
       "...      ...     ...          ...            ...          ...       ...   \n",
       "29694      8     239            0         2019.0        21153     115.0   \n",
       "29695      7     237            0         2015.0        68750     150.0   \n",
       "29696      6       5            1         2019.0        21422      72.0   \n",
       "29697      0     289            1         2013.0        47900     450.0   \n",
       "29698      2      91            0         2006.0       106000      70.0   \n",
       "\n",
       "       num_puertas  tipo_cambio  \n",
       "0                5            1  \n",
       "1                5            0  \n",
       "2                5            0  \n",
       "3                5            0  \n",
       "4                5            1  \n",
       "...            ...          ...  \n",
       "29694            5            0  \n",
       "29695            3            0  \n",
       "29696            5            0  \n",
       "29697            5            1  \n",
       "29698            3            0  \n",
       "\n",
       "[29699 rows x 8 columns]"
      ]
     },
     "execution_count": 58,
     "metadata": {},
     "output_type": "execute_result"
    }
   ],
   "source": [
    "X"
   ]
  },
  {
   "cell_type": "markdown",
   "metadata": {},
   "source": [
    "Vamos a realizar un heatmap de las features de nuestro modelo, para ver cómo de correlacionadas están entre ellas:"
   ]
  },
  {
   "cell_type": "code",
   "execution_count": 59,
   "metadata": {},
   "outputs": [
    {
     "data": {
      "image/png": "[encoded data removed]",
      "text/plain": [
       "<Figure size 1200x800 with 2 Axes>"
      ]
     },
     "metadata": {},
     "output_type": "display_data"
    }
   ],
   "source": [
    "matriz_corr = X.corr(numeric_only=True).round(decimals=3)\n",
    "\n",
    "plt.figure(figsize=(12, 8))\n",
    "\n",
    "sns.heatmap(matriz_corr, annot=True, cmap='coolwarm', vmin=-1, vmax=1)\n",
    "\n",
    "plt.show()"
   ]
  },
  {
   "cell_type": "markdown",
   "metadata": {},
   "source": [
    "Vemos que la mayor correlación se da entre los kilómetros y el año del vehículo, y es negativa. Esto es lógico, ya que cuanto mayor sea el año (y más nuevp el coche), menor suele ser el número de kilómetros realizados.\n",
    "\n",
    "Además de esto, cabe mencionar que ninguna de las correlaciones es lo suficientemente elevada como para plantearse prescindir de alguna columna."
   ]
  },
  {
   "cell_type": "markdown",
   "metadata": {},
   "source": [
    "Separamos los datos de train y test:"
   ]
  },
  {
   "cell_type": "code",
   "execution_count": 60,
   "metadata": {},
   "outputs": [
    {
     "name": "stdout",
     "output_type": "stream",
     "text": [
      "(23759, 8)\n",
      "(5940, 8)\n",
      "(23759,)\n",
      "(5940,)\n"
     ]
    }
   ],
   "source": [
    "from sklearn.model_selection import train_test_split\n",
    "\n",
    "X_train, X_test, y_train, y_test = train_test_split(X, y, test_size=0.2, random_state=42)\n",
    "\n",
    "print(X_train.shape)\n",
    "print(X_test.shape)\n",
    "print(y_train.shape)\n",
    "print(y_test.shape)"
   ]
  },
  {
   "cell_type": "markdown",
   "metadata": {},
   "source": [
    "Vamos a escalar los datos de X entre 0 y 1:"
   ]
  },
  {
   "cell_type": "code",
   "execution_count": 61,
   "metadata": {},
   "outputs": [],
   "source": [
    "from sklearn.preprocessing import MinMaxScaler\n",
    "\n",
    "scaler = MinMaxScaler()\n",
    "\n",
    "scaler.fit(X_train)\n",
    "\n",
    "# Guardamos el Scaler\n",
    "\n",
    "with open('../include/utils/scaler.pkl', 'wb') as archivo_salida4:\n",
    "    pickle.dump(scaler, archivo_salida4)\n",
    "\n",
    "X_train = scaler.transform(X_train)\n",
    "X_test = scaler.transform(X_test)"
   ]
  },
  {
   "cell_type": "code",
   "execution_count": 62,
   "metadata": {},
   "outputs": [
    {
     "data": {
      "text/plain": [
       "array([[0.22222222, 0.24797844, 0.16666667, ..., 0.08688525, 1.        ,\n",
       "        0.        ],\n",
       "       [0.11111111, 0.83557951, 0.16666667, ..., 0.48688525, 0.        ,\n",
       "        1.        ],\n",
       "       [0.        , 0.14555256, 0.        , ..., 0.18196721, 1.        ,\n",
       "        0.        ],\n",
       "       ...,\n",
       "       [0.88888889, 0.64420485, 0.16666667, ..., 0.14098361, 1.        ,\n",
       "        0.        ],\n",
       "       [0.77777778, 0.38544474, 0.        , ..., 0.07540984, 1.        ,\n",
       "        0.        ],\n",
       "       [0.33333333, 0.50943396, 0.16666667, ..., 0.14098361, 1.        ,\n",
       "        0.        ]])"
      ]
     },
     "execution_count": 62,
     "metadata": {},
     "output_type": "execute_result"
    }
   ],
   "source": [
    "X_train"
   ]
  },
  {
   "cell_type": "markdown",
   "metadata": {},
   "source": [
    "Comenzamos la seleción del modelo de regresión. Para ello, probamos varias parametrizaciones de modelos utilizando GridSearchCV."
   ]
  },
  {
   "cell_type": "code",
   "execution_count": null,
   "metadata": {},
   "outputs": [],
   "source": [
    "# Importamos los modelos de regresión que utilizaremos\n",
    "\n",
    "from sklearn.linear_model import LinearRegression\n",
    "from sklearn.preprocessing import PolynomialFeatures\n",
    "\n",
    "from sklearn.ensemble import RandomForestRegressor\n",
    "from sklearn.ensemble import AdaBoostRegressor\n",
    "from sklearn.ensemble import GradientBoostingRegressor\n",
    "\n",
    "import xgboost\n",
    "\n",
    "from sklearn.ensemble import VotingRegressor\n",
    "\n",
    "from sklearn.model_selection import GridSearchCV\n",
    "\n",
    "from sklearn import metrics"
   ]
  },
  {
   "cell_type": "code",
   "execution_count": 66,
   "metadata": {},
   "outputs": [],
   "source": [
    "# LinearRegression??"
   ]
  },
  {
   "cell_type": "markdown",
   "metadata": {},
   "source": [
    "### 3.1. Linear Regression."
   ]
  },
  {
   "cell_type": "code",
   "execution_count": 67,
   "metadata": {},
   "outputs": [
    {
     "name": "stdout",
     "output_type": "stream",
     "text": [
      "MSE: 0.11461013111805038\n",
      "RMSE: 0.33854118083041296\n",
      "MAE: 0.23870741331869805\n",
      "MAPE: 0.0261976080078374\n",
      "r2 score: 0.8350559570096232\n"
     ]
    }
   ],
   "source": [
    "# Linear Regression\n",
    "\n",
    "param = {}\n",
    "\n",
    "gs_lin_reg = GridSearchCV(estimator=LinearRegression(), param_grid=param, cv=5, scoring=\"neg_mean_squared_error\")\n",
    "\n",
    "gs_lin_reg.fit(X_train, y_train)\n",
    "\n",
    "y_pred = gs_lin_reg.predict(X_test)\n",
    "\n",
    "print(f\"MSE: {metrics.mean_squared_error(y_test, y_pred)}\")\n",
    "print(f\"RMSE: {np.sqrt(metrics.mean_squared_error(y_test, y_pred))}\")\n",
    "print(f\"MAE: {metrics.mean_absolute_error(y_test, y_pred)}\")\n",
    "print(f\"MAPE: {metrics.mean_absolute_percentage_error(y_test, y_pred)}\")\n",
    "\n",
    "print(f\"r2 score: {metrics.r2_score(y_test, y_pred)}\")"
   ]
  },
  {
   "cell_type": "markdown",
   "metadata": {},
   "source": [
    "### 3.2. Polynomial Regression."
   ]
  },
  {
   "cell_type": "code",
   "execution_count": 70,
   "metadata": {},
   "outputs": [
    {
     "name": "stdout",
     "output_type": "stream",
     "text": [
      "Poly Degree 1:\n",
      "MSE: 0.11461013111804957\n",
      "RMSE: 0.3385411808304118\n",
      "MAE: 0.23870741331869574\n",
      "MAPE: 0.026197608007837523\n",
      "r2 score: 0.8350559570096244\n",
      " \n",
      "Poly Degree 2:\n",
      "MSE: 0.08969448465760148\n",
      "RMSE: 0.2994903748997645\n",
      "MAE: 0.20880008952004817\n",
      "MAPE: 0.02296056967485811\n",
      "r2 score: 0.8709139341431829\n",
      " \n",
      "Poly Degree 3:\n",
      "MSE: 0.07531957401464005\n",
      "RMSE: 0.2744441182001175\n",
      "MAE: 0.1849798011154453\n",
      "MAPE: 0.02045669961142007\n",
      "r2 score: 0.891601947113286\n",
      " \n",
      "Poly Degree 4:\n",
      "MSE: 0.07132395700256919\n",
      "RMSE: 0.26706545452860275\n",
      "MAE: 0.17608620688370796\n",
      "MAPE: 0.019463395613474915\n",
      "r2 score: 0.8973523394894474\n",
      " \n",
      "Poly Degree 5:\n",
      "MSE: 0.0712422159219938\n",
      "RMSE: 0.2669123749884853\n",
      "MAE: 0.17137233242708003\n",
      "MAPE: 0.018930735957661968\n",
      "r2 score: 0.897469979214461\n",
      " \n"
     ]
    }
   ],
   "source": [
    "# Polynomial Regression\n",
    "\n",
    "param = {}\n",
    "\n",
    "for degree in range(1, 6):\n",
    "\n",
    "    poly_feat = PolynomialFeatures(degree = degree)\n",
    "\n",
    "    poly_feat.fit(X_train)\n",
    "\n",
    "    X_train_poly = poly_feat.transform(X_train)\n",
    "    X_test_poly = poly_feat.transform(X_test)\n",
    "\n",
    "\n",
    "    gs_poly = GridSearchCV(estimator=LinearRegression(), param_grid=param, cv=5, scoring=\"neg_mean_squared_error\")\n",
    "\n",
    "    gs_poly.fit(X_train_poly, y_train)\n",
    "\n",
    "    y_pred = gs_poly.predict(X_test_poly)\n",
    "\n",
    "    print(f\"Poly Degree {degree}:\")\n",
    "\n",
    "    print(f\"MSE: {metrics.mean_squared_error(y_test, y_pred)}\")\n",
    "    print(f\"RMSE: {np.sqrt(metrics.mean_squared_error(y_test, y_pred))}\")\n",
    "    print(f\"MAE: {metrics.mean_absolute_error(y_test, y_pred)}\")\n",
    "    print(f\"MAPE: {metrics.mean_absolute_percentage_error(y_test, y_pred)}\")\n",
    "\n",
    "    print(f\"r2 score: {metrics.r2_score(y_test, y_pred)}\")\n",
    "    print(\" \")"
   ]
  },
  {
   "cell_type": "code",
   "execution_count": 71,
   "metadata": {},
   "outputs": [
    {
     "name": "stdout",
     "output_type": "stream",
     "text": [
      "Poly Degree 5:\n",
      "MSE: 0.0712422159219938\n",
      "RMSE: 0.2669123749884853\n",
      "MAE: 0.17137233242708003\n",
      "MAPE: 0.018930735957661968\n",
      "r2 score: 0.897469979214461\n"
     ]
    }
   ],
   "source": [
    "# El mejor es el de grado 5:\n",
    "\n",
    "degree = 5\n",
    "poly_feat = PolynomialFeatures(degree = degree)\n",
    "\n",
    "poly_feat.fit(X_train)\n",
    "\n",
    "X_train_poly = poly_feat.transform(X_train)\n",
    "X_test_poly = poly_feat.transform(X_test)\n",
    "\n",
    "\n",
    "best_poly_model = GridSearchCV(estimator=LinearRegression(), param_grid=param, cv=5, scoring=\"neg_mean_squared_error\")\n",
    "\n",
    "best_poly_model.fit(X_train_poly, y_train)\n",
    "\n",
    "y_pred = best_poly_model.predict(X_test_poly)\n",
    "\n",
    "print(f\"Poly Degree {degree}:\")\n",
    "\n",
    "print(f\"MSE: {metrics.mean_squared_error(y_test, y_pred)}\")\n",
    "print(f\"RMSE: {np.sqrt(metrics.mean_squared_error(y_test, y_pred))}\")\n",
    "print(f\"MAE: {metrics.mean_absolute_error(y_test, y_pred)}\")\n",
    "print(f\"MAPE: {metrics.mean_absolute_percentage_error(y_test, y_pred)}\")\n",
    "\n",
    "print(f\"r2 score: {metrics.r2_score(y_test, y_pred)}\")"
   ]
  },
  {
   "cell_type": "markdown",
   "metadata": {},
   "source": [
    "### 3.3. RandomForest."
   ]
  },
  {
   "cell_type": "code",
   "execution_count": 72,
   "metadata": {},
   "outputs": [
    {
     "name": "stdout",
     "output_type": "stream",
     "text": [
      "MSE: 0.05245973242634091\n",
      "RMSE: 0.2290408968423345\n",
      "MAE: 0.1432143737308114\n",
      "MAPE: 0.0159770832604703\n",
      "r2 score: 0.9245012611347475\n"
     ]
    }
   ],
   "source": [
    "# RandomForest\n",
    "\n",
    "param = {\"n_estimators\":[50, 100, 300], \"max_depth\":[3, 5, 9, 15, 33], \"n_jobs\":[-1], \"random_state\":[42]}\n",
    "\n",
    "gs_rf = GridSearchCV(estimator=RandomForestRegressor(), param_grid=param, cv=5, scoring=\"neg_mean_squared_error\")\n",
    "\n",
    "gs_rf.fit(X_train, y_train)\n",
    "\n",
    "y_pred = gs_rf.predict(X_test)\n",
    "\n",
    "print(f\"MSE: {metrics.mean_squared_error(y_test, y_pred)}\")\n",
    "print(f\"RMSE: {np.sqrt(metrics.mean_squared_error(y_test, y_pred))}\")\n",
    "print(f\"MAE: {metrics.mean_absolute_error(y_test, y_pred)}\")\n",
    "print(f\"MAPE: {metrics.mean_absolute_percentage_error(y_test, y_pred)}\")\n",
    "\n",
    "print(f\"r2 score: {metrics.r2_score(y_test, y_pred)}\")"
   ]
  },
  {
   "cell_type": "code",
   "execution_count": 73,
   "metadata": {},
   "outputs": [
    {
     "data": {
      "text/plain": [
       "{'max_depth': 33, 'n_estimators': 300, 'n_jobs': -1, 'random_state': 42}"
      ]
     },
     "execution_count": 73,
     "metadata": {},
     "output_type": "execute_result"
    }
   ],
   "source": [
    "gs_rf.best_params_"
   ]
  },
  {
   "cell_type": "markdown",
   "metadata": {},
   "source": [
    "### 3.4. ADA Boost Regression."
   ]
  },
  {
   "cell_type": "code",
   "execution_count": 74,
   "metadata": {},
   "outputs": [
    {
     "name": "stdout",
     "output_type": "stream",
     "text": [
      "MSE: 0.12913964574632744\n",
      "RMSE: 0.3593600502926382\n",
      "MAE: 0.2685003649807258\n",
      "MAPE: 0.029238076979689855\n",
      "r2 score: 0.8141454418387843\n"
     ]
    }
   ],
   "source": [
    "# ADA\n",
    "\n",
    "param = {\"n_estimators\":[50, 100, 300], \"learning_rate\":np.arange(0.1, 1.1, 0.1), \"random_state\":[42]}\n",
    "\n",
    "gs_ada = GridSearchCV(estimator=AdaBoostRegressor(), param_grid=param, cv=5, scoring=\"neg_mean_squared_error\")\n",
    "\n",
    "gs_ada.fit(X_train, y_train)\n",
    "\n",
    "y_pred = gs_ada.predict(X_test)\n",
    "\n",
    "print(f\"MSE: {metrics.mean_squared_error(y_test, y_pred)}\")\n",
    "print(f\"RMSE: {np.sqrt(metrics.mean_squared_error(y_test, y_pred))}\")\n",
    "print(f\"MAE: {metrics.mean_absolute_error(y_test, y_pred)}\")\n",
    "print(f\"MAPE: {metrics.mean_absolute_percentage_error(y_test, y_pred)}\")\n",
    "\n",
    "print(f\"r2 score: {metrics.r2_score(y_test, y_pred)}\")"
   ]
  },
  {
   "cell_type": "code",
   "execution_count": 75,
   "metadata": {},
   "outputs": [
    {
     "data": {
      "text/plain": [
       "-0.1272252746038315"
      ]
     },
     "execution_count": 75,
     "metadata": {},
     "output_type": "execute_result"
    }
   ],
   "source": [
    "gs_ada.best_score_"
   ]
  },
  {
   "cell_type": "code",
   "execution_count": 76,
   "metadata": {},
   "outputs": [
    {
     "data": {
      "text/plain": [
       "{'learning_rate': 0.4, 'n_estimators': 100, 'random_state': 42}"
      ]
     },
     "execution_count": 76,
     "metadata": {},
     "output_type": "execute_result"
    }
   ],
   "source": [
    "gs_ada.best_params_"
   ]
  },
  {
   "cell_type": "markdown",
   "metadata": {},
   "source": [
    "### 3.5. Gradient Boosting Regression."
   ]
  },
  {
   "cell_type": "code",
   "execution_count": 77,
   "metadata": {},
   "outputs": [
    {
     "name": "stdout",
     "output_type": "stream",
     "text": [
      "MSE: 0.04443449167430775\n",
      "RMSE: 0.210794904289235\n",
      "MAE: 0.14072856066304698\n",
      "MAPE: 0.015624269353422865\n",
      "r2 score: 0.9360509875219203\n"
     ]
    }
   ],
   "source": [
    "# Gradient Boost\n",
    "\n",
    "param = {\"n_estimators\":[50, 100, 300], \"learning_rate\":np.arange(0.1, 1.1, 0.1), \"random_state\":[42]}\n",
    "\n",
    "gs_gb = GridSearchCV(estimator=GradientBoostingRegressor(), param_grid=param, cv=5, scoring=\"neg_mean_squared_error\")\n",
    "\n",
    "gs_gb.fit(X_train, y_train)\n",
    "\n",
    "y_pred = gs_gb.predict(X_test)\n",
    "\n",
    "print(f\"MSE: {metrics.mean_squared_error(y_test, y_pred)}\")\n",
    "print(f\"RMSE: {np.sqrt(metrics.mean_squared_error(y_test, y_pred))}\")\n",
    "print(f\"MAE: {metrics.mean_absolute_error(y_test, y_pred)}\")\n",
    "print(f\"MAPE: {metrics.mean_absolute_percentage_error(y_test, y_pred)}\")\n",
    "\n",
    "print(f\"r2 score: {metrics.r2_score(y_test, y_pred)}\")"
   ]
  },
  {
   "cell_type": "markdown",
   "metadata": {},
   "source": [
    "### 3.6. XGradient Boosting Regression."
   ]
  },
  {
   "cell_type": "code",
   "execution_count": 78,
   "metadata": {},
   "outputs": [
    {
     "name": "stdout",
     "output_type": "stream",
     "text": [
      "MSE: 0.04557942078419423\n",
      "RMSE: 0.21349337409904373\n",
      "MAE: 0.13764354696548495\n",
      "MAPE: 0.015311936673952017\n",
      "r2 score: 0.9344032340948909\n"
     ]
    }
   ],
   "source": [
    "# XG Boost\n",
    "\n",
    "param = {}\n",
    "\n",
    "gs_xgb = GridSearchCV(estimator=xgboost.XGBRegressor(), param_grid=param, cv=5, scoring=\"neg_mean_squared_error\")\n",
    "\n",
    "gs_xgb.fit(X_train, y_train)\n",
    "\n",
    "y_pred = gs_xgb.predict(X_test)\n",
    "\n",
    "print(f\"MSE: {metrics.mean_squared_error(y_test, y_pred)}\")\n",
    "print(f\"RMSE: {np.sqrt(metrics.mean_squared_error(y_test, y_pred))}\")\n",
    "print(f\"MAE: {metrics.mean_absolute_error(y_test, y_pred)}\")\n",
    "print(f\"MAPE: {metrics.mean_absolute_percentage_error(y_test, y_pred)}\")\n",
    "\n",
    "print(f\"r2 score: {metrics.r2_score(y_test, y_pred)}\")"
   ]
  },
  {
   "cell_type": "markdown",
   "metadata": {},
   "source": [
    "### 3.7. Voting."
   ]
  },
  {
   "cell_type": "code",
   "execution_count": 79,
   "metadata": {},
   "outputs": [
    {
     "name": "stdout",
     "output_type": "stream",
     "text": [
      "MSE: 0.053497701952873\n",
      "RMSE: 0.23129570240900066\n",
      "MAE: 0.15609829313481452\n",
      "MAPE: 0.017271840387161876\n",
      "r2 score: 0.9230074412731275\n"
     ]
    }
   ],
   "source": [
    "# Voting\n",
    "\n",
    "# param = {\"estimators\":[gs_lin_reg.best_estimator_, best_poly_model.best_estimator_, gs_rf.best_estimator_, gs_ada.best_estimator_, gs_gb.best_estimator_, gs_xgb.best_estimator_],\n",
    "#          \"n_jobs\":[-1]}\n",
    "\n",
    "gs_voting = VotingRegressor(estimators=[(\"lin_reg\", gs_lin_reg.best_estimator_), (\"rf\", gs_rf.best_estimator_), (\"ada\", gs_ada.best_estimator_), (\"gb\", gs_gb.best_estimator_), (\"xgb\", gs_xgb.best_estimator_)],\n",
    "                            n_jobs=-1,)\n",
    "\n",
    "gs_voting.fit(X_train, y_train)\n",
    "\n",
    "y_pred = gs_voting.predict(X_test)\n",
    "\n",
    "print(f\"MSE: {metrics.mean_squared_error(y_test, y_pred)}\")\n",
    "print(f\"RMSE: {np.sqrt(metrics.mean_squared_error(y_test, y_pred))}\")\n",
    "print(f\"MAE: {metrics.mean_absolute_error(y_test, y_pred)}\")\n",
    "print(f\"MAPE: {metrics.mean_absolute_percentage_error(y_test, y_pred)}\")\n",
    "\n",
    "print(f\"r2 score: {metrics.r2_score(y_test, y_pred)}\")"
   ]
  },
  {
   "cell_type": "markdown",
   "metadata": {},
   "source": [
    "El Voting da peor. El modelo con mejores métricas es el Gradient Boosting Regressor, aunque el XGradient Boosting y el RandomForest también estaba cerca. "
   ]
  },
  {
   "cell_type": "markdown",
   "metadata": {},
   "source": [
    "## 4. Selección y análisis del mejor modelo."
   ]
  },
  {
   "cell_type": "markdown",
   "metadata": {},
   "source": [
    "### 4.1. Selección de modelo:"
   ]
  },
  {
   "cell_type": "markdown",
   "metadata": {},
   "source": [
    "Vamos a comparar en una tabla el resultado obtenido para el MSE de test en cada modelo, ya que es la métrica que estamos utilizando, con el fin de elegir el mejor:"
   ]
  },
  {
   "cell_type": "code",
   "execution_count": 80,
   "metadata": {},
   "outputs": [
    {
     "data": {
      "text/html": [
       "<div>\n",
       "<style scoped>\n",
       "    .dataframe tbody tr th:only-of-type {\n",
       "        vertical-align: middle;\n",
       "    }\n",
       "\n",
       "    .dataframe tbody tr th {\n",
       "        vertical-align: top;\n",
       "    }\n",
       "\n",
       "    .dataframe thead th {\n",
       "        text-align: right;\n",
       "    }\n",
       "</style>\n",
       "<table border=\"1\" class=\"dataframe\">\n",
       "  <thead>\n",
       "    <tr style=\"text-align: right;\">\n",
       "      <th></th>\n",
       "      <th>Modelo</th>\n",
       "      <th>MSE</th>\n",
       "      <th>MAE</th>\n",
       "      <th>r2 score</th>\n",
       "    </tr>\n",
       "  </thead>\n",
       "  <tbody>\n",
       "    <tr>\n",
       "      <th>0</th>\n",
       "      <td>Gradient Boost</td>\n",
       "      <td>0.0444</td>\n",
       "      <td>0.1407</td>\n",
       "      <td>0.9361</td>\n",
       "    </tr>\n",
       "    <tr>\n",
       "      <th>1</th>\n",
       "      <td>XG Boost</td>\n",
       "      <td>0.0456</td>\n",
       "      <td>0.1376</td>\n",
       "      <td>0.9344</td>\n",
       "    </tr>\n",
       "    <tr>\n",
       "      <th>2</th>\n",
       "      <td>RandomForest</td>\n",
       "      <td>0.0525</td>\n",
       "      <td>0.1432</td>\n",
       "      <td>0.9245</td>\n",
       "    </tr>\n",
       "    <tr>\n",
       "      <th>3</th>\n",
       "      <td>Voting</td>\n",
       "      <td>0.0535</td>\n",
       "      <td>0.1561</td>\n",
       "      <td>0.9230</td>\n",
       "    </tr>\n",
       "    <tr>\n",
       "      <th>4</th>\n",
       "      <td>Polynomial Regression (grado 5)</td>\n",
       "      <td>0.0712</td>\n",
       "      <td>0.1714</td>\n",
       "      <td>0.8975</td>\n",
       "    </tr>\n",
       "    <tr>\n",
       "      <th>5</th>\n",
       "      <td>Linear Regression</td>\n",
       "      <td>0.1146</td>\n",
       "      <td>0.2387</td>\n",
       "      <td>0.8351</td>\n",
       "    </tr>\n",
       "    <tr>\n",
       "      <th>6</th>\n",
       "      <td>ADA Boost</td>\n",
       "      <td>0.1291</td>\n",
       "      <td>0.2685</td>\n",
       "      <td>0.8142</td>\n",
       "    </tr>\n",
       "  </tbody>\n",
       "</table>\n",
       "</div>"
      ],
      "text/plain": [
       "                            Modelo     MSE     MAE  r2 score\n",
       "0                   Gradient Boost  0.0444  0.1407    0.9361\n",
       "1                         XG Boost  0.0456  0.1376    0.9344\n",
       "2                     RandomForest  0.0525  0.1432    0.9245\n",
       "3                           Voting  0.0535  0.1561    0.9230\n",
       "4  Polynomial Regression (grado 5)  0.0712  0.1714    0.8975\n",
       "5                Linear Regression  0.1146  0.2387    0.8351\n",
       "6                        ADA Boost  0.1291  0.2685    0.8142"
      ]
     },
     "execution_count": 80,
     "metadata": {},
     "output_type": "execute_result"
    }
   ],
   "source": [
    "df_comp_modelos = pd.DataFrame({\"Modelo\":[\"Linear Regression\", \"Polynomial Regression (grado 5)\", \"RandomForest\", \"ADA Boost\", \"Gradient Boost\", \"XG Boost\", \"Voting\"],\n",
    "                                \"MSE\":[0.1146, 0.0712, 0.0525, 0.1291, 0.0444, 0.0456, 0.0535],\n",
    "                                \"MAE\":[0.2387, 0.1714, 0.1432, 0.2685, 0.1407, 0.1376, 0.1561],\n",
    "                                \"r2 score\":[0.8351, 0.8975, 0.9245, 0.8142, 0.9361, 0.9344, 0.9230]})\n",
    "\n",
    "df_comp_modelos = df_comp_modelos.sort_values(\"MSE\", ascending=True).reset_index(drop=True)\n",
    "df_comp_modelos"
   ]
  },
  {
   "cell_type": "markdown",
   "metadata": {},
   "source": [
    "Vemos que el mejor modelo es el Gradient Boost, aunque está muy cerca el XGBoost. Vamos a quedarnos con el XGBoost, ya que su tiempo de entrenamiento es mucho menor y los resultados muy similares, y también con el RandomForest, ya que su funcionamiento es distinto y sus resultados están bastante cerca, por lo que puede sernos útil para comparar.\n",
    "\n",
    "Cabe destacar que el MAE representado en la tabla anterior no se corresponde con el error medio en la predicción del modelo sobre el precio del vehículo, ya que hemos aplicado una transformación logarítmica a este precio. Más adelante veremos el MAE y el MSE reales del mejor modelo, una vez aplicada la transformación inversa. "
   ]
  },
  {
   "cell_type": "markdown",
   "metadata": {},
   "source": [
    "Vamos a ver si podemos mejorar algo de estos dos modelos mirando la importancia de las columnas (features) y realizando alguna modificación. Comenzamos con el RandomForest:"
   ]
  },
  {
   "cell_type": "code",
   "execution_count": 81,
   "metadata": {},
   "outputs": [
    {
     "data": {
      "text/plain": [
       "array([0.02460727, 0.0320876 , 0.00499191, 0.57098731, 0.07337544,\n",
       "       0.28391704, 0.00341773, 0.00661569])"
      ]
     },
     "execution_count": 81,
     "metadata": {},
     "output_type": "execute_result"
    }
   ],
   "source": [
    "gs_rf.best_estimator_.feature_importances_"
   ]
  },
  {
   "cell_type": "markdown",
   "metadata": {},
   "source": [
    "Realizamos un dataframe con la importancia de las cada columna en el modelo RandomForest:"
   ]
  },
  {
   "cell_type": "code",
   "execution_count": 89,
   "metadata": {},
   "outputs": [
    {
     "data": {
      "text/html": [
       "<div>\n",
       "<style scoped>\n",
       "    .dataframe tbody tr th:only-of-type {\n",
       "        vertical-align: middle;\n",
       "    }\n",
       "\n",
       "    .dataframe tbody tr th {\n",
       "        vertical-align: top;\n",
       "    }\n",
       "\n",
       "    .dataframe thead th {\n",
       "        text-align: right;\n",
       "    }\n",
       "</style>\n",
       "<table border=\"1\" class=\"dataframe\">\n",
       "  <thead>\n",
       "    <tr style=\"text-align: right;\">\n",
       "      <th></th>\n",
       "      <th>Feature Importance</th>\n",
       "    </tr>\n",
       "  </thead>\n",
       "  <tbody>\n",
       "    <tr>\n",
       "      <th>anyo_vehiculo</th>\n",
       "      <td>0.570987</td>\n",
       "    </tr>\n",
       "    <tr>\n",
       "      <th>potencia</th>\n",
       "      <td>0.283917</td>\n",
       "    </tr>\n",
       "    <tr>\n",
       "      <th>kilometraje</th>\n",
       "      <td>0.073375</td>\n",
       "    </tr>\n",
       "    <tr>\n",
       "      <th>modelo</th>\n",
       "      <td>0.032088</td>\n",
       "    </tr>\n",
       "    <tr>\n",
       "      <th>marca</th>\n",
       "      <td>0.024607</td>\n",
       "    </tr>\n",
       "    <tr>\n",
       "      <th>tipo_cambio</th>\n",
       "      <td>0.006616</td>\n",
       "    </tr>\n",
       "    <tr>\n",
       "      <th>combustible</th>\n",
       "      <td>0.004992</td>\n",
       "    </tr>\n",
       "    <tr>\n",
       "      <th>num_puertas</th>\n",
       "      <td>0.003418</td>\n",
       "    </tr>\n",
       "  </tbody>\n",
       "</table>\n",
       "</div>"
      ],
      "text/plain": [
       "               Feature Importance\n",
       "anyo_vehiculo            0.570987\n",
       "potencia                 0.283917\n",
       "kilometraje              0.073375\n",
       "modelo                   0.032088\n",
       "marca                    0.024607\n",
       "tipo_cambio              0.006616\n",
       "combustible              0.004992\n",
       "num_puertas              0.003418"
      ]
     },
     "execution_count": 89,
     "metadata": {},
     "output_type": "execute_result"
    }
   ],
   "source": [
    "df_feat_imp_rf = pd.DataFrame(gs_rf.best_estimator_.feature_importances_, index=X.columns)\n",
    "df_feat_imp_rf = df_feat_imp_rf.rename(columns={0:\"Feature Importance\"}).sort_values(\"Feature Importance\", ascending=False)\n",
    "df_feat_imp_rf"
   ]
  },
  {
   "cell_type": "code",
   "execution_count": null,
   "metadata": {},
   "outputs": [
    {
     "data": {
      "image/png": "[encoded data removed]",
      "text/plain": [
       "<Figure size 1000x600 with 1 Axes>"
      ]
     },
     "metadata": {},
     "output_type": "display_data"
    }
   ],
   "source": [
    "import matplotlib.pyplot as plt\n",
    "import seaborn as sns\n",
    "\n",
    "plt.figure(figsize=(10, 6)) \n",
    "\n",
    "\n",
    "df_feat_imp_rf = df_feat_imp_rf.reset_index() \n",
    "df_feat_imp_rf.rename(columns={'index': 'Feature'}, inplace=True)\n",
    "\n",
    "sns.barplot(data=df_feat_imp_rf, x='Feature', y='Feature Importance', color=colors[0])\n",
    "\n",
    "plt.title(\"Importancia de cada feature en el modelo RandomForest\", fontsize=16)\n",
    "plt.xlabel(\"Feature\")\n",
    "plt.ylabel(\"Importancia\")\n",
    "\n",
    "plt.xticks(rotation=45)\n",
    "plt.tight_layout()\n",
    "plt.show()"
   ]
  },
  {
   "cell_type": "markdown",
   "metadata": {},
   "source": [
    "Se observa cómo las columnas con más importancia en el precio de un coche de segunda mano son, según nuestro modelo RandomForest, el año de matriculación, potencia del motor y kms recorridos. Las columnas de modelo y marca del coche también tienen algo de importancia, y las demás (tipo de cambio, combustible y número de puertas) tienen una importancia mucho menor.\n",
    "\n",
    "Por esto, vamos a probar a hacer un Random Forest, con la misma parametrización que el mejor de antes, pero quitando las columnas menos importantes: ```[\"tipo_cambio\", \"combustible\", \"num_puertas\"]```, a ver si mejora el modelo."
   ]
  },
  {
   "cell_type": "code",
   "execution_count": 91,
   "metadata": {},
   "outputs": [
    {
     "data": {
      "text/html": [
       "<div>\n",
       "<style scoped>\n",
       "    .dataframe tbody tr th:only-of-type {\n",
       "        vertical-align: middle;\n",
       "    }\n",
       "\n",
       "    .dataframe tbody tr th {\n",
       "        vertical-align: top;\n",
       "    }\n",
       "\n",
       "    .dataframe thead th {\n",
       "        text-align: right;\n",
       "    }\n",
       "</style>\n",
       "<table border=\"1\" class=\"dataframe\">\n",
       "  <thead>\n",
       "    <tr style=\"text-align: right;\">\n",
       "      <th></th>\n",
       "      <th>marca</th>\n",
       "      <th>modelo</th>\n",
       "      <th>anyo_vehiculo</th>\n",
       "      <th>kilometraje</th>\n",
       "      <th>potencia</th>\n",
       "    </tr>\n",
       "  </thead>\n",
       "  <tbody>\n",
       "    <tr>\n",
       "      <th>0</th>\n",
       "      <td>1</td>\n",
       "      <td>356</td>\n",
       "      <td>2021.0</td>\n",
       "      <td>33200</td>\n",
       "      <td>190.0</td>\n",
       "    </tr>\n",
       "    <tr>\n",
       "      <th>1</th>\n",
       "      <td>6</td>\n",
       "      <td>29</td>\n",
       "      <td>2016.0</td>\n",
       "      <td>127300</td>\n",
       "      <td>110.0</td>\n",
       "    </tr>\n",
       "    <tr>\n",
       "      <th>2</th>\n",
       "      <td>7</td>\n",
       "      <td>143</td>\n",
       "      <td>2022.0</td>\n",
       "      <td>123000</td>\n",
       "      <td>100.0</td>\n",
       "    </tr>\n",
       "    <tr>\n",
       "      <th>3</th>\n",
       "      <td>2</td>\n",
       "      <td>92</td>\n",
       "      <td>2022.0</td>\n",
       "      <td>18150</td>\n",
       "      <td>83.0</td>\n",
       "    </tr>\n",
       "    <tr>\n",
       "      <th>4</th>\n",
       "      <td>9</td>\n",
       "      <td>110</td>\n",
       "      <td>2023.0</td>\n",
       "      <td>12000</td>\n",
       "      <td>150.0</td>\n",
       "    </tr>\n",
       "    <tr>\n",
       "      <th>...</th>\n",
       "      <td>...</td>\n",
       "      <td>...</td>\n",
       "      <td>...</td>\n",
       "      <td>...</td>\n",
       "      <td>...</td>\n",
       "    </tr>\n",
       "    <tr>\n",
       "      <th>29694</th>\n",
       "      <td>8</td>\n",
       "      <td>239</td>\n",
       "      <td>2019.0</td>\n",
       "      <td>21153</td>\n",
       "      <td>115.0</td>\n",
       "    </tr>\n",
       "    <tr>\n",
       "      <th>29695</th>\n",
       "      <td>7</td>\n",
       "      <td>237</td>\n",
       "      <td>2015.0</td>\n",
       "      <td>68750</td>\n",
       "      <td>150.0</td>\n",
       "    </tr>\n",
       "    <tr>\n",
       "      <th>29696</th>\n",
       "      <td>6</td>\n",
       "      <td>5</td>\n",
       "      <td>2019.0</td>\n",
       "      <td>21422</td>\n",
       "      <td>72.0</td>\n",
       "    </tr>\n",
       "    <tr>\n",
       "      <th>29697</th>\n",
       "      <td>0</td>\n",
       "      <td>289</td>\n",
       "      <td>2013.0</td>\n",
       "      <td>47900</td>\n",
       "      <td>450.0</td>\n",
       "    </tr>\n",
       "    <tr>\n",
       "      <th>29698</th>\n",
       "      <td>2</td>\n",
       "      <td>91</td>\n",
       "      <td>2006.0</td>\n",
       "      <td>106000</td>\n",
       "      <td>70.0</td>\n",
       "    </tr>\n",
       "  </tbody>\n",
       "</table>\n",
       "<p>29699 rows × 5 columns</p>\n",
       "</div>"
      ],
      "text/plain": [
       "       marca  modelo  anyo_vehiculo  kilometraje  potencia\n",
       "0          1     356         2021.0        33200     190.0\n",
       "1          6      29         2016.0       127300     110.0\n",
       "2          7     143         2022.0       123000     100.0\n",
       "3          2      92         2022.0        18150      83.0\n",
       "4          9     110         2023.0        12000     150.0\n",
       "...      ...     ...            ...          ...       ...\n",
       "29694      8     239         2019.0        21153     115.0\n",
       "29695      7     237         2015.0        68750     150.0\n",
       "29696      6       5         2019.0        21422      72.0\n",
       "29697      0     289         2013.0        47900     450.0\n",
       "29698      2      91         2006.0       106000      70.0\n",
       "\n",
       "[29699 rows x 5 columns]"
      ]
     },
     "execution_count": 91,
     "metadata": {},
     "output_type": "execute_result"
    }
   ],
   "source": [
    "# RF 2\n",
    "\n",
    "X_rf_2 = X.drop(columns=[\"tipo_cambio\", \"combustible\", \"num_puertas\"])\n",
    "X_rf_2"
   ]
  },
  {
   "cell_type": "code",
   "execution_count": 92,
   "metadata": {},
   "outputs": [
    {
     "name": "stdout",
     "output_type": "stream",
     "text": [
      "(23759, 5)\n",
      "(5940, 5)\n",
      "(23759,)\n",
      "(5940,)\n"
     ]
    }
   ],
   "source": [
    "from sklearn.model_selection import train_test_split\n",
    "\n",
    "X_train_rf2, X_test_rf2, y_train_rf2, y_test_rf2 = train_test_split(X_rf_2, y, test_size=0.2, random_state=42)\n",
    "\n",
    "print(X_train_rf2.shape)\n",
    "print(X_test_rf2.shape)\n",
    "print(y_train_rf2.shape)\n",
    "print(y_test_rf2.shape)"
   ]
  },
  {
   "cell_type": "code",
   "execution_count": 93,
   "metadata": {},
   "outputs": [],
   "source": [
    "from sklearn.preprocessing import MinMaxScaler\n",
    "\n",
    "scaler = MinMaxScaler()\n",
    "\n",
    "scaler.fit(X_train_rf2)\n",
    "X_train_rf2 = scaler.transform(X_train_rf2)\n",
    "X_test_rf2 = scaler.transform(X_test_rf2)"
   ]
  },
  {
   "cell_type": "code",
   "execution_count": 94,
   "metadata": {},
   "outputs": [
    {
     "name": "stdout",
     "output_type": "stream",
     "text": [
      "MSE: 0.055758710357681825\n",
      "RMSE: 0.23613282354997117\n",
      "MAE: 0.14799043130934064\n",
      "MAPE: 0.016508326874130987\n",
      "r2 score: 0.9197534543534175\n"
     ]
    }
   ],
   "source": [
    "# RandomForest\n",
    "\n",
    "# param = {\"n_estimators\":[50, 100, 300], \"max_depth\":[3, 5, 9, 15, 33], \"n_jobs\":[-1], \"random_state\":[42]}\n",
    "\n",
    "rf2 = RandomForestRegressor(n_estimators=300, max_depth=33, n_jobs=-1, random_state=42)\n",
    "\n",
    "rf2.fit(X_train_rf2, y_train_rf2)\n",
    "\n",
    "y_pred_rf2 = rf2.predict(X_test_rf2)\n",
    "\n",
    "print(f\"MSE: {metrics.mean_squared_error(y_test_rf2, y_pred_rf2)}\")\n",
    "print(f\"RMSE: {np.sqrt(metrics.mean_squared_error(y_test_rf2, y_pred_rf2))}\")\n",
    "print(f\"MAE: {metrics.mean_absolute_error(y_test_rf2, y_pred_rf2)}\")\n",
    "print(f\"MAPE: {metrics.mean_absolute_percentage_error(y_test_rf2, y_pred_rf2)}\")\n",
    "\n",
    "print(f\"r2 score: {metrics.r2_score(y_test_rf2, y_pred_rf2)}\")"
   ]
  },
  {
   "cell_type": "markdown",
   "metadata": {},
   "source": [
    "### 4.2. Análisis del modelo definitivo:"
   ]
  },
  {
   "cell_type": "markdown",
   "metadata": {},
   "source": [
    "Obtenemos un MSE más elevado que antes, por lo que no mejora. Nos quedamos entonces el XG Boost, que era el segundo modelo con el MSE más bajo pero más rápido que el primero. Vamos a ver la importancia de las features en este modelo:"
   ]
  },
  {
   "cell_type": "code",
   "execution_count": 95,
   "metadata": {},
   "outputs": [
    {
     "name": "stdout",
     "output_type": "stream",
     "text": [
      "MSE: 0.04557942078419423\n",
      "RMSE: 0.21349337409904373\n",
      "MAE: 0.13764354696548495\n",
      "MAPE: 0.015311936673952017\n",
      "r2 score: 0.9344032340948909\n"
     ]
    }
   ],
   "source": [
    "xgb_model = xgboost.XGBRegressor()\n",
    "\n",
    "xgb_model.fit(X_train, y_train)\n",
    "\n",
    "y_pred = xgb_model.predict(X_test)\n",
    "\n",
    "print(f\"MSE: {metrics.mean_squared_error(y_test, y_pred)}\")\n",
    "print(f\"RMSE: {np.sqrt(metrics.mean_squared_error(y_test, y_pred))}\")\n",
    "print(f\"MAE: {metrics.mean_absolute_error(y_test, y_pred)}\")\n",
    "print(f\"MAPE: {metrics.mean_absolute_percentage_error(y_test, y_pred)}\")\n",
    "\n",
    "print(f\"r2 score: {metrics.r2_score(y_test, y_pred)}\")"
   ]
  },
  {
   "cell_type": "code",
   "execution_count": 96,
   "metadata": {},
   "outputs": [
    {
     "data": {
      "text/plain": [
       "Index(['marca', 'modelo', 'combustible', 'anyo_vehiculo', 'kilometraje',\n",
       "       'potencia', 'num_puertas', 'tipo_cambio'],\n",
       "      dtype='object')"
      ]
     },
     "execution_count": 96,
     "metadata": {},
     "output_type": "execute_result"
    }
   ],
   "source": [
    "X.columns"
   ]
  },
  {
   "cell_type": "code",
   "execution_count": 97,
   "metadata": {},
   "outputs": [
    {
     "data": {
      "text/plain": [
       "array([0.05145216, 0.02008888, 0.01958242, 0.44428998, 0.03746107,\n",
       "       0.21881962, 0.01699274, 0.19131315], dtype=float32)"
      ]
     },
     "execution_count": 97,
     "metadata": {},
     "output_type": "execute_result"
    }
   ],
   "source": [
    "xgb_model.feature_importances_"
   ]
  },
  {
   "cell_type": "code",
   "execution_count": 100,
   "metadata": {},
   "outputs": [
    {
     "data": {
      "text/html": [
       "<div>\n",
       "<style scoped>\n",
       "    .dataframe tbody tr th:only-of-type {\n",
       "        vertical-align: middle;\n",
       "    }\n",
       "\n",
       "    .dataframe tbody tr th {\n",
       "        vertical-align: top;\n",
       "    }\n",
       "\n",
       "    .dataframe thead th {\n",
       "        text-align: right;\n",
       "    }\n",
       "</style>\n",
       "<table border=\"1\" class=\"dataframe\">\n",
       "  <thead>\n",
       "    <tr style=\"text-align: right;\">\n",
       "      <th></th>\n",
       "      <th>Feature Importance</th>\n",
       "    </tr>\n",
       "  </thead>\n",
       "  <tbody>\n",
       "    <tr>\n",
       "      <th>anyo_vehiculo</th>\n",
       "      <td>0.444290</td>\n",
       "    </tr>\n",
       "    <tr>\n",
       "      <th>potencia</th>\n",
       "      <td>0.218820</td>\n",
       "    </tr>\n",
       "    <tr>\n",
       "      <th>tipo_cambio</th>\n",
       "      <td>0.191313</td>\n",
       "    </tr>\n",
       "    <tr>\n",
       "      <th>marca</th>\n",
       "      <td>0.051452</td>\n",
       "    </tr>\n",
       "    <tr>\n",
       "      <th>kilometraje</th>\n",
       "      <td>0.037461</td>\n",
       "    </tr>\n",
       "    <tr>\n",
       "      <th>modelo</th>\n",
       "      <td>0.020089</td>\n",
       "    </tr>\n",
       "    <tr>\n",
       "      <th>combustible</th>\n",
       "      <td>0.019582</td>\n",
       "    </tr>\n",
       "    <tr>\n",
       "      <th>num_puertas</th>\n",
       "      <td>0.016993</td>\n",
       "    </tr>\n",
       "  </tbody>\n",
       "</table>\n",
       "</div>"
      ],
      "text/plain": [
       "               Feature Importance\n",
       "anyo_vehiculo            0.444290\n",
       "potencia                 0.218820\n",
       "tipo_cambio              0.191313\n",
       "marca                    0.051452\n",
       "kilometraje              0.037461\n",
       "modelo                   0.020089\n",
       "combustible              0.019582\n",
       "num_puertas              0.016993"
      ]
     },
     "execution_count": 100,
     "metadata": {},
     "output_type": "execute_result"
    }
   ],
   "source": [
    "df_feat_imp = pd.DataFrame(xgb_model.feature_importances_, index=X.columns)\n",
    "df_feat_imp = df_feat_imp.rename(columns={0:\"Feature Importance\"}).sort_values(\"Feature Importance\", ascending=False)\n",
    "df_feat_imp"
   ]
  },
  {
   "cell_type": "code",
   "execution_count": 102,
   "metadata": {},
   "outputs": [
    {
     "data": {
      "image/png": "[encoded data removed]",
      "text/plain": [
       "<Figure size 1000x600 with 1 Axes>"
      ]
     },
     "metadata": {},
     "output_type": "display_data"
    }
   ],
   "source": [
    "import matplotlib.pyplot as plt\n",
    "import seaborn as sns\n",
    "\n",
    "plt.figure(figsize=(10, 6))\n",
    "\n",
    "df_feat_imp = df_feat_imp.reset_index()\n",
    "df_feat_imp.rename(columns={'index': 'Feature'}, inplace=True)\n",
    "\n",
    "sns.barplot(data=df_feat_imp, x='Feature', y='Feature Importance', color=colors[0])\n",
    "\n",
    "plt.title(\"Importancia de cada feature en el modelo XG Boost\", fontsize=16)\n",
    "plt.xlabel(\"Feature\")\n",
    "plt.ylabel(\"Importancia\")\n",
    "\n",
    "plt.xticks(rotation=45)\n",
    "plt.tight_layout()\n",
    "plt.show()\n"
   ]
  },
  {
   "cell_type": "markdown",
   "metadata": {},
   "source": [
    "Ahora observamos que las columnas más importantes siguen siendo ```\"anyo_vehiculo\"``` y ```\"potencia\"```. Sin embargo, el XGBoost le da mucha más importancia a la columna ```\"tipo_cambio\"``` que el RandomForest previo, y menos a la columna ```\"kilometraje\"```. Además la importancia de las columnas menos importantes es más elevada que en el anterior modelo, por lo que no descartaremos ninguna de estas columnas.\n",
    "\n",
    "Vamos a deshacer la transformación que realizamos en la columna ```\"precio\"``` (target) para ver la dimensión real de nuestras métricas:"
   ]
  },
  {
   "cell_type": "code",
   "execution_count": 104,
   "metadata": {},
   "outputs": [
    {
     "name": "stdout",
     "output_type": "stream",
     "text": [
      "MSE: 14256628.19307195\n",
      "RMSE: 3775.7950411895968\n",
      "MAE: 1872.9885921902128\n",
      "MAPE: 0.1405485106362972\n",
      "r2 score: 0.9315665938523535\n"
     ]
    }
   ],
   "source": [
    "y_pred = xgb_model.predict(X_test)\n",
    "\n",
    "# Deshacemos la transformación logarítmica:\n",
    "y_test_final = np.exp(y_test)\n",
    "y_pred_final = np.exp(y_pred)\n",
    "\n",
    "# Claculamos las métricas reales:\n",
    "print(f\"MSE: {metrics.mean_squared_error(y_test_final, y_pred_final)}\")\n",
    "print(f\"RMSE: {np.sqrt(metrics.mean_squared_error(y_test_final, y_pred_final))}\")\n",
    "print(f\"MAE: {metrics.mean_absolute_error(y_test_final, y_pred_final)}\")\n",
    "print(f\"MAPE: {metrics.mean_absolute_percentage_error(y_test_final, y_pred_final)}\")\n",
    "\n",
    "print(f\"r2 score: {metrics.r2_score(y_test_final, y_pred_final)}\")"
   ]
  },
  {
   "cell_type": "markdown",
   "metadata": {},
   "source": [
    "Vemos que el MAE = 1873 euros. Esto significa que para cada vehículo nos podemos ir esa cantidad de dinero de media en la predicción. \n",
    "\n",
    "El RMSE es algo mayor, 3776 euros, lo cual se debe a que existen unos pocos coches cuyo error es alto, y al hacer el error cuadrático este error se hace más grande.\n",
    "\n",
    "En cuanto al MAPE, nos indica que nuestro modelo tiene un % de error medio del 14.05% sobre el precio del vehículo, el cual es algo elevado."
   ]
  },
  {
   "cell_type": "markdown",
   "metadata": {},
   "source": [
    "Vamos a exportar el modelo final:"
   ]
  },
  {
   "cell_type": "code",
   "execution_count": 107,
   "metadata": {},
   "outputs": [],
   "source": [
    "import pickle\n",
    "\n",
    "# Guardamos el modelo final:\n",
    "\n",
    "with open(\"../include/model/modelo_final.pkl\", 'wb') as archivo_salida:\n",
    "    pickle.dump(xgb_model, archivo_salida)\n"
   ]
  },
  {
   "cell_type": "markdown",
   "metadata": {},
   "source": [
    "Creamos una función que nos permita meter nuevos inputs en el formato de nuestro DataFrame inicial y extraer las variables para pasar directamente al modelo.\n",
    "\n",
    "Además, creamos otras dos funciones: una para realizar predicciones y otra para destransformar la columna target ```\"precio\"```."
   ]
  },
  {
   "cell_type": "code",
   "execution_count": 120,
   "metadata": {},
   "outputs": [],
   "source": [
    "# Función para transformar un df con nuevos inputs de la base de datos en X, y para pasar al modelo.\n",
    "\n",
    "from sklearn.preprocessing import LabelEncoder\n",
    "from sklearn.preprocessing import MinMaxScaler\n",
    "import pickle\n",
    "\n",
    "\n",
    "\n",
    "def new_input_clean(input_df):\n",
    "    '''\n",
    "    Introduce los nuevos inputs en formato DataFrame con las columnas iniciales y devuelve los datos listos para introducirlos al modelo.\n",
    "\n",
    "    El input DataFrame debe contener al menos las columnas (['marca', 'modelo', 'combustible', 'anyo_vehiculo', 'kilometraje', 'potencia', \n",
    "    'num_puertas', 'tipo_cambio'])\n",
    "    '''\n",
    "\n",
    "    excepciones = ['marca', 'modelo', 'precio', 'combustible', 'anyo_vehiculo', 'kilometraje', 'potencia', 'num_puertas', 'tipo_cambio']\n",
    "\n",
    "    # Reemplazar NaN con 0 excepto en las columnas de excepciones (las que utiliza el modelo)\n",
    "    input_df = input_df.fillna({col: 0 for col in input_df.columns if col not in excepciones})\n",
    "\n",
    "\n",
    "    input_df = input_df[excepciones]\n",
    "    input_df = input_df.drop(index=(input_df.loc[df.loc[:, \"potencia\"].isna() == True, :]).index)\n",
    "    input_df = input_df.drop(index=(input_df.loc[df.loc[:, \"tipo_cambio\"].isna() == True, :]).index)\n",
    "    input_df = input_df.dropna()\n",
    "\n",
    "    # Importamos los encodings hechos antes:\n",
    "    encoder_marca = pickle.load(open(\"../include/utils/label_encoder_marca.pkl\", 'rb'))\n",
    "    encoder_modelo = pickle.load(open(\"../include/utils/label_encoder_modelo.pkl\", 'rb'))\n",
    "\n",
    "    list(encoder_marca.classes_)\n",
    "    input_df[\"marca\"] = encoder_marca.transform(input_df[\"marca\"])\n",
    "\n",
    "    list(encoder_modelo.classes_)\n",
    "    input_df[\"modelo\"] = encoder_modelo.transform(input_df[\"modelo\"])\n",
    "\n",
    "    tipos_combustible = {\"Diésel\" : 0,\n",
    "            \"Gasolina\" : 1,\n",
    "            \"Híbrido\" : 2,\n",
    "            \"Eléctrico\" : 3,\n",
    "            \"Híbrido enchufable\" : 4, \n",
    "            \"Gas licuado (GLP)\" : 5,\n",
    "            \"Gas natural (CNG)\" : 6}\n",
    "                     \n",
    "    input_df[\"combustible\"] = input_df[\"combustible\"].map(tipos_combustible)\n",
    "\n",
    "    num_puertas = {5: 5,\n",
    "            4 : 5,\n",
    "            3 : 3,\n",
    "            2 : 3}\n",
    "    \n",
    "    input_df[\"num_puertas\"] = input_df[\"num_puertas\"].map(num_puertas)\n",
    "    \n",
    "    input_df[\"tipo_cambio\"] = input_df[\"tipo_cambio\"].apply(lambda x: 0 if x == \"Manual\" else 1)\n",
    "\n",
    "    input_df[\"precio\"] = np.log(input_df[\"precio\"])\n",
    "\n",
    "    X_input = input_df.drop(\"precio\", axis=1)\n",
    "    y_input = input_df[\"precio\"]\n",
    "    \n",
    "\n",
    "    scaler = pickle.load(open(\"../include/utils/scaler.pkl\", 'rb'))\n",
    "\n",
    "    X_input = scaler.transform(X_input)\n",
    "\n",
    "    return [X_input, y_input]\n",
    "\n",
    "# Función para hacer predicciones\n",
    "\n",
    "def predict(loaded_model, X_input):\n",
    "    return loaded_model.predict(X_input)\n",
    "\n",
    "# Función para deshacer la transformación y devolver el precio:\n",
    "\n",
    "import numpy as np\n",
    "\n",
    "def destransformar_y(y_out):\n",
    "    return np.exp(y_out)"
   ]
  },
  {
   "cell_type": "markdown",
   "metadata": {},
   "source": [
    "Vamos ahora a cargar el modelo y probarlo con un DataFrame de prueba con coches, para ver el precio que predice. "
   ]
  },
  {
   "cell_type": "code",
   "execution_count": 121,
   "metadata": {},
   "outputs": [],
   "source": [
    "import pickle\n",
    "\n",
    "loaded_model = pickle.load(open(\"../include/model/modelo_final.pkl\", 'rb'))"
   ]
  },
  {
   "cell_type": "code",
   "execution_count": 122,
   "metadata": {},
   "outputs": [
    {
     "data": {
      "text/html": [
       "<style>#sk-container-id-2 {color: black;}#sk-container-id-2 pre{padding: 0;}#sk-container-id-2 div.sk-toggleable {background-color: white;}#sk-container-id-2 label.sk-toggleable__label {cursor: pointer;display: block;width: 100%;margin-bottom: 0;padding: 0.3em;box-sizing: border-box;text-align: center;}#sk-container-id-2 label.sk-toggleable__label-arrow:before {content: \"▸\";float: left;margin-right: 0.25em;color: #696969;}#sk-container-id-2 label.sk-toggleable__label-arrow:hover:before {color: black;}#sk-container-id-2 div.sk-estimator:hover label.sk-toggleable__label-arrow:before {color: black;}#sk-container-id-2 div.sk-toggleable__content {max-height: 0;max-width: 0;overflow: hidden;text-align: left;background-color: #f0f8ff;}#sk-container-id-2 div.sk-toggleable__content pre {margin: 0.2em;color: black;border-radius: 0.25em;background-color: #f0f8ff;}#sk-container-id-2 input.sk-toggleable__control:checked~div.sk-toggleable__content {max-height: 200px;max-width: 100%;overflow: auto;}#sk-container-id-2 input.sk-toggleable__control:checked~label.sk-toggleable__label-arrow:before {content: \"▾\";}#sk-container-id-2 div.sk-estimator input.sk-toggleable__control:checked~label.sk-toggleable__label {background-color: #d4ebff;}#sk-container-id-2 div.sk-label input.sk-toggleable__control:checked~label.sk-toggleable__label {background-color: #d4ebff;}#sk-container-id-2 input.sk-hidden--visually {border: 0;clip: rect(1px 1px 1px 1px);clip: rect(1px, 1px, 1px, 1px);height: 1px;margin: -1px;overflow: hidden;padding: 0;position: absolute;width: 1px;}#sk-container-id-2 div.sk-estimator {font-family: monospace;background-color: #f0f8ff;border: 1px dotted black;border-radius: 0.25em;box-sizing: border-box;margin-bottom: 0.5em;}#sk-container-id-2 div.sk-estimator:hover {background-color: #d4ebff;}#sk-container-id-2 div.sk-parallel-item::after {content: \"\";width: 100%;border-bottom: 1px solid gray;flex-grow: 1;}#sk-container-id-2 div.sk-label:hover label.sk-toggleable__label {background-color: #d4ebff;}#sk-container-id-2 div.sk-serial::before {content: \"\";position: absolute;border-left: 1px solid gray;box-sizing: border-box;top: 0;bottom: 0;left: 50%;z-index: 0;}#sk-container-id-2 div.sk-serial {display: flex;flex-direction: column;align-items: center;background-color: white;padding-right: 0.2em;padding-left: 0.2em;position: relative;}#sk-container-id-2 div.sk-item {position: relative;z-index: 1;}#sk-container-id-2 div.sk-parallel {display: flex;align-items: stretch;justify-content: center;background-color: white;position: relative;}#sk-container-id-2 div.sk-item::before, #sk-container-id-2 div.sk-parallel-item::before {content: \"\";position: absolute;border-left: 1px solid gray;box-sizing: border-box;top: 0;bottom: 0;left: 50%;z-index: -1;}#sk-container-id-2 div.sk-parallel-item {display: flex;flex-direction: column;z-index: 1;position: relative;background-color: white;}#sk-container-id-2 div.sk-parallel-item:first-child::after {align-self: flex-end;width: 50%;}#sk-container-id-2 div.sk-parallel-item:last-child::after {align-self: flex-start;width: 50%;}#sk-container-id-2 div.sk-parallel-item:only-child::after {width: 0;}#sk-container-id-2 div.sk-dashed-wrapped {border: 1px dashed gray;margin: 0 0.4em 0.5em 0.4em;box-sizing: border-box;padding-bottom: 0.4em;background-color: white;}#sk-container-id-2 div.sk-label label {font-family: monospace;font-weight: bold;display: inline-block;line-height: 1.2em;}#sk-container-id-2 div.sk-label-container {text-align: center;}#sk-container-id-2 div.sk-container {/* jupyter's `normalize.less` sets `[hidden] { display: none; }` but bootstrap.min.css set `[hidden] { display: none !important; }` so we also need the `!important` here to be able to override the default hidden behavior on the sphinx rendered scikit-learn.org. See: https://github.com/scikit-learn/scikit-learn/issues/21755 */display: inline-block !important;position: relative;}#sk-container-id-2 div.sk-text-repr-fallback {display: none;}</style><div id=\"sk-container-id-2\" class=\"sk-top-container\"><div class=\"sk-text-repr-fallback\"><pre>XGBRegressor(base_score=None, booster=None, callbacks=None,\n",
       "             colsample_bylevel=None, colsample_bynode=None,\n",
       "             colsample_bytree=None, device=None, early_stopping_rounds=None,\n",
       "             enable_categorical=False, eval_metric=None, feature_types=None,\n",
       "             feature_weights=None, gamma=None, grow_policy=None,\n",
       "             importance_type=None, interaction_constraints=None,\n",
       "             learning_rate=None, max_bin=None, max_cat_threshold=None,\n",
       "             max_cat_to_onehot=None, max_delta_step=None, max_depth=None,\n",
       "             max_leaves=None, min_child_weight=None, missing=nan,\n",
       "             monotone_constraints=None, multi_strategy=None, n_estimators=None,\n",
       "             n_jobs=None, num_parallel_tree=None, ...)</pre><b>In a Jupyter environment, please rerun this cell to show the HTML representation or trust the notebook. <br />On GitHub, the HTML representation is unable to render, please try loading this page with nbviewer.org.</b></div><div class=\"sk-container\" hidden><div class=\"sk-item\"><div class=\"sk-estimator sk-toggleable\"><input class=\"sk-toggleable__control sk-hidden--visually\" id=\"sk-estimator-id-2\" type=\"checkbox\" checked><label for=\"sk-estimator-id-2\" class=\"sk-toggleable__label sk-toggleable__label-arrow\">XGBRegressor</label><div class=\"sk-toggleable__content\"><pre>XGBRegressor(base_score=None, booster=None, callbacks=None,\n",
       "             colsample_bylevel=None, colsample_bynode=None,\n",
       "             colsample_bytree=None, device=None, early_stopping_rounds=None,\n",
       "             enable_categorical=False, eval_metric=None, feature_types=None,\n",
       "             feature_weights=None, gamma=None, grow_policy=None,\n",
       "             importance_type=None, interaction_constraints=None,\n",
       "             learning_rate=None, max_bin=None, max_cat_threshold=None,\n",
       "             max_cat_to_onehot=None, max_delta_step=None, max_depth=None,\n",
       "             max_leaves=None, min_child_weight=None, missing=nan,\n",
       "             monotone_constraints=None, multi_strategy=None, n_estimators=None,\n",
       "             n_jobs=None, num_parallel_tree=None, ...)</pre></div></div></div></div></div>"
      ],
      "text/plain": [
       "XGBRegressor(base_score=None, booster=None, callbacks=None,\n",
       "             colsample_bylevel=None, colsample_bynode=None,\n",
       "             colsample_bytree=None, device=None, early_stopping_rounds=None,\n",
       "             enable_categorical=False, eval_metric=None, feature_types=None,\n",
       "             feature_weights=None, gamma=None, grow_policy=None,\n",
       "             importance_type=None, interaction_constraints=None,\n",
       "             learning_rate=None, max_bin=None, max_cat_threshold=None,\n",
       "             max_cat_to_onehot=None, max_delta_step=None, max_depth=None,\n",
       "             max_leaves=None, min_child_weight=None, missing=nan,\n",
       "             monotone_constraints=None, multi_strategy=None, n_estimators=None,\n",
       "             n_jobs=None, num_parallel_tree=None, ...)"
      ]
     },
     "execution_count": 122,
     "metadata": {},
     "output_type": "execute_result"
    }
   ],
   "source": [
    "loaded_model"
   ]
  },
  {
   "cell_type": "code",
   "execution_count": 123,
   "metadata": {},
   "outputs": [
    {
     "data": {
      "text/html": [
       "<div>\n",
       "<style scoped>\n",
       "    .dataframe tbody tr th:only-of-type {\n",
       "        vertical-align: middle;\n",
       "    }\n",
       "\n",
       "    .dataframe tbody tr th {\n",
       "        vertical-align: top;\n",
       "    }\n",
       "\n",
       "    .dataframe thead th {\n",
       "        text-align: right;\n",
       "    }\n",
       "</style>\n",
       "<table border=\"1\" class=\"dataframe\">\n",
       "  <thead>\n",
       "    <tr style=\"text-align: right;\">\n",
       "      <th></th>\n",
       "      <th>pk_anuncio_id</th>\n",
       "      <th>marca</th>\n",
       "      <th>modelo</th>\n",
       "      <th>precio</th>\n",
       "      <th>combustible</th>\n",
       "      <th>anyo_vehiculo</th>\n",
       "      <th>kilometraje</th>\n",
       "      <th>potencia</th>\n",
       "      <th>num_puertas</th>\n",
       "      <th>num_plazas</th>\n",
       "      <th>...</th>\n",
       "      <th>tipo_vehiculo</th>\n",
       "      <th>cilindrada_motor</th>\n",
       "      <th>color</th>\n",
       "      <th>provincia</th>\n",
       "      <th>etiqueta_eco</th>\n",
       "      <th>origen_anuncio</th>\n",
       "      <th>fecha_publicacion</th>\n",
       "      <th>anyomes_publicacion</th>\n",
       "      <th>fecha_carga</th>\n",
       "      <th>url</th>\n",
       "    </tr>\n",
       "  </thead>\n",
       "  <tbody>\n",
       "    <tr>\n",
       "      <th>0</th>\n",
       "      <td>60498281</td>\n",
       "      <td>BMW</td>\n",
       "      <td>x3</td>\n",
       "      <td>37900.0</td>\n",
       "      <td>Híbrido</td>\n",
       "      <td>2021.0</td>\n",
       "      <td>33200</td>\n",
       "      <td>190.0</td>\n",
       "      <td>5.0</td>\n",
       "      <td>5.0</td>\n",
       "      <td>...</td>\n",
       "      <td>SUV</td>\n",
       "      <td>1995.0</td>\n",
       "      <td>gris</td>\n",
       "      <td>Madrid</td>\n",
       "      <td>ECO (azul/verde)</td>\n",
       "      <td>WebScraping</td>\n",
       "      <td>2025-05-07</td>\n",
       "      <td>202505.0</td>\n",
       "      <td>2025-05-18 14:21:01</td>\n",
       "      <td>https://www.coches.net/bmw-x3-xdrive20d-xline-...</td>\n",
       "    </tr>\n",
       "    <tr>\n",
       "      <th>1</th>\n",
       "      <td>59710104</td>\n",
       "      <td>PEUGEOT</td>\n",
       "      <td>308</td>\n",
       "      <td>9000.0</td>\n",
       "      <td>Gasolina</td>\n",
       "      <td>2016.0</td>\n",
       "      <td>127300</td>\n",
       "      <td>110.0</td>\n",
       "      <td>5.0</td>\n",
       "      <td>5.0</td>\n",
       "      <td>...</td>\n",
       "      <td>Berlina</td>\n",
       "      <td>1199.0</td>\n",
       "      <td>blanco</td>\n",
       "      <td>Asturias</td>\n",
       "      <td>None</td>\n",
       "      <td>WebScraping</td>\n",
       "      <td>2025-01-25</td>\n",
       "      <td>202501.0</td>\n",
       "      <td>2025-05-18 11:18:51</td>\n",
       "      <td>https://www.coches.net/peugeot-308-5p-allure-1...</td>\n",
       "    </tr>\n",
       "    <tr>\n",
       "      <th>2</th>\n",
       "      <td>60479478</td>\n",
       "      <td>RENAULT</td>\n",
       "      <td>clio</td>\n",
       "      <td>11990.0</td>\n",
       "      <td>Diésel</td>\n",
       "      <td>2022.0</td>\n",
       "      <td>123000</td>\n",
       "      <td>100.0</td>\n",
       "      <td>5.0</td>\n",
       "      <td>5.0</td>\n",
       "      <td>...</td>\n",
       "      <td>Berlina</td>\n",
       "      <td>1461.0</td>\n",
       "      <td>blanco</td>\n",
       "      <td>Málaga</td>\n",
       "      <td>None</td>\n",
       "      <td>WebScraping</td>\n",
       "      <td>2025-05-18</td>\n",
       "      <td>202505.0</td>\n",
       "      <td>2025-05-18 10:06:26</td>\n",
       "      <td>https://www.coches.net/renault-clio-equilibre-...</td>\n",
       "    </tr>\n",
       "    <tr>\n",
       "      <th>3</th>\n",
       "      <td>60374025</td>\n",
       "      <td>CITROEN</td>\n",
       "      <td>c3</td>\n",
       "      <td>16500.0</td>\n",
       "      <td>Gasolina</td>\n",
       "      <td>2022.0</td>\n",
       "      <td>18150</td>\n",
       "      <td>83.0</td>\n",
       "      <td>5.0</td>\n",
       "      <td>5.0</td>\n",
       "      <td>...</td>\n",
       "      <td>Berlina</td>\n",
       "      <td>1199.0</td>\n",
       "      <td>blanco</td>\n",
       "      <td>Madrid</td>\n",
       "      <td>None</td>\n",
       "      <td>WebScraping</td>\n",
       "      <td>2025-04-19</td>\n",
       "      <td>202504.0</td>\n",
       "      <td>2025-05-18 10:05:00</td>\n",
       "      <td>https://www.coches.net/citroen-c3-puretech-60k...</td>\n",
       "    </tr>\n",
       "    <tr>\n",
       "      <th>4</th>\n",
       "      <td>60576644</td>\n",
       "      <td>VOLKSWAGEN</td>\n",
       "      <td>california</td>\n",
       "      <td>67900.0</td>\n",
       "      <td>Diesel</td>\n",
       "      <td>2023.0</td>\n",
       "      <td>12000</td>\n",
       "      <td>150.0</td>\n",
       "      <td>4.0</td>\n",
       "      <td>4.0</td>\n",
       "      <td>...</td>\n",
       "      <td>Monovolumen</td>\n",
       "      <td>1968.0</td>\n",
       "      <td>Blanco</td>\n",
       "      <td>Las Palmas</td>\n",
       "      <td>None</td>\n",
       "      <td>WebScraping</td>\n",
       "      <td>2025-05-18</td>\n",
       "      <td>202505.0</td>\n",
       "      <td>2025-05-18 07:24:21</td>\n",
       "      <td>https://www.coches.net/volkswagen-california-o...</td>\n",
       "    </tr>\n",
       "  </tbody>\n",
       "</table>\n",
       "<p>5 rows × 21 columns</p>\n",
       "</div>"
      ],
      "text/plain": [
       "   pk_anuncio_id       marca      modelo   precio combustible  anyo_vehiculo  \\\n",
       "0       60498281         BMW          x3  37900.0     Híbrido         2021.0   \n",
       "1       59710104     PEUGEOT         308   9000.0    Gasolina         2016.0   \n",
       "2       60479478     RENAULT        clio  11990.0      Diésel         2022.0   \n",
       "3       60374025     CITROEN          c3  16500.0    Gasolina         2022.0   \n",
       "4       60576644  VOLKSWAGEN  california  67900.0      Diesel         2023.0   \n",
       "\n",
       "   kilometraje  potencia  num_puertas  num_plazas  ... tipo_vehiculo  \\\n",
       "0        33200     190.0          5.0         5.0  ...           SUV   \n",
       "1       127300     110.0          5.0         5.0  ...       Berlina   \n",
       "2       123000     100.0          5.0         5.0  ...       Berlina   \n",
       "3        18150      83.0          5.0         5.0  ...       Berlina   \n",
       "4        12000     150.0          4.0         4.0  ...   Monovolumen   \n",
       "\n",
       "  cilindrada_motor   color   provincia      etiqueta_eco origen_anuncio  \\\n",
       "0           1995.0    gris      Madrid  ECO (azul/verde)    WebScraping   \n",
       "1           1199.0  blanco    Asturias              None    WebScraping   \n",
       "2           1461.0  blanco      Málaga              None    WebScraping   \n",
       "3           1199.0  blanco      Madrid              None    WebScraping   \n",
       "4           1968.0  Blanco  Las Palmas              None    WebScraping   \n",
       "\n",
       "  fecha_publicacion anyomes_publicacion          fecha_carga  \\\n",
       "0        2025-05-07            202505.0  2025-05-18 14:21:01   \n",
       "1        2025-01-25            202501.0  2025-05-18 11:18:51   \n",
       "2        2025-05-18            202505.0  2025-05-18 10:06:26   \n",
       "3        2025-04-19            202504.0  2025-05-18 10:05:00   \n",
       "4        2025-05-18            202505.0  2025-05-18 07:24:21   \n",
       "\n",
       "                                                 url  \n",
       "0  https://www.coches.net/bmw-x3-xdrive20d-xline-...  \n",
       "1  https://www.coches.net/peugeot-308-5p-allure-1...  \n",
       "2  https://www.coches.net/renault-clio-equilibre-...  \n",
       "3  https://www.coches.net/citroen-c3-puretech-60k...  \n",
       "4  https://www.coches.net/volkswagen-california-o...  \n",
       "\n",
       "[5 rows x 21 columns]"
      ]
     },
     "execution_count": 123,
     "metadata": {},
     "output_type": "execute_result"
    }
   ],
   "source": [
    "import pandas as pd\n",
    "import sqlite3\n",
    "\n",
    "# Conexión a la BBDD:\n",
    "con = sqlite3.connect(\"../include/db_vehiculos.db\")\n",
    "\n",
    "# Vamos a ver qué nos devuelve un select sobre la tabla:\n",
    "query = \"\"\"\n",
    "SELECT * FROM TX_VEHICULOS_SEG_MANO\n",
    "--where\n",
    "--fecha_carga > '2025-05-11 22:33:00'\n",
    "order by\n",
    "    fecha_carga desc\n",
    ";\n",
    "\"\"\"\n",
    "\n",
    "# Leemos los resultados en un DataFrame de pandas\n",
    "df = pd.read_sql_query(query, con)\n",
    "\n",
    "# Mostramos los primeros registros (aún no hay):\n",
    "df_prueba = df.head()\n",
    "\n",
    "df_prueba"
   ]
  },
  {
   "cell_type": "code",
   "execution_count": 124,
   "metadata": {},
   "outputs": [],
   "source": [
    "X_input, y_input = new_input_clean(input_df=df_prueba)"
   ]
  },
  {
   "cell_type": "code",
   "execution_count": 125,
   "metadata": {},
   "outputs": [
    {
     "data": {
      "text/plain": [
       "array([10.6165085,  9.09715  ,  9.384863 ,  9.533099 , 10.874894 ],\n",
       "      dtype=float32)"
      ]
     },
     "execution_count": 125,
     "metadata": {},
     "output_type": "execute_result"
    }
   ],
   "source": [
    "predictions = loaded_model.predict(X_input)\n",
    "predictions"
   ]
  },
  {
   "cell_type": "code",
   "execution_count": 126,
   "metadata": {},
   "outputs": [
    {
     "data": {
      "text/plain": [
       "array([40803.,  8930., 11907., 13809., 52833.], dtype=float32)"
      ]
     },
     "execution_count": 126,
     "metadata": {},
     "output_type": "execute_result"
    }
   ],
   "source": [
    "y_prueba = destransformar_y(predictions).round(0)\n",
    "y_prueba"
   ]
  },
  {
   "cell_type": "markdown",
   "metadata": {},
   "source": [
    "Insertamos las predicciones realizadas en la columna ```\"precio_predicho\"```, al lado de la columna target ```\"precio\"```:"
   ]
  },
  {
   "cell_type": "code",
   "execution_count": 130,
   "metadata": {},
   "outputs": [
    {
     "data": {
      "text/html": [
       "<div>\n",
       "<style scoped>\n",
       "    .dataframe tbody tr th:only-of-type {\n",
       "        vertical-align: middle;\n",
       "    }\n",
       "\n",
       "    .dataframe tbody tr th {\n",
       "        vertical-align: top;\n",
       "    }\n",
       "\n",
       "    .dataframe thead th {\n",
       "        text-align: right;\n",
       "    }\n",
       "</style>\n",
       "<table border=\"1\" class=\"dataframe\">\n",
       "  <thead>\n",
       "    <tr style=\"text-align: right;\">\n",
       "      <th></th>\n",
       "      <th>pk_anuncio_id</th>\n",
       "      <th>marca</th>\n",
       "      <th>modelo</th>\n",
       "      <th>precio</th>\n",
       "      <th>precio_predicho</th>\n",
       "      <th>combustible</th>\n",
       "      <th>anyo_vehiculo</th>\n",
       "      <th>kilometraje</th>\n",
       "      <th>potencia</th>\n",
       "      <th>num_puertas</th>\n",
       "      <th>...</th>\n",
       "      <th>tipo_vehiculo</th>\n",
       "      <th>cilindrada_motor</th>\n",
       "      <th>color</th>\n",
       "      <th>provincia</th>\n",
       "      <th>etiqueta_eco</th>\n",
       "      <th>origen_anuncio</th>\n",
       "      <th>fecha_publicacion</th>\n",
       "      <th>anyomes_publicacion</th>\n",
       "      <th>fecha_carga</th>\n",
       "      <th>url</th>\n",
       "    </tr>\n",
       "  </thead>\n",
       "  <tbody>\n",
       "    <tr>\n",
       "      <th>0</th>\n",
       "      <td>60498281</td>\n",
       "      <td>BMW</td>\n",
       "      <td>x3</td>\n",
       "      <td>37900.0</td>\n",
       "      <td>40803.0</td>\n",
       "      <td>Híbrido</td>\n",
       "      <td>2021.0</td>\n",
       "      <td>33200</td>\n",
       "      <td>190.0</td>\n",
       "      <td>5.0</td>\n",
       "      <td>...</td>\n",
       "      <td>SUV</td>\n",
       "      <td>1995.0</td>\n",
       "      <td>gris</td>\n",
       "      <td>Madrid</td>\n",
       "      <td>ECO (azul/verde)</td>\n",
       "      <td>WebScraping</td>\n",
       "      <td>2025-05-07</td>\n",
       "      <td>202505.0</td>\n",
       "      <td>2025-05-18 14:21:01</td>\n",
       "      <td>https://www.coches.net/bmw-x3-xdrive20d-xline-...</td>\n",
       "    </tr>\n",
       "    <tr>\n",
       "      <th>1</th>\n",
       "      <td>59710104</td>\n",
       "      <td>PEUGEOT</td>\n",
       "      <td>308</td>\n",
       "      <td>9000.0</td>\n",
       "      <td>8930.0</td>\n",
       "      <td>Gasolina</td>\n",
       "      <td>2016.0</td>\n",
       "      <td>127300</td>\n",
       "      <td>110.0</td>\n",
       "      <td>5.0</td>\n",
       "      <td>...</td>\n",
       "      <td>Berlina</td>\n",
       "      <td>1199.0</td>\n",
       "      <td>blanco</td>\n",
       "      <td>Asturias</td>\n",
       "      <td>None</td>\n",
       "      <td>WebScraping</td>\n",
       "      <td>2025-01-25</td>\n",
       "      <td>202501.0</td>\n",
       "      <td>2025-05-18 11:18:51</td>\n",
       "      <td>https://www.coches.net/peugeot-308-5p-allure-1...</td>\n",
       "    </tr>\n",
       "    <tr>\n",
       "      <th>2</th>\n",
       "      <td>60479478</td>\n",
       "      <td>RENAULT</td>\n",
       "      <td>clio</td>\n",
       "      <td>11990.0</td>\n",
       "      <td>11907.0</td>\n",
       "      <td>Diésel</td>\n",
       "      <td>2022.0</td>\n",
       "      <td>123000</td>\n",
       "      <td>100.0</td>\n",
       "      <td>5.0</td>\n",
       "      <td>...</td>\n",
       "      <td>Berlina</td>\n",
       "      <td>1461.0</td>\n",
       "      <td>blanco</td>\n",
       "      <td>Málaga</td>\n",
       "      <td>None</td>\n",
       "      <td>WebScraping</td>\n",
       "      <td>2025-05-18</td>\n",
       "      <td>202505.0</td>\n",
       "      <td>2025-05-18 10:06:26</td>\n",
       "      <td>https://www.coches.net/renault-clio-equilibre-...</td>\n",
       "    </tr>\n",
       "    <tr>\n",
       "      <th>3</th>\n",
       "      <td>60374025</td>\n",
       "      <td>CITROEN</td>\n",
       "      <td>c3</td>\n",
       "      <td>16500.0</td>\n",
       "      <td>13809.0</td>\n",
       "      <td>Gasolina</td>\n",
       "      <td>2022.0</td>\n",
       "      <td>18150</td>\n",
       "      <td>83.0</td>\n",
       "      <td>5.0</td>\n",
       "      <td>...</td>\n",
       "      <td>Berlina</td>\n",
       "      <td>1199.0</td>\n",
       "      <td>blanco</td>\n",
       "      <td>Madrid</td>\n",
       "      <td>None</td>\n",
       "      <td>WebScraping</td>\n",
       "      <td>2025-04-19</td>\n",
       "      <td>202504.0</td>\n",
       "      <td>2025-05-18 10:05:00</td>\n",
       "      <td>https://www.coches.net/citroen-c3-puretech-60k...</td>\n",
       "    </tr>\n",
       "    <tr>\n",
       "      <th>4</th>\n",
       "      <td>60576644</td>\n",
       "      <td>VOLKSWAGEN</td>\n",
       "      <td>california</td>\n",
       "      <td>67900.0</td>\n",
       "      <td>52833.0</td>\n",
       "      <td>Diesel</td>\n",
       "      <td>2023.0</td>\n",
       "      <td>12000</td>\n",
       "      <td>150.0</td>\n",
       "      <td>4.0</td>\n",
       "      <td>...</td>\n",
       "      <td>Monovolumen</td>\n",
       "      <td>1968.0</td>\n",
       "      <td>Blanco</td>\n",
       "      <td>Las Palmas</td>\n",
       "      <td>None</td>\n",
       "      <td>WebScraping</td>\n",
       "      <td>2025-05-18</td>\n",
       "      <td>202505.0</td>\n",
       "      <td>2025-05-18 07:24:21</td>\n",
       "      <td>https://www.coches.net/volkswagen-california-o...</td>\n",
       "    </tr>\n",
       "  </tbody>\n",
       "</table>\n",
       "<p>5 rows × 22 columns</p>\n",
       "</div>"
      ],
      "text/plain": [
       "   pk_anuncio_id       marca      modelo   precio  precio_predicho  \\\n",
       "0       60498281         BMW          x3  37900.0          40803.0   \n",
       "1       59710104     PEUGEOT         308   9000.0           8930.0   \n",
       "2       60479478     RENAULT        clio  11990.0          11907.0   \n",
       "3       60374025     CITROEN          c3  16500.0          13809.0   \n",
       "4       60576644  VOLKSWAGEN  california  67900.0          52833.0   \n",
       "\n",
       "  combustible  anyo_vehiculo  kilometraje  potencia  num_puertas  ...  \\\n",
       "0     Híbrido         2021.0        33200     190.0          5.0  ...   \n",
       "1    Gasolina         2016.0       127300     110.0          5.0  ...   \n",
       "2      Diésel         2022.0       123000     100.0          5.0  ...   \n",
       "3    Gasolina         2022.0        18150      83.0          5.0  ...   \n",
       "4      Diesel         2023.0        12000     150.0          4.0  ...   \n",
       "\n",
       "   tipo_vehiculo cilindrada_motor   color   provincia      etiqueta_eco  \\\n",
       "0            SUV           1995.0    gris      Madrid  ECO (azul/verde)   \n",
       "1        Berlina           1199.0  blanco    Asturias              None   \n",
       "2        Berlina           1461.0  blanco      Málaga              None   \n",
       "3        Berlina           1199.0  blanco      Madrid              None   \n",
       "4    Monovolumen           1968.0  Blanco  Las Palmas              None   \n",
       "\n",
       "  origen_anuncio fecha_publicacion anyomes_publicacion          fecha_carga  \\\n",
       "0    WebScraping        2025-05-07            202505.0  2025-05-18 14:21:01   \n",
       "1    WebScraping        2025-01-25            202501.0  2025-05-18 11:18:51   \n",
       "2    WebScraping        2025-05-18            202505.0  2025-05-18 10:06:26   \n",
       "3    WebScraping        2025-04-19            202504.0  2025-05-18 10:05:00   \n",
       "4    WebScraping        2025-05-18            202505.0  2025-05-18 07:24:21   \n",
       "\n",
       "                                                 url  \n",
       "0  https://www.coches.net/bmw-x3-xdrive20d-xline-...  \n",
       "1  https://www.coches.net/peugeot-308-5p-allure-1...  \n",
       "2  https://www.coches.net/renault-clio-equilibre-...  \n",
       "3  https://www.coches.net/citroen-c3-puretech-60k...  \n",
       "4  https://www.coches.net/volkswagen-california-o...  \n",
       "\n",
       "[5 rows x 22 columns]"
      ]
     },
     "execution_count": 130,
     "metadata": {},
     "output_type": "execute_result"
    }
   ],
   "source": [
    "df_prueba.insert(4, \"precio_predicho\", y_prueba)\n",
    "df_prueba.to_csv(\"../include/data/processed/df_prueba_pred.csv\")\n",
    "df_prueba"
   ]
  },
  {
   "cell_type": "markdown",
   "metadata": {},
   "source": [
    "Vemos que los precios que predice el modelo se ajustan bastante a los reales. Para el vehículo VolksWagen California no lo predice bien, lo cual es más común que pase para vehículos fuera del rango de precio entre 5.000 y 25.000 euros, que era donde más cantidad había."
   ]
  },
  {
   "cell_type": "markdown",
   "metadata": {},
   "source": [
    "Registros de VolksWagen California:"
   ]
  },
  {
   "cell_type": "code",
   "execution_count": 133,
   "metadata": {},
   "outputs": [],
   "source": [
    "import pandas as pd\n",
    "import sqlite3\n",
    "\n",
    "# Conexión a la BBDD:\n",
    "con = sqlite3.connect(\"../include/db_vehiculos.db\")\n",
    "\n",
    "# Vamos a ver qué nos devuelve un select sobre la tabla:\n",
    "query = \"\"\"\n",
    "SELECT * FROM TX_VEHICULOS_SEG_MANO\n",
    "where\n",
    "    marca = 'VOLKSWAGEN'\n",
    "    and modelo = 'california'\n",
    ";\n",
    "\"\"\"\n",
    "\n",
    "# Leemos los resultados en un DataFrame de pandas\n",
    "df_vw_california = pd.read_sql_query(query, con)\n",
    "\n",
    "# Mostramos los primeros registros (aún no hay):\n",
    "\n",
    "# df_vw_california"
   ]
  }
 ],
 "metadata": {
  "kernelspec": {
   "display_name": "base",
   "language": "python",
   "name": "python3"
  },
  "language_info": {
   "codemirror_mode": {
    "name": "ipython",
    "version": 3
   },
   "file_extension": ".py",
   "mimetype": "text/x-python",
   "name": "python",
   "nbconvert_exporter": "python",
   "pygments_lexer": "ipython3",
   "version": "3.11.5"
  }
 },
 "nbformat": 4,
 "nbformat_minor": 2
}

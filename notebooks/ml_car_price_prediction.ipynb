{
 "cells": [
  {
   "cell_type": "markdown",
   "metadata": {},
   "source": [
    "# Proyecto ML: Modelo predictivo de precios de coche."
   ]
  },
  {
   "cell_type": "markdown",
   "metadata": {},
   "source": [
    "## 1. Introducción."
   ]
  },
  {
   "cell_type": "markdown",
   "metadata": {},
   "source": [
    "En este cuaderno buscaremos elaborar un modelo predictivo utilizando Machine Learning para saber una estimación del precio de un determinado vehículo de segunda mano y poder optimizar la compraventa de coches.\n",
    "\n",
    "Por esto, el objetivo es tener una plataforma web donde poder saber el precio de un determinado vehículo de segunda mano, en base al precio de otros coches registrados en nuestra base de datos. Para ello, se utilizan los registros guardados en la tabla TX_VEHICULOS_SEG_MANO de nuestra BBDD de sqlite, con cerca de 35.000 registros de vehículos de 10 marcas diferentes importadas desde un Dataset de Kaggle hecho a partir de WebScraping, a los que hemos añadido X vehículos scrapeados mediante el script guardado en la ruta ```\"dags/webscraping_script.py\"``` de la página de [coches.net](coches.net).\n",
    "\n",
    "Los registros obtenidos mediante ambos orígenes de datos han sido posibles de combinar mediante las transformaciones realizadas en el cuaderno ```\"notebooks/kaggle_dataset_cleaning.ipynb\"```, aunque antes de entrenar el modelo predictivo será necesario realizar algunas transformaciones adicionales, así como seleccionar las features del modelo.\n",
    "\n",
    "En este proyecto, se utilizarán modelos de Machine Learning para calcular el precio de un coche a partir de características como la marca, modelo, tipo de combustible, año, etc. Se trata, por tanto, de un problema de regresión. Se utilizará como métrica de optimización el Mean Squared Error (MSE), aunque también se analizarán otras métricas como el Mean Average Error (MAE)."
   ]
  },
  {
   "cell_type": "markdown",
   "metadata": {},
   "source": [
    "## 2. Obtención y procesado de datos."
   ]
  },
  {
   "cell_type": "markdown",
   "metadata": {},
   "source": [
    "Importamos los datos desde nuestra base de datos:"
   ]
  },
  {
   "cell_type": "code",
   "execution_count": 276,
   "metadata": {},
   "outputs": [],
   "source": [
    "# Importamos las librerías necesarias\n",
    "\n",
    "import pandas as pd\n",
    "import numpy as np\n",
    "import matplotlib.pyplot as plt\n",
    "import seaborn as sns\n",
    "import pickle\n",
    "\n",
    "\n",
    "sns.set_style(\"darkgrid\")\n",
    "\n",
    "\n",
    "colors = [\"#d5001c\", \"#f59908\", \"#ffcb01\", \"#969696\"]"
   ]
  },
  {
   "cell_type": "code",
   "execution_count": 277,
   "metadata": {},
   "outputs": [
    {
     "data": {
      "text/html": [
       "<div>\n",
       "<style scoped>\n",
       "    .dataframe tbody tr th:only-of-type {\n",
       "        vertical-align: middle;\n",
       "    }\n",
       "\n",
       "    .dataframe tbody tr th {\n",
       "        vertical-align: top;\n",
       "    }\n",
       "\n",
       "    .dataframe thead th {\n",
       "        text-align: right;\n",
       "    }\n",
       "</style>\n",
       "<table border=\"1\" class=\"dataframe\">\n",
       "  <thead>\n",
       "    <tr style=\"text-align: right;\">\n",
       "      <th></th>\n",
       "      <th>pk_anuncio_id</th>\n",
       "      <th>marca</th>\n",
       "      <th>modelo</th>\n",
       "      <th>precio</th>\n",
       "      <th>combustible</th>\n",
       "      <th>anyo_vehiculo</th>\n",
       "      <th>kilometraje</th>\n",
       "      <th>potencia</th>\n",
       "      <th>num_puertas</th>\n",
       "      <th>num_plazas</th>\n",
       "      <th>...</th>\n",
       "      <th>tipo_vehiculo</th>\n",
       "      <th>cilindrada_motor</th>\n",
       "      <th>color</th>\n",
       "      <th>provincia</th>\n",
       "      <th>etiqueta_eco</th>\n",
       "      <th>origen_anuncio</th>\n",
       "      <th>fecha_publicacion</th>\n",
       "      <th>anyomes_publicacion</th>\n",
       "      <th>fecha_carga</th>\n",
       "      <th>url</th>\n",
       "    </tr>\n",
       "  </thead>\n",
       "  <tbody>\n",
       "    <tr>\n",
       "      <th>0</th>\n",
       "      <td>60557088</td>\n",
       "      <td>FORD</td>\n",
       "      <td>focus</td>\n",
       "      <td>16990.0</td>\n",
       "      <td>Gasolina</td>\n",
       "      <td>2019.0</td>\n",
       "      <td>75000</td>\n",
       "      <td>125.0</td>\n",
       "      <td>5.0</td>\n",
       "      <td>5.0</td>\n",
       "      <td>...</td>\n",
       "      <td>Berlina</td>\n",
       "      <td>999.0</td>\n",
       "      <td>gris</td>\n",
       "      <td>Sta. C. Tenerife</td>\n",
       "      <td>None</td>\n",
       "      <td>WebScraping</td>\n",
       "      <td>2025-05-14</td>\n",
       "      <td>202505.0</td>\n",
       "      <td>2025-05-23 18:17:29</td>\n",
       "      <td>https://www.coches.net/ford-focus-10-ecoboost-...</td>\n",
       "    </tr>\n",
       "    <tr>\n",
       "      <th>1</th>\n",
       "      <td>60470348</td>\n",
       "      <td>OPEL</td>\n",
       "      <td>zafira tourer</td>\n",
       "      <td>11600.0</td>\n",
       "      <td>Diésel</td>\n",
       "      <td>2017.0</td>\n",
       "      <td>75150</td>\n",
       "      <td>120.0</td>\n",
       "      <td>5.0</td>\n",
       "      <td>5.0</td>\n",
       "      <td>...</td>\n",
       "      <td>Monovolumen</td>\n",
       "      <td>1598.0</td>\n",
       "      <td>gris</td>\n",
       "      <td>Baleares</td>\n",
       "      <td>C (verde)</td>\n",
       "      <td>WebScraping</td>\n",
       "      <td>2025-05-03</td>\n",
       "      <td>202505.0</td>\n",
       "      <td>2025-05-19 18:22:04</td>\n",
       "      <td>https://www.coches.net/opel-zafira-tourer-16-c...</td>\n",
       "    </tr>\n",
       "    <tr>\n",
       "      <th>2</th>\n",
       "      <td>60498281</td>\n",
       "      <td>BMW</td>\n",
       "      <td>x3</td>\n",
       "      <td>37900.0</td>\n",
       "      <td>Híbrido</td>\n",
       "      <td>2021.0</td>\n",
       "      <td>33200</td>\n",
       "      <td>190.0</td>\n",
       "      <td>5.0</td>\n",
       "      <td>5.0</td>\n",
       "      <td>...</td>\n",
       "      <td>SUV</td>\n",
       "      <td>1995.0</td>\n",
       "      <td>gris</td>\n",
       "      <td>Madrid</td>\n",
       "      <td>ECO (azul/verde)</td>\n",
       "      <td>WebScraping</td>\n",
       "      <td>2025-05-07</td>\n",
       "      <td>202505.0</td>\n",
       "      <td>2025-05-18 14:21:01</td>\n",
       "      <td>https://www.coches.net/bmw-x3-xdrive20d-xline-...</td>\n",
       "    </tr>\n",
       "    <tr>\n",
       "      <th>3</th>\n",
       "      <td>59710104</td>\n",
       "      <td>PEUGEOT</td>\n",
       "      <td>308</td>\n",
       "      <td>9000.0</td>\n",
       "      <td>Gasolina</td>\n",
       "      <td>2016.0</td>\n",
       "      <td>127300</td>\n",
       "      <td>110.0</td>\n",
       "      <td>5.0</td>\n",
       "      <td>5.0</td>\n",
       "      <td>...</td>\n",
       "      <td>Berlina</td>\n",
       "      <td>1199.0</td>\n",
       "      <td>blanco</td>\n",
       "      <td>Asturias</td>\n",
       "      <td>None</td>\n",
       "      <td>WebScraping</td>\n",
       "      <td>2025-01-25</td>\n",
       "      <td>202501.0</td>\n",
       "      <td>2025-05-18 11:18:51</td>\n",
       "      <td>https://www.coches.net/peugeot-308-5p-allure-1...</td>\n",
       "    </tr>\n",
       "    <tr>\n",
       "      <th>4</th>\n",
       "      <td>60479478</td>\n",
       "      <td>RENAULT</td>\n",
       "      <td>clio</td>\n",
       "      <td>11990.0</td>\n",
       "      <td>Diésel</td>\n",
       "      <td>2022.0</td>\n",
       "      <td>123000</td>\n",
       "      <td>100.0</td>\n",
       "      <td>5.0</td>\n",
       "      <td>5.0</td>\n",
       "      <td>...</td>\n",
       "      <td>Berlina</td>\n",
       "      <td>1461.0</td>\n",
       "      <td>blanco</td>\n",
       "      <td>Málaga</td>\n",
       "      <td>None</td>\n",
       "      <td>WebScraping</td>\n",
       "      <td>2025-05-18</td>\n",
       "      <td>202505.0</td>\n",
       "      <td>2025-05-18 10:06:26</td>\n",
       "      <td>https://www.coches.net/renault-clio-equilibre-...</td>\n",
       "    </tr>\n",
       "  </tbody>\n",
       "</table>\n",
       "<p>5 rows × 21 columns</p>\n",
       "</div>"
      ],
      "text/plain": [
       "   pk_anuncio_id    marca         modelo   precio combustible  anyo_vehiculo  \\\n",
       "0       60557088     FORD          focus  16990.0    Gasolina         2019.0   \n",
       "1       60470348     OPEL  zafira tourer  11600.0      Diésel         2017.0   \n",
       "2       60498281      BMW             x3  37900.0     Híbrido         2021.0   \n",
       "3       59710104  PEUGEOT            308   9000.0    Gasolina         2016.0   \n",
       "4       60479478  RENAULT           clio  11990.0      Diésel         2022.0   \n",
       "\n",
       "   kilometraje  potencia  num_puertas  num_plazas  ... tipo_vehiculo  \\\n",
       "0        75000     125.0          5.0         5.0  ...       Berlina   \n",
       "1        75150     120.0          5.0         5.0  ...   Monovolumen   \n",
       "2        33200     190.0          5.0         5.0  ...           SUV   \n",
       "3       127300     110.0          5.0         5.0  ...       Berlina   \n",
       "4       123000     100.0          5.0         5.0  ...       Berlina   \n",
       "\n",
       "  cilindrada_motor   color         provincia      etiqueta_eco origen_anuncio  \\\n",
       "0            999.0    gris  Sta. C. Tenerife              None    WebScraping   \n",
       "1           1598.0    gris          Baleares         C (verde)    WebScraping   \n",
       "2           1995.0    gris            Madrid  ECO (azul/verde)    WebScraping   \n",
       "3           1199.0  blanco          Asturias              None    WebScraping   \n",
       "4           1461.0  blanco            Málaga              None    WebScraping   \n",
       "\n",
       "  fecha_publicacion anyomes_publicacion          fecha_carga  \\\n",
       "0        2025-05-14            202505.0  2025-05-23 18:17:29   \n",
       "1        2025-05-03            202505.0  2025-05-19 18:22:04   \n",
       "2        2025-05-07            202505.0  2025-05-18 14:21:01   \n",
       "3        2025-01-25            202501.0  2025-05-18 11:18:51   \n",
       "4        2025-05-18            202505.0  2025-05-18 10:06:26   \n",
       "\n",
       "                                                 url  \n",
       "0  https://www.coches.net/ford-focus-10-ecoboost-...  \n",
       "1  https://www.coches.net/opel-zafira-tourer-16-c...  \n",
       "2  https://www.coches.net/bmw-x3-xdrive20d-xline-...  \n",
       "3  https://www.coches.net/peugeot-308-5p-allure-1...  \n",
       "4  https://www.coches.net/renault-clio-equilibre-...  \n",
       "\n",
       "[5 rows x 21 columns]"
      ]
     },
     "execution_count": 277,
     "metadata": {},
     "output_type": "execute_result"
    }
   ],
   "source": [
    "import sqlite3\n",
    "import pandas as pd\n",
    "\n",
    "con = sqlite3.connect(\"../include/db_vehiculos.db\")\n",
    "\n",
    "query = \"\"\"\n",
    "SELECT *\n",
    "FROM TX_VEHICULOS_SEG_MANO\n",
    "--where\n",
    "    --origen_anuncio = 'WebScraping'\n",
    "    --origen_anuncio = 'dataset kaggle'\n",
    "    --and marca not in ('BMW', 'VOLKSWAGEN', 'MERCEDES-BENZ', 'AUDI', 'PEUGEOT', 'FORD', 'RENAULT', 'OPEL', 'CITROEN', 'SEAT')\n",
    "order by\n",
    "    fecha_carga desc\n",
    ";\n",
    "\"\"\"\n",
    "\n",
    "df = pd.read_sql_query(query, con)\n",
    "\n",
    "df.head()"
   ]
  },
  {
   "cell_type": "markdown",
   "metadata": {},
   "source": [
    "Podemos ver el número de registros para cada origen de datos:"
   ]
  },
  {
   "cell_type": "code",
   "execution_count": 278,
   "metadata": {},
   "outputs": [
    {
     "data": {
      "text/plain": [
       "origen_anuncio\n",
       "dataset kaggle    35041\n",
       "WebScraping        1568\n",
       "Name: count, dtype: int64"
      ]
     },
     "execution_count": 278,
     "metadata": {},
     "output_type": "execute_result"
    }
   ],
   "source": [
    "df['origen_anuncio'].value_counts()"
   ]
  },
  {
   "cell_type": "markdown",
   "metadata": {},
   "source": [
    "Vemos que la gran mayoría de registros provienen del dataset de kaggle.\n",
    "\n",
    "Vamos a ver qué columnas contiene el DataFrame:"
   ]
  },
  {
   "cell_type": "code",
   "execution_count": 279,
   "metadata": {},
   "outputs": [
    {
     "name": "stdout",
     "output_type": "stream",
     "text": [
      "<class 'pandas.core.frame.DataFrame'>\n",
      "RangeIndex: 36609 entries, 0 to 36608\n",
      "Data columns (total 21 columns):\n",
      " #   Column               Non-Null Count  Dtype  \n",
      "---  ------               --------------  -----  \n",
      " 0   pk_anuncio_id        36609 non-null  int64  \n",
      " 1   marca                36609 non-null  object \n",
      " 2   modelo               36609 non-null  object \n",
      " 3   precio               36609 non-null  float64\n",
      " 4   combustible          36547 non-null  object \n",
      " 5   anyo_vehiculo        36608 non-null  float64\n",
      " 6   kilometraje          36609 non-null  int64  \n",
      " 7   potencia             29816 non-null  float64\n",
      " 8   num_puertas          36597 non-null  float64\n",
      " 9   num_plazas           1552 non-null   float64\n",
      " 10  tipo_cambio          36529 non-null  object \n",
      " 11  tipo_vehiculo        1568 non-null   object \n",
      " 12  cilindrada_motor     1536 non-null   float64\n",
      " 13  color                36130 non-null  object \n",
      " 14  provincia            36605 non-null  object \n",
      " 15  etiqueta_eco         1122 non-null   object \n",
      " 16  origen_anuncio       36609 non-null  object \n",
      " 17  fecha_publicacion    36602 non-null  object \n",
      " 18  anyomes_publicacion  36602 non-null  float64\n",
      " 19  fecha_carga          36609 non-null  object \n",
      " 20  url                  36609 non-null  object \n",
      "dtypes: float64(7), int64(2), object(12)\n",
      "memory usage: 5.9+ MB\n"
     ]
    }
   ],
   "source": [
    "df.info()"
   ]
  },
  {
   "cell_type": "markdown",
   "metadata": {},
   "source": [
    "Vemos que el DataFrame se compone de 21 columnas, de las cuales, muchas de ellas son de tipo string. Además, contienen valores nulos, por lo que, a continuación, haremos un procesado de estas columnas.\n",
    "\n",
    "La columna target u objetivo a predecir es la columna llamada ```\"precio\"```."
   ]
  },
  {
   "cell_type": "markdown",
   "metadata": {},
   "source": [
    "Lo primero que haremos es eliminar las columnas ```['num_plazas', 'tipo_vehiculo', 'cilindrada_motor', 'etiqueta_eco']```, ya que solo tienen valores no nulos para los registros obtenidos mediante WebScraping."
   ]
  },
  {
   "cell_type": "code",
   "execution_count": 280,
   "metadata": {},
   "outputs": [
    {
     "name": "stdout",
     "output_type": "stream",
     "text": [
      "<class 'pandas.core.frame.DataFrame'>\n",
      "RangeIndex: 36609 entries, 0 to 36608\n",
      "Data columns (total 17 columns):\n",
      " #   Column               Non-Null Count  Dtype  \n",
      "---  ------               --------------  -----  \n",
      " 0   pk_anuncio_id        36609 non-null  int64  \n",
      " 1   marca                36609 non-null  object \n",
      " 2   modelo               36609 non-null  object \n",
      " 3   precio               36609 non-null  float64\n",
      " 4   combustible          36547 non-null  object \n",
      " 5   anyo_vehiculo        36608 non-null  float64\n",
      " 6   kilometraje          36609 non-null  int64  \n",
      " 7   potencia             29816 non-null  float64\n",
      " 8   num_puertas          36597 non-null  float64\n",
      " 9   tipo_cambio          36529 non-null  object \n",
      " 10  color                36130 non-null  object \n",
      " 11  provincia            36605 non-null  object \n",
      " 12  origen_anuncio       36609 non-null  object \n",
      " 13  fecha_publicacion    36602 non-null  object \n",
      " 14  anyomes_publicacion  36602 non-null  float64\n",
      " 15  fecha_carga          36609 non-null  object \n",
      " 16  url                  36609 non-null  object \n",
      "dtypes: float64(5), int64(2), object(10)\n",
      "memory usage: 4.7+ MB\n"
     ]
    }
   ],
   "source": [
    "df = df.drop(columns=['num_plazas', 'tipo_vehiculo', 'cilindrada_motor', 'etiqueta_eco'])\n",
    "df.info()"
   ]
  },
  {
   "cell_type": "markdown",
   "metadata": {},
   "source": [
    "Vamos a eliminar también las columnas: ```['pk_anuncio_id', 'provincia', 'fecha_publicacion', 'anyomes_publicacion','fecha_carga', 'url']```, ya que tampoco aportan información para el modelo.\n",
    "\n",
    "De momento dejamos la columna ```'origen_anuncio'``` por si hay que distinguir en alguna transformación entre los datos de ambos orígenes."
   ]
  },
  {
   "cell_type": "code",
   "execution_count": 281,
   "metadata": {},
   "outputs": [
    {
     "name": "stdout",
     "output_type": "stream",
     "text": [
      "<class 'pandas.core.frame.DataFrame'>\n",
      "RangeIndex: 36609 entries, 0 to 36608\n",
      "Data columns (total 11 columns):\n",
      " #   Column          Non-Null Count  Dtype  \n",
      "---  ------          --------------  -----  \n",
      " 0   marca           36609 non-null  object \n",
      " 1   modelo          36609 non-null  object \n",
      " 2   precio          36609 non-null  float64\n",
      " 3   combustible     36547 non-null  object \n",
      " 4   anyo_vehiculo   36608 non-null  float64\n",
      " 5   kilometraje     36609 non-null  int64  \n",
      " 6   potencia        29816 non-null  float64\n",
      " 7   num_puertas     36597 non-null  float64\n",
      " 8   tipo_cambio     36529 non-null  object \n",
      " 9   color           36130 non-null  object \n",
      " 10  origen_anuncio  36609 non-null  object \n",
      "dtypes: float64(4), int64(1), object(6)\n",
      "memory usage: 3.1+ MB\n"
     ]
    }
   ],
   "source": [
    "df = df.drop(columns=['pk_anuncio_id', 'provincia', 'fecha_publicacion', 'anyomes_publicacion','fecha_carga', 'url'])\n",
    "\n",
    "df.info()"
   ]
  },
  {
   "cell_type": "markdown",
   "metadata": {},
   "source": [
    "### Variable objetivo: precio."
   ]
  },
  {
   "cell_type": "markdown",
   "metadata": {},
   "source": [
    "Vamos a ver la distibución de datos de la columna target (```\"precio\"```):"
   ]
  },
  {
   "cell_type": "code",
   "execution_count": 282,
   "metadata": {},
   "outputs": [
    {
     "name": "stderr",
     "output_type": "stream",
     "text": [
      "c:\\Users\\alberto.pintos\\AppData\\Local\\anaconda3\\Lib\\site-packages\\seaborn\\_oldcore.py:1119: FutureWarning: use_inf_as_na option is deprecated and will be removed in a future version. Convert inf values to NaN before operating instead.\n",
      "  with pd.option_context('mode.use_inf_as_na', True):\n",
      "c:\\Users\\alberto.pintos\\AppData\\Local\\anaconda3\\Lib\\site-packages\\seaborn\\axisgrid.py:118: UserWarning: The figure layout has changed to tight\n",
      "  self._figure.tight_layout(*args, **kwargs)\n"
     ]
    },
    {
     "data": {
      "text/plain": [
       "<Figure size 1200x800 with 0 Axes>"
      ]
     },
     "metadata": {},
     "output_type": "display_data"
    },
    {
     "data": {
      "image/png": "[encoded data removed]",
      "text/plain": [
       "<Figure size 500x500 with 1 Axes>"
      ]
     },
     "metadata": {},
     "output_type": "display_data"
    }
   ],
   "source": [
    "plt.figure(figsize=(12, 8))\n",
    "\n",
    "sns.displot(df[\"precio\"], color=colors[0])\n",
    "\n",
    "plt.title(\"Cantidad de coches por precio\", fontsize=16)\n",
    "\n",
    "plt.xlabel(\"Precio (euros)\", fontsize=14)\n",
    "plt.ylabel(\"Cantidad de coches\", fontsize=14)\n",
    "\n",
    "plt.show()"
   ]
  },
  {
   "cell_type": "markdown",
   "metadata": {},
   "source": [
    "Vemos que existen muchos coches con un precio más bajo, y que, para precios más elevados, se reduce el número. Para corregir esto, y aumentar la eficacia del modelo predictivo, vamos a tomar dos medidas:\n",
    "\n",
    "1. Realizar un boxplot para detectar outliers y poder eliminar estos registros.\n",
    "\n",
    "2. Aplicar una transformación logarítmica a la columna ```\"precio\"```, de modo que los datos tiendan a una distribución normal. Al final, cuando ya esté hecho el modelo, habrá que deshacer esta transformación para obtener el precio real del vehículo a predecir."
   ]
  },
  {
   "cell_type": "markdown",
   "metadata": {},
   "source": [
    "Comenzamos realizando el Boxplot:"
   ]
  },
  {
   "cell_type": "code",
   "execution_count": 283,
   "metadata": {},
   "outputs": [
    {
     "data": {
      "image/png": "[encoded data removed]",
      "text/plain": [
       "<Figure size 1200x800 with 1 Axes>"
      ]
     },
     "metadata": {},
     "output_type": "display_data"
    }
   ],
   "source": [
    "import matplotlib.pyplot as plt\n",
    "import seaborn as sns\n",
    "\n",
    "plt.figure(figsize=(12, 8))\n",
    "\n",
    "# Boxplot de la variable \"precio\"\n",
    "sns.boxplot(x=df[\"precio\"], color=colors[0])\n",
    "\n",
    "# Títulos y etiquetas\n",
    "plt.title(\"Boxplot del precio de coches\", fontsize=16)\n",
    "plt.xlabel(\"Precio (euros)\", fontsize=14)\n",
    "\n",
    "plt.show()\n"
   ]
  },
  {
   "cell_type": "markdown",
   "metadata": {},
   "source": [
    "Vemos que la distribución del boxplot muestra que el 75 % de los registros se concentran por debajo de los 20.000 euros aproximadamente.\n",
    "\n",
    "Vamos a ver las principales medidas estadísticas de la variable ```\"precio\"```:"
   ]
  },
  {
   "cell_type": "code",
   "execution_count": 284,
   "metadata": {},
   "outputs": [
    {
     "data": {
      "text/plain": [
       "count     36609.000000\n",
       "mean      14266.503128\n",
       "std       13697.924567\n",
       "min         300.000000\n",
       "25%        5000.000000\n",
       "50%       11500.000000\n",
       "75%       18990.000000\n",
       "max      375000.000000\n",
       "Name: precio, dtype: float64"
      ]
     },
     "execution_count": 284,
     "metadata": {},
     "output_type": "execute_result"
    }
   ],
   "source": [
    "df[\"precio\"].describe()"
   ]
  },
  {
   "cell_type": "markdown",
   "metadata": {},
   "source": [
    "Observamos que la variable tiene una media de 14.266 euros y una desviación estándar (sigma) de 13.697 euros. Sin embargo, el valor máximo es de 375.000 euros.\n",
    "\n",
    "Ante esto, vamos a proponer dos opciones para eliminar outliers que puedan influir negativamente en el modelo o para los cuáles funcione muy mal.\n",
    "\n",
    "1. Coger los valores dentro de los siguientes límites a partir del Rango intercuartílico (IQR), que marcarían los outliers tradicionales:\n",
    "\n",
    "    - limite_inferior = Q1 - 1.5 * IQR\n",
    "    - limite_superior = Q3 + 1.5 * IQR\n",
    "\n",
    "Probamos esta opción:\n"
   ]
  },
  {
   "cell_type": "markdown",
   "metadata": {},
   "source": [
    "Opción con cuartiles:"
   ]
  },
  {
   "cell_type": "code",
   "execution_count": 285,
   "metadata": {},
   "outputs": [
    {
     "name": "stdout",
     "output_type": "stream",
     "text": [
      "Límite de precio inferior: -15985.0\n",
      "Límite de precio superior: 39975.0\n",
      "Número de coches antes de eliminar outliers: 36609\n",
      "Número de coches después de eliminar outliers: 35228\n"
     ]
    }
   ],
   "source": [
    "# Calculamos Q1, Q3 e IQR\n",
    "Q1 = df[\"precio\"].quantile(0.25)\n",
    "Q3 = df[\"precio\"].quantile(0.75)\n",
    "IQR = Q3 - Q1\n",
    "\n",
    "# Límites inferior y superior para considerar outliers\n",
    "limite_inferior = Q1 - 1.5 * IQR\n",
    "limite_superior = Q3 + 1.5 * IQR\n",
    "\n",
    "print(f\"Límite de precio inferior: {limite_inferior}\")\n",
    "print(f\"Límite de precio superior: {limite_superior}\")\n",
    "\n",
    "df_iqr = df[(df[\"precio\"] >= limite_inferior) & (df[\"precio\"] <= limite_superior)]\n",
    "\n",
    "print(f\"Número de coches antes de eliminar outliers: {len(df)}\")\n",
    "print(f\"Número de coches después de eliminar outliers: {len(df_iqr)}\")\n"
   ]
  },
  {
   "cell_type": "markdown",
   "metadata": {},
   "source": [
    "Si utilizamos esta opción seguro que el modelo funciona muy bien pero solo predeciríamos vehículos con precios hasta 39.975 euros, lo que dejaría fuera muchos modelos.\n",
    "\n",
    "Por ello, vamos a descartar esta opción."
   ]
  },
  {
   "cell_type": "markdown",
   "metadata": {},
   "source": [
    "Probaremos una segunda opción que consiste en aplicar una transformación logarítmica a la columna ```\"precio\"```, de modo que los datos tiendan a una distribución normal. Después, nos quedaremos con los vehículos en un rango de valores del precio transformado de 2 desviaciones estandar a partir de la media, que coresponderá a un porcentaje muy elevado de los datos.\n",
    "\n",
    "Al final, cuando ya esté hecho el modelo, habrá que deshacer esta transformación para obtener el precio real del vehículo a predecir."
   ]
  },
  {
   "cell_type": "markdown",
   "metadata": {},
   "source": [
    "Aplicamos la transformación logarítmica:"
   ]
  },
  {
   "cell_type": "code",
   "execution_count": 286,
   "metadata": {},
   "outputs": [],
   "source": [
    "import numpy as np\n",
    "\n",
    "# Transformación logarítmica del precio:\n",
    "df[\"precio\"] = np.log(df[\"precio\"])"
   ]
  },
  {
   "cell_type": "code",
   "execution_count": 287,
   "metadata": {},
   "outputs": [
    {
     "name": "stderr",
     "output_type": "stream",
     "text": [
      "c:\\Users\\alberto.pintos\\AppData\\Local\\anaconda3\\Lib\\site-packages\\seaborn\\_oldcore.py:1119: FutureWarning: use_inf_as_na option is deprecated and will be removed in a future version. Convert inf values to NaN before operating instead.\n",
      "  with pd.option_context('mode.use_inf_as_na', True):\n",
      "c:\\Users\\alberto.pintos\\AppData\\Local\\anaconda3\\Lib\\site-packages\\seaborn\\axisgrid.py:118: UserWarning: The figure layout has changed to tight\n",
      "  self._figure.tight_layout(*args, **kwargs)\n"
     ]
    },
    {
     "data": {
      "text/plain": [
       "<Figure size 1200x800 with 0 Axes>"
      ]
     },
     "metadata": {},
     "output_type": "display_data"
    },
    {
     "data": {
      "image/png": "[encoded data removed]",
      "text/plain": [
       "<Figure size 500x500 with 1 Axes>"
      ]
     },
     "metadata": {},
     "output_type": "display_data"
    }
   ],
   "source": [
    "plt.figure(figsize=(12, 8))\n",
    "\n",
    "sns.displot(df[\"precio\"], color=colors[0])\n",
    "\n",
    "plt.title(\"Cantidad de coches por precio después de transformar\", fontsize=16)\n",
    "\n",
    "plt.xlabel(\"Precio transformado\", fontsize=14)\n",
    "plt.ylabel(\"Cantidad de coches\", fontsize=14)\n",
    "\n",
    "plt.yticks(range(0, 1500, 250))\n",
    "\n",
    "plt.show()"
   ]
  },
  {
   "cell_type": "markdown",
   "metadata": {},
   "source": [
    "Test de normalidad de Shapiro-Wilk:"
   ]
  },
  {
   "cell_type": "code",
   "execution_count": 288,
   "metadata": {},
   "outputs": [
    {
     "name": "stdout",
     "output_type": "stream",
     "text": [
      "Estadístico W: 0.9656\n",
      "Valor p: 0.0000\n",
      "Se rechaza H₀: los datos no siguen una distribución normal.\n"
     ]
    }
   ],
   "source": [
    "from scipy.stats import shapiro\n",
    "\n",
    "# Aplicar el test de Shapiro-Wilk a una muestra (máx. 5000 datos recomendado)\n",
    "sample = df[\"precio\"].sample(n=5000, random_state=42)\n",
    "\n",
    "stat, p_value = shapiro(sample)\n",
    "\n",
    "print(f\"Estadístico W: {stat:.4f}\")\n",
    "print(f\"Valor p: {p_value:.4f}\")\n",
    "\n",
    "if p_value > 0.05:\n",
    "    print(\"No se rechaza H₀: los datos podrían ser normales.\")\n",
    "else:\n",
    "    print(\"Se rechaza H₀: los datos no siguen una distribución normal.\")\n"
   ]
  },
  {
   "cell_type": "markdown",
   "metadata": {},
   "source": [
    "Nos quedamos con los valores dentro del límite superior de 2 sigmas:"
   ]
  },
  {
   "cell_type": "code",
   "execution_count": 289,
   "metadata": {},
   "outputs": [
    {
     "name": "stdout",
     "output_type": "stream",
     "text": [
      "Límite superior en escala log: 11.1488\n",
      "Corresponde a un precio real de: 69,478.24 €\n",
      "Número de coches antes de eliminar outliers: 36609\n",
      "Número de coches después de eliminar outliers: 36340\n"
     ]
    }
   ],
   "source": [
    "mean_log = df[\"precio\"].mean()\n",
    "std_log = df[\"precio\"].std()\n",
    "\n",
    "# Límite superior a 2 sigmas en escala logarítmica:\n",
    "upper_log_limit = mean_log + 2 * std_log\n",
    "\n",
    "# Filtramos solo los valores dentro de las 2 sigmas:\n",
    "df_filtrado = df[df[\"precio\"] <= upper_log_limit]\n",
    "\n",
    "# (Opcional) Si necesitamos volver a la escala original:\n",
    "max_precio_filtrado = np.exp(upper_log_limit)\n",
    "\n",
    "print(f\"Límite superior en escala log: {upper_log_limit:.4f}\")\n",
    "print(f\"Corresponde a un precio real de: {max_precio_filtrado:,.2f} €\")\n",
    "\n",
    "print(f\"Número de coches antes de eliminar outliers: {len(df)}\")\n",
    "print(f\"Número de coches después de eliminar outliers: {len(df_filtrado)}\")\n"
   ]
  },
  {
   "cell_type": "code",
   "execution_count": 290,
   "metadata": {},
   "outputs": [
    {
     "data": {
      "text/plain": [
       "count    36609.000000\n",
       "mean         9.153885\n",
       "std          0.997442\n",
       "min          5.703782\n",
       "25%          8.517193\n",
       "50%          9.350102\n",
       "75%          9.851668\n",
       "max         12.834681\n",
       "Name: precio, dtype: float64"
      ]
     },
     "execution_count": 290,
     "metadata": {},
     "output_type": "execute_result"
    }
   ],
   "source": [
    "# Estadísticos de la variable precio transfromada:\n",
    "\n",
    "df[\"precio\"].describe()"
   ]
  },
  {
   "cell_type": "markdown",
   "metadata": {},
   "source": [
    "Vemos que se eliminan 269 registros. Vamos a aplicar la transformación al df original y a ver los valores estadísticos transformados de nuevo, para ver que se ha realizado correctamente:"
   ]
  },
  {
   "cell_type": "code",
   "execution_count": 291,
   "metadata": {},
   "outputs": [
    {
     "data": {
      "text/plain": [
       "count    36340.000000\n",
       "mean         9.136934\n",
       "std          0.981048\n",
       "min          5.703782\n",
       "25%          8.516993\n",
       "50%          9.349232\n",
       "75%          9.846917\n",
       "max         11.147570\n",
       "Name: precio, dtype: float64"
      ]
     },
     "execution_count": 291,
     "metadata": {},
     "output_type": "execute_result"
    }
   ],
   "source": [
    "# Aplicamos el filtro de las 2 sigmas al df original:\n",
    "df = df[df[\"precio\"] <= upper_log_limit]\n",
    "\n",
    "# Nuevos estadísticos tras el filtro:\n",
    "df[\"precio\"].describe()"
   ]
  },
  {
   "cell_type": "markdown",
   "metadata": {},
   "source": [
    "Estos son los estadísticos que contiene la columna ```df[\"precio\"]```, que ahora están en escala logarítmica, vamos a verlos en escala normal deshaciendo la transformación:"
   ]
  },
  {
   "cell_type": "code",
   "execution_count": 292,
   "metadata": {},
   "outputs": [
    {
     "name": "stdout",
     "output_type": "stream",
     "text": [
      "count    36340.000000\n",
      "mean     13639.849147\n",
      "std      11027.933670\n",
      "min        300.000000\n",
      "25%       4999.000000\n",
      "50%      11490.000000\n",
      "75%      18900.000000\n",
      "max      69395.000000\n",
      "Name: precio, dtype: float64\n"
     ]
    }
   ],
   "source": [
    "import numpy as np\n",
    "\n",
    "# Mostramos el resumen estadístico con la transformación inversa (precio real)\n",
    "print(np.exp(df[\"precio\"]).describe())"
   ]
  },
  {
   "cell_type": "code",
   "execution_count": 293,
   "metadata": {},
   "outputs": [
    {
     "data": {
      "image/png": "[encoded data removed]",
      "text/plain": [
       "<Figure size 1200x800 with 1 Axes>"
      ]
     },
     "metadata": {},
     "output_type": "display_data"
    }
   ],
   "source": [
    "plt.figure(figsize=(12, 8))\n",
    "\n",
    "# Boxplot con la transformación inversa de log(precio)\n",
    "sns.boxplot(x=np.exp(df[\"precio\"]), color=colors[0])\n",
    "\n",
    "plt.title(\"Boxplot del Precio Real de los Coches (tras filtrado)\", fontsize=16)\n",
    "plt.xlabel(\"Precio (euros)\", fontsize=14)\n",
    "\n",
    "plt.show()\n"
   ]
  },
  {
   "cell_type": "markdown",
   "metadata": {},
   "source": [
    "Vemos que sólo hemos perdido 269 vehículos pero ahora el precio máximo es de 69.395 euros, lo que comprende más vehículos y elimina outliers que el modelo podría predecir mal."
   ]
  },
  {
   "cell_type": "code",
   "execution_count": 294,
   "metadata": {},
   "outputs": [
    {
     "data": {
      "text/html": [
       "<div>\n",
       "<style scoped>\n",
       "    .dataframe tbody tr th:only-of-type {\n",
       "        vertical-align: middle;\n",
       "    }\n",
       "\n",
       "    .dataframe tbody tr th {\n",
       "        vertical-align: top;\n",
       "    }\n",
       "\n",
       "    .dataframe thead th {\n",
       "        text-align: right;\n",
       "    }\n",
       "</style>\n",
       "<table border=\"1\" class=\"dataframe\">\n",
       "  <thead>\n",
       "    <tr style=\"text-align: right;\">\n",
       "      <th></th>\n",
       "      <th>marca</th>\n",
       "      <th>modelo</th>\n",
       "      <th>precio</th>\n",
       "      <th>combustible</th>\n",
       "      <th>anyo_vehiculo</th>\n",
       "      <th>kilometraje</th>\n",
       "      <th>potencia</th>\n",
       "      <th>num_puertas</th>\n",
       "      <th>tipo_cambio</th>\n",
       "      <th>color</th>\n",
       "      <th>origen_anuncio</th>\n",
       "    </tr>\n",
       "  </thead>\n",
       "  <tbody>\n",
       "    <tr>\n",
       "      <th>0</th>\n",
       "      <td>FORD</td>\n",
       "      <td>focus</td>\n",
       "      <td>9.740380</td>\n",
       "      <td>Gasolina</td>\n",
       "      <td>2019.0</td>\n",
       "      <td>75000</td>\n",
       "      <td>125.0</td>\n",
       "      <td>5.0</td>\n",
       "      <td>Manual</td>\n",
       "      <td>gris</td>\n",
       "      <td>WebScraping</td>\n",
       "    </tr>\n",
       "    <tr>\n",
       "      <th>1</th>\n",
       "      <td>OPEL</td>\n",
       "      <td>zafira tourer</td>\n",
       "      <td>9.358760</td>\n",
       "      <td>Diésel</td>\n",
       "      <td>2017.0</td>\n",
       "      <td>75150</td>\n",
       "      <td>120.0</td>\n",
       "      <td>5.0</td>\n",
       "      <td>Manual</td>\n",
       "      <td>gris</td>\n",
       "      <td>WebScraping</td>\n",
       "    </tr>\n",
       "    <tr>\n",
       "      <th>2</th>\n",
       "      <td>BMW</td>\n",
       "      <td>x3</td>\n",
       "      <td>10.542706</td>\n",
       "      <td>Híbrido</td>\n",
       "      <td>2021.0</td>\n",
       "      <td>33200</td>\n",
       "      <td>190.0</td>\n",
       "      <td>5.0</td>\n",
       "      <td>Automático</td>\n",
       "      <td>gris</td>\n",
       "      <td>WebScraping</td>\n",
       "    </tr>\n",
       "    <tr>\n",
       "      <th>3</th>\n",
       "      <td>PEUGEOT</td>\n",
       "      <td>308</td>\n",
       "      <td>9.104980</td>\n",
       "      <td>Gasolina</td>\n",
       "      <td>2016.0</td>\n",
       "      <td>127300</td>\n",
       "      <td>110.0</td>\n",
       "      <td>5.0</td>\n",
       "      <td>Manual</td>\n",
       "      <td>blanco</td>\n",
       "      <td>WebScraping</td>\n",
       "    </tr>\n",
       "    <tr>\n",
       "      <th>4</th>\n",
       "      <td>RENAULT</td>\n",
       "      <td>clio</td>\n",
       "      <td>9.391828</td>\n",
       "      <td>Diésel</td>\n",
       "      <td>2022.0</td>\n",
       "      <td>123000</td>\n",
       "      <td>100.0</td>\n",
       "      <td>5.0</td>\n",
       "      <td>Manual</td>\n",
       "      <td>blanco</td>\n",
       "      <td>WebScraping</td>\n",
       "    </tr>\n",
       "  </tbody>\n",
       "</table>\n",
       "</div>"
      ],
      "text/plain": [
       "     marca         modelo     precio combustible  anyo_vehiculo  kilometraje  \\\n",
       "0     FORD          focus   9.740380    Gasolina         2019.0        75000   \n",
       "1     OPEL  zafira tourer   9.358760      Diésel         2017.0        75150   \n",
       "2      BMW             x3  10.542706     Híbrido         2021.0        33200   \n",
       "3  PEUGEOT            308   9.104980    Gasolina         2016.0       127300   \n",
       "4  RENAULT           clio   9.391828      Diésel         2022.0       123000   \n",
       "\n",
       "   potencia  num_puertas tipo_cambio   color origen_anuncio  \n",
       "0     125.0          5.0      Manual    gris    WebScraping  \n",
       "1     120.0          5.0      Manual    gris    WebScraping  \n",
       "2     190.0          5.0  Automático    gris    WebScraping  \n",
       "3     110.0          5.0      Manual  blanco    WebScraping  \n",
       "4     100.0          5.0      Manual  blanco    WebScraping  "
      ]
     },
     "execution_count": 294,
     "metadata": {},
     "output_type": "execute_result"
    }
   ],
   "source": [
    "df.head()"
   ]
  },
  {
   "cell_type": "markdown",
   "metadata": {},
   "source": [
    "Vemos que el precio ya no está en euros. Al final, cuando ya esté hecho el modelo, habrá que deshacer esta transformación para obtener el precio real del vehículo a predecir."
   ]
  },
  {
   "cell_type": "markdown",
   "metadata": {},
   "source": [
    "### Variables numéricas:"
   ]
  },
  {
   "cell_type": "markdown",
   "metadata": {},
   "source": [
    "#### Potencia:"
   ]
  },
  {
   "cell_type": "markdown",
   "metadata": {},
   "source": [
    "Vamos a analizar los nulos de la columna ```'potencia'```, a ver si son debidos al tipo de combustible o simplemente falta en esos registros."
   ]
  },
  {
   "cell_type": "code",
   "execution_count": 295,
   "metadata": {},
   "outputs": [
    {
     "data": {
      "text/plain": [
       "combustible\n",
       "Diesel                   3\n",
       "Diésel                4880\n",
       "Eléctrico                0\n",
       "Gas licuado (GLP)        0\n",
       "Gas natural (CNG)        0\n",
       "Gasolina              1878\n",
       "Híbrido                  0\n",
       "Híbrido Enchufable       0\n",
       "Híbrido enchufable       0\n",
       "Name: potencia, dtype: int64"
      ]
     },
     "execution_count": 295,
     "metadata": {},
     "output_type": "execute_result"
    }
   ],
   "source": [
    "df.groupby(\"combustible\")[\"potencia\"].apply(lambda x: x.isnull().sum())"
   ]
  },
  {
   "cell_type": "markdown",
   "metadata": {},
   "source": [
    "Como parece que hay varios formatos de la columna combustible, vamos a mapearlos:"
   ]
  },
  {
   "cell_type": "code",
   "execution_count": 296,
   "metadata": {},
   "outputs": [],
   "source": [
    "\n",
    "mapa_combustible = {\n",
    "    \"Diesel\": \"Diésel\",\n",
    "    \"Híbrido enchufable\": \"Híbrido Enchufable\",\n",
    "    \"Híbrido Enchufable\": \"Híbrido Enchufable\"\n",
    "}\n",
    "\n",
    "df[\"combustible\"] = df[\"combustible\"].replace(mapa_combustible)"
   ]
  },
  {
   "cell_type": "code",
   "execution_count": 297,
   "metadata": {},
   "outputs": [
    {
     "data": {
      "text/plain": [
       "combustible\n",
       "Diésel                24340\n",
       "Gasolina              11026\n",
       "Híbrido Enchufable      312\n",
       "Eléctrico               285\n",
       "Híbrido                 208\n",
       "Gas natural (CNG)        58\n",
       "Gas licuado (GLP)        49\n",
       "Name: count, dtype: int64"
      ]
     },
     "execution_count": 297,
     "metadata": {},
     "output_type": "execute_result"
    }
   ],
   "source": [
    "df[\"combustible\"].value_counts()"
   ]
  },
  {
   "cell_type": "code",
   "execution_count": 298,
   "metadata": {},
   "outputs": [
    {
     "data": {
      "text/plain": [
       "combustible\n",
       "Diésel      4883\n",
       "Gasolina    1878\n",
       "dtype: int64"
      ]
     },
     "execution_count": 298,
     "metadata": {},
     "output_type": "execute_result"
    }
   ],
   "source": [
    "df[df[\"potencia\"].isna()].groupby(\"combustible\").size()"
   ]
  },
  {
   "cell_type": "markdown",
   "metadata": {},
   "source": [
    "Observamos que todos los nulos son para vehículos de gasolina o diésel, por lo que vamos a eliminar estos registros del DataFrame, ya que tenemos una cantidad de datos abundante y puede ser un parámetro sensible en el modelo, por lo que tratar de rellenar esos NaN por alguna métrica como la media, puede afectar negativamente."
   ]
  },
  {
   "cell_type": "code",
   "execution_count": 299,
   "metadata": {},
   "outputs": [
    {
     "data": {
      "text/html": [
       "<div>\n",
       "<style scoped>\n",
       "    .dataframe tbody tr th:only-of-type {\n",
       "        vertical-align: middle;\n",
       "    }\n",
       "\n",
       "    .dataframe tbody tr th {\n",
       "        vertical-align: top;\n",
       "    }\n",
       "\n",
       "    .dataframe thead th {\n",
       "        text-align: right;\n",
       "    }\n",
       "</style>\n",
       "<table border=\"1\" class=\"dataframe\">\n",
       "  <thead>\n",
       "    <tr style=\"text-align: right;\">\n",
       "      <th></th>\n",
       "      <th>marca</th>\n",
       "      <th>modelo</th>\n",
       "      <th>precio</th>\n",
       "      <th>combustible</th>\n",
       "      <th>anyo_vehiculo</th>\n",
       "      <th>kilometraje</th>\n",
       "      <th>potencia</th>\n",
       "      <th>num_puertas</th>\n",
       "      <th>tipo_cambio</th>\n",
       "      <th>color</th>\n",
       "      <th>origen_anuncio</th>\n",
       "    </tr>\n",
       "  </thead>\n",
       "  <tbody>\n",
       "    <tr>\n",
       "      <th>0</th>\n",
       "      <td>FORD</td>\n",
       "      <td>focus</td>\n",
       "      <td>9.740380</td>\n",
       "      <td>Gasolina</td>\n",
       "      <td>2019.0</td>\n",
       "      <td>75000</td>\n",
       "      <td>125.0</td>\n",
       "      <td>5.0</td>\n",
       "      <td>Manual</td>\n",
       "      <td>gris</td>\n",
       "      <td>WebScraping</td>\n",
       "    </tr>\n",
       "    <tr>\n",
       "      <th>1</th>\n",
       "      <td>OPEL</td>\n",
       "      <td>zafira tourer</td>\n",
       "      <td>9.358760</td>\n",
       "      <td>Diésel</td>\n",
       "      <td>2017.0</td>\n",
       "      <td>75150</td>\n",
       "      <td>120.0</td>\n",
       "      <td>5.0</td>\n",
       "      <td>Manual</td>\n",
       "      <td>gris</td>\n",
       "      <td>WebScraping</td>\n",
       "    </tr>\n",
       "    <tr>\n",
       "      <th>2</th>\n",
       "      <td>BMW</td>\n",
       "      <td>x3</td>\n",
       "      <td>10.542706</td>\n",
       "      <td>Híbrido</td>\n",
       "      <td>2021.0</td>\n",
       "      <td>33200</td>\n",
       "      <td>190.0</td>\n",
       "      <td>5.0</td>\n",
       "      <td>Automático</td>\n",
       "      <td>gris</td>\n",
       "      <td>WebScraping</td>\n",
       "    </tr>\n",
       "    <tr>\n",
       "      <th>3</th>\n",
       "      <td>PEUGEOT</td>\n",
       "      <td>308</td>\n",
       "      <td>9.104980</td>\n",
       "      <td>Gasolina</td>\n",
       "      <td>2016.0</td>\n",
       "      <td>127300</td>\n",
       "      <td>110.0</td>\n",
       "      <td>5.0</td>\n",
       "      <td>Manual</td>\n",
       "      <td>blanco</td>\n",
       "      <td>WebScraping</td>\n",
       "    </tr>\n",
       "    <tr>\n",
       "      <th>4</th>\n",
       "      <td>RENAULT</td>\n",
       "      <td>clio</td>\n",
       "      <td>9.391828</td>\n",
       "      <td>Diésel</td>\n",
       "      <td>2022.0</td>\n",
       "      <td>123000</td>\n",
       "      <td>100.0</td>\n",
       "      <td>5.0</td>\n",
       "      <td>Manual</td>\n",
       "      <td>blanco</td>\n",
       "      <td>WebScraping</td>\n",
       "    </tr>\n",
       "  </tbody>\n",
       "</table>\n",
       "</div>"
      ],
      "text/plain": [
       "     marca         modelo     precio combustible  anyo_vehiculo  kilometraje  \\\n",
       "0     FORD          focus   9.740380    Gasolina         2019.0        75000   \n",
       "1     OPEL  zafira tourer   9.358760      Diésel         2017.0        75150   \n",
       "2      BMW             x3  10.542706     Híbrido         2021.0        33200   \n",
       "3  PEUGEOT            308   9.104980    Gasolina         2016.0       127300   \n",
       "4  RENAULT           clio   9.391828      Diésel         2022.0       123000   \n",
       "\n",
       "   potencia  num_puertas tipo_cambio   color origen_anuncio  \n",
       "0     125.0          5.0      Manual    gris    WebScraping  \n",
       "1     120.0          5.0      Manual    gris    WebScraping  \n",
       "2     190.0          5.0  Automático    gris    WebScraping  \n",
       "3     110.0          5.0      Manual  blanco    WebScraping  \n",
       "4     100.0          5.0      Manual  blanco    WebScraping  "
      ]
     },
     "execution_count": 299,
     "metadata": {},
     "output_type": "execute_result"
    }
   ],
   "source": [
    "df = df.drop(index=(df.loc[df.loc[:, \"potencia\"].isna() == True, :]).index)\n",
    "df.head()"
   ]
  },
  {
   "cell_type": "code",
   "execution_count": 300,
   "metadata": {},
   "outputs": [
    {
     "name": "stderr",
     "output_type": "stream",
     "text": [
      "c:\\Users\\alberto.pintos\\AppData\\Local\\anaconda3\\Lib\\site-packages\\seaborn\\categorical.py:641: FutureWarning: The default of observed=False is deprecated and will be changed to True in a future version of pandas. Pass observed=False to retain current behavior or observed=True to adopt the future default and silence this warning.\n",
      "  grouped_vals = vals.groupby(grouper)\n"
     ]
    },
    {
     "data": {
      "image/png": "[encoded data removed]",
      "text/plain": [
       "<Figure size 1200x800 with 1 Axes>"
      ]
     },
     "metadata": {},
     "output_type": "display_data"
    }
   ],
   "source": [
    "# Definimos los rangos de potencia:\n",
    "min_potencia = df['potencia'].min()\n",
    "max_potencia = df['potencia'].max()\n",
    "\n",
    "num_bins = 8\n",
    "\n",
    "bins = np.linspace(min_potencia, max_potencia, num_bins + 1) \n",
    "bins = np.round(bins, -1) \n",
    "\n",
    "labels = [f'{int(bins[i])}-{int(bins[i+1])}' for i in range(len(bins)-1)]\n",
    "\n",
    "df_rangos = df.copy() \n",
    "df_rangos['potencia_rango'] = pd.cut(df_rangos['potencia'], bins=bins, labels=labels, right=False)\n",
    "\n",
    "plt.figure(figsize = (12, 8))\n",
    "\n",
    "sns.countplot(x=df_rangos[\"potencia_rango\"], order=labels, color=colors[0])\n",
    "\n",
    "plt.title(\"Distribución de vehículos por potencia\", fontsize=16)\n",
    "plt.xlabel(\"Potencia\", fontsize=14)\n",
    "plt.ylabel(\"Cantidad de vehículos\", fontsize=14)\n",
    "# plt.xticks(rotation=45)  \n",
    "\n",
    "plt.xticks(ha='center') \n",
    "plt.tight_layout()\n",
    "\n",
    "plt.show()"
   ]
  },
  {
   "cell_type": "code",
   "execution_count": 301,
   "metadata": {},
   "outputs": [
    {
     "data": {
      "text/plain": [
       "marca             491\n",
       "modelo            491\n",
       "precio            491\n",
       "combustible       491\n",
       "anyo_vehiculo     491\n",
       "kilometraje       491\n",
       "potencia          491\n",
       "num_puertas       491\n",
       "tipo_cambio       491\n",
       "color             491\n",
       "origen_anuncio    491\n",
       "dtype: int64"
      ]
     },
     "execution_count": 301,
     "metadata": {},
     "output_type": "execute_result"
    }
   ],
   "source": [
    "# Num de vehículos con potncia > 330 CV:\n",
    "\n",
    "df.loc[df.loc[:, \"potencia\"] > 330, :].count()"
   ]
  },
  {
   "cell_type": "code",
   "execution_count": 302,
   "metadata": {},
   "outputs": [
    {
     "name": "stdout",
     "output_type": "stream",
     "text": [
      "<class 'pandas.core.frame.DataFrame'>\n",
      "Index: 29551 entries, 0 to 36608\n",
      "Data columns (total 11 columns):\n",
      " #   Column          Non-Null Count  Dtype  \n",
      "---  ------          --------------  -----  \n",
      " 0   marca           29551 non-null  object \n",
      " 1   modelo          29551 non-null  object \n",
      " 2   precio          29551 non-null  float64\n",
      " 3   combustible     29517 non-null  object \n",
      " 4   anyo_vehiculo   29550 non-null  float64\n",
      " 5   kilometraje     29551 non-null  int64  \n",
      " 6   potencia        29551 non-null  float64\n",
      " 7   num_puertas     29551 non-null  float64\n",
      " 8   tipo_cambio     29471 non-null  object \n",
      " 9   color           29473 non-null  object \n",
      " 10  origen_anuncio  29551 non-null  object \n",
      "dtypes: float64(4), int64(1), object(6)\n",
      "memory usage: 2.7+ MB\n"
     ]
    }
   ],
   "source": [
    "df.info()"
   ]
  },
  {
   "cell_type": "markdown",
   "metadata": {},
   "source": [
    "#### Año:"
   ]
  },
  {
   "cell_type": "code",
   "execution_count": 303,
   "metadata": {},
   "outputs": [
    {
     "data": {
      "text/html": [
       "<div>\n",
       "<style scoped>\n",
       "    .dataframe tbody tr th:only-of-type {\n",
       "        vertical-align: middle;\n",
       "    }\n",
       "\n",
       "    .dataframe tbody tr th {\n",
       "        vertical-align: top;\n",
       "    }\n",
       "\n",
       "    .dataframe thead th {\n",
       "        text-align: right;\n",
       "    }\n",
       "</style>\n",
       "<table border=\"1\" class=\"dataframe\">\n",
       "  <thead>\n",
       "    <tr style=\"text-align: right;\">\n",
       "      <th></th>\n",
       "      <th>marca</th>\n",
       "      <th>modelo</th>\n",
       "      <th>precio</th>\n",
       "      <th>combustible</th>\n",
       "      <th>anyo_vehiculo</th>\n",
       "      <th>kilometraje</th>\n",
       "      <th>potencia</th>\n",
       "      <th>num_puertas</th>\n",
       "      <th>tipo_cambio</th>\n",
       "      <th>color</th>\n",
       "      <th>origen_anuncio</th>\n",
       "    </tr>\n",
       "  </thead>\n",
       "  <tbody>\n",
       "    <tr>\n",
       "      <th>31004</th>\n",
       "      <td>SEAT</td>\n",
       "      <td>arona</td>\n",
       "      <td>10.021271</td>\n",
       "      <td>Gasolina</td>\n",
       "      <td>NaN</td>\n",
       "      <td>1</td>\n",
       "      <td>115.0</td>\n",
       "      <td>5.0</td>\n",
       "      <td>Manual</td>\n",
       "      <td>naranja</td>\n",
       "      <td>dataset kaggle</td>\n",
       "    </tr>\n",
       "  </tbody>\n",
       "</table>\n",
       "</div>"
      ],
      "text/plain": [
       "      marca modelo     precio combustible  anyo_vehiculo  kilometraje  \\\n",
       "31004  SEAT  arona  10.021271    Gasolina            NaN            1   \n",
       "\n",
       "       potencia  num_puertas tipo_cambio    color  origen_anuncio  \n",
       "31004     115.0          5.0      Manual  naranja  dataset kaggle  "
      ]
     },
     "execution_count": 303,
     "metadata": {},
     "output_type": "execute_result"
    }
   ],
   "source": [
    "# Vemos si hay alguno nulo:\n",
    "\n",
    "df[df[\"anyo_vehiculo\"].isna()]"
   ]
  },
  {
   "cell_type": "markdown",
   "metadata": {},
   "source": [
    "Vamos a ver la distribución de valores del campo ```\"anyo_vehiculo\"```."
   ]
  },
  {
   "cell_type": "markdown",
   "metadata": {},
   "source": [
    "Hay uno con valor nulo. Lo eliminamos y convertimos el resto a int:"
   ]
  },
  {
   "cell_type": "code",
   "execution_count": 304,
   "metadata": {},
   "outputs": [],
   "source": [
    "df = df.dropna(subset=[\"anyo_vehiculo\"])\n",
    "\n",
    "df[\"anyo_vehiculo\"] = df[\"anyo_vehiculo\"].astype(int)"
   ]
  },
  {
   "cell_type": "code",
   "execution_count": 305,
   "metadata": {},
   "outputs": [
    {
     "data": {
      "text/plain": [
       "anyo_vehiculo\n",
       "2016    3813\n",
       "2017    3066\n",
       "2019    2999\n",
       "2020    2760\n",
       "2018    2507\n",
       "2015    2159\n",
       "2014    1335\n",
       "2013     968\n",
       "2007     959\n",
       "2008     912\n",
       "2011     897\n",
       "2010     870\n",
       "2012     830\n",
       "2009     825\n",
       "2006     786\n",
       "2005     737\n",
       "2004     576\n",
       "2003     424\n",
       "2021     397\n",
       "2002     330\n",
       "2001     255\n",
       "2000     218\n",
       "1999     163\n",
       "2022     143\n",
       "2023     113\n",
       "1998      92\n",
       "1997      62\n",
       "2024      55\n",
       "1996      50\n",
       "1993      41\n",
       "1995      33\n",
       "1992      29\n",
       "1994      28\n",
       "1991      24\n",
       "1989      24\n",
       "1990      17\n",
       "1988      11\n",
       "1987       9\n",
       "1986       8\n",
       "1982       7\n",
       "2025       6\n",
       "1985       5\n",
       "1984       3\n",
       "1983       3\n",
       "1980       1\n",
       "Name: count, dtype: int64"
      ]
     },
     "execution_count": 305,
     "metadata": {},
     "output_type": "execute_result"
    }
   ],
   "source": [
    "df[\"anyo_vehiculo\"].value_counts()"
   ]
  },
  {
   "cell_type": "code",
   "execution_count": 306,
   "metadata": {},
   "outputs": [
    {
     "data": {
      "image/png": "[encoded data removed]",
      "text/plain": [
       "<Figure size 1200x800 with 1 Axes>"
      ]
     },
     "metadata": {},
     "output_type": "display_data"
    }
   ],
   "source": [
    "plt.figure(figsize = (12, 8))\n",
    "\n",
    "rango_años = np.linspace(df[\"anyo_vehiculo\"].min(), df[\"anyo_vehiculo\"].max(), num=int(df[\"anyo_vehiculo\"].max() - df[\"anyo_vehiculo\"].min()) + 1, dtype=int)\n",
    "\n",
    "\n",
    "sns.countplot(x=df[\"anyo_vehiculo\"], order=rango_años, color=colors[0])\n",
    "\n",
    "plt.title(\"Distribución de vehículos por año de fabricación\", fontsize=16)\n",
    "plt.xlabel(\"Año de fabricación\", fontsize=14)\n",
    "plt.ylabel(\"Cantidad de vehículos\", fontsize=14)\n",
    "plt.xticks(rotation=90)  \n",
    "\n",
    "plt.show()"
   ]
  },
  {
   "cell_type": "markdown",
   "metadata": {},
   "source": [
    "#### Número de puertas:"
   ]
  },
  {
   "cell_type": "markdown",
   "metadata": {},
   "source": [
    "Veamos los valores de la siguiente columna no numérica, ```\"num_puertas\"```:"
   ]
  },
  {
   "cell_type": "code",
   "execution_count": 307,
   "metadata": {},
   "outputs": [
    {
     "data": {
      "text/plain": [
       "num_puertas\n",
       "5    20900\n",
       "4     5001\n",
       "3     2158\n",
       "2     1491\n",
       "Name: count, dtype: int64"
      ]
     },
     "execution_count": 307,
     "metadata": {},
     "output_type": "execute_result"
    }
   ],
   "source": [
    "df[\"num_puertas\"] = df[\"num_puertas\"].astype(int)\n",
    "\n",
    "df[\"num_puertas\"].value_counts()"
   ]
  },
  {
   "cell_type": "markdown",
   "metadata": {},
   "source": [
    "Vamos a agrupar los coches de 5 puertas con los de 4, y los de 3 con los de 2, ya que la diferencia es que no se cuenta el maletero."
   ]
  },
  {
   "cell_type": "code",
   "execution_count": 308,
   "metadata": {},
   "outputs": [],
   "source": [
    "num_puertas = {5: 5,\n",
    "            4 : 5,\n",
    "            3 : 3,\n",
    "            2 : 3}\n",
    "                     \n",
    "df[\"num_puertas\"] = df[\"num_puertas\"].map(num_puertas)"
   ]
  },
  {
   "cell_type": "code",
   "execution_count": 309,
   "metadata": {},
   "outputs": [
    {
     "data": {
      "text/plain": [
       "num_puertas\n",
       "5    25901\n",
       "3     3649\n",
       "Name: count, dtype: int64"
      ]
     },
     "execution_count": 309,
     "metadata": {},
     "output_type": "execute_result"
    }
   ],
   "source": [
    "df[\"num_puertas\"].value_counts()"
   ]
  },
  {
   "cell_type": "code",
   "execution_count": 310,
   "metadata": {},
   "outputs": [
    {
     "name": "stdout",
     "output_type": "stream",
     "text": [
      "<class 'pandas.core.frame.DataFrame'>\n",
      "Index: 29550 entries, 0 to 36608\n",
      "Data columns (total 11 columns):\n",
      " #   Column          Non-Null Count  Dtype  \n",
      "---  ------          --------------  -----  \n",
      " 0   marca           29550 non-null  object \n",
      " 1   modelo          29550 non-null  object \n",
      " 2   precio          29550 non-null  float64\n",
      " 3   combustible     29516 non-null  object \n",
      " 4   anyo_vehiculo   29550 non-null  int32  \n",
      " 5   kilometraje     29550 non-null  int64  \n",
      " 6   potencia        29550 non-null  float64\n",
      " 7   num_puertas     29550 non-null  int64  \n",
      " 8   tipo_cambio     29470 non-null  object \n",
      " 9   color           29472 non-null  object \n",
      " 10  origen_anuncio  29550 non-null  object \n",
      "dtypes: float64(2), int32(1), int64(2), object(6)\n",
      "memory usage: 2.6+ MB\n"
     ]
    }
   ],
   "source": [
    "df.info()"
   ]
  },
  {
   "cell_type": "markdown",
   "metadata": {},
   "source": [
    "### Variables categóricas:"
   ]
  },
  {
   "cell_type": "markdown",
   "metadata": {},
   "source": [
    "#### Color:"
   ]
  },
  {
   "cell_type": "markdown",
   "metadata": {},
   "source": [
    "La columna ```\"color\"``` sigue teniendo bastantes NaN."
   ]
  },
  {
   "cell_type": "code",
   "execution_count": 311,
   "metadata": {},
   "outputs": [
    {
     "data": {
      "text/plain": [
       "color\n",
       "blanco           7504\n",
       "gris             7030\n",
       "negro            4939\n",
       "azul             3455\n",
       "rojo             1676\n",
       "Blanco            600\n",
       "marrón            477\n",
       "beige             401\n",
       "verde             320\n",
       "Gris / Plata      317\n",
       "granate           264\n",
       "Negro             239\n",
       "naranja           185\n",
       "Azul              172\n",
       "amarillo          162\n",
       "Rojo              138\n",
       "300               104\n",
       "475                71\n",
       "2t2t               54\n",
       "b4b4               51\n",
       "violeta            38\n",
       "x3x3               34\n",
       "0q0q               31\n",
       "2y2y               31\n",
       "0e0e               30\n",
       "b39                29\n",
       "668                28\n",
       "a83                25\n",
       "8e8e               24\n",
       "gaz                23\n",
       "149                22\n",
       "Naranja            22\n",
       "h7h7               21\n",
       "369                21\n",
       "k5k5               21\n",
       "a89                19\n",
       "c10                18\n",
       "0c0c               18\n",
       "Beige              16\n",
       "a96                15\n",
       "l5l5               15\n",
       "a90                15\n",
       "y1y1               14\n",
       "m0f4               14\n",
       "4m4m               13\n",
       "197                13\n",
       "s7s7               12\n",
       "b45                12\n",
       "z1z1               11\n",
       "qpa$369            11\n",
       "5v5v               10\n",
       "p0wp               10\n",
       "w1w1               10\n",
       "Marrón             10\n",
       "e1e1               10\n",
       "416                10\n",
       "plata               9\n",
       "6y6y                9\n",
       "650                 9\n",
       "m6n9                9\n",
       "tapicería           9\n",
       "met                 9\n",
       "a52                 9\n",
       "7y7y                8\n",
       "c08                 8\n",
       "9550                8\n",
       "f6f6                7\n",
       "775                 7\n",
       "787                 7\n",
       "0r0r                7\n",
       "040                 7\n",
       "alpinweiß           7\n",
       "Amarillo            7\n",
       "l8l8                7\n",
       "b53                 7\n",
       "m09v                7\n",
       "z2z2                7\n",
       "m6sm                6\n",
       "gb9                 6\n",
       "m0                  6\n",
       "p0p0                6\n",
       "09                  6\n",
       "pa03                6\n",
       "Verde               6\n",
       "g3g3                5\n",
       "a75                 5\n",
       "movl                5\n",
       "0z0z                5\n",
       "761                 5\n",
       "9p9p                5\n",
       "e10e                5\n",
       "gan                 5\n",
       "m0kl                5\n",
       "z7z7                5\n",
       "d2d2                5\n",
       "b9b9                5\n",
       "0a0a                5\n",
       "890                 5\n",
       "h1h1                5\n",
       "354                 4\n",
       "d69                 4\n",
       "m0zr                4\n",
       "b65                 4\n",
       "a76                 4\n",
       "s9s9                4\n",
       "c1d                 4\n",
       "pa10                4\n",
       "f9f9                4\n",
       "2y0e                4\n",
       "kng                 4\n",
       "589                 4\n",
       "i4i4                4\n",
       "gne                 4\n",
       "t9t9                4\n",
       "9m9m                3\n",
       "gwd                 3\n",
       "pa07                3\n",
       "black               3\n",
       "k6k6                3\n",
       "designo             3\n",
       "992                 3\n",
       "149u                3\n",
       "g3a2                3\n",
       "5p5p                3\n",
       "n9n9                3\n",
       "73o                 3\n",
       "b38                 3\n",
       "m0vl                3\n",
       "k1k1                3\n",
       "u3u3                3\n",
       "d16                 3\n",
       "q2q2                3\n",
       "pa08                3\n",
       "schwarz             3\n",
       "7y0e                3\n",
       "0f0f                2\n",
       "5z5z                2\n",
       "p5p5                2\n",
       "k2k2                2\n",
       "pa01                2\n",
       "0y0y                2\n",
       "9c9c                2\n",
       "m09p                2\n",
       "gar                 2\n",
       "a61                 2\n",
       "pintura             2\n",
       "7b7b                2\n",
       "f5f5                2\n",
       "b40e                2\n",
       "696                 2\n",
       "powp                2\n",
       "npf                 2\n",
       "glaciersilber       2\n",
       "c2y                 2\n",
       "pa09                2\n",
       "gwj                 2\n",
       "gwh                 2\n",
       "1r1r                2\n",
       "1z1z                2\n",
       "a17                 2\n",
       "g0a                 2\n",
       "g2g2                2\n",
       "y7y7                2\n",
       "796                 2\n",
       "9s9s                2\n",
       "mineralweiss        2\n",
       "2ya2                2\n",
       "d17                 2\n",
       "2d2d                2\n",
       "q4q4                2\n",
       "d8d8                2\n",
       "pn3gz               2\n",
       "735                 2\n",
       "c3n                 2\n",
       "m09t                2\n",
       "890u                2\n",
       "hnp                 2\n",
       "z70e                2\n",
       "fcf                 2\n",
       "5k5k                2\n",
       "c1m                 2\n",
       "alpinweib           2\n",
       "a34                 1\n",
       "0j0j                1\n",
       "b50                 1\n",
       "73r                 1\n",
       "a92                 1\n",
       "c1n                 1\n",
       "a1a1                1\n",
       "m0/p0               1\n",
       "kairo               1\n",
       "a35                 1\n",
       "m0v7                1\n",
       "pn4hs               1\n",
       "8q8q                1\n",
       "pnzat0              1\n",
       "m05l                1\n",
       "grafito             1\n",
       "rpr                 1\n",
       "x10                 1\n",
       "p05                 1\n",
       "1x0e                1\n",
       "b4f5                1\n",
       "pa19                1\n",
       "755                 1\n",
       "l9a1                1\n",
       "p03                 1\n",
       "breathing           1\n",
       "gr5                 1\n",
       "b41                 1\n",
       "676                 1\n",
       "k8k8                1\n",
       "02                  1\n",
       "x5x5                1\n",
       "cavansita           1\n",
       "sparkling           1\n",
       "nnp                 1\n",
       "p01                 1\n",
       "n9h1                1\n",
       "963                 1\n",
       "qpa$kpn             1\n",
       "b0b0                1\n",
       "10                  1\n",
       "c16                 1\n",
       "blanco(blanco       1\n",
       "a4a4                1\n",
       "c26                 1\n",
       "clasificación       1\n",
       "4k4k                1\n",
       "c1p                 1\n",
       "4q4q                1\n",
       "d5d5                1\n",
       "m5m5                1\n",
       "biypc               1\n",
       "m0vg                1\n",
       "990                 1\n",
       "73h                 1\n",
       "c4f                 1\n",
       "terqh               1\n",
       "6k6k                1\n",
       "8h8h                1\n",
       "1j1j                1\n",
       "gris/plata          1\n",
       "m0eg                1\n",
       "r6r6                1\n",
       "p0y2                1\n",
       "gdx                 1\n",
       "4ma1                1\n",
       "9x9x                1\n",
       "metallic            1\n",
       "1011                1\n",
       "gb0                 1\n",
       "g6r                 1\n",
       "onyx                1\n",
       "gop                 1\n",
       "ops                 1\n",
       "pa13                1\n",
       "m0ku                1\n",
       "jkm                 1\n",
       "pa05                1\n",
       "f4f4                1\n",
       "4u4u                1\n",
       "mountaingrau        1\n",
       "h05                 1\n",
       "7w7w                1\n",
       "m8b                 1\n",
       "u0u0                1\n",
       "c1z                 1\n",
       "73f                 1\n",
       "aqua                1\n",
       "midnight            1\n",
       "0d0d                1\n",
       "4p4p                1\n",
       "6t6t                1\n",
       "c36                 1\n",
       "sophistograu        1\n",
       "73b                 1\n",
       "4eu                 1\n",
       "c07                 1\n",
       "p02                 1\n",
       "sophisto-grau       1\n",
       "gxm                 1\n",
       "qpa$qnc             1\n",
       "996                 1\n",
       "c37                 1\n",
       "5j5j                1\n",
       "5u0e                1\n",
       "a14                 1\n",
       "ovd16               1\n",
       "c1c1                1\n",
       "p0xy                1\n",
       "230                 1\n",
       "qpa$d69             1\n",
       "9nh                 1\n",
       "pa06                1\n",
       "km0                 1\n",
       "2tsl                1\n",
       "c31                 1\n",
       "a72                 1\n",
       "4n4n                1\n",
       "3a3a                1\n",
       "667u                1\n",
       "night               1\n",
       "4b4b                1\n",
       "n6n6                1\n",
       "792                 1\n",
       "n90e                1\n",
       "gf6                 1\n",
       "pa02                1\n",
       "gk2                 1\n",
       "pn3jv               1\n",
       "silverstone         1\n",
       "c2s                 1\n",
       "79u                 1\n",
       "gbh                 1\n",
       "mineral             1\n",
       "240                 1\n",
       "gg7                 1\n",
       "t1t1                1\n",
       "191                 1\n",
       "mineralgrau         1\n",
       "Name: count, dtype: int64"
      ]
     },
     "execution_count": 311,
     "metadata": {},
     "output_type": "execute_result"
    }
   ],
   "source": [
    "pd.set_option(\"display.max_rows\", None)\n",
    "\n",
    "df[\"color\"].value_counts()"
   ]
  },
  {
   "cell_type": "markdown",
   "metadata": {},
   "source": [
    "Vamos a eliminar la columna color, ya que es una columna categórica con 323 valores únicos y algunos pueden estar en una codificación numérica y otros están mal guardados."
   ]
  },
  {
   "cell_type": "code",
   "execution_count": 312,
   "metadata": {},
   "outputs": [],
   "source": [
    "df = df.drop(columns=\"color\")"
   ]
  },
  {
   "cell_type": "code",
   "execution_count": 313,
   "metadata": {},
   "outputs": [
    {
     "name": "stdout",
     "output_type": "stream",
     "text": [
      "<class 'pandas.core.frame.DataFrame'>\n",
      "Index: 29550 entries, 0 to 36608\n",
      "Data columns (total 10 columns):\n",
      " #   Column          Non-Null Count  Dtype  \n",
      "---  ------          --------------  -----  \n",
      " 0   marca           29550 non-null  object \n",
      " 1   modelo          29550 non-null  object \n",
      " 2   precio          29550 non-null  float64\n",
      " 3   combustible     29516 non-null  object \n",
      " 4   anyo_vehiculo   29550 non-null  int32  \n",
      " 5   kilometraje     29550 non-null  int64  \n",
      " 6   potencia        29550 non-null  float64\n",
      " 7   num_puertas     29550 non-null  int64  \n",
      " 8   tipo_cambio     29470 non-null  object \n",
      " 9   origen_anuncio  29550 non-null  object \n",
      "dtypes: float64(2), int32(1), int64(2), object(5)\n",
      "memory usage: 2.4+ MB\n"
     ]
    }
   ],
   "source": [
    "df.info()"
   ]
  },
  {
   "cell_type": "markdown",
   "metadata": {},
   "source": [
    "#### Tipo de cambio:"
   ]
  },
  {
   "cell_type": "markdown",
   "metadata": {},
   "source": [
    "La columna ```\"tipo_cambio\"``` también continúa teniendo bastantes NaN."
   ]
  },
  {
   "cell_type": "code",
   "execution_count": 314,
   "metadata": {},
   "outputs": [
    {
     "data": {
      "text/plain": [
       "tipo_cambio\n",
       "Manual        19878\n",
       "Automático     9592\n",
       "None             80\n",
       "Name: count, dtype: int64"
      ]
     },
     "execution_count": 314,
     "metadata": {},
     "output_type": "execute_result"
    }
   ],
   "source": [
    "df[\"tipo_cambio\"].value_counts(dropna=False)"
   ]
  },
  {
   "cell_type": "markdown",
   "metadata": {},
   "source": [
    "Como en la columna ```\"tipo_cambio\"``` existen muchos coches manuales y automáticos, vamos a eliminar las filas con valores de ```\"tipo_cambio\"``` nulos (111)."
   ]
  },
  {
   "cell_type": "code",
   "execution_count": 315,
   "metadata": {},
   "outputs": [
    {
     "data": {
      "text/html": [
       "<div>\n",
       "<style scoped>\n",
       "    .dataframe tbody tr th:only-of-type {\n",
       "        vertical-align: middle;\n",
       "    }\n",
       "\n",
       "    .dataframe tbody tr th {\n",
       "        vertical-align: top;\n",
       "    }\n",
       "\n",
       "    .dataframe thead th {\n",
       "        text-align: right;\n",
       "    }\n",
       "</style>\n",
       "<table border=\"1\" class=\"dataframe\">\n",
       "  <thead>\n",
       "    <tr style=\"text-align: right;\">\n",
       "      <th></th>\n",
       "      <th>marca</th>\n",
       "      <th>modelo</th>\n",
       "      <th>precio</th>\n",
       "      <th>combustible</th>\n",
       "      <th>anyo_vehiculo</th>\n",
       "      <th>kilometraje</th>\n",
       "      <th>potencia</th>\n",
       "      <th>num_puertas</th>\n",
       "      <th>tipo_cambio</th>\n",
       "      <th>origen_anuncio</th>\n",
       "    </tr>\n",
       "  </thead>\n",
       "  <tbody>\n",
       "    <tr>\n",
       "      <th>0</th>\n",
       "      <td>FORD</td>\n",
       "      <td>focus</td>\n",
       "      <td>9.740380</td>\n",
       "      <td>Gasolina</td>\n",
       "      <td>2019</td>\n",
       "      <td>75000</td>\n",
       "      <td>125.0</td>\n",
       "      <td>5</td>\n",
       "      <td>Manual</td>\n",
       "      <td>WebScraping</td>\n",
       "    </tr>\n",
       "    <tr>\n",
       "      <th>1</th>\n",
       "      <td>OPEL</td>\n",
       "      <td>zafira tourer</td>\n",
       "      <td>9.358760</td>\n",
       "      <td>Diésel</td>\n",
       "      <td>2017</td>\n",
       "      <td>75150</td>\n",
       "      <td>120.0</td>\n",
       "      <td>5</td>\n",
       "      <td>Manual</td>\n",
       "      <td>WebScraping</td>\n",
       "    </tr>\n",
       "    <tr>\n",
       "      <th>2</th>\n",
       "      <td>BMW</td>\n",
       "      <td>x3</td>\n",
       "      <td>10.542706</td>\n",
       "      <td>Híbrido</td>\n",
       "      <td>2021</td>\n",
       "      <td>33200</td>\n",
       "      <td>190.0</td>\n",
       "      <td>5</td>\n",
       "      <td>Automático</td>\n",
       "      <td>WebScraping</td>\n",
       "    </tr>\n",
       "    <tr>\n",
       "      <th>3</th>\n",
       "      <td>PEUGEOT</td>\n",
       "      <td>308</td>\n",
       "      <td>9.104980</td>\n",
       "      <td>Gasolina</td>\n",
       "      <td>2016</td>\n",
       "      <td>127300</td>\n",
       "      <td>110.0</td>\n",
       "      <td>5</td>\n",
       "      <td>Manual</td>\n",
       "      <td>WebScraping</td>\n",
       "    </tr>\n",
       "    <tr>\n",
       "      <th>4</th>\n",
       "      <td>RENAULT</td>\n",
       "      <td>clio</td>\n",
       "      <td>9.391828</td>\n",
       "      <td>Diésel</td>\n",
       "      <td>2022</td>\n",
       "      <td>123000</td>\n",
       "      <td>100.0</td>\n",
       "      <td>5</td>\n",
       "      <td>Manual</td>\n",
       "      <td>WebScraping</td>\n",
       "    </tr>\n",
       "  </tbody>\n",
       "</table>\n",
       "</div>"
      ],
      "text/plain": [
       "     marca         modelo     precio combustible  anyo_vehiculo  kilometraje  \\\n",
       "0     FORD          focus   9.740380    Gasolina           2019        75000   \n",
       "1     OPEL  zafira tourer   9.358760      Diésel           2017        75150   \n",
       "2      BMW             x3  10.542706     Híbrido           2021        33200   \n",
       "3  PEUGEOT            308   9.104980    Gasolina           2016       127300   \n",
       "4  RENAULT           clio   9.391828      Diésel           2022       123000   \n",
       "\n",
       "   potencia  num_puertas tipo_cambio origen_anuncio  \n",
       "0     125.0            5      Manual    WebScraping  \n",
       "1     120.0            5      Manual    WebScraping  \n",
       "2     190.0            5  Automático    WebScraping  \n",
       "3     110.0            5      Manual    WebScraping  \n",
       "4     100.0            5      Manual    WebScraping  "
      ]
     },
     "execution_count": 315,
     "metadata": {},
     "output_type": "execute_result"
    }
   ],
   "source": [
    "df = df.drop(index=(df.loc[df.loc[:, \"tipo_cambio\"].isna() == True, :]).index)\n",
    "df.head()"
   ]
  },
  {
   "cell_type": "code",
   "execution_count": 316,
   "metadata": {},
   "outputs": [
    {
     "name": "stdout",
     "output_type": "stream",
     "text": [
      "<class 'pandas.core.frame.DataFrame'>\n",
      "Index: 29470 entries, 0 to 36608\n",
      "Data columns (total 10 columns):\n",
      " #   Column          Non-Null Count  Dtype  \n",
      "---  ------          --------------  -----  \n",
      " 0   marca           29470 non-null  object \n",
      " 1   modelo          29470 non-null  object \n",
      " 2   precio          29470 non-null  float64\n",
      " 3   combustible     29436 non-null  object \n",
      " 4   anyo_vehiculo   29470 non-null  int32  \n",
      " 5   kilometraje     29470 non-null  int64  \n",
      " 6   potencia        29470 non-null  float64\n",
      " 7   num_puertas     29470 non-null  int64  \n",
      " 8   tipo_cambio     29470 non-null  object \n",
      " 9   origen_anuncio  29470 non-null  object \n",
      "dtypes: float64(2), int32(1), int64(2), object(5)\n",
      "memory usage: 2.4+ MB\n"
     ]
    }
   ],
   "source": [
    "df.info()"
   ]
  },
  {
   "cell_type": "markdown",
   "metadata": {},
   "source": [
    "Ahora que ya no contiene nulos, convertimos a numéricos los valores de la columna ```\"tipo_cambio\"```, mapeando como 0 los vehículos con cambio \"Manual\" y 1 los que tienen \"Automático\":"
   ]
  },
  {
   "cell_type": "code",
   "execution_count": 317,
   "metadata": {},
   "outputs": [
    {
     "data": {
      "text/plain": [
       "tipo_cambio\n",
       "Manual        19878\n",
       "Automático     9592\n",
       "Name: count, dtype: int64"
      ]
     },
     "execution_count": 317,
     "metadata": {},
     "output_type": "execute_result"
    }
   ],
   "source": [
    "df[\"tipo_cambio\"].value_counts()"
   ]
  },
  {
   "cell_type": "code",
   "execution_count": 318,
   "metadata": {},
   "outputs": [],
   "source": [
    "df[\"tipo_cambio\"] = df[\"tipo_cambio\"].apply(lambda x: 0 if x == \"Manual\" else 1)"
   ]
  },
  {
   "cell_type": "code",
   "execution_count": 319,
   "metadata": {},
   "outputs": [
    {
     "data": {
      "text/plain": [
       "tipo_cambio\n",
       "0    19878\n",
       "1     9592\n",
       "Name: count, dtype: int64"
      ]
     },
     "execution_count": 319,
     "metadata": {},
     "output_type": "execute_result"
    }
   ],
   "source": [
    "df[\"tipo_cambio\"].value_counts()"
   ]
  },
  {
   "cell_type": "code",
   "execution_count": 320,
   "metadata": {},
   "outputs": [
    {
     "name": "stdout",
     "output_type": "stream",
     "text": [
      "<class 'pandas.core.frame.DataFrame'>\n",
      "Index: 29470 entries, 0 to 36608\n",
      "Data columns (total 10 columns):\n",
      " #   Column          Non-Null Count  Dtype  \n",
      "---  ------          --------------  -----  \n",
      " 0   marca           29470 non-null  object \n",
      " 1   modelo          29470 non-null  object \n",
      " 2   precio          29470 non-null  float64\n",
      " 3   combustible     29436 non-null  object \n",
      " 4   anyo_vehiculo   29470 non-null  int32  \n",
      " 5   kilometraje     29470 non-null  int64  \n",
      " 6   potencia        29470 non-null  float64\n",
      " 7   num_puertas     29470 non-null  int64  \n",
      " 8   tipo_cambio     29470 non-null  int64  \n",
      " 9   origen_anuncio  29470 non-null  object \n",
      "dtypes: float64(2), int32(1), int64(3), object(4)\n",
      "memory usage: 2.4+ MB\n"
     ]
    }
   ],
   "source": [
    "df.info()"
   ]
  },
  {
   "cell_type": "markdown",
   "metadata": {},
   "source": [
    "#### Combustible:"
   ]
  },
  {
   "cell_type": "code",
   "execution_count": 321,
   "metadata": {},
   "outputs": [
    {
     "data": {
      "text/plain": [
       "marca             34\n",
       "modelo            34\n",
       "precio            34\n",
       "combustible        0\n",
       "anyo_vehiculo     34\n",
       "kilometraje       34\n",
       "potencia          34\n",
       "num_puertas       34\n",
       "tipo_cambio       34\n",
       "origen_anuncio    34\n",
       "dtype: int64"
      ]
     },
     "execution_count": 321,
     "metadata": {},
     "output_type": "execute_result"
    }
   ],
   "source": [
    "df[df[\"combustible\"].isna()].count()"
   ]
  },
  {
   "cell_type": "markdown",
   "metadata": {},
   "source": [
    "Todavía hay 34 registros con el valor de combustible nulo, de modo que eliminamos estos registros:"
   ]
  },
  {
   "cell_type": "code",
   "execution_count": 322,
   "metadata": {},
   "outputs": [
    {
     "name": "stdout",
     "output_type": "stream",
     "text": [
      "<class 'pandas.core.frame.DataFrame'>\n",
      "Index: 29436 entries, 0 to 36608\n",
      "Data columns (total 10 columns):\n",
      " #   Column          Non-Null Count  Dtype  \n",
      "---  ------          --------------  -----  \n",
      " 0   marca           29436 non-null  object \n",
      " 1   modelo          29436 non-null  object \n",
      " 2   precio          29436 non-null  float64\n",
      " 3   combustible     29436 non-null  object \n",
      " 4   anyo_vehiculo   29436 non-null  int32  \n",
      " 5   kilometraje     29436 non-null  int64  \n",
      " 6   potencia        29436 non-null  float64\n",
      " 7   num_puertas     29436 non-null  int64  \n",
      " 8   tipo_cambio     29436 non-null  int64  \n",
      " 9   origen_anuncio  29436 non-null  object \n",
      "dtypes: float64(2), int32(1), int64(3), object(4)\n",
      "memory usage: 2.4+ MB\n"
     ]
    }
   ],
   "source": [
    "df = df.dropna()\n",
    "df.info()"
   ]
  },
  {
   "cell_type": "markdown",
   "metadata": {},
   "source": [
    "Vemos que nos hemos quedado con 29698 filas de 10 marcas de vehículos. Ya no tenemos valores nulos, ahora vamos a procesar las columnas restantes para que puedan ser usadas en el modelo."
   ]
  },
  {
   "cell_type": "code",
   "execution_count": 323,
   "metadata": {},
   "outputs": [
    {
     "data": {
      "text/plain": [
       "combustible\n",
       "Diésel                19396\n",
       "Gasolina               9128\n",
       "Híbrido Enchufable      312\n",
       "Eléctrico               285\n",
       "Híbrido                 208\n",
       "Gas natural (CNG)        58\n",
       "Gas licuado (GLP)        49\n",
       "Name: count, dtype: int64"
      ]
     },
     "execution_count": 323,
     "metadata": {},
     "output_type": "execute_result"
    }
   ],
   "source": [
    "df[\"combustible\"].value_counts()"
   ]
  },
  {
   "cell_type": "code",
   "execution_count": 324,
   "metadata": {},
   "outputs": [
    {
     "data": {
      "image/png": "[encoded data removed]",
      "text/plain": [
       "<Figure size 1200x800 with 1 Axes>"
      ]
     },
     "metadata": {},
     "output_type": "display_data"
    }
   ],
   "source": [
    "plt.figure(figsize = (12, 8))\n",
    "\n",
    "sns.countplot(x=df[\"combustible\"], order=df[\"combustible\"].value_counts(ascending=False).index, color=colors[0])\n",
    "\n",
    "plt.title(\"Distribución de tipos de combustible\", fontsize=16)\n",
    "plt.xlabel(\"Tipo de combustible\", fontsize=14)\n",
    "plt.ylabel(\"Cantidad de vehículos\", fontsize=14)\n",
    "# plt.xticks(rotation=45)  \n",
    "\n",
    "plt.show()"
   ]
  },
  {
   "cell_type": "code",
   "execution_count": 325,
   "metadata": {},
   "outputs": [
    {
     "name": "stdout",
     "output_type": "stream",
     "text": [
      "<class 'pandas.core.frame.DataFrame'>\n",
      "Index: 29436 entries, 0 to 36608\n",
      "Data columns (total 10 columns):\n",
      " #   Column          Non-Null Count  Dtype  \n",
      "---  ------          --------------  -----  \n",
      " 0   marca           29436 non-null  object \n",
      " 1   modelo          29436 non-null  object \n",
      " 2   precio          29436 non-null  float64\n",
      " 3   combustible     29436 non-null  object \n",
      " 4   anyo_vehiculo   29436 non-null  int32  \n",
      " 5   kilometraje     29436 non-null  int64  \n",
      " 6   potencia        29436 non-null  float64\n",
      " 7   num_puertas     29436 non-null  int64  \n",
      " 8   tipo_cambio     29436 non-null  int64  \n",
      " 9   origen_anuncio  29436 non-null  object \n",
      "dtypes: float64(2), int32(1), int64(3), object(4)\n",
      "memory usage: 2.4+ MB\n"
     ]
    }
   ],
   "source": [
    "df.info()"
   ]
  },
  {
   "cell_type": "markdown",
   "metadata": {},
   "source": [
    "Vamos ahora a convertir la columna ```\"combustible\"``` en numérica a través de un mapeado:"
   ]
  },
  {
   "cell_type": "code",
   "execution_count": 326,
   "metadata": {},
   "outputs": [
    {
     "data": {
      "text/plain": [
       "combustible\n",
       "Diésel                19396\n",
       "Gasolina               9128\n",
       "Híbrido Enchufable      312\n",
       "Eléctrico               285\n",
       "Híbrido                 208\n",
       "Gas natural (CNG)        58\n",
       "Gas licuado (GLP)        49\n",
       "Name: count, dtype: int64"
      ]
     },
     "execution_count": 326,
     "metadata": {},
     "output_type": "execute_result"
    }
   ],
   "source": [
    "df[\"combustible\"].value_counts()"
   ]
  },
  {
   "cell_type": "markdown",
   "metadata": {},
   "source": [
    "Vemos cómo predominan los coches de diésel y gasolina.\n",
    "\n",
    "Convertimos los valores en numéricos utilizando un mapeado:"
   ]
  },
  {
   "cell_type": "code",
   "execution_count": 327,
   "metadata": {},
   "outputs": [],
   "source": [
    "# Aplicamos un mapeado para la columna \"combustible\":\n",
    "\n",
    "tipos_combutible = {\"Diésel\" : 0,\n",
    "            \"Gasolina\" : 1,\n",
    "            \"Híbrido\" : 2,\n",
    "            \"Eléctrico\" : 3,\n",
    "            \"Híbrido Enchufable\" : 4, \n",
    "            \"Gas licuado (GLP)\" : 5,\n",
    "            \"Gas natural (CNG)\" : 6}\n",
    "                     \n",
    "df[\"combustible\"] = df[\"combustible\"].map(tipos_combutible)"
   ]
  },
  {
   "cell_type": "code",
   "execution_count": 328,
   "metadata": {},
   "outputs": [
    {
     "data": {
      "text/plain": [
       "combustible\n",
       "0    19396\n",
       "1     9128\n",
       "4      312\n",
       "3      285\n",
       "2      208\n",
       "6       58\n",
       "5       49\n",
       "Name: count, dtype: int64"
      ]
     },
     "execution_count": 328,
     "metadata": {},
     "output_type": "execute_result"
    }
   ],
   "source": [
    "df[\"combustible\"].value_counts()"
   ]
  },
  {
   "cell_type": "code",
   "execution_count": 329,
   "metadata": {},
   "outputs": [
    {
     "name": "stdout",
     "output_type": "stream",
     "text": [
      "<class 'pandas.core.frame.DataFrame'>\n",
      "Index: 29436 entries, 0 to 36608\n",
      "Data columns (total 10 columns):\n",
      " #   Column          Non-Null Count  Dtype  \n",
      "---  ------          --------------  -----  \n",
      " 0   marca           29436 non-null  object \n",
      " 1   modelo          29436 non-null  object \n",
      " 2   precio          29436 non-null  float64\n",
      " 3   combustible     29436 non-null  int64  \n",
      " 4   anyo_vehiculo   29436 non-null  int32  \n",
      " 5   kilometraje     29436 non-null  int64  \n",
      " 6   potencia        29436 non-null  float64\n",
      " 7   num_puertas     29436 non-null  int64  \n",
      " 8   tipo_cambio     29436 non-null  int64  \n",
      " 9   origen_anuncio  29436 non-null  object \n",
      "dtypes: float64(2), int32(1), int64(4), object(3)\n",
      "memory usage: 2.4+ MB\n"
     ]
    }
   ],
   "source": [
    "df.info()"
   ]
  },
  {
   "cell_type": "markdown",
   "metadata": {},
   "source": [
    "#### Marca:"
   ]
  },
  {
   "cell_type": "markdown",
   "metadata": {},
   "source": [
    "Antes de convertir las columnas ```\"marca\"``` y ```\"modelo\"``` en númericas, vamos a guardar en un set las marcas y modelos de coches que quedan en el DataFrame, para luego utilizarlas en la Web App de predicción de precios:"
   ]
  },
  {
   "cell_type": "code",
   "execution_count": 330,
   "metadata": {},
   "outputs": [
    {
     "data": {
      "text/html": [
       "<div>\n",
       "<style scoped>\n",
       "    .dataframe tbody tr th:only-of-type {\n",
       "        vertical-align: middle;\n",
       "    }\n",
       "\n",
       "    .dataframe tbody tr th {\n",
       "        vertical-align: top;\n",
       "    }\n",
       "\n",
       "    .dataframe thead th {\n",
       "        text-align: right;\n",
       "    }\n",
       "</style>\n",
       "<table border=\"1\" class=\"dataframe\">\n",
       "  <thead>\n",
       "    <tr style=\"text-align: right;\">\n",
       "      <th></th>\n",
       "      <th>marca</th>\n",
       "      <th>modelo</th>\n",
       "      <th>precio</th>\n",
       "      <th>combustible</th>\n",
       "      <th>anyo_vehiculo</th>\n",
       "      <th>kilometraje</th>\n",
       "      <th>potencia</th>\n",
       "      <th>num_puertas</th>\n",
       "      <th>tipo_cambio</th>\n",
       "      <th>origen_anuncio</th>\n",
       "    </tr>\n",
       "  </thead>\n",
       "  <tbody>\n",
       "    <tr>\n",
       "      <th>0</th>\n",
       "      <td>FORD</td>\n",
       "      <td>focus</td>\n",
       "      <td>9.740380</td>\n",
       "      <td>1</td>\n",
       "      <td>2019</td>\n",
       "      <td>75000</td>\n",
       "      <td>125.0</td>\n",
       "      <td>5</td>\n",
       "      <td>0</td>\n",
       "      <td>WebScraping</td>\n",
       "    </tr>\n",
       "    <tr>\n",
       "      <th>1</th>\n",
       "      <td>OPEL</td>\n",
       "      <td>zafira tourer</td>\n",
       "      <td>9.358760</td>\n",
       "      <td>0</td>\n",
       "      <td>2017</td>\n",
       "      <td>75150</td>\n",
       "      <td>120.0</td>\n",
       "      <td>5</td>\n",
       "      <td>0</td>\n",
       "      <td>WebScraping</td>\n",
       "    </tr>\n",
       "    <tr>\n",
       "      <th>2</th>\n",
       "      <td>BMW</td>\n",
       "      <td>x3</td>\n",
       "      <td>10.542706</td>\n",
       "      <td>2</td>\n",
       "      <td>2021</td>\n",
       "      <td>33200</td>\n",
       "      <td>190.0</td>\n",
       "      <td>5</td>\n",
       "      <td>1</td>\n",
       "      <td>WebScraping</td>\n",
       "    </tr>\n",
       "    <tr>\n",
       "      <th>3</th>\n",
       "      <td>PEUGEOT</td>\n",
       "      <td>308</td>\n",
       "      <td>9.104980</td>\n",
       "      <td>1</td>\n",
       "      <td>2016</td>\n",
       "      <td>127300</td>\n",
       "      <td>110.0</td>\n",
       "      <td>5</td>\n",
       "      <td>0</td>\n",
       "      <td>WebScraping</td>\n",
       "    </tr>\n",
       "    <tr>\n",
       "      <th>4</th>\n",
       "      <td>RENAULT</td>\n",
       "      <td>clio</td>\n",
       "      <td>9.391828</td>\n",
       "      <td>0</td>\n",
       "      <td>2022</td>\n",
       "      <td>123000</td>\n",
       "      <td>100.0</td>\n",
       "      <td>5</td>\n",
       "      <td>0</td>\n",
       "      <td>WebScraping</td>\n",
       "    </tr>\n",
       "  </tbody>\n",
       "</table>\n",
       "</div>"
      ],
      "text/plain": [
       "     marca         modelo     precio  combustible  anyo_vehiculo  kilometraje  \\\n",
       "0     FORD          focus   9.740380            1           2019        75000   \n",
       "1     OPEL  zafira tourer   9.358760            0           2017        75150   \n",
       "2      BMW             x3  10.542706            2           2021        33200   \n",
       "3  PEUGEOT            308   9.104980            1           2016       127300   \n",
       "4  RENAULT           clio   9.391828            0           2022       123000   \n",
       "\n",
       "   potencia  num_puertas  tipo_cambio origen_anuncio  \n",
       "0     125.0            5            0    WebScraping  \n",
       "1     120.0            5            0    WebScraping  \n",
       "2     190.0            5            1    WebScraping  \n",
       "3     110.0            5            0    WebScraping  \n",
       "4     100.0            5            0    WebScraping  "
      ]
     },
     "execution_count": 330,
     "metadata": {},
     "output_type": "execute_result"
    }
   ],
   "source": [
    "df.head()"
   ]
  },
  {
   "cell_type": "code",
   "execution_count": 331,
   "metadata": {},
   "outputs": [
    {
     "name": "stdout",
     "output_type": "stream",
     "text": [
      "{'FORD': {'connect', 'escort', 'sierra', 'tourneo connect', 'maverick', 'c-max', 'transit custom', 'focus', 'capri', 's-max', 'mustang', 'fiesta', 'grand c-max', 'ranger', 'mondeo', 'grand tourneo connect', 'transit', 'puma', 'ka', 'b-max', 'courier', 'transit courier', 'kuga', 'transit connect', 'tourneo courier', 'probe', 'explorer', 'fusion', 'ka+', 'edge', 'ecosport', 'galaxy', 'tourneo custom', 'focus c-max', 'fiesta van'}, 'OPEL': {'corsa van', 'kadett', 'omega', 'grandland x phev', 'meriva', 'mokka', 'astra', 'cabrio', 'zafira tourer', 'movano', 'combo life', 'vivaro', 'grandland x', 'crossland x', 'monterey', 'corsa-e', 'karl', 'mokka x', 'adam', 'vectra', 'frontera', 'agila', 'manta', 'crossland', 'zafira life', 'gt', 'combo', 'gtc', 'signum', 'tigra', 'zafira-e life', 'antara', 'corsa', 'ampera', 'insignia', 'zafira'}, 'BMW': {'x6', 'serie 1', 'serie 6', 'x4', 'i3', 'serie 8', 'serie 4', 'serie 2 gran tourer', 'x1', 'i4 eDrive40', 'compact', 'ix3', 'z3', 'serie 3', 'serie 2', 'serie 7', 'z4', 'x3', 'iX1 xDrive30', 'i8', 'serie 2 active tourer', 'serie 5', 'x5', 'z1', 'x2'}, 'PEUGEOT': {'ion', 'partner origin', '3008', '306', '206', '207 +', '806', '308', '508', 'expert', 'bipper', '407 sw', '2008', '607', '3008 hybrid', '208', '307', '807', 'e-208', '108', '307 sw', '505', '4008', '1007', '4007', 'e-2008', 'traveller', '207', '407', '107', '309', '106', 'rcz', 'partner', 'rifter', '205', '5008', '206 sw', '508 hybrid', '206 +', 'boxer', '208 xad', '406'}, 'RENAULT': {'megane', '19', 'clio iii', 'clio', 'kangoo express', '5 E-Tech Iconic Cinq Autonomia Conf', 'trafic', 'r21', 'master propulsion', 'kadjar', 'express', 'r6', 'mascott', 'r5', 'scenic', 'wind', 'maxity', 'laguna', 'modus', 'kangoo combi', 'r11', 'clio campus', 'kangoo z.e.', 'espace', 'safrane', 'fluence', 'twingo', 'koleos', 'captur', 'latitude', 'kangoo furgon', 'grand modus', 'kangoo', 'r4', 'grand kangoo combi', 'vel satis', 'zoe', 'clio 4', 'grand espace', 'grand scenic', 'talisman', 'master'}, 'CITROEN': {'grand c4 picasso', 'c8', 'berlingo', 'nemo', 'c2', 'c4 aircross', 'ds3', 'ds5', 'ds4', 'evasion', 'xantia', 'ax', 'xsara picasso', 'c5', 'c5 aircross hybrid', 'jumper', 'bx', 'c3 aircross', 'c-15', 'zx', 'c6', 'c5 aircross', 'c4 sedan', 'c3 pluriel', 'c4 cactus', 'saxo', 'e-c4', 'c-crosser', 'c4 spacetourer', 'c-zero', 'grand c4 spacetourer', 'c1', 'c3 picasso', 'c3', 'jumpy', 'c4 picasso', 'spacetourer', '2cv', 'c-elysee', 'xsara', 'c4'}, 'VOLKSWAGEN': {'tiguan', 'eos', 'grand california', 'sharan', 't-cross', 'california', 'touran', 'multivan', 't-roc', 'bora', 'polo', 'passat cc', 'beetle', 'golf plus', 'lt', 'tiguan allspace', 'amarok', 'crafter', 'lupo', 'ID. BUZZ Pro', 'e-up!', 'arteon', 'caravelle', 'id.3', 'corrado', 'up!', 'Taigo Life 1.0 TSI', 'passat', 'scirocco', 'new beetle', 'phaeton', 'TRoc Sport 1.5 TSI DSG', 'transporter', 'golf sportsvan', 'jetta', 'santana', 'golf', 'touareg', 'caddy', 'cc'}, 'MERCEDES-BENZ': {'sprinter', '200', 'clase v', '400', 'clase glc', 'clase gle', 'clase e', 'clase slk', 'clase c', 'citan', 'vito', 'clase gle coupe', 'clase clk', 'clase glk', '100d', '260', '220', 'glc coupe', 'cla', '230', 'clase gl', 'clase slc', '300', 'clase r', 'clase cla', '140d', 'clase clc', '500', 'eqc', 'clase cls', 'clase gla', 'clase sl', 'EQA EQA 250', 'cls', 'clase a', 'clase x', 'gle coupe', '190', 'viano', 'clase g', 'clase gls', 'clase b', 'gle', 'glb', 'gla', 'clase sl r129', 'clase s', 'clase m', 'clase cl'}, 'AUDI': {'a2', 'q3', 'tts', 's8', 'a6 allroad quattro', 'a3', 'rs3', 'tt rs', 'a5', '90', 'rs6', 'sq7', '100', 'a6', 'allroad quattro', 'q3 sportback', 'r8', 's5', 's4', 'a7', 'rs5', 'cabriolet', 'a4 allroad quattro', 's7', 'a8', 'q5', 'rs4', 'tt', 'sq5', 'a4', 's3', 'a1', 's6', 'q7', 'coupe', 'q2', 'rs q3', 'rs7'}, 'SEAT': {'mii', 'ateca', 'toledo', 'altea freetrack', 'ibiza', 'leon', 'altea', 'arona', 'inca', 'arosa', 'exeo', 'altea xl', 'cordoba', 'tarraco', 'marbella', 'alhambra'}}\n"
     ]
    }
   ],
   "source": [
    "marca_modelo_set = {}\n",
    "\n",
    "for index, row in df.iterrows():\n",
    "    make = row['marca']\n",
    "    model = row['modelo']\n",
    "    \n",
    "    if make not in marca_modelo_set:\n",
    "        marca_modelo_set[make] = {model}\n",
    "    else:\n",
    "        marca_modelo_set[make].add(model)\n",
    "\n",
    "# Guardamos el set con marcas y modelos en un pkl:\n",
    "\n",
    "with open('../include/utils/marca_modelo_set.pkl', 'wb') as archivo_salida3:\n",
    "    pickle.dump(marca_modelo_set, archivo_salida3)\n",
    "\n",
    "print(marca_modelo_set)"
   ]
  },
  {
   "cell_type": "markdown",
   "metadata": {},
   "source": [
    "Una vez guardado este set, empezamos con el análisis y procesado de las variables que utilizaremos en el modelo:"
   ]
  },
  {
   "cell_type": "code",
   "execution_count": 332,
   "metadata": {},
   "outputs": [
    {
     "data": {
      "text/plain": [
       "marca\n",
       "VOLKSWAGEN       3868\n",
       "BMW              3749\n",
       "MERCEDES-BENZ    3549\n",
       "AUDI             3137\n",
       "PEUGEOT          2780\n",
       "FORD             2653\n",
       "RENAULT          2615\n",
       "OPEL             2520\n",
       "CITROEN          2444\n",
       "SEAT             2121\n",
       "Name: count, dtype: int64"
      ]
     },
     "execution_count": 332,
     "metadata": {},
     "output_type": "execute_result"
    }
   ],
   "source": [
    "marca_df = df[\"marca\"]\n",
    "marca_df.value_counts()"
   ]
  },
  {
   "cell_type": "markdown",
   "metadata": {},
   "source": [
    "Tenemos 72 marcas diferentes de coches. Vamos a hacer un countplot para ver cuántos vehículos tenemos de cada marca:"
   ]
  },
  {
   "cell_type": "code",
   "execution_count": 333,
   "metadata": {},
   "outputs": [
    {
     "data": {
      "image/png": "[encoded data removed]",
      "text/plain": [
       "<Figure size 1200x800 with 1 Axes>"
      ]
     },
     "metadata": {},
     "output_type": "display_data"
    }
   ],
   "source": [
    "plt.figure(figsize = (12, 8))\n",
    "sns.countplot(y = marca_df, order=marca_df.value_counts(ascending=False).index, color=colors[0])\n",
    "\n",
    "plt.title(\"Cantidad de coches por marca\", fontsize=16)\n",
    "plt.xlabel(\"Cantidad de vehículos\", fontsize=14)\n",
    "plt.ylabel(\"Marca\", fontsize=14)\n",
    "\n",
    "plt.show()"
   ]
  },
  {
   "cell_type": "markdown",
   "metadata": {},
   "source": [
    "En el gráfico vemos cómo tenemos muchos coches registrados en la base de datos para cada una de las 10 marcas.\n",
    "\n",
    "Vamos a asignar un valor numérico a cada marca para poder utilizar dicha columna como feature del modelo:"
   ]
  },
  {
   "cell_type": "code",
   "execution_count": 334,
   "metadata": {},
   "outputs": [
    {
     "data": {
      "text/plain": [
       "marca\n",
       "9    3868\n",
       "1    3749\n",
       "4    3549\n",
       "0    3137\n",
       "6    2780\n",
       "3    2653\n",
       "7    2615\n",
       "5    2520\n",
       "2    2444\n",
       "8    2121\n",
       "Name: count, dtype: int64"
      ]
     },
     "execution_count": 334,
     "metadata": {},
     "output_type": "execute_result"
    }
   ],
   "source": [
    "# Asignamos cada marca a un valor numérico utilizando LabelEncoder:\n",
    "\n",
    "from sklearn.preprocessing import LabelEncoder\n",
    "\n",
    "encoder_marca = LabelEncoder()\n",
    "encoder_marca.fit(df[\"marca\"].sort_values(ascending=False))\n",
    "list(encoder_marca.classes_)\n",
    "df[\"marca\"] = encoder_marca.transform(df[\"marca\"])\n",
    "\n",
    "# Guardamos el LabelEncoder para poder utilizarlo después en otros archivos:\n",
    "\n",
    "with open('../include/utils/label_encoder_marca.pkl', 'wb') as archivo_salida1:\n",
    "    pickle.dump(encoder_marca, archivo_salida1)\n",
    "\n",
    "df[\"marca\"].value_counts()"
   ]
  },
  {
   "cell_type": "code",
   "execution_count": 335,
   "metadata": {},
   "outputs": [
    {
     "name": "stdout",
     "output_type": "stream",
     "text": [
      "['AUDI' 'BMW' 'CITROEN' 'FORD' 'MERCEDES-BENZ' 'OPEL' 'PEUGEOT' 'RENAULT'\n",
      " 'SEAT' 'VOLKSWAGEN']\n"
     ]
    }
   ],
   "source": [
    "# muestra las marcas originales\n",
    "\n",
    "print(encoder_marca.classes_) \n"
   ]
  },
  {
   "cell_type": "code",
   "execution_count": 336,
   "metadata": {},
   "outputs": [
    {
     "data": {
      "text/plain": [
       "['AUDI']"
      ]
     },
     "execution_count": 336,
     "metadata": {},
     "output_type": "execute_result"
    }
   ],
   "source": [
    "# Para visualizar el mapping de marca con LabelEncoder\n",
    "\n",
    "list(encoder_marca.inverse_transform([0]))"
   ]
  },
  {
   "cell_type": "code",
   "execution_count": 337,
   "metadata": {},
   "outputs": [
    {
     "name": "stdout",
     "output_type": "stream",
     "text": [
      "<class 'pandas.core.frame.DataFrame'>\n",
      "Index: 29436 entries, 0 to 36608\n",
      "Data columns (total 10 columns):\n",
      " #   Column          Non-Null Count  Dtype  \n",
      "---  ------          --------------  -----  \n",
      " 0   marca           29436 non-null  int32  \n",
      " 1   modelo          29436 non-null  object \n",
      " 2   precio          29436 non-null  float64\n",
      " 3   combustible     29436 non-null  int64  \n",
      " 4   anyo_vehiculo   29436 non-null  int32  \n",
      " 5   kilometraje     29436 non-null  int64  \n",
      " 6   potencia        29436 non-null  float64\n",
      " 7   num_puertas     29436 non-null  int64  \n",
      " 8   tipo_cambio     29436 non-null  int64  \n",
      " 9   origen_anuncio  29436 non-null  object \n",
      "dtypes: float64(2), int32(2), int64(4), object(2)\n",
      "memory usage: 2.2+ MB\n"
     ]
    }
   ],
   "source": [
    "df.info()"
   ]
  },
  {
   "cell_type": "markdown",
   "metadata": {},
   "source": [
    "#### Modelo:"
   ]
  },
  {
   "cell_type": "markdown",
   "metadata": {},
   "source": [
    "Vamos ahora con la columna ```\"modelo\"```:"
   ]
  },
  {
   "cell_type": "code",
   "execution_count": 338,
   "metadata": {},
   "outputs": [
    {
     "data": {
      "text/plain": [
       "modelo\n",
       "golf                                   1224\n",
       "serie 3                                 982\n",
       "a3                                      751\n",
       "clase c                                 729\n",
       "a4                                      725\n",
       "focus                                   719\n",
       "serie 1                                 707\n",
       "megane                                  702\n",
       "ibiza                                   692\n",
       "leon                                    673\n",
       "astra                                   633\n",
       "corsa                                   594\n",
       "passat                                  553\n",
       "308                                     551\n",
       "clio                                    539\n",
       "clase a                                 487\n",
       "polo                                    487\n",
       "c3                                      453\n",
       "fiesta                                  429\n",
       "serie 5                                 391\n",
       "clase e                                 386\n",
       "insignia                                342\n",
       "c4                                      287\n",
       "3008                                    280\n",
       "x1                                      269\n",
       "208                                     269\n",
       "mondeo                                  265\n",
       "a6                                      258\n",
       "a5                                      258\n",
       "tiguan                                  258\n",
       "berlingo                                254\n",
       "2008                                    254\n",
       "kuga                                    240\n",
       "touran                                  236\n",
       "arona                                   233\n",
       "508                                     224\n",
       "serie 4                                 223\n",
       "clase b                                 220\n",
       "x3                                      207\n",
       "clase gla                               196\n",
       "5008                                    195\n",
       "x5                                      191\n",
       "q3                                      189\n",
       "q5                                      188\n",
       "a1                                      187\n",
       "captur                                  180\n",
       "clase cla                               170\n",
       "partner                                 167\n",
       "c4 cactus                               166\n",
       "clase glc                               161\n",
       "grand c4 picasso                        160\n",
       "scenic                                  156\n",
       "grand scenic                            152\n",
       "c-max                                   152\n",
       "caddy                                   151\n",
       "ateca                                   144\n",
       "vito                                    136\n",
       "c3 aircross                             128\n",
       "kadjar                                  128\n",
       "c4 picasso                              127\n",
       "207                                     127\n",
       "zafira                                  123\n",
       "scirocco                                120\n",
       "q7                                      117\n",
       "laguna                                  114\n",
       "ecosport                                113\n",
       "c5                                      110\n",
       "mokka x                                 109\n",
       "serie 2 gran tourer                     109\n",
       "x6                                      102\n",
       "clase v                                 101\n",
       "c-elysee                                 98\n",
       "serie 2                                  97\n",
       "clase m                                  94\n",
       "s-max                                    90\n",
       "kangoo combi                             88\n",
       "serie 2 active tourer                    86\n",
       "grandland x                              83\n",
       "clase s                                  82\n",
       "serie 7                                  82\n",
       "q2                                       79\n",
       "x4                                       79\n",
       "transporter                              79\n",
       "xsara picasso                            78\n",
       "crossland x                              77\n",
       "jumper                                   76\n",
       "alhambra                                 74\n",
       "transit                                  74\n",
       "touareg                                  74\n",
       "boxer                                    72\n",
       "vivaro                                   72\n",
       "zoe                                      71\n",
       "caravelle                                70\n",
       "clase clk                                70\n",
       "espace                                   70\n",
       "t-roc                                    70\n",
       "talisman                                 68\n",
       "tt                                       68\n",
       "c5 aircross                              67\n",
       "307                                      67\n",
       "multivan                                 66\n",
       "trafic                                   65\n",
       "sprinter                                 64\n",
       "407                                      64\n",
       "clase cls                                64\n",
       "clase slk                                64\n",
       "206                                      63\n",
       "altea xl                                 63\n",
       "combo                                    62\n",
       "puma                                     59\n",
       "c1                                       58\n",
       "altea                                    57\n",
       "gla                                      56\n",
       "mokka                                    55\n",
       "serie 6                                  55\n",
       "master                                   55\n",
       "transit connect                          55\n",
       "kangoo furgon                            55\n",
       "expert                                   54\n",
       "vectra                                   54\n",
       "ka                                       51\n",
       "adam                                     51\n",
       "jumpy                                    51\n",
       "i3                                       51\n",
       "grand c-max                              49\n",
       "tarraco                                  48\n",
       "a7                                       47\n",
       "citan                                    47\n",
       "a8                                       46\n",
       "clase gle                                45\n",
       "glc coupe                                45\n",
       "crafter                                  45\n",
       "toledo                                   44\n",
       "meriva                                   44\n",
       "transit courier                          44\n",
       "e-208                                    44\n",
       "beetle                                   42\n",
       "exeo                                     42\n",
       "viano                                    42\n",
       "cc                                       42\n",
       "rifter                                   41\n",
       "sharan                                   41\n",
       "golf sportsvan                           40\n",
       "307 sw                                   40\n",
       "t-cross                                  39\n",
       "cla                                      39\n",
       "california                               39\n",
       "zafira tourer                            38\n",
       "a4 allroad quattro                       38\n",
       "transit custom                           36\n",
       "z4                                       36\n",
       "c2                                       35\n",
       "x2                                       34\n",
       "ka+                                      34\n",
       "passat cc                                33\n",
       "xsara                                    32\n",
       "108                                      31\n",
       "clase gle coupe                          31\n",
       "tourneo courier                          31\n",
       "s3                                       31\n",
       "twingo                                   30\n",
       "antara                                   30\n",
       "new beetle                               30\n",
       "combo life                               28\n",
       "arteon                                   27\n",
       "clase sl                                 27\n",
       "spacetourer                              27\n",
       "fusion                                   27\n",
       "focus c-max                              27\n",
       "clase glk                                26\n",
       "glb                                      26\n",
       "a6 allroad quattro                       24\n",
       "clase r                                  24\n",
       "galaxy                                   23\n",
       "ranger                                   23\n",
       "cordoba                                  23\n",
       "kangoo                                   22\n",
       "s5                                       22\n",
       "508 hybrid                               22\n",
       "nemo                                     22\n",
       "c3 picasso                               22\n",
       "compact                                  21\n",
       "mustang                                  21\n",
       "grand c4 spacetourer                     21\n",
       "c5 aircross hybrid                       20\n",
       "bipper                                   20\n",
       "clase cl                                 20\n",
       "z3                                       19\n",
       "406                                      19\n",
       "koleos                                   19\n",
       "golf plus                                19\n",
       "ds5                                      19\n",
       "c4 spacetourer                           18\n",
       "grandland x phev                         17\n",
       "movano                                   17\n",
       "jetta                                    17\n",
       "e-2008                                   17\n",
       "eos                                      17\n",
       "807                                      17\n",
       "clase g                                  17\n",
       "ds4                                      16\n",
       "tourneo custom                           16\n",
       "saxo                                     16\n",
       "allroad quattro                          15\n",
       "modus                                    15\n",
       "b-max                                    15\n",
       "traveller                                15\n",
       "c4 aircross                              14\n",
       "407 sw                                   14\n",
       "mii                                      14\n",
       "fluence                                  14\n",
       "cls                                      13\n",
       "206 +                                    13\n",
       "1007                                     13\n",
       "c8                                       13\n",
       "grand espace                             13\n",
       "corsa-e                                  12\n",
       "tourneo connect                          12\n",
       "ds3                                      12\n",
       "q3 sportback                             12\n",
       "107                                      12\n",
       "206 sw                                   11\n",
       "clase gl                                 10\n",
       "3008 hybrid                              10\n",
       "clase clc                                 9\n",
       "rs6                                       9\n",
       "grand tourneo connect                     9\n",
       "crossland                                 9\n",
       "cabrio                                    9\n",
       "ion                                       9\n",
       "a2                                        8\n",
       "clio campus                               8\n",
       "rs4                                       8\n",
       "edge                                      8\n",
       "ampera                                    8\n",
       "205                                       8\n",
       "190                                       8\n",
       "sq5                                       8\n",
       "id.3                                      7\n",
       "c-zero                                    7\n",
       "up!                                       7\n",
       "s4                                        7\n",
       "sq7                                       7\n",
       "tigra                                     7\n",
       "r5                                        7\n",
       "c4 sedan                                  7\n",
       "kadett                                    7\n",
       "306                                       7\n",
       "connect                                   7\n",
       "c3 pluriel                                7\n",
       "c-crosser                                 6\n",
       "kangoo z.e.                               6\n",
       "sierra                                    6\n",
       "phaeton                                   6\n",
       "607                                       6\n",
       "clase x                                   6\n",
       "arosa                                     6\n",
       "lupo                                      6\n",
       "escort                                    6\n",
       "omega                                     6\n",
       "gtc                                       5\n",
       "clio iii                                  5\n",
       "maverick                                  5\n",
       "corsa van                                 5\n",
       "clase gls                                 5\n",
       "207 +                                     5\n",
       "frontera                                  5\n",
       "coupe                                     5\n",
       "rcz                                       5\n",
       "tiguan allspace                           4\n",
       "4007                                      4\n",
       "signum                                    4\n",
       "amarok                                    4\n",
       "c-15                                      4\n",
       "s6                                        4\n",
       "latitude                                  4\n",
       "106                                       4\n",
       "altea freetrack                           4\n",
       "zafira life                               4\n",
       "grand modus                               4\n",
       "s8                                        4\n",
       "bora                                      3\n",
       "xantia                                    3\n",
       "karl                                      3\n",
       "200                                       3\n",
       "clase slc                                 3\n",
       "clase sl r129                             3\n",
       "agila                                     3\n",
       "300                                       3\n",
       "e-up!                                     3\n",
       "tts                                       3\n",
       "marbella                                  3\n",
       "grand california                          3\n",
       "tt rs                                     3\n",
       "19                                        3\n",
       "gle                                       3\n",
       "grand kangoo combi                        3\n",
       "r4                                        3\n",
       "220                                       2\n",
       "kangoo express                            2\n",
       "fiesta van                                2\n",
       "vel satis                                 2\n",
       "2cv                                       2\n",
       "explorer                                  2\n",
       "100d                                      2\n",
       "zx                                        2\n",
       "EQA EQA 250                               2\n",
       "rs5                                       2\n",
       "i4 eDrive40                               2\n",
       "rs7                                       2\n",
       "r8                                        2\n",
       "rs q3                                     2\n",
       "serie 8                                   2\n",
       "cabriolet                                 2\n",
       "100                                       2\n",
       "c6                                        2\n",
       "90                                        2\n",
       "eqc                                       2\n",
       "express                                   2\n",
       "500                                       1\n",
       "r6                                        1\n",
       "e-c4                                      1\n",
       "evasion                                   1\n",
       "zafira-e life                             1\n",
       "clio 4                                    1\n",
       "230                                       1\n",
       "master propulsion                         1\n",
       "260                                       1\n",
       "inca                                      1\n",
       "wind                                      1\n",
       "monterey                                  1\n",
       "gt                                        1\n",
       "ax                                        1\n",
       "208 xad                                   1\n",
       "corrado                                   1\n",
       "505                                       1\n",
       "probe                                     1\n",
       "806                                       1\n",
       "santana                                   1\n",
       "bx                                        1\n",
       "TRoc Sport 1.5 TSI DSG                    1\n",
       "courier                                   1\n",
       "mascott                                   1\n",
       "309                                       1\n",
       "iX1 xDrive30                              1\n",
       "ID. BUZZ Pro                              1\n",
       "maxity                                    1\n",
       "4008                                      1\n",
       "i8                                        1\n",
       "manta                                     1\n",
       "capri                                     1\n",
       "safrane                                   1\n",
       "partner origin                            1\n",
       "rs3                                       1\n",
       "Taigo Life 1.0 TSI                        1\n",
       "400                                       1\n",
       "z1                                        1\n",
       "r11                                       1\n",
       "5 E-Tech Iconic Cinq Autonomia Conf       1\n",
       "ix3                                       1\n",
       "lt                                        1\n",
       "s7                                        1\n",
       "gle coupe                                 1\n",
       "140d                                      1\n",
       "r21                                       1\n",
       "Name: count, dtype: int64"
      ]
     },
     "execution_count": 338,
     "metadata": {},
     "output_type": "execute_result"
    }
   ],
   "source": [
    "df[\"modelo\"].value_counts()"
   ]
  },
  {
   "cell_type": "markdown",
   "metadata": {},
   "source": [
    "Tenemos 373 modelos diferentes. En esta ocasión no realizamos el countplot ya que es información demasiado específica para visualizar.\n",
    "\n",
    "Aunque son muchos valores diferentes, por el momento, realizamos otro Label Encoder. Más adelante veremos si es una columna que aporte información al modelo."
   ]
  },
  {
   "cell_type": "code",
   "execution_count": 339,
   "metadata": {},
   "outputs": [
    {
     "data": {
      "text/plain": [
       "modelo\n",
       "192    1224\n",
       "303     982\n",
       "53      751\n",
       "118     729\n",
       "54      725\n",
       "182     719\n",
       "299     707\n",
       "245     702\n",
       "212     692\n",
       "235     673\n",
       "74      633\n",
       "153     594\n",
       "261     553\n",
       "29      551\n",
       "142     539\n",
       "116     487\n",
       "264     487\n",
       "91      453\n",
       "179     429\n",
       "305     391\n",
       "124     386\n",
       "215     342\n",
       "95      287\n",
       "24      280\n",
       "347     269\n",
       "17      269\n",
       "251     265\n",
       "57      258\n",
       "56      258\n",
       "321     258\n",
       "79      254\n",
       "10      254\n",
       "232     240\n",
       "325     236\n",
       "71      233\n",
       "41      224\n",
       "304     223\n",
       "117     220\n",
       "349     207\n",
       "127     196\n",
       "39      195\n",
       "351     191\n",
       "268     189\n",
       "270     188\n",
       "51      187\n",
       "111     180\n",
       "120     170\n",
       "259     167\n",
       "97      166\n",
       "128     161\n",
       "196     160\n",
       "297     156\n",
       "202     152\n",
       "87      152\n",
       "108     151\n",
       "75      144\n",
       "344     136\n",
       "92      128\n",
       "224     128\n",
       "98      127\n",
       "15      127\n",
       "359     123\n",
       "298     120\n",
       "271     117\n",
       "233     114\n",
       "168     113\n",
       "101     110\n",
       "250     109\n",
       "302     109\n",
       "352     102\n",
       "140     101\n",
       "86       98\n",
       "300      97\n",
       "133      94\n",
       "287      90\n",
       "226      88\n",
       "301      86\n",
       "204      83\n",
       "135      82\n",
       "307      82\n",
       "267      79\n",
       "350      79\n",
       "334      79\n",
       "355      78\n",
       "160      77\n",
       "219      76\n",
       "63       74\n",
       "330      74\n",
       "324      74\n",
       "82       72\n",
       "345      72\n",
       "363      71\n",
       "112      70\n",
       "122      70\n",
       "173      70\n",
       "317      70\n",
       "318      68\n",
       "336      68\n",
       "102      67\n",
       "27       67\n",
       "254      66\n",
       "329      65\n",
       "313      64\n",
       "35       64\n",
       "123      64\n",
       "139      64\n",
       "12       63\n",
       "67       63\n",
       "147      62\n",
       "266      59\n",
       "89       58\n",
       "65       57\n",
       "187      56\n",
       "249      55\n",
       "306      55\n",
       "241      55\n",
       "331      55\n",
       "228      55\n",
       "176      54\n",
       "341      54\n",
       "221      51\n",
       "61       51\n",
       "220      51\n",
       "208      51\n",
       "195      49\n",
       "319      48\n",
       "59       47\n",
       "114      47\n",
       "60       46\n",
       "129      45\n",
       "189      45\n",
       "158      45\n",
       "323      44\n",
       "246      44\n",
       "332      44\n",
       "165      44\n",
       "78       42\n",
       "175      42\n",
       "343      42\n",
       "113      42\n",
       "280      41\n",
       "309      41\n",
       "194      40\n",
       "28       40\n",
       "316      39\n",
       "115      39\n",
       "109      39\n",
       "361      38\n",
       "55       38\n",
       "333      36\n",
       "358      36\n",
       "90       35\n",
       "348      34\n",
       "222      34\n",
       "262      33\n",
       "354      32\n",
       "5        31\n",
       "130      31\n",
       "327      31\n",
       "288      31\n",
       "339      30\n",
       "70       30\n",
       "257      30\n",
       "148      28\n",
       "73       27\n",
       "136      27\n",
       "312      27\n",
       "185      27\n",
       "183      27\n",
       "131      26\n",
       "188      26\n",
       "58       24\n",
       "134      24\n",
       "186      23\n",
       "278      23\n",
       "151      23\n",
       "225      22\n",
       "290      22\n",
       "42       22\n",
       "256      22\n",
       "93       22\n",
       "149      21\n",
       "255      21\n",
       "197      21\n",
       "103      20\n",
       "80       20\n",
       "119      20\n",
       "357      19\n",
       "34       19\n",
       "231      19\n",
       "193      19\n",
       "163      19\n",
       "100      18\n",
       "205      17\n",
       "253      17\n",
       "218      17\n",
       "164      17\n",
       "170      17\n",
       "45       17\n",
       "125      17\n",
       "162      16\n",
       "328      16\n",
       "296      16\n",
       "64       15\n",
       "248      15\n",
       "77       15\n",
       "335      15\n",
       "96       14\n",
       "36       14\n",
       "247      14\n",
       "181      14\n",
       "146      13\n",
       "13       13\n",
       "1        13\n",
       "105      13\n",
       "199      13\n",
       "155      12\n",
       "326      12\n",
       "161      12\n",
       "269      12\n",
       "4        12\n",
       "14       11\n",
       "126      10\n",
       "25       10\n",
       "121       9\n",
       "285       9\n",
       "203       9\n",
       "159       9\n",
       "106       9\n",
       "216       9\n",
       "52        8\n",
       "144       8\n",
       "283       8\n",
       "169       8\n",
       "69        8\n",
       "11        8\n",
       "8         8\n",
       "314       8\n",
       "213       7\n",
       "88        7\n",
       "340       7\n",
       "289       7\n",
       "315       7\n",
       "320       7\n",
       "275       7\n",
       "99        7\n",
       "223       7\n",
       "26        7\n",
       "150       7\n",
       "94        7\n",
       "85        6\n",
       "229       6\n",
       "310       6\n",
       "263       6\n",
       "43        6\n",
       "141       6\n",
       "72        6\n",
       "237       6\n",
       "172       6\n",
       "258       6\n",
       "207       5\n",
       "145       5\n",
       "243       5\n",
       "154       5\n",
       "132       5\n",
       "16        5\n",
       "184       5\n",
       "156       5\n",
       "279       5\n",
       "322       4\n",
       "32        4\n",
       "311       4\n",
       "68        4\n",
       "84        4\n",
       "291       4\n",
       "234       4\n",
       "3         4\n",
       "66        4\n",
       "360       4\n",
       "201       4\n",
       "293       4\n",
       "81        3\n",
       "353       3\n",
       "230       3\n",
       "9         3\n",
       "138       3\n",
       "137       3\n",
       "62        3\n",
       "23        3\n",
       "167       3\n",
       "338       3\n",
       "239       3\n",
       "198       3\n",
       "337       3\n",
       "7         3\n",
       "190       3\n",
       "200       3\n",
       "274       3\n",
       "19        2\n",
       "227       2\n",
       "180       2\n",
       "342       2\n",
       "22        2\n",
       "177       2\n",
       "2         2\n",
       "364       2\n",
       "47        2\n",
       "284       2\n",
       "209       2\n",
       "286       2\n",
       "277       2\n",
       "281       2\n",
       "308       2\n",
       "107       2\n",
       "0         2\n",
       "104       2\n",
       "46        2\n",
       "171       2\n",
       "178       2\n",
       "38        1\n",
       "276       1\n",
       "166       1\n",
       "174       1\n",
       "362       1\n",
       "143       1\n",
       "20        1\n",
       "242       1\n",
       "21        1\n",
       "214       1\n",
       "346       1\n",
       "252       1\n",
       "206       1\n",
       "76        1\n",
       "18        1\n",
       "152       1\n",
       "40        1\n",
       "265       1\n",
       "44        1\n",
       "295       1\n",
       "83        1\n",
       "49        1\n",
       "157       1\n",
       "240       1\n",
       "30        1\n",
       "211       1\n",
       "48        1\n",
       "244       1\n",
       "33        1\n",
       "210       1\n",
       "238       1\n",
       "110       1\n",
       "294       1\n",
       "260       1\n",
       "282       1\n",
       "50        1\n",
       "31        1\n",
       "356       1\n",
       "272       1\n",
       "37        1\n",
       "217       1\n",
       "236       1\n",
       "292       1\n",
       "191       1\n",
       "6         1\n",
       "273       1\n",
       "Name: count, dtype: int64"
      ]
     },
     "execution_count": 339,
     "metadata": {},
     "output_type": "execute_result"
    }
   ],
   "source": [
    "from sklearn.preprocessing import LabelEncoder\n",
    "\n",
    "encoder_modelo = LabelEncoder()\n",
    "encoder_modelo.fit(df[\"modelo\"].sort_values(ascending=False))\n",
    "list(encoder_modelo.classes_)\n",
    "df[\"modelo\"] = encoder_modelo.transform(df[\"modelo\"])\n",
    "\n",
    "# Guardamos el Encoding:\n",
    "\n",
    "with open('../include/utils/label_encoder_modelo.pkl', 'wb') as archivo_salida2:\n",
    "    pickle.dump(encoder_modelo, archivo_salida2)\n",
    "\n",
    "df[\"modelo\"].value_counts()"
   ]
  },
  {
   "cell_type": "code",
   "execution_count": 340,
   "metadata": {},
   "outputs": [
    {
     "data": {
      "text/plain": [
       "['grand c4 picasso']"
      ]
     },
     "execution_count": 340,
     "metadata": {},
     "output_type": "execute_result"
    }
   ],
   "source": [
    "# Para visualizar el mapping de model con LabelEncoder\n",
    "\n",
    "list(encoder_modelo.inverse_transform([196]))"
   ]
  },
  {
   "cell_type": "code",
   "execution_count": 341,
   "metadata": {},
   "outputs": [
    {
     "name": "stdout",
     "output_type": "stream",
     "text": [
      "<class 'pandas.core.frame.DataFrame'>\n",
      "Index: 29436 entries, 0 to 36608\n",
      "Data columns (total 10 columns):\n",
      " #   Column          Non-Null Count  Dtype  \n",
      "---  ------          --------------  -----  \n",
      " 0   marca           29436 non-null  int32  \n",
      " 1   modelo          29436 non-null  int32  \n",
      " 2   precio          29436 non-null  float64\n",
      " 3   combustible     29436 non-null  int64  \n",
      " 4   anyo_vehiculo   29436 non-null  int32  \n",
      " 5   kilometraje     29436 non-null  int64  \n",
      " 6   potencia        29436 non-null  float64\n",
      " 7   num_puertas     29436 non-null  int64  \n",
      " 8   tipo_cambio     29436 non-null  int64  \n",
      " 9   origen_anuncio  29436 non-null  object \n",
      "dtypes: float64(2), int32(3), int64(4), object(1)\n",
      "memory usage: 2.1+ MB\n"
     ]
    }
   ],
   "source": [
    "df.info()"
   ]
  },
  {
   "cell_type": "markdown",
   "metadata": {},
   "source": [
    "#### Origen anuncio:"
   ]
  },
  {
   "cell_type": "markdown",
   "metadata": {},
   "source": [
    "Tan solo falta la columna ```\"origen_anuncio\"```, que vamos a eliminar ya que sólo la hemos mantenido para diferenciar el origen del anuncio, pero no la queremos utilizar en el modelo predictivo."
   ]
  },
  {
   "cell_type": "code",
   "execution_count": 342,
   "metadata": {},
   "outputs": [],
   "source": [
    "df.drop(columns=[\"origen_anuncio\"], inplace=True)"
   ]
  },
  {
   "cell_type": "code",
   "execution_count": 343,
   "metadata": {},
   "outputs": [
    {
     "name": "stdout",
     "output_type": "stream",
     "text": [
      "<class 'pandas.core.frame.DataFrame'>\n",
      "Index: 29436 entries, 0 to 36608\n",
      "Data columns (total 9 columns):\n",
      " #   Column         Non-Null Count  Dtype  \n",
      "---  ------         --------------  -----  \n",
      " 0   marca          29436 non-null  int32  \n",
      " 1   modelo         29436 non-null  int32  \n",
      " 2   precio         29436 non-null  float64\n",
      " 3   combustible    29436 non-null  int64  \n",
      " 4   anyo_vehiculo  29436 non-null  int32  \n",
      " 5   kilometraje    29436 non-null  int64  \n",
      " 6   potencia       29436 non-null  float64\n",
      " 7   num_puertas    29436 non-null  int64  \n",
      " 8   tipo_cambio    29436 non-null  int64  \n",
      "dtypes: float64(2), int32(3), int64(4)\n",
      "memory usage: 1.9 MB\n"
     ]
    }
   ],
   "source": [
    "df.info()"
   ]
  },
  {
   "cell_type": "markdown",
   "metadata": {},
   "source": [
    "Ya tenemos nuestro DataFrame con todas las columnas de tipo numérico, listas para ser utilizadas por el modelo (después de escalar, dividir los conjuntos de train y test, etc.).\n",
    "\n",
    "Guardamos el DataFrame."
   ]
  },
  {
   "cell_type": "code",
   "execution_count": 50,
   "metadata": {},
   "outputs": [],
   "source": [
    "# Guardamos el DataFrame transformado\n",
    "\n",
    "df.to_csv(\"../include/data/processed/df_pre_modelo.csv\")"
   ]
  },
  {
   "cell_type": "markdown",
   "metadata": {},
   "source": [
    "## 3. Modelos predictivos."
   ]
  },
  {
   "cell_type": "code",
   "execution_count": 52,
   "metadata": {},
   "outputs": [
    {
     "data": {
      "text/html": [
       "<div>\n",
       "<style scoped>\n",
       "    .dataframe tbody tr th:only-of-type {\n",
       "        vertical-align: middle;\n",
       "    }\n",
       "\n",
       "    .dataframe tbody tr th {\n",
       "        vertical-align: top;\n",
       "    }\n",
       "\n",
       "    .dataframe thead th {\n",
       "        text-align: right;\n",
       "    }\n",
       "</style>\n",
       "<table border=\"1\" class=\"dataframe\">\n",
       "  <thead>\n",
       "    <tr style=\"text-align: right;\">\n",
       "      <th></th>\n",
       "      <th>marca</th>\n",
       "      <th>modelo</th>\n",
       "      <th>precio</th>\n",
       "      <th>combustible</th>\n",
       "      <th>anyo_vehiculo</th>\n",
       "      <th>kilometraje</th>\n",
       "      <th>potencia</th>\n",
       "      <th>num_puertas</th>\n",
       "      <th>tipo_cambio</th>\n",
       "    </tr>\n",
       "  </thead>\n",
       "  <tbody>\n",
       "    <tr>\n",
       "      <th>0</th>\n",
       "      <td>1</td>\n",
       "      <td>356</td>\n",
       "      <td>37900.0</td>\n",
       "      <td>2</td>\n",
       "      <td>2021.0</td>\n",
       "      <td>33200</td>\n",
       "      <td>190.0</td>\n",
       "      <td>5</td>\n",
       "      <td>1</td>\n",
       "    </tr>\n",
       "    <tr>\n",
       "      <th>1</th>\n",
       "      <td>6</td>\n",
       "      <td>29</td>\n",
       "      <td>9000.0</td>\n",
       "      <td>1</td>\n",
       "      <td>2016.0</td>\n",
       "      <td>127300</td>\n",
       "      <td>110.0</td>\n",
       "      <td>5</td>\n",
       "      <td>0</td>\n",
       "    </tr>\n",
       "    <tr>\n",
       "      <th>2</th>\n",
       "      <td>7</td>\n",
       "      <td>143</td>\n",
       "      <td>11990.0</td>\n",
       "      <td>0</td>\n",
       "      <td>2022.0</td>\n",
       "      <td>123000</td>\n",
       "      <td>100.0</td>\n",
       "      <td>5</td>\n",
       "      <td>0</td>\n",
       "    </tr>\n",
       "    <tr>\n",
       "      <th>3</th>\n",
       "      <td>2</td>\n",
       "      <td>92</td>\n",
       "      <td>16500.0</td>\n",
       "      <td>1</td>\n",
       "      <td>2022.0</td>\n",
       "      <td>18150</td>\n",
       "      <td>83.0</td>\n",
       "      <td>5</td>\n",
       "      <td>0</td>\n",
       "    </tr>\n",
       "    <tr>\n",
       "      <th>4</th>\n",
       "      <td>9</td>\n",
       "      <td>110</td>\n",
       "      <td>67900.0</td>\n",
       "      <td>0</td>\n",
       "      <td>2023.0</td>\n",
       "      <td>12000</td>\n",
       "      <td>150.0</td>\n",
       "      <td>5</td>\n",
       "      <td>1</td>\n",
       "    </tr>\n",
       "    <tr>\n",
       "      <th>...</th>\n",
       "      <td>...</td>\n",
       "      <td>...</td>\n",
       "      <td>...</td>\n",
       "      <td>...</td>\n",
       "      <td>...</td>\n",
       "      <td>...</td>\n",
       "      <td>...</td>\n",
       "      <td>...</td>\n",
       "      <td>...</td>\n",
       "    </tr>\n",
       "    <tr>\n",
       "      <th>29694</th>\n",
       "      <td>8</td>\n",
       "      <td>239</td>\n",
       "      <td>18590.0</td>\n",
       "      <td>0</td>\n",
       "      <td>2019.0</td>\n",
       "      <td>21153</td>\n",
       "      <td>115.0</td>\n",
       "      <td>5</td>\n",
       "      <td>0</td>\n",
       "    </tr>\n",
       "    <tr>\n",
       "      <th>29695</th>\n",
       "      <td>7</td>\n",
       "      <td>237</td>\n",
       "      <td>14500.0</td>\n",
       "      <td>0</td>\n",
       "      <td>2015.0</td>\n",
       "      <td>68750</td>\n",
       "      <td>150.0</td>\n",
       "      <td>3</td>\n",
       "      <td>0</td>\n",
       "    </tr>\n",
       "    <tr>\n",
       "      <th>29696</th>\n",
       "      <td>6</td>\n",
       "      <td>5</td>\n",
       "      <td>11000.0</td>\n",
       "      <td>1</td>\n",
       "      <td>2019.0</td>\n",
       "      <td>21422</td>\n",
       "      <td>72.0</td>\n",
       "      <td>5</td>\n",
       "      <td>0</td>\n",
       "    </tr>\n",
       "    <tr>\n",
       "      <th>29697</th>\n",
       "      <td>0</td>\n",
       "      <td>289</td>\n",
       "      <td>47900.0</td>\n",
       "      <td>1</td>\n",
       "      <td>2013.0</td>\n",
       "      <td>47900</td>\n",
       "      <td>450.0</td>\n",
       "      <td>5</td>\n",
       "      <td>1</td>\n",
       "    </tr>\n",
       "    <tr>\n",
       "      <th>29698</th>\n",
       "      <td>2</td>\n",
       "      <td>91</td>\n",
       "      <td>2790.0</td>\n",
       "      <td>0</td>\n",
       "      <td>2006.0</td>\n",
       "      <td>106000</td>\n",
       "      <td>70.0</td>\n",
       "      <td>3</td>\n",
       "      <td>0</td>\n",
       "    </tr>\n",
       "  </tbody>\n",
       "</table>\n",
       "<p>29699 rows × 9 columns</p>\n",
       "</div>"
      ],
      "text/plain": [
       "       marca  modelo   precio  combustible  anyo_vehiculo  kilometraje  \\\n",
       "0          1     356  37900.0            2         2021.0        33200   \n",
       "1          6      29   9000.0            1         2016.0       127300   \n",
       "2          7     143  11990.0            0         2022.0       123000   \n",
       "3          2      92  16500.0            1         2022.0        18150   \n",
       "4          9     110  67900.0            0         2023.0        12000   \n",
       "...      ...     ...      ...          ...            ...          ...   \n",
       "29694      8     239  18590.0            0         2019.0        21153   \n",
       "29695      7     237  14500.0            0         2015.0        68750   \n",
       "29696      6       5  11000.0            1         2019.0        21422   \n",
       "29697      0     289  47900.0            1         2013.0        47900   \n",
       "29698      2      91   2790.0            0         2006.0       106000   \n",
       "\n",
       "       potencia  num_puertas  tipo_cambio  \n",
       "0         190.0            5            1  \n",
       "1         110.0            5            0  \n",
       "2         100.0            5            0  \n",
       "3          83.0            5            0  \n",
       "4         150.0            5            1  \n",
       "...         ...          ...          ...  \n",
       "29694     115.0            5            0  \n",
       "29695     150.0            3            0  \n",
       "29696      72.0            5            0  \n",
       "29697     450.0            5            1  \n",
       "29698      70.0            3            0  \n",
       "\n",
       "[29699 rows x 9 columns]"
      ]
     },
     "execution_count": 52,
     "metadata": {},
     "output_type": "execute_result"
    }
   ],
   "source": [
    "df = pd.read_csv(\"../include/data/processed/df_pre_modelo.csv\", index_col=0).reset_index(drop=True)\n",
    "df"
   ]
  },
  {
   "cell_type": "markdown",
   "metadata": {},
   "source": [
    "Ya tenemos 9 columnas numéricas con las que poder predecir la columna target (```\"precio\"```)."
   ]
  },
  {
   "cell_type": "markdown",
   "metadata": {},
   "source": [
    "Vamos ahora a dividir los datos de X (features) e y (target)."
   ]
  },
  {
   "cell_type": "code",
   "execution_count": 57,
   "metadata": {},
   "outputs": [],
   "source": [
    "X = df.drop(\"precio\", axis=1)\n",
    "y = df[\"precio\"]"
   ]
  },
  {
   "cell_type": "code",
   "execution_count": 58,
   "metadata": {},
   "outputs": [
    {
     "data": {
      "text/html": [
       "<div>\n",
       "<style scoped>\n",
       "    .dataframe tbody tr th:only-of-type {\n",
       "        vertical-align: middle;\n",
       "    }\n",
       "\n",
       "    .dataframe tbody tr th {\n",
       "        vertical-align: top;\n",
       "    }\n",
       "\n",
       "    .dataframe thead th {\n",
       "        text-align: right;\n",
       "    }\n",
       "</style>\n",
       "<table border=\"1\" class=\"dataframe\">\n",
       "  <thead>\n",
       "    <tr style=\"text-align: right;\">\n",
       "      <th></th>\n",
       "      <th>marca</th>\n",
       "      <th>modelo</th>\n",
       "      <th>combustible</th>\n",
       "      <th>anyo_vehiculo</th>\n",
       "      <th>kilometraje</th>\n",
       "      <th>potencia</th>\n",
       "      <th>num_puertas</th>\n",
       "      <th>tipo_cambio</th>\n",
       "    </tr>\n",
       "  </thead>\n",
       "  <tbody>\n",
       "    <tr>\n",
       "      <th>0</th>\n",
       "      <td>1</td>\n",
       "      <td>356</td>\n",
       "      <td>2</td>\n",
       "      <td>2021.0</td>\n",
       "      <td>33200</td>\n",
       "      <td>190.0</td>\n",
       "      <td>5</td>\n",
       "      <td>1</td>\n",
       "    </tr>\n",
       "    <tr>\n",
       "      <th>1</th>\n",
       "      <td>6</td>\n",
       "      <td>29</td>\n",
       "      <td>1</td>\n",
       "      <td>2016.0</td>\n",
       "      <td>127300</td>\n",
       "      <td>110.0</td>\n",
       "      <td>5</td>\n",
       "      <td>0</td>\n",
       "    </tr>\n",
       "    <tr>\n",
       "      <th>2</th>\n",
       "      <td>7</td>\n",
       "      <td>143</td>\n",
       "      <td>0</td>\n",
       "      <td>2022.0</td>\n",
       "      <td>123000</td>\n",
       "      <td>100.0</td>\n",
       "      <td>5</td>\n",
       "      <td>0</td>\n",
       "    </tr>\n",
       "    <tr>\n",
       "      <th>3</th>\n",
       "      <td>2</td>\n",
       "      <td>92</td>\n",
       "      <td>1</td>\n",
       "      <td>2022.0</td>\n",
       "      <td>18150</td>\n",
       "      <td>83.0</td>\n",
       "      <td>5</td>\n",
       "      <td>0</td>\n",
       "    </tr>\n",
       "    <tr>\n",
       "      <th>4</th>\n",
       "      <td>9</td>\n",
       "      <td>110</td>\n",
       "      <td>0</td>\n",
       "      <td>2023.0</td>\n",
       "      <td>12000</td>\n",
       "      <td>150.0</td>\n",
       "      <td>5</td>\n",
       "      <td>1</td>\n",
       "    </tr>\n",
       "    <tr>\n",
       "      <th>...</th>\n",
       "      <td>...</td>\n",
       "      <td>...</td>\n",
       "      <td>...</td>\n",
       "      <td>...</td>\n",
       "      <td>...</td>\n",
       "      <td>...</td>\n",
       "      <td>...</td>\n",
       "      <td>...</td>\n",
       "    </tr>\n",
       "    <tr>\n",
       "      <th>29694</th>\n",
       "      <td>8</td>\n",
       "      <td>239</td>\n",
       "      <td>0</td>\n",
       "      <td>2019.0</td>\n",
       "      <td>21153</td>\n",
       "      <td>115.0</td>\n",
       "      <td>5</td>\n",
       "      <td>0</td>\n",
       "    </tr>\n",
       "    <tr>\n",
       "      <th>29695</th>\n",
       "      <td>7</td>\n",
       "      <td>237</td>\n",
       "      <td>0</td>\n",
       "      <td>2015.0</td>\n",
       "      <td>68750</td>\n",
       "      <td>150.0</td>\n",
       "      <td>3</td>\n",
       "      <td>0</td>\n",
       "    </tr>\n",
       "    <tr>\n",
       "      <th>29696</th>\n",
       "      <td>6</td>\n",
       "      <td>5</td>\n",
       "      <td>1</td>\n",
       "      <td>2019.0</td>\n",
       "      <td>21422</td>\n",
       "      <td>72.0</td>\n",
       "      <td>5</td>\n",
       "      <td>0</td>\n",
       "    </tr>\n",
       "    <tr>\n",
       "      <th>29697</th>\n",
       "      <td>0</td>\n",
       "      <td>289</td>\n",
       "      <td>1</td>\n",
       "      <td>2013.0</td>\n",
       "      <td>47900</td>\n",
       "      <td>450.0</td>\n",
       "      <td>5</td>\n",
       "      <td>1</td>\n",
       "    </tr>\n",
       "    <tr>\n",
       "      <th>29698</th>\n",
       "      <td>2</td>\n",
       "      <td>91</td>\n",
       "      <td>0</td>\n",
       "      <td>2006.0</td>\n",
       "      <td>106000</td>\n",
       "      <td>70.0</td>\n",
       "      <td>3</td>\n",
       "      <td>0</td>\n",
       "    </tr>\n",
       "  </tbody>\n",
       "</table>\n",
       "<p>29699 rows × 8 columns</p>\n",
       "</div>"
      ],
      "text/plain": [
       "       marca  modelo  combustible  anyo_vehiculo  kilometraje  potencia  \\\n",
       "0          1     356            2         2021.0        33200     190.0   \n",
       "1          6      29            1         2016.0       127300     110.0   \n",
       "2          7     143            0         2022.0       123000     100.0   \n",
       "3          2      92            1         2022.0        18150      83.0   \n",
       "4          9     110            0         2023.0        12000     150.0   \n",
       "...      ...     ...          ...            ...          ...       ...   \n",
       "29694      8     239            0         2019.0        21153     115.0   \n",
       "29695      7     237            0         2015.0        68750     150.0   \n",
       "29696      6       5            1         2019.0        21422      72.0   \n",
       "29697      0     289            1         2013.0        47900     450.0   \n",
       "29698      2      91            0         2006.0       106000      70.0   \n",
       "\n",
       "       num_puertas  tipo_cambio  \n",
       "0                5            1  \n",
       "1                5            0  \n",
       "2                5            0  \n",
       "3                5            0  \n",
       "4                5            1  \n",
       "...            ...          ...  \n",
       "29694            5            0  \n",
       "29695            3            0  \n",
       "29696            5            0  \n",
       "29697            5            1  \n",
       "29698            3            0  \n",
       "\n",
       "[29699 rows x 8 columns]"
      ]
     },
     "execution_count": 58,
     "metadata": {},
     "output_type": "execute_result"
    }
   ],
   "source": [
    "X"
   ]
  },
  {
   "cell_type": "markdown",
   "metadata": {},
   "source": [
    "Vamos a realizar un heatmap de las features de nuestro modelo, para ver cómo de correlacionadas están entre ellas:"
   ]
  },
  {
   "cell_type": "code",
   "execution_count": 59,
   "metadata": {},
   "outputs": [
    {
     "data": {
      "image/png": "[encoded data removed]",
      "text/plain": [
       "<Figure size 1200x800 with 2 Axes>"
      ]
     },
     "metadata": {},
     "output_type": "display_data"
    }
   ],
   "source": [
    "matriz_corr = X.corr(numeric_only=True).round(decimals=3)\n",
    "\n",
    "plt.figure(figsize=(12, 8))\n",
    "\n",
    "sns.heatmap(matriz_corr, annot=True, cmap='coolwarm', vmin=-1, vmax=1)\n",
    "\n",
    "plt.show()"
   ]
  },
  {
   "cell_type": "markdown",
   "metadata": {},
   "source": [
    "Vemos que la mayor correlación se da entre los kilómetros y el año del vehículo, y es negativa. Esto es lógico, ya que cuanto mayor sea el año (y más nuevo el coche), menor suele ser el número de kilómetros realizados.\n",
    "\n",
    "Además de esto, cabe mencionar que ninguna de las correlaciones es lo suficientemente elevada como para plantearse prescindir de alguna columna."
   ]
  },
  {
   "cell_type": "markdown",
   "metadata": {},
   "source": [
    "Separamos los datos de train y test:"
   ]
  },
  {
   "cell_type": "code",
   "execution_count": 60,
   "metadata": {},
   "outputs": [
    {
     "name": "stdout",
     "output_type": "stream",
     "text": [
      "(23759, 8)\n",
      "(5940, 8)\n",
      "(23759,)\n",
      "(5940,)\n"
     ]
    }
   ],
   "source": [
    "from sklearn.model_selection import train_test_split\n",
    "\n",
    "X_train, X_test, y_train, y_test = train_test_split(X, y, test_size=0.2, random_state=42)\n",
    "\n",
    "print(X_train.shape)\n",
    "print(X_test.shape)\n",
    "print(y_train.shape)\n",
    "print(y_test.shape)"
   ]
  },
  {
   "cell_type": "markdown",
   "metadata": {},
   "source": [
    "Vamos a escalar los datos de X entre 0 y 1:"
   ]
  },
  {
   "cell_type": "code",
   "execution_count": 61,
   "metadata": {},
   "outputs": [],
   "source": [
    "from sklearn.preprocessing import MinMaxScaler\n",
    "\n",
    "scaler = MinMaxScaler()\n",
    "\n",
    "scaler.fit(X_train)\n",
    "\n",
    "# Guardamos el Scaler\n",
    "\n",
    "with open('../include/utils/scaler.pkl', 'wb') as archivo_salida4:\n",
    "    pickle.dump(scaler, archivo_salida4)\n",
    "\n",
    "X_train = scaler.transform(X_train)\n",
    "X_test = scaler.transform(X_test)"
   ]
  },
  {
   "cell_type": "code",
   "execution_count": 62,
   "metadata": {},
   "outputs": [
    {
     "data": {
      "text/plain": [
       "array([[0.22222222, 0.24797844, 0.16666667, ..., 0.08688525, 1.        ,\n",
       "        0.        ],\n",
       "       [0.11111111, 0.83557951, 0.16666667, ..., 0.48688525, 0.        ,\n",
       "        1.        ],\n",
       "       [0.        , 0.14555256, 0.        , ..., 0.18196721, 1.        ,\n",
       "        0.        ],\n",
       "       ...,\n",
       "       [0.88888889, 0.64420485, 0.16666667, ..., 0.14098361, 1.        ,\n",
       "        0.        ],\n",
       "       [0.77777778, 0.38544474, 0.        , ..., 0.07540984, 1.        ,\n",
       "        0.        ],\n",
       "       [0.33333333, 0.50943396, 0.16666667, ..., 0.14098361, 1.        ,\n",
       "        0.        ]])"
      ]
     },
     "execution_count": 62,
     "metadata": {},
     "output_type": "execute_result"
    }
   ],
   "source": [
    "X_train"
   ]
  },
  {
   "cell_type": "markdown",
   "metadata": {},
   "source": [
    "Comenzamos la seleción del modelo de regresión. Para ello, probamos varias parametrizaciones de modelos utilizando GridSearchCV."
   ]
  },
  {
   "cell_type": "code",
   "execution_count": null,
   "metadata": {},
   "outputs": [],
   "source": [
    "# Importamos los modelos de regresión que utilizaremos\n",
    "\n",
    "from sklearn.linear_model import LinearRegression\n",
    "from sklearn.preprocessing import PolynomialFeatures\n",
    "\n",
    "from sklearn.ensemble import RandomForestRegressor\n",
    "from sklearn.ensemble import AdaBoostRegressor\n",
    "from sklearn.ensemble import GradientBoostingRegressor\n",
    "\n",
    "import xgboost\n",
    "\n",
    "from sklearn.ensemble import VotingRegressor\n",
    "\n",
    "from sklearn.model_selection import GridSearchCV\n",
    "\n",
    "from sklearn import metrics"
   ]
  },
  {
   "cell_type": "code",
   "execution_count": 66,
   "metadata": {},
   "outputs": [],
   "source": [
    "# LinearRegression??"
   ]
  },
  {
   "cell_type": "markdown",
   "metadata": {},
   "source": [
    "### 3.1. Linear Regression."
   ]
  },
  {
   "cell_type": "code",
   "execution_count": 67,
   "metadata": {},
   "outputs": [
    {
     "name": "stdout",
     "output_type": "stream",
     "text": [
      "MSE: 0.11461013111805038\n",
      "RMSE: 0.33854118083041296\n",
      "MAE: 0.23870741331869805\n",
      "MAPE: 0.0261976080078374\n",
      "r2 score: 0.8350559570096232\n"
     ]
    }
   ],
   "source": [
    "# Linear Regression\n",
    "\n",
    "param = {}\n",
    "\n",
    "gs_lin_reg = GridSearchCV(estimator=LinearRegression(), param_grid=param, cv=5, scoring=\"neg_mean_squared_error\")\n",
    "\n",
    "gs_lin_reg.fit(X_train, y_train)\n",
    "\n",
    "y_pred = gs_lin_reg.predict(X_test)\n",
    "\n",
    "print(f\"MSE: {metrics.mean_squared_error(y_test, y_pred)}\")\n",
    "print(f\"RMSE: {np.sqrt(metrics.mean_squared_error(y_test, y_pred))}\")\n",
    "print(f\"MAE: {metrics.mean_absolute_error(y_test, y_pred)}\")\n",
    "print(f\"MAPE: {metrics.mean_absolute_percentage_error(y_test, y_pred)}\")\n",
    "\n",
    "print(f\"r2 score: {metrics.r2_score(y_test, y_pred)}\")"
   ]
  },
  {
   "cell_type": "markdown",
   "metadata": {},
   "source": [
    "### 3.2. Polynomial Regression."
   ]
  },
  {
   "cell_type": "code",
   "execution_count": 70,
   "metadata": {},
   "outputs": [
    {
     "name": "stdout",
     "output_type": "stream",
     "text": [
      "Poly Degree 1:\n",
      "MSE: 0.11461013111804957\n",
      "RMSE: 0.3385411808304118\n",
      "MAE: 0.23870741331869574\n",
      "MAPE: 0.026197608007837523\n",
      "r2 score: 0.8350559570096244\n",
      " \n",
      "Poly Degree 2:\n",
      "MSE: 0.08969448465760148\n",
      "RMSE: 0.2994903748997645\n",
      "MAE: 0.20880008952004817\n",
      "MAPE: 0.02296056967485811\n",
      "r2 score: 0.8709139341431829\n",
      " \n",
      "Poly Degree 3:\n",
      "MSE: 0.07531957401464005\n",
      "RMSE: 0.2744441182001175\n",
      "MAE: 0.1849798011154453\n",
      "MAPE: 0.02045669961142007\n",
      "r2 score: 0.891601947113286\n",
      " \n",
      "Poly Degree 4:\n",
      "MSE: 0.07132395700256919\n",
      "RMSE: 0.26706545452860275\n",
      "MAE: 0.17608620688370796\n",
      "MAPE: 0.019463395613474915\n",
      "r2 score: 0.8973523394894474\n",
      " \n",
      "Poly Degree 5:\n",
      "MSE: 0.0712422159219938\n",
      "RMSE: 0.2669123749884853\n",
      "MAE: 0.17137233242708003\n",
      "MAPE: 0.018930735957661968\n",
      "r2 score: 0.897469979214461\n",
      " \n"
     ]
    }
   ],
   "source": [
    "# Polynomial Regression\n",
    "\n",
    "param = {}\n",
    "\n",
    "for degree in range(1, 6):\n",
    "\n",
    "    poly_feat = PolynomialFeatures(degree = degree)\n",
    "\n",
    "    poly_feat.fit(X_train)\n",
    "\n",
    "    X_train_poly = poly_feat.transform(X_train)\n",
    "    X_test_poly = poly_feat.transform(X_test)\n",
    "\n",
    "\n",
    "    gs_poly = GridSearchCV(estimator=LinearRegression(), param_grid=param, cv=5, scoring=\"neg_mean_squared_error\")\n",
    "\n",
    "    gs_poly.fit(X_train_poly, y_train)\n",
    "\n",
    "    y_pred = gs_poly.predict(X_test_poly)\n",
    "\n",
    "    print(f\"Poly Degree {degree}:\")\n",
    "\n",
    "    print(f\"MSE: {metrics.mean_squared_error(y_test, y_pred)}\")\n",
    "    print(f\"RMSE: {np.sqrt(metrics.mean_squared_error(y_test, y_pred))}\")\n",
    "    print(f\"MAE: {metrics.mean_absolute_error(y_test, y_pred)}\")\n",
    "    print(f\"MAPE: {metrics.mean_absolute_percentage_error(y_test, y_pred)}\")\n",
    "\n",
    "    print(f\"r2 score: {metrics.r2_score(y_test, y_pred)}\")\n",
    "    print(\" \")"
   ]
  },
  {
   "cell_type": "code",
   "execution_count": 71,
   "metadata": {},
   "outputs": [
    {
     "name": "stdout",
     "output_type": "stream",
     "text": [
      "Poly Degree 5:\n",
      "MSE: 0.0712422159219938\n",
      "RMSE: 0.2669123749884853\n",
      "MAE: 0.17137233242708003\n",
      "MAPE: 0.018930735957661968\n",
      "r2 score: 0.897469979214461\n"
     ]
    }
   ],
   "source": [
    "# El mejor es el de grado 5:\n",
    "\n",
    "degree = 5\n",
    "poly_feat = PolynomialFeatures(degree = degree)\n",
    "\n",
    "poly_feat.fit(X_train)\n",
    "\n",
    "X_train_poly = poly_feat.transform(X_train)\n",
    "X_test_poly = poly_feat.transform(X_test)\n",
    "\n",
    "\n",
    "best_poly_model = GridSearchCV(estimator=LinearRegression(), param_grid=param, cv=5, scoring=\"neg_mean_squared_error\")\n",
    "\n",
    "best_poly_model.fit(X_train_poly, y_train)\n",
    "\n",
    "y_pred = best_poly_model.predict(X_test_poly)\n",
    "\n",
    "print(f\"Poly Degree {degree}:\")\n",
    "\n",
    "print(f\"MSE: {metrics.mean_squared_error(y_test, y_pred)}\")\n",
    "print(f\"RMSE: {np.sqrt(metrics.mean_squared_error(y_test, y_pred))}\")\n",
    "print(f\"MAE: {metrics.mean_absolute_error(y_test, y_pred)}\")\n",
    "print(f\"MAPE: {metrics.mean_absolute_percentage_error(y_test, y_pred)}\")\n",
    "\n",
    "print(f\"r2 score: {metrics.r2_score(y_test, y_pred)}\")"
   ]
  },
  {
   "cell_type": "markdown",
   "metadata": {},
   "source": [
    "### 3.3. RandomForest."
   ]
  },
  {
   "cell_type": "code",
   "execution_count": 72,
   "metadata": {},
   "outputs": [
    {
     "name": "stdout",
     "output_type": "stream",
     "text": [
      "MSE: 0.05245973242634091\n",
      "RMSE: 0.2290408968423345\n",
      "MAE: 0.1432143737308114\n",
      "MAPE: 0.0159770832604703\n",
      "r2 score: 0.9245012611347475\n"
     ]
    }
   ],
   "source": [
    "# RandomForest\n",
    "\n",
    "param = {\"n_estimators\":[50, 100, 300], \"max_depth\":[3, 5, 9, 15, 33], \"n_jobs\":[-1], \"random_state\":[42]}\n",
    "\n",
    "gs_rf = GridSearchCV(estimator=RandomForestRegressor(), param_grid=param, cv=5, scoring=\"neg_mean_squared_error\")\n",
    "\n",
    "gs_rf.fit(X_train, y_train)\n",
    "\n",
    "y_pred = gs_rf.predict(X_test)\n",
    "\n",
    "print(f\"MSE: {metrics.mean_squared_error(y_test, y_pred)}\")\n",
    "print(f\"RMSE: {np.sqrt(metrics.mean_squared_error(y_test, y_pred))}\")\n",
    "print(f\"MAE: {metrics.mean_absolute_error(y_test, y_pred)}\")\n",
    "print(f\"MAPE: {metrics.mean_absolute_percentage_error(y_test, y_pred)}\")\n",
    "\n",
    "print(f\"r2 score: {metrics.r2_score(y_test, y_pred)}\")"
   ]
  },
  {
   "cell_type": "code",
   "execution_count": 73,
   "metadata": {},
   "outputs": [
    {
     "data": {
      "text/plain": [
       "{'max_depth': 33, 'n_estimators': 300, 'n_jobs': -1, 'random_state': 42}"
      ]
     },
     "execution_count": 73,
     "metadata": {},
     "output_type": "execute_result"
    }
   ],
   "source": [
    "gs_rf.best_params_"
   ]
  },
  {
   "cell_type": "markdown",
   "metadata": {},
   "source": [
    "### 3.4. ADA Boost Regression."
   ]
  },
  {
   "cell_type": "code",
   "execution_count": 74,
   "metadata": {},
   "outputs": [
    {
     "name": "stdout",
     "output_type": "stream",
     "text": [
      "MSE: 0.12913964574632744\n",
      "RMSE: 0.3593600502926382\n",
      "MAE: 0.2685003649807258\n",
      "MAPE: 0.029238076979689855\n",
      "r2 score: 0.8141454418387843\n"
     ]
    }
   ],
   "source": [
    "# ADA\n",
    "\n",
    "param = {\"n_estimators\":[50, 100, 300], \"learning_rate\":np.arange(0.1, 1.1, 0.1), \"random_state\":[42]}\n",
    "\n",
    "gs_ada = GridSearchCV(estimator=AdaBoostRegressor(), param_grid=param, cv=5, scoring=\"neg_mean_squared_error\")\n",
    "\n",
    "gs_ada.fit(X_train, y_train)\n",
    "\n",
    "y_pred = gs_ada.predict(X_test)\n",
    "\n",
    "print(f\"MSE: {metrics.mean_squared_error(y_test, y_pred)}\")\n",
    "print(f\"RMSE: {np.sqrt(metrics.mean_squared_error(y_test, y_pred))}\")\n",
    "print(f\"MAE: {metrics.mean_absolute_error(y_test, y_pred)}\")\n",
    "print(f\"MAPE: {metrics.mean_absolute_percentage_error(y_test, y_pred)}\")\n",
    "\n",
    "print(f\"r2 score: {metrics.r2_score(y_test, y_pred)}\")"
   ]
  },
  {
   "cell_type": "code",
   "execution_count": 75,
   "metadata": {},
   "outputs": [
    {
     "data": {
      "text/plain": [
       "-0.1272252746038315"
      ]
     },
     "execution_count": 75,
     "metadata": {},
     "output_type": "execute_result"
    }
   ],
   "source": [
    "gs_ada.best_score_"
   ]
  },
  {
   "cell_type": "code",
   "execution_count": 76,
   "metadata": {},
   "outputs": [
    {
     "data": {
      "text/plain": [
       "{'learning_rate': 0.4, 'n_estimators': 100, 'random_state': 42}"
      ]
     },
     "execution_count": 76,
     "metadata": {},
     "output_type": "execute_result"
    }
   ],
   "source": [
    "gs_ada.best_params_"
   ]
  },
  {
   "cell_type": "markdown",
   "metadata": {},
   "source": [
    "### 3.5. Gradient Boosting Regression."
   ]
  },
  {
   "cell_type": "code",
   "execution_count": 77,
   "metadata": {},
   "outputs": [
    {
     "name": "stdout",
     "output_type": "stream",
     "text": [
      "MSE: 0.04443449167430775\n",
      "RMSE: 0.210794904289235\n",
      "MAE: 0.14072856066304698\n",
      "MAPE: 0.015624269353422865\n",
      "r2 score: 0.9360509875219203\n"
     ]
    }
   ],
   "source": [
    "# Gradient Boost\n",
    "\n",
    "param = {\"n_estimators\":[50, 100, 300], \"learning_rate\":np.arange(0.1, 1.1, 0.1), \"random_state\":[42]}\n",
    "\n",
    "gs_gb = GridSearchCV(estimator=GradientBoostingRegressor(), param_grid=param, cv=5, scoring=\"neg_mean_squared_error\")\n",
    "\n",
    "gs_gb.fit(X_train, y_train)\n",
    "\n",
    "y_pred = gs_gb.predict(X_test)\n",
    "\n",
    "print(f\"MSE: {metrics.mean_squared_error(y_test, y_pred)}\")\n",
    "print(f\"RMSE: {np.sqrt(metrics.mean_squared_error(y_test, y_pred))}\")\n",
    "print(f\"MAE: {metrics.mean_absolute_error(y_test, y_pred)}\")\n",
    "print(f\"MAPE: {metrics.mean_absolute_percentage_error(y_test, y_pred)}\")\n",
    "\n",
    "print(f\"r2 score: {metrics.r2_score(y_test, y_pred)}\")"
   ]
  },
  {
   "cell_type": "markdown",
   "metadata": {},
   "source": [
    "### 3.6. XGradient Boosting Regression."
   ]
  },
  {
   "cell_type": "code",
   "execution_count": 78,
   "metadata": {},
   "outputs": [
    {
     "name": "stdout",
     "output_type": "stream",
     "text": [
      "MSE: 0.04557942078419423\n",
      "RMSE: 0.21349337409904373\n",
      "MAE: 0.13764354696548495\n",
      "MAPE: 0.015311936673952017\n",
      "r2 score: 0.9344032340948909\n"
     ]
    }
   ],
   "source": [
    "# XG Boost\n",
    "\n",
    "param = {}\n",
    "\n",
    "gs_xgb = GridSearchCV(estimator=xgboost.XGBRegressor(), param_grid=param, cv=5, scoring=\"neg_mean_squared_error\")\n",
    "\n",
    "gs_xgb.fit(X_train, y_train)\n",
    "\n",
    "y_pred = gs_xgb.predict(X_test)\n",
    "\n",
    "print(f\"MSE: {metrics.mean_squared_error(y_test, y_pred)}\")\n",
    "print(f\"RMSE: {np.sqrt(metrics.mean_squared_error(y_test, y_pred))}\")\n",
    "print(f\"MAE: {metrics.mean_absolute_error(y_test, y_pred)}\")\n",
    "print(f\"MAPE: {metrics.mean_absolute_percentage_error(y_test, y_pred)}\")\n",
    "\n",
    "print(f\"r2 score: {metrics.r2_score(y_test, y_pred)}\")"
   ]
  },
  {
   "cell_type": "markdown",
   "metadata": {},
   "source": [
    "### 3.7. Voting."
   ]
  },
  {
   "cell_type": "code",
   "execution_count": 79,
   "metadata": {},
   "outputs": [
    {
     "name": "stdout",
     "output_type": "stream",
     "text": [
      "MSE: 0.053497701952873\n",
      "RMSE: 0.23129570240900066\n",
      "MAE: 0.15609829313481452\n",
      "MAPE: 0.017271840387161876\n",
      "r2 score: 0.9230074412731275\n"
     ]
    }
   ],
   "source": [
    "# Voting\n",
    "\n",
    "# param = {\"estimators\":[gs_lin_reg.best_estimator_, best_poly_model.best_estimator_, gs_rf.best_estimator_, gs_ada.best_estimator_, gs_gb.best_estimator_, gs_xgb.best_estimator_],\n",
    "#          \"n_jobs\":[-1]}\n",
    "\n",
    "gs_voting = VotingRegressor(estimators=[(\"lin_reg\", gs_lin_reg.best_estimator_), (\"rf\", gs_rf.best_estimator_), (\"ada\", gs_ada.best_estimator_), (\"gb\", gs_gb.best_estimator_), (\"xgb\", gs_xgb.best_estimator_)],\n",
    "                            n_jobs=-1,)\n",
    "\n",
    "gs_voting.fit(X_train, y_train)\n",
    "\n",
    "y_pred = gs_voting.predict(X_test)\n",
    "\n",
    "print(f\"MSE: {metrics.mean_squared_error(y_test, y_pred)}\")\n",
    "print(f\"RMSE: {np.sqrt(metrics.mean_squared_error(y_test, y_pred))}\")\n",
    "print(f\"MAE: {metrics.mean_absolute_error(y_test, y_pred)}\")\n",
    "print(f\"MAPE: {metrics.mean_absolute_percentage_error(y_test, y_pred)}\")\n",
    "\n",
    "print(f\"r2 score: {metrics.r2_score(y_test, y_pred)}\")"
   ]
  },
  {
   "cell_type": "markdown",
   "metadata": {},
   "source": [
    "El Voting da peor. El modelo con mejores métricas es el Gradient Boosting Regressor, aunque el XGradient Boosting y el RandomForest también estaba cerca. "
   ]
  },
  {
   "cell_type": "markdown",
   "metadata": {},
   "source": [
    "## 4. Selección y análisis del mejor modelo."
   ]
  },
  {
   "cell_type": "markdown",
   "metadata": {},
   "source": [
    "### 4.1. Selección de modelo:"
   ]
  },
  {
   "cell_type": "markdown",
   "metadata": {},
   "source": [
    "Vamos a comparar en una tabla el resultado obtenido para el MSE de test en cada modelo, ya que es la métrica que estamos utilizando, con el fin de elegir el mejor:"
   ]
  },
  {
   "cell_type": "code",
   "execution_count": 2,
   "metadata": {},
   "outputs": [],
   "source": [
    "import pandas as pd"
   ]
  },
  {
   "cell_type": "code",
   "execution_count": 4,
   "metadata": {},
   "outputs": [
    {
     "data": {
      "text/html": [
       "<div>\n",
       "<style scoped>\n",
       "    .dataframe tbody tr th:only-of-type {\n",
       "        vertical-align: middle;\n",
       "    }\n",
       "\n",
       "    .dataframe tbody tr th {\n",
       "        vertical-align: top;\n",
       "    }\n",
       "\n",
       "    .dataframe thead th {\n",
       "        text-align: right;\n",
       "    }\n",
       "</style>\n",
       "<table border=\"1\" class=\"dataframe\">\n",
       "  <thead>\n",
       "    <tr style=\"text-align: right;\">\n",
       "      <th></th>\n",
       "      <th>Modelo</th>\n",
       "      <th>RMSE</th>\n",
       "      <th>MAE</th>\n",
       "      <th>r2 score</th>\n",
       "    </tr>\n",
       "  </thead>\n",
       "  <tbody>\n",
       "    <tr>\n",
       "      <th>0</th>\n",
       "      <td>XG Boost</td>\n",
       "      <td>0.2135</td>\n",
       "      <td>0.1376</td>\n",
       "      <td>0.9344</td>\n",
       "    </tr>\n",
       "    <tr>\n",
       "      <th>1</th>\n",
       "      <td>Gradient Boost</td>\n",
       "      <td>0.2108</td>\n",
       "      <td>0.1407</td>\n",
       "      <td>0.9361</td>\n",
       "    </tr>\n",
       "    <tr>\n",
       "      <th>2</th>\n",
       "      <td>RandomForest</td>\n",
       "      <td>0.2290</td>\n",
       "      <td>0.1432</td>\n",
       "      <td>0.9245</td>\n",
       "    </tr>\n",
       "    <tr>\n",
       "      <th>3</th>\n",
       "      <td>Voting</td>\n",
       "      <td>0.2313</td>\n",
       "      <td>0.1561</td>\n",
       "      <td>0.9230</td>\n",
       "    </tr>\n",
       "    <tr>\n",
       "      <th>4</th>\n",
       "      <td>Polynomial Regression (grado 5)</td>\n",
       "      <td>0.2669</td>\n",
       "      <td>0.1714</td>\n",
       "      <td>0.8975</td>\n",
       "    </tr>\n",
       "    <tr>\n",
       "      <th>5</th>\n",
       "      <td>Linear Regression</td>\n",
       "      <td>0.3385</td>\n",
       "      <td>0.2387</td>\n",
       "      <td>0.8351</td>\n",
       "    </tr>\n",
       "    <tr>\n",
       "      <th>6</th>\n",
       "      <td>ADA Boost</td>\n",
       "      <td>0.3594</td>\n",
       "      <td>0.2685</td>\n",
       "      <td>0.8142</td>\n",
       "    </tr>\n",
       "  </tbody>\n",
       "</table>\n",
       "</div>"
      ],
      "text/plain": [
       "                            Modelo    RMSE     MAE  r2 score\n",
       "0                         XG Boost  0.2135  0.1376    0.9344\n",
       "1                   Gradient Boost  0.2108  0.1407    0.9361\n",
       "2                     RandomForest  0.2290  0.1432    0.9245\n",
       "3                           Voting  0.2313  0.1561    0.9230\n",
       "4  Polynomial Regression (grado 5)  0.2669  0.1714    0.8975\n",
       "5                Linear Regression  0.3385  0.2387    0.8351\n",
       "6                        ADA Boost  0.3594  0.2685    0.8142"
      ]
     },
     "execution_count": 4,
     "metadata": {},
     "output_type": "execute_result"
    }
   ],
   "source": [
    "df_comp_modelos_log = pd.DataFrame({\"Modelo\":[\"Linear Regression\", \"Polynomial Regression (grado 5)\", \"RandomForest\", \"ADA Boost\", \"Gradient Boost\", \"XG Boost\", \"Voting\"],\n",
    "                                \"RMSE\":[0.3385, 0.2669, 0.2290, 0.3594, 0.2108, 0.2135, 0.2313],\n",
    "                                \"MAE\":[0.2387, 0.1714, 0.1432, 0.2685, 0.1407, 0.1376, 0.1561],\n",
    "                                \"r2 score\":[0.8351, 0.8975, 0.9245, 0.8142, 0.9361, 0.9344, 0.9230]})\n",
    "\n",
    "df_comp_modelos_log = df_comp_modelos_log.sort_values(\"MAE\", ascending=True).reset_index(drop=True)\n",
    "df_comp_modelos_log"
   ]
  },
  {
   "cell_type": "markdown",
   "metadata": {},
   "source": [
    "Vemos que el mejor modelo es el Gradient Boost, aunque está muy cerca el XGBoost. Vamos a quedarnos con el XGBoost, ya que su tiempo de entrenamiento es mucho menor y los resultados muy similares, y también con el RandomForest, ya que su funcionamiento es distinto y sus resultados están bastante cerca, por lo que puede sernos útil para comparar.\n",
    "\n",
    "Cabe destacar que el MAE representado en la tabla anterior no se corresponde con el error medio en la predicción del modelo sobre el precio del vehículo, ya que hemos aplicado una transformación logarítmica a este precio. Más adelante veremos el MAE y el MSE reales del mejor modelo, una vez aplicada la transformación inversa. "
   ]
  },
  {
   "cell_type": "markdown",
   "metadata": {},
   "source": [
    "Vamos a ver si podemos mejorar algo de estos dos modelos mirando la importancia de las columnas (features) y realizando alguna modificación. Comenzamos con el RandomForest:"
   ]
  },
  {
   "cell_type": "code",
   "execution_count": 81,
   "metadata": {},
   "outputs": [
    {
     "data": {
      "text/plain": [
       "array([0.02460727, 0.0320876 , 0.00499191, 0.57098731, 0.07337544,\n",
       "       0.28391704, 0.00341773, 0.00661569])"
      ]
     },
     "execution_count": 81,
     "metadata": {},
     "output_type": "execute_result"
    }
   ],
   "source": [
    "gs_rf.best_estimator_.feature_importances_"
   ]
  },
  {
   "cell_type": "markdown",
   "metadata": {},
   "source": [
    "Realizamos un dataframe con la importancia de las cada columna en el modelo RandomForest:"
   ]
  },
  {
   "cell_type": "code",
   "execution_count": 89,
   "metadata": {},
   "outputs": [
    {
     "data": {
      "text/html": [
       "<div>\n",
       "<style scoped>\n",
       "    .dataframe tbody tr th:only-of-type {\n",
       "        vertical-align: middle;\n",
       "    }\n",
       "\n",
       "    .dataframe tbody tr th {\n",
       "        vertical-align: top;\n",
       "    }\n",
       "\n",
       "    .dataframe thead th {\n",
       "        text-align: right;\n",
       "    }\n",
       "</style>\n",
       "<table border=\"1\" class=\"dataframe\">\n",
       "  <thead>\n",
       "    <tr style=\"text-align: right;\">\n",
       "      <th></th>\n",
       "      <th>Feature Importance</th>\n",
       "    </tr>\n",
       "  </thead>\n",
       "  <tbody>\n",
       "    <tr>\n",
       "      <th>anyo_vehiculo</th>\n",
       "      <td>0.570987</td>\n",
       "    </tr>\n",
       "    <tr>\n",
       "      <th>potencia</th>\n",
       "      <td>0.283917</td>\n",
       "    </tr>\n",
       "    <tr>\n",
       "      <th>kilometraje</th>\n",
       "      <td>0.073375</td>\n",
       "    </tr>\n",
       "    <tr>\n",
       "      <th>modelo</th>\n",
       "      <td>0.032088</td>\n",
       "    </tr>\n",
       "    <tr>\n",
       "      <th>marca</th>\n",
       "      <td>0.024607</td>\n",
       "    </tr>\n",
       "    <tr>\n",
       "      <th>tipo_cambio</th>\n",
       "      <td>0.006616</td>\n",
       "    </tr>\n",
       "    <tr>\n",
       "      <th>combustible</th>\n",
       "      <td>0.004992</td>\n",
       "    </tr>\n",
       "    <tr>\n",
       "      <th>num_puertas</th>\n",
       "      <td>0.003418</td>\n",
       "    </tr>\n",
       "  </tbody>\n",
       "</table>\n",
       "</div>"
      ],
      "text/plain": [
       "               Feature Importance\n",
       "anyo_vehiculo            0.570987\n",
       "potencia                 0.283917\n",
       "kilometraje              0.073375\n",
       "modelo                   0.032088\n",
       "marca                    0.024607\n",
       "tipo_cambio              0.006616\n",
       "combustible              0.004992\n",
       "num_puertas              0.003418"
      ]
     },
     "execution_count": 89,
     "metadata": {},
     "output_type": "execute_result"
    }
   ],
   "source": [
    "df_feat_imp_rf = pd.DataFrame(gs_rf.best_estimator_.feature_importances_, index=X.columns)\n",
    "df_feat_imp_rf = df_feat_imp_rf.rename(columns={0:\"Feature Importance\"}).sort_values(\"Feature Importance\", ascending=False)\n",
    "df_feat_imp_rf"
   ]
  },
  {
   "cell_type": "code",
   "execution_count": null,
   "metadata": {},
   "outputs": [
    {
     "data": {
      "image/png": "[encoded data removed]",
      "text/plain": [
       "<Figure size 1000x600 with 1 Axes>"
      ]
     },
     "metadata": {},
     "output_type": "display_data"
    }
   ],
   "source": [
    "import matplotlib.pyplot as plt\n",
    "import seaborn as sns\n",
    "\n",
    "plt.figure(figsize=(10, 6)) \n",
    "\n",
    "\n",
    "df_feat_imp_rf = df_feat_imp_rf.reset_index() \n",
    "df_feat_imp_rf.rename(columns={'index': 'Feature'}, inplace=True)\n",
    "\n",
    "sns.barplot(data=df_feat_imp_rf, x='Feature', y='Feature Importance', color=colors[0])\n",
    "\n",
    "plt.title(\"Importancia de cada feature en el modelo RandomForest\", fontsize=16)\n",
    "plt.xlabel(\"Feature\")\n",
    "plt.ylabel(\"Importancia\")\n",
    "\n",
    "plt.xticks(rotation=45)\n",
    "plt.tight_layout()\n",
    "plt.show()"
   ]
  },
  {
   "cell_type": "markdown",
   "metadata": {},
   "source": [
    "Se observa cómo las columnas con más importancia en el precio de un coche de segunda mano son, según nuestro modelo RandomForest, el año de matriculación, potencia del motor y kms recorridos. Las columnas de modelo y marca del coche también tienen algo de importancia, y las demás (tipo de cambio, combustible y número de puertas) tienen una importancia mucho menor.\n",
    "\n",
    "Por esto, vamos a probar a hacer un Random Forest, con la misma parametrización que el mejor de antes, pero quitando las columnas menos importantes: ```[\"tipo_cambio\", \"combustible\", \"num_puertas\"]```, a ver si mejora el modelo."
   ]
  },
  {
   "cell_type": "code",
   "execution_count": 91,
   "metadata": {},
   "outputs": [
    {
     "data": {
      "text/html": [
       "<div>\n",
       "<style scoped>\n",
       "    .dataframe tbody tr th:only-of-type {\n",
       "        vertical-align: middle;\n",
       "    }\n",
       "\n",
       "    .dataframe tbody tr th {\n",
       "        vertical-align: top;\n",
       "    }\n",
       "\n",
       "    .dataframe thead th {\n",
       "        text-align: right;\n",
       "    }\n",
       "</style>\n",
       "<table border=\"1\" class=\"dataframe\">\n",
       "  <thead>\n",
       "    <tr style=\"text-align: right;\">\n",
       "      <th></th>\n",
       "      <th>marca</th>\n",
       "      <th>modelo</th>\n",
       "      <th>anyo_vehiculo</th>\n",
       "      <th>kilometraje</th>\n",
       "      <th>potencia</th>\n",
       "    </tr>\n",
       "  </thead>\n",
       "  <tbody>\n",
       "    <tr>\n",
       "      <th>0</th>\n",
       "      <td>1</td>\n",
       "      <td>356</td>\n",
       "      <td>2021.0</td>\n",
       "      <td>33200</td>\n",
       "      <td>190.0</td>\n",
       "    </tr>\n",
       "    <tr>\n",
       "      <th>1</th>\n",
       "      <td>6</td>\n",
       "      <td>29</td>\n",
       "      <td>2016.0</td>\n",
       "      <td>127300</td>\n",
       "      <td>110.0</td>\n",
       "    </tr>\n",
       "    <tr>\n",
       "      <th>2</th>\n",
       "      <td>7</td>\n",
       "      <td>143</td>\n",
       "      <td>2022.0</td>\n",
       "      <td>123000</td>\n",
       "      <td>100.0</td>\n",
       "    </tr>\n",
       "    <tr>\n",
       "      <th>3</th>\n",
       "      <td>2</td>\n",
       "      <td>92</td>\n",
       "      <td>2022.0</td>\n",
       "      <td>18150</td>\n",
       "      <td>83.0</td>\n",
       "    </tr>\n",
       "    <tr>\n",
       "      <th>4</th>\n",
       "      <td>9</td>\n",
       "      <td>110</td>\n",
       "      <td>2023.0</td>\n",
       "      <td>12000</td>\n",
       "      <td>150.0</td>\n",
       "    </tr>\n",
       "    <tr>\n",
       "      <th>...</th>\n",
       "      <td>...</td>\n",
       "      <td>...</td>\n",
       "      <td>...</td>\n",
       "      <td>...</td>\n",
       "      <td>...</td>\n",
       "    </tr>\n",
       "    <tr>\n",
       "      <th>29694</th>\n",
       "      <td>8</td>\n",
       "      <td>239</td>\n",
       "      <td>2019.0</td>\n",
       "      <td>21153</td>\n",
       "      <td>115.0</td>\n",
       "    </tr>\n",
       "    <tr>\n",
       "      <th>29695</th>\n",
       "      <td>7</td>\n",
       "      <td>237</td>\n",
       "      <td>2015.0</td>\n",
       "      <td>68750</td>\n",
       "      <td>150.0</td>\n",
       "    </tr>\n",
       "    <tr>\n",
       "      <th>29696</th>\n",
       "      <td>6</td>\n",
       "      <td>5</td>\n",
       "      <td>2019.0</td>\n",
       "      <td>21422</td>\n",
       "      <td>72.0</td>\n",
       "    </tr>\n",
       "    <tr>\n",
       "      <th>29697</th>\n",
       "      <td>0</td>\n",
       "      <td>289</td>\n",
       "      <td>2013.0</td>\n",
       "      <td>47900</td>\n",
       "      <td>450.0</td>\n",
       "    </tr>\n",
       "    <tr>\n",
       "      <th>29698</th>\n",
       "      <td>2</td>\n",
       "      <td>91</td>\n",
       "      <td>2006.0</td>\n",
       "      <td>106000</td>\n",
       "      <td>70.0</td>\n",
       "    </tr>\n",
       "  </tbody>\n",
       "</table>\n",
       "<p>29699 rows × 5 columns</p>\n",
       "</div>"
      ],
      "text/plain": [
       "       marca  modelo  anyo_vehiculo  kilometraje  potencia\n",
       "0          1     356         2021.0        33200     190.0\n",
       "1          6      29         2016.0       127300     110.0\n",
       "2          7     143         2022.0       123000     100.0\n",
       "3          2      92         2022.0        18150      83.0\n",
       "4          9     110         2023.0        12000     150.0\n",
       "...      ...     ...            ...          ...       ...\n",
       "29694      8     239         2019.0        21153     115.0\n",
       "29695      7     237         2015.0        68750     150.0\n",
       "29696      6       5         2019.0        21422      72.0\n",
       "29697      0     289         2013.0        47900     450.0\n",
       "29698      2      91         2006.0       106000      70.0\n",
       "\n",
       "[29699 rows x 5 columns]"
      ]
     },
     "execution_count": 91,
     "metadata": {},
     "output_type": "execute_result"
    }
   ],
   "source": [
    "# RF 2\n",
    "\n",
    "X_rf_2 = X.drop(columns=[\"tipo_cambio\", \"combustible\", \"num_puertas\"])\n",
    "X_rf_2"
   ]
  },
  {
   "cell_type": "code",
   "execution_count": 92,
   "metadata": {},
   "outputs": [
    {
     "name": "stdout",
     "output_type": "stream",
     "text": [
      "(23759, 5)\n",
      "(5940, 5)\n",
      "(23759,)\n",
      "(5940,)\n"
     ]
    }
   ],
   "source": [
    "from sklearn.model_selection import train_test_split\n",
    "\n",
    "X_train_rf2, X_test_rf2, y_train_rf2, y_test_rf2 = train_test_split(X_rf_2, y, test_size=0.2, random_state=42)\n",
    "\n",
    "print(X_train_rf2.shape)\n",
    "print(X_test_rf2.shape)\n",
    "print(y_train_rf2.shape)\n",
    "print(y_test_rf2.shape)"
   ]
  },
  {
   "cell_type": "code",
   "execution_count": 93,
   "metadata": {},
   "outputs": [],
   "source": [
    "from sklearn.preprocessing import MinMaxScaler\n",
    "\n",
    "scaler = MinMaxScaler()\n",
    "\n",
    "scaler.fit(X_train_rf2)\n",
    "X_train_rf2 = scaler.transform(X_train_rf2)\n",
    "X_test_rf2 = scaler.transform(X_test_rf2)"
   ]
  },
  {
   "cell_type": "code",
   "execution_count": 94,
   "metadata": {},
   "outputs": [
    {
     "name": "stdout",
     "output_type": "stream",
     "text": [
      "MSE: 0.055758710357681825\n",
      "RMSE: 0.23613282354997117\n",
      "MAE: 0.14799043130934064\n",
      "MAPE: 0.016508326874130987\n",
      "r2 score: 0.9197534543534175\n"
     ]
    }
   ],
   "source": [
    "# RandomForest\n",
    "\n",
    "# param = {\"n_estimators\":[50, 100, 300], \"max_depth\":[3, 5, 9, 15, 33], \"n_jobs\":[-1], \"random_state\":[42]}\n",
    "\n",
    "rf2 = RandomForestRegressor(n_estimators=300, max_depth=33, n_jobs=-1, random_state=42)\n",
    "\n",
    "rf2.fit(X_train_rf2, y_train_rf2)\n",
    "\n",
    "y_pred_rf2 = rf2.predict(X_test_rf2)\n",
    "\n",
    "print(f\"MSE: {metrics.mean_squared_error(y_test_rf2, y_pred_rf2)}\")\n",
    "print(f\"RMSE: {np.sqrt(metrics.mean_squared_error(y_test_rf2, y_pred_rf2))}\")\n",
    "print(f\"MAE: {metrics.mean_absolute_error(y_test_rf2, y_pred_rf2)}\")\n",
    "print(f\"MAPE: {metrics.mean_absolute_percentage_error(y_test_rf2, y_pred_rf2)}\")\n",
    "\n",
    "print(f\"r2 score: {metrics.r2_score(y_test_rf2, y_pred_rf2)}\")"
   ]
  },
  {
   "cell_type": "markdown",
   "metadata": {},
   "source": [
    "### 4.2. Análisis del modelo definitivo:"
   ]
  },
  {
   "cell_type": "markdown",
   "metadata": {},
   "source": [
    "Obtenemos un MSE más elevado que antes, por lo que no mejora. Nos quedamos entonces el XG Boost, que era el segundo modelo con el MSE más bajo pero más rápido que el primero. Vamos a ver la importancia de las features en este modelo:"
   ]
  },
  {
   "cell_type": "code",
   "execution_count": 95,
   "metadata": {},
   "outputs": [
    {
     "name": "stdout",
     "output_type": "stream",
     "text": [
      "MSE: 0.04557942078419423\n",
      "RMSE: 0.21349337409904373\n",
      "MAE: 0.13764354696548495\n",
      "MAPE: 0.015311936673952017\n",
      "r2 score: 0.9344032340948909\n"
     ]
    }
   ],
   "source": [
    "xgb_model = xgboost.XGBRegressor()\n",
    "\n",
    "xgb_model.fit(X_train, y_train)\n",
    "\n",
    "y_pred = xgb_model.predict(X_test)\n",
    "\n",
    "print(f\"MSE: {metrics.mean_squared_error(y_test, y_pred)}\")\n",
    "print(f\"RMSE: {np.sqrt(metrics.mean_squared_error(y_test, y_pred))}\")\n",
    "print(f\"MAE: {metrics.mean_absolute_error(y_test, y_pred)}\")\n",
    "print(f\"MAPE: {metrics.mean_absolute_percentage_error(y_test, y_pred)}\")\n",
    "\n",
    "print(f\"r2 score: {metrics.r2_score(y_test, y_pred)}\")"
   ]
  },
  {
   "cell_type": "code",
   "execution_count": 96,
   "metadata": {},
   "outputs": [
    {
     "data": {
      "text/plain": [
       "Index(['marca', 'modelo', 'combustible', 'anyo_vehiculo', 'kilometraje',\n",
       "       'potencia', 'num_puertas', 'tipo_cambio'],\n",
       "      dtype='object')"
      ]
     },
     "execution_count": 96,
     "metadata": {},
     "output_type": "execute_result"
    }
   ],
   "source": [
    "X.columns"
   ]
  },
  {
   "cell_type": "code",
   "execution_count": 97,
   "metadata": {},
   "outputs": [
    {
     "data": {
      "text/plain": [
       "array([0.05145216, 0.02008888, 0.01958242, 0.44428998, 0.03746107,\n",
       "       0.21881962, 0.01699274, 0.19131315], dtype=float32)"
      ]
     },
     "execution_count": 97,
     "metadata": {},
     "output_type": "execute_result"
    }
   ],
   "source": [
    "xgb_model.feature_importances_"
   ]
  },
  {
   "cell_type": "code",
   "execution_count": 100,
   "metadata": {},
   "outputs": [
    {
     "data": {
      "text/html": [
       "<div>\n",
       "<style scoped>\n",
       "    .dataframe tbody tr th:only-of-type {\n",
       "        vertical-align: middle;\n",
       "    }\n",
       "\n",
       "    .dataframe tbody tr th {\n",
       "        vertical-align: top;\n",
       "    }\n",
       "\n",
       "    .dataframe thead th {\n",
       "        text-align: right;\n",
       "    }\n",
       "</style>\n",
       "<table border=\"1\" class=\"dataframe\">\n",
       "  <thead>\n",
       "    <tr style=\"text-align: right;\">\n",
       "      <th></th>\n",
       "      <th>Feature Importance</th>\n",
       "    </tr>\n",
       "  </thead>\n",
       "  <tbody>\n",
       "    <tr>\n",
       "      <th>anyo_vehiculo</th>\n",
       "      <td>0.444290</td>\n",
       "    </tr>\n",
       "    <tr>\n",
       "      <th>potencia</th>\n",
       "      <td>0.218820</td>\n",
       "    </tr>\n",
       "    <tr>\n",
       "      <th>tipo_cambio</th>\n",
       "      <td>0.191313</td>\n",
       "    </tr>\n",
       "    <tr>\n",
       "      <th>marca</th>\n",
       "      <td>0.051452</td>\n",
       "    </tr>\n",
       "    <tr>\n",
       "      <th>kilometraje</th>\n",
       "      <td>0.037461</td>\n",
       "    </tr>\n",
       "    <tr>\n",
       "      <th>modelo</th>\n",
       "      <td>0.020089</td>\n",
       "    </tr>\n",
       "    <tr>\n",
       "      <th>combustible</th>\n",
       "      <td>0.019582</td>\n",
       "    </tr>\n",
       "    <tr>\n",
       "      <th>num_puertas</th>\n",
       "      <td>0.016993</td>\n",
       "    </tr>\n",
       "  </tbody>\n",
       "</table>\n",
       "</div>"
      ],
      "text/plain": [
       "               Feature Importance\n",
       "anyo_vehiculo            0.444290\n",
       "potencia                 0.218820\n",
       "tipo_cambio              0.191313\n",
       "marca                    0.051452\n",
       "kilometraje              0.037461\n",
       "modelo                   0.020089\n",
       "combustible              0.019582\n",
       "num_puertas              0.016993"
      ]
     },
     "execution_count": 100,
     "metadata": {},
     "output_type": "execute_result"
    }
   ],
   "source": [
    "df_feat_imp = pd.DataFrame(xgb_model.feature_importances_, index=X.columns)\n",
    "df_feat_imp = df_feat_imp.rename(columns={0:\"Feature Importance\"}).sort_values(\"Feature Importance\", ascending=False)\n",
    "df_feat_imp"
   ]
  },
  {
   "cell_type": "code",
   "execution_count": 102,
   "metadata": {},
   "outputs": [
    {
     "data": {
      "image/png": "[encoded data removed]",
      "text/plain": [
       "<Figure size 1000x600 with 1 Axes>"
      ]
     },
     "metadata": {},
     "output_type": "display_data"
    }
   ],
   "source": [
    "import matplotlib.pyplot as plt\n",
    "import seaborn as sns\n",
    "\n",
    "plt.figure(figsize=(10, 6))\n",
    "\n",
    "df_feat_imp = df_feat_imp.reset_index()\n",
    "df_feat_imp.rename(columns={'index': 'Feature'}, inplace=True)\n",
    "\n",
    "sns.barplot(data=df_feat_imp, x='Feature', y='Feature Importance', color=colors[0])\n",
    "\n",
    "plt.title(\"Importancia de cada feature en el modelo XG Boost\", fontsize=16)\n",
    "plt.xlabel(\"Feature\")\n",
    "plt.ylabel(\"Importancia\")\n",
    "\n",
    "plt.xticks(rotation=45)\n",
    "plt.tight_layout()\n",
    "plt.show()\n"
   ]
  },
  {
   "cell_type": "markdown",
   "metadata": {},
   "source": [
    "Ahora observamos que las columnas más importantes siguen siendo ```\"anyo_vehiculo\"``` y ```\"potencia\"```. Sin embargo, el XGBoost le da mucha más importancia a la columna ```\"tipo_cambio\"``` que el RandomForest previo, y menos a la columna ```\"kilometraje\"```. Además la importancia de las columnas menos importantes es más elevada que en el anterior modelo, por lo que no descartaremos ninguna de estas columnas.\n",
    "\n",
    "Vamos a deshacer la transformación que realizamos en la columna ```\"precio\"``` (target) para ver la dimensión real de nuestras métricas:"
   ]
  },
  {
   "cell_type": "code",
   "execution_count": 104,
   "metadata": {},
   "outputs": [
    {
     "name": "stdout",
     "output_type": "stream",
     "text": [
      "MSE: 14256628.19307195\n",
      "RMSE: 3775.7950411895968\n",
      "MAE: 1872.9885921902128\n",
      "MAPE: 0.1405485106362972\n",
      "r2 score: 0.9315665938523535\n"
     ]
    }
   ],
   "source": [
    "y_pred = xgb_model.predict(X_test)\n",
    "\n",
    "# Deshacemos la transformación logarítmica:\n",
    "y_test_final = np.exp(y_test)\n",
    "y_pred_final = np.exp(y_pred)\n",
    "\n",
    "# Claculamos las métricas reales:\n",
    "print(f\"MSE: {metrics.mean_squared_error(y_test_final, y_pred_final)}\")\n",
    "print(f\"RMSE: {np.sqrt(metrics.mean_squared_error(y_test_final, y_pred_final))}\")\n",
    "print(f\"MAE: {metrics.mean_absolute_error(y_test_final, y_pred_final)}\")\n",
    "print(f\"MAPE: {metrics.mean_absolute_percentage_error(y_test_final, y_pred_final)}\")\n",
    "\n",
    "print(f\"r2 score: {metrics.r2_score(y_test_final, y_pred_final)}\")"
   ]
  },
  {
   "cell_type": "markdown",
   "metadata": {},
   "source": [
    "Vemos que el MAE = 1873 euros. Esto significa que para cada vehículo nos podemos ir esa cantidad de dinero de media en la predicción. \n",
    "\n",
    "El RMSE es algo mayor, 3776 euros, lo cual se debe a que existen unos pocos coches cuyo error es alto, y al hacer el error cuadrático este error se hace más grande.\n",
    "\n",
    "En cuanto al MAPE, nos indica que nuestro modelo tiene un % de error medio del 14.05% sobre el precio del vehículo, el cual es algo elevado."
   ]
  },
  {
   "cell_type": "markdown",
   "metadata": {},
   "source": [
    "Vamos a exportar el modelo final:"
   ]
  },
  {
   "cell_type": "code",
   "execution_count": 107,
   "metadata": {},
   "outputs": [],
   "source": [
    "import pickle\n",
    "\n",
    "# Guardamos el modelo final:\n",
    "\n",
    "with open(\"../include/model/modelo_final.pkl\", 'wb') as archivo_salida:\n",
    "    pickle.dump(xgb_model, archivo_salida)\n"
   ]
  },
  {
   "cell_type": "markdown",
   "metadata": {},
   "source": [
    "Creamos una función que nos permita meter nuevos inputs en el formato de nuestro DataFrame inicial y extraer las variables para pasar directamente al modelo.\n",
    "\n",
    "Además, creamos otras dos funciones: una para realizar predicciones y otra para destransformar la columna target ```\"precio\"```."
   ]
  },
  {
   "cell_type": "code",
   "execution_count": 120,
   "metadata": {},
   "outputs": [],
   "source": [
    "# Función para transformar un df con nuevos inputs de la base de datos en X, y para pasar al modelo.\n",
    "\n",
    "from sklearn.preprocessing import LabelEncoder\n",
    "from sklearn.preprocessing import MinMaxScaler\n",
    "import pickle\n",
    "\n",
    "\n",
    "\n",
    "def new_input_clean(input_df):\n",
    "    '''\n",
    "    Introduce los nuevos inputs en formato DataFrame con las columnas iniciales y devuelve los datos listos para introducirlos al modelo.\n",
    "\n",
    "    El input DataFrame debe contener al menos las columnas (['marca', 'modelo', 'combustible', 'anyo_vehiculo', 'kilometraje', 'potencia', \n",
    "    'num_puertas', 'tipo_cambio'])\n",
    "    '''\n",
    "\n",
    "    excepciones = ['marca', 'modelo', 'precio', 'combustible', 'anyo_vehiculo', 'kilometraje', 'potencia', 'num_puertas', 'tipo_cambio']\n",
    "\n",
    "    # Reemplazar NaN con 0 excepto en las columnas de excepciones (las que utiliza el modelo)\n",
    "    input_df = input_df.fillna({col: 0 for col in input_df.columns if col not in excepciones})\n",
    "\n",
    "\n",
    "    input_df = input_df[excepciones]\n",
    "    input_df = input_df.drop(index=(input_df.loc[df.loc[:, \"potencia\"].isna() == True, :]).index)\n",
    "    input_df = input_df.drop(index=(input_df.loc[df.loc[:, \"tipo_cambio\"].isna() == True, :]).index)\n",
    "    input_df = input_df.dropna()\n",
    "\n",
    "    # Importamos los encodings hechos antes:\n",
    "    encoder_marca = pickle.load(open(\"../include/utils/label_encoder_marca.pkl\", 'rb'))\n",
    "    encoder_modelo = pickle.load(open(\"../include/utils/label_encoder_modelo.pkl\", 'rb'))\n",
    "\n",
    "    list(encoder_marca.classes_)\n",
    "    input_df[\"marca\"] = encoder_marca.transform(input_df[\"marca\"])\n",
    "\n",
    "    list(encoder_modelo.classes_)\n",
    "    input_df[\"modelo\"] = encoder_modelo.transform(input_df[\"modelo\"])\n",
    "\n",
    "    tipos_combustible = {\"Diésel\" : 0,\n",
    "            \"Gasolina\" : 1,\n",
    "            \"Híbrido\" : 2,\n",
    "            \"Eléctrico\" : 3,\n",
    "            \"Híbrido enchufable\" : 4, \n",
    "            \"Gas licuado (GLP)\" : 5,\n",
    "            \"Gas natural (CNG)\" : 6}\n",
    "                     \n",
    "    input_df[\"combustible\"] = input_df[\"combustible\"].map(tipos_combustible)\n",
    "\n",
    "    num_puertas = {5: 5,\n",
    "            4 : 5,\n",
    "            3 : 3,\n",
    "            2 : 3}\n",
    "    \n",
    "    input_df[\"num_puertas\"] = input_df[\"num_puertas\"].map(num_puertas)\n",
    "    \n",
    "    input_df[\"tipo_cambio\"] = input_df[\"tipo_cambio\"].apply(lambda x: 0 if x == \"Manual\" else 1)\n",
    "\n",
    "    input_df[\"precio\"] = np.log(input_df[\"precio\"])\n",
    "\n",
    "    X_input = input_df.drop(\"precio\", axis=1)\n",
    "    y_input = input_df[\"precio\"]\n",
    "    \n",
    "\n",
    "    scaler = pickle.load(open(\"../include/utils/scaler.pkl\", 'rb'))\n",
    "\n",
    "    X_input = scaler.transform(X_input)\n",
    "\n",
    "    return [X_input, y_input]\n",
    "\n",
    "# Función para hacer predicciones\n",
    "\n",
    "def predict(loaded_model, X_input):\n",
    "    return loaded_model.predict(X_input)\n",
    "\n",
    "# Función para deshacer la transformación y devolver el precio:\n",
    "\n",
    "import numpy as np\n",
    "\n",
    "def destransformar_y(y_out):\n",
    "    return np.exp(y_out)"
   ]
  },
  {
   "cell_type": "markdown",
   "metadata": {},
   "source": [
    "Vamos ahora a cargar el modelo y probarlo con un DataFrame de prueba con coches, para ver el precio que predice. "
   ]
  },
  {
   "cell_type": "code",
   "execution_count": 121,
   "metadata": {},
   "outputs": [],
   "source": [
    "import pickle\n",
    "\n",
    "loaded_model = pickle.load(open(\"../include/model/modelo_final.pkl\", 'rb'))"
   ]
  },
  {
   "cell_type": "code",
   "execution_count": 122,
   "metadata": {},
   "outputs": [
    {
     "data": {
      "text/html": [
       "<style>#sk-container-id-2 {color: black;}#sk-container-id-2 pre{padding: 0;}#sk-container-id-2 div.sk-toggleable {background-color: white;}#sk-container-id-2 label.sk-toggleable__label {cursor: pointer;display: block;width: 100%;margin-bottom: 0;padding: 0.3em;box-sizing: border-box;text-align: center;}#sk-container-id-2 label.sk-toggleable__label-arrow:before {content: \"▸\";float: left;margin-right: 0.25em;color: #696969;}#sk-container-id-2 label.sk-toggleable__label-arrow:hover:before {color: black;}#sk-container-id-2 div.sk-estimator:hover label.sk-toggleable__label-arrow:before {color: black;}#sk-container-id-2 div.sk-toggleable__content {max-height: 0;max-width: 0;overflow: hidden;text-align: left;background-color: #f0f8ff;}#sk-container-id-2 div.sk-toggleable__content pre {margin: 0.2em;color: black;border-radius: 0.25em;background-color: #f0f8ff;}#sk-container-id-2 input.sk-toggleable__control:checked~div.sk-toggleable__content {max-height: 200px;max-width: 100%;overflow: auto;}#sk-container-id-2 input.sk-toggleable__control:checked~label.sk-toggleable__label-arrow:before {content: \"▾\";}#sk-container-id-2 div.sk-estimator input.sk-toggleable__control:checked~label.sk-toggleable__label {background-color: #d4ebff;}#sk-container-id-2 div.sk-label input.sk-toggleable__control:checked~label.sk-toggleable__label {background-color: #d4ebff;}#sk-container-id-2 input.sk-hidden--visually {border: 0;clip: rect(1px 1px 1px 1px);clip: rect(1px, 1px, 1px, 1px);height: 1px;margin: -1px;overflow: hidden;padding: 0;position: absolute;width: 1px;}#sk-container-id-2 div.sk-estimator {font-family: monospace;background-color: #f0f8ff;border: 1px dotted black;border-radius: 0.25em;box-sizing: border-box;margin-bottom: 0.5em;}#sk-container-id-2 div.sk-estimator:hover {background-color: #d4ebff;}#sk-container-id-2 div.sk-parallel-item::after {content: \"\";width: 100%;border-bottom: 1px solid gray;flex-grow: 1;}#sk-container-id-2 div.sk-label:hover label.sk-toggleable__label {background-color: #d4ebff;}#sk-container-id-2 div.sk-serial::before {content: \"\";position: absolute;border-left: 1px solid gray;box-sizing: border-box;top: 0;bottom: 0;left: 50%;z-index: 0;}#sk-container-id-2 div.sk-serial {display: flex;flex-direction: column;align-items: center;background-color: white;padding-right: 0.2em;padding-left: 0.2em;position: relative;}#sk-container-id-2 div.sk-item {position: relative;z-index: 1;}#sk-container-id-2 div.sk-parallel {display: flex;align-items: stretch;justify-content: center;background-color: white;position: relative;}#sk-container-id-2 div.sk-item::before, #sk-container-id-2 div.sk-parallel-item::before {content: \"\";position: absolute;border-left: 1px solid gray;box-sizing: border-box;top: 0;bottom: 0;left: 50%;z-index: -1;}#sk-container-id-2 div.sk-parallel-item {display: flex;flex-direction: column;z-index: 1;position: relative;background-color: white;}#sk-container-id-2 div.sk-parallel-item:first-child::after {align-self: flex-end;width: 50%;}#sk-container-id-2 div.sk-parallel-item:last-child::after {align-self: flex-start;width: 50%;}#sk-container-id-2 div.sk-parallel-item:only-child::after {width: 0;}#sk-container-id-2 div.sk-dashed-wrapped {border: 1px dashed gray;margin: 0 0.4em 0.5em 0.4em;box-sizing: border-box;padding-bottom: 0.4em;background-color: white;}#sk-container-id-2 div.sk-label label {font-family: monospace;font-weight: bold;display: inline-block;line-height: 1.2em;}#sk-container-id-2 div.sk-label-container {text-align: center;}#sk-container-id-2 div.sk-container {/* jupyter's `normalize.less` sets `[hidden] { display: none; }` but bootstrap.min.css set `[hidden] { display: none !important; }` so we also need the `!important` here to be able to override the default hidden behavior on the sphinx rendered scikit-learn.org. See: https://github.com/scikit-learn/scikit-learn/issues/21755 */display: inline-block !important;position: relative;}#sk-container-id-2 div.sk-text-repr-fallback {display: none;}</style><div id=\"sk-container-id-2\" class=\"sk-top-container\"><div class=\"sk-text-repr-fallback\"><pre>XGBRegressor(base_score=None, booster=None, callbacks=None,\n",
       "             colsample_bylevel=None, colsample_bynode=None,\n",
       "             colsample_bytree=None, device=None, early_stopping_rounds=None,\n",
       "             enable_categorical=False, eval_metric=None, feature_types=None,\n",
       "             feature_weights=None, gamma=None, grow_policy=None,\n",
       "             importance_type=None, interaction_constraints=None,\n",
       "             learning_rate=None, max_bin=None, max_cat_threshold=None,\n",
       "             max_cat_to_onehot=None, max_delta_step=None, max_depth=None,\n",
       "             max_leaves=None, min_child_weight=None, missing=nan,\n",
       "             monotone_constraints=None, multi_strategy=None, n_estimators=None,\n",
       "             n_jobs=None, num_parallel_tree=None, ...)</pre><b>In a Jupyter environment, please rerun this cell to show the HTML representation or trust the notebook. <br />On GitHub, the HTML representation is unable to render, please try loading this page with nbviewer.org.</b></div><div class=\"sk-container\" hidden><div class=\"sk-item\"><div class=\"sk-estimator sk-toggleable\"><input class=\"sk-toggleable__control sk-hidden--visually\" id=\"sk-estimator-id-2\" type=\"checkbox\" checked><label for=\"sk-estimator-id-2\" class=\"sk-toggleable__label sk-toggleable__label-arrow\">XGBRegressor</label><div class=\"sk-toggleable__content\"><pre>XGBRegressor(base_score=None, booster=None, callbacks=None,\n",
       "             colsample_bylevel=None, colsample_bynode=None,\n",
       "             colsample_bytree=None, device=None, early_stopping_rounds=None,\n",
       "             enable_categorical=False, eval_metric=None, feature_types=None,\n",
       "             feature_weights=None, gamma=None, grow_policy=None,\n",
       "             importance_type=None, interaction_constraints=None,\n",
       "             learning_rate=None, max_bin=None, max_cat_threshold=None,\n",
       "             max_cat_to_onehot=None, max_delta_step=None, max_depth=None,\n",
       "             max_leaves=None, min_child_weight=None, missing=nan,\n",
       "             monotone_constraints=None, multi_strategy=None, n_estimators=None,\n",
       "             n_jobs=None, num_parallel_tree=None, ...)</pre></div></div></div></div></div>"
      ],
      "text/plain": [
       "XGBRegressor(base_score=None, booster=None, callbacks=None,\n",
       "             colsample_bylevel=None, colsample_bynode=None,\n",
       "             colsample_bytree=None, device=None, early_stopping_rounds=None,\n",
       "             enable_categorical=False, eval_metric=None, feature_types=None,\n",
       "             feature_weights=None, gamma=None, grow_policy=None,\n",
       "             importance_type=None, interaction_constraints=None,\n",
       "             learning_rate=None, max_bin=None, max_cat_threshold=None,\n",
       "             max_cat_to_onehot=None, max_delta_step=None, max_depth=None,\n",
       "             max_leaves=None, min_child_weight=None, missing=nan,\n",
       "             monotone_constraints=None, multi_strategy=None, n_estimators=None,\n",
       "             n_jobs=None, num_parallel_tree=None, ...)"
      ]
     },
     "execution_count": 122,
     "metadata": {},
     "output_type": "execute_result"
    }
   ],
   "source": [
    "loaded_model"
   ]
  },
  {
   "cell_type": "code",
   "execution_count": 123,
   "metadata": {},
   "outputs": [
    {
     "data": {
      "text/html": [
       "<div>\n",
       "<style scoped>\n",
       "    .dataframe tbody tr th:only-of-type {\n",
       "        vertical-align: middle;\n",
       "    }\n",
       "\n",
       "    .dataframe tbody tr th {\n",
       "        vertical-align: top;\n",
       "    }\n",
       "\n",
       "    .dataframe thead th {\n",
       "        text-align: right;\n",
       "    }\n",
       "</style>\n",
       "<table border=\"1\" class=\"dataframe\">\n",
       "  <thead>\n",
       "    <tr style=\"text-align: right;\">\n",
       "      <th></th>\n",
       "      <th>pk_anuncio_id</th>\n",
       "      <th>marca</th>\n",
       "      <th>modelo</th>\n",
       "      <th>precio</th>\n",
       "      <th>combustible</th>\n",
       "      <th>anyo_vehiculo</th>\n",
       "      <th>kilometraje</th>\n",
       "      <th>potencia</th>\n",
       "      <th>num_puertas</th>\n",
       "      <th>num_plazas</th>\n",
       "      <th>...</th>\n",
       "      <th>tipo_vehiculo</th>\n",
       "      <th>cilindrada_motor</th>\n",
       "      <th>color</th>\n",
       "      <th>provincia</th>\n",
       "      <th>etiqueta_eco</th>\n",
       "      <th>origen_anuncio</th>\n",
       "      <th>fecha_publicacion</th>\n",
       "      <th>anyomes_publicacion</th>\n",
       "      <th>fecha_carga</th>\n",
       "      <th>url</th>\n",
       "    </tr>\n",
       "  </thead>\n",
       "  <tbody>\n",
       "    <tr>\n",
       "      <th>0</th>\n",
       "      <td>60498281</td>\n",
       "      <td>BMW</td>\n",
       "      <td>x3</td>\n",
       "      <td>37900.0</td>\n",
       "      <td>Híbrido</td>\n",
       "      <td>2021.0</td>\n",
       "      <td>33200</td>\n",
       "      <td>190.0</td>\n",
       "      <td>5.0</td>\n",
       "      <td>5.0</td>\n",
       "      <td>...</td>\n",
       "      <td>SUV</td>\n",
       "      <td>1995.0</td>\n",
       "      <td>gris</td>\n",
       "      <td>Madrid</td>\n",
       "      <td>ECO (azul/verde)</td>\n",
       "      <td>WebScraping</td>\n",
       "      <td>2025-05-07</td>\n",
       "      <td>202505.0</td>\n",
       "      <td>2025-05-18 14:21:01</td>\n",
       "      <td>https://www.coches.net/bmw-x3-xdrive20d-xline-...</td>\n",
       "    </tr>\n",
       "    <tr>\n",
       "      <th>1</th>\n",
       "      <td>59710104</td>\n",
       "      <td>PEUGEOT</td>\n",
       "      <td>308</td>\n",
       "      <td>9000.0</td>\n",
       "      <td>Gasolina</td>\n",
       "      <td>2016.0</td>\n",
       "      <td>127300</td>\n",
       "      <td>110.0</td>\n",
       "      <td>5.0</td>\n",
       "      <td>5.0</td>\n",
       "      <td>...</td>\n",
       "      <td>Berlina</td>\n",
       "      <td>1199.0</td>\n",
       "      <td>blanco</td>\n",
       "      <td>Asturias</td>\n",
       "      <td>None</td>\n",
       "      <td>WebScraping</td>\n",
       "      <td>2025-01-25</td>\n",
       "      <td>202501.0</td>\n",
       "      <td>2025-05-18 11:18:51</td>\n",
       "      <td>https://www.coches.net/peugeot-308-5p-allure-1...</td>\n",
       "    </tr>\n",
       "    <tr>\n",
       "      <th>2</th>\n",
       "      <td>60479478</td>\n",
       "      <td>RENAULT</td>\n",
       "      <td>clio</td>\n",
       "      <td>11990.0</td>\n",
       "      <td>Diésel</td>\n",
       "      <td>2022.0</td>\n",
       "      <td>123000</td>\n",
       "      <td>100.0</td>\n",
       "      <td>5.0</td>\n",
       "      <td>5.0</td>\n",
       "      <td>...</td>\n",
       "      <td>Berlina</td>\n",
       "      <td>1461.0</td>\n",
       "      <td>blanco</td>\n",
       "      <td>Málaga</td>\n",
       "      <td>None</td>\n",
       "      <td>WebScraping</td>\n",
       "      <td>2025-05-18</td>\n",
       "      <td>202505.0</td>\n",
       "      <td>2025-05-18 10:06:26</td>\n",
       "      <td>https://www.coches.net/renault-clio-equilibre-...</td>\n",
       "    </tr>\n",
       "    <tr>\n",
       "      <th>3</th>\n",
       "      <td>60374025</td>\n",
       "      <td>CITROEN</td>\n",
       "      <td>c3</td>\n",
       "      <td>16500.0</td>\n",
       "      <td>Gasolina</td>\n",
       "      <td>2022.0</td>\n",
       "      <td>18150</td>\n",
       "      <td>83.0</td>\n",
       "      <td>5.0</td>\n",
       "      <td>5.0</td>\n",
       "      <td>...</td>\n",
       "      <td>Berlina</td>\n",
       "      <td>1199.0</td>\n",
       "      <td>blanco</td>\n",
       "      <td>Madrid</td>\n",
       "      <td>None</td>\n",
       "      <td>WebScraping</td>\n",
       "      <td>2025-04-19</td>\n",
       "      <td>202504.0</td>\n",
       "      <td>2025-05-18 10:05:00</td>\n",
       "      <td>https://www.coches.net/citroen-c3-puretech-60k...</td>\n",
       "    </tr>\n",
       "    <tr>\n",
       "      <th>4</th>\n",
       "      <td>60576644</td>\n",
       "      <td>VOLKSWAGEN</td>\n",
       "      <td>california</td>\n",
       "      <td>67900.0</td>\n",
       "      <td>Diesel</td>\n",
       "      <td>2023.0</td>\n",
       "      <td>12000</td>\n",
       "      <td>150.0</td>\n",
       "      <td>4.0</td>\n",
       "      <td>4.0</td>\n",
       "      <td>...</td>\n",
       "      <td>Monovolumen</td>\n",
       "      <td>1968.0</td>\n",
       "      <td>Blanco</td>\n",
       "      <td>Las Palmas</td>\n",
       "      <td>None</td>\n",
       "      <td>WebScraping</td>\n",
       "      <td>2025-05-18</td>\n",
       "      <td>202505.0</td>\n",
       "      <td>2025-05-18 07:24:21</td>\n",
       "      <td>https://www.coches.net/volkswagen-california-o...</td>\n",
       "    </tr>\n",
       "  </tbody>\n",
       "</table>\n",
       "<p>5 rows × 21 columns</p>\n",
       "</div>"
      ],
      "text/plain": [
       "   pk_anuncio_id       marca      modelo   precio combustible  anyo_vehiculo  \\\n",
       "0       60498281         BMW          x3  37900.0     Híbrido         2021.0   \n",
       "1       59710104     PEUGEOT         308   9000.0    Gasolina         2016.0   \n",
       "2       60479478     RENAULT        clio  11990.0      Diésel         2022.0   \n",
       "3       60374025     CITROEN          c3  16500.0    Gasolina         2022.0   \n",
       "4       60576644  VOLKSWAGEN  california  67900.0      Diesel         2023.0   \n",
       "\n",
       "   kilometraje  potencia  num_puertas  num_plazas  ... tipo_vehiculo  \\\n",
       "0        33200     190.0          5.0         5.0  ...           SUV   \n",
       "1       127300     110.0          5.0         5.0  ...       Berlina   \n",
       "2       123000     100.0          5.0         5.0  ...       Berlina   \n",
       "3        18150      83.0          5.0         5.0  ...       Berlina   \n",
       "4        12000     150.0          4.0         4.0  ...   Monovolumen   \n",
       "\n",
       "  cilindrada_motor   color   provincia      etiqueta_eco origen_anuncio  \\\n",
       "0           1995.0    gris      Madrid  ECO (azul/verde)    WebScraping   \n",
       "1           1199.0  blanco    Asturias              None    WebScraping   \n",
       "2           1461.0  blanco      Málaga              None    WebScraping   \n",
       "3           1199.0  blanco      Madrid              None    WebScraping   \n",
       "4           1968.0  Blanco  Las Palmas              None    WebScraping   \n",
       "\n",
       "  fecha_publicacion anyomes_publicacion          fecha_carga  \\\n",
       "0        2025-05-07            202505.0  2025-05-18 14:21:01   \n",
       "1        2025-01-25            202501.0  2025-05-18 11:18:51   \n",
       "2        2025-05-18            202505.0  2025-05-18 10:06:26   \n",
       "3        2025-04-19            202504.0  2025-05-18 10:05:00   \n",
       "4        2025-05-18            202505.0  2025-05-18 07:24:21   \n",
       "\n",
       "                                                 url  \n",
       "0  https://www.coches.net/bmw-x3-xdrive20d-xline-...  \n",
       "1  https://www.coches.net/peugeot-308-5p-allure-1...  \n",
       "2  https://www.coches.net/renault-clio-equilibre-...  \n",
       "3  https://www.coches.net/citroen-c3-puretech-60k...  \n",
       "4  https://www.coches.net/volkswagen-california-o...  \n",
       "\n",
       "[5 rows x 21 columns]"
      ]
     },
     "execution_count": 123,
     "metadata": {},
     "output_type": "execute_result"
    }
   ],
   "source": [
    "import pandas as pd\n",
    "import sqlite3\n",
    "\n",
    "# Conexión a la BBDD:\n",
    "con = sqlite3.connect(\"../include/db_vehiculos.db\")\n",
    "\n",
    "# Vamos a ver qué nos devuelve un select sobre la tabla:\n",
    "query = \"\"\"\n",
    "SELECT * FROM TX_VEHICULOS_SEG_MANO\n",
    "--where\n",
    "--fecha_carga > '2025-05-11 22:33:00'\n",
    "order by\n",
    "    fecha_carga desc\n",
    ";\n",
    "\"\"\"\n",
    "\n",
    "# Leemos los resultados en un DataFrame de pandas\n",
    "df = pd.read_sql_query(query, con)\n",
    "\n",
    "# Mostramos los primeros registros (aún no hay):\n",
    "df_prueba = df.head()\n",
    "\n",
    "df_prueba"
   ]
  },
  {
   "cell_type": "code",
   "execution_count": 124,
   "metadata": {},
   "outputs": [],
   "source": [
    "X_input, y_input = new_input_clean(input_df=df_prueba)"
   ]
  },
  {
   "cell_type": "code",
   "execution_count": 125,
   "metadata": {},
   "outputs": [
    {
     "data": {
      "text/plain": [
       "array([10.6165085,  9.09715  ,  9.384863 ,  9.533099 , 10.874894 ],\n",
       "      dtype=float32)"
      ]
     },
     "execution_count": 125,
     "metadata": {},
     "output_type": "execute_result"
    }
   ],
   "source": [
    "predictions = loaded_model.predict(X_input)\n",
    "predictions"
   ]
  },
  {
   "cell_type": "code",
   "execution_count": 126,
   "metadata": {},
   "outputs": [
    {
     "data": {
      "text/plain": [
       "array([40803.,  8930., 11907., 13809., 52833.], dtype=float32)"
      ]
     },
     "execution_count": 126,
     "metadata": {},
     "output_type": "execute_result"
    }
   ],
   "source": [
    "y_prueba = destransformar_y(predictions).round(0)\n",
    "y_prueba"
   ]
  },
  {
   "cell_type": "markdown",
   "metadata": {},
   "source": [
    "Insertamos las predicciones realizadas en la columna ```\"precio_predicho\"```, al lado de la columna target ```\"precio\"```:"
   ]
  },
  {
   "cell_type": "code",
   "execution_count": 130,
   "metadata": {},
   "outputs": [
    {
     "data": {
      "text/html": [
       "<div>\n",
       "<style scoped>\n",
       "    .dataframe tbody tr th:only-of-type {\n",
       "        vertical-align: middle;\n",
       "    }\n",
       "\n",
       "    .dataframe tbody tr th {\n",
       "        vertical-align: top;\n",
       "    }\n",
       "\n",
       "    .dataframe thead th {\n",
       "        text-align: right;\n",
       "    }\n",
       "</style>\n",
       "<table border=\"1\" class=\"dataframe\">\n",
       "  <thead>\n",
       "    <tr style=\"text-align: right;\">\n",
       "      <th></th>\n",
       "      <th>pk_anuncio_id</th>\n",
       "      <th>marca</th>\n",
       "      <th>modelo</th>\n",
       "      <th>precio</th>\n",
       "      <th>precio_predicho</th>\n",
       "      <th>combustible</th>\n",
       "      <th>anyo_vehiculo</th>\n",
       "      <th>kilometraje</th>\n",
       "      <th>potencia</th>\n",
       "      <th>num_puertas</th>\n",
       "      <th>...</th>\n",
       "      <th>tipo_vehiculo</th>\n",
       "      <th>cilindrada_motor</th>\n",
       "      <th>color</th>\n",
       "      <th>provincia</th>\n",
       "      <th>etiqueta_eco</th>\n",
       "      <th>origen_anuncio</th>\n",
       "      <th>fecha_publicacion</th>\n",
       "      <th>anyomes_publicacion</th>\n",
       "      <th>fecha_carga</th>\n",
       "      <th>url</th>\n",
       "    </tr>\n",
       "  </thead>\n",
       "  <tbody>\n",
       "    <tr>\n",
       "      <th>0</th>\n",
       "      <td>60498281</td>\n",
       "      <td>BMW</td>\n",
       "      <td>x3</td>\n",
       "      <td>37900.0</td>\n",
       "      <td>40803.0</td>\n",
       "      <td>Híbrido</td>\n",
       "      <td>2021.0</td>\n",
       "      <td>33200</td>\n",
       "      <td>190.0</td>\n",
       "      <td>5.0</td>\n",
       "      <td>...</td>\n",
       "      <td>SUV</td>\n",
       "      <td>1995.0</td>\n",
       "      <td>gris</td>\n",
       "      <td>Madrid</td>\n",
       "      <td>ECO (azul/verde)</td>\n",
       "      <td>WebScraping</td>\n",
       "      <td>2025-05-07</td>\n",
       "      <td>202505.0</td>\n",
       "      <td>2025-05-18 14:21:01</td>\n",
       "      <td>https://www.coches.net/bmw-x3-xdrive20d-xline-...</td>\n",
       "    </tr>\n",
       "    <tr>\n",
       "      <th>1</th>\n",
       "      <td>59710104</td>\n",
       "      <td>PEUGEOT</td>\n",
       "      <td>308</td>\n",
       "      <td>9000.0</td>\n",
       "      <td>8930.0</td>\n",
       "      <td>Gasolina</td>\n",
       "      <td>2016.0</td>\n",
       "      <td>127300</td>\n",
       "      <td>110.0</td>\n",
       "      <td>5.0</td>\n",
       "      <td>...</td>\n",
       "      <td>Berlina</td>\n",
       "      <td>1199.0</td>\n",
       "      <td>blanco</td>\n",
       "      <td>Asturias</td>\n",
       "      <td>None</td>\n",
       "      <td>WebScraping</td>\n",
       "      <td>2025-01-25</td>\n",
       "      <td>202501.0</td>\n",
       "      <td>2025-05-18 11:18:51</td>\n",
       "      <td>https://www.coches.net/peugeot-308-5p-allure-1...</td>\n",
       "    </tr>\n",
       "    <tr>\n",
       "      <th>2</th>\n",
       "      <td>60479478</td>\n",
       "      <td>RENAULT</td>\n",
       "      <td>clio</td>\n",
       "      <td>11990.0</td>\n",
       "      <td>11907.0</td>\n",
       "      <td>Diésel</td>\n",
       "      <td>2022.0</td>\n",
       "      <td>123000</td>\n",
       "      <td>100.0</td>\n",
       "      <td>5.0</td>\n",
       "      <td>...</td>\n",
       "      <td>Berlina</td>\n",
       "      <td>1461.0</td>\n",
       "      <td>blanco</td>\n",
       "      <td>Málaga</td>\n",
       "      <td>None</td>\n",
       "      <td>WebScraping</td>\n",
       "      <td>2025-05-18</td>\n",
       "      <td>202505.0</td>\n",
       "      <td>2025-05-18 10:06:26</td>\n",
       "      <td>https://www.coches.net/renault-clio-equilibre-...</td>\n",
       "    </tr>\n",
       "    <tr>\n",
       "      <th>3</th>\n",
       "      <td>60374025</td>\n",
       "      <td>CITROEN</td>\n",
       "      <td>c3</td>\n",
       "      <td>16500.0</td>\n",
       "      <td>13809.0</td>\n",
       "      <td>Gasolina</td>\n",
       "      <td>2022.0</td>\n",
       "      <td>18150</td>\n",
       "      <td>83.0</td>\n",
       "      <td>5.0</td>\n",
       "      <td>...</td>\n",
       "      <td>Berlina</td>\n",
       "      <td>1199.0</td>\n",
       "      <td>blanco</td>\n",
       "      <td>Madrid</td>\n",
       "      <td>None</td>\n",
       "      <td>WebScraping</td>\n",
       "      <td>2025-04-19</td>\n",
       "      <td>202504.0</td>\n",
       "      <td>2025-05-18 10:05:00</td>\n",
       "      <td>https://www.coches.net/citroen-c3-puretech-60k...</td>\n",
       "    </tr>\n",
       "    <tr>\n",
       "      <th>4</th>\n",
       "      <td>60576644</td>\n",
       "      <td>VOLKSWAGEN</td>\n",
       "      <td>california</td>\n",
       "      <td>67900.0</td>\n",
       "      <td>52833.0</td>\n",
       "      <td>Diesel</td>\n",
       "      <td>2023.0</td>\n",
       "      <td>12000</td>\n",
       "      <td>150.0</td>\n",
       "      <td>4.0</td>\n",
       "      <td>...</td>\n",
       "      <td>Monovolumen</td>\n",
       "      <td>1968.0</td>\n",
       "      <td>Blanco</td>\n",
       "      <td>Las Palmas</td>\n",
       "      <td>None</td>\n",
       "      <td>WebScraping</td>\n",
       "      <td>2025-05-18</td>\n",
       "      <td>202505.0</td>\n",
       "      <td>2025-05-18 07:24:21</td>\n",
       "      <td>https://www.coches.net/volkswagen-california-o...</td>\n",
       "    </tr>\n",
       "  </tbody>\n",
       "</table>\n",
       "<p>5 rows × 22 columns</p>\n",
       "</div>"
      ],
      "text/plain": [
       "   pk_anuncio_id       marca      modelo   precio  precio_predicho  \\\n",
       "0       60498281         BMW          x3  37900.0          40803.0   \n",
       "1       59710104     PEUGEOT         308   9000.0           8930.0   \n",
       "2       60479478     RENAULT        clio  11990.0          11907.0   \n",
       "3       60374025     CITROEN          c3  16500.0          13809.0   \n",
       "4       60576644  VOLKSWAGEN  california  67900.0          52833.0   \n",
       "\n",
       "  combustible  anyo_vehiculo  kilometraje  potencia  num_puertas  ...  \\\n",
       "0     Híbrido         2021.0        33200     190.0          5.0  ...   \n",
       "1    Gasolina         2016.0       127300     110.0          5.0  ...   \n",
       "2      Diésel         2022.0       123000     100.0          5.0  ...   \n",
       "3    Gasolina         2022.0        18150      83.0          5.0  ...   \n",
       "4      Diesel         2023.0        12000     150.0          4.0  ...   \n",
       "\n",
       "   tipo_vehiculo cilindrada_motor   color   provincia      etiqueta_eco  \\\n",
       "0            SUV           1995.0    gris      Madrid  ECO (azul/verde)   \n",
       "1        Berlina           1199.0  blanco    Asturias              None   \n",
       "2        Berlina           1461.0  blanco      Málaga              None   \n",
       "3        Berlina           1199.0  blanco      Madrid              None   \n",
       "4    Monovolumen           1968.0  Blanco  Las Palmas              None   \n",
       "\n",
       "  origen_anuncio fecha_publicacion anyomes_publicacion          fecha_carga  \\\n",
       "0    WebScraping        2025-05-07            202505.0  2025-05-18 14:21:01   \n",
       "1    WebScraping        2025-01-25            202501.0  2025-05-18 11:18:51   \n",
       "2    WebScraping        2025-05-18            202505.0  2025-05-18 10:06:26   \n",
       "3    WebScraping        2025-04-19            202504.0  2025-05-18 10:05:00   \n",
       "4    WebScraping        2025-05-18            202505.0  2025-05-18 07:24:21   \n",
       "\n",
       "                                                 url  \n",
       "0  https://www.coches.net/bmw-x3-xdrive20d-xline-...  \n",
       "1  https://www.coches.net/peugeot-308-5p-allure-1...  \n",
       "2  https://www.coches.net/renault-clio-equilibre-...  \n",
       "3  https://www.coches.net/citroen-c3-puretech-60k...  \n",
       "4  https://www.coches.net/volkswagen-california-o...  \n",
       "\n",
       "[5 rows x 22 columns]"
      ]
     },
     "execution_count": 130,
     "metadata": {},
     "output_type": "execute_result"
    }
   ],
   "source": [
    "df_prueba.insert(4, \"precio_predicho\", y_prueba)\n",
    "df_prueba.to_csv(\"../include/data/processed/df_prueba_pred.csv\")\n",
    "df_prueba"
   ]
  },
  {
   "cell_type": "markdown",
   "metadata": {},
   "source": [
    "Vemos que los precios que predice el modelo se ajustan bastante a los reales. Para el vehículo VolksWagen California no lo predice bien, lo cual es más común que pase para vehículos fuera del rango de precio entre 5.000 y 25.000 euros, que era donde más cantidad había."
   ]
  },
  {
   "cell_type": "markdown",
   "metadata": {},
   "source": [
    "Registros de VolksWagen California:"
   ]
  },
  {
   "cell_type": "code",
   "execution_count": 133,
   "metadata": {},
   "outputs": [],
   "source": [
    "import pandas as pd\n",
    "import sqlite3\n",
    "\n",
    "# Conexión a la BBDD:\n",
    "con = sqlite3.connect(\"../include/db_vehiculos.db\")\n",
    "\n",
    "# Vamos a ver qué nos devuelve un select sobre la tabla:\n",
    "query = \"\"\"\n",
    "SELECT * FROM TX_VEHICULOS_SEG_MANO\n",
    "where\n",
    "    marca = 'VOLKSWAGEN'\n",
    "    and modelo = 'california'\n",
    ";\n",
    "\"\"\"\n",
    "\n",
    "# Leemos los resultados en un DataFrame de pandas\n",
    "df_vw_california = pd.read_sql_query(query, con)\n",
    "\n",
    "# Mostramos los primeros registros (aún no hay):\n",
    "\n",
    "# df_vw_california"
   ]
  },
  {
   "cell_type": "markdown",
   "metadata": {},
   "source": [
    "## Idea: división en segmentos.\n",
    "\n",
    "1. Segmento medio: hasta 25k eur.\n",
    "2. Segmento premium: desde 25k eur."
   ]
  }
 ],
 "metadata": {
  "kernelspec": {
   "display_name": "base",
   "language": "python",
   "name": "python3"
  },
  "language_info": {
   "codemirror_mode": {
    "name": "ipython",
    "version": 3
   },
   "file_extension": ".py",
   "mimetype": "text/x-python",
   "name": "python",
   "nbconvert_exporter": "python",
   "pygments_lexer": "ipython3",
   "version": "3.11.5"
  }
 },
 "nbformat": 4,
 "nbformat_minor": 2
}

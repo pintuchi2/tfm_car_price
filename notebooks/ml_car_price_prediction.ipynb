{
 "cells": [
  {
   "cell_type": "markdown",
   "metadata": {},
   "source": [
    "# Proyecto ML: Modelo predictivo de precios de coche."
   ]
  },
  {
   "cell_type": "markdown",
   "metadata": {},
   "source": [
    "## 1. Introducción."
   ]
  },
  {
   "cell_type": "markdown",
   "metadata": {},
   "source": [
    "En este cuaderno buscaremos elaborar un modelo predictivo utilizando Machine Learning para saber una estimación del precio de un determinado vehículo de segunda mano y poder optimizar la compraventa de coches.\n",
    "\n",
    "Por esto, el objetivo es tener una plataforma web donde poder saber el precio de un determinado vehículo de segunda mano, en base al precio de otros coches registrados en nuestra base de datos. Para ello, se utilizan los registros guardados en la tabla TX_VEHICULOS_SEG_MANO de nuestra BBDD de sqlite, con cerca de 35.000 registros de vehículos de 10 marcas diferentes importadas desde un Dataset de Kaggle hecho a partir de WebScraping, a los que hemos añadido X vehículos scrapeados mediante el script guardado en la ruta ```\"dags/webscraping_script.py\"``` de la página de [coches.net](coches.net).\n",
    "\n",
    "Los registros obtenidos mediante ambos orígenes de datos han sido posibles de combinar mediante las transformaciones realizadas en el cuaderno ```\"notebooks/kaggle_dataset_cleaning.ipynb\"```, aunque antes de entrenar el modelo predictivo será necesario realizar algunas transformaciones adicionales, así como seleccionar las features del modelo.\n",
    "\n",
    "En este proyecto, se utilizarán modelos de Machine Learning para calcular el precio de un coche a partir de características como la marca, modelo, tipo de combustible, año, etc. Se trata, por tanto, de un problema de regresión. Se utilizará como métrica de optimización el Mean Squared Error (MSE), aunque también se analizarán otras métricas como el Mean Average Error (MAE)."
   ]
  },
  {
   "cell_type": "markdown",
   "metadata": {},
   "source": [
    "## 2. Obtención y procesado de datos."
   ]
  },
  {
   "cell_type": "markdown",
   "metadata": {},
   "source": [
    "Importamos los datos desde nuestra base de datos:"
   ]
  },
  {
   "cell_type": "code",
   "execution_count": 158,
   "metadata": {},
   "outputs": [],
   "source": [
    "# Importamos las librerías necesarias\n",
    "\n",
    "import pandas as pd\n",
    "import numpy as np\n",
    "import matplotlib.pyplot as plt\n",
    "import seaborn as sns\n",
    "import pickle\n",
    "\n",
    "\n",
    "sns.set_style(\"darkgrid\")\n",
    "\n",
    "\n",
    "colors = [\"#d5001c\", \"#f59908\", \"#ffcb01\", \"#969696\"]"
   ]
  },
  {
   "cell_type": "code",
   "execution_count": 159,
   "metadata": {},
   "outputs": [
    {
     "data": {
      "text/html": [
       "<div>\n",
       "<style scoped>\n",
       "    .dataframe tbody tr th:only-of-type {\n",
       "        vertical-align: middle;\n",
       "    }\n",
       "\n",
       "    .dataframe tbody tr th {\n",
       "        vertical-align: top;\n",
       "    }\n",
       "\n",
       "    .dataframe thead th {\n",
       "        text-align: right;\n",
       "    }\n",
       "</style>\n",
       "<table border=\"1\" class=\"dataframe\">\n",
       "  <thead>\n",
       "    <tr style=\"text-align: right;\">\n",
       "      <th></th>\n",
       "      <th>pk_anuncio_id</th>\n",
       "      <th>marca</th>\n",
       "      <th>modelo</th>\n",
       "      <th>precio</th>\n",
       "      <th>combustible</th>\n",
       "      <th>anyo_vehiculo</th>\n",
       "      <th>kilometraje</th>\n",
       "      <th>potencia</th>\n",
       "      <th>num_puertas</th>\n",
       "      <th>num_plazas</th>\n",
       "      <th>...</th>\n",
       "      <th>tipo_vehiculo</th>\n",
       "      <th>cilindrada_motor</th>\n",
       "      <th>color</th>\n",
       "      <th>provincia</th>\n",
       "      <th>etiqueta_eco</th>\n",
       "      <th>origen_anuncio</th>\n",
       "      <th>fecha_publicacion</th>\n",
       "      <th>anyomes_publicacion</th>\n",
       "      <th>fecha_carga</th>\n",
       "      <th>url</th>\n",
       "    </tr>\n",
       "  </thead>\n",
       "  <tbody>\n",
       "    <tr>\n",
       "      <th>0</th>\n",
       "      <td>60611029</td>\n",
       "      <td>AUDI</td>\n",
       "      <td>a3</td>\n",
       "      <td>25290.0</td>\n",
       "      <td>Híbrido</td>\n",
       "      <td>2023.0</td>\n",
       "      <td>46273</td>\n",
       "      <td>110.0</td>\n",
       "      <td>5.0</td>\n",
       "      <td>5.0</td>\n",
       "      <td>...</td>\n",
       "      <td>Berlina</td>\n",
       "      <td>999.0</td>\n",
       "      <td>negro</td>\n",
       "      <td>Ciudad Real</td>\n",
       "      <td>ECO (azul/verde)</td>\n",
       "      <td>WebScraping</td>\n",
       "      <td>2025-05-20</td>\n",
       "      <td>202505</td>\n",
       "      <td>2025-06-07 06:51:00</td>\n",
       "      <td>https://www.coches.net/audi-a3-sportback-30-tf...</td>\n",
       "    </tr>\n",
       "    <tr>\n",
       "      <th>1</th>\n",
       "      <td>60652943</td>\n",
       "      <td>HYUNDAI</td>\n",
       "      <td>i30</td>\n",
       "      <td>14850.0</td>\n",
       "      <td>Híbrido</td>\n",
       "      <td>2022.0</td>\n",
       "      <td>103209</td>\n",
       "      <td>120.0</td>\n",
       "      <td>5.0</td>\n",
       "      <td>5.0</td>\n",
       "      <td>...</td>\n",
       "      <td>Familiar</td>\n",
       "      <td>998.0</td>\n",
       "      <td>None</td>\n",
       "      <td>A Coruña</td>\n",
       "      <td>ECO (azul/verde)</td>\n",
       "      <td>WebScraping</td>\n",
       "      <td>2025-06-03</td>\n",
       "      <td>202506</td>\n",
       "      <td>2025-06-03 13:24:18</td>\n",
       "      <td>https://www.coches.net/hyundai-i30-10-tgdi-48v...</td>\n",
       "    </tr>\n",
       "    <tr>\n",
       "      <th>2</th>\n",
       "      <td>60716264</td>\n",
       "      <td>TOYOTA</td>\n",
       "      <td>c-hr</td>\n",
       "      <td>20100.0</td>\n",
       "      <td>Híbrido</td>\n",
       "      <td>2020.0</td>\n",
       "      <td>110745</td>\n",
       "      <td>122.0</td>\n",
       "      <td>5.0</td>\n",
       "      <td>5.0</td>\n",
       "      <td>...</td>\n",
       "      <td>Berlina</td>\n",
       "      <td>1798.0</td>\n",
       "      <td>blanco</td>\n",
       "      <td>Madrid</td>\n",
       "      <td>ECO (azul/verde)</td>\n",
       "      <td>WebScraping</td>\n",
       "      <td>2025-06-03</td>\n",
       "      <td>202506</td>\n",
       "      <td>2025-06-03 13:22:36</td>\n",
       "      <td>https://www.coches.net/toyota-c-hr-18-125h-act...</td>\n",
       "    </tr>\n",
       "    <tr>\n",
       "      <th>3</th>\n",
       "      <td>60206285</td>\n",
       "      <td>NISSAN</td>\n",
       "      <td>juke</td>\n",
       "      <td>17990.0</td>\n",
       "      <td>Gasolina</td>\n",
       "      <td>2022.0</td>\n",
       "      <td>63000</td>\n",
       "      <td>114.0</td>\n",
       "      <td>5.0</td>\n",
       "      <td>5.0</td>\n",
       "      <td>...</td>\n",
       "      <td>SUV</td>\n",
       "      <td>999.0</td>\n",
       "      <td>None</td>\n",
       "      <td>Las Palmas</td>\n",
       "      <td>None</td>\n",
       "      <td>WebScraping</td>\n",
       "      <td>2025-06-03</td>\n",
       "      <td>202506</td>\n",
       "      <td>2025-06-03 13:21:36</td>\n",
       "      <td>https://www.coches.net/nissan-juke-digt-84-kw-...</td>\n",
       "    </tr>\n",
       "    <tr>\n",
       "      <th>4</th>\n",
       "      <td>60716125</td>\n",
       "      <td>NISSAN</td>\n",
       "      <td>qashqai</td>\n",
       "      <td>24390.0</td>\n",
       "      <td>Híbrido</td>\n",
       "      <td>2022.0</td>\n",
       "      <td>62765</td>\n",
       "      <td>140.0</td>\n",
       "      <td>5.0</td>\n",
       "      <td>5.0</td>\n",
       "      <td>...</td>\n",
       "      <td>SUV</td>\n",
       "      <td>1332.0</td>\n",
       "      <td>negro</td>\n",
       "      <td>Huelva</td>\n",
       "      <td>ECO (azul/verde)</td>\n",
       "      <td>WebScraping</td>\n",
       "      <td>2025-06-03</td>\n",
       "      <td>202506</td>\n",
       "      <td>2025-06-03 13:20:26</td>\n",
       "      <td>https://www.coches.net/nissan-qashqai-digt-103...</td>\n",
       "    </tr>\n",
       "  </tbody>\n",
       "</table>\n",
       "<p>5 rows × 21 columns</p>\n",
       "</div>"
      ],
      "text/plain": [
       "   pk_anuncio_id    marca   modelo   precio combustible  anyo_vehiculo  \\\n",
       "0       60611029     AUDI       a3  25290.0     Híbrido         2023.0   \n",
       "1       60652943  HYUNDAI      i30  14850.0     Híbrido         2022.0   \n",
       "2       60716264   TOYOTA     c-hr  20100.0     Híbrido         2020.0   \n",
       "3       60206285   NISSAN     juke  17990.0    Gasolina         2022.0   \n",
       "4       60716125   NISSAN  qashqai  24390.0     Híbrido         2022.0   \n",
       "\n",
       "   kilometraje  potencia  num_puertas  num_plazas  ... tipo_vehiculo  \\\n",
       "0        46273     110.0          5.0         5.0  ...       Berlina   \n",
       "1       103209     120.0          5.0         5.0  ...      Familiar   \n",
       "2       110745     122.0          5.0         5.0  ...       Berlina   \n",
       "3        63000     114.0          5.0         5.0  ...           SUV   \n",
       "4        62765     140.0          5.0         5.0  ...           SUV   \n",
       "\n",
       "  cilindrada_motor   color    provincia      etiqueta_eco origen_anuncio  \\\n",
       "0            999.0   negro  Ciudad Real  ECO (azul/verde)    WebScraping   \n",
       "1            998.0    None     A Coruña  ECO (azul/verde)    WebScraping   \n",
       "2           1798.0  blanco       Madrid  ECO (azul/verde)    WebScraping   \n",
       "3            999.0    None   Las Palmas              None    WebScraping   \n",
       "4           1332.0   negro       Huelva  ECO (azul/verde)    WebScraping   \n",
       "\n",
       "  fecha_publicacion anyomes_publicacion          fecha_carga  \\\n",
       "0        2025-05-20              202505  2025-06-07 06:51:00   \n",
       "1        2025-06-03              202506  2025-06-03 13:24:18   \n",
       "2        2025-06-03              202506  2025-06-03 13:22:36   \n",
       "3        2025-06-03              202506  2025-06-03 13:21:36   \n",
       "4        2025-06-03              202506  2025-06-03 13:20:26   \n",
       "\n",
       "                                                 url  \n",
       "0  https://www.coches.net/audi-a3-sportback-30-tf...  \n",
       "1  https://www.coches.net/hyundai-i30-10-tgdi-48v...  \n",
       "2  https://www.coches.net/toyota-c-hr-18-125h-act...  \n",
       "3  https://www.coches.net/nissan-juke-digt-84-kw-...  \n",
       "4  https://www.coches.net/nissan-qashqai-digt-103...  \n",
       "\n",
       "[5 rows x 21 columns]"
      ]
     },
     "execution_count": 159,
     "metadata": {},
     "output_type": "execute_result"
    }
   ],
   "source": [
    "import sqlite3\n",
    "import pandas as pd\n",
    "\n",
    "con = sqlite3.connect(\"../include/db_vehiculos.db\")\n",
    "\n",
    "query = \"\"\"\n",
    "SELECT *\n",
    "FROM TX_VEHICULOS_SEG_MANO\n",
    "where\n",
    "    --origen_anuncio = 'WebScraping'\n",
    "    --origen_anuncio = 'dataset kaggle'\n",
    "    --and marca not in ('BMW', 'VOLKSWAGEN', 'MERCEDES-BENZ', 'AUDI', 'PEUGEOT', 'FORD', 'RENAULT', 'OPEL', 'CITROEN', 'SEAT')\n",
    "    marca in ('BMW', 'VOLKSWAGEN', 'MERCEDES-BENZ', 'AUDI', 'PEUGEOT', 'FORD', 'RENAULT', 'OPEL', 'CITROEN', 'SEAT', 'HYUNDAI', 'KIA', 'NISSAN', 'TOYOTA')\n",
    "order by\n",
    "    fecha_carga desc\n",
    ";\n",
    "\"\"\"\n",
    "\n",
    "df = pd.read_sql_query(query, con)\n",
    "\n",
    "df.head()"
   ]
  },
  {
   "cell_type": "markdown",
   "metadata": {},
   "source": [
    "Podemos ver el número de registros para cada origen de datos:"
   ]
  },
  {
   "cell_type": "code",
   "execution_count": 160,
   "metadata": {},
   "outputs": [
    {
     "data": {
      "text/plain": [
       "origen_anuncio\n",
       "dataset kaggle    40504\n",
       "WebScraping        7550\n",
       "Name: count, dtype: int64"
      ]
     },
     "execution_count": 160,
     "metadata": {},
     "output_type": "execute_result"
    }
   ],
   "source": [
    "df['origen_anuncio'].value_counts()"
   ]
  },
  {
   "cell_type": "markdown",
   "metadata": {},
   "source": [
    "Vemos que la gran mayoría de registros provienen del dataset de kaggle.\n",
    "\n",
    "Vamos a ver qué columnas contiene el DataFrame:"
   ]
  },
  {
   "cell_type": "code",
   "execution_count": 161,
   "metadata": {},
   "outputs": [
    {
     "name": "stdout",
     "output_type": "stream",
     "text": [
      "<class 'pandas.core.frame.DataFrame'>\n",
      "RangeIndex: 48054 entries, 0 to 48053\n",
      "Data columns (total 21 columns):\n",
      " #   Column               Non-Null Count  Dtype  \n",
      "---  ------               --------------  -----  \n",
      " 0   pk_anuncio_id        48054 non-null  int64  \n",
      " 1   marca                48054 non-null  object \n",
      " 2   modelo               48054 non-null  object \n",
      " 3   precio               48054 non-null  float64\n",
      " 4   combustible          47834 non-null  object \n",
      " 5   anyo_vehiculo        48052 non-null  float64\n",
      " 6   kilometraje          48054 non-null  int64  \n",
      " 7   potencia             40572 non-null  float64\n",
      " 8   num_puertas          47939 non-null  float64\n",
      " 9   num_plazas           7430 non-null   float64\n",
      " 10  tipo_cambio          47963 non-null  object \n",
      " 11  tipo_vehiculo        7550 non-null   object \n",
      " 12  cilindrada_motor     7389 non-null   float64\n",
      " 13  color                47339 non-null  object \n",
      " 14  provincia            48049 non-null  object \n",
      " 15  etiqueta_eco         5310 non-null   object \n",
      " 16  origen_anuncio       48054 non-null  object \n",
      " 17  fecha_publicacion    48054 non-null  object \n",
      " 18  anyomes_publicacion  48054 non-null  int64  \n",
      " 19  fecha_carga          48054 non-null  object \n",
      " 20  url                  48054 non-null  object \n",
      "dtypes: float64(6), int64(3), object(12)\n",
      "memory usage: 7.7+ MB\n"
     ]
    }
   ],
   "source": [
    "df.info()"
   ]
  },
  {
   "cell_type": "markdown",
   "metadata": {},
   "source": [
    "Vemos que el DataFrame se compone de 21 columnas, de las cuales, muchas de ellas son de tipo string. Además, contienen valores nulos, por lo que, a continuación, haremos un procesado de estas columnas.\n",
    "\n",
    "La columna target u objetivo a predecir es la columna llamada ```\"precio\"```."
   ]
  },
  {
   "cell_type": "markdown",
   "metadata": {},
   "source": [
    "Lo primero que haremos es eliminar las columnas ```['num_plazas', 'tipo_vehiculo', 'cilindrada_motor', 'etiqueta_eco']```, ya que solo tienen valores no nulos para los registros obtenidos mediante WebScraping."
   ]
  },
  {
   "cell_type": "code",
   "execution_count": 162,
   "metadata": {},
   "outputs": [
    {
     "name": "stdout",
     "output_type": "stream",
     "text": [
      "<class 'pandas.core.frame.DataFrame'>\n",
      "RangeIndex: 48054 entries, 0 to 48053\n",
      "Data columns (total 17 columns):\n",
      " #   Column               Non-Null Count  Dtype  \n",
      "---  ------               --------------  -----  \n",
      " 0   pk_anuncio_id        48054 non-null  int64  \n",
      " 1   marca                48054 non-null  object \n",
      " 2   modelo               48054 non-null  object \n",
      " 3   precio               48054 non-null  float64\n",
      " 4   combustible          47834 non-null  object \n",
      " 5   anyo_vehiculo        48052 non-null  float64\n",
      " 6   kilometraje          48054 non-null  int64  \n",
      " 7   potencia             40572 non-null  float64\n",
      " 8   num_puertas          47939 non-null  float64\n",
      " 9   tipo_cambio          47963 non-null  object \n",
      " 10  color                47339 non-null  object \n",
      " 11  provincia            48049 non-null  object \n",
      " 12  origen_anuncio       48054 non-null  object \n",
      " 13  fecha_publicacion    48054 non-null  object \n",
      " 14  anyomes_publicacion  48054 non-null  int64  \n",
      " 15  fecha_carga          48054 non-null  object \n",
      " 16  url                  48054 non-null  object \n",
      "dtypes: float64(4), int64(3), object(10)\n",
      "memory usage: 6.2+ MB\n"
     ]
    }
   ],
   "source": [
    "df = df.drop(columns=['num_plazas', 'tipo_vehiculo', 'cilindrada_motor', 'etiqueta_eco'])\n",
    "df.info()"
   ]
  },
  {
   "cell_type": "markdown",
   "metadata": {},
   "source": [
    "Vamos a eliminar también las columnas: ```['pk_anuncio_id', 'provincia', 'fecha_publicacion', 'anyomes_publicacion','fecha_carga', 'url']```, ya que tampoco aportan información para el modelo.\n",
    "\n",
    "De momento dejamos la columna ```'origen_anuncio'``` por si hay que distinguir en alguna transformación entre los datos de ambos orígenes."
   ]
  },
  {
   "cell_type": "code",
   "execution_count": 163,
   "metadata": {},
   "outputs": [
    {
     "name": "stdout",
     "output_type": "stream",
     "text": [
      "<class 'pandas.core.frame.DataFrame'>\n",
      "RangeIndex: 48054 entries, 0 to 48053\n",
      "Data columns (total 11 columns):\n",
      " #   Column          Non-Null Count  Dtype  \n",
      "---  ------          --------------  -----  \n",
      " 0   marca           48054 non-null  object \n",
      " 1   modelo          48054 non-null  object \n",
      " 2   precio          48054 non-null  float64\n",
      " 3   combustible     47834 non-null  object \n",
      " 4   anyo_vehiculo   48052 non-null  float64\n",
      " 5   kilometraje     48054 non-null  int64  \n",
      " 6   potencia        40572 non-null  float64\n",
      " 7   num_puertas     47939 non-null  float64\n",
      " 8   tipo_cambio     47963 non-null  object \n",
      " 9   color           47339 non-null  object \n",
      " 10  origen_anuncio  48054 non-null  object \n",
      "dtypes: float64(4), int64(1), object(6)\n",
      "memory usage: 4.0+ MB\n"
     ]
    }
   ],
   "source": [
    "df = df.drop(columns=['pk_anuncio_id', 'provincia', 'fecha_publicacion', 'anyomes_publicacion','fecha_carga', 'url'])\n",
    "\n",
    "df.info()"
   ]
  },
  {
   "cell_type": "markdown",
   "metadata": {},
   "source": [
    "### Variable objetivo: precio."
   ]
  },
  {
   "cell_type": "markdown",
   "metadata": {},
   "source": [
    "Vamos a ver la distibución de datos de la columna target (```\"precio\"```):"
   ]
  },
  {
   "cell_type": "code",
   "execution_count": 164,
   "metadata": {},
   "outputs": [
    {
     "name": "stderr",
     "output_type": "stream",
     "text": [
      "c:\\Users\\alberto.pintos\\AppData\\Local\\anaconda3\\Lib\\site-packages\\seaborn\\_oldcore.py:1119: FutureWarning: use_inf_as_na option is deprecated and will be removed in a future version. Convert inf values to NaN before operating instead.\n",
      "  with pd.option_context('mode.use_inf_as_na', True):\n",
      "c:\\Users\\alberto.pintos\\AppData\\Local\\anaconda3\\Lib\\site-packages\\seaborn\\axisgrid.py:118: UserWarning: The figure layout has changed to tight\n",
      "  self._figure.tight_layout(*args, **kwargs)\n"
     ]
    },
    {
     "data": {
      "text/plain": [
       "<Figure size 800x600 with 0 Axes>"
      ]
     },
     "metadata": {},
     "output_type": "display_data"
    },
    {
     "data": {
      "image/png": "[encoded data removed]",
      "text/plain": [
       "<Figure size 500x500 with 1 Axes>"
      ]
     },
     "metadata": {},
     "output_type": "display_data"
    }
   ],
   "source": [
    "plt.figure(figsize=(8, 6))\n",
    "\n",
    "sns.displot(df[\"precio\"], color=colors[0])\n",
    "\n",
    "plt.title(\"Cantidad de coches por precio\", fontsize=16)\n",
    "\n",
    "plt.xlabel(\"Precio (euros)\", fontsize=14)\n",
    "plt.ylabel(\"Cantidad de coches\", fontsize=14)\n",
    "\n",
    "plt.show()"
   ]
  },
  {
   "cell_type": "markdown",
   "metadata": {},
   "source": [
    "Vemos que existen muchos coches con un precio más bajo, y que, para precios más elevados, se reduce el número. Para corregir esto, y aumentar la eficacia del modelo predictivo, vamos a plantear dos medidas:\n",
    "\n",
    "1. Realizar un boxplot para detectar outliers y poder eliminar estos registros.\n",
    "\n",
    "2. Aplicar una transformación logarítmica a la columna ```\"precio\"```, de modo que los datos tiendan a una distribución normal. Al final, cuando ya esté hecho el modelo, habrá que deshacer esta transformación para obtener el precio real del vehículo a predecir."
   ]
  },
  {
   "cell_type": "markdown",
   "metadata": {},
   "source": [
    "Comenzamos realizando el Boxplot:"
   ]
  },
  {
   "cell_type": "code",
   "execution_count": 165,
   "metadata": {},
   "outputs": [
    {
     "data": {
      "image/png": "[encoded data removed]",
      "text/plain": [
       "<Figure size 800x600 with 1 Axes>"
      ]
     },
     "metadata": {},
     "output_type": "display_data"
    }
   ],
   "source": [
    "import matplotlib.pyplot as plt\n",
    "import seaborn as sns\n",
    "\n",
    "plt.figure(figsize=(8, 6))\n",
    "\n",
    "# Boxplot de la variable \"precio\"\n",
    "sns.boxplot(x=df[\"precio\"], color=colors[0])\n",
    "\n",
    "# Títulos y etiquetas\n",
    "plt.title(\"Boxplot inicial del precio del vehículo\", fontsize=16)\n",
    "plt.xlabel(\"Precio (euros)\", fontsize=14)\n",
    "\n",
    "plt.show()\n"
   ]
  },
  {
   "cell_type": "markdown",
   "metadata": {},
   "source": [
    "Vemos que la distribución del boxplot muestra que el 75 % de los registros se concentran por debajo de los 20.000 euros aproximadamente.\n",
    "\n",
    "Vamos a ver las principales medidas estadísticas de la variable ```\"precio\"```:"
   ]
  },
  {
   "cell_type": "code",
   "execution_count": 166,
   "metadata": {},
   "outputs": [
    {
     "data": {
      "text/plain": [
       "count     48054.000000\n",
       "mean      14414.755920\n",
       "std       12638.661242\n",
       "min         300.000000\n",
       "25%        6000.000000\n",
       "50%       12450.000000\n",
       "75%       18990.000000\n",
       "max      375000.000000\n",
       "Name: precio, dtype: float64"
      ]
     },
     "execution_count": 166,
     "metadata": {},
     "output_type": "execute_result"
    }
   ],
   "source": [
    "df[\"precio\"].describe()"
   ]
  },
  {
   "cell_type": "code",
   "execution_count": 167,
   "metadata": {},
   "outputs": [],
   "source": [
    "# df = df.loc[df.loc[:, \"precio\"] < 101000, :]"
   ]
  },
  {
   "cell_type": "markdown",
   "metadata": {},
   "source": [
    "Observamos que la variable tiene una media de 14.414 euros y una desviación estándar (sigma) de 12.638 euros. Sin embargo, el valor máximo es de 375.000 euros.\n",
    "\n",
    "Ante esto, vamos a proponer dos opciones para eliminar outliers que puedan influir negativamente en el modelo o para los cuáles funcione muy mal.\n",
    "\n",
    "1. Coger los valores dentro de los siguientes límites a partir del Rango intercuartílico (IQR), que marcarían los outliers tradicionales:\n",
    "\n",
    "    - limite_inferior = Q1 - 1.5 * IQR\n",
    "    - limite_superior = Q3 + 1.5 * IQR\n",
    "\n",
    "Probamos esta opción:\n"
   ]
  },
  {
   "cell_type": "markdown",
   "metadata": {},
   "source": [
    "Opción con cuartiles:"
   ]
  },
  {
   "cell_type": "code",
   "execution_count": 168,
   "metadata": {},
   "outputs": [
    {
     "name": "stdout",
     "output_type": "stream",
     "text": [
      "Límite de precio inferior: -13485.0\n",
      "Límite de precio superior: 38475.0\n",
      "Número de coches antes de eliminar outliers: 48054\n",
      "Número de coches después de eliminar outliers: 46337\n"
     ]
    }
   ],
   "source": [
    "# Calculamos Q1, Q3 e IQR\n",
    "Q1 = df[\"precio\"].quantile(0.25)\n",
    "Q3 = df[\"precio\"].quantile(0.75)\n",
    "IQR = Q3 - Q1\n",
    "\n",
    "# Límites inferior y superior para considerar outliers\n",
    "limite_inferior = Q1 - 1.5 * IQR\n",
    "limite_superior = Q3 + 1.5 * IQR\n",
    "\n",
    "print(f\"Límite de precio inferior: {limite_inferior}\")\n",
    "print(f\"Límite de precio superior: {limite_superior}\")\n",
    "\n",
    "df_iqr = df[(df[\"precio\"] >= limite_inferior) & (df[\"precio\"] <= limite_superior)]\n",
    "\n",
    "print(f\"Número de coches antes de eliminar outliers: {len(df)}\")\n",
    "print(f\"Número de coches después de eliminar outliers: {len(df_iqr)}\")\n"
   ]
  },
  {
   "cell_type": "markdown",
   "metadata": {},
   "source": [
    "Si utilizamos esta opción seguro que el modelo funciona muy bien pero solo predeciríamos vehículos con precios hasta 38.475 euros, lo que dejaría fuera muchos modelos.\n",
    "\n",
    "Por ello, vamos a descartar esta opción."
   ]
  },
  {
   "cell_type": "markdown",
   "metadata": {},
   "source": [
    "Probaremos una segunda opción que consiste en aplicar una transformación logarítmica a la columna ```\"precio\"```, de modo que los datos tiendan a una distribución normal. Después, nos quedaremos con los vehículos en un rango de valores del precio transformado de 2 desviaciones estandar a partir de la media, que coresponderá a un porcentaje muy elevado de los datos.\n",
    "\n",
    "Al final, cuando ya esté hecho el modelo, habrá que deshacer esta transformación para obtener el precio real del vehículo a predecir."
   ]
  },
  {
   "cell_type": "markdown",
   "metadata": {},
   "source": [
    "Aplicamos la transformación logarítmica:"
   ]
  },
  {
   "cell_type": "code",
   "execution_count": 169,
   "metadata": {},
   "outputs": [],
   "source": [
    "import numpy as np\n",
    "\n",
    "# Transformación logarítmica del precio:\n",
    "df[\"precio\"] = np.log(df[\"precio\"])"
   ]
  },
  {
   "cell_type": "code",
   "execution_count": 170,
   "metadata": {},
   "outputs": [
    {
     "name": "stderr",
     "output_type": "stream",
     "text": [
      "c:\\Users\\alberto.pintos\\AppData\\Local\\anaconda3\\Lib\\site-packages\\seaborn\\_oldcore.py:1119: FutureWarning: use_inf_as_na option is deprecated and will be removed in a future version. Convert inf values to NaN before operating instead.\n",
      "  with pd.option_context('mode.use_inf_as_na', True):\n",
      "c:\\Users\\alberto.pintos\\AppData\\Local\\anaconda3\\Lib\\site-packages\\seaborn\\axisgrid.py:118: UserWarning: The figure layout has changed to tight\n",
      "  self._figure.tight_layout(*args, **kwargs)\n"
     ]
    },
    {
     "data": {
      "text/plain": [
       "<Figure size 800x600 with 0 Axes>"
      ]
     },
     "metadata": {},
     "output_type": "display_data"
    },
    {
     "data": {
      "image/png": "[encoded data removed]",
      "text/plain": [
       "<Figure size 500x500 with 1 Axes>"
      ]
     },
     "metadata": {},
     "output_type": "display_data"
    }
   ],
   "source": [
    "plt.figure(figsize=(8, 6))\n",
    "\n",
    "sns.displot(df[\"precio\"], color=colors[0])\n",
    "\n",
    "plt.title(\"Cantidad de coches por precio después de transformar\", fontsize=16)\n",
    "\n",
    "plt.xlabel(\"Precio transformado\", fontsize=14)\n",
    "plt.ylabel(\"Cantidad de coches\", fontsize=14)\n",
    "\n",
    "plt.yticks(range(0, 2250, 250))\n",
    "\n",
    "plt.show()"
   ]
  },
  {
   "cell_type": "markdown",
   "metadata": {},
   "source": [
    "Test de normalidad de Shapiro-Wilk:"
   ]
  },
  {
   "cell_type": "code",
   "execution_count": 171,
   "metadata": {},
   "outputs": [
    {
     "name": "stdout",
     "output_type": "stream",
     "text": [
      "Estadístico W: 0.9555\n",
      "Valor p: 0.00000000000000000000000000000000000141\n",
      "Se rechaza H₀: los datos no siguen una distribución normal.\n"
     ]
    }
   ],
   "source": [
    "from scipy.stats import shapiro\n",
    "\n",
    "# Aplicar el test de Shapiro-Wilk a una muestra (máx. 5000 datos recomendado)\n",
    "sample = df[\"precio\"].sample(n=5000, random_state=42)\n",
    "\n",
    "stat, p_value = shapiro(sample)\n",
    "\n",
    "print(f\"Estadístico W: {stat:.4f}\")\n",
    "print(f\"Valor p: {p_value:.38f}\")\n",
    "\n",
    "if p_value > 0.05:\n",
    "    print(\"No se rechaza H₀: los datos podrían ser normales.\")\n",
    "else:\n",
    "    print(\"Se rechaza H₀: los datos no siguen una distribución normal.\")\n"
   ]
  },
  {
   "cell_type": "markdown",
   "metadata": {},
   "source": [
    "Nos quedamos con los valores dentro del límite superior de 2 sigmas:"
   ]
  },
  {
   "cell_type": "code",
   "execution_count": 172,
   "metadata": {},
   "outputs": [
    {
     "name": "stdout",
     "output_type": "stream",
     "text": [
      "Límite superior en escala log: 11.0968\n",
      "Corresponde a un precio real de: 65,958.83 €\n",
      "Número de coches antes de eliminar outliers: 48054\n",
      "Número de coches después de eliminar outliers: 47710\n",
      "Número de coches eliminados: 344\n"
     ]
    }
   ],
   "source": [
    "mean_log = df[\"precio\"].mean()\n",
    "std_log = df[\"precio\"].std()\n",
    "\n",
    "# Límite superior a 2 sigmas en escala logarítmica:\n",
    "upper_log_limit = mean_log + 2 * std_log\n",
    "\n",
    "# Filtramos solo los valores dentro de las 2 sigmas:\n",
    "df_filtrado = df[df[\"precio\"] <= upper_log_limit]\n",
    "\n",
    "# (Opcional) Si necesitamos volver a la escala original:\n",
    "max_precio_filtrado = np.exp(upper_log_limit)\n",
    "\n",
    "num_coches_eliminados = len(df) - len(df_filtrado)\n",
    "\n",
    "print(f\"Límite superior en escala log: {upper_log_limit:.4f}\")\n",
    "print(f\"Corresponde a un precio real de: {max_precio_filtrado:,.2f} €\")\n",
    "\n",
    "print(f\"Número de coches antes de eliminar outliers: {len(df)}\")\n",
    "print(f\"Número de coches después de eliminar outliers: {len(df_filtrado)}\")\n",
    "print(f\"Número de coches eliminados: {num_coches_eliminados}\")\n"
   ]
  },
  {
   "cell_type": "code",
   "execution_count": 173,
   "metadata": {},
   "outputs": [
    {
     "data": {
      "text/plain": [
       "count    48054.000000\n",
       "mean         9.218982\n",
       "std          0.938902\n",
       "min          5.703782\n",
       "25%          8.699515\n",
       "50%          9.429476\n",
       "75%          9.851668\n",
       "max         12.834681\n",
       "Name: precio, dtype: float64"
      ]
     },
     "execution_count": 173,
     "metadata": {},
     "output_type": "execute_result"
    }
   ],
   "source": [
    "# Estadísticos de la variable precio transfromada:\n",
    "\n",
    "df[\"precio\"].describe()"
   ]
  },
  {
   "cell_type": "markdown",
   "metadata": {},
   "source": [
    "Vemos que se eliminan 344 registros. Vamos a aplicar la transformación al df original y a ver los valores estadísticos transformados de nuevo, para ver que se ha realizado correctamente:"
   ]
  },
  {
   "cell_type": "code",
   "execution_count": 174,
   "metadata": {},
   "outputs": [
    {
     "data": {
      "text/plain": [
       "count    47710.000000\n",
       "mean         9.203380\n",
       "std          0.923700\n",
       "min          5.703782\n",
       "25%          8.699348\n",
       "50%          9.416541\n",
       "75%          9.846917\n",
       "max         11.096652\n",
       "Name: precio, dtype: float64"
      ]
     },
     "execution_count": 174,
     "metadata": {},
     "output_type": "execute_result"
    }
   ],
   "source": [
    "# Aplicamos el filtro de las 2 sigmas al df original:\n",
    "df = df[df[\"precio\"] <= upper_log_limit]\n",
    "\n",
    "# Nuevos estadísticos tras el filtro:\n",
    "df[\"precio\"].describe()"
   ]
  },
  {
   "cell_type": "markdown",
   "metadata": {},
   "source": [
    "Estos son los estadísticos que contiene la columna ```df[\"precio\"]```, que ahora están en escala logarítmica, vamos a verlos en escala normal deshaciendo la transformación:"
   ]
  },
  {
   "cell_type": "code",
   "execution_count": 175,
   "metadata": {},
   "outputs": [
    {
     "name": "stdout",
     "output_type": "stream",
     "text": [
      "count    47710.000000\n",
      "mean     13848.159296\n",
      "std      10199.125277\n",
      "min        300.000000\n",
      "25%       5999.000000\n",
      "50%      12290.000000\n",
      "75%      18900.000000\n",
      "max      65950.000000\n",
      "Name: precio, dtype: float64\n"
     ]
    }
   ],
   "source": [
    "import numpy as np\n",
    "\n",
    "# Mostramos el resumen estadístico con la transformación inversa (precio real)\n",
    "print(np.exp(df[\"precio\"]).describe())"
   ]
  },
  {
   "cell_type": "code",
   "execution_count": 176,
   "metadata": {},
   "outputs": [
    {
     "data": {
      "image/png": "[encoded data removed]",
      "text/plain": [
       "<Figure size 800x600 with 1 Axes>"
      ]
     },
     "metadata": {},
     "output_type": "display_data"
    }
   ],
   "source": [
    "plt.figure(figsize=(8, 6))\n",
    "\n",
    "# Boxplot con la transformación inversa de log(precio)\n",
    "sns.boxplot(x=np.exp(df[\"precio\"]), color=colors[0])\n",
    "\n",
    "plt.title(\"Boxplot del Precio Real de los Coches (tras filtrado)\", fontsize=16)\n",
    "plt.xlabel(\"Precio (euros)\", fontsize=14)\n",
    "\n",
    "plt.show()\n"
   ]
  },
  {
   "cell_type": "markdown",
   "metadata": {},
   "source": [
    "Vemos que sólo hemos perdido 269 vehículos pero ahora el precio máximo es de 65.950 euros, lo que comprende más vehículos y elimina outliers que el modelo podría predecir mal."
   ]
  },
  {
   "cell_type": "code",
   "execution_count": 177,
   "metadata": {},
   "outputs": [
    {
     "data": {
      "text/html": [
       "<div>\n",
       "<style scoped>\n",
       "    .dataframe tbody tr th:only-of-type {\n",
       "        vertical-align: middle;\n",
       "    }\n",
       "\n",
       "    .dataframe tbody tr th {\n",
       "        vertical-align: top;\n",
       "    }\n",
       "\n",
       "    .dataframe thead th {\n",
       "        text-align: right;\n",
       "    }\n",
       "</style>\n",
       "<table border=\"1\" class=\"dataframe\">\n",
       "  <thead>\n",
       "    <tr style=\"text-align: right;\">\n",
       "      <th></th>\n",
       "      <th>marca</th>\n",
       "      <th>modelo</th>\n",
       "      <th>precio</th>\n",
       "      <th>combustible</th>\n",
       "      <th>anyo_vehiculo</th>\n",
       "      <th>kilometraje</th>\n",
       "      <th>potencia</th>\n",
       "      <th>num_puertas</th>\n",
       "      <th>tipo_cambio</th>\n",
       "      <th>color</th>\n",
       "      <th>origen_anuncio</th>\n",
       "    </tr>\n",
       "  </thead>\n",
       "  <tbody>\n",
       "    <tr>\n",
       "      <th>0</th>\n",
       "      <td>AUDI</td>\n",
       "      <td>a3</td>\n",
       "      <td>10.138164</td>\n",
       "      <td>Híbrido</td>\n",
       "      <td>2023.0</td>\n",
       "      <td>46273</td>\n",
       "      <td>110.0</td>\n",
       "      <td>5.0</td>\n",
       "      <td>Automático</td>\n",
       "      <td>negro</td>\n",
       "      <td>WebScraping</td>\n",
       "    </tr>\n",
       "    <tr>\n",
       "      <th>1</th>\n",
       "      <td>HYUNDAI</td>\n",
       "      <td>i30</td>\n",
       "      <td>9.605755</td>\n",
       "      <td>Híbrido</td>\n",
       "      <td>2022.0</td>\n",
       "      <td>103209</td>\n",
       "      <td>120.0</td>\n",
       "      <td>5.0</td>\n",
       "      <td>Manual</td>\n",
       "      <td>None</td>\n",
       "      <td>WebScraping</td>\n",
       "    </tr>\n",
       "    <tr>\n",
       "      <th>2</th>\n",
       "      <td>TOYOTA</td>\n",
       "      <td>c-hr</td>\n",
       "      <td>9.908475</td>\n",
       "      <td>Híbrido</td>\n",
       "      <td>2020.0</td>\n",
       "      <td>110745</td>\n",
       "      <td>122.0</td>\n",
       "      <td>5.0</td>\n",
       "      <td>Automático</td>\n",
       "      <td>blanco</td>\n",
       "      <td>WebScraping</td>\n",
       "    </tr>\n",
       "    <tr>\n",
       "      <th>3</th>\n",
       "      <td>NISSAN</td>\n",
       "      <td>juke</td>\n",
       "      <td>9.797571</td>\n",
       "      <td>Gasolina</td>\n",
       "      <td>2022.0</td>\n",
       "      <td>63000</td>\n",
       "      <td>114.0</td>\n",
       "      <td>5.0</td>\n",
       "      <td>Automático</td>\n",
       "      <td>None</td>\n",
       "      <td>WebScraping</td>\n",
       "    </tr>\n",
       "    <tr>\n",
       "      <th>4</th>\n",
       "      <td>NISSAN</td>\n",
       "      <td>qashqai</td>\n",
       "      <td>10.101928</td>\n",
       "      <td>Híbrido</td>\n",
       "      <td>2022.0</td>\n",
       "      <td>62765</td>\n",
       "      <td>140.0</td>\n",
       "      <td>5.0</td>\n",
       "      <td>Manual</td>\n",
       "      <td>negro</td>\n",
       "      <td>WebScraping</td>\n",
       "    </tr>\n",
       "  </tbody>\n",
       "</table>\n",
       "</div>"
      ],
      "text/plain": [
       "     marca   modelo     precio combustible  anyo_vehiculo  kilometraje  \\\n",
       "0     AUDI       a3  10.138164     Híbrido         2023.0        46273   \n",
       "1  HYUNDAI      i30   9.605755     Híbrido         2022.0       103209   \n",
       "2   TOYOTA     c-hr   9.908475     Híbrido         2020.0       110745   \n",
       "3   NISSAN     juke   9.797571    Gasolina         2022.0        63000   \n",
       "4   NISSAN  qashqai  10.101928     Híbrido         2022.0        62765   \n",
       "\n",
       "   potencia  num_puertas tipo_cambio   color origen_anuncio  \n",
       "0     110.0          5.0  Automático   negro    WebScraping  \n",
       "1     120.0          5.0      Manual    None    WebScraping  \n",
       "2     122.0          5.0  Automático  blanco    WebScraping  \n",
       "3     114.0          5.0  Automático    None    WebScraping  \n",
       "4     140.0          5.0      Manual   negro    WebScraping  "
      ]
     },
     "execution_count": 177,
     "metadata": {},
     "output_type": "execute_result"
    }
   ],
   "source": [
    "df.head()"
   ]
  },
  {
   "cell_type": "markdown",
   "metadata": {},
   "source": [
    "Vemos que el precio ya no está en euros. Al final, cuando ya esté hecho el modelo, habrá que deshacer esta transformación para obtener el precio real del vehículo a predecir."
   ]
  },
  {
   "cell_type": "markdown",
   "metadata": {},
   "source": [
    "### Variables numéricas:"
   ]
  },
  {
   "cell_type": "markdown",
   "metadata": {},
   "source": [
    "#### Potencia:"
   ]
  },
  {
   "cell_type": "markdown",
   "metadata": {},
   "source": [
    "Vamos a analizar los nulos de la columna ```'potencia'```, a ver si son debidos al tipo de combustible o simplemente falta en esos registros."
   ]
  },
  {
   "cell_type": "code",
   "execution_count": 178,
   "metadata": {},
   "outputs": [
    {
     "data": {
      "text/plain": [
       "combustible\n",
       "Diesel                   3\n",
       "Diésel                5237\n",
       "Eléctrico                0\n",
       "Gas licuado (GLP)        0\n",
       "Gas natural (CNG)        0\n",
       "Gasolina              2088\n",
       "Híbrido                  0\n",
       "Híbrido Enchufable       0\n",
       "Híbrido enchufable       0\n",
       "Name: potencia, dtype: int64"
      ]
     },
     "execution_count": 178,
     "metadata": {},
     "output_type": "execute_result"
    }
   ],
   "source": [
    "df.groupby(\"combustible\")[\"potencia\"].apply(lambda x: x.isnull().sum())"
   ]
  },
  {
   "cell_type": "markdown",
   "metadata": {},
   "source": [
    "Como parece que hay varios formatos de la columna combustible, vamos a mapearlos:"
   ]
  },
  {
   "cell_type": "code",
   "execution_count": 179,
   "metadata": {},
   "outputs": [],
   "source": [
    "\n",
    "mapa_combustible = {\n",
    "    \"Diesel\": \"Diésel\",\n",
    "    \"Híbrido enchufable\": \"Híbrido Enchufable\",\n",
    "    \"Híbrido Enchufable\": \"Híbrido Enchufable\"\n",
    "}\n",
    "\n",
    "df[\"combustible\"] = df[\"combustible\"].replace(mapa_combustible)"
   ]
  },
  {
   "cell_type": "code",
   "execution_count": 180,
   "metadata": {},
   "outputs": [
    {
     "data": {
      "text/plain": [
       "combustible\n",
       "Diésel                28753\n",
       "Gasolina              15736\n",
       "Híbrido                1988\n",
       "Híbrido Enchufable      463\n",
       "Eléctrico               443\n",
       "Gas natural (CNG)        58\n",
       "Gas licuado (GLP)        49\n",
       "Name: count, dtype: int64"
      ]
     },
     "execution_count": 180,
     "metadata": {},
     "output_type": "execute_result"
    }
   ],
   "source": [
    "df[\"combustible\"].value_counts()"
   ]
  },
  {
   "cell_type": "code",
   "execution_count": 181,
   "metadata": {},
   "outputs": [
    {
     "data": {
      "text/plain": [
       "combustible\n",
       "Diésel      5240\n",
       "Gasolina    2088\n",
       "dtype: int64"
      ]
     },
     "execution_count": 181,
     "metadata": {},
     "output_type": "execute_result"
    }
   ],
   "source": [
    "df[df[\"potencia\"].isna()].groupby(\"combustible\").size()"
   ]
  },
  {
   "cell_type": "markdown",
   "metadata": {},
   "source": [
    "Observamos que todos los nulos son para vehículos de gasolina o diésel, por lo que vamos a eliminar estos registros del DataFrame, ya que tenemos una cantidad de datos abundante y puede ser un parámetro sensible en el modelo, por lo que tratar de rellenar esos NaN por alguna métrica como la media, puede afectar negativamente."
   ]
  },
  {
   "cell_type": "code",
   "execution_count": 182,
   "metadata": {},
   "outputs": [
    {
     "data": {
      "text/html": [
       "<div>\n",
       "<style scoped>\n",
       "    .dataframe tbody tr th:only-of-type {\n",
       "        vertical-align: middle;\n",
       "    }\n",
       "\n",
       "    .dataframe tbody tr th {\n",
       "        vertical-align: top;\n",
       "    }\n",
       "\n",
       "    .dataframe thead th {\n",
       "        text-align: right;\n",
       "    }\n",
       "</style>\n",
       "<table border=\"1\" class=\"dataframe\">\n",
       "  <thead>\n",
       "    <tr style=\"text-align: right;\">\n",
       "      <th></th>\n",
       "      <th>marca</th>\n",
       "      <th>modelo</th>\n",
       "      <th>precio</th>\n",
       "      <th>combustible</th>\n",
       "      <th>anyo_vehiculo</th>\n",
       "      <th>kilometraje</th>\n",
       "      <th>potencia</th>\n",
       "      <th>num_puertas</th>\n",
       "      <th>tipo_cambio</th>\n",
       "      <th>color</th>\n",
       "      <th>origen_anuncio</th>\n",
       "    </tr>\n",
       "  </thead>\n",
       "  <tbody>\n",
       "    <tr>\n",
       "      <th>0</th>\n",
       "      <td>AUDI</td>\n",
       "      <td>a3</td>\n",
       "      <td>10.138164</td>\n",
       "      <td>Híbrido</td>\n",
       "      <td>2023.0</td>\n",
       "      <td>46273</td>\n",
       "      <td>110.0</td>\n",
       "      <td>5.0</td>\n",
       "      <td>Automático</td>\n",
       "      <td>negro</td>\n",
       "      <td>WebScraping</td>\n",
       "    </tr>\n",
       "    <tr>\n",
       "      <th>1</th>\n",
       "      <td>HYUNDAI</td>\n",
       "      <td>i30</td>\n",
       "      <td>9.605755</td>\n",
       "      <td>Híbrido</td>\n",
       "      <td>2022.0</td>\n",
       "      <td>103209</td>\n",
       "      <td>120.0</td>\n",
       "      <td>5.0</td>\n",
       "      <td>Manual</td>\n",
       "      <td>None</td>\n",
       "      <td>WebScraping</td>\n",
       "    </tr>\n",
       "    <tr>\n",
       "      <th>2</th>\n",
       "      <td>TOYOTA</td>\n",
       "      <td>c-hr</td>\n",
       "      <td>9.908475</td>\n",
       "      <td>Híbrido</td>\n",
       "      <td>2020.0</td>\n",
       "      <td>110745</td>\n",
       "      <td>122.0</td>\n",
       "      <td>5.0</td>\n",
       "      <td>Automático</td>\n",
       "      <td>blanco</td>\n",
       "      <td>WebScraping</td>\n",
       "    </tr>\n",
       "    <tr>\n",
       "      <th>3</th>\n",
       "      <td>NISSAN</td>\n",
       "      <td>juke</td>\n",
       "      <td>9.797571</td>\n",
       "      <td>Gasolina</td>\n",
       "      <td>2022.0</td>\n",
       "      <td>63000</td>\n",
       "      <td>114.0</td>\n",
       "      <td>5.0</td>\n",
       "      <td>Automático</td>\n",
       "      <td>None</td>\n",
       "      <td>WebScraping</td>\n",
       "    </tr>\n",
       "    <tr>\n",
       "      <th>4</th>\n",
       "      <td>NISSAN</td>\n",
       "      <td>qashqai</td>\n",
       "      <td>10.101928</td>\n",
       "      <td>Híbrido</td>\n",
       "      <td>2022.0</td>\n",
       "      <td>62765</td>\n",
       "      <td>140.0</td>\n",
       "      <td>5.0</td>\n",
       "      <td>Manual</td>\n",
       "      <td>negro</td>\n",
       "      <td>WebScraping</td>\n",
       "    </tr>\n",
       "  </tbody>\n",
       "</table>\n",
       "</div>"
      ],
      "text/plain": [
       "     marca   modelo     precio combustible  anyo_vehiculo  kilometraje  \\\n",
       "0     AUDI       a3  10.138164     Híbrido         2023.0        46273   \n",
       "1  HYUNDAI      i30   9.605755     Híbrido         2022.0       103209   \n",
       "2   TOYOTA     c-hr   9.908475     Híbrido         2020.0       110745   \n",
       "3   NISSAN     juke   9.797571    Gasolina         2022.0        63000   \n",
       "4   NISSAN  qashqai  10.101928     Híbrido         2022.0        62765   \n",
       "\n",
       "   potencia  num_puertas tipo_cambio   color origen_anuncio  \n",
       "0     110.0          5.0  Automático   negro    WebScraping  \n",
       "1     120.0          5.0      Manual    None    WebScraping  \n",
       "2     122.0          5.0  Automático  blanco    WebScraping  \n",
       "3     114.0          5.0  Automático    None    WebScraping  \n",
       "4     140.0          5.0      Manual   negro    WebScraping  "
      ]
     },
     "execution_count": 182,
     "metadata": {},
     "output_type": "execute_result"
    }
   ],
   "source": [
    "df = df.drop(index=(df.loc[df.loc[:, \"potencia\"].isna() == True, :]).index)\n",
    "df.head()"
   ]
  },
  {
   "cell_type": "code",
   "execution_count": 183,
   "metadata": {},
   "outputs": [
    {
     "name": "stderr",
     "output_type": "stream",
     "text": [
      "c:\\Users\\alberto.pintos\\AppData\\Local\\anaconda3\\Lib\\site-packages\\seaborn\\categorical.py:641: FutureWarning: The default of observed=False is deprecated and will be changed to True in a future version of pandas. Pass observed=False to retain current behavior or observed=True to adopt the future default and silence this warning.\n",
      "  grouped_vals = vals.groupby(grouper)\n"
     ]
    },
    {
     "data": {
      "image/png": "[encoded data removed]",
      "text/plain": [
       "<Figure size 800x600 with 1 Axes>"
      ]
     },
     "metadata": {},
     "output_type": "display_data"
    }
   ],
   "source": [
    "# Definimos los rangos de potencia:\n",
    "min_potencia = df['potencia'].min()\n",
    "max_potencia = df['potencia'].max()\n",
    "\n",
    "num_bins = 8\n",
    "\n",
    "bins = np.linspace(min_potencia, max_potencia, num_bins + 1) \n",
    "bins = np.round(bins, -1) \n",
    "\n",
    "labels = [f'{int(bins[i])}-{int(bins[i+1])}' for i in range(len(bins)-1)]\n",
    "\n",
    "df_rangos = df.copy() \n",
    "df_rangos['potencia_rango'] = pd.cut(df_rangos['potencia'], bins=bins, labels=labels, right=False)\n",
    "\n",
    "plt.figure(figsize = (8, 6))\n",
    "\n",
    "sns.countplot(x=df_rangos[\"potencia_rango\"], order=labels, color=colors[0])\n",
    "\n",
    "plt.title(\"Cantidad de vehículos por potencia\", fontsize=16)\n",
    "plt.xlabel(\"Potencia (CV)\", fontsize=14)\n",
    "plt.ylabel(\"Cantidad de vehículos\", fontsize=14)\n",
    "# plt.xticks(rotation=45)  \n",
    "\n",
    "plt.xticks(ha='center') \n",
    "plt.tight_layout()\n",
    "\n",
    "plt.show()"
   ]
  },
  {
   "cell_type": "code",
   "execution_count": 184,
   "metadata": {},
   "outputs": [
    {
     "data": {
      "text/plain": [
       "marca             487\n",
       "modelo            487\n",
       "precio            487\n",
       "combustible       487\n",
       "anyo_vehiculo     487\n",
       "kilometraje       487\n",
       "potencia          487\n",
       "num_puertas       487\n",
       "tipo_cambio       487\n",
       "color             487\n",
       "origen_anuncio    487\n",
       "dtype: int64"
      ]
     },
     "execution_count": 184,
     "metadata": {},
     "output_type": "execute_result"
    }
   ],
   "source": [
    "# Num de vehículos con potncia > 330 CV:\n",
    "\n",
    "df.loc[df.loc[:, \"potencia\"] > 330, :].count()"
   ]
  },
  {
   "cell_type": "code",
   "execution_count": 185,
   "metadata": {},
   "outputs": [
    {
     "name": "stdout",
     "output_type": "stream",
     "text": [
      "<class 'pandas.core.frame.DataFrame'>\n",
      "Index: 40234 entries, 0 to 48053\n",
      "Data columns (total 11 columns):\n",
      " #   Column          Non-Null Count  Dtype  \n",
      "---  ------          --------------  -----  \n",
      " 0   marca           40234 non-null  object \n",
      " 1   modelo          40234 non-null  object \n",
      " 2   precio          40234 non-null  float64\n",
      " 3   combustible     40162 non-null  object \n",
      " 4   anyo_vehiculo   40232 non-null  float64\n",
      " 5   kilometraje     40234 non-null  int64  \n",
      " 6   potencia        40234 non-null  float64\n",
      " 7   num_puertas     40234 non-null  float64\n",
      " 8   tipo_cambio     40143 non-null  object \n",
      " 9   color           40059 non-null  object \n",
      " 10  origen_anuncio  40234 non-null  object \n",
      "dtypes: float64(4), int64(1), object(6)\n",
      "memory usage: 3.7+ MB\n"
     ]
    }
   ],
   "source": [
    "df.info()"
   ]
  },
  {
   "cell_type": "markdown",
   "metadata": {},
   "source": [
    "#### Año:"
   ]
  },
  {
   "cell_type": "code",
   "execution_count": 186,
   "metadata": {},
   "outputs": [
    {
     "data": {
      "text/html": [
       "<div>\n",
       "<style scoped>\n",
       "    .dataframe tbody tr th:only-of-type {\n",
       "        vertical-align: middle;\n",
       "    }\n",
       "\n",
       "    .dataframe tbody tr th {\n",
       "        vertical-align: top;\n",
       "    }\n",
       "\n",
       "    .dataframe thead th {\n",
       "        text-align: right;\n",
       "    }\n",
       "</style>\n",
       "<table border=\"1\" class=\"dataframe\">\n",
       "  <thead>\n",
       "    <tr style=\"text-align: right;\">\n",
       "      <th></th>\n",
       "      <th>marca</th>\n",
       "      <th>modelo</th>\n",
       "      <th>precio</th>\n",
       "      <th>combustible</th>\n",
       "      <th>anyo_vehiculo</th>\n",
       "      <th>kilometraje</th>\n",
       "      <th>potencia</th>\n",
       "      <th>num_puertas</th>\n",
       "      <th>tipo_cambio</th>\n",
       "      <th>color</th>\n",
       "      <th>origen_anuncio</th>\n",
       "    </tr>\n",
       "  </thead>\n",
       "  <tbody>\n",
       "    <tr>\n",
       "      <th>36986</th>\n",
       "      <td>SEAT</td>\n",
       "      <td>arona</td>\n",
       "      <td>10.021271</td>\n",
       "      <td>Gasolina</td>\n",
       "      <td>NaN</td>\n",
       "      <td>1</td>\n",
       "      <td>115.0</td>\n",
       "      <td>5.0</td>\n",
       "      <td>Manual</td>\n",
       "      <td>naranja</td>\n",
       "      <td>dataset kaggle</td>\n",
       "    </tr>\n",
       "    <tr>\n",
       "      <th>45971</th>\n",
       "      <td>KIA</td>\n",
       "      <td>stonic</td>\n",
       "      <td>9.732106</td>\n",
       "      <td>Gasolina</td>\n",
       "      <td>NaN</td>\n",
       "      <td>1</td>\n",
       "      <td>100.0</td>\n",
       "      <td>5.0</td>\n",
       "      <td>Manual</td>\n",
       "      <td>signal</td>\n",
       "      <td>dataset kaggle</td>\n",
       "    </tr>\n",
       "  </tbody>\n",
       "</table>\n",
       "</div>"
      ],
      "text/plain": [
       "      marca  modelo     precio combustible  anyo_vehiculo  kilometraje  \\\n",
       "36986  SEAT   arona  10.021271    Gasolina            NaN            1   \n",
       "45971   KIA  stonic   9.732106    Gasolina            NaN            1   \n",
       "\n",
       "       potencia  num_puertas tipo_cambio    color  origen_anuncio  \n",
       "36986     115.0          5.0      Manual  naranja  dataset kaggle  \n",
       "45971     100.0          5.0      Manual   signal  dataset kaggle  "
      ]
     },
     "execution_count": 186,
     "metadata": {},
     "output_type": "execute_result"
    }
   ],
   "source": [
    "# Vemos si hay alguno nulo:\n",
    "\n",
    "df[df[\"anyo_vehiculo\"].isna()]"
   ]
  },
  {
   "cell_type": "markdown",
   "metadata": {},
   "source": [
    "Vamos a ver la distribución de valores del campo ```\"anyo_vehiculo\"```."
   ]
  },
  {
   "cell_type": "markdown",
   "metadata": {},
   "source": [
    "Hay dos con valor nulo. Lo eliminamos y convertimos el resto a int:"
   ]
  },
  {
   "cell_type": "code",
   "execution_count": 187,
   "metadata": {},
   "outputs": [],
   "source": [
    "df = df.dropna(subset=[\"anyo_vehiculo\"])\n",
    "\n",
    "df[\"anyo_vehiculo\"] = df[\"anyo_vehiculo\"].astype(int)"
   ]
  },
  {
   "cell_type": "code",
   "execution_count": 188,
   "metadata": {},
   "outputs": [
    {
     "data": {
      "text/plain": [
       "anyo_vehiculo\n",
       "2016    4621\n",
       "2019    4503\n",
       "2020    4094\n",
       "2017    3922\n",
       "2018    3567\n",
       "2015    2684\n",
       "2014    1703\n",
       "2021    1292\n",
       "2013    1244\n",
       "2011    1125\n",
       "2007    1123\n",
       "2008    1099\n",
       "2010    1081\n",
       "2012    1052\n",
       "2009     988\n",
       "2006     948\n",
       "2005     855\n",
       "2004     679\n",
       "2022     656\n",
       "2024     478\n",
       "2003     476\n",
       "2023     454\n",
       "2002     351\n",
       "2001     281\n",
       "2000     239\n",
       "1999     182\n",
       "1998     105\n",
       "1997      72\n",
       "1996      58\n",
       "2025      43\n",
       "1993      42\n",
       "1995      35\n",
       "1992      34\n",
       "1994      30\n",
       "1991      26\n",
       "1989      25\n",
       "1990      17\n",
       "1988      11\n",
       "1987      10\n",
       "1986       8\n",
       "1982       7\n",
       "1985       5\n",
       "1984       3\n",
       "1983       3\n",
       "1980       1\n",
       "Name: count, dtype: int64"
      ]
     },
     "execution_count": 188,
     "metadata": {},
     "output_type": "execute_result"
    }
   ],
   "source": [
    "df[\"anyo_vehiculo\"].value_counts()"
   ]
  },
  {
   "cell_type": "code",
   "execution_count": 189,
   "metadata": {},
   "outputs": [
    {
     "data": {
      "image/png": "[encoded data removed]",
      "text/plain": [
       "<Figure size 800x600 with 1 Axes>"
      ]
     },
     "metadata": {},
     "output_type": "display_data"
    }
   ],
   "source": [
    "plt.figure(figsize = (8, 6))\n",
    "\n",
    "rango_años = np.linspace(df[\"anyo_vehiculo\"].min(), df[\"anyo_vehiculo\"].max(), num=int(df[\"anyo_vehiculo\"].max() - df[\"anyo_vehiculo\"].min()) + 1, dtype=int)\n",
    "\n",
    "\n",
    "sns.countplot(x=df[\"anyo_vehiculo\"], order=rango_años, color=colors[0])\n",
    "\n",
    "plt.title(\"Distribución de vehículos por año de fabricación\", fontsize=16)\n",
    "plt.xlabel(\"Año de fabricación\", fontsize=14)\n",
    "plt.ylabel(\"Cantidad de vehículos\", fontsize=14)\n",
    "plt.xticks(rotation=90)  \n",
    "\n",
    "plt.show()"
   ]
  },
  {
   "cell_type": "markdown",
   "metadata": {},
   "source": [
    "#### Número de puertas:"
   ]
  },
  {
   "cell_type": "markdown",
   "metadata": {},
   "source": [
    "Veamos los valores de la siguiente columna no numérica, ```\"num_puertas\"```:"
   ]
  },
  {
   "cell_type": "code",
   "execution_count": 190,
   "metadata": {},
   "outputs": [
    {
     "data": {
      "text/plain": [
       "num_puertas\n",
       "5    30579\n",
       "4     5629\n",
       "3     2469\n",
       "2     1555\n",
       "Name: count, dtype: int64"
      ]
     },
     "execution_count": 190,
     "metadata": {},
     "output_type": "execute_result"
    }
   ],
   "source": [
    "df[\"num_puertas\"] = df[\"num_puertas\"].astype(int)\n",
    "\n",
    "df[\"num_puertas\"].value_counts()"
   ]
  },
  {
   "cell_type": "markdown",
   "metadata": {},
   "source": [
    "Vamos a agrupar los coches de 5 puertas con los de 4, y los de 3 con los de 2, ya que la diferencia es que no se cuenta el maletero."
   ]
  },
  {
   "cell_type": "code",
   "execution_count": 191,
   "metadata": {},
   "outputs": [],
   "source": [
    "num_puertas = {5: 5,\n",
    "            4 : 5,\n",
    "            3 : 3,\n",
    "            2 : 3}\n",
    "                     \n",
    "df[\"num_puertas\"] = df[\"num_puertas\"].map(num_puertas)"
   ]
  },
  {
   "cell_type": "code",
   "execution_count": 192,
   "metadata": {},
   "outputs": [
    {
     "data": {
      "text/plain": [
       "num_puertas\n",
       "5    36208\n",
       "3     4024\n",
       "Name: count, dtype: int64"
      ]
     },
     "execution_count": 192,
     "metadata": {},
     "output_type": "execute_result"
    }
   ],
   "source": [
    "df[\"num_puertas\"].value_counts()"
   ]
  },
  {
   "cell_type": "code",
   "execution_count": 193,
   "metadata": {},
   "outputs": [
    {
     "name": "stdout",
     "output_type": "stream",
     "text": [
      "<class 'pandas.core.frame.DataFrame'>\n",
      "Index: 40232 entries, 0 to 48053\n",
      "Data columns (total 11 columns):\n",
      " #   Column          Non-Null Count  Dtype  \n",
      "---  ------          --------------  -----  \n",
      " 0   marca           40232 non-null  object \n",
      " 1   modelo          40232 non-null  object \n",
      " 2   precio          40232 non-null  float64\n",
      " 3   combustible     40160 non-null  object \n",
      " 4   anyo_vehiculo   40232 non-null  int32  \n",
      " 5   kilometraje     40232 non-null  int64  \n",
      " 6   potencia        40232 non-null  float64\n",
      " 7   num_puertas     40232 non-null  int64  \n",
      " 8   tipo_cambio     40141 non-null  object \n",
      " 9   color           40057 non-null  object \n",
      " 10  origen_anuncio  40232 non-null  object \n",
      "dtypes: float64(2), int32(1), int64(2), object(6)\n",
      "memory usage: 3.5+ MB\n"
     ]
    }
   ],
   "source": [
    "df.info()"
   ]
  },
  {
   "cell_type": "markdown",
   "metadata": {},
   "source": [
    "### Variables categóricas:"
   ]
  },
  {
   "cell_type": "markdown",
   "metadata": {},
   "source": [
    "#### Color:"
   ]
  },
  {
   "cell_type": "markdown",
   "metadata": {},
   "source": [
    "La columna ```\"color\"``` sigue teniendo bastantes NaN."
   ]
  },
  {
   "cell_type": "code",
   "execution_count": 194,
   "metadata": {},
   "outputs": [
    {
     "data": {
      "text/plain": [
       "color\n",
       "blanco    11428\n",
       "gris       9567\n",
       "negro      6298\n",
       "azul       4508\n",
       "rojo       2591\n",
       "          ...  \n",
       "b50           1\n",
       "0j0j          1\n",
       "m05l          1\n",
       "gr5           1\n",
       "1e0           1\n",
       "Name: count, Length: 408, dtype: int64"
      ]
     },
     "execution_count": 194,
     "metadata": {},
     "output_type": "execute_result"
    }
   ],
   "source": [
    "# pd.set_option(\"display.max_rows\", None)\n",
    "\n",
    "df[\"color\"].value_counts()"
   ]
  },
  {
   "cell_type": "markdown",
   "metadata": {},
   "source": [
    "Vamos a eliminar la columna color, ya que es una columna categórica con 323 valores únicos y algunos pueden estar en una codificación numérica y otros están mal guardados."
   ]
  },
  {
   "cell_type": "code",
   "execution_count": 195,
   "metadata": {},
   "outputs": [],
   "source": [
    "df = df.drop(columns=\"color\")"
   ]
  },
  {
   "cell_type": "code",
   "execution_count": 196,
   "metadata": {},
   "outputs": [
    {
     "name": "stdout",
     "output_type": "stream",
     "text": [
      "<class 'pandas.core.frame.DataFrame'>\n",
      "Index: 40232 entries, 0 to 48053\n",
      "Data columns (total 10 columns):\n",
      " #   Column          Non-Null Count  Dtype  \n",
      "---  ------          --------------  -----  \n",
      " 0   marca           40232 non-null  object \n",
      " 1   modelo          40232 non-null  object \n",
      " 2   precio          40232 non-null  float64\n",
      " 3   combustible     40160 non-null  object \n",
      " 4   anyo_vehiculo   40232 non-null  int32  \n",
      " 5   kilometraje     40232 non-null  int64  \n",
      " 6   potencia        40232 non-null  float64\n",
      " 7   num_puertas     40232 non-null  int64  \n",
      " 8   tipo_cambio     40141 non-null  object \n",
      " 9   origen_anuncio  40232 non-null  object \n",
      "dtypes: float64(2), int32(1), int64(2), object(5)\n",
      "memory usage: 3.2+ MB\n"
     ]
    }
   ],
   "source": [
    "df.info()"
   ]
  },
  {
   "cell_type": "markdown",
   "metadata": {},
   "source": [
    "#### Tipo de cambio:"
   ]
  },
  {
   "cell_type": "markdown",
   "metadata": {},
   "source": [
    "La columna ```\"tipo_cambio\"``` también continúa teniendo bastantes NaN."
   ]
  },
  {
   "cell_type": "code",
   "execution_count": 197,
   "metadata": {},
   "outputs": [
    {
     "data": {
      "text/plain": [
       "tipo_cambio\n",
       "Manual        27514\n",
       "Automático    12627\n",
       "None             91\n",
       "Name: count, dtype: int64"
      ]
     },
     "execution_count": 197,
     "metadata": {},
     "output_type": "execute_result"
    }
   ],
   "source": [
    "df[\"tipo_cambio\"].value_counts(dropna=False)"
   ]
  },
  {
   "cell_type": "markdown",
   "metadata": {},
   "source": [
    "Como en la columna ```\"tipo_cambio\"``` existen muchos coches manuales y automáticos, vamos a eliminar las filas con valores de ```\"tipo_cambio\"``` nulos (91)."
   ]
  },
  {
   "cell_type": "code",
   "execution_count": 198,
   "metadata": {},
   "outputs": [
    {
     "data": {
      "text/html": [
       "<div>\n",
       "<style scoped>\n",
       "    .dataframe tbody tr th:only-of-type {\n",
       "        vertical-align: middle;\n",
       "    }\n",
       "\n",
       "    .dataframe tbody tr th {\n",
       "        vertical-align: top;\n",
       "    }\n",
       "\n",
       "    .dataframe thead th {\n",
       "        text-align: right;\n",
       "    }\n",
       "</style>\n",
       "<table border=\"1\" class=\"dataframe\">\n",
       "  <thead>\n",
       "    <tr style=\"text-align: right;\">\n",
       "      <th></th>\n",
       "      <th>marca</th>\n",
       "      <th>modelo</th>\n",
       "      <th>precio</th>\n",
       "      <th>combustible</th>\n",
       "      <th>anyo_vehiculo</th>\n",
       "      <th>kilometraje</th>\n",
       "      <th>potencia</th>\n",
       "      <th>num_puertas</th>\n",
       "      <th>tipo_cambio</th>\n",
       "      <th>origen_anuncio</th>\n",
       "    </tr>\n",
       "  </thead>\n",
       "  <tbody>\n",
       "    <tr>\n",
       "      <th>0</th>\n",
       "      <td>AUDI</td>\n",
       "      <td>a3</td>\n",
       "      <td>10.138164</td>\n",
       "      <td>Híbrido</td>\n",
       "      <td>2023</td>\n",
       "      <td>46273</td>\n",
       "      <td>110.0</td>\n",
       "      <td>5</td>\n",
       "      <td>Automático</td>\n",
       "      <td>WebScraping</td>\n",
       "    </tr>\n",
       "    <tr>\n",
       "      <th>1</th>\n",
       "      <td>HYUNDAI</td>\n",
       "      <td>i30</td>\n",
       "      <td>9.605755</td>\n",
       "      <td>Híbrido</td>\n",
       "      <td>2022</td>\n",
       "      <td>103209</td>\n",
       "      <td>120.0</td>\n",
       "      <td>5</td>\n",
       "      <td>Manual</td>\n",
       "      <td>WebScraping</td>\n",
       "    </tr>\n",
       "    <tr>\n",
       "      <th>2</th>\n",
       "      <td>TOYOTA</td>\n",
       "      <td>c-hr</td>\n",
       "      <td>9.908475</td>\n",
       "      <td>Híbrido</td>\n",
       "      <td>2020</td>\n",
       "      <td>110745</td>\n",
       "      <td>122.0</td>\n",
       "      <td>5</td>\n",
       "      <td>Automático</td>\n",
       "      <td>WebScraping</td>\n",
       "    </tr>\n",
       "    <tr>\n",
       "      <th>3</th>\n",
       "      <td>NISSAN</td>\n",
       "      <td>juke</td>\n",
       "      <td>9.797571</td>\n",
       "      <td>Gasolina</td>\n",
       "      <td>2022</td>\n",
       "      <td>63000</td>\n",
       "      <td>114.0</td>\n",
       "      <td>5</td>\n",
       "      <td>Automático</td>\n",
       "      <td>WebScraping</td>\n",
       "    </tr>\n",
       "    <tr>\n",
       "      <th>4</th>\n",
       "      <td>NISSAN</td>\n",
       "      <td>qashqai</td>\n",
       "      <td>10.101928</td>\n",
       "      <td>Híbrido</td>\n",
       "      <td>2022</td>\n",
       "      <td>62765</td>\n",
       "      <td>140.0</td>\n",
       "      <td>5</td>\n",
       "      <td>Manual</td>\n",
       "      <td>WebScraping</td>\n",
       "    </tr>\n",
       "  </tbody>\n",
       "</table>\n",
       "</div>"
      ],
      "text/plain": [
       "     marca   modelo     precio combustible  anyo_vehiculo  kilometraje  \\\n",
       "0     AUDI       a3  10.138164     Híbrido           2023        46273   \n",
       "1  HYUNDAI      i30   9.605755     Híbrido           2022       103209   \n",
       "2   TOYOTA     c-hr   9.908475     Híbrido           2020       110745   \n",
       "3   NISSAN     juke   9.797571    Gasolina           2022        63000   \n",
       "4   NISSAN  qashqai  10.101928     Híbrido           2022        62765   \n",
       "\n",
       "   potencia  num_puertas tipo_cambio origen_anuncio  \n",
       "0     110.0            5  Automático    WebScraping  \n",
       "1     120.0            5      Manual    WebScraping  \n",
       "2     122.0            5  Automático    WebScraping  \n",
       "3     114.0            5  Automático    WebScraping  \n",
       "4     140.0            5      Manual    WebScraping  "
      ]
     },
     "execution_count": 198,
     "metadata": {},
     "output_type": "execute_result"
    }
   ],
   "source": [
    "df = df.drop(index=(df.loc[df.loc[:, \"tipo_cambio\"].isna() == True, :]).index)\n",
    "df.head()"
   ]
  },
  {
   "cell_type": "code",
   "execution_count": 199,
   "metadata": {},
   "outputs": [
    {
     "name": "stdout",
     "output_type": "stream",
     "text": [
      "<class 'pandas.core.frame.DataFrame'>\n",
      "Index: 40141 entries, 0 to 48053\n",
      "Data columns (total 10 columns):\n",
      " #   Column          Non-Null Count  Dtype  \n",
      "---  ------          --------------  -----  \n",
      " 0   marca           40141 non-null  object \n",
      " 1   modelo          40141 non-null  object \n",
      " 2   precio          40141 non-null  float64\n",
      " 3   combustible     40069 non-null  object \n",
      " 4   anyo_vehiculo   40141 non-null  int32  \n",
      " 5   kilometraje     40141 non-null  int64  \n",
      " 6   potencia        40141 non-null  float64\n",
      " 7   num_puertas     40141 non-null  int64  \n",
      " 8   tipo_cambio     40141 non-null  object \n",
      " 9   origen_anuncio  40141 non-null  object \n",
      "dtypes: float64(2), int32(1), int64(2), object(5)\n",
      "memory usage: 3.2+ MB\n"
     ]
    }
   ],
   "source": [
    "df.info()"
   ]
  },
  {
   "cell_type": "markdown",
   "metadata": {},
   "source": [
    "Ahora que ya no contiene nulos, convertimos a numéricos los valores de la columna ```\"tipo_cambio\"```, mapeando como 0 los vehículos con cambio \"Manual\" y 1 los que tienen \"Automático\":"
   ]
  },
  {
   "cell_type": "code",
   "execution_count": 200,
   "metadata": {},
   "outputs": [
    {
     "data": {
      "text/plain": [
       "tipo_cambio\n",
       "Manual        27514\n",
       "Automático    12627\n",
       "Name: count, dtype: int64"
      ]
     },
     "execution_count": 200,
     "metadata": {},
     "output_type": "execute_result"
    }
   ],
   "source": [
    "df[\"tipo_cambio\"].value_counts()"
   ]
  },
  {
   "cell_type": "code",
   "execution_count": 201,
   "metadata": {},
   "outputs": [],
   "source": [
    "df[\"tipo_cambio\"] = df[\"tipo_cambio\"].apply(lambda x: 0 if x == \"Manual\" else 1)"
   ]
  },
  {
   "cell_type": "code",
   "execution_count": 202,
   "metadata": {},
   "outputs": [
    {
     "data": {
      "text/plain": [
       "tipo_cambio\n",
       "0    27514\n",
       "1    12627\n",
       "Name: count, dtype: int64"
      ]
     },
     "execution_count": 202,
     "metadata": {},
     "output_type": "execute_result"
    }
   ],
   "source": [
    "df[\"tipo_cambio\"].value_counts()"
   ]
  },
  {
   "cell_type": "code",
   "execution_count": 203,
   "metadata": {},
   "outputs": [
    {
     "name": "stdout",
     "output_type": "stream",
     "text": [
      "<class 'pandas.core.frame.DataFrame'>\n",
      "Index: 40141 entries, 0 to 48053\n",
      "Data columns (total 10 columns):\n",
      " #   Column          Non-Null Count  Dtype  \n",
      "---  ------          --------------  -----  \n",
      " 0   marca           40141 non-null  object \n",
      " 1   modelo          40141 non-null  object \n",
      " 2   precio          40141 non-null  float64\n",
      " 3   combustible     40069 non-null  object \n",
      " 4   anyo_vehiculo   40141 non-null  int32  \n",
      " 5   kilometraje     40141 non-null  int64  \n",
      " 6   potencia        40141 non-null  float64\n",
      " 7   num_puertas     40141 non-null  int64  \n",
      " 8   tipo_cambio     40141 non-null  int64  \n",
      " 9   origen_anuncio  40141 non-null  object \n",
      "dtypes: float64(2), int32(1), int64(3), object(4)\n",
      "memory usage: 3.2+ MB\n"
     ]
    }
   ],
   "source": [
    "df.info()"
   ]
  },
  {
   "cell_type": "markdown",
   "metadata": {},
   "source": [
    "#### Combustible:"
   ]
  },
  {
   "cell_type": "code",
   "execution_count": 204,
   "metadata": {},
   "outputs": [
    {
     "data": {
      "text/plain": [
       "marca             72\n",
       "modelo            72\n",
       "precio            72\n",
       "combustible        0\n",
       "anyo_vehiculo     72\n",
       "kilometraje       72\n",
       "potencia          72\n",
       "num_puertas       72\n",
       "tipo_cambio       72\n",
       "origen_anuncio    72\n",
       "dtype: int64"
      ]
     },
     "execution_count": 204,
     "metadata": {},
     "output_type": "execute_result"
    }
   ],
   "source": [
    "df[df[\"combustible\"].isna()].count()"
   ]
  },
  {
   "cell_type": "markdown",
   "metadata": {},
   "source": [
    "Todavía hay 34 registros con el valor de combustible nulo, de modo que eliminamos estos registros:"
   ]
  },
  {
   "cell_type": "code",
   "execution_count": 205,
   "metadata": {},
   "outputs": [
    {
     "name": "stdout",
     "output_type": "stream",
     "text": [
      "<class 'pandas.core.frame.DataFrame'>\n",
      "Index: 40069 entries, 0 to 48053\n",
      "Data columns (total 10 columns):\n",
      " #   Column          Non-Null Count  Dtype  \n",
      "---  ------          --------------  -----  \n",
      " 0   marca           40069 non-null  object \n",
      " 1   modelo          40069 non-null  object \n",
      " 2   precio          40069 non-null  float64\n",
      " 3   combustible     40069 non-null  object \n",
      " 4   anyo_vehiculo   40069 non-null  int32  \n",
      " 5   kilometraje     40069 non-null  int64  \n",
      " 6   potencia        40069 non-null  float64\n",
      " 7   num_puertas     40069 non-null  int64  \n",
      " 8   tipo_cambio     40069 non-null  int64  \n",
      " 9   origen_anuncio  40069 non-null  object \n",
      "dtypes: float64(2), int32(1), int64(3), object(4)\n",
      "memory usage: 3.2+ MB\n"
     ]
    }
   ],
   "source": [
    "df = df.dropna()\n",
    "df.info()"
   ]
  },
  {
   "cell_type": "markdown",
   "metadata": {},
   "source": [
    "Vemos que nos hemos quedado con 40.069 filas de 14 marcas de vehículos. Ya no tenemos valores nulos, ahora vamos a procesar las columnas restantes para que puedan ser usadas en el modelo."
   ]
  },
  {
   "cell_type": "code",
   "execution_count": 206,
   "metadata": {},
   "outputs": [
    {
     "data": {
      "text/plain": [
       "combustible\n",
       "Diésel                23448\n",
       "Gasolina              13626\n",
       "Híbrido                1986\n",
       "Híbrido Enchufable      461\n",
       "Eléctrico               441\n",
       "Gas natural (CNG)        58\n",
       "Gas licuado (GLP)        49\n",
       "Name: count, dtype: int64"
      ]
     },
     "execution_count": 206,
     "metadata": {},
     "output_type": "execute_result"
    }
   ],
   "source": [
    "df[\"combustible\"].value_counts()"
   ]
  },
  {
   "cell_type": "code",
   "execution_count": 207,
   "metadata": {},
   "outputs": [
    {
     "data": {
      "image/png": "[encoded data removed]",
      "text/plain": [
       "<Figure size 800x600 with 1 Axes>"
      ]
     },
     "metadata": {},
     "output_type": "display_data"
    }
   ],
   "source": [
    "plt.figure(figsize = (8, 6))\n",
    "\n",
    "sns.countplot(x=df[\"combustible\"], order=df[\"combustible\"].value_counts(ascending=False).index, color=colors[0])\n",
    "\n",
    "plt.title(\"Distribución de coches según el tipo de combustible\", fontsize=16)\n",
    "plt.xlabel(\"Tipo de combustible\", fontsize=14)\n",
    "plt.ylabel(\"Cantidad de vehículos\", fontsize=14)\n",
    "plt.xticks(rotation=45)  \n",
    "\n",
    "plt.show()"
   ]
  },
  {
   "cell_type": "code",
   "execution_count": 208,
   "metadata": {},
   "outputs": [
    {
     "name": "stdout",
     "output_type": "stream",
     "text": [
      "<class 'pandas.core.frame.DataFrame'>\n",
      "Index: 40069 entries, 0 to 48053\n",
      "Data columns (total 10 columns):\n",
      " #   Column          Non-Null Count  Dtype  \n",
      "---  ------          --------------  -----  \n",
      " 0   marca           40069 non-null  object \n",
      " 1   modelo          40069 non-null  object \n",
      " 2   precio          40069 non-null  float64\n",
      " 3   combustible     40069 non-null  object \n",
      " 4   anyo_vehiculo   40069 non-null  int32  \n",
      " 5   kilometraje     40069 non-null  int64  \n",
      " 6   potencia        40069 non-null  float64\n",
      " 7   num_puertas     40069 non-null  int64  \n",
      " 8   tipo_cambio     40069 non-null  int64  \n",
      " 9   origen_anuncio  40069 non-null  object \n",
      "dtypes: float64(2), int32(1), int64(3), object(4)\n",
      "memory usage: 3.2+ MB\n"
     ]
    }
   ],
   "source": [
    "df.info()"
   ]
  },
  {
   "cell_type": "markdown",
   "metadata": {},
   "source": [
    "Vamos ahora a convertir la columna ```\"combustible\"``` en numérica a través de un mapeado:"
   ]
  },
  {
   "cell_type": "code",
   "execution_count": 209,
   "metadata": {},
   "outputs": [
    {
     "data": {
      "text/plain": [
       "combustible\n",
       "Diésel                23448\n",
       "Gasolina              13626\n",
       "Híbrido                1986\n",
       "Híbrido Enchufable      461\n",
       "Eléctrico               441\n",
       "Gas natural (CNG)        58\n",
       "Gas licuado (GLP)        49\n",
       "Name: count, dtype: int64"
      ]
     },
     "execution_count": 209,
     "metadata": {},
     "output_type": "execute_result"
    }
   ],
   "source": [
    "df[\"combustible\"].value_counts()"
   ]
  },
  {
   "cell_type": "markdown",
   "metadata": {},
   "source": [
    "Vemos cómo predominan los coches de diésel y gasolina.\n",
    "\n",
    "Convertimos los valores en numéricos utilizando un mapeado:"
   ]
  },
  {
   "cell_type": "code",
   "execution_count": 210,
   "metadata": {},
   "outputs": [],
   "source": [
    "# Aplicamos un mapeado para la columna \"combustible\":\n",
    "\n",
    "tipos_combutible = {\"Diésel\" : 0,\n",
    "            \"Gasolina\" : 1,\n",
    "            \"Híbrido\" : 2,\n",
    "            \"Eléctrico\" : 3,\n",
    "            \"Híbrido Enchufable\" : 4, \n",
    "            \"Gas licuado (GLP)\" : 5,\n",
    "            \"Gas natural (CNG)\" : 6}\n",
    "                     \n",
    "df[\"combustible\"] = df[\"combustible\"].map(tipos_combutible)"
   ]
  },
  {
   "cell_type": "code",
   "execution_count": 211,
   "metadata": {},
   "outputs": [
    {
     "data": {
      "text/plain": [
       "combustible\n",
       "0    23448\n",
       "1    13626\n",
       "2     1986\n",
       "4      461\n",
       "3      441\n",
       "6       58\n",
       "5       49\n",
       "Name: count, dtype: int64"
      ]
     },
     "execution_count": 211,
     "metadata": {},
     "output_type": "execute_result"
    }
   ],
   "source": [
    "df[\"combustible\"].value_counts()"
   ]
  },
  {
   "cell_type": "code",
   "execution_count": 212,
   "metadata": {},
   "outputs": [
    {
     "name": "stdout",
     "output_type": "stream",
     "text": [
      "<class 'pandas.core.frame.DataFrame'>\n",
      "Index: 40069 entries, 0 to 48053\n",
      "Data columns (total 10 columns):\n",
      " #   Column          Non-Null Count  Dtype  \n",
      "---  ------          --------------  -----  \n",
      " 0   marca           40069 non-null  object \n",
      " 1   modelo          40069 non-null  object \n",
      " 2   precio          40069 non-null  float64\n",
      " 3   combustible     40069 non-null  int64  \n",
      " 4   anyo_vehiculo   40069 non-null  int32  \n",
      " 5   kilometraje     40069 non-null  int64  \n",
      " 6   potencia        40069 non-null  float64\n",
      " 7   num_puertas     40069 non-null  int64  \n",
      " 8   tipo_cambio     40069 non-null  int64  \n",
      " 9   origen_anuncio  40069 non-null  object \n",
      "dtypes: float64(2), int32(1), int64(4), object(3)\n",
      "memory usage: 3.2+ MB\n"
     ]
    }
   ],
   "source": [
    "df.info()"
   ]
  },
  {
   "cell_type": "markdown",
   "metadata": {},
   "source": [
    "#### Marca:"
   ]
  },
  {
   "cell_type": "markdown",
   "metadata": {},
   "source": [
    "Antes de convertir las columnas ```\"marca\"``` y ```\"modelo\"``` en númericas, vamos a guardar en un set las marcas y modelos de coches que quedan en el DataFrame, para luego utilizarlas en la Web App de predicción de precios:"
   ]
  },
  {
   "cell_type": "code",
   "execution_count": 213,
   "metadata": {},
   "outputs": [
    {
     "data": {
      "text/html": [
       "<div>\n",
       "<style scoped>\n",
       "    .dataframe tbody tr th:only-of-type {\n",
       "        vertical-align: middle;\n",
       "    }\n",
       "\n",
       "    .dataframe tbody tr th {\n",
       "        vertical-align: top;\n",
       "    }\n",
       "\n",
       "    .dataframe thead th {\n",
       "        text-align: right;\n",
       "    }\n",
       "</style>\n",
       "<table border=\"1\" class=\"dataframe\">\n",
       "  <thead>\n",
       "    <tr style=\"text-align: right;\">\n",
       "      <th></th>\n",
       "      <th>marca</th>\n",
       "      <th>modelo</th>\n",
       "      <th>precio</th>\n",
       "      <th>combustible</th>\n",
       "      <th>anyo_vehiculo</th>\n",
       "      <th>kilometraje</th>\n",
       "      <th>potencia</th>\n",
       "      <th>num_puertas</th>\n",
       "      <th>tipo_cambio</th>\n",
       "      <th>origen_anuncio</th>\n",
       "    </tr>\n",
       "  </thead>\n",
       "  <tbody>\n",
       "    <tr>\n",
       "      <th>0</th>\n",
       "      <td>AUDI</td>\n",
       "      <td>a3</td>\n",
       "      <td>10.138164</td>\n",
       "      <td>2</td>\n",
       "      <td>2023</td>\n",
       "      <td>46273</td>\n",
       "      <td>110.0</td>\n",
       "      <td>5</td>\n",
       "      <td>1</td>\n",
       "      <td>WebScraping</td>\n",
       "    </tr>\n",
       "    <tr>\n",
       "      <th>1</th>\n",
       "      <td>HYUNDAI</td>\n",
       "      <td>i30</td>\n",
       "      <td>9.605755</td>\n",
       "      <td>2</td>\n",
       "      <td>2022</td>\n",
       "      <td>103209</td>\n",
       "      <td>120.0</td>\n",
       "      <td>5</td>\n",
       "      <td>0</td>\n",
       "      <td>WebScraping</td>\n",
       "    </tr>\n",
       "    <tr>\n",
       "      <th>2</th>\n",
       "      <td>TOYOTA</td>\n",
       "      <td>c-hr</td>\n",
       "      <td>9.908475</td>\n",
       "      <td>2</td>\n",
       "      <td>2020</td>\n",
       "      <td>110745</td>\n",
       "      <td>122.0</td>\n",
       "      <td>5</td>\n",
       "      <td>1</td>\n",
       "      <td>WebScraping</td>\n",
       "    </tr>\n",
       "    <tr>\n",
       "      <th>3</th>\n",
       "      <td>NISSAN</td>\n",
       "      <td>juke</td>\n",
       "      <td>9.797571</td>\n",
       "      <td>1</td>\n",
       "      <td>2022</td>\n",
       "      <td>63000</td>\n",
       "      <td>114.0</td>\n",
       "      <td>5</td>\n",
       "      <td>1</td>\n",
       "      <td>WebScraping</td>\n",
       "    </tr>\n",
       "    <tr>\n",
       "      <th>4</th>\n",
       "      <td>NISSAN</td>\n",
       "      <td>qashqai</td>\n",
       "      <td>10.101928</td>\n",
       "      <td>2</td>\n",
       "      <td>2022</td>\n",
       "      <td>62765</td>\n",
       "      <td>140.0</td>\n",
       "      <td>5</td>\n",
       "      <td>0</td>\n",
       "      <td>WebScraping</td>\n",
       "    </tr>\n",
       "  </tbody>\n",
       "</table>\n",
       "</div>"
      ],
      "text/plain": [
       "     marca   modelo     precio  combustible  anyo_vehiculo  kilometraje  \\\n",
       "0     AUDI       a3  10.138164            2           2023        46273   \n",
       "1  HYUNDAI      i30   9.605755            2           2022       103209   \n",
       "2   TOYOTA     c-hr   9.908475            2           2020       110745   \n",
       "3   NISSAN     juke   9.797571            1           2022        63000   \n",
       "4   NISSAN  qashqai  10.101928            2           2022        62765   \n",
       "\n",
       "   potencia  num_puertas  tipo_cambio origen_anuncio  \n",
       "0     110.0            5            1    WebScraping  \n",
       "1     120.0            5            0    WebScraping  \n",
       "2     122.0            5            1    WebScraping  \n",
       "3     114.0            5            1    WebScraping  \n",
       "4     140.0            5            0    WebScraping  "
      ]
     },
     "execution_count": 213,
     "metadata": {},
     "output_type": "execute_result"
    }
   ],
   "source": [
    "df.head()"
   ]
  },
  {
   "cell_type": "code",
   "execution_count": 214,
   "metadata": {},
   "outputs": [
    {
     "name": "stdout",
     "output_type": "stream",
     "text": [
      "{'AUDI': {'90', 'q3 sportback', 'a2', 's6', 'r8', 'q3', 'rs4', '100', 'q7', 'allroad quattro', 'a1', 'tt', 's4', 'q2', 'rs7', 'a3', 'sq5', 'tts', 'rs3', 'rs6', 'a7', 'coupe', 'rs5', 'a5', 'a6 allroad quattro', 's7', 'sq7', 's3', 'a4', 'rs q3', 's5', 'a8', 'a6', 'q5', 'a4 allroad quattro', 'tt rs', 's8', 'cabriolet'}, 'HYUNDAI': {'i20', 'tucson', 'getz', 'santa fe', 'accent', 'i40', 'genesis', 'ix55', 'ioniq', 'ix20', 'atos', 'Bayon 1.2 MPI Maxx', 'i30', 'ix35', 'Bayon 1.0 TGDI Maxx', 'h-1 travel', 'grand santa fe', 'coupe', 'veloster', 'trajet', 'i20 active', 'h-1', 'atos prime', 'lantra', 'matrix', 'terracan', 'i10', 'elantra', 'sonata', 'h350', 'xg', 'kona'}, 'TOYOTA': {'rav4', 'yaris', 'avensis verso', 'gr yaris', 'CHR 2.0 180H Advance', '4runner', 'corolla', 'verso', 'hilux', 'land cruiser 200', 'corolla sedan', 'proace verso', 'dyna', 'proace city verso', 'c-hr', 'Priusplus Advance', 'urban cruiser', 'celica', 'prius+', 'auris', 'gt86', 'land cruiser 90', 'camry', 'previa', 'avensis', 'land cruiser 100', 'prius', 'iq', 'CHR 2.0 180H Dynamic', 'proace', 'aygo', 'land cruiser 80', 'land cruiser', 'corolla verso'}, 'NISSAN': {'pathfinder', 'cube', 'pixo', 'patrol', '100 nx', 'e-nv200', 'serena', 'evalia', 'nv300', 'nt400', 'leaf', 'primastar', 'murano', 'almera tino', 'pick-up', 'nv200', 'interstar', 'cabstar e', 'pulsar', 'primera', 'sunny', 'np300 navara', 'note', 'nt400 cabstar', 'nv250', 'terrano ii', 'tiida', 'juke', '370z', 'qashqai+2', 'patrol gr', 'trade', 'vanette cargo', '350z', 'e-nv200 evalia', 'x-trail', 'gt-r', 'almera', 'micra', 'nv400', 'qashqai', 'maxima qx', 'navara', 'cabstar', '300 zx', 'kubistar', 'terrano'}, 'KIA': {\"pro_cee'd 1.0 TGDi Tech EcoDynamics\", 'eNiro eNiro Drive Long Range', 'Opirus 3.8 V6', \"cee'd 1.6 CRDi VGT Maracana\", 'optima sw', 'e-soul', 'sportage', \"cee'd 1.6 CRDi VGT Emotion\", 'niro', 'venga', 'xceed', 'picanto', \"cee'd 1.4 CRDi WGT Drive\", \"cee'd 1.6 CRDi VGT xTech16 EcoDynamics\", 'sorento', 'e-niro', 'soul ev', 'pro_ceed gt', 'rio', \"cee'd 1.6 CRDi VGT Tech\", 'stonic', 'proceed', 'soul', 'sephia ii', 'stinger', 'niro hibrido enchufable', \"cee'd 1.4 CRDi WGT Business\", \"cee'd 1.0 TGDi xTech17 EcoDyn\", 'pro ceed', 'ceed sporty wagon', 'optima', 'ceed tourer', 'shuma', 'carens', 'niro phev', \"cee'd 1.0 TGDi Tech EcoDynamics\", \"cee'd 1.4 CRDi WGT Concept\", \"cee'd 1.4 CVVT Concept\", 'optima phev', 'carnival', \"cee'd 1.4 CVVT Drive\", 'cerato', \"cee'd 1.0 TGDi Concept Plus EcoDynam\", 'ceed sportswagon', 'pregio', 'EV6 GTLine 774kWh RWD Long Range', \"cee'd 1.0 TGDi Concept EcoDynam\", 'ceed'}, 'CITROEN': {'xantia', 'c-15', 'ax', 'c6', '2cv', 'grand c4 picasso', 'spacetourer', 'c-crosser', 'c5', 'nemo', 'ds4', 'zx', 'evasion', 'jumpy', 'saxo', 'c-elysee', 'c5 aircross hybrid', 'c4 cactus', 'c4 aircross', 'c4 picasso', 'c4 spacetourer', 'c4 sedan', 'c-zero', 'ds3', 'c8', 'bx', 'c3 aircross', 'c4', 'berlingo', 'e-c4', 'ds5', 'c3 pluriel', 'c2', 'jumper', 'xsara', 'xsara picasso', 'grand c4 spacetourer', 'c3 picasso', 'c1', 'c5 aircross', 'c3'}, 'OPEL': {'vivaro', 'mokka x', 'zafira-e life', 'vectra', 'crossland', 'omega', 'mokka', 'kadett', 'corsa-e', 'grandland x', 'gtc', 'agila', 'corsa van', 'grandland x phev', 'monterey', 'meriva', 'zafira life', 'crossland x', 'corsa', 'gt', 'tigra', 'frontera', 'karl', 'signum', 'combo life', 'antara', 'zafira tourer', 'cabrio', 'adam', 'manta', 'combo', 'astra', 'zafira', 'ampera', 'movano', 'insignia'}, 'FORD': {'transit connect', 'ecosport', 'probe', 'c-max', 'grand tourneo connect', 'edge', 'sierra', 'mondeo', 'transit courier', 'courier', 'tourneo connect', 'grand c-max', 'galaxy', 'focus', 'mustang', 'kuga', 'ka', 'ka+', 'fiesta', 'ranger', 'fusion', 'escort', 'transit custom', 'fiesta van', 'focus c-max', 'tourneo courier', 'connect', 'b-max', 'capri', 'maverick', 's-max', 'puma', 'transit', 'tourneo custom', 'explorer'}, 'VOLKSWAGEN': {'touareg', 'golf sportsvan', 'grand california', 'cc', 'caravelle', 'new beetle', 'tiguan', 'multivan', 'transporter', 'passat cc', 'e-up!', 't-cross', 'arteon', 'golf plus', 'sharan', 'scirocco', 'jetta', 'ID. BUZZ Pro', 'santana', 'eos', 'up!', 'phaeton', 'caddy', 'lupo', 'golf', 'touran', 'beetle', 'corrado', 'Taigo Life 1.0 TSI', 'tiguan allspace', 'bora', 'polo', 'passat', 'id.3', 'lt', 'california', 'amarok', 't-roc', 'crafter', 'TRoc Sport 1.5 TSI DSG'}, 'BMW': {'serie 1', 'ix3', 'i4 eDrive40', 'serie 6', 'serie 4', 'serie 2', 'x5', 'i3', 'x4', 'serie 8', 'serie 3', 'x3', 'serie 2 active tourer', 'x2', 'serie 2 gran tourer', 'z1', 'compact', 'i8', 'iX1 xDrive30', 'x1', 'z3', 'serie 5', 'serie 7', 'z4', 'x6'}, 'PEUGEOT': {'3008 hybrid', 'ion', 'e-208', '3008', '407 sw', 'partner origin', '205', '207', '208', 'expert', 'rcz', 'boxer', 'bipper', '508', '106', '2008', '307 sw', '4008', '607', '505', '4007', '208 xad', '807', '1007', '207 +', 'partner', '206 +', '108', '206 sw', '806', '307', 'rifter', '306', '308', '406', '206', '407', '309', '5008', '508 hybrid', 'traveller', 'e-2008', '107'}, 'SEAT': {'altea xl', 'arona', 'arosa', 'altea freetrack', 'alhambra', 'cordoba', 'toledo', 'ibiza', 'inca', 'ateca', 'mii', 'tarraco', 'leon', 'exeo', 'altea', 'marbella'}, 'RENAULT': {'express', 'kangoo furgon', 'clio 4', 'koleos', 'twingo', 'grand modus', 'grand kangoo combi', 'vel satis', 'r4', 'grand espace', 'r6', 'laguna', 'r11', 'talisman', 'megane', 'kangoo z.e.', 'clio iii', 'clio campus', 'r21', 'kangoo express', 'r5', 'master propulsion', 'clio', 'scenic', 'Arkana Zen ETECH Hibrido 105kW145CV', 'maxity', 'fluence', '19', 'zoe', 'Austral Techno ETech Full Hybrid', 'trafic', 'safrane', 'wind', 'kadjar', 'captur', 'kangoo', 'kangoo combi', 'mascott', 'master', 'espace', 'grand scenic', '5 E-Tech Iconic Cinq Autonomia Conf', 'modus', 'latitude'}, 'MERCEDES-BENZ': {'clase sl r129', 'clase c', 'clase gl', 'sprinter', 'gla', 'clase cl', '220', '300', 'clase b', 'clase slc', '260', 'clase r', 'clase cls', '230', 'glc coupe', 'clase glc', '190', 'glb', 'eqc', 'clase e', 'clase s', 'clase v', 'clase g', '140d', 'clase glk', 'clase cla', '200', 'clase m', 'viano', '100d', 'citan', 'clase x', 'clase clc', 'clase slk', 'cls', 'clase gls', 'gle', '500', 'clase gla', 'clase gle', 'EQA EQA 250', 'clase gle coupe', 'clase sl', 'clase clk', 'vito', '400', 'cla', 'clase a'}}\n"
     ]
    }
   ],
   "source": [
    "marca_modelo_set = {}\n",
    "\n",
    "for index, row in df.iterrows():\n",
    "    make = row['marca']\n",
    "    model = row['modelo']\n",
    "    \n",
    "    if make not in marca_modelo_set:\n",
    "        marca_modelo_set[make] = {model}\n",
    "    else:\n",
    "        marca_modelo_set[make].add(model)\n",
    "\n",
    "# Guardamos el set con marcas y modelos en un pkl:\n",
    "\n",
    "with open('../include/utils/marca_modelo_set.pkl', 'wb') as archivo_salida3:\n",
    "    pickle.dump(marca_modelo_set, archivo_salida3)\n",
    "\n",
    "print(marca_modelo_set)"
   ]
  },
  {
   "cell_type": "markdown",
   "metadata": {},
   "source": [
    "Una vez guardado este set, empezamos con el análisis y procesado de las variables que utilizaremos en el modelo:"
   ]
  },
  {
   "cell_type": "code",
   "execution_count": 215,
   "metadata": {},
   "outputs": [
    {
     "data": {
      "text/plain": [
       "marca\n",
       "VOLKSWAGEN       4312\n",
       "BMW              3994\n",
       "MERCEDES-BENZ    3806\n",
       "AUDI             3323\n",
       "PEUGEOT          3109\n",
       "FORD             2947\n",
       "RENAULT          2947\n",
       "OPEL             2869\n",
       "CITROEN          2838\n",
       "SEAT             2520\n",
       "TOYOTA           2197\n",
       "NISSAN           2113\n",
       "HYUNDAI          1584\n",
       "KIA              1510\n",
       "Name: count, dtype: int64"
      ]
     },
     "execution_count": 215,
     "metadata": {},
     "output_type": "execute_result"
    }
   ],
   "source": [
    "marca_df = df[\"marca\"]\n",
    "marca_df.value_counts()"
   ]
  },
  {
   "cell_type": "markdown",
   "metadata": {},
   "source": [
    "Tenemos 14 marcas diferentes de coches. Vamos a hacer un countplot para ver cuántos vehículos tenemos de cada marca:"
   ]
  },
  {
   "cell_type": "code",
   "execution_count": 216,
   "metadata": {},
   "outputs": [
    {
     "data": {
      "image/png": "[encoded data removed]",
      "text/plain": [
       "<Figure size 800x600 with 1 Axes>"
      ]
     },
     "metadata": {},
     "output_type": "display_data"
    }
   ],
   "source": [
    "plt.figure(figsize = (8, 6))\n",
    "sns.countplot(y = marca_df, order=marca_df.value_counts(ascending=False).index, color=colors[0])\n",
    "\n",
    "plt.title(\"Cantidad de coches por marca\", fontsize=16)\n",
    "plt.xlabel(\"Cantidad de vehículos\", fontsize=14)\n",
    "plt.ylabel(\"Marca\", fontsize=14)\n",
    "\n",
    "plt.show()"
   ]
  },
  {
   "cell_type": "markdown",
   "metadata": {},
   "source": [
    "En el gráfico vemos cómo tenemos muchos coches registrados en la base de datos para cada una de las 14 marcas.\n",
    "\n",
    "Vamos a asignar un valor numérico a cada marca para poder utilizar dicha columna como feature del modelo:"
   ]
  },
  {
   "cell_type": "code",
   "execution_count": 217,
   "metadata": {},
   "outputs": [
    {
     "data": {
      "text/plain": [
       "marca\n",
       "13    4312\n",
       "1     3994\n",
       "6     3806\n",
       "0     3323\n",
       "9     3109\n",
       "3     2947\n",
       "10    2947\n",
       "8     2869\n",
       "2     2838\n",
       "11    2520\n",
       "12    2197\n",
       "7     2113\n",
       "4     1584\n",
       "5     1510\n",
       "Name: count, dtype: int64"
      ]
     },
     "execution_count": 217,
     "metadata": {},
     "output_type": "execute_result"
    }
   ],
   "source": [
    "# Asignamos cada marca a un valor numérico utilizando LabelEncoder:\n",
    "\n",
    "from sklearn.preprocessing import LabelEncoder\n",
    "\n",
    "encoder_marca = LabelEncoder()\n",
    "encoder_marca.fit(df[\"marca\"].sort_values(ascending=False))\n",
    "list(encoder_marca.classes_)\n",
    "df[\"marca\"] = encoder_marca.transform(df[\"marca\"])\n",
    "\n",
    "# Guardamos el LabelEncoder para poder utilizarlo después en otros archivos:\n",
    "\n",
    "with open('../include/utils/label_encoder_marca.pkl', 'wb') as archivo_salida1:\n",
    "    pickle.dump(encoder_marca, archivo_salida1)\n",
    "\n",
    "df[\"marca\"].value_counts()"
   ]
  },
  {
   "cell_type": "code",
   "execution_count": 218,
   "metadata": {},
   "outputs": [
    {
     "name": "stdout",
     "output_type": "stream",
     "text": [
      "['AUDI' 'BMW' 'CITROEN' 'FORD' 'HYUNDAI' 'KIA' 'MERCEDES-BENZ' 'NISSAN'\n",
      " 'OPEL' 'PEUGEOT' 'RENAULT' 'SEAT' 'TOYOTA' 'VOLKSWAGEN']\n"
     ]
    }
   ],
   "source": [
    "# muestra las marcas originales\n",
    "\n",
    "print(encoder_marca.classes_)\n"
   ]
  },
  {
   "cell_type": "code",
   "execution_count": 219,
   "metadata": {},
   "outputs": [
    {
     "data": {
      "text/plain": [
       "['AUDI']"
      ]
     },
     "execution_count": 219,
     "metadata": {},
     "output_type": "execute_result"
    }
   ],
   "source": [
    "# Para visualizar el mapping de marca con LabelEncoder\n",
    "\n",
    "list(encoder_marca.inverse_transform([0]))"
   ]
  },
  {
   "cell_type": "code",
   "execution_count": 220,
   "metadata": {},
   "outputs": [
    {
     "name": "stdout",
     "output_type": "stream",
     "text": [
      "<class 'pandas.core.frame.DataFrame'>\n",
      "Index: 40069 entries, 0 to 48053\n",
      "Data columns (total 10 columns):\n",
      " #   Column          Non-Null Count  Dtype  \n",
      "---  ------          --------------  -----  \n",
      " 0   marca           40069 non-null  int32  \n",
      " 1   modelo          40069 non-null  object \n",
      " 2   precio          40069 non-null  float64\n",
      " 3   combustible     40069 non-null  int64  \n",
      " 4   anyo_vehiculo   40069 non-null  int32  \n",
      " 5   kilometraje     40069 non-null  int64  \n",
      " 6   potencia        40069 non-null  float64\n",
      " 7   num_puertas     40069 non-null  int64  \n",
      " 8   tipo_cambio     40069 non-null  int64  \n",
      " 9   origen_anuncio  40069 non-null  object \n",
      "dtypes: float64(2), int32(2), int64(4), object(2)\n",
      "memory usage: 3.1+ MB\n"
     ]
    }
   ],
   "source": [
    "df.info()"
   ]
  },
  {
   "cell_type": "markdown",
   "metadata": {},
   "source": [
    "#### Modelo:"
   ]
  },
  {
   "cell_type": "markdown",
   "metadata": {},
   "source": [
    "Vamos ahora con la columna ```\"modelo\"```:"
   ]
  },
  {
   "cell_type": "code",
   "execution_count": 221,
   "metadata": {},
   "outputs": [
    {
     "data": {
      "text/plain": [
       "modelo\n",
       "golf       1433\n",
       "serie 3    1036\n",
       "qashqai    1032\n",
       "ibiza       872\n",
       "focus       850\n",
       "           ... \n",
       "corrado       1\n",
       "r8            1\n",
       "505           1\n",
       "260           1\n",
       "pick-up       1\n",
       "Name: count, Length: 526, dtype: int64"
      ]
     },
     "execution_count": 221,
     "metadata": {},
     "output_type": "execute_result"
    }
   ],
   "source": [
    "df[\"modelo\"].value_counts()"
   ]
  },
  {
   "cell_type": "markdown",
   "metadata": {},
   "source": [
    "Tenemos 526 modelos diferentes. En esta ocasión no realizamos el countplot ya que es información demasiado específica para visualizar.\n",
    "\n",
    "Aunque son muchos valores diferentes, por el momento, realizamos otro Label Encoder. Más adelante veremos si es una columna que aporte información al modelo."
   ]
  },
  {
   "cell_type": "code",
   "execution_count": 222,
   "metadata": {},
   "outputs": [
    {
     "data": {
      "text/plain": [
       "modelo\n",
       "253    1433\n",
       "439    1036\n",
       "401    1032\n",
       "286     872\n",
       "242     850\n",
       "       ... \n",
       "203       1\n",
       "408       1\n",
       "45        1\n",
       "22        1\n",
       "377       1\n",
       "Name: count, Length: 526, dtype: int64"
      ]
     },
     "execution_count": 222,
     "metadata": {},
     "output_type": "execute_result"
    }
   ],
   "source": [
    "from sklearn.preprocessing import LabelEncoder\n",
    "\n",
    "encoder_modelo = LabelEncoder()\n",
    "encoder_modelo.fit(df[\"modelo\"].sort_values(ascending=False))\n",
    "list(encoder_modelo.classes_)\n",
    "df[\"modelo\"] = encoder_modelo.transform(df[\"modelo\"])\n",
    "\n",
    "# Guardamos el Encoding:\n",
    "\n",
    "with open('../include/utils/label_encoder_modelo.pkl', 'wb') as archivo_salida2:\n",
    "    pickle.dump(encoder_modelo, archivo_salida2)\n",
    "\n",
    "df[\"modelo\"].value_counts()"
   ]
  },
  {
   "cell_type": "code",
   "execution_count": 223,
   "metadata": {},
   "outputs": [
    {
     "data": {
      "text/plain": [
       "['combo life']"
      ]
     },
     "execution_count": 223,
     "metadata": {},
     "output_type": "execute_result"
    }
   ],
   "source": [
    "# Para visualizar el mapping de model con LabelEncoder\n",
    "\n",
    "list(encoder_modelo.inverse_transform([196]))"
   ]
  },
  {
   "cell_type": "code",
   "execution_count": 225,
   "metadata": {},
   "outputs": [
    {
     "ename": "ValueError",
     "evalue": "y contains previously unseen labels: 'A2'",
     "output_type": "error",
     "traceback": [
      "\u001b[1;31m---------------------------------------------------------------------------\u001b[0m",
      "\u001b[1;31mKeyError\u001b[0m                                  Traceback (most recent call last)",
      "File \u001b[1;32mc:\\Users\\alberto.pintos\\AppData\\Local\\anaconda3\\Lib\\site-packages\\sklearn\\utils\\_encode.py:225\u001b[0m, in \u001b[0;36m_encode\u001b[1;34m(values, uniques, check_unknown)\u001b[0m\n\u001b[0;32m    224\u001b[0m \u001b[38;5;28;01mtry\u001b[39;00m:\n\u001b[1;32m--> 225\u001b[0m     \u001b[38;5;28;01mreturn\u001b[39;00m _map_to_integer(values, uniques)\n\u001b[0;32m    226\u001b[0m \u001b[38;5;28;01mexcept\u001b[39;00m \u001b[38;5;167;01mKeyError\u001b[39;00m \u001b[38;5;28;01mas\u001b[39;00m e:\n",
      "File \u001b[1;32mc:\\Users\\alberto.pintos\\AppData\\Local\\anaconda3\\Lib\\site-packages\\sklearn\\utils\\_encode.py:165\u001b[0m, in \u001b[0;36m_map_to_integer\u001b[1;34m(values, uniques)\u001b[0m\n\u001b[0;32m    164\u001b[0m table \u001b[38;5;241m=\u001b[39m _nandict({val: i \u001b[38;5;28;01mfor\u001b[39;00m i, val \u001b[38;5;129;01min\u001b[39;00m \u001b[38;5;28menumerate\u001b[39m(uniques)})\n\u001b[1;32m--> 165\u001b[0m \u001b[38;5;28;01mreturn\u001b[39;00m np\u001b[38;5;241m.\u001b[39marray([table[v] \u001b[38;5;28;01mfor\u001b[39;00m v \u001b[38;5;129;01min\u001b[39;00m values])\n",
      "File \u001b[1;32mc:\\Users\\alberto.pintos\\AppData\\Local\\anaconda3\\Lib\\site-packages\\sklearn\\utils\\_encode.py:165\u001b[0m, in \u001b[0;36m<listcomp>\u001b[1;34m(.0)\u001b[0m\n\u001b[0;32m    164\u001b[0m table \u001b[38;5;241m=\u001b[39m _nandict({val: i \u001b[38;5;28;01mfor\u001b[39;00m i, val \u001b[38;5;129;01min\u001b[39;00m \u001b[38;5;28menumerate\u001b[39m(uniques)})\n\u001b[1;32m--> 165\u001b[0m \u001b[38;5;28;01mreturn\u001b[39;00m np\u001b[38;5;241m.\u001b[39marray([table[v] \u001b[38;5;28;01mfor\u001b[39;00m v \u001b[38;5;129;01min\u001b[39;00m values])\n",
      "File \u001b[1;32mc:\\Users\\alberto.pintos\\AppData\\Local\\anaconda3\\Lib\\site-packages\\sklearn\\utils\\_encode.py:159\u001b[0m, in \u001b[0;36m_nandict.__missing__\u001b[1;34m(self, key)\u001b[0m\n\u001b[0;32m    158\u001b[0m     \u001b[38;5;28;01mreturn\u001b[39;00m \u001b[38;5;28mself\u001b[39m\u001b[38;5;241m.\u001b[39mnan_value\n\u001b[1;32m--> 159\u001b[0m \u001b[38;5;28;01mraise\u001b[39;00m \u001b[38;5;167;01mKeyError\u001b[39;00m(key)\n",
      "\u001b[1;31mKeyError\u001b[0m: 'A2'",
      "\nDuring handling of the above exception, another exception occurred:\n",
      "\u001b[1;31mValueError\u001b[0m                                Traceback (most recent call last)",
      "Cell \u001b[1;32mIn[225], line 1\u001b[0m\n\u001b[1;32m----> 1\u001b[0m encoder_modelo\u001b[38;5;241m.\u001b[39mtransform([\u001b[38;5;124m\"\u001b[39m\u001b[38;5;124mA2\u001b[39m\u001b[38;5;124m\"\u001b[39m])\n",
      "File \u001b[1;32mc:\\Users\\alberto.pintos\\AppData\\Local\\anaconda3\\Lib\\site-packages\\sklearn\\utils\\_set_output.py:140\u001b[0m, in \u001b[0;36m_wrap_method_output.<locals>.wrapped\u001b[1;34m(self, X, *args, **kwargs)\u001b[0m\n\u001b[0;32m    138\u001b[0m \u001b[38;5;129m@wraps\u001b[39m(f)\n\u001b[0;32m    139\u001b[0m \u001b[38;5;28;01mdef\u001b[39;00m \u001b[38;5;21mwrapped\u001b[39m(\u001b[38;5;28mself\u001b[39m, X, \u001b[38;5;241m*\u001b[39margs, \u001b[38;5;241m*\u001b[39m\u001b[38;5;241m*\u001b[39mkwargs):\n\u001b[1;32m--> 140\u001b[0m     data_to_wrap \u001b[38;5;241m=\u001b[39m f(\u001b[38;5;28mself\u001b[39m, X, \u001b[38;5;241m*\u001b[39margs, \u001b[38;5;241m*\u001b[39m\u001b[38;5;241m*\u001b[39mkwargs)\n\u001b[0;32m    141\u001b[0m     \u001b[38;5;28;01mif\u001b[39;00m \u001b[38;5;28misinstance\u001b[39m(data_to_wrap, \u001b[38;5;28mtuple\u001b[39m):\n\u001b[0;32m    142\u001b[0m         \u001b[38;5;66;03m# only wrap the first output for cross decomposition\u001b[39;00m\n\u001b[0;32m    143\u001b[0m         return_tuple \u001b[38;5;241m=\u001b[39m (\n\u001b[0;32m    144\u001b[0m             _wrap_data_with_container(method, data_to_wrap[\u001b[38;5;241m0\u001b[39m], X, \u001b[38;5;28mself\u001b[39m),\n\u001b[0;32m    145\u001b[0m             \u001b[38;5;241m*\u001b[39mdata_to_wrap[\u001b[38;5;241m1\u001b[39m:],\n\u001b[0;32m    146\u001b[0m         )\n",
      "File \u001b[1;32mc:\\Users\\alberto.pintos\\AppData\\Local\\anaconda3\\Lib\\site-packages\\sklearn\\preprocessing\\_label.py:137\u001b[0m, in \u001b[0;36mLabelEncoder.transform\u001b[1;34m(self, y)\u001b[0m\n\u001b[0;32m    134\u001b[0m \u001b[38;5;28;01mif\u001b[39;00m _num_samples(y) \u001b[38;5;241m==\u001b[39m \u001b[38;5;241m0\u001b[39m:\n\u001b[0;32m    135\u001b[0m     \u001b[38;5;28;01mreturn\u001b[39;00m np\u001b[38;5;241m.\u001b[39marray([])\n\u001b[1;32m--> 137\u001b[0m \u001b[38;5;28;01mreturn\u001b[39;00m _encode(y, uniques\u001b[38;5;241m=\u001b[39m\u001b[38;5;28mself\u001b[39m\u001b[38;5;241m.\u001b[39mclasses_)\n",
      "File \u001b[1;32mc:\\Users\\alberto.pintos\\AppData\\Local\\anaconda3\\Lib\\site-packages\\sklearn\\utils\\_encode.py:227\u001b[0m, in \u001b[0;36m_encode\u001b[1;34m(values, uniques, check_unknown)\u001b[0m\n\u001b[0;32m    225\u001b[0m         \u001b[38;5;28;01mreturn\u001b[39;00m _map_to_integer(values, uniques)\n\u001b[0;32m    226\u001b[0m     \u001b[38;5;28;01mexcept\u001b[39;00m \u001b[38;5;167;01mKeyError\u001b[39;00m \u001b[38;5;28;01mas\u001b[39;00m e:\n\u001b[1;32m--> 227\u001b[0m         \u001b[38;5;28;01mraise\u001b[39;00m \u001b[38;5;167;01mValueError\u001b[39;00m(\u001b[38;5;124mf\u001b[39m\u001b[38;5;124m\"\u001b[39m\u001b[38;5;124my contains previously unseen labels: \u001b[39m\u001b[38;5;132;01m{\u001b[39;00m\u001b[38;5;28mstr\u001b[39m(e)\u001b[38;5;132;01m}\u001b[39;00m\u001b[38;5;124m\"\u001b[39m)\n\u001b[0;32m    228\u001b[0m \u001b[38;5;28;01melse\u001b[39;00m:\n\u001b[0;32m    229\u001b[0m     \u001b[38;5;28;01mif\u001b[39;00m check_unknown:\n",
      "\u001b[1;31mValueError\u001b[0m: y contains previously unseen labels: 'A2'"
     ]
    }
   ],
   "source": [
    "encoder_modelo.transform([\"A2\"])"
   ]
  },
  {
   "cell_type": "code",
   "execution_count": 69,
   "metadata": {},
   "outputs": [
    {
     "name": "stdout",
     "output_type": "stream",
     "text": [
      "<class 'pandas.core.frame.DataFrame'>\n",
      "Index: 40069 entries, 0 to 48053\n",
      "Data columns (total 10 columns):\n",
      " #   Column          Non-Null Count  Dtype  \n",
      "---  ------          --------------  -----  \n",
      " 0   marca           40069 non-null  int32  \n",
      " 1   modelo          40069 non-null  int32  \n",
      " 2   precio          40069 non-null  float64\n",
      " 3   combustible     40069 non-null  int64  \n",
      " 4   anyo_vehiculo   40069 non-null  int32  \n",
      " 5   kilometraje     40069 non-null  int64  \n",
      " 6   potencia        40069 non-null  float64\n",
      " 7   num_puertas     40069 non-null  int64  \n",
      " 8   tipo_cambio     40069 non-null  int64  \n",
      " 9   origen_anuncio  40069 non-null  object \n",
      "dtypes: float64(2), int32(3), int64(4), object(1)\n",
      "memory usage: 2.9+ MB\n"
     ]
    }
   ],
   "source": [
    "df.info()"
   ]
  },
  {
   "cell_type": "markdown",
   "metadata": {},
   "source": [
    "#### Origen anuncio:"
   ]
  },
  {
   "cell_type": "markdown",
   "metadata": {},
   "source": [
    "Tan solo falta la columna ```\"origen_anuncio\"```, que vamos a eliminar ya que sólo la hemos mantenido para diferenciar el origen del anuncio, pero no la queremos utilizar en el modelo predictivo."
   ]
  },
  {
   "cell_type": "code",
   "execution_count": 70,
   "metadata": {},
   "outputs": [],
   "source": [
    "df.drop(columns=[\"origen_anuncio\"], inplace=True)"
   ]
  },
  {
   "cell_type": "code",
   "execution_count": 71,
   "metadata": {},
   "outputs": [
    {
     "name": "stdout",
     "output_type": "stream",
     "text": [
      "<class 'pandas.core.frame.DataFrame'>\n",
      "Index: 40069 entries, 0 to 48053\n",
      "Data columns (total 9 columns):\n",
      " #   Column         Non-Null Count  Dtype  \n",
      "---  ------         --------------  -----  \n",
      " 0   marca          40069 non-null  int32  \n",
      " 1   modelo         40069 non-null  int32  \n",
      " 2   precio         40069 non-null  float64\n",
      " 3   combustible    40069 non-null  int64  \n",
      " 4   anyo_vehiculo  40069 non-null  int32  \n",
      " 5   kilometraje    40069 non-null  int64  \n",
      " 6   potencia       40069 non-null  float64\n",
      " 7   num_puertas    40069 non-null  int64  \n",
      " 8   tipo_cambio    40069 non-null  int64  \n",
      "dtypes: float64(2), int32(3), int64(4)\n",
      "memory usage: 2.6 MB\n"
     ]
    }
   ],
   "source": [
    "df.info()"
   ]
  },
  {
   "cell_type": "markdown",
   "metadata": {},
   "source": [
    "Ya tenemos nuestro DataFrame con todas las columnas de tipo numérico, listas para ser utilizadas por el modelo (después de escalar, dividir los conjuntos de train y test, etc.).\n",
    "\n",
    "Guardamos el DataFrame."
   ]
  },
  {
   "cell_type": "code",
   "execution_count": 72,
   "metadata": {},
   "outputs": [],
   "source": [
    "# Guardamos el DataFrame transformado\n",
    "\n",
    "df.to_csv(\"../include/data/processed/df_pre_modelo.csv\")"
   ]
  },
  {
   "cell_type": "markdown",
   "metadata": {},
   "source": [
    "## 3. Modelos predictivos."
   ]
  },
  {
   "cell_type": "code",
   "execution_count": 73,
   "metadata": {},
   "outputs": [
    {
     "data": {
      "text/html": [
       "<div>\n",
       "<style scoped>\n",
       "    .dataframe tbody tr th:only-of-type {\n",
       "        vertical-align: middle;\n",
       "    }\n",
       "\n",
       "    .dataframe tbody tr th {\n",
       "        vertical-align: top;\n",
       "    }\n",
       "\n",
       "    .dataframe thead th {\n",
       "        text-align: right;\n",
       "    }\n",
       "</style>\n",
       "<table border=\"1\" class=\"dataframe\">\n",
       "  <thead>\n",
       "    <tr style=\"text-align: right;\">\n",
       "      <th></th>\n",
       "      <th>marca</th>\n",
       "      <th>modelo</th>\n",
       "      <th>precio</th>\n",
       "      <th>combustible</th>\n",
       "      <th>anyo_vehiculo</th>\n",
       "      <th>kilometraje</th>\n",
       "      <th>potencia</th>\n",
       "      <th>num_puertas</th>\n",
       "      <th>tipo_cambio</th>\n",
       "    </tr>\n",
       "  </thead>\n",
       "  <tbody>\n",
       "    <tr>\n",
       "      <th>0</th>\n",
       "      <td>0</td>\n",
       "      <td>67</td>\n",
       "      <td>10.138164</td>\n",
       "      <td>2</td>\n",
       "      <td>2023</td>\n",
       "      <td>46273</td>\n",
       "      <td>110.0</td>\n",
       "      <td>5</td>\n",
       "      <td>1</td>\n",
       "    </tr>\n",
       "    <tr>\n",
       "      <th>1</th>\n",
       "      <td>4</td>\n",
       "      <td>281</td>\n",
       "      <td>9.605755</td>\n",
       "      <td>2</td>\n",
       "      <td>2022</td>\n",
       "      <td>103209</td>\n",
       "      <td>120.0</td>\n",
       "      <td>5</td>\n",
       "      <td>0</td>\n",
       "    </tr>\n",
       "    <tr>\n",
       "      <th>2</th>\n",
       "      <td>12</td>\n",
       "      <td>110</td>\n",
       "      <td>9.908475</td>\n",
       "      <td>2</td>\n",
       "      <td>2020</td>\n",
       "      <td>110745</td>\n",
       "      <td>122.0</td>\n",
       "      <td>5</td>\n",
       "      <td>1</td>\n",
       "    </tr>\n",
       "    <tr>\n",
       "      <th>3</th>\n",
       "      <td>7</td>\n",
       "      <td>299</td>\n",
       "      <td>9.797571</td>\n",
       "      <td>1</td>\n",
       "      <td>2022</td>\n",
       "      <td>63000</td>\n",
       "      <td>114.0</td>\n",
       "      <td>5</td>\n",
       "      <td>1</td>\n",
       "    </tr>\n",
       "    <tr>\n",
       "      <th>4</th>\n",
       "      <td>7</td>\n",
       "      <td>401</td>\n",
       "      <td>10.101928</td>\n",
       "      <td>2</td>\n",
       "      <td>2022</td>\n",
       "      <td>62765</td>\n",
       "      <td>140.0</td>\n",
       "      <td>5</td>\n",
       "      <td>0</td>\n",
       "    </tr>\n",
       "    <tr>\n",
       "      <th>...</th>\n",
       "      <td>...</td>\n",
       "      <td>...</td>\n",
       "      <td>...</td>\n",
       "      <td>...</td>\n",
       "      <td>...</td>\n",
       "      <td>...</td>\n",
       "      <td>...</td>\n",
       "      <td>...</td>\n",
       "      <td>...</td>\n",
       "    </tr>\n",
       "    <tr>\n",
       "      <th>40064</th>\n",
       "      <td>5</td>\n",
       "      <td>454</td>\n",
       "      <td>9.305651</td>\n",
       "      <td>0</td>\n",
       "      <td>2012</td>\n",
       "      <td>195000</td>\n",
       "      <td>136.0</td>\n",
       "      <td>5</td>\n",
       "      <td>0</td>\n",
       "    </tr>\n",
       "    <tr>\n",
       "      <th>40065</th>\n",
       "      <td>7</td>\n",
       "      <td>401</td>\n",
       "      <td>9.674074</td>\n",
       "      <td>0</td>\n",
       "      <td>2016</td>\n",
       "      <td>79983</td>\n",
       "      <td>110.0</td>\n",
       "      <td>5</td>\n",
       "      <td>0</td>\n",
       "    </tr>\n",
       "    <tr>\n",
       "      <th>40066</th>\n",
       "      <td>7</td>\n",
       "      <td>401</td>\n",
       "      <td>9.667765</td>\n",
       "      <td>0</td>\n",
       "      <td>2018</td>\n",
       "      <td>88644</td>\n",
       "      <td>130.0</td>\n",
       "      <td>5</td>\n",
       "      <td>0</td>\n",
       "    </tr>\n",
       "    <tr>\n",
       "      <th>40067</th>\n",
       "      <td>7</td>\n",
       "      <td>504</td>\n",
       "      <td>10.025705</td>\n",
       "      <td>0</td>\n",
       "      <td>2018</td>\n",
       "      <td>36463</td>\n",
       "      <td>130.0</td>\n",
       "      <td>5</td>\n",
       "      <td>0</td>\n",
       "    </tr>\n",
       "    <tr>\n",
       "      <th>40068</th>\n",
       "      <td>4</td>\n",
       "      <td>281</td>\n",
       "      <td>9.824985</td>\n",
       "      <td>1</td>\n",
       "      <td>2018</td>\n",
       "      <td>47000</td>\n",
       "      <td>140.0</td>\n",
       "      <td>5</td>\n",
       "      <td>1</td>\n",
       "    </tr>\n",
       "  </tbody>\n",
       "</table>\n",
       "<p>40069 rows × 9 columns</p>\n",
       "</div>"
      ],
      "text/plain": [
       "       marca  modelo     precio  combustible  anyo_vehiculo  kilometraje  \\\n",
       "0          0      67  10.138164            2           2023        46273   \n",
       "1          4     281   9.605755            2           2022       103209   \n",
       "2         12     110   9.908475            2           2020       110745   \n",
       "3          7     299   9.797571            1           2022        63000   \n",
       "4          7     401  10.101928            2           2022        62765   \n",
       "...      ...     ...        ...          ...            ...          ...   \n",
       "40064      5     454   9.305651            0           2012       195000   \n",
       "40065      7     401   9.674074            0           2016        79983   \n",
       "40066      7     401   9.667765            0           2018        88644   \n",
       "40067      7     504  10.025705            0           2018        36463   \n",
       "40068      4     281   9.824985            1           2018        47000   \n",
       "\n",
       "       potencia  num_puertas  tipo_cambio  \n",
       "0         110.0            5            1  \n",
       "1         120.0            5            0  \n",
       "2         122.0            5            1  \n",
       "3         114.0            5            1  \n",
       "4         140.0            5            0  \n",
       "...         ...          ...          ...  \n",
       "40064     136.0            5            0  \n",
       "40065     110.0            5            0  \n",
       "40066     130.0            5            0  \n",
       "40067     130.0            5            0  \n",
       "40068     140.0            5            1  \n",
       "\n",
       "[40069 rows x 9 columns]"
      ]
     },
     "execution_count": 73,
     "metadata": {},
     "output_type": "execute_result"
    }
   ],
   "source": [
    "df = pd.read_csv(\"../include/data/processed/df_pre_modelo.csv\", index_col=0).reset_index(drop=True)\n",
    "df"
   ]
  },
  {
   "cell_type": "markdown",
   "metadata": {},
   "source": [
    "Ya tenemos 9 columnas numéricas con las que poder predecir la columna target (```\"precio\"```)."
   ]
  },
  {
   "cell_type": "markdown",
   "metadata": {},
   "source": [
    "Vamos ahora a dividir los datos de X (features) e y (target)."
   ]
  },
  {
   "cell_type": "code",
   "execution_count": 74,
   "metadata": {},
   "outputs": [],
   "source": [
    "X = df.drop(\"precio\", axis=1)\n",
    "y = df[\"precio\"]"
   ]
  },
  {
   "cell_type": "code",
   "execution_count": 75,
   "metadata": {},
   "outputs": [
    {
     "data": {
      "text/html": [
       "<div>\n",
       "<style scoped>\n",
       "    .dataframe tbody tr th:only-of-type {\n",
       "        vertical-align: middle;\n",
       "    }\n",
       "\n",
       "    .dataframe tbody tr th {\n",
       "        vertical-align: top;\n",
       "    }\n",
       "\n",
       "    .dataframe thead th {\n",
       "        text-align: right;\n",
       "    }\n",
       "</style>\n",
       "<table border=\"1\" class=\"dataframe\">\n",
       "  <thead>\n",
       "    <tr style=\"text-align: right;\">\n",
       "      <th></th>\n",
       "      <th>marca</th>\n",
       "      <th>modelo</th>\n",
       "      <th>combustible</th>\n",
       "      <th>anyo_vehiculo</th>\n",
       "      <th>kilometraje</th>\n",
       "      <th>potencia</th>\n",
       "      <th>num_puertas</th>\n",
       "      <th>tipo_cambio</th>\n",
       "    </tr>\n",
       "  </thead>\n",
       "  <tbody>\n",
       "    <tr>\n",
       "      <th>0</th>\n",
       "      <td>0</td>\n",
       "      <td>67</td>\n",
       "      <td>2</td>\n",
       "      <td>2023</td>\n",
       "      <td>46273</td>\n",
       "      <td>110.0</td>\n",
       "      <td>5</td>\n",
       "      <td>1</td>\n",
       "    </tr>\n",
       "    <tr>\n",
       "      <th>1</th>\n",
       "      <td>4</td>\n",
       "      <td>281</td>\n",
       "      <td>2</td>\n",
       "      <td>2022</td>\n",
       "      <td>103209</td>\n",
       "      <td>120.0</td>\n",
       "      <td>5</td>\n",
       "      <td>0</td>\n",
       "    </tr>\n",
       "    <tr>\n",
       "      <th>2</th>\n",
       "      <td>12</td>\n",
       "      <td>110</td>\n",
       "      <td>2</td>\n",
       "      <td>2020</td>\n",
       "      <td>110745</td>\n",
       "      <td>122.0</td>\n",
       "      <td>5</td>\n",
       "      <td>1</td>\n",
       "    </tr>\n",
       "    <tr>\n",
       "      <th>3</th>\n",
       "      <td>7</td>\n",
       "      <td>299</td>\n",
       "      <td>1</td>\n",
       "      <td>2022</td>\n",
       "      <td>63000</td>\n",
       "      <td>114.0</td>\n",
       "      <td>5</td>\n",
       "      <td>1</td>\n",
       "    </tr>\n",
       "    <tr>\n",
       "      <th>4</th>\n",
       "      <td>7</td>\n",
       "      <td>401</td>\n",
       "      <td>2</td>\n",
       "      <td>2022</td>\n",
       "      <td>62765</td>\n",
       "      <td>140.0</td>\n",
       "      <td>5</td>\n",
       "      <td>0</td>\n",
       "    </tr>\n",
       "    <tr>\n",
       "      <th>...</th>\n",
       "      <td>...</td>\n",
       "      <td>...</td>\n",
       "      <td>...</td>\n",
       "      <td>...</td>\n",
       "      <td>...</td>\n",
       "      <td>...</td>\n",
       "      <td>...</td>\n",
       "      <td>...</td>\n",
       "    </tr>\n",
       "    <tr>\n",
       "      <th>40064</th>\n",
       "      <td>5</td>\n",
       "      <td>454</td>\n",
       "      <td>0</td>\n",
       "      <td>2012</td>\n",
       "      <td>195000</td>\n",
       "      <td>136.0</td>\n",
       "      <td>5</td>\n",
       "      <td>0</td>\n",
       "    </tr>\n",
       "    <tr>\n",
       "      <th>40065</th>\n",
       "      <td>7</td>\n",
       "      <td>401</td>\n",
       "      <td>0</td>\n",
       "      <td>2016</td>\n",
       "      <td>79983</td>\n",
       "      <td>110.0</td>\n",
       "      <td>5</td>\n",
       "      <td>0</td>\n",
       "    </tr>\n",
       "    <tr>\n",
       "      <th>40066</th>\n",
       "      <td>7</td>\n",
       "      <td>401</td>\n",
       "      <td>0</td>\n",
       "      <td>2018</td>\n",
       "      <td>88644</td>\n",
       "      <td>130.0</td>\n",
       "      <td>5</td>\n",
       "      <td>0</td>\n",
       "    </tr>\n",
       "    <tr>\n",
       "      <th>40067</th>\n",
       "      <td>7</td>\n",
       "      <td>504</td>\n",
       "      <td>0</td>\n",
       "      <td>2018</td>\n",
       "      <td>36463</td>\n",
       "      <td>130.0</td>\n",
       "      <td>5</td>\n",
       "      <td>0</td>\n",
       "    </tr>\n",
       "    <tr>\n",
       "      <th>40068</th>\n",
       "      <td>4</td>\n",
       "      <td>281</td>\n",
       "      <td>1</td>\n",
       "      <td>2018</td>\n",
       "      <td>47000</td>\n",
       "      <td>140.0</td>\n",
       "      <td>5</td>\n",
       "      <td>1</td>\n",
       "    </tr>\n",
       "  </tbody>\n",
       "</table>\n",
       "<p>40069 rows × 8 columns</p>\n",
       "</div>"
      ],
      "text/plain": [
       "       marca  modelo  combustible  anyo_vehiculo  kilometraje  potencia  \\\n",
       "0          0      67            2           2023        46273     110.0   \n",
       "1          4     281            2           2022       103209     120.0   \n",
       "2         12     110            2           2020       110745     122.0   \n",
       "3          7     299            1           2022        63000     114.0   \n",
       "4          7     401            2           2022        62765     140.0   \n",
       "...      ...     ...          ...            ...          ...       ...   \n",
       "40064      5     454            0           2012       195000     136.0   \n",
       "40065      7     401            0           2016        79983     110.0   \n",
       "40066      7     401            0           2018        88644     130.0   \n",
       "40067      7     504            0           2018        36463     130.0   \n",
       "40068      4     281            1           2018        47000     140.0   \n",
       "\n",
       "       num_puertas  tipo_cambio  \n",
       "0                5            1  \n",
       "1                5            0  \n",
       "2                5            1  \n",
       "3                5            1  \n",
       "4                5            0  \n",
       "...            ...          ...  \n",
       "40064            5            0  \n",
       "40065            5            0  \n",
       "40066            5            0  \n",
       "40067            5            0  \n",
       "40068            5            1  \n",
       "\n",
       "[40069 rows x 8 columns]"
      ]
     },
     "execution_count": 75,
     "metadata": {},
     "output_type": "execute_result"
    }
   ],
   "source": [
    "X"
   ]
  },
  {
   "cell_type": "markdown",
   "metadata": {},
   "source": [
    "Vamos a realizar un heatmap de las features de nuestro modelo, para ver cómo de correlacionadas están entre ellas:"
   ]
  },
  {
   "cell_type": "code",
   "execution_count": 76,
   "metadata": {},
   "outputs": [
    {
     "data": {
      "image/png": "[encoded data removed]",
      "text/plain": [
       "<Figure size 800x600 with 2 Axes>"
      ]
     },
     "metadata": {},
     "output_type": "display_data"
    }
   ],
   "source": [
    "matriz_corr = X.corr(numeric_only=True).round(decimals=3)\n",
    "\n",
    "plt.figure(figsize=(8, 6))\n",
    "\n",
    "sns.heatmap(matriz_corr, annot=True, cmap='coolwarm', vmin=-1, vmax=1)\n",
    "\n",
    "plt.show()"
   ]
  },
  {
   "cell_type": "markdown",
   "metadata": {},
   "source": [
    "Vemos que la mayor correlación se da entre los kilómetros y el año del vehículo, y es negativa. Esto es lógico, ya que cuanto mayor sea el año (y más nuevo el coche), menor suele ser el número de kilómetros realizados.\n",
    "\n",
    "Además de esto, cabe mencionar que ninguna de las correlaciones es lo suficientemente elevada como para plantearse prescindir de alguna columna."
   ]
  },
  {
   "cell_type": "markdown",
   "metadata": {},
   "source": [
    "Separamos los datos de train y test:"
   ]
  },
  {
   "cell_type": "code",
   "execution_count": 77,
   "metadata": {},
   "outputs": [
    {
     "name": "stdout",
     "output_type": "stream",
     "text": [
      "(32055, 8)\n",
      "(8014, 8)\n",
      "(32055,)\n",
      "(8014,)\n"
     ]
    }
   ],
   "source": [
    "from sklearn.model_selection import train_test_split\n",
    "\n",
    "X_train, X_test, y_train, y_test = train_test_split(X, y, test_size=0.2, random_state=42)\n",
    "\n",
    "print(X_train.shape)\n",
    "print(X_test.shape)\n",
    "print(y_train.shape)\n",
    "print(y_test.shape)"
   ]
  },
  {
   "cell_type": "markdown",
   "metadata": {},
   "source": [
    "Vamos a escalar los datos de X entre 0 y 1:"
   ]
  },
  {
   "cell_type": "code",
   "execution_count": 78,
   "metadata": {},
   "outputs": [],
   "source": [
    "from sklearn.preprocessing import MinMaxScaler\n",
    "\n",
    "scaler = MinMaxScaler()\n",
    "\n",
    "scaler.fit(X_train)\n",
    "\n",
    "# Guardamos el Scaler\n",
    "\n",
    "with open('../include/utils/scaler.pkl', 'wb') as archivo_salida4:\n",
    "    pickle.dump(scaler, archivo_salida4)\n",
    "\n",
    "X_train = scaler.transform(X_train)\n",
    "X_test = scaler.transform(X_test)"
   ]
  },
  {
   "cell_type": "code",
   "execution_count": 79,
   "metadata": {},
   "outputs": [
    {
     "data": {
      "text/plain": [
       "array([[0.07692308, 0.83619048, 0.        , ..., 0.24514991, 0.        ,\n",
       "        0.        ],\n",
       "       [0.84615385, 0.61904762, 0.        , ..., 0.12698413, 1.        ,\n",
       "        0.        ],\n",
       "       [0.07692308, 0.82857143, 0.        , ..., 0.13756614, 0.        ,\n",
       "        0.        ],\n",
       "       ...,\n",
       "       [0.53846154, 0.76380952, 0.        , ..., 0.13580247, 1.        ,\n",
       "        0.        ],\n",
       "       [0.38461538, 0.71619048, 0.16666667, ..., 0.05114638, 1.        ,\n",
       "        0.        ],\n",
       "       [0.76923077, 0.36190476, 0.        , ..., 0.06525573, 1.        ,\n",
       "        0.        ]])"
      ]
     },
     "execution_count": 79,
     "metadata": {},
     "output_type": "execute_result"
    }
   ],
   "source": [
    "X_train"
   ]
  },
  {
   "cell_type": "markdown",
   "metadata": {},
   "source": [
    "Comenzamos la seleción del modelo de regresión. Para ello, probamos varias parametrizaciones de modelos utilizando GridSearchCV."
   ]
  },
  {
   "cell_type": "code",
   "execution_count": 80,
   "metadata": {},
   "outputs": [],
   "source": [
    "# Importamos los modelos de regresión que utilizaremos\n",
    "\n",
    "from sklearn.linear_model import LinearRegression\n",
    "from sklearn.preprocessing import PolynomialFeatures\n",
    "\n",
    "from sklearn.ensemble import RandomForestRegressor\n",
    "from sklearn.ensemble import AdaBoostRegressor\n",
    "from sklearn.ensemble import GradientBoostingRegressor\n",
    "\n",
    "import xgboost\n",
    "\n",
    "from sklearn.ensemble import VotingRegressor\n",
    "\n",
    "from sklearn.model_selection import GridSearchCV\n",
    "\n",
    "from sklearn import metrics"
   ]
  },
  {
   "cell_type": "code",
   "execution_count": 66,
   "metadata": {},
   "outputs": [],
   "source": [
    "# LinearRegression??"
   ]
  },
  {
   "cell_type": "markdown",
   "metadata": {},
   "source": [
    "### 3.1. Linear Regression."
   ]
  },
  {
   "cell_type": "code",
   "execution_count": 82,
   "metadata": {},
   "outputs": [
    {
     "name": "stdout",
     "output_type": "stream",
     "text": [
      "MSE: 0.10283337181759146\n",
      "RMSE: 0.32067642853442074\n",
      "MAE: 0.2214054543844255\n",
      "MAPE: 0.024382003851678276\n",
      "r2 score: 0.8193599443134882\n"
     ]
    }
   ],
   "source": [
    "# Linear Regression\n",
    "\n",
    "param = {}\n",
    "\n",
    "gs_lin_reg = GridSearchCV(estimator=LinearRegression(), param_grid=param, cv=5, scoring=\"neg_mean_squared_error\")\n",
    "\n",
    "gs_lin_reg.fit(X_train, y_train)\n",
    "\n",
    "y_pred = gs_lin_reg.predict(X_test)\n",
    "\n",
    "print(f\"MSE: {metrics.mean_squared_error(y_test, y_pred)}\")\n",
    "print(f\"RMSE: {np.sqrt(metrics.mean_squared_error(y_test, y_pred))}\")\n",
    "print(f\"MAE: {metrics.mean_absolute_error(y_test, y_pred)}\")\n",
    "print(f\"MAPE: {metrics.mean_absolute_percentage_error(y_test, y_pred)}\")\n",
    "\n",
    "print(f\"r2 score: {metrics.r2_score(y_test, y_pred)}\")"
   ]
  },
  {
   "cell_type": "markdown",
   "metadata": {},
   "source": [
    "### 3.2. Polynomial Regression."
   ]
  },
  {
   "cell_type": "code",
   "execution_count": 83,
   "metadata": {},
   "outputs": [
    {
     "name": "stdout",
     "output_type": "stream",
     "text": [
      "Poly Degree 1:\n",
      "MSE: 0.10283337181759743\n",
      "RMSE: 0.32067642853443007\n",
      "MAE: 0.22140545438443604\n",
      "MAPE: 0.024382003851680302\n",
      "r2 score: 0.8193599443134778\n",
      " \n",
      "Poly Degree 2:\n",
      "MSE: 0.0831222246944356\n",
      "RMSE: 0.2883092518363495\n",
      "MAE: 0.19817829857903607\n",
      "MAPE: 0.02186302684966606\n",
      "r2 score: 0.8539851117181692\n",
      " \n",
      "Poly Degree 3:\n",
      "MSE: 0.06712286687427235\n",
      "RMSE: 0.2590808114744748\n",
      "MAE: 0.17848184691149366\n",
      "MAPE: 0.019700560148579176\n",
      "r2 score: 0.8820900433809109\n",
      " \n",
      "Poly Degree 4:\n",
      "MSE: 0.06774316627194182\n",
      "RMSE: 0.2602751741368005\n",
      "MAE: 0.16732133680211708\n",
      "MAPE: 0.018512688053845195\n",
      "r2 score: 0.881000407635658\n",
      " \n",
      "Poly Degree 5:\n",
      "MSE: 140362.6824689779\n",
      "RMSE: 374.65008003332645\n",
      "MAE: 5.4718085563788215\n",
      "MAPE: 0.5396860545739913\n",
      "r2 score: -246564.12112118545\n",
      " \n"
     ]
    }
   ],
   "source": [
    "# Polynomial Regression\n",
    "\n",
    "param = {}\n",
    "\n",
    "for degree in range(1, 6):\n",
    "\n",
    "    poly_feat = PolynomialFeatures(degree = degree)\n",
    "\n",
    "    poly_feat.fit(X_train)\n",
    "\n",
    "    X_train_poly = poly_feat.transform(X_train)\n",
    "    X_test_poly = poly_feat.transform(X_test)\n",
    "\n",
    "\n",
    "    gs_poly = GridSearchCV(estimator=LinearRegression(), param_grid=param, cv=5, scoring=\"neg_mean_squared_error\")\n",
    "\n",
    "    gs_poly.fit(X_train_poly, y_train)\n",
    "\n",
    "    y_pred = gs_poly.predict(X_test_poly)\n",
    "\n",
    "    print(f\"Poly Degree {degree}:\")\n",
    "\n",
    "    print(f\"MSE: {metrics.mean_squared_error(y_test, y_pred)}\")\n",
    "    print(f\"RMSE: {np.sqrt(metrics.mean_squared_error(y_test, y_pred))}\")\n",
    "    print(f\"MAE: {metrics.mean_absolute_error(y_test, y_pred)}\")\n",
    "    print(f\"MAPE: {metrics.mean_absolute_percentage_error(y_test, y_pred)}\")\n",
    "\n",
    "    print(f\"r2 score: {metrics.r2_score(y_test, y_pred)}\")\n",
    "    print(\" \")"
   ]
  },
  {
   "cell_type": "code",
   "execution_count": 85,
   "metadata": {},
   "outputs": [
    {
     "name": "stdout",
     "output_type": "stream",
     "text": [
      "Poly Degree 3:\n",
      "MSE: 0.06712286687427235\n",
      "RMSE: 0.2590808114744748\n",
      "MAE: 0.17848184691149366\n",
      "MAPE: 0.019700560148579176\n",
      "r2 score: 0.8820900433809109\n"
     ]
    }
   ],
   "source": [
    "# El mejor es el de grado 3:\n",
    "\n",
    "degree = 3\n",
    "poly_feat = PolynomialFeatures(degree = degree)\n",
    "\n",
    "poly_feat.fit(X_train)\n",
    "\n",
    "X_train_poly = poly_feat.transform(X_train)\n",
    "X_test_poly = poly_feat.transform(X_test)\n",
    "\n",
    "\n",
    "best_poly_model = GridSearchCV(estimator=LinearRegression(), param_grid=param, cv=5, scoring=\"neg_mean_squared_error\")\n",
    "\n",
    "best_poly_model.fit(X_train_poly, y_train)\n",
    "\n",
    "y_pred = best_poly_model.predict(X_test_poly)\n",
    "\n",
    "print(f\"Poly Degree {degree}:\")\n",
    "\n",
    "print(f\"MSE: {metrics.mean_squared_error(y_test, y_pred)}\")\n",
    "print(f\"RMSE: {np.sqrt(metrics.mean_squared_error(y_test, y_pred))}\")\n",
    "print(f\"MAE: {metrics.mean_absolute_error(y_test, y_pred)}\")\n",
    "print(f\"MAPE: {metrics.mean_absolute_percentage_error(y_test, y_pred)}\")\n",
    "\n",
    "print(f\"r2 score: {metrics.r2_score(y_test, y_pred)}\")"
   ]
  },
  {
   "cell_type": "markdown",
   "metadata": {},
   "source": [
    "### 3.3. RandomForest."
   ]
  },
  {
   "cell_type": "code",
   "execution_count": 86,
   "metadata": {},
   "outputs": [
    {
     "name": "stdout",
     "output_type": "stream",
     "text": [
      "MSE: 0.04360568955213216\n",
      "RMSE: 0.20881975374023445\n",
      "MAE: 0.1324196141107834\n",
      "MAPE: 0.014792353297635341\n",
      "r2 score: 0.9234009927932908\n"
     ]
    }
   ],
   "source": [
    "# RandomForest\n",
    "\n",
    "param = {\"n_estimators\":[50, 100, 300], \"max_depth\":[3, 5, 9, 15, 33], \"n_jobs\":[-1], \"random_state\":[42]}\n",
    "\n",
    "gs_rf = GridSearchCV(estimator=RandomForestRegressor(), param_grid=param, cv=5, scoring=\"neg_mean_squared_error\")\n",
    "\n",
    "gs_rf.fit(X_train, y_train)\n",
    "\n",
    "y_pred = gs_rf.predict(X_test)\n",
    "\n",
    "print(f\"MSE: {metrics.mean_squared_error(y_test, y_pred)}\")\n",
    "print(f\"RMSE: {np.sqrt(metrics.mean_squared_error(y_test, y_pred))}\")\n",
    "print(f\"MAE: {metrics.mean_absolute_error(y_test, y_pred)}\")\n",
    "print(f\"MAPE: {metrics.mean_absolute_percentage_error(y_test, y_pred)}\")\n",
    "\n",
    "print(f\"r2 score: {metrics.r2_score(y_test, y_pred)}\")"
   ]
  },
  {
   "cell_type": "code",
   "execution_count": 87,
   "metadata": {},
   "outputs": [
    {
     "data": {
      "text/plain": [
       "{'max_depth': 33, 'n_estimators': 300, 'n_jobs': -1, 'random_state': 42}"
      ]
     },
     "execution_count": 87,
     "metadata": {},
     "output_type": "execute_result"
    }
   ],
   "source": [
    "gs_rf.best_params_"
   ]
  },
  {
   "cell_type": "markdown",
   "metadata": {},
   "source": [
    "### 3.4. ADA Boost Regression."
   ]
  },
  {
   "cell_type": "code",
   "execution_count": 88,
   "metadata": {},
   "outputs": [
    {
     "name": "stdout",
     "output_type": "stream",
     "text": [
      "MSE: 0.10925070972987888\n",
      "RMSE: 0.3305309512434182\n",
      "MAE: 0.24644560289867365\n",
      "MAPE: 0.02689448584710669\n",
      "r2 score: 0.8080870641448691\n"
     ]
    }
   ],
   "source": [
    "# ADA\n",
    "\n",
    "param = {\"n_estimators\":[50, 100, 300], \"learning_rate\":np.arange(0.1, 1.1, 0.1), \"random_state\":[42]}\n",
    "\n",
    "gs_ada = GridSearchCV(estimator=AdaBoostRegressor(), param_grid=param, cv=5, scoring=\"neg_mean_squared_error\")\n",
    "\n",
    "gs_ada.fit(X_train, y_train)\n",
    "\n",
    "y_pred = gs_ada.predict(X_test)\n",
    "\n",
    "print(f\"MSE: {metrics.mean_squared_error(y_test, y_pred)}\")\n",
    "print(f\"RMSE: {np.sqrt(metrics.mean_squared_error(y_test, y_pred))}\")\n",
    "print(f\"MAE: {metrics.mean_absolute_error(y_test, y_pred)}\")\n",
    "print(f\"MAPE: {metrics.mean_absolute_percentage_error(y_test, y_pred)}\")\n",
    "\n",
    "print(f\"r2 score: {metrics.r2_score(y_test, y_pred)}\")"
   ]
  },
  {
   "cell_type": "code",
   "execution_count": 89,
   "metadata": {},
   "outputs": [
    {
     "data": {
      "text/plain": [
       "-0.11333781125350487"
      ]
     },
     "execution_count": 89,
     "metadata": {},
     "output_type": "execute_result"
    }
   ],
   "source": [
    "gs_ada.best_score_"
   ]
  },
  {
   "cell_type": "code",
   "execution_count": 90,
   "metadata": {},
   "outputs": [
    {
     "data": {
      "text/plain": [
       "{'learning_rate': 0.5, 'n_estimators': 50, 'random_state': 42}"
      ]
     },
     "execution_count": 90,
     "metadata": {},
     "output_type": "execute_result"
    }
   ],
   "source": [
    "gs_ada.best_params_"
   ]
  },
  {
   "cell_type": "markdown",
   "metadata": {},
   "source": [
    "### 3.5. Gradient Boosting Regression."
   ]
  },
  {
   "cell_type": "code",
   "execution_count": 91,
   "metadata": {},
   "outputs": [
    {
     "name": "stdout",
     "output_type": "stream",
     "text": [
      "MSE: 0.039103911995005604\n",
      "RMSE: 0.1977470909899956\n",
      "MAE: 0.13157889226463584\n",
      "MAPE: 0.01463488167401941\n",
      "r2 score: 0.931308944601485\n"
     ]
    }
   ],
   "source": [
    "# Gradient Boost\n",
    "\n",
    "param = {\"n_estimators\":[50, 100, 300], \"learning_rate\":np.arange(0.1, 1.1, 0.1), \"random_state\":[42]}\n",
    "\n",
    "gs_gb = GridSearchCV(estimator=GradientBoostingRegressor(), param_grid=param, cv=5, scoring=\"neg_mean_squared_error\")\n",
    "\n",
    "gs_gb.fit(X_train, y_train)\n",
    "\n",
    "y_pred = gs_gb.predict(X_test)\n",
    "\n",
    "print(f\"MSE: {metrics.mean_squared_error(y_test, y_pred)}\")\n",
    "print(f\"RMSE: {np.sqrt(metrics.mean_squared_error(y_test, y_pred))}\")\n",
    "print(f\"MAE: {metrics.mean_absolute_error(y_test, y_pred)}\")\n",
    "print(f\"MAPE: {metrics.mean_absolute_percentage_error(y_test, y_pred)}\")\n",
    "\n",
    "print(f\"r2 score: {metrics.r2_score(y_test, y_pred)}\")"
   ]
  },
  {
   "cell_type": "markdown",
   "metadata": {},
   "source": [
    "### 3.6. XGradient Boosting Regression."
   ]
  },
  {
   "cell_type": "code",
   "execution_count": 81,
   "metadata": {},
   "outputs": [
    {
     "name": "stdout",
     "output_type": "stream",
     "text": [
      "MSE: 0.03918003316121127\n",
      "RMSE: 0.1979394684271211\n",
      "MAE: 0.13209523939037449\n",
      "MAPE: 0.014707444219127029\n",
      "r2 score: 0.9311752279737087\n"
     ]
    }
   ],
   "source": [
    "# XG Boost\n",
    "\n",
    "param = {}\n",
    "\n",
    "gs_xgb = GridSearchCV(estimator=xgboost.XGBRegressor(), param_grid=param, cv=5, scoring=\"neg_mean_squared_error\")\n",
    "\n",
    "gs_xgb.fit(X_train, y_train)\n",
    "\n",
    "y_pred = gs_xgb.predict(X_test)\n",
    "\n",
    "print(f\"MSE: {metrics.mean_squared_error(y_test, y_pred)}\")\n",
    "print(f\"RMSE: {np.sqrt(metrics.mean_squared_error(y_test, y_pred))}\")\n",
    "print(f\"MAE: {metrics.mean_absolute_error(y_test, y_pred)}\")\n",
    "print(f\"MAPE: {metrics.mean_absolute_percentage_error(y_test, y_pred)}\")\n",
    "\n",
    "print(f\"r2 score: {metrics.r2_score(y_test, y_pred)}\")"
   ]
  },
  {
   "cell_type": "markdown",
   "metadata": {},
   "source": [
    "### 3.7. Voting."
   ]
  },
  {
   "cell_type": "code",
   "execution_count": 93,
   "metadata": {},
   "outputs": [
    {
     "name": "stdout",
     "output_type": "stream",
     "text": [
      "MSE: 0.04645409849846597\n",
      "RMSE: 0.2155321286919098\n",
      "MAE: 0.14491758511553005\n",
      "MAPE: 0.0160843142855933\n",
      "r2 score: 0.9183973957937059\n"
     ]
    }
   ],
   "source": [
    "# Voting\n",
    "\n",
    "# param = {\"estimators\":[gs_lin_reg.best_estimator_, best_poly_model.best_estimator_, gs_rf.best_estimator_, gs_ada.best_estimator_, gs_gb.best_estimator_, gs_xgb.best_estimator_],\n",
    "#          \"n_jobs\":[-1]}\n",
    "\n",
    "gs_voting = VotingRegressor(estimators=[(\"lin_reg\", gs_lin_reg.best_estimator_), (\"rf\", gs_rf.best_estimator_), (\"ada\", gs_ada.best_estimator_), (\"gb\", gs_gb.best_estimator_), (\"xgb\", gs_xgb.best_estimator_)],\n",
    "                            n_jobs=-1,)\n",
    "\n",
    "gs_voting.fit(X_train, y_train)\n",
    "\n",
    "y_pred = gs_voting.predict(X_test)\n",
    "\n",
    "print(f\"MSE: {metrics.mean_squared_error(y_test, y_pred)}\")\n",
    "print(f\"RMSE: {np.sqrt(metrics.mean_squared_error(y_test, y_pred))}\")\n",
    "print(f\"MAE: {metrics.mean_absolute_error(y_test, y_pred)}\")\n",
    "print(f\"MAPE: {metrics.mean_absolute_percentage_error(y_test, y_pred)}\")\n",
    "\n",
    "print(f\"r2 score: {metrics.r2_score(y_test, y_pred)}\")"
   ]
  },
  {
   "cell_type": "markdown",
   "metadata": {},
   "source": [
    "El Voting da peor. El modelo con mejores métricas es el Gradient Boosting Regressor, aunque el XGradient Boosting y el RandomForest también estaba cerca. "
   ]
  },
  {
   "cell_type": "markdown",
   "metadata": {},
   "source": [
    "## 4. Selección y análisis del mejor modelo."
   ]
  },
  {
   "cell_type": "markdown",
   "metadata": {},
   "source": [
    "### 4.1. Selección de modelo:"
   ]
  },
  {
   "cell_type": "markdown",
   "metadata": {},
   "source": [
    "Vamos a comparar en una tabla el resultado obtenido para el MSE de test en cada modelo, ya que es la métrica que estamos utilizando, con el fin de elegir el mejor:"
   ]
  },
  {
   "cell_type": "code",
   "execution_count": 94,
   "metadata": {},
   "outputs": [],
   "source": [
    "import pandas as pd"
   ]
  },
  {
   "cell_type": "code",
   "execution_count": 95,
   "metadata": {},
   "outputs": [
    {
     "data": {
      "text/html": [
       "<div>\n",
       "<style scoped>\n",
       "    .dataframe tbody tr th:only-of-type {\n",
       "        vertical-align: middle;\n",
       "    }\n",
       "\n",
       "    .dataframe tbody tr th {\n",
       "        vertical-align: top;\n",
       "    }\n",
       "\n",
       "    .dataframe thead th {\n",
       "        text-align: right;\n",
       "    }\n",
       "</style>\n",
       "<table border=\"1\" class=\"dataframe\">\n",
       "  <thead>\n",
       "    <tr style=\"text-align: right;\">\n",
       "      <th></th>\n",
       "      <th>Modelo</th>\n",
       "      <th>MAE</th>\n",
       "      <th>RMSE</th>\n",
       "      <th>r2 score</th>\n",
       "    </tr>\n",
       "  </thead>\n",
       "  <tbody>\n",
       "    <tr>\n",
       "      <th>0</th>\n",
       "      <td>XG Boost</td>\n",
       "      <td>0.1376</td>\n",
       "      <td>0.2135</td>\n",
       "      <td>0.9344</td>\n",
       "    </tr>\n",
       "    <tr>\n",
       "      <th>1</th>\n",
       "      <td>Gradient Boost</td>\n",
       "      <td>0.1407</td>\n",
       "      <td>0.2108</td>\n",
       "      <td>0.9361</td>\n",
       "    </tr>\n",
       "    <tr>\n",
       "      <th>2</th>\n",
       "      <td>RandomForest</td>\n",
       "      <td>0.1432</td>\n",
       "      <td>0.2290</td>\n",
       "      <td>0.9245</td>\n",
       "    </tr>\n",
       "    <tr>\n",
       "      <th>3</th>\n",
       "      <td>Voting</td>\n",
       "      <td>0.1561</td>\n",
       "      <td>0.2313</td>\n",
       "      <td>0.9230</td>\n",
       "    </tr>\n",
       "    <tr>\n",
       "      <th>4</th>\n",
       "      <td>Polynomial Regression (grado 5)</td>\n",
       "      <td>0.1714</td>\n",
       "      <td>0.2669</td>\n",
       "      <td>0.8975</td>\n",
       "    </tr>\n",
       "    <tr>\n",
       "      <th>5</th>\n",
       "      <td>Linear Regression</td>\n",
       "      <td>0.2387</td>\n",
       "      <td>0.3385</td>\n",
       "      <td>0.8351</td>\n",
       "    </tr>\n",
       "    <tr>\n",
       "      <th>6</th>\n",
       "      <td>ADA Boost</td>\n",
       "      <td>0.2685</td>\n",
       "      <td>0.3594</td>\n",
       "      <td>0.8142</td>\n",
       "    </tr>\n",
       "  </tbody>\n",
       "</table>\n",
       "</div>"
      ],
      "text/plain": [
       "                            Modelo     MAE    RMSE  r2 score\n",
       "0                         XG Boost  0.1376  0.2135    0.9344\n",
       "1                   Gradient Boost  0.1407  0.2108    0.9361\n",
       "2                     RandomForest  0.1432  0.2290    0.9245\n",
       "3                           Voting  0.1561  0.2313    0.9230\n",
       "4  Polynomial Regression (grado 5)  0.1714  0.2669    0.8975\n",
       "5                Linear Regression  0.2387  0.3385    0.8351\n",
       "6                        ADA Boost  0.2685  0.3594    0.8142"
      ]
     },
     "execution_count": 95,
     "metadata": {},
     "output_type": "execute_result"
    }
   ],
   "source": [
    "df_comp_modelos_log = pd.DataFrame({\"Modelo\":[\"Linear Regression\", \"Polynomial Regression (grado 5)\", \"RandomForest\", \"ADA Boost\", \"Gradient Boost\", \"XG Boost\", \"Voting\"],\n",
    "                                \"MAE\":[0.2387, 0.1714, 0.1432, 0.2685, 0.1407, 0.1376, 0.1561],\n",
    "                                \"RMSE\":[0.3385, 0.2669, 0.2290, 0.3594, 0.2108, 0.2135, 0.2313],\n",
    "                                \"r2 score\":[0.8351, 0.8975, 0.9245, 0.8142, 0.9361, 0.9344, 0.9230]})\n",
    "\n",
    "df_comp_modelos_log = df_comp_modelos_log.sort_values(\"MAE\", ascending=True).reset_index(drop=True)\n",
    "df_comp_modelos_log"
   ]
  },
  {
   "cell_type": "markdown",
   "metadata": {},
   "source": [
    "Vemos que el mejor modelo es el Gradient Boost, aunque está muy cerca el XGBoost. Vamos a quedarnos con el XGBoost, ya que su tiempo de entrenamiento es mucho menor y los resultados muy similares, y también con el RandomForest, ya que su funcionamiento es distinto y sus resultados están bastante cerca, por lo que puede sernos útil para comparar.\n",
    "\n",
    "Cabe destacar que el MAE representado en la tabla anterior no se corresponde con el error medio en la predicción del modelo sobre el precio del vehículo, ya que hemos aplicado una transformación logarítmica a este precio. Más adelante veremos el MAE y el MSE reales del mejor modelo, una vez aplicada la transformación inversa. "
   ]
  },
  {
   "cell_type": "markdown",
   "metadata": {},
   "source": [
    "Vamos a ver si podemos mejorar algo de estos dos modelos mirando la importancia de las columnas (features) y realizando alguna modificación. Comenzamos con el RandomForest:"
   ]
  },
  {
   "cell_type": "code",
   "execution_count": 96,
   "metadata": {},
   "outputs": [
    {
     "data": {
      "text/plain": [
       "array([0.02667992, 0.03551855, 0.0061509 , 0.58391437, 0.07740788,\n",
       "       0.25980371, 0.00369435, 0.00683032])"
      ]
     },
     "execution_count": 96,
     "metadata": {},
     "output_type": "execute_result"
    }
   ],
   "source": [
    "gs_rf.best_estimator_.feature_importances_"
   ]
  },
  {
   "cell_type": "markdown",
   "metadata": {},
   "source": [
    "Realizamos un dataframe con la importancia de las cada columna en el modelo RandomForest:"
   ]
  },
  {
   "cell_type": "code",
   "execution_count": 97,
   "metadata": {},
   "outputs": [
    {
     "data": {
      "text/html": [
       "<div>\n",
       "<style scoped>\n",
       "    .dataframe tbody tr th:only-of-type {\n",
       "        vertical-align: middle;\n",
       "    }\n",
       "\n",
       "    .dataframe tbody tr th {\n",
       "        vertical-align: top;\n",
       "    }\n",
       "\n",
       "    .dataframe thead th {\n",
       "        text-align: right;\n",
       "    }\n",
       "</style>\n",
       "<table border=\"1\" class=\"dataframe\">\n",
       "  <thead>\n",
       "    <tr style=\"text-align: right;\">\n",
       "      <th></th>\n",
       "      <th>Feature Importance</th>\n",
       "    </tr>\n",
       "  </thead>\n",
       "  <tbody>\n",
       "    <tr>\n",
       "      <th>anyo_vehiculo</th>\n",
       "      <td>0.583914</td>\n",
       "    </tr>\n",
       "    <tr>\n",
       "      <th>potencia</th>\n",
       "      <td>0.259804</td>\n",
       "    </tr>\n",
       "    <tr>\n",
       "      <th>kilometraje</th>\n",
       "      <td>0.077408</td>\n",
       "    </tr>\n",
       "    <tr>\n",
       "      <th>modelo</th>\n",
       "      <td>0.035519</td>\n",
       "    </tr>\n",
       "    <tr>\n",
       "      <th>marca</th>\n",
       "      <td>0.026680</td>\n",
       "    </tr>\n",
       "    <tr>\n",
       "      <th>tipo_cambio</th>\n",
       "      <td>0.006830</td>\n",
       "    </tr>\n",
       "    <tr>\n",
       "      <th>combustible</th>\n",
       "      <td>0.006151</td>\n",
       "    </tr>\n",
       "    <tr>\n",
       "      <th>num_puertas</th>\n",
       "      <td>0.003694</td>\n",
       "    </tr>\n",
       "  </tbody>\n",
       "</table>\n",
       "</div>"
      ],
      "text/plain": [
       "               Feature Importance\n",
       "anyo_vehiculo            0.583914\n",
       "potencia                 0.259804\n",
       "kilometraje              0.077408\n",
       "modelo                   0.035519\n",
       "marca                    0.026680\n",
       "tipo_cambio              0.006830\n",
       "combustible              0.006151\n",
       "num_puertas              0.003694"
      ]
     },
     "execution_count": 97,
     "metadata": {},
     "output_type": "execute_result"
    }
   ],
   "source": [
    "df_feat_imp_rf = pd.DataFrame(gs_rf.best_estimator_.feature_importances_, index=X.columns)\n",
    "df_feat_imp_rf = df_feat_imp_rf.rename(columns={0:\"Feature Importance\"}).sort_values(\"Feature Importance\", ascending=False)\n",
    "df_feat_imp_rf"
   ]
  },
  {
   "cell_type": "code",
   "execution_count": null,
   "metadata": {},
   "outputs": [
    {
     "data": {
      "image/png": "[encoded data removed]",
      "text/plain": [
       "<Figure size 1000x600 with 1 Axes>"
      ]
     },
     "metadata": {},
     "output_type": "display_data"
    }
   ],
   "source": [
    "import matplotlib.pyplot as plt\n",
    "import seaborn as sns\n",
    "\n",
    "plt.figure(figsize=(10, 6)) \n",
    "\n",
    "\n",
    "df_feat_imp_rf = df_feat_imp_rf.reset_index() \n",
    "df_feat_imp_rf.rename(columns={'index': 'Feature'}, inplace=True)\n",
    "\n",
    "sns.barplot(data=df_feat_imp_rf, x='Feature', y='Feature Importance', color=colors[0])\n",
    "\n",
    "plt.title(\"Importancia de cada feature en el modelo Random Forest\", fontsize=16)\n",
    "plt.xlabel(\"Feature\", fontsize=14)\n",
    "plt.ylabel(\"Importancia\", fontsize=14)\n",
    "\n",
    "plt.xticks(rotation=45)\n",
    "plt.tight_layout()\n",
    "plt.show()"
   ]
  },
  {
   "cell_type": "markdown",
   "metadata": {},
   "source": [
    "Se observa cómo las columnas con más importancia en el precio de un coche de segunda mano son, según nuestro modelo RandomForest, el año de matriculación, potencia del motor y kms recorridos. Las columnas de modelo y marca del coche también tienen algo de importancia, y las demás (tipo de cambio, combustible y número de puertas) tienen una importancia mucho menor.\n",
    "\n",
    "Por esto, vamos a probar a hacer un Random Forest, con la misma parametrización que el mejor de antes, pero quitando las columnas menos importantes: ```[\"tipo_cambio\", \"combustible\", \"num_puertas\"]```, a ver si mejora el modelo."
   ]
  },
  {
   "cell_type": "code",
   "execution_count": 99,
   "metadata": {},
   "outputs": [
    {
     "data": {
      "text/html": [
       "<div>\n",
       "<style scoped>\n",
       "    .dataframe tbody tr th:only-of-type {\n",
       "        vertical-align: middle;\n",
       "    }\n",
       "\n",
       "    .dataframe tbody tr th {\n",
       "        vertical-align: top;\n",
       "    }\n",
       "\n",
       "    .dataframe thead th {\n",
       "        text-align: right;\n",
       "    }\n",
       "</style>\n",
       "<table border=\"1\" class=\"dataframe\">\n",
       "  <thead>\n",
       "    <tr style=\"text-align: right;\">\n",
       "      <th></th>\n",
       "      <th>marca</th>\n",
       "      <th>modelo</th>\n",
       "      <th>anyo_vehiculo</th>\n",
       "      <th>kilometraje</th>\n",
       "      <th>potencia</th>\n",
       "    </tr>\n",
       "  </thead>\n",
       "  <tbody>\n",
       "    <tr>\n",
       "      <th>0</th>\n",
       "      <td>0</td>\n",
       "      <td>67</td>\n",
       "      <td>2023</td>\n",
       "      <td>46273</td>\n",
       "      <td>110.0</td>\n",
       "    </tr>\n",
       "    <tr>\n",
       "      <th>1</th>\n",
       "      <td>4</td>\n",
       "      <td>281</td>\n",
       "      <td>2022</td>\n",
       "      <td>103209</td>\n",
       "      <td>120.0</td>\n",
       "    </tr>\n",
       "    <tr>\n",
       "      <th>2</th>\n",
       "      <td>12</td>\n",
       "      <td>110</td>\n",
       "      <td>2020</td>\n",
       "      <td>110745</td>\n",
       "      <td>122.0</td>\n",
       "    </tr>\n",
       "    <tr>\n",
       "      <th>3</th>\n",
       "      <td>7</td>\n",
       "      <td>299</td>\n",
       "      <td>2022</td>\n",
       "      <td>63000</td>\n",
       "      <td>114.0</td>\n",
       "    </tr>\n",
       "    <tr>\n",
       "      <th>4</th>\n",
       "      <td>7</td>\n",
       "      <td>401</td>\n",
       "      <td>2022</td>\n",
       "      <td>62765</td>\n",
       "      <td>140.0</td>\n",
       "    </tr>\n",
       "    <tr>\n",
       "      <th>...</th>\n",
       "      <td>...</td>\n",
       "      <td>...</td>\n",
       "      <td>...</td>\n",
       "      <td>...</td>\n",
       "      <td>...</td>\n",
       "    </tr>\n",
       "    <tr>\n",
       "      <th>40064</th>\n",
       "      <td>5</td>\n",
       "      <td>454</td>\n",
       "      <td>2012</td>\n",
       "      <td>195000</td>\n",
       "      <td>136.0</td>\n",
       "    </tr>\n",
       "    <tr>\n",
       "      <th>40065</th>\n",
       "      <td>7</td>\n",
       "      <td>401</td>\n",
       "      <td>2016</td>\n",
       "      <td>79983</td>\n",
       "      <td>110.0</td>\n",
       "    </tr>\n",
       "    <tr>\n",
       "      <th>40066</th>\n",
       "      <td>7</td>\n",
       "      <td>401</td>\n",
       "      <td>2018</td>\n",
       "      <td>88644</td>\n",
       "      <td>130.0</td>\n",
       "    </tr>\n",
       "    <tr>\n",
       "      <th>40067</th>\n",
       "      <td>7</td>\n",
       "      <td>504</td>\n",
       "      <td>2018</td>\n",
       "      <td>36463</td>\n",
       "      <td>130.0</td>\n",
       "    </tr>\n",
       "    <tr>\n",
       "      <th>40068</th>\n",
       "      <td>4</td>\n",
       "      <td>281</td>\n",
       "      <td>2018</td>\n",
       "      <td>47000</td>\n",
       "      <td>140.0</td>\n",
       "    </tr>\n",
       "  </tbody>\n",
       "</table>\n",
       "<p>40069 rows × 5 columns</p>\n",
       "</div>"
      ],
      "text/plain": [
       "       marca  modelo  anyo_vehiculo  kilometraje  potencia\n",
       "0          0      67           2023        46273     110.0\n",
       "1          4     281           2022       103209     120.0\n",
       "2         12     110           2020       110745     122.0\n",
       "3          7     299           2022        63000     114.0\n",
       "4          7     401           2022        62765     140.0\n",
       "...      ...     ...            ...          ...       ...\n",
       "40064      5     454           2012       195000     136.0\n",
       "40065      7     401           2016        79983     110.0\n",
       "40066      7     401           2018        88644     130.0\n",
       "40067      7     504           2018        36463     130.0\n",
       "40068      4     281           2018        47000     140.0\n",
       "\n",
       "[40069 rows x 5 columns]"
      ]
     },
     "execution_count": 99,
     "metadata": {},
     "output_type": "execute_result"
    }
   ],
   "source": [
    "# RF 2\n",
    "\n",
    "X_rf_2 = X.drop(columns=[\"tipo_cambio\", \"combustible\", \"num_puertas\"])\n",
    "X_rf_2"
   ]
  },
  {
   "cell_type": "code",
   "execution_count": 100,
   "metadata": {},
   "outputs": [
    {
     "name": "stdout",
     "output_type": "stream",
     "text": [
      "(32055, 5)\n",
      "(8014, 5)\n",
      "(32055,)\n",
      "(8014,)\n"
     ]
    }
   ],
   "source": [
    "from sklearn.model_selection import train_test_split\n",
    "\n",
    "X_train_rf2, X_test_rf2, y_train_rf2, y_test_rf2 = train_test_split(X_rf_2, y, test_size=0.2, random_state=42)\n",
    "\n",
    "print(X_train_rf2.shape)\n",
    "print(X_test_rf2.shape)\n",
    "print(y_train_rf2.shape)\n",
    "print(y_test_rf2.shape)"
   ]
  },
  {
   "cell_type": "code",
   "execution_count": 101,
   "metadata": {},
   "outputs": [],
   "source": [
    "from sklearn.preprocessing import MinMaxScaler\n",
    "\n",
    "scaler = MinMaxScaler()\n",
    "\n",
    "scaler.fit(X_train_rf2)\n",
    "X_train_rf2 = scaler.transform(X_train_rf2)\n",
    "X_test_rf2 = scaler.transform(X_test_rf2)"
   ]
  },
  {
   "cell_type": "code",
   "execution_count": 102,
   "metadata": {},
   "outputs": [
    {
     "name": "stdout",
     "output_type": "stream",
     "text": [
      "MSE: 0.045789410745480624\n",
      "RMSE: 0.21398460399169053\n",
      "MAE: 0.1363822237600209\n",
      "MAPE: 0.015237199018859159\n",
      "r2 score: 0.9195650053993346\n"
     ]
    }
   ],
   "source": [
    "# RandomForest\n",
    "\n",
    "# param = {\"n_estimators\":[50, 100, 300], \"max_depth\":[3, 5, 9, 15, 33], \"n_jobs\":[-1], \"random_state\":[42]}\n",
    "\n",
    "rf2 = RandomForestRegressor(n_estimators=300, max_depth=33, n_jobs=-1, random_state=42)\n",
    "\n",
    "rf2.fit(X_train_rf2, y_train_rf2)\n",
    "\n",
    "y_pred_rf2 = rf2.predict(X_test_rf2)\n",
    "\n",
    "print(f\"MSE: {metrics.mean_squared_error(y_test_rf2, y_pred_rf2)}\")\n",
    "print(f\"RMSE: {np.sqrt(metrics.mean_squared_error(y_test_rf2, y_pred_rf2))}\")\n",
    "print(f\"MAE: {metrics.mean_absolute_error(y_test_rf2, y_pred_rf2)}\")\n",
    "print(f\"MAPE: {metrics.mean_absolute_percentage_error(y_test_rf2, y_pred_rf2)}\")\n",
    "\n",
    "print(f\"r2 score: {metrics.r2_score(y_test_rf2, y_pred_rf2)}\")"
   ]
  },
  {
   "cell_type": "markdown",
   "metadata": {},
   "source": [
    "### 4.2. Análisis del modelo definitivo:"
   ]
  },
  {
   "cell_type": "markdown",
   "metadata": {},
   "source": [
    "Obtenemos un MSE más elevado que antes, por lo que no mejora. Nos quedamos entonces el XG Boost, que es el modelo con el MSE más bajo y el más rápido de entrenar. Vamos a ver la importancia de las features en este modelo:"
   ]
  },
  {
   "cell_type": "code",
   "execution_count": 82,
   "metadata": {},
   "outputs": [
    {
     "name": "stdout",
     "output_type": "stream",
     "text": [
      "MSE: 0.03918003316121127\n",
      "RMSE: 0.1979394684271211\n",
      "MAE: 0.13209523939037449\n",
      "MAPE: 0.014707444219127029\n",
      "r2 score: 0.9311752279737087\n"
     ]
    }
   ],
   "source": [
    "xgb_model = xgboost.XGBRegressor()\n",
    "\n",
    "xgb_model.fit(X_train, y_train)\n",
    "\n",
    "y_pred = xgb_model.predict(X_test)\n",
    "\n",
    "print(f\"MSE: {metrics.mean_squared_error(y_test, y_pred)}\")\n",
    "print(f\"RMSE: {np.sqrt(metrics.mean_squared_error(y_test, y_pred))}\")\n",
    "print(f\"MAE: {metrics.mean_absolute_error(y_test, y_pred)}\")\n",
    "print(f\"MAPE: {metrics.mean_absolute_percentage_error(y_test, y_pred)}\")\n",
    "\n",
    "print(f\"r2 score: {metrics.r2_score(y_test, y_pred)}\")"
   ]
  },
  {
   "cell_type": "code",
   "execution_count": 83,
   "metadata": {},
   "outputs": [
    {
     "data": {
      "text/plain": [
       "Index(['marca', 'modelo', 'combustible', 'anyo_vehiculo', 'kilometraje',\n",
       "       'potencia', 'num_puertas', 'tipo_cambio'],\n",
       "      dtype='object')"
      ]
     },
     "execution_count": 83,
     "metadata": {},
     "output_type": "execute_result"
    }
   ],
   "source": [
    "X.columns"
   ]
  },
  {
   "cell_type": "code",
   "execution_count": 84,
   "metadata": {},
   "outputs": [
    {
     "data": {
      "text/plain": [
       "array([0.03992769, 0.01954857, 0.02404037, 0.4314999 , 0.04179911,\n",
       "       0.18714537, 0.01969847, 0.23634051], dtype=float32)"
      ]
     },
     "execution_count": 84,
     "metadata": {},
     "output_type": "execute_result"
    }
   ],
   "source": [
    "xgb_model.feature_importances_"
   ]
  },
  {
   "cell_type": "code",
   "execution_count": 85,
   "metadata": {},
   "outputs": [
    {
     "data": {
      "text/html": [
       "<div>\n",
       "<style scoped>\n",
       "    .dataframe tbody tr th:only-of-type {\n",
       "        vertical-align: middle;\n",
       "    }\n",
       "\n",
       "    .dataframe tbody tr th {\n",
       "        vertical-align: top;\n",
       "    }\n",
       "\n",
       "    .dataframe thead th {\n",
       "        text-align: right;\n",
       "    }\n",
       "</style>\n",
       "<table border=\"1\" class=\"dataframe\">\n",
       "  <thead>\n",
       "    <tr style=\"text-align: right;\">\n",
       "      <th></th>\n",
       "      <th>Feature Importance</th>\n",
       "    </tr>\n",
       "  </thead>\n",
       "  <tbody>\n",
       "    <tr>\n",
       "      <th>anyo_vehiculo</th>\n",
       "      <td>0.431500</td>\n",
       "    </tr>\n",
       "    <tr>\n",
       "      <th>tipo_cambio</th>\n",
       "      <td>0.236341</td>\n",
       "    </tr>\n",
       "    <tr>\n",
       "      <th>potencia</th>\n",
       "      <td>0.187145</td>\n",
       "    </tr>\n",
       "    <tr>\n",
       "      <th>kilometraje</th>\n",
       "      <td>0.041799</td>\n",
       "    </tr>\n",
       "    <tr>\n",
       "      <th>marca</th>\n",
       "      <td>0.039928</td>\n",
       "    </tr>\n",
       "    <tr>\n",
       "      <th>combustible</th>\n",
       "      <td>0.024040</td>\n",
       "    </tr>\n",
       "    <tr>\n",
       "      <th>num_puertas</th>\n",
       "      <td>0.019698</td>\n",
       "    </tr>\n",
       "    <tr>\n",
       "      <th>modelo</th>\n",
       "      <td>0.019549</td>\n",
       "    </tr>\n",
       "  </tbody>\n",
       "</table>\n",
       "</div>"
      ],
      "text/plain": [
       "               Feature Importance\n",
       "anyo_vehiculo            0.431500\n",
       "tipo_cambio              0.236341\n",
       "potencia                 0.187145\n",
       "kilometraje              0.041799\n",
       "marca                    0.039928\n",
       "combustible              0.024040\n",
       "num_puertas              0.019698\n",
       "modelo                   0.019549"
      ]
     },
     "execution_count": 85,
     "metadata": {},
     "output_type": "execute_result"
    }
   ],
   "source": [
    "df_feat_imp = pd.DataFrame(xgb_model.feature_importances_, index=X.columns)\n",
    "df_feat_imp = df_feat_imp.rename(columns={0:\"Feature Importance\"}).sort_values(\"Feature Importance\", ascending=False)\n",
    "df_feat_imp"
   ]
  },
  {
   "cell_type": "code",
   "execution_count": 86,
   "metadata": {},
   "outputs": [
    {
     "data": {
      "image/png": "[encoded data removed]",
      "text/plain": [
       "<Figure size 1000x600 with 1 Axes>"
      ]
     },
     "metadata": {},
     "output_type": "display_data"
    }
   ],
   "source": [
    "import matplotlib.pyplot as plt\n",
    "import seaborn as sns\n",
    "\n",
    "plt.figure(figsize=(10, 6))\n",
    "\n",
    "df_feat_imp = df_feat_imp.reset_index()\n",
    "df_feat_imp.rename(columns={'index': 'Feature'}, inplace=True)\n",
    "\n",
    "sns.barplot(data=df_feat_imp, x='Feature', y='Feature Importance', color=colors[0])\n",
    "\n",
    "plt.title(\"Importancia de cada feature en el modelo XGBoost\", fontsize=16)\n",
    "plt.xlabel(\"Feature\", fontsize=14)\n",
    "plt.ylabel(\"Importancia\", fontsize=14)\n",
    "\n",
    "plt.xticks(rotation=45)\n",
    "plt.tight_layout()\n",
    "plt.show()\n"
   ]
  },
  {
   "cell_type": "code",
   "execution_count": 119,
   "metadata": {},
   "outputs": [
    {
     "data": {
      "image/png": "[encoded data removed]",
      "text/plain": [
       "<Figure size 800x900 with 2 Axes>"
      ]
     },
     "metadata": {},
     "output_type": "display_data"
    }
   ],
   "source": [
    "# Comparativa entre importancias del Randomforest y XG Boost:\n",
    "\n",
    "import matplotlib.pyplot as plt\n",
    "import seaborn as sns\n",
    "\n",
    "# Asegúrate de que estos DataFrames ya tienen una columna 'Feature'\n",
    "# Si no, usa reset_index() solo si el índice representa las features\n",
    "\n",
    "# Crear la figura y los subplots\n",
    "fig, axes = plt.subplots(nrows=2, ncols=1, figsize=(8, 9))\n",
    "\n",
    "# Gráfico 1 - RandomForest\n",
    "sns.barplot(data=df_feat_imp_rf, x='Feature', y='Feature Importance', color=colors[0], ax=axes[0])\n",
    "axes[0].set_title(\"Importancia de cada característica en el modelo Random Forest\", fontsize=18)\n",
    "axes[0].set_xlabel(\"Característica\", fontsize=14)\n",
    "axes[0].set_ylabel(\"Importancia\", fontsize=14)\n",
    "axes[0].tick_params(axis='x', rotation=45)\n",
    "\n",
    "# Gráfico 2 - XGBoost\n",
    "sns.barplot(data=df_feat_imp, x='Feature', y='Feature Importance', color=colors[0], ax=axes[1])\n",
    "axes[1].set_title(\"Importancia de cada característica en el modelo XGBoost\", fontsize=18)\n",
    "axes[1].set_xlabel(\"Característica\", fontsize=14)\n",
    "axes[1].set_ylabel(\"Importancia\", fontsize=14)\n",
    "axes[1].tick_params(axis='x', rotation=45)\n",
    "\n",
    "plt.tight_layout()\n",
    "plt.subplots_adjust(hspace=0.7)  # aumenta el espacio vertical entre subplots\n",
    "plt.show()\n"
   ]
  },
  {
   "cell_type": "markdown",
   "metadata": {},
   "source": [
    "Ahora observamos que las columnas más importantes siguen siendo ```\"anyo_vehiculo\"``` y ```\"potencia\"```. Sin embargo, el XGBoost le da mucha más importancia a la columna ```\"tipo_cambio\"``` que el RandomForest previo, y menos a la columna ```\"kilometraje\"```. Además la importancia de las columnas menos importantes es más elevada que en el anterior modelo, por lo que no descartaremos ninguna de estas columnas.\n",
    "\n",
    "Vamos a deshacer la transformación que realizamos en la columna ```\"precio\"``` (target) para ver la dimensión real de nuestras métricas:"
   ]
  },
  {
   "cell_type": "code",
   "execution_count": 87,
   "metadata": {},
   "outputs": [
    {
     "name": "stdout",
     "output_type": "stream",
     "text": [
      "MSE: 7025886.811733203\n",
      "RMSE: 2650.638944053528\n",
      "MAE: 1682.0332942893149\n",
      "MAPE: 0.1376904105939662\n",
      "r2 score: 0.9264542347829591\n"
     ]
    }
   ],
   "source": [
    "y_pred = xgb_model.predict(X_test)\n",
    "\n",
    "# Deshacemos la transformación logarítmica:\n",
    "y_test_final = np.exp(y_test)\n",
    "y_pred_final = np.exp(y_pred)\n",
    "\n",
    "# Claculamos las métricas reales:\n",
    "print(f\"MSE: {metrics.mean_squared_error(y_test_final, y_pred_final)}\")\n",
    "print(f\"RMSE: {np.sqrt(metrics.mean_squared_error(y_test_final, y_pred_final))}\")\n",
    "print(f\"MAE: {metrics.mean_absolute_error(y_test_final, y_pred_final)}\")\n",
    "print(f\"MAPE: {metrics.mean_absolute_percentage_error(y_test_final, y_pred_final)}\")\n",
    "\n",
    "print(f\"r2 score: {metrics.r2_score(y_test_final, y_pred_final)}\")"
   ]
  },
  {
   "cell_type": "markdown",
   "metadata": {},
   "source": [
    "Vemos que el MAE = 1.682 euros. Esto significa que para cada vehículo nos podemos ir esa cantidad de dinero de media en la predicción. \n",
    "\n",
    "El RMSE es algo mayor, 2.650 euros, lo cual se debe a que existen unos pocos coches cuyo error es alto, y al hacer el error cuadrático este error se hace más grande.\n",
    "\n",
    "En cuanto al MAPE, nos indica que nuestro modelo tiene un % de error medio del 14.05% sobre el precio del vehículo, el cual es algo elevado."
   ]
  },
  {
   "cell_type": "markdown",
   "metadata": {},
   "source": [
    "Vamos a exportar el modelo final:"
   ]
  },
  {
   "cell_type": "code",
   "execution_count": 88,
   "metadata": {},
   "outputs": [],
   "source": [
    "import pickle\n",
    "\n",
    "# Guardamos el modelo final:\n",
    "\n",
    "with open(\"../include/model/modelo_final.pkl\", 'wb') as archivo_salida:\n",
    "    pickle.dump(xgb_model, archivo_salida)\n"
   ]
  },
  {
   "cell_type": "markdown",
   "metadata": {},
   "source": [
    "Creamos una función que nos permita meter nuevos inputs en el formato de nuestro DataFrame inicial y extraer las variables para pasar directamente al modelo.\n",
    "\n",
    "Además, creamos otras dos funciones: una para realizar predicciones y otra para destransformar la columna target ```\"precio\"```."
   ]
  },
  {
   "cell_type": "code",
   "execution_count": 122,
   "metadata": {},
   "outputs": [],
   "source": [
    "# Función para transformar un df con nuevos inputs de la base de datos en X, y para pasar al modelo.\n",
    "\n",
    "from sklearn.preprocessing import LabelEncoder\n",
    "from sklearn.preprocessing import MinMaxScaler\n",
    "import pickle\n",
    "\n",
    "\n",
    "\n",
    "def new_input_clean(input_df):\n",
    "    '''\n",
    "    Introduce los nuevos inputs en formato DataFrame con las columnas iniciales y devuelve los datos listos para introducirlos al modelo.\n",
    "\n",
    "    El input DataFrame debe contener al menos las columnas (['marca', 'modelo', 'combustible', 'anyo_vehiculo', 'kilometraje', 'potencia', \n",
    "    'num_puertas', 'tipo_cambio'])\n",
    "    '''\n",
    "\n",
    "    excepciones = ['marca', 'modelo', 'precio', 'combustible', 'anyo_vehiculo', 'kilometraje', 'potencia', 'num_puertas', 'tipo_cambio']\n",
    "\n",
    "    # Reemplazar NaN con 0 excepto en las columnas de excepciones (las que utiliza el modelo)\n",
    "    input_df = input_df.fillna({col: 0 for col in input_df.columns if col not in excepciones})\n",
    "\n",
    "\n",
    "    input_df = input_df[excepciones]\n",
    "    input_df = input_df.drop(index=(input_df.loc[df.loc[:, \"potencia\"].isna() == True, :]).index)\n",
    "    input_df = input_df.drop(index=(input_df.loc[df.loc[:, \"tipo_cambio\"].isna() == True, :]).index)\n",
    "    input_df = input_df.dropna()\n",
    "\n",
    "    # Importamos los encodings hechos antes:\n",
    "    encoder_marca = pickle.load(open(\"../include/utils/label_encoder_marca.pkl\", 'rb'))\n",
    "    encoder_modelo = pickle.load(open(\"../include/utils/label_encoder_modelo.pkl\", 'rb'))\n",
    "\n",
    "    list(encoder_marca.classes_)\n",
    "    input_df[\"marca\"] = encoder_marca.transform(input_df[\"marca\"])\n",
    "\n",
    "    list(encoder_modelo.classes_)\n",
    "    input_df[\"modelo\"] = encoder_modelo.transform(input_df[\"modelo\"])\n",
    "\n",
    "    tipos_combustible = {\"Diésel\" : 0,\n",
    "            \"Gasolina\" : 1,\n",
    "            \"Híbrido\" : 2,\n",
    "            \"Eléctrico\" : 3,\n",
    "            \"Híbrido enchufable\" : 4, \n",
    "            \"Gas licuado (GLP)\" : 5,\n",
    "            \"Gas natural (CNG)\" : 6}\n",
    "                     \n",
    "    input_df[\"combustible\"] = input_df[\"combustible\"].map(tipos_combustible)\n",
    "\n",
    "    num_puertas = {5: 5,\n",
    "            4 : 5,\n",
    "            3 : 3,\n",
    "            2 : 3}\n",
    "    \n",
    "    input_df[\"num_puertas\"] = input_df[\"num_puertas\"].map(num_puertas)\n",
    "    \n",
    "    input_df[\"tipo_cambio\"] = input_df[\"tipo_cambio\"].apply(lambda x: 0 if x == \"Manual\" else 1)\n",
    "\n",
    "    input_df[\"precio\"] = np.log(input_df[\"precio\"])\n",
    "\n",
    "    X_input = input_df.drop(\"precio\", axis=1)\n",
    "    y_input = input_df[\"precio\"]\n",
    "    \n",
    "\n",
    "    scaler = pickle.load(open(\"../include/utils/scaler.pkl\", 'rb'))\n",
    "\n",
    "    X_input = scaler.transform(X_input)\n",
    "\n",
    "    return [X_input, y_input]\n",
    "\n",
    "# Función para hacer predicciones\n",
    "\n",
    "def predict(loaded_model, X_input):\n",
    "    return loaded_model.predict(X_input)\n",
    "\n",
    "# Función para deshacer la transformación y devolver el precio:\n",
    "\n",
    "import numpy as np\n",
    "\n",
    "def destransformar_y(y_out):\n",
    "    return np.exp(y_out)"
   ]
  },
  {
   "cell_type": "markdown",
   "metadata": {},
   "source": [
    "Vamos ahora a cargar el modelo y probarlo con un DataFrame de prueba con coches, para ver el precio que predice. "
   ]
  },
  {
   "cell_type": "code",
   "execution_count": 123,
   "metadata": {},
   "outputs": [],
   "source": [
    "import pickle\n",
    "\n",
    "loaded_model = pickle.load(open(\"../include/model/modelo_final.pkl\", 'rb'))"
   ]
  },
  {
   "cell_type": "code",
   "execution_count": 124,
   "metadata": {},
   "outputs": [
    {
     "data": {
      "text/html": [
       "<style>#sk-container-id-1 {color: black;}#sk-container-id-1 pre{padding: 0;}#sk-container-id-1 div.sk-toggleable {background-color: white;}#sk-container-id-1 label.sk-toggleable__label {cursor: pointer;display: block;width: 100%;margin-bottom: 0;padding: 0.3em;box-sizing: border-box;text-align: center;}#sk-container-id-1 label.sk-toggleable__label-arrow:before {content: \"▸\";float: left;margin-right: 0.25em;color: #696969;}#sk-container-id-1 label.sk-toggleable__label-arrow:hover:before {color: black;}#sk-container-id-1 div.sk-estimator:hover label.sk-toggleable__label-arrow:before {color: black;}#sk-container-id-1 div.sk-toggleable__content {max-height: 0;max-width: 0;overflow: hidden;text-align: left;background-color: #f0f8ff;}#sk-container-id-1 div.sk-toggleable__content pre {margin: 0.2em;color: black;border-radius: 0.25em;background-color: #f0f8ff;}#sk-container-id-1 input.sk-toggleable__control:checked~div.sk-toggleable__content {max-height: 200px;max-width: 100%;overflow: auto;}#sk-container-id-1 input.sk-toggleable__control:checked~label.sk-toggleable__label-arrow:before {content: \"▾\";}#sk-container-id-1 div.sk-estimator input.sk-toggleable__control:checked~label.sk-toggleable__label {background-color: #d4ebff;}#sk-container-id-1 div.sk-label input.sk-toggleable__control:checked~label.sk-toggleable__label {background-color: #d4ebff;}#sk-container-id-1 input.sk-hidden--visually {border: 0;clip: rect(1px 1px 1px 1px);clip: rect(1px, 1px, 1px, 1px);height: 1px;margin: -1px;overflow: hidden;padding: 0;position: absolute;width: 1px;}#sk-container-id-1 div.sk-estimator {font-family: monospace;background-color: #f0f8ff;border: 1px dotted black;border-radius: 0.25em;box-sizing: border-box;margin-bottom: 0.5em;}#sk-container-id-1 div.sk-estimator:hover {background-color: #d4ebff;}#sk-container-id-1 div.sk-parallel-item::after {content: \"\";width: 100%;border-bottom: 1px solid gray;flex-grow: 1;}#sk-container-id-1 div.sk-label:hover label.sk-toggleable__label {background-color: #d4ebff;}#sk-container-id-1 div.sk-serial::before {content: \"\";position: absolute;border-left: 1px solid gray;box-sizing: border-box;top: 0;bottom: 0;left: 50%;z-index: 0;}#sk-container-id-1 div.sk-serial {display: flex;flex-direction: column;align-items: center;background-color: white;padding-right: 0.2em;padding-left: 0.2em;position: relative;}#sk-container-id-1 div.sk-item {position: relative;z-index: 1;}#sk-container-id-1 div.sk-parallel {display: flex;align-items: stretch;justify-content: center;background-color: white;position: relative;}#sk-container-id-1 div.sk-item::before, #sk-container-id-1 div.sk-parallel-item::before {content: \"\";position: absolute;border-left: 1px solid gray;box-sizing: border-box;top: 0;bottom: 0;left: 50%;z-index: -1;}#sk-container-id-1 div.sk-parallel-item {display: flex;flex-direction: column;z-index: 1;position: relative;background-color: white;}#sk-container-id-1 div.sk-parallel-item:first-child::after {align-self: flex-end;width: 50%;}#sk-container-id-1 div.sk-parallel-item:last-child::after {align-self: flex-start;width: 50%;}#sk-container-id-1 div.sk-parallel-item:only-child::after {width: 0;}#sk-container-id-1 div.sk-dashed-wrapped {border: 1px dashed gray;margin: 0 0.4em 0.5em 0.4em;box-sizing: border-box;padding-bottom: 0.4em;background-color: white;}#sk-container-id-1 div.sk-label label {font-family: monospace;font-weight: bold;display: inline-block;line-height: 1.2em;}#sk-container-id-1 div.sk-label-container {text-align: center;}#sk-container-id-1 div.sk-container {/* jupyter's `normalize.less` sets `[hidden] { display: none; }` but bootstrap.min.css set `[hidden] { display: none !important; }` so we also need the `!important` here to be able to override the default hidden behavior on the sphinx rendered scikit-learn.org. See: https://github.com/scikit-learn/scikit-learn/issues/21755 */display: inline-block !important;position: relative;}#sk-container-id-1 div.sk-text-repr-fallback {display: none;}</style><div id=\"sk-container-id-1\" class=\"sk-top-container\"><div class=\"sk-text-repr-fallback\"><pre>XGBRegressor(base_score=None, booster=None, callbacks=None,\n",
       "             colsample_bylevel=None, colsample_bynode=None,\n",
       "             colsample_bytree=None, device=None, early_stopping_rounds=None,\n",
       "             enable_categorical=False, eval_metric=None, feature_types=None,\n",
       "             feature_weights=None, gamma=None, grow_policy=None,\n",
       "             importance_type=None, interaction_constraints=None,\n",
       "             learning_rate=None, max_bin=None, max_cat_threshold=None,\n",
       "             max_cat_to_onehot=None, max_delta_step=None, max_depth=None,\n",
       "             max_leaves=None, min_child_weight=None, missing=nan,\n",
       "             monotone_constraints=None, multi_strategy=None, n_estimators=None,\n",
       "             n_jobs=None, num_parallel_tree=None, ...)</pre><b>In a Jupyter environment, please rerun this cell to show the HTML representation or trust the notebook. <br />On GitHub, the HTML representation is unable to render, please try loading this page with nbviewer.org.</b></div><div class=\"sk-container\" hidden><div class=\"sk-item\"><div class=\"sk-estimator sk-toggleable\"><input class=\"sk-toggleable__control sk-hidden--visually\" id=\"sk-estimator-id-1\" type=\"checkbox\" checked><label for=\"sk-estimator-id-1\" class=\"sk-toggleable__label sk-toggleable__label-arrow\">XGBRegressor</label><div class=\"sk-toggleable__content\"><pre>XGBRegressor(base_score=None, booster=None, callbacks=None,\n",
       "             colsample_bylevel=None, colsample_bynode=None,\n",
       "             colsample_bytree=None, device=None, early_stopping_rounds=None,\n",
       "             enable_categorical=False, eval_metric=None, feature_types=None,\n",
       "             feature_weights=None, gamma=None, grow_policy=None,\n",
       "             importance_type=None, interaction_constraints=None,\n",
       "             learning_rate=None, max_bin=None, max_cat_threshold=None,\n",
       "             max_cat_to_onehot=None, max_delta_step=None, max_depth=None,\n",
       "             max_leaves=None, min_child_weight=None, missing=nan,\n",
       "             monotone_constraints=None, multi_strategy=None, n_estimators=None,\n",
       "             n_jobs=None, num_parallel_tree=None, ...)</pre></div></div></div></div></div>"
      ],
      "text/plain": [
       "XGBRegressor(base_score=None, booster=None, callbacks=None,\n",
       "             colsample_bylevel=None, colsample_bynode=None,\n",
       "             colsample_bytree=None, device=None, early_stopping_rounds=None,\n",
       "             enable_categorical=False, eval_metric=None, feature_types=None,\n",
       "             feature_weights=None, gamma=None, grow_policy=None,\n",
       "             importance_type=None, interaction_constraints=None,\n",
       "             learning_rate=None, max_bin=None, max_cat_threshold=None,\n",
       "             max_cat_to_onehot=None, max_delta_step=None, max_depth=None,\n",
       "             max_leaves=None, min_child_weight=None, missing=nan,\n",
       "             monotone_constraints=None, multi_strategy=None, n_estimators=None,\n",
       "             n_jobs=None, num_parallel_tree=None, ...)"
      ]
     },
     "execution_count": 124,
     "metadata": {},
     "output_type": "execute_result"
    }
   ],
   "source": [
    "loaded_model"
   ]
  },
  {
   "cell_type": "code",
   "execution_count": 126,
   "metadata": {},
   "outputs": [
    {
     "data": {
      "text/html": [
       "<div>\n",
       "<style scoped>\n",
       "    .dataframe tbody tr th:only-of-type {\n",
       "        vertical-align: middle;\n",
       "    }\n",
       "\n",
       "    .dataframe tbody tr th {\n",
       "        vertical-align: top;\n",
       "    }\n",
       "\n",
       "    .dataframe thead th {\n",
       "        text-align: right;\n",
       "    }\n",
       "</style>\n",
       "<table border=\"1\" class=\"dataframe\">\n",
       "  <thead>\n",
       "    <tr style=\"text-align: right;\">\n",
       "      <th></th>\n",
       "      <th>pk_anuncio_id</th>\n",
       "      <th>marca</th>\n",
       "      <th>modelo</th>\n",
       "      <th>precio</th>\n",
       "      <th>combustible</th>\n",
       "      <th>anyo_vehiculo</th>\n",
       "      <th>kilometraje</th>\n",
       "      <th>potencia</th>\n",
       "      <th>num_puertas</th>\n",
       "      <th>num_plazas</th>\n",
       "      <th>...</th>\n",
       "      <th>tipo_vehiculo</th>\n",
       "      <th>cilindrada_motor</th>\n",
       "      <th>color</th>\n",
       "      <th>provincia</th>\n",
       "      <th>etiqueta_eco</th>\n",
       "      <th>origen_anuncio</th>\n",
       "      <th>fecha_publicacion</th>\n",
       "      <th>anyomes_publicacion</th>\n",
       "      <th>fecha_carga</th>\n",
       "      <th>url</th>\n",
       "    </tr>\n",
       "  </thead>\n",
       "  <tbody>\n",
       "    <tr>\n",
       "      <th>0</th>\n",
       "      <td>60611029</td>\n",
       "      <td>AUDI</td>\n",
       "      <td>a3</td>\n",
       "      <td>25290.0</td>\n",
       "      <td>Híbrido</td>\n",
       "      <td>2023.0</td>\n",
       "      <td>46273</td>\n",
       "      <td>110.0</td>\n",
       "      <td>5.0</td>\n",
       "      <td>5.0</td>\n",
       "      <td>...</td>\n",
       "      <td>Berlina</td>\n",
       "      <td>999.0</td>\n",
       "      <td>negro</td>\n",
       "      <td>Ciudad Real</td>\n",
       "      <td>ECO (azul/verde)</td>\n",
       "      <td>WebScraping</td>\n",
       "      <td>2025-05-20</td>\n",
       "      <td>202505</td>\n",
       "      <td>2025-06-07 06:51:00</td>\n",
       "      <td>https://www.coches.net/audi-a3-sportback-30-tf...</td>\n",
       "    </tr>\n",
       "    <tr>\n",
       "      <th>1</th>\n",
       "      <td>60652943</td>\n",
       "      <td>HYUNDAI</td>\n",
       "      <td>i30</td>\n",
       "      <td>14850.0</td>\n",
       "      <td>Híbrido</td>\n",
       "      <td>2022.0</td>\n",
       "      <td>103209</td>\n",
       "      <td>120.0</td>\n",
       "      <td>5.0</td>\n",
       "      <td>5.0</td>\n",
       "      <td>...</td>\n",
       "      <td>Familiar</td>\n",
       "      <td>998.0</td>\n",
       "      <td>None</td>\n",
       "      <td>A Coruña</td>\n",
       "      <td>ECO (azul/verde)</td>\n",
       "      <td>WebScraping</td>\n",
       "      <td>2025-06-03</td>\n",
       "      <td>202506</td>\n",
       "      <td>2025-06-03 13:24:18</td>\n",
       "      <td>https://www.coches.net/hyundai-i30-10-tgdi-48v...</td>\n",
       "    </tr>\n",
       "    <tr>\n",
       "      <th>2</th>\n",
       "      <td>60716264</td>\n",
       "      <td>TOYOTA</td>\n",
       "      <td>c-hr</td>\n",
       "      <td>20100.0</td>\n",
       "      <td>Híbrido</td>\n",
       "      <td>2020.0</td>\n",
       "      <td>110745</td>\n",
       "      <td>122.0</td>\n",
       "      <td>5.0</td>\n",
       "      <td>5.0</td>\n",
       "      <td>...</td>\n",
       "      <td>Berlina</td>\n",
       "      <td>1798.0</td>\n",
       "      <td>blanco</td>\n",
       "      <td>Madrid</td>\n",
       "      <td>ECO (azul/verde)</td>\n",
       "      <td>WebScraping</td>\n",
       "      <td>2025-06-03</td>\n",
       "      <td>202506</td>\n",
       "      <td>2025-06-03 13:22:36</td>\n",
       "      <td>https://www.coches.net/toyota-c-hr-18-125h-act...</td>\n",
       "    </tr>\n",
       "    <tr>\n",
       "      <th>3</th>\n",
       "      <td>60206285</td>\n",
       "      <td>NISSAN</td>\n",
       "      <td>juke</td>\n",
       "      <td>17990.0</td>\n",
       "      <td>Gasolina</td>\n",
       "      <td>2022.0</td>\n",
       "      <td>63000</td>\n",
       "      <td>114.0</td>\n",
       "      <td>5.0</td>\n",
       "      <td>5.0</td>\n",
       "      <td>...</td>\n",
       "      <td>SUV</td>\n",
       "      <td>999.0</td>\n",
       "      <td>None</td>\n",
       "      <td>Las Palmas</td>\n",
       "      <td>None</td>\n",
       "      <td>WebScraping</td>\n",
       "      <td>2025-06-03</td>\n",
       "      <td>202506</td>\n",
       "      <td>2025-06-03 13:21:36</td>\n",
       "      <td>https://www.coches.net/nissan-juke-digt-84-kw-...</td>\n",
       "    </tr>\n",
       "    <tr>\n",
       "      <th>4</th>\n",
       "      <td>60716125</td>\n",
       "      <td>NISSAN</td>\n",
       "      <td>qashqai</td>\n",
       "      <td>24390.0</td>\n",
       "      <td>Híbrido</td>\n",
       "      <td>2022.0</td>\n",
       "      <td>62765</td>\n",
       "      <td>140.0</td>\n",
       "      <td>5.0</td>\n",
       "      <td>5.0</td>\n",
       "      <td>...</td>\n",
       "      <td>SUV</td>\n",
       "      <td>1332.0</td>\n",
       "      <td>negro</td>\n",
       "      <td>Huelva</td>\n",
       "      <td>ECO (azul/verde)</td>\n",
       "      <td>WebScraping</td>\n",
       "      <td>2025-06-03</td>\n",
       "      <td>202506</td>\n",
       "      <td>2025-06-03 13:20:26</td>\n",
       "      <td>https://www.coches.net/nissan-qashqai-digt-103...</td>\n",
       "    </tr>\n",
       "  </tbody>\n",
       "</table>\n",
       "<p>5 rows × 21 columns</p>\n",
       "</div>"
      ],
      "text/plain": [
       "   pk_anuncio_id    marca   modelo   precio combustible  anyo_vehiculo  \\\n",
       "0       60611029     AUDI       a3  25290.0     Híbrido         2023.0   \n",
       "1       60652943  HYUNDAI      i30  14850.0     Híbrido         2022.0   \n",
       "2       60716264   TOYOTA     c-hr  20100.0     Híbrido         2020.0   \n",
       "3       60206285   NISSAN     juke  17990.0    Gasolina         2022.0   \n",
       "4       60716125   NISSAN  qashqai  24390.0     Híbrido         2022.0   \n",
       "\n",
       "   kilometraje  potencia  num_puertas  num_plazas  ... tipo_vehiculo  \\\n",
       "0        46273     110.0          5.0         5.0  ...       Berlina   \n",
       "1       103209     120.0          5.0         5.0  ...      Familiar   \n",
       "2       110745     122.0          5.0         5.0  ...       Berlina   \n",
       "3        63000     114.0          5.0         5.0  ...           SUV   \n",
       "4        62765     140.0          5.0         5.0  ...           SUV   \n",
       "\n",
       "  cilindrada_motor   color    provincia      etiqueta_eco origen_anuncio  \\\n",
       "0            999.0   negro  Ciudad Real  ECO (azul/verde)    WebScraping   \n",
       "1            998.0    None     A Coruña  ECO (azul/verde)    WebScraping   \n",
       "2           1798.0  blanco       Madrid  ECO (azul/verde)    WebScraping   \n",
       "3            999.0    None   Las Palmas              None    WebScraping   \n",
       "4           1332.0   negro       Huelva  ECO (azul/verde)    WebScraping   \n",
       "\n",
       "  fecha_publicacion anyomes_publicacion          fecha_carga  \\\n",
       "0        2025-05-20              202505  2025-06-07 06:51:00   \n",
       "1        2025-06-03              202506  2025-06-03 13:24:18   \n",
       "2        2025-06-03              202506  2025-06-03 13:22:36   \n",
       "3        2025-06-03              202506  2025-06-03 13:21:36   \n",
       "4        2025-06-03              202506  2025-06-03 13:20:26   \n",
       "\n",
       "                                                 url  \n",
       "0  https://www.coches.net/audi-a3-sportback-30-tf...  \n",
       "1  https://www.coches.net/hyundai-i30-10-tgdi-48v...  \n",
       "2  https://www.coches.net/toyota-c-hr-18-125h-act...  \n",
       "3  https://www.coches.net/nissan-juke-digt-84-kw-...  \n",
       "4  https://www.coches.net/nissan-qashqai-digt-103...  \n",
       "\n",
       "[5 rows x 21 columns]"
      ]
     },
     "execution_count": 126,
     "metadata": {},
     "output_type": "execute_result"
    }
   ],
   "source": [
    "import pandas as pd\n",
    "import sqlite3\n",
    "\n",
    "# Conexión a la BBDD:\n",
    "con = sqlite3.connect(\"../include/db_vehiculos.db\")\n",
    "\n",
    "# Vamos a ver qué nos devuelve un select sobre la tabla:\n",
    "query = \"\"\"\n",
    "SELECT * FROM TX_VEHICULOS_SEG_MANO\n",
    "where\n",
    "    marca in ('BMW', 'VOLKSWAGEN', 'MERCEDES-BENZ', 'AUDI', 'PEUGEOT', 'FORD', 'RENAULT', 'OPEL', 'CITROEN', 'SEAT', 'HYUNDAI', 'KIA', 'NISSAN', 'TOYOTA')\n",
    "order by\n",
    "    fecha_carga desc\n",
    ";\n",
    "\"\"\"\n",
    "\n",
    "# Leemos los resultados en un DataFrame de pandas\n",
    "df = pd.read_sql_query(query, con)\n",
    "\n",
    "# Mostramos los primeros registros (aún no hay):\n",
    "df_prueba = df.head()\n",
    "\n",
    "df_prueba"
   ]
  },
  {
   "cell_type": "code",
   "execution_count": 127,
   "metadata": {},
   "outputs": [],
   "source": [
    "X_input, y_input = new_input_clean(input_df=df_prueba)"
   ]
  },
  {
   "cell_type": "code",
   "execution_count": 128,
   "metadata": {},
   "outputs": [
    {
     "data": {
      "text/plain": [
       "array([10.135457 ,  9.659866 ,  9.868817 ,  9.8552475,  9.969394 ],\n",
       "      dtype=float32)"
      ]
     },
     "execution_count": 128,
     "metadata": {},
     "output_type": "execute_result"
    }
   ],
   "source": [
    "predictions = loaded_model.predict(X_input)\n",
    "predictions"
   ]
  },
  {
   "cell_type": "code",
   "execution_count": 129,
   "metadata": {},
   "outputs": [
    {
     "data": {
      "text/plain": [
       "array([25222., 15676., 19318., 19058., 21363.], dtype=float32)"
      ]
     },
     "execution_count": 129,
     "metadata": {},
     "output_type": "execute_result"
    }
   ],
   "source": [
    "y_prueba = destransformar_y(predictions).round(0)\n",
    "y_prueba"
   ]
  },
  {
   "cell_type": "markdown",
   "metadata": {},
   "source": [
    "Insertamos las predicciones realizadas en la columna ```\"precio_predicho\"```, al lado de la columna target ```\"precio\"```:"
   ]
  },
  {
   "cell_type": "code",
   "execution_count": 130,
   "metadata": {},
   "outputs": [
    {
     "data": {
      "text/html": [
       "<div>\n",
       "<style scoped>\n",
       "    .dataframe tbody tr th:only-of-type {\n",
       "        vertical-align: middle;\n",
       "    }\n",
       "\n",
       "    .dataframe tbody tr th {\n",
       "        vertical-align: top;\n",
       "    }\n",
       "\n",
       "    .dataframe thead th {\n",
       "        text-align: right;\n",
       "    }\n",
       "</style>\n",
       "<table border=\"1\" class=\"dataframe\">\n",
       "  <thead>\n",
       "    <tr style=\"text-align: right;\">\n",
       "      <th></th>\n",
       "      <th>pk_anuncio_id</th>\n",
       "      <th>marca</th>\n",
       "      <th>modelo</th>\n",
       "      <th>precio</th>\n",
       "      <th>precio_predicho</th>\n",
       "      <th>combustible</th>\n",
       "      <th>anyo_vehiculo</th>\n",
       "      <th>kilometraje</th>\n",
       "      <th>potencia</th>\n",
       "      <th>num_puertas</th>\n",
       "      <th>...</th>\n",
       "      <th>tipo_vehiculo</th>\n",
       "      <th>cilindrada_motor</th>\n",
       "      <th>color</th>\n",
       "      <th>provincia</th>\n",
       "      <th>etiqueta_eco</th>\n",
       "      <th>origen_anuncio</th>\n",
       "      <th>fecha_publicacion</th>\n",
       "      <th>anyomes_publicacion</th>\n",
       "      <th>fecha_carga</th>\n",
       "      <th>url</th>\n",
       "    </tr>\n",
       "  </thead>\n",
       "  <tbody>\n",
       "    <tr>\n",
       "      <th>0</th>\n",
       "      <td>60611029</td>\n",
       "      <td>AUDI</td>\n",
       "      <td>a3</td>\n",
       "      <td>25290.0</td>\n",
       "      <td>25222.0</td>\n",
       "      <td>Híbrido</td>\n",
       "      <td>2023.0</td>\n",
       "      <td>46273</td>\n",
       "      <td>110.0</td>\n",
       "      <td>5.0</td>\n",
       "      <td>...</td>\n",
       "      <td>Berlina</td>\n",
       "      <td>999.0</td>\n",
       "      <td>negro</td>\n",
       "      <td>Ciudad Real</td>\n",
       "      <td>ECO (azul/verde)</td>\n",
       "      <td>WebScraping</td>\n",
       "      <td>2025-05-20</td>\n",
       "      <td>202505</td>\n",
       "      <td>2025-06-07 06:51:00</td>\n",
       "      <td>https://www.coches.net/audi-a3-sportback-30-tf...</td>\n",
       "    </tr>\n",
       "    <tr>\n",
       "      <th>1</th>\n",
       "      <td>60652943</td>\n",
       "      <td>HYUNDAI</td>\n",
       "      <td>i30</td>\n",
       "      <td>14850.0</td>\n",
       "      <td>15676.0</td>\n",
       "      <td>Híbrido</td>\n",
       "      <td>2022.0</td>\n",
       "      <td>103209</td>\n",
       "      <td>120.0</td>\n",
       "      <td>5.0</td>\n",
       "      <td>...</td>\n",
       "      <td>Familiar</td>\n",
       "      <td>998.0</td>\n",
       "      <td>None</td>\n",
       "      <td>A Coruña</td>\n",
       "      <td>ECO (azul/verde)</td>\n",
       "      <td>WebScraping</td>\n",
       "      <td>2025-06-03</td>\n",
       "      <td>202506</td>\n",
       "      <td>2025-06-03 13:24:18</td>\n",
       "      <td>https://www.coches.net/hyundai-i30-10-tgdi-48v...</td>\n",
       "    </tr>\n",
       "    <tr>\n",
       "      <th>2</th>\n",
       "      <td>60716264</td>\n",
       "      <td>TOYOTA</td>\n",
       "      <td>c-hr</td>\n",
       "      <td>20100.0</td>\n",
       "      <td>19318.0</td>\n",
       "      <td>Híbrido</td>\n",
       "      <td>2020.0</td>\n",
       "      <td>110745</td>\n",
       "      <td>122.0</td>\n",
       "      <td>5.0</td>\n",
       "      <td>...</td>\n",
       "      <td>Berlina</td>\n",
       "      <td>1798.0</td>\n",
       "      <td>blanco</td>\n",
       "      <td>Madrid</td>\n",
       "      <td>ECO (azul/verde)</td>\n",
       "      <td>WebScraping</td>\n",
       "      <td>2025-06-03</td>\n",
       "      <td>202506</td>\n",
       "      <td>2025-06-03 13:22:36</td>\n",
       "      <td>https://www.coches.net/toyota-c-hr-18-125h-act...</td>\n",
       "    </tr>\n",
       "    <tr>\n",
       "      <th>3</th>\n",
       "      <td>60206285</td>\n",
       "      <td>NISSAN</td>\n",
       "      <td>juke</td>\n",
       "      <td>17990.0</td>\n",
       "      <td>19058.0</td>\n",
       "      <td>Gasolina</td>\n",
       "      <td>2022.0</td>\n",
       "      <td>63000</td>\n",
       "      <td>114.0</td>\n",
       "      <td>5.0</td>\n",
       "      <td>...</td>\n",
       "      <td>SUV</td>\n",
       "      <td>999.0</td>\n",
       "      <td>None</td>\n",
       "      <td>Las Palmas</td>\n",
       "      <td>None</td>\n",
       "      <td>WebScraping</td>\n",
       "      <td>2025-06-03</td>\n",
       "      <td>202506</td>\n",
       "      <td>2025-06-03 13:21:36</td>\n",
       "      <td>https://www.coches.net/nissan-juke-digt-84-kw-...</td>\n",
       "    </tr>\n",
       "    <tr>\n",
       "      <th>4</th>\n",
       "      <td>60716125</td>\n",
       "      <td>NISSAN</td>\n",
       "      <td>qashqai</td>\n",
       "      <td>24390.0</td>\n",
       "      <td>21363.0</td>\n",
       "      <td>Híbrido</td>\n",
       "      <td>2022.0</td>\n",
       "      <td>62765</td>\n",
       "      <td>140.0</td>\n",
       "      <td>5.0</td>\n",
       "      <td>...</td>\n",
       "      <td>SUV</td>\n",
       "      <td>1332.0</td>\n",
       "      <td>negro</td>\n",
       "      <td>Huelva</td>\n",
       "      <td>ECO (azul/verde)</td>\n",
       "      <td>WebScraping</td>\n",
       "      <td>2025-06-03</td>\n",
       "      <td>202506</td>\n",
       "      <td>2025-06-03 13:20:26</td>\n",
       "      <td>https://www.coches.net/nissan-qashqai-digt-103...</td>\n",
       "    </tr>\n",
       "  </tbody>\n",
       "</table>\n",
       "<p>5 rows × 22 columns</p>\n",
       "</div>"
      ],
      "text/plain": [
       "   pk_anuncio_id    marca   modelo   precio  precio_predicho combustible  \\\n",
       "0       60611029     AUDI       a3  25290.0          25222.0     Híbrido   \n",
       "1       60652943  HYUNDAI      i30  14850.0          15676.0     Híbrido   \n",
       "2       60716264   TOYOTA     c-hr  20100.0          19318.0     Híbrido   \n",
       "3       60206285   NISSAN     juke  17990.0          19058.0    Gasolina   \n",
       "4       60716125   NISSAN  qashqai  24390.0          21363.0     Híbrido   \n",
       "\n",
       "   anyo_vehiculo  kilometraje  potencia  num_puertas  ...  tipo_vehiculo  \\\n",
       "0         2023.0        46273     110.0          5.0  ...        Berlina   \n",
       "1         2022.0       103209     120.0          5.0  ...       Familiar   \n",
       "2         2020.0       110745     122.0          5.0  ...        Berlina   \n",
       "3         2022.0        63000     114.0          5.0  ...            SUV   \n",
       "4         2022.0        62765     140.0          5.0  ...            SUV   \n",
       "\n",
       "  cilindrada_motor   color    provincia      etiqueta_eco origen_anuncio  \\\n",
       "0            999.0   negro  Ciudad Real  ECO (azul/verde)    WebScraping   \n",
       "1            998.0    None     A Coruña  ECO (azul/verde)    WebScraping   \n",
       "2           1798.0  blanco       Madrid  ECO (azul/verde)    WebScraping   \n",
       "3            999.0    None   Las Palmas              None    WebScraping   \n",
       "4           1332.0   negro       Huelva  ECO (azul/verde)    WebScraping   \n",
       "\n",
       "  fecha_publicacion anyomes_publicacion          fecha_carga  \\\n",
       "0        2025-05-20              202505  2025-06-07 06:51:00   \n",
       "1        2025-06-03              202506  2025-06-03 13:24:18   \n",
       "2        2025-06-03              202506  2025-06-03 13:22:36   \n",
       "3        2025-06-03              202506  2025-06-03 13:21:36   \n",
       "4        2025-06-03              202506  2025-06-03 13:20:26   \n",
       "\n",
       "                                                 url  \n",
       "0  https://www.coches.net/audi-a3-sportback-30-tf...  \n",
       "1  https://www.coches.net/hyundai-i30-10-tgdi-48v...  \n",
       "2  https://www.coches.net/toyota-c-hr-18-125h-act...  \n",
       "3  https://www.coches.net/nissan-juke-digt-84-kw-...  \n",
       "4  https://www.coches.net/nissan-qashqai-digt-103...  \n",
       "\n",
       "[5 rows x 22 columns]"
      ]
     },
     "execution_count": 130,
     "metadata": {},
     "output_type": "execute_result"
    }
   ],
   "source": [
    "df_prueba.insert(4, \"precio_predicho\", y_prueba)\n",
    "df_prueba.to_csv(\"../include/data/processed/df_prueba_pred.csv\")\n",
    "df_prueba"
   ]
  },
  {
   "cell_type": "markdown",
   "metadata": {},
   "source": [
    "Vemos que los precios que predice el modelo se ajustan bastante a los reales."
   ]
  },
  {
   "cell_type": "markdown",
   "metadata": {},
   "source": [
    "## Idea: división en segmentos.\n",
    "\n",
    "1. Segmento medio: hasta 30k eur.\n",
    "2. Segmento premium: desde 30k eur."
   ]
  }
 ],
 "metadata": {
  "kernelspec": {
   "display_name": "base",
   "language": "python",
   "name": "python3"
  },
  "language_info": {
   "codemirror_mode": {
    "name": "ipython",
    "version": 3
   },
   "file_extension": ".py",
   "mimetype": "text/x-python",
   "name": "python",
   "nbconvert_exporter": "python",
   "pygments_lexer": "ipython3",
   "version": "3.11.5"
  }
 },
 "nbformat": 4,
 "nbformat_minor": 2
}

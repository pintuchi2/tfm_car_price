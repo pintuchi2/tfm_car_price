{
 "cells": [
  {
   "cell_type": "markdown",
   "metadata": {},
   "source": [
    "# Proyecto ML: Modelo predictivo de precios de coche."
   ]
  },
  {
   "cell_type": "markdown",
   "metadata": {},
   "source": [
    "## 1. Introducción."
   ]
  },
  {
   "cell_type": "markdown",
   "metadata": {},
   "source": [
    "En este cuaderno buscaremos elaborar un modelo predictivo utilizando Machine Learning para saber una estimación del precio de un determinado vehículo de segunda mano y poder optimizar la compraventa de coches.\n",
    "\n",
    "Por esto, el objetivo es tener una plataforma web donde poder saber el precio de un determinado vehículo de segunda mano, en base al precio de otros coches registrados en nuestra base de datos. Para ello, se utilizan los registros guardados en la tabla TX_VEHICULOS_SEG_MANO de nuestra BBDD de sqlite, con cerca de 35.000 registros de vehículos de 10 marcas diferentes importadas desde un Dataset de Kaggle hecho a partir de WebScraping, a los que hemos añadido X vehículos scrapeados mediante el script guardado en la ruta ```\"dags/webscraping_script.py\"``` de la página de [coches.net](coches.net).\n",
    "\n",
    "Los registros obtenidos mediante ambos orígenes de datos han sido posibles de combinar mediante las transformaciones realizadas en el cuaderno ```\"notebooks/kaggle_dataset_cleaning.ipynb\"```, aunque antes de entrenar el modelo predictivo será necesario realizar algunas transformaciones adicionales, así como seleccionar las features del modelo.\n",
    "\n",
    "En este proyecto, se utilizarán modelos de Machine Learning para calcular el precio de un coche a partir de características como la marca, modelo, tipo de combustible, año, etc. Se trata, por tanto, de un problema de regresión. Se utilizará como métrica de optimización el Mean Squared Error (MSE), aunque también se analizarán otras métricas como el Mean Average Error (MAE)."
   ]
  },
  {
   "cell_type": "markdown",
   "metadata": {},
   "source": [
    "## 2. Obtención y procesado de datos."
   ]
  },
  {
   "cell_type": "markdown",
   "metadata": {},
   "source": [
    "Importamos los datos desde nuestra base de datos:"
   ]
  },
  {
   "cell_type": "code",
   "execution_count": 41,
   "metadata": {},
   "outputs": [],
   "source": [
    "# Importamos las librerías necesarias\n",
    "\n",
    "import pandas as pd\n",
    "import numpy as np\n",
    "import matplotlib.pyplot as plt\n",
    "import seaborn as sns\n",
    "import pickle\n",
    "\n",
    "\n",
    "sns.set_style(\"darkgrid\")\n",
    "\n",
    "\n",
    "colors = [\"#d5001c\", \"#f59908\", \"#ffcb01\", \"#969696\"]"
   ]
  },
  {
   "cell_type": "code",
   "execution_count": 42,
   "metadata": {},
   "outputs": [
    {
     "data": {
      "text/html": [
       "<div>\n",
       "<style scoped>\n",
       "    .dataframe tbody tr th:only-of-type {\n",
       "        vertical-align: middle;\n",
       "    }\n",
       "\n",
       "    .dataframe tbody tr th {\n",
       "        vertical-align: top;\n",
       "    }\n",
       "\n",
       "    .dataframe thead th {\n",
       "        text-align: right;\n",
       "    }\n",
       "</style>\n",
       "<table border=\"1\" class=\"dataframe\">\n",
       "  <thead>\n",
       "    <tr style=\"text-align: right;\">\n",
       "      <th></th>\n",
       "      <th>pk_anuncio_id</th>\n",
       "      <th>marca</th>\n",
       "      <th>modelo</th>\n",
       "      <th>precio</th>\n",
       "      <th>combustible</th>\n",
       "      <th>anyo_vehiculo</th>\n",
       "      <th>kilometraje</th>\n",
       "      <th>potencia</th>\n",
       "      <th>num_puertas</th>\n",
       "      <th>num_plazas</th>\n",
       "      <th>...</th>\n",
       "      <th>tipo_vehiculo</th>\n",
       "      <th>cilindrada_motor</th>\n",
       "      <th>color</th>\n",
       "      <th>provincia</th>\n",
       "      <th>etiqueta_eco</th>\n",
       "      <th>origen_anuncio</th>\n",
       "      <th>fecha_publicacion</th>\n",
       "      <th>anyomes_publicacion</th>\n",
       "      <th>fecha_carga</th>\n",
       "      <th>url</th>\n",
       "    </tr>\n",
       "  </thead>\n",
       "  <tbody>\n",
       "    <tr>\n",
       "      <th>0</th>\n",
       "      <td>60611029</td>\n",
       "      <td>AUDI</td>\n",
       "      <td>a3</td>\n",
       "      <td>25290.0</td>\n",
       "      <td>Híbrido</td>\n",
       "      <td>2023.0</td>\n",
       "      <td>46273</td>\n",
       "      <td>110.0</td>\n",
       "      <td>5.0</td>\n",
       "      <td>5.0</td>\n",
       "      <td>...</td>\n",
       "      <td>Berlina</td>\n",
       "      <td>999.0</td>\n",
       "      <td>negro</td>\n",
       "      <td>Ciudad Real</td>\n",
       "      <td>ECO (azul/verde)</td>\n",
       "      <td>WebScraping</td>\n",
       "      <td>2025-05-20</td>\n",
       "      <td>202505</td>\n",
       "      <td>2025-06-07 06:51:00</td>\n",
       "      <td>https://www.coches.net/audi-a3-sportback-30-tf...</td>\n",
       "    </tr>\n",
       "    <tr>\n",
       "      <th>1</th>\n",
       "      <td>60652943</td>\n",
       "      <td>HYUNDAI</td>\n",
       "      <td>i30</td>\n",
       "      <td>14850.0</td>\n",
       "      <td>Híbrido</td>\n",
       "      <td>2022.0</td>\n",
       "      <td>103209</td>\n",
       "      <td>120.0</td>\n",
       "      <td>5.0</td>\n",
       "      <td>5.0</td>\n",
       "      <td>...</td>\n",
       "      <td>Familiar</td>\n",
       "      <td>998.0</td>\n",
       "      <td>None</td>\n",
       "      <td>A Coruña</td>\n",
       "      <td>ECO (azul/verde)</td>\n",
       "      <td>WebScraping</td>\n",
       "      <td>2025-06-03</td>\n",
       "      <td>202506</td>\n",
       "      <td>2025-06-03 13:24:18</td>\n",
       "      <td>https://www.coches.net/hyundai-i30-10-tgdi-48v...</td>\n",
       "    </tr>\n",
       "    <tr>\n",
       "      <th>2</th>\n",
       "      <td>60716264</td>\n",
       "      <td>TOYOTA</td>\n",
       "      <td>c-hr</td>\n",
       "      <td>20100.0</td>\n",
       "      <td>Híbrido</td>\n",
       "      <td>2020.0</td>\n",
       "      <td>110745</td>\n",
       "      <td>122.0</td>\n",
       "      <td>5.0</td>\n",
       "      <td>5.0</td>\n",
       "      <td>...</td>\n",
       "      <td>Berlina</td>\n",
       "      <td>1798.0</td>\n",
       "      <td>blanco</td>\n",
       "      <td>Madrid</td>\n",
       "      <td>ECO (azul/verde)</td>\n",
       "      <td>WebScraping</td>\n",
       "      <td>2025-06-03</td>\n",
       "      <td>202506</td>\n",
       "      <td>2025-06-03 13:22:36</td>\n",
       "      <td>https://www.coches.net/toyota-c-hr-18-125h-act...</td>\n",
       "    </tr>\n",
       "    <tr>\n",
       "      <th>3</th>\n",
       "      <td>60206285</td>\n",
       "      <td>NISSAN</td>\n",
       "      <td>juke</td>\n",
       "      <td>17990.0</td>\n",
       "      <td>Gasolina</td>\n",
       "      <td>2022.0</td>\n",
       "      <td>63000</td>\n",
       "      <td>114.0</td>\n",
       "      <td>5.0</td>\n",
       "      <td>5.0</td>\n",
       "      <td>...</td>\n",
       "      <td>SUV</td>\n",
       "      <td>999.0</td>\n",
       "      <td>None</td>\n",
       "      <td>Las Palmas</td>\n",
       "      <td>None</td>\n",
       "      <td>WebScraping</td>\n",
       "      <td>2025-06-03</td>\n",
       "      <td>202506</td>\n",
       "      <td>2025-06-03 13:21:36</td>\n",
       "      <td>https://www.coches.net/nissan-juke-digt-84-kw-...</td>\n",
       "    </tr>\n",
       "    <tr>\n",
       "      <th>4</th>\n",
       "      <td>60716125</td>\n",
       "      <td>NISSAN</td>\n",
       "      <td>qashqai</td>\n",
       "      <td>24390.0</td>\n",
       "      <td>Híbrido</td>\n",
       "      <td>2022.0</td>\n",
       "      <td>62765</td>\n",
       "      <td>140.0</td>\n",
       "      <td>5.0</td>\n",
       "      <td>5.0</td>\n",
       "      <td>...</td>\n",
       "      <td>SUV</td>\n",
       "      <td>1332.0</td>\n",
       "      <td>negro</td>\n",
       "      <td>Huelva</td>\n",
       "      <td>ECO (azul/verde)</td>\n",
       "      <td>WebScraping</td>\n",
       "      <td>2025-06-03</td>\n",
       "      <td>202506</td>\n",
       "      <td>2025-06-03 13:20:26</td>\n",
       "      <td>https://www.coches.net/nissan-qashqai-digt-103...</td>\n",
       "    </tr>\n",
       "  </tbody>\n",
       "</table>\n",
       "<p>5 rows × 21 columns</p>\n",
       "</div>"
      ],
      "text/plain": [
       "   pk_anuncio_id    marca   modelo   precio combustible  anyo_vehiculo  \\\n",
       "0       60611029     AUDI       a3  25290.0     Híbrido         2023.0   \n",
       "1       60652943  HYUNDAI      i30  14850.0     Híbrido         2022.0   \n",
       "2       60716264   TOYOTA     c-hr  20100.0     Híbrido         2020.0   \n",
       "3       60206285   NISSAN     juke  17990.0    Gasolina         2022.0   \n",
       "4       60716125   NISSAN  qashqai  24390.0     Híbrido         2022.0   \n",
       "\n",
       "   kilometraje  potencia  num_puertas  num_plazas  ... tipo_vehiculo  \\\n",
       "0        46273     110.0          5.0         5.0  ...       Berlina   \n",
       "1       103209     120.0          5.0         5.0  ...      Familiar   \n",
       "2       110745     122.0          5.0         5.0  ...       Berlina   \n",
       "3        63000     114.0          5.0         5.0  ...           SUV   \n",
       "4        62765     140.0          5.0         5.0  ...           SUV   \n",
       "\n",
       "  cilindrada_motor   color    provincia      etiqueta_eco origen_anuncio  \\\n",
       "0            999.0   negro  Ciudad Real  ECO (azul/verde)    WebScraping   \n",
       "1            998.0    None     A Coruña  ECO (azul/verde)    WebScraping   \n",
       "2           1798.0  blanco       Madrid  ECO (azul/verde)    WebScraping   \n",
       "3            999.0    None   Las Palmas              None    WebScraping   \n",
       "4           1332.0   negro       Huelva  ECO (azul/verde)    WebScraping   \n",
       "\n",
       "  fecha_publicacion anyomes_publicacion          fecha_carga  \\\n",
       "0        2025-05-20              202505  2025-06-07 06:51:00   \n",
       "1        2025-06-03              202506  2025-06-03 13:24:18   \n",
       "2        2025-06-03              202506  2025-06-03 13:22:36   \n",
       "3        2025-06-03              202506  2025-06-03 13:21:36   \n",
       "4        2025-06-03              202506  2025-06-03 13:20:26   \n",
       "\n",
       "                                                 url  \n",
       "0  https://www.coches.net/audi-a3-sportback-30-tf...  \n",
       "1  https://www.coches.net/hyundai-i30-10-tgdi-48v...  \n",
       "2  https://www.coches.net/toyota-c-hr-18-125h-act...  \n",
       "3  https://www.coches.net/nissan-juke-digt-84-kw-...  \n",
       "4  https://www.coches.net/nissan-qashqai-digt-103...  \n",
       "\n",
       "[5 rows x 21 columns]"
      ]
     },
     "execution_count": 42,
     "metadata": {},
     "output_type": "execute_result"
    }
   ],
   "source": [
    "import sqlite3\n",
    "import pandas as pd\n",
    "\n",
    "con = sqlite3.connect(\"../include/db_vehiculos.db\")\n",
    "\n",
    "query = \"\"\"\n",
    "SELECT *\n",
    "FROM TX_VEHICULOS_SEG_MANO\n",
    "where\n",
    "    --origen_anuncio = 'WebScraping'\n",
    "    --origen_anuncio = 'dataset kaggle'\n",
    "    --and marca not in ('BMW', 'VOLKSWAGEN', 'MERCEDES-BENZ', 'AUDI', 'PEUGEOT', 'FORD', 'RENAULT', 'OPEL', 'CITROEN', 'SEAT')\n",
    "    marca in ('BMW', 'VOLKSWAGEN', 'MERCEDES-BENZ', 'AUDI', 'PEUGEOT', 'FORD', 'RENAULT', 'OPEL', 'CITROEN', 'SEAT', 'HYUNDAI', 'KIA', 'NISSAN', 'TOYOTA')\n",
    "order by\n",
    "    fecha_carga desc\n",
    ";\n",
    "\"\"\"\n",
    "\n",
    "df = pd.read_sql_query(query, con)\n",
    "\n",
    "df.head()"
   ]
  },
  {
   "cell_type": "markdown",
   "metadata": {},
   "source": [
    "Podemos ver el número de registros para cada origen de datos:"
   ]
  },
  {
   "cell_type": "code",
   "execution_count": 43,
   "metadata": {},
   "outputs": [
    {
     "data": {
      "text/plain": [
       "origen_anuncio\n",
       "dataset kaggle    40503\n",
       "WebScraping        7550\n",
       "Name: count, dtype: int64"
      ]
     },
     "execution_count": 43,
     "metadata": {},
     "output_type": "execute_result"
    }
   ],
   "source": [
    "df['origen_anuncio'].value_counts()"
   ]
  },
  {
   "cell_type": "markdown",
   "metadata": {},
   "source": [
    "Vemos que la gran mayoría de registros provienen del dataset de kaggle.\n",
    "\n",
    "Vamos a ver qué columnas contiene el DataFrame:"
   ]
  },
  {
   "cell_type": "code",
   "execution_count": 44,
   "metadata": {},
   "outputs": [
    {
     "name": "stdout",
     "output_type": "stream",
     "text": [
      "<class 'pandas.core.frame.DataFrame'>\n",
      "RangeIndex: 48053 entries, 0 to 48052\n",
      "Data columns (total 21 columns):\n",
      " #   Column               Non-Null Count  Dtype  \n",
      "---  ------               --------------  -----  \n",
      " 0   pk_anuncio_id        48053 non-null  int64  \n",
      " 1   marca                48053 non-null  object \n",
      " 2   modelo               48053 non-null  object \n",
      " 3   precio               48053 non-null  float64\n",
      " 4   combustible          47833 non-null  object \n",
      " 5   anyo_vehiculo        48051 non-null  float64\n",
      " 6   kilometraje          48053 non-null  int64  \n",
      " 7   potencia             40572 non-null  float64\n",
      " 8   num_puertas          47938 non-null  float64\n",
      " 9   num_plazas           7430 non-null   float64\n",
      " 10  tipo_cambio          47962 non-null  object \n",
      " 11  tipo_vehiculo        7550 non-null   object \n",
      " 12  cilindrada_motor     7389 non-null   float64\n",
      " 13  color                46680 non-null  object \n",
      " 14  provincia            48048 non-null  object \n",
      " 15  etiqueta_eco         5310 non-null   object \n",
      " 16  origen_anuncio       48053 non-null  object \n",
      " 17  fecha_publicacion    48053 non-null  object \n",
      " 18  anyomes_publicacion  48053 non-null  int64  \n",
      " 19  fecha_carga          48053 non-null  object \n",
      " 20  url                  48053 non-null  object \n",
      "dtypes: float64(6), int64(3), object(12)\n",
      "memory usage: 7.7+ MB\n"
     ]
    }
   ],
   "source": [
    "df.info()"
   ]
  },
  {
   "cell_type": "markdown",
   "metadata": {},
   "source": [
    "Vemos que el DataFrame se compone de 21 columnas, de las cuales, muchas de ellas son de tipo string. Además, contienen valores nulos, por lo que, a continuación, haremos un procesado de estas columnas.\n",
    "\n",
    "La columna target u objetivo a predecir es la columna llamada ```\"precio\"```."
   ]
  },
  {
   "cell_type": "markdown",
   "metadata": {},
   "source": [
    "Lo primero que haremos es eliminar las columnas ```['num_plazas', 'tipo_vehiculo', 'cilindrada_motor', 'etiqueta_eco']```, ya que solo tienen valores no nulos para los registros obtenidos mediante WebScraping."
   ]
  },
  {
   "cell_type": "code",
   "execution_count": 45,
   "metadata": {},
   "outputs": [
    {
     "name": "stdout",
     "output_type": "stream",
     "text": [
      "<class 'pandas.core.frame.DataFrame'>\n",
      "RangeIndex: 48053 entries, 0 to 48052\n",
      "Data columns (total 17 columns):\n",
      " #   Column               Non-Null Count  Dtype  \n",
      "---  ------               --------------  -----  \n",
      " 0   pk_anuncio_id        48053 non-null  int64  \n",
      " 1   marca                48053 non-null  object \n",
      " 2   modelo               48053 non-null  object \n",
      " 3   precio               48053 non-null  float64\n",
      " 4   combustible          47833 non-null  object \n",
      " 5   anyo_vehiculo        48051 non-null  float64\n",
      " 6   kilometraje          48053 non-null  int64  \n",
      " 7   potencia             40572 non-null  float64\n",
      " 8   num_puertas          47938 non-null  float64\n",
      " 9   tipo_cambio          47962 non-null  object \n",
      " 10  color                46680 non-null  object \n",
      " 11  provincia            48048 non-null  object \n",
      " 12  origen_anuncio       48053 non-null  object \n",
      " 13  fecha_publicacion    48053 non-null  object \n",
      " 14  anyomes_publicacion  48053 non-null  int64  \n",
      " 15  fecha_carga          48053 non-null  object \n",
      " 16  url                  48053 non-null  object \n",
      "dtypes: float64(4), int64(3), object(10)\n",
      "memory usage: 6.2+ MB\n"
     ]
    }
   ],
   "source": [
    "df = df.drop(columns=['num_plazas', 'tipo_vehiculo', 'cilindrada_motor', 'etiqueta_eco'])\n",
    "df.info()"
   ]
  },
  {
   "cell_type": "markdown",
   "metadata": {},
   "source": [
    "Vamos a eliminar también las columnas: ```['pk_anuncio_id', 'provincia', 'fecha_publicacion', 'anyomes_publicacion','fecha_carga', 'url']```, ya que tampoco aportan información para el modelo.\n",
    "\n",
    "De momento dejamos la columna ```'origen_anuncio'``` por si hay que distinguir en alguna transformación entre los datos de ambos orígenes."
   ]
  },
  {
   "cell_type": "code",
   "execution_count": 46,
   "metadata": {},
   "outputs": [
    {
     "name": "stdout",
     "output_type": "stream",
     "text": [
      "<class 'pandas.core.frame.DataFrame'>\n",
      "RangeIndex: 48053 entries, 0 to 48052\n",
      "Data columns (total 11 columns):\n",
      " #   Column          Non-Null Count  Dtype  \n",
      "---  ------          --------------  -----  \n",
      " 0   marca           48053 non-null  object \n",
      " 1   modelo          48053 non-null  object \n",
      " 2   precio          48053 non-null  float64\n",
      " 3   combustible     47833 non-null  object \n",
      " 4   anyo_vehiculo   48051 non-null  float64\n",
      " 5   kilometraje     48053 non-null  int64  \n",
      " 6   potencia        40572 non-null  float64\n",
      " 7   num_puertas     47938 non-null  float64\n",
      " 8   tipo_cambio     47962 non-null  object \n",
      " 9   color           46680 non-null  object \n",
      " 10  origen_anuncio  48053 non-null  object \n",
      "dtypes: float64(4), int64(1), object(6)\n",
      "memory usage: 4.0+ MB\n"
     ]
    }
   ],
   "source": [
    "df = df.drop(columns=['pk_anuncio_id', 'provincia', 'fecha_publicacion', 'anyomes_publicacion','fecha_carga', 'url'])\n",
    "\n",
    "df.info()"
   ]
  },
  {
   "cell_type": "markdown",
   "metadata": {},
   "source": [
    "### Variable objetivo: precio."
   ]
  },
  {
   "cell_type": "markdown",
   "metadata": {},
   "source": [
    "Vamos a ver la distibución de datos de la columna target (```\"precio\"```):"
   ]
  },
  {
   "cell_type": "code",
   "execution_count": 47,
   "metadata": {},
   "outputs": [
    {
     "name": "stderr",
     "output_type": "stream",
     "text": [
      "c:\\Users\\alberto.pintos\\AppData\\Local\\anaconda3\\Lib\\site-packages\\seaborn\\_oldcore.py:1119: FutureWarning: use_inf_as_na option is deprecated and will be removed in a future version. Convert inf values to NaN before operating instead.\n",
      "  with pd.option_context('mode.use_inf_as_na', True):\n",
      "c:\\Users\\alberto.pintos\\AppData\\Local\\anaconda3\\Lib\\site-packages\\seaborn\\axisgrid.py:118: UserWarning: The figure layout has changed to tight\n",
      "  self._figure.tight_layout(*args, **kwargs)\n"
     ]
    },
    {
     "data": {
      "text/plain": [
       "<Figure size 800x600 with 0 Axes>"
      ]
     },
     "metadata": {},
     "output_type": "display_data"
    },
    {
     "data": {
      "image/png": "[encoded data removed]",
      "text/plain": [
       "<Figure size 500x500 with 1 Axes>"
      ]
     },
     "metadata": {},
     "output_type": "display_data"
    }
   ],
   "source": [
    "plt.figure(figsize=(8, 6))\n",
    "\n",
    "sns.displot(df[\"precio\"], color=colors[0])\n",
    "\n",
    "plt.title(\"Cantidad de coches por precio\", fontsize=16)\n",
    "\n",
    "plt.xlabel(\"Precio (euros)\", fontsize=14)\n",
    "plt.ylabel(\"Cantidad de coches\", fontsize=14)\n",
    "\n",
    "plt.show()"
   ]
  },
  {
   "cell_type": "markdown",
   "metadata": {},
   "source": [
    "Vemos que existen muchos coches con un precio más bajo, y que, para precios más elevados, se reduce el número. Para corregir esto, y aumentar la eficacia del modelo predictivo, vamos a plantear dos medidas:\n",
    "\n",
    "1. Realizar un boxplot para detectar outliers y poder eliminar estos registros.\n",
    "\n",
    "2. Aplicar una transformación a la columna ```\"precio\"```, de modo que los datos tiendan a una distribución normal. Al final, cuando ya esté hecho el modelo, habrá que deshacer esta transformación para obtener el precio real del vehículo a predecir."
   ]
  },
  {
   "cell_type": "markdown",
   "metadata": {},
   "source": [
    "Comenzamos realizando el Boxplot:"
   ]
  },
  {
   "cell_type": "code",
   "execution_count": 48,
   "metadata": {},
   "outputs": [
    {
     "data": {
      "image/png": "[encoded data removed]",
      "text/plain": [
       "<Figure size 800x600 with 1 Axes>"
      ]
     },
     "metadata": {},
     "output_type": "display_data"
    }
   ],
   "source": [
    "import matplotlib.pyplot as plt\n",
    "import seaborn as sns\n",
    "\n",
    "plt.figure(figsize=(8, 6))\n",
    "\n",
    "# Boxplot de la variable \"precio\"\n",
    "sns.boxplot(x=df[\"precio\"], color=colors[0])\n",
    "\n",
    "# Títulos y etiquetas\n",
    "plt.title(\"Boxplot inicial del precio del vehículo\", fontsize=16)\n",
    "plt.xlabel(\"Precio (euros)\", fontsize=14)\n",
    "\n",
    "plt.show()\n"
   ]
  },
  {
   "cell_type": "markdown",
   "metadata": {},
   "source": [
    "Vemos que la distribución del boxplot muestra que el 75 % de los registros se concentran por debajo de los 20.000 euros aproximadamente.\n",
    "\n",
    "Vamos a ver las principales medidas estadísticas de la variable ```\"precio\"```:"
   ]
  },
  {
   "cell_type": "code",
   "execution_count": 49,
   "metadata": {},
   "outputs": [
    {
     "data": {
      "text/plain": [
       "count     48053.000000\n",
       "mean      14414.972759\n",
       "std       12638.703364\n",
       "min         300.000000\n",
       "25%        6000.000000\n",
       "50%       12450.000000\n",
       "75%       18990.000000\n",
       "max      375000.000000\n",
       "Name: precio, dtype: float64"
      ]
     },
     "execution_count": 49,
     "metadata": {},
     "output_type": "execute_result"
    }
   ],
   "source": [
    "df[\"precio\"].describe()"
   ]
  },
  {
   "cell_type": "code",
   "execution_count": 50,
   "metadata": {},
   "outputs": [],
   "source": [
    "# df = df.loc[df.loc[:, \"precio\"] < 101000, :]"
   ]
  },
  {
   "cell_type": "markdown",
   "metadata": {},
   "source": [
    "Observamos que la variable tiene una media de 14.414 euros y una desviación estándar (sigma) de 12.638 euros. Sin embargo, el valor máximo es de 375.000 euros.\n",
    "\n",
    "Ante esto, vamos a proponer dos opciones para eliminar outliers que puedan influir negativamente en el modelo o para los cuáles funcione muy mal.\n",
    "\n",
    "1. Coger los valores dentro de los siguientes límites a partir del Rango intercuartílico (IQR), que marcarían los outliers tradicionales:\n",
    "\n",
    "    - limite_inferior = Q1 - 1.5 * IQR\n",
    "    - limite_superior = Q3 + 1.5 * IQR\n",
    "\n",
    "Probamos esta opción:\n"
   ]
  },
  {
   "cell_type": "markdown",
   "metadata": {},
   "source": [
    "Opción con cuartiles:"
   ]
  },
  {
   "cell_type": "code",
   "execution_count": 51,
   "metadata": {},
   "outputs": [
    {
     "name": "stdout",
     "output_type": "stream",
     "text": [
      "Límite de precio inferior: -13485.0\n",
      "Límite de precio superior: 38475.0\n",
      "Número de coches antes de eliminar outliers: 48053\n",
      "Número de coches después de eliminar outliers: 46336\n"
     ]
    }
   ],
   "source": [
    "# Calculamos Q1, Q3 e IQR\n",
    "Q1 = df[\"precio\"].quantile(0.25)\n",
    "Q3 = df[\"precio\"].quantile(0.75)\n",
    "IQR = Q3 - Q1\n",
    "\n",
    "# Límites inferior y superior para considerar outliers\n",
    "limite_inferior = Q1 - 1.5 * IQR\n",
    "limite_superior = Q3 + 1.5 * IQR\n",
    "\n",
    "print(f\"Límite de precio inferior: {limite_inferior}\")\n",
    "print(f\"Límite de precio superior: {limite_superior}\")\n",
    "\n",
    "df_iqr = df[(df[\"precio\"] >= limite_inferior) & (df[\"precio\"] <= limite_superior)]\n",
    "\n",
    "print(f\"Número de coches antes de eliminar outliers: {len(df)}\")\n",
    "print(f\"Número de coches después de eliminar outliers: {len(df_iqr)}\")\n"
   ]
  },
  {
   "cell_type": "markdown",
   "metadata": {},
   "source": [
    "Si utilizamos esta opción seguro que el modelo funciona muy bien pero solo predeciríamos vehículos con precios hasta 38.475 euros, lo que dejaría fuera muchos modelos.\n",
    "\n",
    "Por ello, vamos a descartar esta opción."
   ]
  },
  {
   "cell_type": "markdown",
   "metadata": {},
   "source": [
    "Probaremos una segunda opción que consiste en aplicar una transformación a la columna ```\"precio\"```, de modo que los datos tiendan a una distribución normal. Al final, cuando ya esté hecho el modelo, habrá que deshacer esta transformación para obtener el precio real del vehículo a predecir.\n",
    "\n",
    "Vamos a comparar los resultados del test de normalidad de Shapiro-Wilk para 3 transformaciones que normalizan una variable: logarítmica, raíz cuadrada y Box-Cox. Se ha escogido un tamaño de muestra de 1.000 datos, ya que contamos con cerca de 48.000 registros."
   ]
  },
  {
   "cell_type": "code",
   "execution_count": 52,
   "metadata": {},
   "outputs": [],
   "source": [
    "# pip install --upgrade scipy"
   ]
  },
  {
   "cell_type": "code",
   "execution_count": 53,
   "metadata": {},
   "outputs": [
    {
     "name": "stdout",
     "output_type": "stream",
     "text": [
      "Transformación logarítmica:\n",
      "  W: 0.9384, p-valor: 6.27e-20\n",
      "\n",
      "Transformación raíz cuadrada:\n",
      "  W: 0.9782, p-valor: 4.15e-11\n",
      "\n",
      "Transformación Box-Cox (lambda=0.281):\n",
      "  W: 0.9862, p-valor: 4.25e-08\n",
      "\n",
      "Mejor transformación: Box-Cox (W = 0.9862), (p-valor=0.00000004)\n",
      "Se rechaza H₀: los datos no siguen una distribución normal.\n"
     ]
    }
   ],
   "source": [
    "from scipy.stats import boxcox, shapiro\n",
    "from scipy.special import inv_boxcox\n",
    "import numpy as np\n",
    "import pandas as pd\n",
    "\n",
    "# Comparar diferentes transformaciones\n",
    "precio_original = df[\"precio\"]\n",
    "\n",
    "# Logarítmica\n",
    "precio_log = np.log(precio_original)\n",
    "\n",
    "# Raíz cuadrada\n",
    "precio_sqrt = np.sqrt(precio_original)\n",
    "\n",
    "# Box-Cox\n",
    "precio_boxcox, lambda_opt = boxcox(precio_original)\n",
    "\n",
    "# Muestra aleatoria\n",
    "np.random.seed(42) \n",
    "n_sample = 1000\n",
    "\n",
    "\n",
    "indices = np.random.choice(len(precio_original), size=n_sample, replace=False)\n",
    "\n",
    "# Aplicar a todas las transformaciones\n",
    "sample_log = precio_log.iloc[indices]\n",
    "sample_sqrt = precio_sqrt.iloc[indices]\n",
    "sample_boxcox = precio_boxcox[indices] \n",
    "\n",
    "# Comparar estadísticos W y p del test de shapiro\n",
    "w_log, p_log = shapiro(sample_log)\n",
    "w_sqrt, p_sqrt = shapiro(sample_sqrt)\n",
    "w_boxcox, p_boxcox = shapiro(sample_boxcox)\n",
    "\n",
    "print(f\"Transformación logarítmica:\")\n",
    "print(f\"  W: {w_log:.4f}, p-valor: {p_log:.2e}\")\n",
    "print(f\"\\nTransformación raíz cuadrada:\")\n",
    "print(f\"  W: {w_sqrt:.4f}, p-valor: {p_sqrt:.2e}\")\n",
    "print(f\"\\nTransformación Box-Cox (lambda={lambda_opt:.3f}):\")\n",
    "print(f\"  W: {w_boxcox:.4f}, p-valor: {p_boxcox:.2e}\")\n",
    "\n",
    "# Comparar resultados de las transformaciones\n",
    "\n",
    "transformaciones = {\n",
    "    'Logarítmica': [w_log, p_log],\n",
    "    'Raíz cuadrada': [w_sqrt, p_sqrt],\n",
    "    'Box-Cox': [w_boxcox, p_boxcox]\n",
    "}\n",
    "\n",
    "# Encontrar la transformación con el mayor estadístico W\n",
    "mejor_w = max(transformaciones, key=lambda t: transformaciones[t][0])\n",
    "# Encontrar la transformación con el mayor p-valor\n",
    "mejor_p = transformaciones[mejor_w][1]\n",
    "\n",
    "# Imprimir la mejor transformación\n",
    "print(f\"\\nMejor transformación: {mejor_w} (W = {transformaciones[mejor_w][0]:.4f}), (p-valor={mejor_p:.8f})\")\n",
    "\n",
    "# Interpretar el p-valor: si es mayor que 0.05, no se rechaza la hipótesis de normalidad\n",
    "if mejor_p > 0.05:\n",
    "    print(\"No se rechaza H₀: los datos podrían ser normales.\")\n",
    "else:\n",
    "    print(\"Se rechaza H₀: los datos no siguen una distribución normal.\")"
   ]
  },
  {
   "cell_type": "markdown",
   "metadata": {},
   "source": [
    "Se obtiene que la mejor transformación es la Box-Cox. Según el resultado del p-valor obtenido, la distribución no es normal, pero el valor del estadístico W = 0,9862 es muy cercano a 1 (lo que sería una distribución perfectamente normal), por lo que la transformación acerca mucho la distribución a la normalidad, lo que mejora el rendimiento de los modelos predictivos de regresión.\n",
    "\n",
    "Vamos a realizar la transformación de la columna y mostrar la distribución de precios una vez transformada. Después, nos quedaremos con los vehículos en un rango de valores del precio transformado de 3 desviaciones estándar a partir de la media, que coresponderá a un porcentaje muy elevado de los datos."
   ]
  },
  {
   "cell_type": "code",
   "execution_count": 54,
   "metadata": {},
   "outputs": [],
   "source": [
    "# Transformación BoxCox:\n",
    "\n",
    "df[\"precio\"], lambda_opt = boxcox(df[\"precio\"])"
   ]
  },
  {
   "cell_type": "code",
   "execution_count": 55,
   "metadata": {},
   "outputs": [
    {
     "name": "stderr",
     "output_type": "stream",
     "text": [
      "c:\\Users\\alberto.pintos\\AppData\\Local\\anaconda3\\Lib\\site-packages\\seaborn\\_oldcore.py:1119: FutureWarning: use_inf_as_na option is deprecated and will be removed in a future version. Convert inf values to NaN before operating instead.\n",
      "  with pd.option_context('mode.use_inf_as_na', True):\n",
      "c:\\Users\\alberto.pintos\\AppData\\Local\\anaconda3\\Lib\\site-packages\\seaborn\\axisgrid.py:118: UserWarning: The figure layout has changed to tight\n",
      "  self._figure.tight_layout(*args, **kwargs)\n"
     ]
    },
    {
     "data": {
      "text/plain": [
       "<Figure size 800x600 with 0 Axes>"
      ]
     },
     "metadata": {},
     "output_type": "display_data"
    },
    {
     "data": {
      "image/png": "[encoded data removed]",
      "text/plain": [
       "<Figure size 500x500 with 1 Axes>"
      ]
     },
     "metadata": {},
     "output_type": "display_data"
    }
   ],
   "source": [
    "plt.figure(figsize=(8, 6))\n",
    "\n",
    "sns.displot(df[\"precio\"], color=colors[0])\n",
    "\n",
    "plt.title(\"Cantidad de coches por precio después de transformar\", fontsize=16)\n",
    "\n",
    "plt.xlabel(\"Precio transformado\", fontsize=14)\n",
    "plt.ylabel(\"Cantidad de coches\", fontsize=14)\n",
    "\n",
    "plt.yticks(range(0, 2250, 250))\n",
    "\n",
    "plt.show()"
   ]
  },
  {
   "cell_type": "code",
   "execution_count": 56,
   "metadata": {},
   "outputs": [
    {
     "data": {
      "text/plain": [
       "0.2805938921162534"
      ]
     },
     "execution_count": 56,
     "metadata": {},
     "output_type": "execute_result"
    }
   ],
   "source": [
    "lambda_opt"
   ]
  },
  {
   "cell_type": "code",
   "execution_count": 57,
   "metadata": {},
   "outputs": [
    {
     "name": "stdout",
     "output_type": "stream",
     "text": [
      "Límite superior en escala Box-Cox: 80.9542\n",
      "Corresponde a un precio real de: 79,509.65 €\n",
      "Número de coches antes de eliminar outliers: 48053\n",
      "Número de coches después de eliminar outliers: 47870\n",
      "Número de coches eliminados: 183\n"
     ]
    }
   ],
   "source": [
    "mean_log = df[\"precio\"].mean()\n",
    "std_log = df[\"precio\"].std()\n",
    "\n",
    "# Límite superior a 3 sigmas en escala logarítmica:\n",
    "upper_log_limit = mean_log + 3 * std_log\n",
    "\n",
    "# Filtramos solo los valores dentro de las 2 sigmas:\n",
    "df_filtrado = df[df[\"precio\"] <= upper_log_limit]\n",
    "\n",
    "# (Opcional) Si necesitamos volver a la escala original:\n",
    "max_precio_filtrado = inv_boxcox(upper_log_limit, lambda_opt)\n",
    "\n",
    "num_coches_eliminados = len(df) - len(df_filtrado)\n",
    "\n",
    "print(f\"Límite superior en escala Box-Cox: {upper_log_limit:.4f}\")\n",
    "print(f\"Corresponde a un precio real de: {max_precio_filtrado:,.2f} €\")\n",
    "\n",
    "print(f\"Número de coches antes de eliminar outliers: {len(df)}\")\n",
    "print(f\"Número de coches después de eliminar outliers: {len(df_filtrado)}\")\n",
    "print(f\"Número de coches eliminados: {num_coches_eliminados}\")"
   ]
  },
  {
   "cell_type": "code",
   "execution_count": 58,
   "metadata": {},
   "outputs": [],
   "source": [
    "# import numpy as np\n",
    "\n",
    "# # Transformación logarítmica del precio:\n",
    "# df[\"precio\"] = np.log(df[\"precio\"])"
   ]
  },
  {
   "cell_type": "code",
   "execution_count": 59,
   "metadata": {},
   "outputs": [],
   "source": [
    "# plt.figure(figsize=(8, 6))\n",
    "\n",
    "# sns.displot(df[\"precio\"], color=colors[0])\n",
    "\n",
    "# plt.title(\"Cantidad de coches por precio después de transformar\", fontsize=16)\n",
    "\n",
    "# plt.xlabel(\"Precio transformado\", fontsize=14)\n",
    "# plt.ylabel(\"Cantidad de coches\", fontsize=14)\n",
    "\n",
    "# plt.yticks(range(0, 2250, 250))\n",
    "\n",
    "# plt.show()"
   ]
  },
  {
   "cell_type": "code",
   "execution_count": 60,
   "metadata": {},
   "outputs": [],
   "source": [
    "# from scipy.stats import shapiro\n",
    "\n",
    "# # Aplicar el test de Shapiro-Wilk a una muestra (máx. 5000 datos recomendado)\n",
    "# sample = df[\"precio\"].sample(n=1000, random_state=42)\n",
    "\n",
    "# stat, p_value = shapiro(sample)\n",
    "\n",
    "# print(f\"Estadístico W: {stat:.4f}\")\n",
    "# print(f\"Valor p: {p_value:.22f}\")\n",
    "\n",
    "# if p_value > 0.05:\n",
    "#     print(\"No se rechaza H₀: los datos podrían ser normales.\")\n",
    "# else:\n",
    "#     print(\"Se rechaza H₀: los datos no siguen una distribución normal.\")\n"
   ]
  },
  {
   "cell_type": "code",
   "execution_count": 61,
   "metadata": {},
   "outputs": [],
   "source": [
    "# mean_log = df[\"precio\"].mean()\n",
    "# std_log = df[\"precio\"].std()\n",
    "\n",
    "# # Límite superior a 2 sigmas en escala logarítmica:\n",
    "# upper_log_limit = mean_log + 2 * std_log\n",
    "\n",
    "# # Filtramos solo los valores dentro de las 2 sigmas:\n",
    "# df_filtrado = df[df[\"precio\"] <= upper_log_limit]\n",
    "\n",
    "# # (Opcional) Si necesitamos volver a la escala original:\n",
    "# max_precio_filtrado = np.exp(upper_log_limit)\n",
    "\n",
    "# num_coches_eliminados = len(df) - len(df_filtrado)\n",
    "\n",
    "# print(f\"Límite superior en escala log: {upper_log_limit:.4f}\")\n",
    "# print(f\"Corresponde a un precio real de: {max_precio_filtrado:,.2f} €\")\n",
    "\n",
    "# print(f\"Número de coches antes de eliminar outliers: {len(df)}\")\n",
    "# print(f\"Número de coches después de eliminar outliers: {len(df_filtrado)}\")\n",
    "# print(f\"Número de coches eliminados: {num_coches_eliminados}\")\n"
   ]
  },
  {
   "cell_type": "code",
   "execution_count": 62,
   "metadata": {},
   "outputs": [
    {
     "data": {
      "text/plain": [
       "count    48053.000000\n",
       "mean        45.353373\n",
       "std         11.866948\n",
       "min         14.095975\n",
       "25%         37.366715\n",
       "50%         46.670539\n",
       "75%         52.988364\n",
       "max        127.041465\n",
       "Name: precio, dtype: float64"
      ]
     },
     "execution_count": 62,
     "metadata": {},
     "output_type": "execute_result"
    }
   ],
   "source": [
    "# Estadísticos de la variable precio transfromada:\n",
    "\n",
    "df[\"precio\"].describe()"
   ]
  },
  {
   "cell_type": "markdown",
   "metadata": {},
   "source": [
    "Vemos que se eliminan 183 registros. Vamos a aplicar la transformación al df original y a ver los valores estadísticos transformados de nuevo, para ver que se ha realizado correctamente:"
   ]
  },
  {
   "cell_type": "code",
   "execution_count": 63,
   "metadata": {},
   "outputs": [
    {
     "data": {
      "text/plain": [
       "count    47870.000000\n",
       "mean        45.188846\n",
       "std         11.574304\n",
       "min         14.095975\n",
       "25%         37.366715\n",
       "50%         46.602491\n",
       "75%         52.977916\n",
       "max         80.801854\n",
       "Name: precio, dtype: float64"
      ]
     },
     "execution_count": 63,
     "metadata": {},
     "output_type": "execute_result"
    }
   ],
   "source": [
    "# Aplicamos el filtro de las 3 sigmas al df original:\n",
    "df = df[df[\"precio\"] <= upper_log_limit]\n",
    "\n",
    "# Nuevos estadísticos tras el filtro:\n",
    "df[\"precio\"].describe()"
   ]
  },
  {
   "cell_type": "markdown",
   "metadata": {},
   "source": [
    "Estos son los estadísticos que contiene la columna ```df[\"precio\"]```, que ahora están en escala Box-Cox, vamos a verlos en escala normal deshaciendo la transformación:"
   ]
  },
  {
   "cell_type": "code",
   "execution_count": 64,
   "metadata": {},
   "outputs": [
    {
     "name": "stdout",
     "output_type": "stream",
     "text": [
      "count    47870.000000\n",
      "mean     14040.863150\n",
      "std      10709.667505\n",
      "min        300.000000\n",
      "25%       6000.000000\n",
      "50%      12390.000000\n",
      "75%      18977.500000\n",
      "max      79000.000000\n",
      "Name: precio, dtype: float64\n"
     ]
    }
   ],
   "source": [
    "import numpy as np\n",
    "\n",
    "# Mostramos el resumen estadístico con la transformación inversa (precio real)\n",
    "print(inv_boxcox(df[\"precio\"], lambda_opt).describe())"
   ]
  },
  {
   "cell_type": "code",
   "execution_count": 65,
   "metadata": {},
   "outputs": [
    {
     "data": {
      "text/plain": [
       "57.102306643435554"
      ]
     },
     "execution_count": 65,
     "metadata": {},
     "output_type": "execute_result"
    }
   ],
   "source": [
    "df[\"precio\"][4]"
   ]
  },
  {
   "cell_type": "code",
   "execution_count": 66,
   "metadata": {},
   "outputs": [
    {
     "data": {
      "text/plain": [
       "25289.99999999999"
      ]
     },
     "execution_count": 66,
     "metadata": {},
     "output_type": "execute_result"
    }
   ],
   "source": [
    "inv_boxcox(df[\"precio\"][0], lambda_opt)"
   ]
  },
  {
   "cell_type": "code",
   "execution_count": 67,
   "metadata": {},
   "outputs": [
    {
     "data": {
      "image/png": "[encoded data removed]",
      "text/plain": [
       "<Figure size 800x600 with 1 Axes>"
      ]
     },
     "metadata": {},
     "output_type": "display_data"
    }
   ],
   "source": [
    "plt.figure(figsize=(8, 6))\n",
    "\n",
    "# Boxplot con la transformación inversa de log(precio)\n",
    "sns.boxplot(x=inv_boxcox(df[\"precio\"], lambda_opt), color=colors[0])\n",
    "\n",
    "plt.title(\"Boxplot del Precio Real de los Coches (tras filtrado)\", fontsize=16)\n",
    "plt.xlabel(\"Precio (euros)\", fontsize=14)\n",
    "\n",
    "plt.show()\n"
   ]
  },
  {
   "cell_type": "markdown",
   "metadata": {},
   "source": [
    "Vemos que sólo hemos perdido 183 vehículos pero ahora el precio máximo es de 79.000 euros, lo que comprende más vehículos y elimina outliers que el modelo podría predecir mal."
   ]
  },
  {
   "cell_type": "code",
   "execution_count": 68,
   "metadata": {},
   "outputs": [
    {
     "data": {
      "text/html": [
       "<div>\n",
       "<style scoped>\n",
       "    .dataframe tbody tr th:only-of-type {\n",
       "        vertical-align: middle;\n",
       "    }\n",
       "\n",
       "    .dataframe tbody tr th {\n",
       "        vertical-align: top;\n",
       "    }\n",
       "\n",
       "    .dataframe thead th {\n",
       "        text-align: right;\n",
       "    }\n",
       "</style>\n",
       "<table border=\"1\" class=\"dataframe\">\n",
       "  <thead>\n",
       "    <tr style=\"text-align: right;\">\n",
       "      <th></th>\n",
       "      <th>marca</th>\n",
       "      <th>modelo</th>\n",
       "      <th>precio</th>\n",
       "      <th>combustible</th>\n",
       "      <th>anyo_vehiculo</th>\n",
       "      <th>kilometraje</th>\n",
       "      <th>potencia</th>\n",
       "      <th>num_puertas</th>\n",
       "      <th>tipo_cambio</th>\n",
       "      <th>color</th>\n",
       "      <th>origen_anuncio</th>\n",
       "    </tr>\n",
       "  </thead>\n",
       "  <tbody>\n",
       "    <tr>\n",
       "      <th>0</th>\n",
       "      <td>AUDI</td>\n",
       "      <td>a3</td>\n",
       "      <td>57.722280</td>\n",
       "      <td>Híbrido</td>\n",
       "      <td>2023.0</td>\n",
       "      <td>46273</td>\n",
       "      <td>110.0</td>\n",
       "      <td>5.0</td>\n",
       "      <td>Automático</td>\n",
       "      <td>negro</td>\n",
       "      <td>WebScraping</td>\n",
       "    </tr>\n",
       "    <tr>\n",
       "      <th>1</th>\n",
       "      <td>HYUNDAI</td>\n",
       "      <td>i30</td>\n",
       "      <td>49.217755</td>\n",
       "      <td>Híbrido</td>\n",
       "      <td>2022.0</td>\n",
       "      <td>103209</td>\n",
       "      <td>120.0</td>\n",
       "      <td>5.0</td>\n",
       "      <td>Manual</td>\n",
       "      <td>None</td>\n",
       "      <td>WebScraping</td>\n",
       "    </tr>\n",
       "    <tr>\n",
       "      <th>2</th>\n",
       "      <td>TOYOTA</td>\n",
       "      <td>c-hr</td>\n",
       "      <td>53.897016</td>\n",
       "      <td>Híbrido</td>\n",
       "      <td>2020.0</td>\n",
       "      <td>110745</td>\n",
       "      <td>122.0</td>\n",
       "      <td>5.0</td>\n",
       "      <td>Automático</td>\n",
       "      <td>blanco</td>\n",
       "      <td>WebScraping</td>\n",
       "    </tr>\n",
       "    <tr>\n",
       "      <th>3</th>\n",
       "      <td>NISSAN</td>\n",
       "      <td>juke</td>\n",
       "      <td>52.136432</td>\n",
       "      <td>Gasolina</td>\n",
       "      <td>2022.0</td>\n",
       "      <td>63000</td>\n",
       "      <td>114.0</td>\n",
       "      <td>5.0</td>\n",
       "      <td>Automático</td>\n",
       "      <td>None</td>\n",
       "      <td>WebScraping</td>\n",
       "    </tr>\n",
       "    <tr>\n",
       "      <th>4</th>\n",
       "      <td>NISSAN</td>\n",
       "      <td>qashqai</td>\n",
       "      <td>57.102307</td>\n",
       "      <td>Híbrido</td>\n",
       "      <td>2022.0</td>\n",
       "      <td>62765</td>\n",
       "      <td>140.0</td>\n",
       "      <td>5.0</td>\n",
       "      <td>Manual</td>\n",
       "      <td>negro</td>\n",
       "      <td>WebScraping</td>\n",
       "    </tr>\n",
       "  </tbody>\n",
       "</table>\n",
       "</div>"
      ],
      "text/plain": [
       "     marca   modelo     precio combustible  anyo_vehiculo  kilometraje  \\\n",
       "0     AUDI       a3  57.722280     Híbrido         2023.0        46273   \n",
       "1  HYUNDAI      i30  49.217755     Híbrido         2022.0       103209   \n",
       "2   TOYOTA     c-hr  53.897016     Híbrido         2020.0       110745   \n",
       "3   NISSAN     juke  52.136432    Gasolina         2022.0        63000   \n",
       "4   NISSAN  qashqai  57.102307     Híbrido         2022.0        62765   \n",
       "\n",
       "   potencia  num_puertas tipo_cambio   color origen_anuncio  \n",
       "0     110.0          5.0  Automático   negro    WebScraping  \n",
       "1     120.0          5.0      Manual    None    WebScraping  \n",
       "2     122.0          5.0  Automático  blanco    WebScraping  \n",
       "3     114.0          5.0  Automático    None    WebScraping  \n",
       "4     140.0          5.0      Manual   negro    WebScraping  "
      ]
     },
     "execution_count": 68,
     "metadata": {},
     "output_type": "execute_result"
    }
   ],
   "source": [
    "df.head()"
   ]
  },
  {
   "cell_type": "markdown",
   "metadata": {},
   "source": [
    "Vemos que el precio ya no está en euros. Al final, cuando ya esté hecho el modelo, habrá que deshacer esta transformación para obtener el precio real del vehículo a predecir."
   ]
  },
  {
   "cell_type": "code",
   "execution_count": 69,
   "metadata": {},
   "outputs": [
    {
     "name": "stdout",
     "output_type": "stream",
     "text": [
      "<class 'pandas.core.frame.DataFrame'>\n",
      "Index: 47870 entries, 0 to 48052\n",
      "Data columns (total 11 columns):\n",
      " #   Column          Non-Null Count  Dtype  \n",
      "---  ------          --------------  -----  \n",
      " 0   marca           47870 non-null  object \n",
      " 1   modelo          47870 non-null  object \n",
      " 2   precio          47870 non-null  float64\n",
      " 3   combustible     47650 non-null  object \n",
      " 4   anyo_vehiculo   47868 non-null  float64\n",
      " 5   kilometraje     47870 non-null  int64  \n",
      " 6   potencia        40392 non-null  float64\n",
      " 7   num_puertas     47755 non-null  float64\n",
      " 8   tipo_cambio     47779 non-null  object \n",
      " 9   color           46507 non-null  object \n",
      " 10  origen_anuncio  47870 non-null  object \n",
      "dtypes: float64(4), int64(1), object(6)\n",
      "memory usage: 5.4+ MB\n"
     ]
    }
   ],
   "source": [
    "df.info()"
   ]
  },
  {
   "cell_type": "markdown",
   "metadata": {},
   "source": [
    "### Variables numéricas:"
   ]
  },
  {
   "cell_type": "markdown",
   "metadata": {},
   "source": [
    "#### Potencia:"
   ]
  },
  {
   "cell_type": "markdown",
   "metadata": {},
   "source": [
    "Vamos a analizar los nulos de la columna ```'potencia'```, a ver si son debidos al tipo de combustible o simplemente falta en esos registros."
   ]
  },
  {
   "cell_type": "code",
   "execution_count": 70,
   "metadata": {},
   "outputs": [
    {
     "data": {
      "text/plain": [
       "combustible\n",
       "Diesel                   3\n",
       "Diésel                5238\n",
       "Eléctrico                0\n",
       "Gas licuado (GLP)        0\n",
       "Gas natural (CNG)        0\n",
       "Gasolina              2089\n",
       "Híbrido                  0\n",
       "Híbrido Enchufable       0\n",
       "Híbrido enchufable       0\n",
       "Name: potencia, dtype: int64"
      ]
     },
     "execution_count": 70,
     "metadata": {},
     "output_type": "execute_result"
    }
   ],
   "source": [
    "df.groupby(\"combustible\")[\"potencia\"].apply(lambda x: x.isnull().sum())"
   ]
  },
  {
   "cell_type": "markdown",
   "metadata": {},
   "source": [
    "Como parece que hay varios formatos de la columna combustible, vamos a mapearlos:"
   ]
  },
  {
   "cell_type": "code",
   "execution_count": 71,
   "metadata": {},
   "outputs": [],
   "source": [
    "\n",
    "mapa_combustible = {\n",
    "    \"Diesel\": \"Diésel\",\n",
    "    \"Híbrido enchufable\": \"Híbrido Enchufable\",\n",
    "    \"Híbrido Enchufable\": \"Híbrido Enchufable\"\n",
    "}\n",
    "\n",
    "df[\"combustible\"] = df[\"combustible\"].replace(mapa_combustible)"
   ]
  },
  {
   "cell_type": "code",
   "execution_count": 72,
   "metadata": {},
   "outputs": [
    {
     "data": {
      "text/plain": [
       "combustible\n",
       "Diésel                28809\n",
       "Gasolina              15814\n",
       "Híbrido                1996\n",
       "Híbrido Enchufable      469\n",
       "Eléctrico               455\n",
       "Gas natural (CNG)        58\n",
       "Gas licuado (GLP)        49\n",
       "Name: count, dtype: int64"
      ]
     },
     "execution_count": 72,
     "metadata": {},
     "output_type": "execute_result"
    }
   ],
   "source": [
    "df[\"combustible\"].value_counts()"
   ]
  },
  {
   "cell_type": "code",
   "execution_count": 73,
   "metadata": {},
   "outputs": [
    {
     "data": {
      "text/plain": [
       "combustible\n",
       "Diésel      5241\n",
       "Gasolina    2089\n",
       "dtype: int64"
      ]
     },
     "execution_count": 73,
     "metadata": {},
     "output_type": "execute_result"
    }
   ],
   "source": [
    "df[df[\"potencia\"].isna()].groupby(\"combustible\").size()"
   ]
  },
  {
   "cell_type": "markdown",
   "metadata": {},
   "source": [
    "Observamos que todos los nulos son para vehículos de gasolina o diésel, por lo que vamos a eliminar estos registros del DataFrame, ya que tenemos una cantidad de datos abundante y puede ser un parámetro sensible en el modelo, por lo que tratar de rellenar esos NaN por alguna métrica como la media, puede afectar negativamente."
   ]
  },
  {
   "cell_type": "code",
   "execution_count": 74,
   "metadata": {},
   "outputs": [
    {
     "data": {
      "text/html": [
       "<div>\n",
       "<style scoped>\n",
       "    .dataframe tbody tr th:only-of-type {\n",
       "        vertical-align: middle;\n",
       "    }\n",
       "\n",
       "    .dataframe tbody tr th {\n",
       "        vertical-align: top;\n",
       "    }\n",
       "\n",
       "    .dataframe thead th {\n",
       "        text-align: right;\n",
       "    }\n",
       "</style>\n",
       "<table border=\"1\" class=\"dataframe\">\n",
       "  <thead>\n",
       "    <tr style=\"text-align: right;\">\n",
       "      <th></th>\n",
       "      <th>marca</th>\n",
       "      <th>modelo</th>\n",
       "      <th>precio</th>\n",
       "      <th>combustible</th>\n",
       "      <th>anyo_vehiculo</th>\n",
       "      <th>kilometraje</th>\n",
       "      <th>potencia</th>\n",
       "      <th>num_puertas</th>\n",
       "      <th>tipo_cambio</th>\n",
       "      <th>color</th>\n",
       "      <th>origen_anuncio</th>\n",
       "    </tr>\n",
       "  </thead>\n",
       "  <tbody>\n",
       "    <tr>\n",
       "      <th>0</th>\n",
       "      <td>AUDI</td>\n",
       "      <td>a3</td>\n",
       "      <td>57.722280</td>\n",
       "      <td>Híbrido</td>\n",
       "      <td>2023.0</td>\n",
       "      <td>46273</td>\n",
       "      <td>110.0</td>\n",
       "      <td>5.0</td>\n",
       "      <td>Automático</td>\n",
       "      <td>negro</td>\n",
       "      <td>WebScraping</td>\n",
       "    </tr>\n",
       "    <tr>\n",
       "      <th>1</th>\n",
       "      <td>HYUNDAI</td>\n",
       "      <td>i30</td>\n",
       "      <td>49.217755</td>\n",
       "      <td>Híbrido</td>\n",
       "      <td>2022.0</td>\n",
       "      <td>103209</td>\n",
       "      <td>120.0</td>\n",
       "      <td>5.0</td>\n",
       "      <td>Manual</td>\n",
       "      <td>None</td>\n",
       "      <td>WebScraping</td>\n",
       "    </tr>\n",
       "    <tr>\n",
       "      <th>2</th>\n",
       "      <td>TOYOTA</td>\n",
       "      <td>c-hr</td>\n",
       "      <td>53.897016</td>\n",
       "      <td>Híbrido</td>\n",
       "      <td>2020.0</td>\n",
       "      <td>110745</td>\n",
       "      <td>122.0</td>\n",
       "      <td>5.0</td>\n",
       "      <td>Automático</td>\n",
       "      <td>blanco</td>\n",
       "      <td>WebScraping</td>\n",
       "    </tr>\n",
       "    <tr>\n",
       "      <th>3</th>\n",
       "      <td>NISSAN</td>\n",
       "      <td>juke</td>\n",
       "      <td>52.136432</td>\n",
       "      <td>Gasolina</td>\n",
       "      <td>2022.0</td>\n",
       "      <td>63000</td>\n",
       "      <td>114.0</td>\n",
       "      <td>5.0</td>\n",
       "      <td>Automático</td>\n",
       "      <td>None</td>\n",
       "      <td>WebScraping</td>\n",
       "    </tr>\n",
       "    <tr>\n",
       "      <th>4</th>\n",
       "      <td>NISSAN</td>\n",
       "      <td>qashqai</td>\n",
       "      <td>57.102307</td>\n",
       "      <td>Híbrido</td>\n",
       "      <td>2022.0</td>\n",
       "      <td>62765</td>\n",
       "      <td>140.0</td>\n",
       "      <td>5.0</td>\n",
       "      <td>Manual</td>\n",
       "      <td>negro</td>\n",
       "      <td>WebScraping</td>\n",
       "    </tr>\n",
       "  </tbody>\n",
       "</table>\n",
       "</div>"
      ],
      "text/plain": [
       "     marca   modelo     precio combustible  anyo_vehiculo  kilometraje  \\\n",
       "0     AUDI       a3  57.722280     Híbrido         2023.0        46273   \n",
       "1  HYUNDAI      i30  49.217755     Híbrido         2022.0       103209   \n",
       "2   TOYOTA     c-hr  53.897016     Híbrido         2020.0       110745   \n",
       "3   NISSAN     juke  52.136432    Gasolina         2022.0        63000   \n",
       "4   NISSAN  qashqai  57.102307     Híbrido         2022.0        62765   \n",
       "\n",
       "   potencia  num_puertas tipo_cambio   color origen_anuncio  \n",
       "0     110.0          5.0  Automático   negro    WebScraping  \n",
       "1     120.0          5.0      Manual    None    WebScraping  \n",
       "2     122.0          5.0  Automático  blanco    WebScraping  \n",
       "3     114.0          5.0  Automático    None    WebScraping  \n",
       "4     140.0          5.0      Manual   negro    WebScraping  "
      ]
     },
     "execution_count": 74,
     "metadata": {},
     "output_type": "execute_result"
    }
   ],
   "source": [
    "df = df.drop(index=(df.loc[df.loc[:, \"potencia\"].isna() == True, :]).index)\n",
    "df.head()"
   ]
  },
  {
   "cell_type": "code",
   "execution_count": 75,
   "metadata": {},
   "outputs": [
    {
     "name": "stderr",
     "output_type": "stream",
     "text": [
      "c:\\Users\\alberto.pintos\\AppData\\Local\\anaconda3\\Lib\\site-packages\\seaborn\\categorical.py:641: FutureWarning: The default of observed=False is deprecated and will be changed to True in a future version of pandas. Pass observed=False to retain current behavior or observed=True to adopt the future default and silence this warning.\n",
      "  grouped_vals = vals.groupby(grouper)\n"
     ]
    },
    {
     "data": {
      "image/png": "[encoded data removed]",
      "text/plain": [
       "<Figure size 800x600 with 1 Axes>"
      ]
     },
     "metadata": {},
     "output_type": "display_data"
    }
   ],
   "source": [
    "# Definimos los rangos de potencia:\n",
    "min_potencia = df['potencia'].min()\n",
    "max_potencia = df['potencia'].max()\n",
    "\n",
    "num_bins = 8\n",
    "\n",
    "bins = np.linspace(min_potencia, max_potencia, num_bins + 1) \n",
    "bins = np.round(bins, -1) \n",
    "\n",
    "labels = [f'{int(bins[i])}-{int(bins[i+1])}' for i in range(len(bins)-1)]\n",
    "\n",
    "df_rangos = df.copy() \n",
    "df_rangos['potencia_rango'] = pd.cut(df_rangos['potencia'], bins=bins, labels=labels, right=False)\n",
    "\n",
    "plt.figure(figsize = (8, 6))\n",
    "\n",
    "sns.countplot(x=df_rangos[\"potencia_rango\"], order=labels, color=colors[0])\n",
    "\n",
    "plt.title(\"Cantidad de vehículos por potencia\", fontsize=16)\n",
    "plt.xlabel(\"Potencia (CV)\", fontsize=14)\n",
    "plt.ylabel(\"Cantidad de vehículos\", fontsize=14)\n",
    "# plt.xticks(rotation=45)  \n",
    "\n",
    "plt.xticks(ha='center') \n",
    "plt.tight_layout()\n",
    "\n",
    "plt.show()"
   ]
  },
  {
   "cell_type": "code",
   "execution_count": 76,
   "metadata": {},
   "outputs": [
    {
     "data": {
      "text/plain": [
       "marca             622\n",
       "modelo            622\n",
       "precio            622\n",
       "combustible       622\n",
       "anyo_vehiculo     622\n",
       "kilometraje       622\n",
       "potencia          622\n",
       "num_puertas       622\n",
       "tipo_cambio       622\n",
       "color             606\n",
       "origen_anuncio    622\n",
       "dtype: int64"
      ]
     },
     "execution_count": 76,
     "metadata": {},
     "output_type": "execute_result"
    }
   ],
   "source": [
    "# Num de vehículos con potncia > 330 CV:\n",
    "\n",
    "df.loc[df.loc[:, \"potencia\"] > 320, :].count()"
   ]
  },
  {
   "cell_type": "code",
   "execution_count": 77,
   "metadata": {},
   "outputs": [
    {
     "name": "stdout",
     "output_type": "stream",
     "text": [
      "<class 'pandas.core.frame.DataFrame'>\n",
      "Index: 40392 entries, 0 to 48052\n",
      "Data columns (total 11 columns):\n",
      " #   Column          Non-Null Count  Dtype  \n",
      "---  ------          --------------  -----  \n",
      " 0   marca           40392 non-null  object \n",
      " 1   modelo          40392 non-null  object \n",
      " 2   precio          40392 non-null  float64\n",
      " 3   combustible     40320 non-null  object \n",
      " 4   anyo_vehiculo   40390 non-null  float64\n",
      " 5   kilometraje     40392 non-null  int64  \n",
      " 6   potencia        40392 non-null  float64\n",
      " 7   num_puertas     40392 non-null  float64\n",
      " 8   tipo_cambio     40301 non-null  object \n",
      " 9   color           39342 non-null  object \n",
      " 10  origen_anuncio  40392 non-null  object \n",
      "dtypes: float64(4), int64(1), object(6)\n",
      "memory usage: 3.7+ MB\n"
     ]
    }
   ],
   "source": [
    "df.info()"
   ]
  },
  {
   "cell_type": "markdown",
   "metadata": {},
   "source": [
    "#### Año:"
   ]
  },
  {
   "cell_type": "code",
   "execution_count": 90,
   "metadata": {},
   "outputs": [
    {
     "data": {
      "text/html": [
       "<div>\n",
       "<style scoped>\n",
       "    .dataframe tbody tr th:only-of-type {\n",
       "        vertical-align: middle;\n",
       "    }\n",
       "\n",
       "    .dataframe tbody tr th {\n",
       "        vertical-align: top;\n",
       "    }\n",
       "\n",
       "    .dataframe thead th {\n",
       "        text-align: right;\n",
       "    }\n",
       "</style>\n",
       "<table border=\"1\" class=\"dataframe\">\n",
       "  <thead>\n",
       "    <tr style=\"text-align: right;\">\n",
       "      <th></th>\n",
       "      <th>marca</th>\n",
       "      <th>modelo</th>\n",
       "      <th>precio</th>\n",
       "      <th>combustible</th>\n",
       "      <th>anyo_vehiculo</th>\n",
       "      <th>kilometraje</th>\n",
       "      <th>potencia</th>\n",
       "      <th>num_puertas</th>\n",
       "      <th>tipo_cambio</th>\n",
       "      <th>color</th>\n",
       "      <th>origen_anuncio</th>\n",
       "    </tr>\n",
       "  </thead>\n",
       "  <tbody>\n",
       "    <tr>\n",
       "      <th>36986</th>\n",
       "      <td>SEAT</td>\n",
       "      <td>arona</td>\n",
       "      <td>55.744723</td>\n",
       "      <td>Gasolina</td>\n",
       "      <td>NaN</td>\n",
       "      <td>1</td>\n",
       "      <td>115.0</td>\n",
       "      <td>5.0</td>\n",
       "      <td>Manual</td>\n",
       "      <td>negro</td>\n",
       "      <td>dataset kaggle</td>\n",
       "    </tr>\n",
       "    <tr>\n",
       "      <th>45970</th>\n",
       "      <td>KIA</td>\n",
       "      <td>stonic</td>\n",
       "      <td>51.122602</td>\n",
       "      <td>Gasolina</td>\n",
       "      <td>NaN</td>\n",
       "      <td>1</td>\n",
       "      <td>100.0</td>\n",
       "      <td>5.0</td>\n",
       "      <td>Manual</td>\n",
       "      <td>rojo</td>\n",
       "      <td>dataset kaggle</td>\n",
       "    </tr>\n",
       "  </tbody>\n",
       "</table>\n",
       "</div>"
      ],
      "text/plain": [
       "      marca  modelo     precio combustible  anyo_vehiculo  kilometraje  \\\n",
       "36986  SEAT   arona  55.744723    Gasolina            NaN            1   \n",
       "45970   KIA  stonic  51.122602    Gasolina            NaN            1   \n",
       "\n",
       "       potencia  num_puertas tipo_cambio  color  origen_anuncio  \n",
       "36986     115.0          5.0      Manual  negro  dataset kaggle  \n",
       "45970     100.0          5.0      Manual   rojo  dataset kaggle  "
      ]
     },
     "execution_count": 90,
     "metadata": {},
     "output_type": "execute_result"
    }
   ],
   "source": [
    "# Vemos si hay alguno nulo:\n",
    "\n",
    "df[df[\"anyo_vehiculo\"].isna()]"
   ]
  },
  {
   "cell_type": "markdown",
   "metadata": {},
   "source": [
    "Vamos a ver la distribución de valores del campo ```\"anyo_vehiculo\"```."
   ]
  },
  {
   "cell_type": "markdown",
   "metadata": {},
   "source": [
    "Hay dos con valor nulo. Lo eliminamos y convertimos el resto a int:"
   ]
  },
  {
   "cell_type": "code",
   "execution_count": 91,
   "metadata": {},
   "outputs": [],
   "source": [
    "df = df.dropna(subset=[\"anyo_vehiculo\"])\n",
    "\n",
    "df[\"anyo_vehiculo\"] = df[\"anyo_vehiculo\"].astype(int)"
   ]
  },
  {
   "cell_type": "code",
   "execution_count": 92,
   "metadata": {},
   "outputs": [
    {
     "data": {
      "text/plain": [
       "anyo_vehiculo\n",
       "2016    4634\n",
       "2019    4536\n",
       "2020    4143\n",
       "2017    3939\n",
       "2018    3589\n",
       "2015    2690\n",
       "2014    1705\n",
       "2021    1296\n",
       "2013    1245\n",
       "2011    1128\n",
       "2007    1123\n",
       "2008    1099\n",
       "2010    1081\n",
       "2012    1053\n",
       "2009     988\n",
       "2006     948\n",
       "2005     855\n",
       "2004     679\n",
       "2022     656\n",
       "2024     480\n",
       "2003     476\n",
       "2023     458\n",
       "2002     351\n",
       "2001     281\n",
       "2000     239\n",
       "1999     182\n",
       "1998     105\n",
       "1997      72\n",
       "1996      58\n",
       "2025      44\n",
       "1993      42\n",
       "1995      35\n",
       "1992      34\n",
       "1994      30\n",
       "1991      26\n",
       "1989      25\n",
       "1990      17\n",
       "1988      11\n",
       "1987      10\n",
       "1986       8\n",
       "1982       7\n",
       "1985       5\n",
       "1984       3\n",
       "1983       3\n",
       "1980       1\n",
       "Name: count, dtype: int64"
      ]
     },
     "execution_count": 92,
     "metadata": {},
     "output_type": "execute_result"
    }
   ],
   "source": [
    "df[\"anyo_vehiculo\"].value_counts()"
   ]
  },
  {
   "cell_type": "code",
   "execution_count": 93,
   "metadata": {},
   "outputs": [
    {
     "data": {
      "image/png": "[encoded data removed]",
      "text/plain": [
       "<Figure size 800x600 with 1 Axes>"
      ]
     },
     "metadata": {},
     "output_type": "display_data"
    }
   ],
   "source": [
    "plt.figure(figsize = (8, 6))\n",
    "\n",
    "rango_años = np.linspace(df[\"anyo_vehiculo\"].min(), df[\"anyo_vehiculo\"].max(), num=int(df[\"anyo_vehiculo\"].max() - df[\"anyo_vehiculo\"].min()) + 1, dtype=int)\n",
    "\n",
    "\n",
    "sns.countplot(x=df[\"anyo_vehiculo\"], order=rango_años, color=colors[0])\n",
    "\n",
    "plt.title(\"Distribución de vehículos por año de fabricación\", fontsize=16)\n",
    "plt.xlabel(\"Año de fabricación\", fontsize=14)\n",
    "plt.ylabel(\"Cantidad de vehículos\", fontsize=14)\n",
    "plt.xticks(rotation=90)  \n",
    "\n",
    "plt.show()"
   ]
  },
  {
   "cell_type": "markdown",
   "metadata": {},
   "source": [
    "#### Número de puertas:"
   ]
  },
  {
   "cell_type": "markdown",
   "metadata": {},
   "source": [
    "Veamos los valores de la siguiente columna no numérica, ```\"num_puertas\"```:"
   ]
  },
  {
   "cell_type": "code",
   "execution_count": 94,
   "metadata": {},
   "outputs": [
    {
     "data": {
      "text/plain": [
       "num_puertas\n",
       "5    30672\n",
       "4     5660\n",
       "3     2470\n",
       "2     1588\n",
       "Name: count, dtype: int64"
      ]
     },
     "execution_count": 94,
     "metadata": {},
     "output_type": "execute_result"
    }
   ],
   "source": [
    "df[\"num_puertas\"] = df[\"num_puertas\"].astype(int)\n",
    "\n",
    "df[\"num_puertas\"].value_counts()"
   ]
  },
  {
   "cell_type": "markdown",
   "metadata": {},
   "source": [
    "Vamos a agrupar los coches de 5 puertas con los de 4, y los de 3 con los de 2, ya que la diferencia es que no se cuenta el maletero."
   ]
  },
  {
   "cell_type": "code",
   "execution_count": 95,
   "metadata": {},
   "outputs": [],
   "source": [
    "num_puertas = {5: 5,\n",
    "            4 : 5,\n",
    "            3 : 3,\n",
    "            2 : 3}\n",
    "                     \n",
    "df[\"num_puertas\"] = df[\"num_puertas\"].map(num_puertas)"
   ]
  },
  {
   "cell_type": "code",
   "execution_count": 96,
   "metadata": {},
   "outputs": [
    {
     "data": {
      "text/plain": [
       "num_puertas\n",
       "5    36332\n",
       "3     4058\n",
       "Name: count, dtype: int64"
      ]
     },
     "execution_count": 96,
     "metadata": {},
     "output_type": "execute_result"
    }
   ],
   "source": [
    "df[\"num_puertas\"].value_counts()"
   ]
  },
  {
   "cell_type": "code",
   "execution_count": 97,
   "metadata": {},
   "outputs": [
    {
     "name": "stdout",
     "output_type": "stream",
     "text": [
      "<class 'pandas.core.frame.DataFrame'>\n",
      "Index: 40390 entries, 0 to 48052\n",
      "Data columns (total 11 columns):\n",
      " #   Column          Non-Null Count  Dtype  \n",
      "---  ------          --------------  -----  \n",
      " 0   marca           40390 non-null  object \n",
      " 1   modelo          40390 non-null  object \n",
      " 2   precio          40390 non-null  float64\n",
      " 3   combustible     40318 non-null  object \n",
      " 4   anyo_vehiculo   40390 non-null  int32  \n",
      " 5   kilometraje     40390 non-null  int64  \n",
      " 6   potencia        40390 non-null  float64\n",
      " 7   num_puertas     40390 non-null  int64  \n",
      " 8   tipo_cambio     40299 non-null  object \n",
      " 9   color           39340 non-null  object \n",
      " 10  origen_anuncio  40390 non-null  object \n",
      "dtypes: float64(2), int32(1), int64(2), object(6)\n",
      "memory usage: 3.5+ MB\n"
     ]
    }
   ],
   "source": [
    "df.info()"
   ]
  },
  {
   "cell_type": "markdown",
   "metadata": {},
   "source": [
    "### Variables categóricas:"
   ]
  },
  {
   "cell_type": "markdown",
   "metadata": {},
   "source": [
    "#### Color:"
   ]
  },
  {
   "cell_type": "markdown",
   "metadata": {},
   "source": [
    "La columna ```\"color\"``` sigue teniendo bastantes NaN."
   ]
  },
  {
   "cell_type": "code",
   "execution_count": 103,
   "metadata": {},
   "outputs": [
    {
     "data": {
      "text/plain": [
       "color\n",
       "blanco          11268\n",
       "gris             9786\n",
       "negro            7132\n",
       "azul             4930\n",
       "rojo             2927\n",
       "                 1050\n",
       "verde             643\n",
       "marrón            638\n",
       "beige             604\n",
       "granate           389\n",
       "amarillo          317\n",
       "gris / plata      317\n",
       "naranja           253\n",
       "plata              83\n",
       "violeta            53\n",
       "Name: count, dtype: int64"
      ]
     },
     "execution_count": 103,
     "metadata": {},
     "output_type": "execute_result"
    }
   ],
   "source": [
    "# pd.set_option(\"display.max_rows\", None)\n",
    "df[\"color\"] = df[\"color\"].fillna('').str.lower()\n",
    "\n",
    "df[\"color\"].value_counts()"
   ]
  },
  {
   "cell_type": "markdown",
   "metadata": {},
   "source": [
    "Vamos a eliminar la columna color, ya que es una columna categórica con 15 (uno de ellos con 1.050 nulos) valores únicos pero no aporta información valiosa al modelo."
   ]
  },
  {
   "cell_type": "code",
   "execution_count": 49,
   "metadata": {},
   "outputs": [],
   "source": [
    "df = df.drop(columns=\"color\")"
   ]
  },
  {
   "cell_type": "code",
   "execution_count": 181,
   "metadata": {},
   "outputs": [
    {
     "name": "stdout",
     "output_type": "stream",
     "text": [
      "<class 'pandas.core.frame.DataFrame'>\n",
      "Index: 40390 entries, 0 to 48052\n",
      "Data columns (total 10 columns):\n",
      " #   Column          Non-Null Count  Dtype  \n",
      "---  ------          --------------  -----  \n",
      " 0   marca           40390 non-null  object \n",
      " 1   modelo          40390 non-null  object \n",
      " 2   precio          40390 non-null  float64\n",
      " 3   combustible     40318 non-null  object \n",
      " 4   anyo_vehiculo   40390 non-null  int32  \n",
      " 5   kilometraje     40390 non-null  int64  \n",
      " 6   potencia        40390 non-null  float64\n",
      " 7   num_puertas     40390 non-null  int64  \n",
      " 8   tipo_cambio     40299 non-null  object \n",
      " 9   origen_anuncio  40390 non-null  object \n",
      "dtypes: float64(2), int32(1), int64(2), object(5)\n",
      "memory usage: 3.2+ MB\n"
     ]
    }
   ],
   "source": [
    "df.info()"
   ]
  },
  {
   "cell_type": "markdown",
   "metadata": {},
   "source": [
    "#### Tipo de cambio:"
   ]
  },
  {
   "cell_type": "markdown",
   "metadata": {},
   "source": [
    "La columna ```\"tipo_cambio\"``` también continúa teniendo bastantes NaN."
   ]
  },
  {
   "cell_type": "code",
   "execution_count": 182,
   "metadata": {},
   "outputs": [
    {
     "data": {
      "text/plain": [
       "tipo_cambio\n",
       "Manual        27524\n",
       "Automático    12775\n",
       "None             91\n",
       "Name: count, dtype: int64"
      ]
     },
     "execution_count": 182,
     "metadata": {},
     "output_type": "execute_result"
    }
   ],
   "source": [
    "df[\"tipo_cambio\"].value_counts(dropna=False)"
   ]
  },
  {
   "cell_type": "markdown",
   "metadata": {},
   "source": [
    "Como en la columna ```\"tipo_cambio\"``` existen muchos coches manuales y automáticos, vamos a eliminar las filas con valores de ```\"tipo_cambio\"``` nulos (91)."
   ]
  },
  {
   "cell_type": "code",
   "execution_count": 183,
   "metadata": {},
   "outputs": [
    {
     "data": {
      "text/html": [
       "<div>\n",
       "<style scoped>\n",
       "    .dataframe tbody tr th:only-of-type {\n",
       "        vertical-align: middle;\n",
       "    }\n",
       "\n",
       "    .dataframe tbody tr th {\n",
       "        vertical-align: top;\n",
       "    }\n",
       "\n",
       "    .dataframe thead th {\n",
       "        text-align: right;\n",
       "    }\n",
       "</style>\n",
       "<table border=\"1\" class=\"dataframe\">\n",
       "  <thead>\n",
       "    <tr style=\"text-align: right;\">\n",
       "      <th></th>\n",
       "      <th>marca</th>\n",
       "      <th>modelo</th>\n",
       "      <th>precio</th>\n",
       "      <th>combustible</th>\n",
       "      <th>anyo_vehiculo</th>\n",
       "      <th>kilometraje</th>\n",
       "      <th>potencia</th>\n",
       "      <th>num_puertas</th>\n",
       "      <th>tipo_cambio</th>\n",
       "      <th>origen_anuncio</th>\n",
       "    </tr>\n",
       "  </thead>\n",
       "  <tbody>\n",
       "    <tr>\n",
       "      <th>0</th>\n",
       "      <td>AUDI</td>\n",
       "      <td>a3</td>\n",
       "      <td>57.722264</td>\n",
       "      <td>Híbrido</td>\n",
       "      <td>2023</td>\n",
       "      <td>46273</td>\n",
       "      <td>110.0</td>\n",
       "      <td>5</td>\n",
       "      <td>Automático</td>\n",
       "      <td>WebScraping</td>\n",
       "    </tr>\n",
       "    <tr>\n",
       "      <th>1</th>\n",
       "      <td>HYUNDAI</td>\n",
       "      <td>i30</td>\n",
       "      <td>49.217742</td>\n",
       "      <td>Híbrido</td>\n",
       "      <td>2022</td>\n",
       "      <td>103209</td>\n",
       "      <td>120.0</td>\n",
       "      <td>5</td>\n",
       "      <td>Manual</td>\n",
       "      <td>WebScraping</td>\n",
       "    </tr>\n",
       "    <tr>\n",
       "      <th>2</th>\n",
       "      <td>TOYOTA</td>\n",
       "      <td>c-hr</td>\n",
       "      <td>53.897002</td>\n",
       "      <td>Híbrido</td>\n",
       "      <td>2020</td>\n",
       "      <td>110745</td>\n",
       "      <td>122.0</td>\n",
       "      <td>5</td>\n",
       "      <td>Automático</td>\n",
       "      <td>WebScraping</td>\n",
       "    </tr>\n",
       "    <tr>\n",
       "      <th>3</th>\n",
       "      <td>NISSAN</td>\n",
       "      <td>juke</td>\n",
       "      <td>52.136418</td>\n",
       "      <td>Gasolina</td>\n",
       "      <td>2022</td>\n",
       "      <td>63000</td>\n",
       "      <td>114.0</td>\n",
       "      <td>5</td>\n",
       "      <td>Automático</td>\n",
       "      <td>WebScraping</td>\n",
       "    </tr>\n",
       "    <tr>\n",
       "      <th>4</th>\n",
       "      <td>NISSAN</td>\n",
       "      <td>qashqai</td>\n",
       "      <td>57.102291</td>\n",
       "      <td>Híbrido</td>\n",
       "      <td>2022</td>\n",
       "      <td>62765</td>\n",
       "      <td>140.0</td>\n",
       "      <td>5</td>\n",
       "      <td>Manual</td>\n",
       "      <td>WebScraping</td>\n",
       "    </tr>\n",
       "  </tbody>\n",
       "</table>\n",
       "</div>"
      ],
      "text/plain": [
       "     marca   modelo     precio combustible  anyo_vehiculo  kilometraje  \\\n",
       "0     AUDI       a3  57.722264     Híbrido           2023        46273   \n",
       "1  HYUNDAI      i30  49.217742     Híbrido           2022       103209   \n",
       "2   TOYOTA     c-hr  53.897002     Híbrido           2020       110745   \n",
       "3   NISSAN     juke  52.136418    Gasolina           2022        63000   \n",
       "4   NISSAN  qashqai  57.102291     Híbrido           2022        62765   \n",
       "\n",
       "   potencia  num_puertas tipo_cambio origen_anuncio  \n",
       "0     110.0            5  Automático    WebScraping  \n",
       "1     120.0            5      Manual    WebScraping  \n",
       "2     122.0            5  Automático    WebScraping  \n",
       "3     114.0            5  Automático    WebScraping  \n",
       "4     140.0            5      Manual    WebScraping  "
      ]
     },
     "execution_count": 183,
     "metadata": {},
     "output_type": "execute_result"
    }
   ],
   "source": [
    "df = df.drop(index=(df.loc[df.loc[:, \"tipo_cambio\"].isna() == True, :]).index)\n",
    "df.head()"
   ]
  },
  {
   "cell_type": "code",
   "execution_count": 184,
   "metadata": {},
   "outputs": [
    {
     "name": "stdout",
     "output_type": "stream",
     "text": [
      "<class 'pandas.core.frame.DataFrame'>\n",
      "Index: 40299 entries, 0 to 48052\n",
      "Data columns (total 10 columns):\n",
      " #   Column          Non-Null Count  Dtype  \n",
      "---  ------          --------------  -----  \n",
      " 0   marca           40299 non-null  object \n",
      " 1   modelo          40299 non-null  object \n",
      " 2   precio          40299 non-null  float64\n",
      " 3   combustible     40227 non-null  object \n",
      " 4   anyo_vehiculo   40299 non-null  int32  \n",
      " 5   kilometraje     40299 non-null  int64  \n",
      " 6   potencia        40299 non-null  float64\n",
      " 7   num_puertas     40299 non-null  int64  \n",
      " 8   tipo_cambio     40299 non-null  object \n",
      " 9   origen_anuncio  40299 non-null  object \n",
      "dtypes: float64(2), int32(1), int64(2), object(5)\n",
      "memory usage: 3.2+ MB\n"
     ]
    }
   ],
   "source": [
    "df.info()"
   ]
  },
  {
   "cell_type": "markdown",
   "metadata": {},
   "source": [
    "Ahora que ya no contiene nulos, convertimos a numéricos los valores de la columna ```\"tipo_cambio\"```, mapeando como 0 los vehículos con cambio \"Manual\" y 1 los que tienen \"Automático\":"
   ]
  },
  {
   "cell_type": "code",
   "execution_count": 185,
   "metadata": {},
   "outputs": [
    {
     "data": {
      "text/plain": [
       "tipo_cambio\n",
       "Manual        27524\n",
       "Automático    12775\n",
       "Name: count, dtype: int64"
      ]
     },
     "execution_count": 185,
     "metadata": {},
     "output_type": "execute_result"
    }
   ],
   "source": [
    "df[\"tipo_cambio\"].value_counts()"
   ]
  },
  {
   "cell_type": "code",
   "execution_count": 186,
   "metadata": {},
   "outputs": [],
   "source": [
    "df[\"tipo_cambio\"] = df[\"tipo_cambio\"].apply(lambda x: 0 if x == \"Manual\" else 1)"
   ]
  },
  {
   "cell_type": "code",
   "execution_count": 187,
   "metadata": {},
   "outputs": [
    {
     "data": {
      "text/plain": [
       "tipo_cambio\n",
       "0    27524\n",
       "1    12775\n",
       "Name: count, dtype: int64"
      ]
     },
     "execution_count": 187,
     "metadata": {},
     "output_type": "execute_result"
    }
   ],
   "source": [
    "df[\"tipo_cambio\"].value_counts()"
   ]
  },
  {
   "cell_type": "code",
   "execution_count": 188,
   "metadata": {},
   "outputs": [
    {
     "name": "stdout",
     "output_type": "stream",
     "text": [
      "<class 'pandas.core.frame.DataFrame'>\n",
      "Index: 40299 entries, 0 to 48052\n",
      "Data columns (total 10 columns):\n",
      " #   Column          Non-Null Count  Dtype  \n",
      "---  ------          --------------  -----  \n",
      " 0   marca           40299 non-null  object \n",
      " 1   modelo          40299 non-null  object \n",
      " 2   precio          40299 non-null  float64\n",
      " 3   combustible     40227 non-null  object \n",
      " 4   anyo_vehiculo   40299 non-null  int32  \n",
      " 5   kilometraje     40299 non-null  int64  \n",
      " 6   potencia        40299 non-null  float64\n",
      " 7   num_puertas     40299 non-null  int64  \n",
      " 8   tipo_cambio     40299 non-null  int64  \n",
      " 9   origen_anuncio  40299 non-null  object \n",
      "dtypes: float64(2), int32(1), int64(3), object(4)\n",
      "memory usage: 3.2+ MB\n"
     ]
    }
   ],
   "source": [
    "df.info()"
   ]
  },
  {
   "cell_type": "markdown",
   "metadata": {},
   "source": [
    "#### Combustible:"
   ]
  },
  {
   "cell_type": "code",
   "execution_count": 189,
   "metadata": {},
   "outputs": [
    {
     "data": {
      "text/plain": [
       "marca             72\n",
       "modelo            72\n",
       "precio            72\n",
       "combustible        0\n",
       "anyo_vehiculo     72\n",
       "kilometraje       72\n",
       "potencia          72\n",
       "num_puertas       72\n",
       "tipo_cambio       72\n",
       "origen_anuncio    72\n",
       "dtype: int64"
      ]
     },
     "execution_count": 189,
     "metadata": {},
     "output_type": "execute_result"
    }
   ],
   "source": [
    "df[df[\"combustible\"].isna()].count()"
   ]
  },
  {
   "cell_type": "markdown",
   "metadata": {},
   "source": [
    "Todavía hay 34 registros con el valor de combustible nulo, de modo que eliminamos estos registros:"
   ]
  },
  {
   "cell_type": "code",
   "execution_count": 190,
   "metadata": {},
   "outputs": [
    {
     "name": "stdout",
     "output_type": "stream",
     "text": [
      "<class 'pandas.core.frame.DataFrame'>\n",
      "Index: 40227 entries, 0 to 48052\n",
      "Data columns (total 10 columns):\n",
      " #   Column          Non-Null Count  Dtype  \n",
      "---  ------          --------------  -----  \n",
      " 0   marca           40227 non-null  object \n",
      " 1   modelo          40227 non-null  object \n",
      " 2   precio          40227 non-null  float64\n",
      " 3   combustible     40227 non-null  object \n",
      " 4   anyo_vehiculo   40227 non-null  int32  \n",
      " 5   kilometraje     40227 non-null  int64  \n",
      " 6   potencia        40227 non-null  float64\n",
      " 7   num_puertas     40227 non-null  int64  \n",
      " 8   tipo_cambio     40227 non-null  int64  \n",
      " 9   origen_anuncio  40227 non-null  object \n",
      "dtypes: float64(2), int32(1), int64(3), object(4)\n",
      "memory usage: 3.2+ MB\n"
     ]
    }
   ],
   "source": [
    "df = df.dropna()\n",
    "df.info()"
   ]
  },
  {
   "cell_type": "markdown",
   "metadata": {},
   "source": [
    "Vemos que nos hemos quedado con 40.069 filas de 14 marcas de vehículos. Ya no tenemos valores nulos, ahora vamos a procesar las columnas restantes para que puedan ser usadas en el modelo."
   ]
  },
  {
   "cell_type": "code",
   "execution_count": 191,
   "metadata": {},
   "outputs": [
    {
     "data": {
      "text/plain": [
       "combustible\n",
       "Diésel                23503\n",
       "Gasolina              13703\n",
       "Híbrido                1994\n",
       "Híbrido Enchufable      467\n",
       "Eléctrico               453\n",
       "Gas natural (CNG)        58\n",
       "Gas licuado (GLP)        49\n",
       "Name: count, dtype: int64"
      ]
     },
     "execution_count": 191,
     "metadata": {},
     "output_type": "execute_result"
    }
   ],
   "source": [
    "df[\"combustible\"].value_counts()"
   ]
  },
  {
   "cell_type": "code",
   "execution_count": 192,
   "metadata": {},
   "outputs": [
    {
     "data": {
      "image/png": "[encoded data removed]",
      "text/plain": [
       "<Figure size 800x600 with 1 Axes>"
      ]
     },
     "metadata": {},
     "output_type": "display_data"
    }
   ],
   "source": [
    "plt.figure(figsize = (8, 6))\n",
    "\n",
    "sns.countplot(x=df[\"combustible\"], order=df[\"combustible\"].value_counts(ascending=False).index, color=colors[0])\n",
    "\n",
    "plt.title(\"Distribución de coches según el tipo de combustible\", fontsize=16)\n",
    "plt.xlabel(\"Tipo de combustible\", fontsize=14)\n",
    "plt.ylabel(\"Cantidad de vehículos\", fontsize=14)\n",
    "plt.xticks(rotation=45)  \n",
    "\n",
    "plt.show()"
   ]
  },
  {
   "cell_type": "code",
   "execution_count": 193,
   "metadata": {},
   "outputs": [
    {
     "name": "stdout",
     "output_type": "stream",
     "text": [
      "<class 'pandas.core.frame.DataFrame'>\n",
      "Index: 40227 entries, 0 to 48052\n",
      "Data columns (total 10 columns):\n",
      " #   Column          Non-Null Count  Dtype  \n",
      "---  ------          --------------  -----  \n",
      " 0   marca           40227 non-null  object \n",
      " 1   modelo          40227 non-null  object \n",
      " 2   precio          40227 non-null  float64\n",
      " 3   combustible     40227 non-null  object \n",
      " 4   anyo_vehiculo   40227 non-null  int32  \n",
      " 5   kilometraje     40227 non-null  int64  \n",
      " 6   potencia        40227 non-null  float64\n",
      " 7   num_puertas     40227 non-null  int64  \n",
      " 8   tipo_cambio     40227 non-null  int64  \n",
      " 9   origen_anuncio  40227 non-null  object \n",
      "dtypes: float64(2), int32(1), int64(3), object(4)\n",
      "memory usage: 3.2+ MB\n"
     ]
    }
   ],
   "source": [
    "df.info()"
   ]
  },
  {
   "cell_type": "markdown",
   "metadata": {},
   "source": [
    "Vamos ahora a convertir la columna ```\"combustible\"``` en numérica a través de un mapeado:"
   ]
  },
  {
   "cell_type": "code",
   "execution_count": 194,
   "metadata": {},
   "outputs": [
    {
     "data": {
      "text/plain": [
       "combustible\n",
       "Diésel                23503\n",
       "Gasolina              13703\n",
       "Híbrido                1994\n",
       "Híbrido Enchufable      467\n",
       "Eléctrico               453\n",
       "Gas natural (CNG)        58\n",
       "Gas licuado (GLP)        49\n",
       "Name: count, dtype: int64"
      ]
     },
     "execution_count": 194,
     "metadata": {},
     "output_type": "execute_result"
    }
   ],
   "source": [
    "df[\"combustible\"].value_counts()"
   ]
  },
  {
   "cell_type": "markdown",
   "metadata": {},
   "source": [
    "Vemos cómo predominan los coches de diésel y gasolina.\n",
    "\n",
    "Convertimos los valores en numéricos utilizando un mapeado:"
   ]
  },
  {
   "cell_type": "code",
   "execution_count": 195,
   "metadata": {},
   "outputs": [],
   "source": [
    "# Aplicamos un mapeado para la columna \"combustible\":\n",
    "\n",
    "tipos_combutible = {\"Diésel\" : 0,\n",
    "            \"Gasolina\" : 1,\n",
    "            \"Híbrido\" : 2,\n",
    "            \"Eléctrico\" : 3,\n",
    "            \"Híbrido Enchufable\" : 4, \n",
    "            \"Gas licuado (GLP)\" : 5,\n",
    "            \"Gas natural (CNG)\" : 6}\n",
    "                     \n",
    "df[\"combustible\"] = df[\"combustible\"].map(tipos_combutible)"
   ]
  },
  {
   "cell_type": "code",
   "execution_count": 196,
   "metadata": {},
   "outputs": [
    {
     "data": {
      "text/plain": [
       "combustible\n",
       "0    23503\n",
       "1    13703\n",
       "2     1994\n",
       "4      467\n",
       "3      453\n",
       "6       58\n",
       "5       49\n",
       "Name: count, dtype: int64"
      ]
     },
     "execution_count": 196,
     "metadata": {},
     "output_type": "execute_result"
    }
   ],
   "source": [
    "df[\"combustible\"].value_counts()"
   ]
  },
  {
   "cell_type": "code",
   "execution_count": 197,
   "metadata": {},
   "outputs": [
    {
     "name": "stdout",
     "output_type": "stream",
     "text": [
      "<class 'pandas.core.frame.DataFrame'>\n",
      "Index: 40227 entries, 0 to 48052\n",
      "Data columns (total 10 columns):\n",
      " #   Column          Non-Null Count  Dtype  \n",
      "---  ------          --------------  -----  \n",
      " 0   marca           40227 non-null  object \n",
      " 1   modelo          40227 non-null  object \n",
      " 2   precio          40227 non-null  float64\n",
      " 3   combustible     40227 non-null  int64  \n",
      " 4   anyo_vehiculo   40227 non-null  int32  \n",
      " 5   kilometraje     40227 non-null  int64  \n",
      " 6   potencia        40227 non-null  float64\n",
      " 7   num_puertas     40227 non-null  int64  \n",
      " 8   tipo_cambio     40227 non-null  int64  \n",
      " 9   origen_anuncio  40227 non-null  object \n",
      "dtypes: float64(2), int32(1), int64(4), object(3)\n",
      "memory usage: 3.2+ MB\n"
     ]
    }
   ],
   "source": [
    "df.info()"
   ]
  },
  {
   "cell_type": "markdown",
   "metadata": {},
   "source": [
    "#### Marca:"
   ]
  },
  {
   "cell_type": "markdown",
   "metadata": {},
   "source": [
    "Antes de convertir las columnas ```\"marca\"``` y ```\"modelo\"``` en númericas, vamos a guardar en un set las marcas y modelos de coches que quedan en el DataFrame, para luego utilizarlas en la Web App de predicción de precios:"
   ]
  },
  {
   "cell_type": "code",
   "execution_count": 198,
   "metadata": {},
   "outputs": [
    {
     "data": {
      "text/html": [
       "<div>\n",
       "<style scoped>\n",
       "    .dataframe tbody tr th:only-of-type {\n",
       "        vertical-align: middle;\n",
       "    }\n",
       "\n",
       "    .dataframe tbody tr th {\n",
       "        vertical-align: top;\n",
       "    }\n",
       "\n",
       "    .dataframe thead th {\n",
       "        text-align: right;\n",
       "    }\n",
       "</style>\n",
       "<table border=\"1\" class=\"dataframe\">\n",
       "  <thead>\n",
       "    <tr style=\"text-align: right;\">\n",
       "      <th></th>\n",
       "      <th>marca</th>\n",
       "      <th>modelo</th>\n",
       "      <th>precio</th>\n",
       "      <th>combustible</th>\n",
       "      <th>anyo_vehiculo</th>\n",
       "      <th>kilometraje</th>\n",
       "      <th>potencia</th>\n",
       "      <th>num_puertas</th>\n",
       "      <th>tipo_cambio</th>\n",
       "      <th>origen_anuncio</th>\n",
       "    </tr>\n",
       "  </thead>\n",
       "  <tbody>\n",
       "    <tr>\n",
       "      <th>0</th>\n",
       "      <td>AUDI</td>\n",
       "      <td>a3</td>\n",
       "      <td>57.722264</td>\n",
       "      <td>2</td>\n",
       "      <td>2023</td>\n",
       "      <td>46273</td>\n",
       "      <td>110.0</td>\n",
       "      <td>5</td>\n",
       "      <td>1</td>\n",
       "      <td>WebScraping</td>\n",
       "    </tr>\n",
       "    <tr>\n",
       "      <th>1</th>\n",
       "      <td>HYUNDAI</td>\n",
       "      <td>i30</td>\n",
       "      <td>49.217742</td>\n",
       "      <td>2</td>\n",
       "      <td>2022</td>\n",
       "      <td>103209</td>\n",
       "      <td>120.0</td>\n",
       "      <td>5</td>\n",
       "      <td>0</td>\n",
       "      <td>WebScraping</td>\n",
       "    </tr>\n",
       "    <tr>\n",
       "      <th>2</th>\n",
       "      <td>TOYOTA</td>\n",
       "      <td>c-hr</td>\n",
       "      <td>53.897002</td>\n",
       "      <td>2</td>\n",
       "      <td>2020</td>\n",
       "      <td>110745</td>\n",
       "      <td>122.0</td>\n",
       "      <td>5</td>\n",
       "      <td>1</td>\n",
       "      <td>WebScraping</td>\n",
       "    </tr>\n",
       "    <tr>\n",
       "      <th>3</th>\n",
       "      <td>NISSAN</td>\n",
       "      <td>juke</td>\n",
       "      <td>52.136418</td>\n",
       "      <td>1</td>\n",
       "      <td>2022</td>\n",
       "      <td>63000</td>\n",
       "      <td>114.0</td>\n",
       "      <td>5</td>\n",
       "      <td>1</td>\n",
       "      <td>WebScraping</td>\n",
       "    </tr>\n",
       "    <tr>\n",
       "      <th>4</th>\n",
       "      <td>NISSAN</td>\n",
       "      <td>qashqai</td>\n",
       "      <td>57.102291</td>\n",
       "      <td>2</td>\n",
       "      <td>2022</td>\n",
       "      <td>62765</td>\n",
       "      <td>140.0</td>\n",
       "      <td>5</td>\n",
       "      <td>0</td>\n",
       "      <td>WebScraping</td>\n",
       "    </tr>\n",
       "  </tbody>\n",
       "</table>\n",
       "</div>"
      ],
      "text/plain": [
       "     marca   modelo     precio  combustible  anyo_vehiculo  kilometraje  \\\n",
       "0     AUDI       a3  57.722264            2           2023        46273   \n",
       "1  HYUNDAI      i30  49.217742            2           2022       103209   \n",
       "2   TOYOTA     c-hr  53.897002            2           2020       110745   \n",
       "3   NISSAN     juke  52.136418            1           2022        63000   \n",
       "4   NISSAN  qashqai  57.102291            2           2022        62765   \n",
       "\n",
       "   potencia  num_puertas  tipo_cambio origen_anuncio  \n",
       "0     110.0            5            1    WebScraping  \n",
       "1     120.0            5            0    WebScraping  \n",
       "2     122.0            5            1    WebScraping  \n",
       "3     114.0            5            1    WebScraping  \n",
       "4     140.0            5            0    WebScraping  "
      ]
     },
     "execution_count": 198,
     "metadata": {},
     "output_type": "execute_result"
    }
   ],
   "source": [
    "df.head()"
   ]
  },
  {
   "cell_type": "code",
   "execution_count": 199,
   "metadata": {},
   "outputs": [
    {
     "name": "stdout",
     "output_type": "stream",
     "text": [
      "{'AUDI': {'q3', 'rs4', 'a1', 'sq7', 'sq5', 'r8', 'q3 sportback', 's7', 'rs7', 'a3', 'coupe', 'rs5', 'rs q3', 'q2', 'q7', 'a6 allroad quattro', 'tt rs', 'a4', 'cabriolet', 's6', 'q5', 'a8', 's3', 'tts', 'allroad quattro', 'a6', 'a5', 'q8', 's4', 'rs3', 's5', 'rs6', 'a4 allroad quattro', 'tt', 'a7', 'a2', 's8', '90', '100', 'e-tron'}, 'HYUNDAI': {'lantra', 'i20', 'accent', 'matrix', 'kona', 'coupe', 'elantra', 'xg', 'i40', 'h-1 travel', 'Bayon 1.0 TGDI Maxx', 'atos', 'grand santa fe', 'terracan', 'i30', 'veloster', 'sonata', 'Bayon 1.2 MPI Maxx', 'h-1', 'atos prime', 'ix20', 'trajet', 'genesis', 'ioniq', 'i20 active', 'ix35', 'tucson', 'getz', 'i10', 'ix55', 'h350', 'santa fe'}, 'TOYOTA': {'corolla', 'prius+', 'proace', 'supra', 'dyna', 'c-hr', 'previa', 'rav4', 'land cruiser 200', 'urban cruiser', 'iq', 'avensis', 'Priusplus Advance', 'corolla sedan', 'avensis verso', 'land cruiser 80', 'land cruiser 90', 'yaris', 'land cruiser 100', 'gr yaris', 'gt86', 'hilux', 'prius', 'celica', '4runner', 'corolla verso', 'auris', 'proace verso', 'camry', 'aygo', 'proace city verso', 'verso', 'CHR 2.0 180H Advance', 'CHR 2.0 180H Dynamic', 'land cruiser'}, 'NISSAN': {'pulsar', 'leaf', 'murano', '300 zx', 'nv300', 'sunny', 'qashqai', 'maxima qx', 'terrano ii', 'primera', 'trade', 'x-trail', 'pixo', 'cabstar', 'e-nv200', 'cube', 'gt-r', 'patrol', 'note', 'nt400', 'qashqai+2', 'nv400', 'micra', 'interstar', 'vanette cargo', 'navara', 'cabstar e', 'patrol gr', 'np300 navara', 'terrano', '100 nx', 'almera', 'primastar', 'nv200', 'tiida', 'juke', 'e-nv200 evalia', 'pick-up', 'nv250', 'serena', 'almera tino', '350z', 'evalia', '370z', 'kubistar', 'nt400 cabstar', 'pathfinder'}, 'KIA': {'stinger', 'sportage', 'niro', 'ceed sportswagon', 'pregio', 'Opirus 3.8 V6', 'ceed', 'pro_ceed gt', 'optima phev', 'niro phev', 'e-niro', 'optima', 'e-soul', 'pro ceed', 'optima sw', 'sephia ii', 'rio', 'ceed tourer', 'cerato', 'soul', 'carens', 'EV6 GTLine 774kWh RWD Long Range', 'shuma', 'xceed', 'picanto', 'venga', 'ceed sporty wagon', 'carnival', 'soul ev', 'sorento', 'stonic'}, 'CITROEN': {'2cv', 'c4 aircross', 'c5', 'c5 aircross hybrid', 'c4', 'spacetourer', 'ds4', 'zx', 'evasion', 'c1', 'ds3', 'bx', 'c2', 'c4 cactus', 'c3', 'c5 aircross', 'berlingo', 'nemo', 'c4 picasso', 'c3 pluriel', 'c-crosser', 'ax', 'c-15', 'e-c4', 'c4 sedan', 'c4 spacetourer', 'xantia', 'c6', 'c-elysee', 'c-zero', 'jumper', 'c3 picasso', 'c8', 'grand c4 spacetourer', 'jumpy', 'c3 aircross', 'grand c4 picasso', 'xsara', 'ds5', 'xsara picasso', 'saxo'}, 'OPEL': {'manta', 'crossland x', 'zafira-e life', 'agila', 'frontera', 'signum', 'antara', 'kadett', 'zafira', 'corsa', 'insignia', 'corsa-e', 'karl', 'omega', 'combo life', 'monterey', 'crossland', 'astra', 'mokka x', 'zafira life', 'tigra', 'ampera', 'gt', 'cabrio', 'vectra', 'grandland x', 'combo', 'gtc', 'grandland x phev', 'movano', 'meriva', 'mokka', 'zafira tourer', 'adam', 'corsa van', 'vivaro'}, 'FORD': {'transit', 'tourneo connect', 'b-max', 'ecosport', 'tourneo custom', 'probe', 'transit connect', 's-max', 'focus c-max', 'maverick', 'explorer', 'edge', 'c-max', 'fiesta', 'connect', 'ka', 'courier', 'galaxy', 'mustang', 'ka+', 'escort', 'sierra', 'ranger', 'transit courier', 'fiesta van', 'focus', 'kuga', 'capri', 'mondeo', 'grand c-max', 'transit custom', 'puma', 'tourneo courier', 'grand tourneo connect', 'fusion'}, 'VOLKSWAGEN': {'golf plus', 'new beetle', 'crafter', 'corrado', 'cc', 'caddy', 'ID. BUZZ Pro', 'phaeton', 'beetle', 'touareg', 'scirocco', 'id.3', 'bora', 'touran', 'golf sportsvan', 'multivan', 'passat', 'tiguan allspace', 'passat cc', 't-roc', 'TRoc Sport 1.5 TSI DSG', 'sharan', 'grand california', 'santana', 'caravelle', 'lupo', 'Taigo Life 1.0 TSI', 'amarok', 'transporter', 'arteon', 'polo', 'eos', 't-cross', 'tiguan', 'california', 'e-up!', 'golf', 'jetta', 'up!', 'lt'}, 'BMW': {'serie 8', 'compact', 'serie 3', 'serie 2', 'serie 2 active tourer', 'iX1 xDrive30', 'serie 6', 'x3', 'x1', 'serie 5', 'i3', 'x5', 'x2', 'serie 2 gran tourer', 'i4 eDrive40', 'x4', 'z4', 'serie 1', 'serie 4', 'serie 7', 'x6', 'z1', 'z3', 'i8', 'ix3'}, 'PEUGEOT': {'307 sw', '206', '208 xad', 'traveller', '206 +', '208', '107', 'partner origin', 'rcz', '4008', 'expert', '3008 hybrid', 'e-2008', '309', '607', '406', '108', '807', '806', '2008', '1007', '205', '407', 'partner', '306', '5008', 'ion', '308', 'e-208', '207', '106', '508 hybrid', '407 sw', '505', 'bipper', '4007', '207 +', '508', '206 sw', 'rifter', '307', '3008', 'boxer'}, 'SEAT': {'inca', 'arona', 'altea xl', 'ibiza', 'altea', 'exeo', 'altea freetrack', 'mii', 'ateca', 'tarraco', 'marbella', 'alhambra', 'arosa', 'leon', 'toledo', 'cordoba'}, 'RENAULT': {'r4', 'grand espace', 'master', 'mascott', 'kadjar', 'clio iii', 'r5', 'grand modus', 'laguna', 'clio campus', '5 E-Tech Iconic Cinq Autonomia Conf', 'modus', 'latitude', '19', 'safrane', 'captur', 'zoe', 'megane', 'r21', 'kangoo express', 'wind', 'grand kangoo combi', 'Austral Techno ETech Full Hybrid', 'talisman', 'grand scenic', 'Arkana Zen ETECH Hibrido 105kW145CV', 'kangoo', 'kangoo z.e.', 'trafic', 'kangoo combi', 'vel satis', 'clio 4', 'koleos', 'espace', 'r11', 'clio', 'kangoo furgon', 'master propulsion', 'fluence', 'maxity', 'scenic', 'r6', 'twingo', 'express'}, 'MERCEDES-BENZ': {'200', 'sprinter', 'clase glc', 'clase slk', 'clase s', 'clase gl', 'clase cla', 'clase sl', '400', 'clase g', 'clase slc', '220', 'clase gle', 'clase cls', 'clase clk', 'clase r', '140d', 'gla', 'clase gla', 'vito', 'clase a', 'clase c', '500', 'EQA EQA 250', 'glb', 'clase v', 'clase e', 'glc coupe', 'viano', 'clase x', '100d', 'clase cl', 'clase gls', '260', '190', 'clase b', 'gle', 'cla', 'clase sl r129', 'eqc', '300', 'clase gle coupe', 'clase clc', 'cls', 'citan', '230', 'gle coupe', 'clase glk', 'clase m'}}\n"
     ]
    }
   ],
   "source": [
    "marca_modelo_set = {}\n",
    "\n",
    "for index, row in df.iterrows():\n",
    "    make = row['marca']\n",
    "    model = row['modelo']\n",
    "    \n",
    "    if make not in marca_modelo_set:\n",
    "        marca_modelo_set[make] = {model}\n",
    "    else:\n",
    "        marca_modelo_set[make].add(model)\n",
    "\n",
    "# Guardamos el set con marcas y modelos en un pkl:\n",
    "\n",
    "with open('../include/utils/marca_modelo_set.pkl', 'wb') as archivo_salida3:\n",
    "    pickle.dump(marca_modelo_set, archivo_salida3)\n",
    "\n",
    "print(marca_modelo_set)"
   ]
  },
  {
   "cell_type": "markdown",
   "metadata": {},
   "source": [
    "Una vez guardado este set, empezamos con el análisis y procesado de las variables que utilizaremos en el modelo:"
   ]
  },
  {
   "cell_type": "code",
   "execution_count": 200,
   "metadata": {},
   "outputs": [
    {
     "data": {
      "text/plain": [
       "marca\n",
       "VOLKSWAGEN       4315\n",
       "BMW              4027\n",
       "MERCEDES-BENZ    3881\n",
       "AUDI             3364\n",
       "PEUGEOT          3109\n",
       "FORD             2948\n",
       "RENAULT          2948\n",
       "OPEL             2869\n",
       "CITROEN          2838\n",
       "SEAT             2520\n",
       "TOYOTA           2198\n",
       "NISSAN           2116\n",
       "HYUNDAI          1584\n",
       "KIA              1510\n",
       "Name: count, dtype: int64"
      ]
     },
     "execution_count": 200,
     "metadata": {},
     "output_type": "execute_result"
    }
   ],
   "source": [
    "marca_df = df[\"marca\"]\n",
    "marca_df.value_counts()"
   ]
  },
  {
   "cell_type": "markdown",
   "metadata": {},
   "source": [
    "Tenemos 14 marcas diferentes de coches. Vamos a hacer un countplot para ver cuántos vehículos tenemos de cada marca:"
   ]
  },
  {
   "cell_type": "code",
   "execution_count": 201,
   "metadata": {},
   "outputs": [
    {
     "data": {
      "image/png": "[encoded data removed]",
      "text/plain": [
       "<Figure size 800x600 with 1 Axes>"
      ]
     },
     "metadata": {},
     "output_type": "display_data"
    }
   ],
   "source": [
    "plt.figure(figsize = (8, 6))\n",
    "sns.countplot(y = marca_df, order=marca_df.value_counts(ascending=False).index, color=colors[0])\n",
    "\n",
    "plt.title(\"Cantidad de coches por marca\", fontsize=16)\n",
    "plt.xlabel(\"Cantidad de vehículos\", fontsize=14)\n",
    "plt.ylabel(\"Marca\", fontsize=14)\n",
    "\n",
    "plt.show()"
   ]
  },
  {
   "cell_type": "markdown",
   "metadata": {},
   "source": [
    "En el gráfico vemos cómo tenemos muchos coches registrados en la base de datos para cada una de las 14 marcas.\n",
    "\n",
    "Vamos a asignar un valor numérico a cada marca para poder utilizar dicha columna como feature del modelo:"
   ]
  },
  {
   "cell_type": "code",
   "execution_count": 202,
   "metadata": {},
   "outputs": [
    {
     "data": {
      "text/plain": [
       "marca\n",
       "13    4315\n",
       "1     4027\n",
       "6     3881\n",
       "0     3364\n",
       "9     3109\n",
       "3     2948\n",
       "10    2948\n",
       "8     2869\n",
       "2     2838\n",
       "11    2520\n",
       "12    2198\n",
       "7     2116\n",
       "4     1584\n",
       "5     1510\n",
       "Name: count, dtype: int64"
      ]
     },
     "execution_count": 202,
     "metadata": {},
     "output_type": "execute_result"
    }
   ],
   "source": [
    "# Asignamos cada marca a un valor numérico utilizando LabelEncoder:\n",
    "\n",
    "from sklearn.preprocessing import LabelEncoder\n",
    "\n",
    "encoder_marca = LabelEncoder()\n",
    "encoder_marca.fit(df[\"marca\"].sort_values(ascending=False))\n",
    "list(encoder_marca.classes_)\n",
    "df[\"marca\"] = encoder_marca.transform(df[\"marca\"])\n",
    "\n",
    "# Guardamos el LabelEncoder para poder utilizarlo después en otros archivos:\n",
    "\n",
    "with open('../include/utils/label_encoder_marca.pkl', 'wb') as archivo_salida1:\n",
    "    pickle.dump(encoder_marca, archivo_salida1)\n",
    "\n",
    "df[\"marca\"].value_counts()"
   ]
  },
  {
   "cell_type": "code",
   "execution_count": 203,
   "metadata": {},
   "outputs": [
    {
     "name": "stdout",
     "output_type": "stream",
     "text": [
      "['AUDI' 'BMW' 'CITROEN' 'FORD' 'HYUNDAI' 'KIA' 'MERCEDES-BENZ' 'NISSAN'\n",
      " 'OPEL' 'PEUGEOT' 'RENAULT' 'SEAT' 'TOYOTA' 'VOLKSWAGEN']\n"
     ]
    }
   ],
   "source": [
    "# muestra las marcas originales\n",
    "\n",
    "print(encoder_marca.classes_)\n"
   ]
  },
  {
   "cell_type": "code",
   "execution_count": 204,
   "metadata": {},
   "outputs": [
    {
     "data": {
      "text/plain": [
       "['AUDI']"
      ]
     },
     "execution_count": 204,
     "metadata": {},
     "output_type": "execute_result"
    }
   ],
   "source": [
    "# Para visualizar el mapping de marca con LabelEncoder\n",
    "\n",
    "list(encoder_marca.inverse_transform([0]))"
   ]
  },
  {
   "cell_type": "code",
   "execution_count": 205,
   "metadata": {},
   "outputs": [
    {
     "name": "stdout",
     "output_type": "stream",
     "text": [
      "<class 'pandas.core.frame.DataFrame'>\n",
      "Index: 40227 entries, 0 to 48052\n",
      "Data columns (total 10 columns):\n",
      " #   Column          Non-Null Count  Dtype  \n",
      "---  ------          --------------  -----  \n",
      " 0   marca           40227 non-null  int32  \n",
      " 1   modelo          40227 non-null  object \n",
      " 2   precio          40227 non-null  float64\n",
      " 3   combustible     40227 non-null  int64  \n",
      " 4   anyo_vehiculo   40227 non-null  int32  \n",
      " 5   kilometraje     40227 non-null  int64  \n",
      " 6   potencia        40227 non-null  float64\n",
      " 7   num_puertas     40227 non-null  int64  \n",
      " 8   tipo_cambio     40227 non-null  int64  \n",
      " 9   origen_anuncio  40227 non-null  object \n",
      "dtypes: float64(2), int32(2), int64(4), object(2)\n",
      "memory usage: 3.1+ MB\n"
     ]
    }
   ],
   "source": [
    "df.info()"
   ]
  },
  {
   "cell_type": "markdown",
   "metadata": {},
   "source": [
    "#### Modelo:"
   ]
  },
  {
   "cell_type": "markdown",
   "metadata": {},
   "source": [
    "Vamos ahora con la columna ```\"modelo\"```:"
   ]
  },
  {
   "cell_type": "code",
   "execution_count": 206,
   "metadata": {},
   "outputs": [
    {
     "data": {
      "text/plain": [
       "modelo\n",
       "golf              1433\n",
       "serie 3           1038\n",
       "qashqai           1032\n",
       "ibiza              872\n",
       "a3                 851\n",
       "                  ... \n",
       "safrane              1\n",
       "Opirus 3.8 V6        1\n",
       "partner origin       1\n",
       "wind                 1\n",
       "pick-up              1\n",
       "Name: count, Length: 513, dtype: int64"
      ]
     },
     "execution_count": 206,
     "metadata": {},
     "output_type": "execute_result"
    }
   ],
   "source": [
    "df[\"modelo\"].value_counts()"
   ]
  },
  {
   "cell_type": "markdown",
   "metadata": {},
   "source": [
    "Tenemos 513 modelos diferentes. En esta ocasión no realizamos el countplot ya que es información demasiado específica para visualizar.\n",
    "\n",
    "Aunque son muchos valores diferentes, por el momento, realizamos otro Label Encoder. Más adelante veremos si es una columna que aporte información al modelo."
   ]
  },
  {
   "cell_type": "code",
   "execution_count": 207,
   "metadata": {},
   "outputs": [
    {
     "data": {
      "text/plain": [
       "modelo\n",
       "241    1433\n",
       "425    1038\n",
       "387    1032\n",
       "274     872\n",
       "67      851\n",
       "       ... \n",
       "413       1\n",
       "61        1\n",
       "356       1\n",
       "490       1\n",
       "364       1\n",
       "Name: count, Length: 513, dtype: int64"
      ]
     },
     "execution_count": 207,
     "metadata": {},
     "output_type": "execute_result"
    }
   ],
   "source": [
    "from sklearn.preprocessing import LabelEncoder\n",
    "\n",
    "encoder_modelo = LabelEncoder()\n",
    "encoder_modelo.fit(df[\"modelo\"].sort_values(ascending=False))\n",
    "list(encoder_modelo.classes_)\n",
    "df[\"modelo\"] = encoder_modelo.transform(df[\"modelo\"])\n",
    "\n",
    "# Guardamos el Encoding:\n",
    "\n",
    "with open('../include/utils/label_encoder_modelo.pkl', 'wb') as archivo_salida2:\n",
    "    pickle.dump(encoder_modelo, archivo_salida2)\n",
    "\n",
    "df[\"modelo\"].value_counts()"
   ]
  },
  {
   "cell_type": "code",
   "execution_count": 208,
   "metadata": {},
   "outputs": [
    {
     "data": {
      "text/plain": [
       "['crafter']"
      ]
     },
     "execution_count": 208,
     "metadata": {},
     "output_type": "execute_result"
    }
   ],
   "source": [
    "# Para visualizar el mapping de model con LabelEncoder\n",
    "\n",
    "list(encoder_modelo.inverse_transform([196]))"
   ]
  },
  {
   "cell_type": "code",
   "execution_count": 209,
   "metadata": {},
   "outputs": [
    {
     "name": "stdout",
     "output_type": "stream",
     "text": [
      "<class 'pandas.core.frame.DataFrame'>\n",
      "Index: 40227 entries, 0 to 48052\n",
      "Data columns (total 10 columns):\n",
      " #   Column          Non-Null Count  Dtype  \n",
      "---  ------          --------------  -----  \n",
      " 0   marca           40227 non-null  int32  \n",
      " 1   modelo          40227 non-null  int32  \n",
      " 2   precio          40227 non-null  float64\n",
      " 3   combustible     40227 non-null  int64  \n",
      " 4   anyo_vehiculo   40227 non-null  int32  \n",
      " 5   kilometraje     40227 non-null  int64  \n",
      " 6   potencia        40227 non-null  float64\n",
      " 7   num_puertas     40227 non-null  int64  \n",
      " 8   tipo_cambio     40227 non-null  int64  \n",
      " 9   origen_anuncio  40227 non-null  object \n",
      "dtypes: float64(2), int32(3), int64(4), object(1)\n",
      "memory usage: 2.9+ MB\n"
     ]
    }
   ],
   "source": [
    "df.info()"
   ]
  },
  {
   "cell_type": "markdown",
   "metadata": {},
   "source": [
    "#### Origen anuncio:"
   ]
  },
  {
   "cell_type": "markdown",
   "metadata": {},
   "source": [
    "Tan solo falta la columna ```\"origen_anuncio\"```, que vamos a eliminar ya que sólo la hemos mantenido para diferenciar el origen del anuncio, pero no la queremos utilizar en el modelo predictivo."
   ]
  },
  {
   "cell_type": "code",
   "execution_count": 210,
   "metadata": {},
   "outputs": [],
   "source": [
    "df.drop(columns=[\"origen_anuncio\"], inplace=True)"
   ]
  },
  {
   "cell_type": "code",
   "execution_count": 211,
   "metadata": {},
   "outputs": [
    {
     "name": "stdout",
     "output_type": "stream",
     "text": [
      "<class 'pandas.core.frame.DataFrame'>\n",
      "Index: 40227 entries, 0 to 48052\n",
      "Data columns (total 9 columns):\n",
      " #   Column         Non-Null Count  Dtype  \n",
      "---  ------         --------------  -----  \n",
      " 0   marca          40227 non-null  int32  \n",
      " 1   modelo         40227 non-null  int32  \n",
      " 2   precio         40227 non-null  float64\n",
      " 3   combustible    40227 non-null  int64  \n",
      " 4   anyo_vehiculo  40227 non-null  int32  \n",
      " 5   kilometraje    40227 non-null  int64  \n",
      " 6   potencia       40227 non-null  float64\n",
      " 7   num_puertas    40227 non-null  int64  \n",
      " 8   tipo_cambio    40227 non-null  int64  \n",
      "dtypes: float64(2), int32(3), int64(4)\n",
      "memory usage: 2.6 MB\n"
     ]
    }
   ],
   "source": [
    "df.info()"
   ]
  },
  {
   "cell_type": "markdown",
   "metadata": {},
   "source": [
    "Ya tenemos nuestro DataFrame con todas las columnas de tipo numérico, listas para ser utilizadas por el modelo (después de escalar, dividir los conjuntos de train y test, etc.).\n",
    "\n",
    "Guardamos el DataFrame."
   ]
  },
  {
   "cell_type": "code",
   "execution_count": 212,
   "metadata": {},
   "outputs": [],
   "source": [
    "# Guardamos el DataFrame transformado\n",
    "\n",
    "df.to_csv(\"../include/data/processed/df_pre_modelo.csv\")"
   ]
  },
  {
   "cell_type": "markdown",
   "metadata": {},
   "source": [
    "## 3. Modelos predictivos."
   ]
  },
  {
   "cell_type": "code",
   "execution_count": 213,
   "metadata": {},
   "outputs": [
    {
     "data": {
      "text/html": [
       "<div>\n",
       "<style scoped>\n",
       "    .dataframe tbody tr th:only-of-type {\n",
       "        vertical-align: middle;\n",
       "    }\n",
       "\n",
       "    .dataframe tbody tr th {\n",
       "        vertical-align: top;\n",
       "    }\n",
       "\n",
       "    .dataframe thead th {\n",
       "        text-align: right;\n",
       "    }\n",
       "</style>\n",
       "<table border=\"1\" class=\"dataframe\">\n",
       "  <thead>\n",
       "    <tr style=\"text-align: right;\">\n",
       "      <th></th>\n",
       "      <th>marca</th>\n",
       "      <th>modelo</th>\n",
       "      <th>precio</th>\n",
       "      <th>combustible</th>\n",
       "      <th>anyo_vehiculo</th>\n",
       "      <th>kilometraje</th>\n",
       "      <th>potencia</th>\n",
       "      <th>num_puertas</th>\n",
       "      <th>tipo_cambio</th>\n",
       "    </tr>\n",
       "  </thead>\n",
       "  <tbody>\n",
       "    <tr>\n",
       "      <th>0</th>\n",
       "      <td>0</td>\n",
       "      <td>67</td>\n",
       "      <td>57.722264</td>\n",
       "      <td>2</td>\n",
       "      <td>2023</td>\n",
       "      <td>46273</td>\n",
       "      <td>110.0</td>\n",
       "      <td>5</td>\n",
       "      <td>1</td>\n",
       "    </tr>\n",
       "    <tr>\n",
       "      <th>1</th>\n",
       "      <td>4</td>\n",
       "      <td>269</td>\n",
       "      <td>49.217742</td>\n",
       "      <td>2</td>\n",
       "      <td>2022</td>\n",
       "      <td>103209</td>\n",
       "      <td>120.0</td>\n",
       "      <td>5</td>\n",
       "      <td>0</td>\n",
       "    </tr>\n",
       "    <tr>\n",
       "      <th>2</th>\n",
       "      <td>12</td>\n",
       "      <td>110</td>\n",
       "      <td>53.897002</td>\n",
       "      <td>2</td>\n",
       "      <td>2020</td>\n",
       "      <td>110745</td>\n",
       "      <td>122.0</td>\n",
       "      <td>5</td>\n",
       "      <td>1</td>\n",
       "    </tr>\n",
       "    <tr>\n",
       "      <th>3</th>\n",
       "      <td>7</td>\n",
       "      <td>287</td>\n",
       "      <td>52.136418</td>\n",
       "      <td>1</td>\n",
       "      <td>2022</td>\n",
       "      <td>63000</td>\n",
       "      <td>114.0</td>\n",
       "      <td>5</td>\n",
       "      <td>1</td>\n",
       "    </tr>\n",
       "    <tr>\n",
       "      <th>4</th>\n",
       "      <td>7</td>\n",
       "      <td>387</td>\n",
       "      <td>57.102291</td>\n",
       "      <td>2</td>\n",
       "      <td>2022</td>\n",
       "      <td>62765</td>\n",
       "      <td>140.0</td>\n",
       "      <td>5</td>\n",
       "      <td>0</td>\n",
       "    </tr>\n",
       "    <tr>\n",
       "      <th>...</th>\n",
       "      <td>...</td>\n",
       "      <td>...</td>\n",
       "      <td>...</td>\n",
       "      <td>...</td>\n",
       "      <td>...</td>\n",
       "      <td>...</td>\n",
       "      <td>...</td>\n",
       "      <td>...</td>\n",
       "      <td>...</td>\n",
       "    </tr>\n",
       "    <tr>\n",
       "      <th>40222</th>\n",
       "      <td>5</td>\n",
       "      <td>440</td>\n",
       "      <td>44.955125</td>\n",
       "      <td>0</td>\n",
       "      <td>2012</td>\n",
       "      <td>195000</td>\n",
       "      <td>136.0</td>\n",
       "      <td>5</td>\n",
       "      <td>0</td>\n",
       "    </tr>\n",
       "    <tr>\n",
       "      <th>40223</th>\n",
       "      <td>7</td>\n",
       "      <td>387</td>\n",
       "      <td>50.239324</td>\n",
       "      <td>0</td>\n",
       "      <td>2016</td>\n",
       "      <td>79983</td>\n",
       "      <td>110.0</td>\n",
       "      <td>5</td>\n",
       "      <td>0</td>\n",
       "    </tr>\n",
       "    <tr>\n",
       "      <th>40224</th>\n",
       "      <td>7</td>\n",
       "      <td>387</td>\n",
       "      <td>50.144160</td>\n",
       "      <td>0</td>\n",
       "      <td>2018</td>\n",
       "      <td>88644</td>\n",
       "      <td>130.0</td>\n",
       "      <td>5</td>\n",
       "      <td>0</td>\n",
       "    </tr>\n",
       "    <tr>\n",
       "      <th>40225</th>\n",
       "      <td>7</td>\n",
       "      <td>491</td>\n",
       "      <td>55.818553</td>\n",
       "      <td>0</td>\n",
       "      <td>2018</td>\n",
       "      <td>36463</td>\n",
       "      <td>130.0</td>\n",
       "      <td>5</td>\n",
       "      <td>0</td>\n",
       "    </tr>\n",
       "    <tr>\n",
       "      <th>40226</th>\n",
       "      <td>4</td>\n",
       "      <td>269</td>\n",
       "      <td>52.566528</td>\n",
       "      <td>1</td>\n",
       "      <td>2018</td>\n",
       "      <td>47000</td>\n",
       "      <td>140.0</td>\n",
       "      <td>5</td>\n",
       "      <td>1</td>\n",
       "    </tr>\n",
       "  </tbody>\n",
       "</table>\n",
       "<p>40227 rows × 9 columns</p>\n",
       "</div>"
      ],
      "text/plain": [
       "       marca  modelo     precio  combustible  anyo_vehiculo  kilometraje  \\\n",
       "0          0      67  57.722264            2           2023        46273   \n",
       "1          4     269  49.217742            2           2022       103209   \n",
       "2         12     110  53.897002            2           2020       110745   \n",
       "3          7     287  52.136418            1           2022        63000   \n",
       "4          7     387  57.102291            2           2022        62765   \n",
       "...      ...     ...        ...          ...            ...          ...   \n",
       "40222      5     440  44.955125            0           2012       195000   \n",
       "40223      7     387  50.239324            0           2016        79983   \n",
       "40224      7     387  50.144160            0           2018        88644   \n",
       "40225      7     491  55.818553            0           2018        36463   \n",
       "40226      4     269  52.566528            1           2018        47000   \n",
       "\n",
       "       potencia  num_puertas  tipo_cambio  \n",
       "0         110.0            5            1  \n",
       "1         120.0            5            0  \n",
       "2         122.0            5            1  \n",
       "3         114.0            5            1  \n",
       "4         140.0            5            0  \n",
       "...         ...          ...          ...  \n",
       "40222     136.0            5            0  \n",
       "40223     110.0            5            0  \n",
       "40224     130.0            5            0  \n",
       "40225     130.0            5            0  \n",
       "40226     140.0            5            1  \n",
       "\n",
       "[40227 rows x 9 columns]"
      ]
     },
     "execution_count": 213,
     "metadata": {},
     "output_type": "execute_result"
    }
   ],
   "source": [
    "df = pd.read_csv(\"../include/data/processed/df_pre_modelo.csv\", index_col=0).reset_index(drop=True)\n",
    "df"
   ]
  },
  {
   "cell_type": "markdown",
   "metadata": {},
   "source": [
    "Ya tenemos 9 columnas numéricas con las que poder predecir la columna target (```\"precio\"```)."
   ]
  },
  {
   "cell_type": "markdown",
   "metadata": {},
   "source": [
    "Vamos ahora a dividir los datos de X (features) e y (target)."
   ]
  },
  {
   "cell_type": "code",
   "execution_count": null,
   "metadata": {},
   "outputs": [],
   "source": [
    "# Dividimos los datos en características y objetivo:\n",
    "\n",
    "X = df.drop(\"precio\", axis=1)\n",
    "y = df[\"precio\"]"
   ]
  },
  {
   "cell_type": "code",
   "execution_count": 215,
   "metadata": {},
   "outputs": [
    {
     "data": {
      "text/html": [
       "<div>\n",
       "<style scoped>\n",
       "    .dataframe tbody tr th:only-of-type {\n",
       "        vertical-align: middle;\n",
       "    }\n",
       "\n",
       "    .dataframe tbody tr th {\n",
       "        vertical-align: top;\n",
       "    }\n",
       "\n",
       "    .dataframe thead th {\n",
       "        text-align: right;\n",
       "    }\n",
       "</style>\n",
       "<table border=\"1\" class=\"dataframe\">\n",
       "  <thead>\n",
       "    <tr style=\"text-align: right;\">\n",
       "      <th></th>\n",
       "      <th>marca</th>\n",
       "      <th>modelo</th>\n",
       "      <th>combustible</th>\n",
       "      <th>anyo_vehiculo</th>\n",
       "      <th>kilometraje</th>\n",
       "      <th>potencia</th>\n",
       "      <th>num_puertas</th>\n",
       "      <th>tipo_cambio</th>\n",
       "    </tr>\n",
       "  </thead>\n",
       "  <tbody>\n",
       "    <tr>\n",
       "      <th>0</th>\n",
       "      <td>0</td>\n",
       "      <td>67</td>\n",
       "      <td>2</td>\n",
       "      <td>2023</td>\n",
       "      <td>46273</td>\n",
       "      <td>110.0</td>\n",
       "      <td>5</td>\n",
       "      <td>1</td>\n",
       "    </tr>\n",
       "    <tr>\n",
       "      <th>1</th>\n",
       "      <td>4</td>\n",
       "      <td>269</td>\n",
       "      <td>2</td>\n",
       "      <td>2022</td>\n",
       "      <td>103209</td>\n",
       "      <td>120.0</td>\n",
       "      <td>5</td>\n",
       "      <td>0</td>\n",
       "    </tr>\n",
       "    <tr>\n",
       "      <th>2</th>\n",
       "      <td>12</td>\n",
       "      <td>110</td>\n",
       "      <td>2</td>\n",
       "      <td>2020</td>\n",
       "      <td>110745</td>\n",
       "      <td>122.0</td>\n",
       "      <td>5</td>\n",
       "      <td>1</td>\n",
       "    </tr>\n",
       "    <tr>\n",
       "      <th>3</th>\n",
       "      <td>7</td>\n",
       "      <td>287</td>\n",
       "      <td>1</td>\n",
       "      <td>2022</td>\n",
       "      <td>63000</td>\n",
       "      <td>114.0</td>\n",
       "      <td>5</td>\n",
       "      <td>1</td>\n",
       "    </tr>\n",
       "    <tr>\n",
       "      <th>4</th>\n",
       "      <td>7</td>\n",
       "      <td>387</td>\n",
       "      <td>2</td>\n",
       "      <td>2022</td>\n",
       "      <td>62765</td>\n",
       "      <td>140.0</td>\n",
       "      <td>5</td>\n",
       "      <td>0</td>\n",
       "    </tr>\n",
       "    <tr>\n",
       "      <th>...</th>\n",
       "      <td>...</td>\n",
       "      <td>...</td>\n",
       "      <td>...</td>\n",
       "      <td>...</td>\n",
       "      <td>...</td>\n",
       "      <td>...</td>\n",
       "      <td>...</td>\n",
       "      <td>...</td>\n",
       "    </tr>\n",
       "    <tr>\n",
       "      <th>40222</th>\n",
       "      <td>5</td>\n",
       "      <td>440</td>\n",
       "      <td>0</td>\n",
       "      <td>2012</td>\n",
       "      <td>195000</td>\n",
       "      <td>136.0</td>\n",
       "      <td>5</td>\n",
       "      <td>0</td>\n",
       "    </tr>\n",
       "    <tr>\n",
       "      <th>40223</th>\n",
       "      <td>7</td>\n",
       "      <td>387</td>\n",
       "      <td>0</td>\n",
       "      <td>2016</td>\n",
       "      <td>79983</td>\n",
       "      <td>110.0</td>\n",
       "      <td>5</td>\n",
       "      <td>0</td>\n",
       "    </tr>\n",
       "    <tr>\n",
       "      <th>40224</th>\n",
       "      <td>7</td>\n",
       "      <td>387</td>\n",
       "      <td>0</td>\n",
       "      <td>2018</td>\n",
       "      <td>88644</td>\n",
       "      <td>130.0</td>\n",
       "      <td>5</td>\n",
       "      <td>0</td>\n",
       "    </tr>\n",
       "    <tr>\n",
       "      <th>40225</th>\n",
       "      <td>7</td>\n",
       "      <td>491</td>\n",
       "      <td>0</td>\n",
       "      <td>2018</td>\n",
       "      <td>36463</td>\n",
       "      <td>130.0</td>\n",
       "      <td>5</td>\n",
       "      <td>0</td>\n",
       "    </tr>\n",
       "    <tr>\n",
       "      <th>40226</th>\n",
       "      <td>4</td>\n",
       "      <td>269</td>\n",
       "      <td>1</td>\n",
       "      <td>2018</td>\n",
       "      <td>47000</td>\n",
       "      <td>140.0</td>\n",
       "      <td>5</td>\n",
       "      <td>1</td>\n",
       "    </tr>\n",
       "  </tbody>\n",
       "</table>\n",
       "<p>40227 rows × 8 columns</p>\n",
       "</div>"
      ],
      "text/plain": [
       "       marca  modelo  combustible  anyo_vehiculo  kilometraje  potencia  \\\n",
       "0          0      67            2           2023        46273     110.0   \n",
       "1          4     269            2           2022       103209     120.0   \n",
       "2         12     110            2           2020       110745     122.0   \n",
       "3          7     287            1           2022        63000     114.0   \n",
       "4          7     387            2           2022        62765     140.0   \n",
       "...      ...     ...          ...            ...          ...       ...   \n",
       "40222      5     440            0           2012       195000     136.0   \n",
       "40223      7     387            0           2016        79983     110.0   \n",
       "40224      7     387            0           2018        88644     130.0   \n",
       "40225      7     491            0           2018        36463     130.0   \n",
       "40226      4     269            1           2018        47000     140.0   \n",
       "\n",
       "       num_puertas  tipo_cambio  \n",
       "0                5            1  \n",
       "1                5            0  \n",
       "2                5            1  \n",
       "3                5            1  \n",
       "4                5            0  \n",
       "...            ...          ...  \n",
       "40222            5            0  \n",
       "40223            5            0  \n",
       "40224            5            0  \n",
       "40225            5            0  \n",
       "40226            5            1  \n",
       "\n",
       "[40227 rows x 8 columns]"
      ]
     },
     "execution_count": 215,
     "metadata": {},
     "output_type": "execute_result"
    }
   ],
   "source": [
    "X"
   ]
  },
  {
   "cell_type": "markdown",
   "metadata": {},
   "source": [
    "Vamos a realizar un heatmap de las features de nuestro modelo, para ver cómo de correlacionadas están entre ellas:"
   ]
  },
  {
   "cell_type": "code",
   "execution_count": 216,
   "metadata": {},
   "outputs": [
    {
     "data": {
      "image/png": "[encoded data removed]",
      "text/plain": [
       "<Figure size 800x600 with 2 Axes>"
      ]
     },
     "metadata": {},
     "output_type": "display_data"
    }
   ],
   "source": [
    "matriz_corr = X.corr(numeric_only=True).round(decimals=3)\n",
    "\n",
    "plt.figure(figsize=(8, 6))\n",
    "\n",
    "sns.heatmap(matriz_corr, annot=True, cmap='coolwarm', vmin=-1, vmax=1)\n",
    "\n",
    "plt.show()"
   ]
  },
  {
   "cell_type": "markdown",
   "metadata": {},
   "source": [
    "Vemos que la mayor correlación se da entre los kilómetros y el año del vehículo, y es negativa. Esto es lógico, ya que cuanto mayor sea el año (y más nuevo el coche), menor suele ser el número de kilómetros realizados.\n",
    "\n",
    "Además de esto, cabe mencionar que ninguna de las correlaciones es lo suficientemente elevada como para plantearse prescindir de alguna columna."
   ]
  },
  {
   "cell_type": "markdown",
   "metadata": {},
   "source": [
    "Separamos los datos de train y test:"
   ]
  },
  {
   "cell_type": "code",
   "execution_count": 217,
   "metadata": {},
   "outputs": [
    {
     "name": "stdout",
     "output_type": "stream",
     "text": [
      "(32181, 8)\n",
      "(8046, 8)\n",
      "(32181,)\n",
      "(8046,)\n"
     ]
    }
   ],
   "source": [
    "from sklearn.model_selection import train_test_split\n",
    "\n",
    "X_train, X_test, y_train, y_test = train_test_split(X, y, test_size=0.2, random_state=42)\n",
    "\n",
    "print(X_train.shape)\n",
    "print(X_test.shape)\n",
    "print(y_train.shape)\n",
    "print(y_test.shape)"
   ]
  },
  {
   "cell_type": "markdown",
   "metadata": {},
   "source": [
    "Vamos a escalar los datos de X entre 0 y 1:"
   ]
  },
  {
   "cell_type": "code",
   "execution_count": 218,
   "metadata": {},
   "outputs": [],
   "source": [
    "from sklearn.preprocessing import MinMaxScaler\n",
    "\n",
    "scaler = MinMaxScaler()\n",
    "\n",
    "scaler.fit(X_train)\n",
    "\n",
    "# Guardamos el Scaler\n",
    "\n",
    "with open('../include/utils/scaler.pkl', 'wb') as archivo_salida4:\n",
    "    pickle.dump(scaler, archivo_salida4)\n",
    "\n",
    "X_train = scaler.transform(X_train)\n",
    "X_test = scaler.transform(X_test)"
   ]
  },
  {
   "cell_type": "code",
   "execution_count": 219,
   "metadata": {},
   "outputs": [
    {
     "data": {
      "text/plain": [
       "array([[0.76923077, 0.57226562, 0.        , ..., 0.21006944, 1.        ,\n",
       "        0.        ],\n",
       "       [0.46153846, 0.31640625, 0.        , ..., 0.25694444, 1.        ,\n",
       "        1.        ],\n",
       "       [0.        , 0.1328125 , 0.        , ..., 0.21006944, 1.        ,\n",
       "        1.        ],\n",
       "       ...,\n",
       "       [0.92307692, 0.59570312, 0.        , ..., 0.25      , 1.        ,\n",
       "        0.        ],\n",
       "       [0.38461538, 0.70898438, 0.16666667, ..., 0.06597222, 1.        ,\n",
       "        0.        ],\n",
       "       [0.76923077, 0.34570312, 0.        , ..., 0.07986111, 1.        ,\n",
       "        0.        ]])"
      ]
     },
     "execution_count": 219,
     "metadata": {},
     "output_type": "execute_result"
    }
   ],
   "source": [
    "X_train"
   ]
  },
  {
   "cell_type": "markdown",
   "metadata": {},
   "source": [
    "Comenzamos la seleción del modelo de regresión. Para ello, probamos varias parametrizaciones de modelos utilizando GridSearchCV."
   ]
  },
  {
   "cell_type": "code",
   "execution_count": 220,
   "metadata": {},
   "outputs": [],
   "source": [
    "# Importamos los modelos de regresión que utilizaremos\n",
    "\n",
    "from sklearn.linear_model import LinearRegression\n",
    "from sklearn.preprocessing import PolynomialFeatures\n",
    "\n",
    "from sklearn.ensemble import RandomForestRegressor\n",
    "from sklearn.ensemble import AdaBoostRegressor\n",
    "from sklearn.ensemble import GradientBoostingRegressor\n",
    "\n",
    "import xgboost\n",
    "\n",
    "from sklearn.ensemble import VotingRegressor\n",
    "\n",
    "from sklearn.model_selection import GridSearchCV\n",
    "\n",
    "from sklearn import metrics"
   ]
  },
  {
   "cell_type": "code",
   "execution_count": 221,
   "metadata": {},
   "outputs": [],
   "source": [
    "# LinearRegression??"
   ]
  },
  {
   "cell_type": "markdown",
   "metadata": {},
   "source": [
    "### 3.1. Linear Regression."
   ]
  },
  {
   "cell_type": "code",
   "execution_count": 222,
   "metadata": {},
   "outputs": [
    {
     "name": "stdout",
     "output_type": "stream",
     "text": [
      "MSE: 16.835478889900607\n",
      "RMSE: 4.103106005199062\n",
      "MAE: 2.9534318640475536\n",
      "MAPE: 0.06666862748950017\n",
      "r2 score: 0.8409044013207096\n"
     ]
    }
   ],
   "source": [
    "# Linear Regression\n",
    "\n",
    "param = {}\n",
    "\n",
    "gs_lin_reg = GridSearchCV(estimator=LinearRegression(), param_grid=param, cv=5, scoring=\"neg_mean_squared_error\")\n",
    "\n",
    "gs_lin_reg.fit(X_train, y_train)\n",
    "\n",
    "y_pred = gs_lin_reg.predict(X_test)\n",
    "\n",
    "print(f\"MSE: {metrics.mean_squared_error(y_test, y_pred)}\")\n",
    "print(f\"RMSE: {np.sqrt(metrics.mean_squared_error(y_test, y_pred))}\")\n",
    "print(f\"MAE: {metrics.mean_absolute_error(y_test, y_pred)}\")\n",
    "print(f\"MAPE: {metrics.mean_absolute_percentage_error(y_test, y_pred)}\")\n",
    "\n",
    "print(f\"r2 score: {metrics.r2_score(y_test, y_pred)}\")"
   ]
  },
  {
   "cell_type": "markdown",
   "metadata": {},
   "source": [
    "### 3.2. Polynomial Regression."
   ]
  },
  {
   "cell_type": "code",
   "execution_count": 223,
   "metadata": {},
   "outputs": [
    {
     "name": "stdout",
     "output_type": "stream",
     "text": [
      "Poly Degree 1:\n",
      "MSE: 16.835478889901047\n",
      "RMSE: 4.103106005199116\n",
      "MAE: 2.953431864047785\n",
      "MAPE: 0.06666862748951072\n",
      "r2 score: 0.8409044013207054\n",
      " \n",
      "Poly Degree 2:\n",
      "MSE: 13.143025691884015\n",
      "RMSE: 3.625331114792691\n",
      "MAE: 2.6296103984590267\n",
      "MAPE: 0.05974125413677833\n",
      "r2 score: 0.8757981549213937\n",
      " \n",
      "Poly Degree 3:\n",
      "MSE: 11.224704429028627\n",
      "RMSE: 3.3503290031023263\n",
      "MAE: 2.4031120136483706\n",
      "MAPE: 0.05496467287739735\n",
      "r2 score: 0.8939263276790023\n",
      " \n",
      "Poly Degree 4:\n",
      "MSE: 9.851949548977116\n",
      "RMSE: 3.1387815389059996\n",
      "MAE: 2.2172731140643096\n",
      "MAPE: 0.050919698355706804\n",
      "r2 score: 0.9068988876465556\n",
      " \n",
      "Poly Degree 5:\n",
      "MSE: 964.533170741411\n",
      "RMSE: 31.056934342291594\n",
      "MAE: 2.4920828974089884\n",
      "MAPE: 0.05419073187560596\n",
      "r2 score: -8.114856978448861\n",
      " \n"
     ]
    }
   ],
   "source": [
    "# Polynomial Regression\n",
    "\n",
    "param = {}\n",
    "\n",
    "for degree in range(1, 6):\n",
    "\n",
    "    poly_feat = PolynomialFeatures(degree = degree)\n",
    "\n",
    "    poly_feat.fit(X_train)\n",
    "\n",
    "    X_train_poly = poly_feat.transform(X_train)\n",
    "    X_test_poly = poly_feat.transform(X_test)\n",
    "\n",
    "\n",
    "    gs_poly = GridSearchCV(estimator=LinearRegression(), param_grid=param, cv=5, scoring=\"neg_mean_squared_error\")\n",
    "\n",
    "    gs_poly.fit(X_train_poly, y_train)\n",
    "\n",
    "    y_pred = gs_poly.predict(X_test_poly)\n",
    "\n",
    "    print(f\"Poly Degree {degree}:\")\n",
    "\n",
    "    print(f\"MSE: {metrics.mean_squared_error(y_test, y_pred)}\")\n",
    "    print(f\"RMSE: {np.sqrt(metrics.mean_squared_error(y_test, y_pred))}\")\n",
    "    print(f\"MAE: {metrics.mean_absolute_error(y_test, y_pred)}\")\n",
    "    print(f\"MAPE: {metrics.mean_absolute_percentage_error(y_test, y_pred)}\")\n",
    "\n",
    "    print(f\"r2 score: {metrics.r2_score(y_test, y_pred)}\")\n",
    "    print(\" \")"
   ]
  },
  {
   "cell_type": "code",
   "execution_count": null,
   "metadata": {},
   "outputs": [
    {
     "name": "stdout",
     "output_type": "stream",
     "text": [
      "Poly Degree 3:\n",
      "MSE: 11.224704429028627\n",
      "RMSE: 3.3503290031023263\n",
      "MAE: 2.4031120136483706\n",
      "MAPE: 0.05496467287739735\n",
      "r2 score: 0.8939263276790023\n"
     ]
    }
   ],
   "source": [
    "# El mejor es el de grado 4:\n",
    "\n",
    "degree = 4\n",
    "poly_feat = PolynomialFeatures(degree = degree)\n",
    "\n",
    "poly_feat.fit(X_train)\n",
    "\n",
    "X_train_poly = poly_feat.transform(X_train)\n",
    "X_test_poly = poly_feat.transform(X_test)\n",
    "\n",
    "\n",
    "best_poly_model = GridSearchCV(estimator=LinearRegression(), param_grid=param, cv=5, scoring=\"neg_mean_squared_error\")\n",
    "\n",
    "best_poly_model.fit(X_train_poly, y_train)\n",
    "\n",
    "y_pred = best_poly_model.predict(X_test_poly)\n",
    "\n",
    "print(f\"Poly Degree {degree}:\")\n",
    "\n",
    "print(f\"MSE: {metrics.mean_squared_error(y_test, y_pred)}\")\n",
    "print(f\"RMSE: {np.sqrt(metrics.mean_squared_error(y_test, y_pred))}\")\n",
    "print(f\"MAE: {metrics.mean_absolute_error(y_test, y_pred)}\")\n",
    "print(f\"MAPE: {metrics.mean_absolute_percentage_error(y_test, y_pred)}\")\n",
    "\n",
    "print(f\"r2 score: {metrics.r2_score(y_test, y_pred)}\")"
   ]
  },
  {
   "cell_type": "markdown",
   "metadata": {},
   "source": [
    "### 3.3. RandomForest."
   ]
  },
  {
   "cell_type": "code",
   "execution_count": 225,
   "metadata": {},
   "outputs": [
    {
     "name": "stdout",
     "output_type": "stream",
     "text": [
      "MSE: 7.076866264905802\n",
      "RMSE: 2.6602380090709556\n",
      "MAE: 1.7598279519947166\n",
      "MAPE: 0.04112340404413567\n",
      "r2 score: 0.9331234779508485\n"
     ]
    }
   ],
   "source": [
    "# RandomForest\n",
    "\n",
    "param = {\"n_estimators\":[50, 100, 300], \"max_depth\":[3, 5, 9, 15, 33], \"n_jobs\":[-1], \"random_state\":[42]}\n",
    "\n",
    "gs_rf = GridSearchCV(estimator=RandomForestRegressor(), param_grid=param, cv=5, scoring=\"neg_mean_squared_error\")\n",
    "\n",
    "gs_rf.fit(X_train, y_train)\n",
    "\n",
    "y_pred = gs_rf.predict(X_test)\n",
    "\n",
    "print(f\"MSE: {metrics.mean_squared_error(y_test, y_pred)}\")\n",
    "print(f\"RMSE: {np.sqrt(metrics.mean_squared_error(y_test, y_pred))}\")\n",
    "print(f\"MAE: {metrics.mean_absolute_error(y_test, y_pred)}\")\n",
    "print(f\"MAPE: {metrics.mean_absolute_percentage_error(y_test, y_pred)}\")\n",
    "\n",
    "print(f\"r2 score: {metrics.r2_score(y_test, y_pred)}\")"
   ]
  },
  {
   "cell_type": "code",
   "execution_count": 226,
   "metadata": {},
   "outputs": [
    {
     "data": {
      "text/plain": [
       "{'max_depth': 33, 'n_estimators': 300, 'n_jobs': -1, 'random_state': 42}"
      ]
     },
     "execution_count": 226,
     "metadata": {},
     "output_type": "execute_result"
    }
   ],
   "source": [
    "gs_rf.best_params_"
   ]
  },
  {
   "cell_type": "markdown",
   "metadata": {},
   "source": [
    "### 3.4. ADA Boost Regression."
   ]
  },
  {
   "cell_type": "code",
   "execution_count": 227,
   "metadata": {},
   "outputs": [
    {
     "name": "stdout",
     "output_type": "stream",
     "text": [
      "MSE: 19.34521995867061\n",
      "RMSE: 4.398320129170978\n",
      "MAE: 3.338573671033764\n",
      "MAPE: 0.0794531838431606\n",
      "r2 score: 0.8171873000444582\n"
     ]
    }
   ],
   "source": [
    "# ADA\n",
    "\n",
    "param = {\"n_estimators\":[50, 100, 300], \"learning_rate\":np.arange(0.1, 1.1, 0.1), \"random_state\":[42]}\n",
    "\n",
    "gs_ada = GridSearchCV(estimator=AdaBoostRegressor(), param_grid=param, cv=5, scoring=\"neg_mean_squared_error\")\n",
    "\n",
    "gs_ada.fit(X_train, y_train)\n",
    "\n",
    "y_pred = gs_ada.predict(X_test)\n",
    "\n",
    "print(f\"MSE: {metrics.mean_squared_error(y_test, y_pred)}\")\n",
    "print(f\"RMSE: {np.sqrt(metrics.mean_squared_error(y_test, y_pred))}\")\n",
    "print(f\"MAE: {metrics.mean_absolute_error(y_test, y_pred)}\")\n",
    "print(f\"MAPE: {metrics.mean_absolute_percentage_error(y_test, y_pred)}\")\n",
    "\n",
    "print(f\"r2 score: {metrics.r2_score(y_test, y_pred)}\")"
   ]
  },
  {
   "cell_type": "code",
   "execution_count": 228,
   "metadata": {},
   "outputs": [
    {
     "data": {
      "text/plain": [
       "-18.81610325158956"
      ]
     },
     "execution_count": 228,
     "metadata": {},
     "output_type": "execute_result"
    }
   ],
   "source": [
    "gs_ada.best_score_"
   ]
  },
  {
   "cell_type": "code",
   "execution_count": 229,
   "metadata": {},
   "outputs": [
    {
     "data": {
      "text/plain": [
       "{'learning_rate': 0.9, 'n_estimators': 100, 'random_state': 42}"
      ]
     },
     "execution_count": 229,
     "metadata": {},
     "output_type": "execute_result"
    }
   ],
   "source": [
    "gs_ada.best_params_"
   ]
  },
  {
   "cell_type": "markdown",
   "metadata": {},
   "source": [
    "### 3.5. Gradient Boosting Regression."
   ]
  },
  {
   "cell_type": "code",
   "execution_count": 230,
   "metadata": {},
   "outputs": [
    {
     "name": "stdout",
     "output_type": "stream",
     "text": [
      "MSE: 6.205057893304405\n",
      "RMSE: 2.4909953619596332\n",
      "MAE: 1.7505124357249802\n",
      "MAPE: 0.04069386228569651\n",
      "r2 score: 0.9413620837975017\n"
     ]
    }
   ],
   "source": [
    "# Gradient Boost\n",
    "\n",
    "param = {\"n_estimators\":[50, 100, 300], \"learning_rate\":np.arange(0.1, 1.1, 0.1), \"random_state\":[42]}\n",
    "\n",
    "gs_gb = GridSearchCV(estimator=GradientBoostingRegressor(), param_grid=param, cv=5, scoring=\"neg_mean_squared_error\")\n",
    "\n",
    "gs_gb.fit(X_train, y_train)\n",
    "\n",
    "y_pred = gs_gb.predict(X_test)\n",
    "\n",
    "print(f\"MSE: {metrics.mean_squared_error(y_test, y_pred)}\")\n",
    "print(f\"RMSE: {np.sqrt(metrics.mean_squared_error(y_test, y_pred))}\")\n",
    "print(f\"MAE: {metrics.mean_absolute_error(y_test, y_pred)}\")\n",
    "print(f\"MAPE: {metrics.mean_absolute_percentage_error(y_test, y_pred)}\")\n",
    "\n",
    "print(f\"r2 score: {metrics.r2_score(y_test, y_pred)}\")"
   ]
  },
  {
   "cell_type": "markdown",
   "metadata": {},
   "source": [
    "### 3.6. XGradient Boosting Regression."
   ]
  },
  {
   "cell_type": "code",
   "execution_count": 231,
   "metadata": {},
   "outputs": [
    {
     "name": "stdout",
     "output_type": "stream",
     "text": [
      "MSE: 6.551444322788454\n",
      "RMSE: 2.559578934666492\n",
      "MAE: 1.7526109449831762\n",
      "MAPE: 0.040673954484197486\n",
      "r2 score: 0.9380887253897284\n"
     ]
    }
   ],
   "source": [
    "# XG Boost\n",
    "\n",
    "param = {}\n",
    "\n",
    "gs_xgb = GridSearchCV(estimator=xgboost.XGBRegressor(), param_grid=param, cv=5, scoring=\"neg_mean_squared_error\")\n",
    "\n",
    "gs_xgb.fit(X_train, y_train)\n",
    "\n",
    "y_pred = gs_xgb.predict(X_test)\n",
    "\n",
    "print(f\"MSE: {metrics.mean_squared_error(y_test, y_pred)}\")\n",
    "print(f\"RMSE: {np.sqrt(metrics.mean_squared_error(y_test, y_pred))}\")\n",
    "print(f\"MAE: {metrics.mean_absolute_error(y_test, y_pred)}\")\n",
    "print(f\"MAPE: {metrics.mean_absolute_percentage_error(y_test, y_pred)}\")\n",
    "\n",
    "print(f\"r2 score: {metrics.r2_score(y_test, y_pred)}\")"
   ]
  },
  {
   "cell_type": "markdown",
   "metadata": {},
   "source": [
    "### 3.7. Voting."
   ]
  },
  {
   "cell_type": "code",
   "execution_count": 232,
   "metadata": {},
   "outputs": [
    {
     "name": "stdout",
     "output_type": "stream",
     "text": [
      "MSE: 7.524257935887033\n",
      "RMSE: 2.7430380850230702\n",
      "MAE: 1.9230704565364916\n",
      "MAPE: 0.04493571438923961\n",
      "r2 score: 0.9288956180720549\n"
     ]
    }
   ],
   "source": [
    "# Voting\n",
    "\n",
    "# param = {\"estimators\":[gs_lin_reg.best_estimator_, best_poly_model.best_estimator_, gs_rf.best_estimator_, gs_ada.best_estimator_, gs_gb.best_estimator_, gs_xgb.best_estimator_],\n",
    "#          \"n_jobs\":[-1]}\n",
    "\n",
    "gs_voting = VotingRegressor(estimators=[(\"lin_reg\", gs_lin_reg.best_estimator_), (\"rf\", gs_rf.best_estimator_), (\"ada\", gs_ada.best_estimator_), (\"gb\", gs_gb.best_estimator_), (\"xgb\", gs_xgb.best_estimator_)],\n",
    "                            n_jobs=-1,)\n",
    "\n",
    "gs_voting.fit(X_train, y_train)\n",
    "\n",
    "y_pred = gs_voting.predict(X_test)\n",
    "\n",
    "print(f\"MSE: {metrics.mean_squared_error(y_test, y_pred)}\")\n",
    "print(f\"RMSE: {np.sqrt(metrics.mean_squared_error(y_test, y_pred))}\")\n",
    "print(f\"MAE: {metrics.mean_absolute_error(y_test, y_pred)}\")\n",
    "print(f\"MAPE: {metrics.mean_absolute_percentage_error(y_test, y_pred)}\")\n",
    "\n",
    "print(f\"r2 score: {metrics.r2_score(y_test, y_pred)}\")"
   ]
  },
  {
   "cell_type": "markdown",
   "metadata": {},
   "source": [
    "El Voting da peor. El modelo con mejores métricas es el Gradient Boosting Regressor, aunque el XGradient Boosting y el RandomForest también estaba cerca. "
   ]
  },
  {
   "cell_type": "markdown",
   "metadata": {},
   "source": [
    "## 4. Selección y análisis del mejor modelo."
   ]
  },
  {
   "cell_type": "markdown",
   "metadata": {},
   "source": [
    "### 4.1. Selección de modelo:"
   ]
  },
  {
   "cell_type": "markdown",
   "metadata": {},
   "source": [
    "Vamos a comparar en una tabla el resultado obtenido para el MSE de test en cada modelo, ya que es la métrica que estamos utilizando, con el fin de elegir el mejor:"
   ]
  },
  {
   "cell_type": "code",
   "execution_count": 2,
   "metadata": {},
   "outputs": [],
   "source": [
    "import pandas as pd"
   ]
  },
  {
   "cell_type": "code",
   "execution_count": 3,
   "metadata": {},
   "outputs": [
    {
     "data": {
      "text/html": [
       "<div>\n",
       "<style scoped>\n",
       "    .dataframe tbody tr th:only-of-type {\n",
       "        vertical-align: middle;\n",
       "    }\n",
       "\n",
       "    .dataframe tbody tr th {\n",
       "        vertical-align: top;\n",
       "    }\n",
       "\n",
       "    .dataframe thead th {\n",
       "        text-align: right;\n",
       "    }\n",
       "</style>\n",
       "<table border=\"1\" class=\"dataframe\">\n",
       "  <thead>\n",
       "    <tr style=\"text-align: right;\">\n",
       "      <th></th>\n",
       "      <th>Modelo</th>\n",
       "      <th>MAE</th>\n",
       "      <th>RMSE</th>\n",
       "      <th>r2 score</th>\n",
       "    </tr>\n",
       "  </thead>\n",
       "  <tbody>\n",
       "    <tr>\n",
       "      <th>0</th>\n",
       "      <td>Gradient Boost</td>\n",
       "      <td>1.7505</td>\n",
       "      <td>2.4909</td>\n",
       "      <td>0.9413</td>\n",
       "    </tr>\n",
       "    <tr>\n",
       "      <th>1</th>\n",
       "      <td>XG Boost</td>\n",
       "      <td>1.7526</td>\n",
       "      <td>2.5595</td>\n",
       "      <td>0.9380</td>\n",
       "    </tr>\n",
       "    <tr>\n",
       "      <th>2</th>\n",
       "      <td>RandomForest</td>\n",
       "      <td>1.7598</td>\n",
       "      <td>2.6602</td>\n",
       "      <td>0.9331</td>\n",
       "    </tr>\n",
       "    <tr>\n",
       "      <th>3</th>\n",
       "      <td>Voting</td>\n",
       "      <td>1.9230</td>\n",
       "      <td>2.7430</td>\n",
       "      <td>0.9288</td>\n",
       "    </tr>\n",
       "    <tr>\n",
       "      <th>4</th>\n",
       "      <td>Polynomial Regression (grado 4)</td>\n",
       "      <td>2.2172</td>\n",
       "      <td>3.1388</td>\n",
       "      <td>0.9069</td>\n",
       "    </tr>\n",
       "    <tr>\n",
       "      <th>5</th>\n",
       "      <td>Linear Regression</td>\n",
       "      <td>2.9534</td>\n",
       "      <td>4.1031</td>\n",
       "      <td>0.8409</td>\n",
       "    </tr>\n",
       "    <tr>\n",
       "      <th>6</th>\n",
       "      <td>ADA Boost</td>\n",
       "      <td>3.3385</td>\n",
       "      <td>4.3983</td>\n",
       "      <td>0.8171</td>\n",
       "    </tr>\n",
       "  </tbody>\n",
       "</table>\n",
       "</div>"
      ],
      "text/plain": [
       "                            Modelo     MAE    RMSE  r2 score\n",
       "0                   Gradient Boost  1.7505  2.4909    0.9413\n",
       "1                         XG Boost  1.7526  2.5595    0.9380\n",
       "2                     RandomForest  1.7598  2.6602    0.9331\n",
       "3                           Voting  1.9230  2.7430    0.9288\n",
       "4  Polynomial Regression (grado 4)  2.2172  3.1388    0.9069\n",
       "5                Linear Regression  2.9534  4.1031    0.8409\n",
       "6                        ADA Boost  3.3385  4.3983    0.8171"
      ]
     },
     "execution_count": 3,
     "metadata": {},
     "output_type": "execute_result"
    }
   ],
   "source": [
    "df_comp_modelos = pd.DataFrame({\"Modelo\":[\"Linear Regression\", \"Polynomial Regression (grado 4)\", \"RandomForest\", \"ADA Boost\", \"Gradient Boost\", \"XG Boost\", \"Voting\"],\n",
    "                                \"MAE\":[2.9534, 2.2172, 1.7598, 3.3385, 1.7505, 1.7526, 1.9230],\n",
    "                                \"RMSE\":[4.1031, 3.1388, 2.6602, 4.3983, 2.4909, 2.5595, 2.7430],\n",
    "                                \"r2 score\":[0.8409, 0.9069, 0.9331, 0.8171, 0.9413, 0.9380, 0.9288]})\n",
    "\n",
    "df_comp_modelos = df_comp_modelos.sort_values(\"MAE\", ascending=True).reset_index(drop=True)\n",
    "df_comp_modelos"
   ]
  },
  {
   "cell_type": "markdown",
   "metadata": {},
   "source": [
    "Vemos que el mejor modelo es el Gradient Boost, aunque está muy cerca el XGBoost. Vamos a quedarnos con el XGBoost, ya que su tiempo de entrenamiento es mucho menor y los resultados muy similares, y también con el RandomForest, ya que su funcionamiento es distinto y sus resultados están bastante cerca, por lo que puede sernos útil para comparar.\n",
    "\n",
    "Cabe destacar que el MAE representado en la tabla anterior no se corresponde con el error medio en la predicción del modelo sobre el precio del vehículo, ya que hemos aplicado una transformación logarítmica a este precio. Más adelante veremos el MAE y el MSE reales del mejor modelo, una vez aplicada la transformación inversa. "
   ]
  },
  {
   "cell_type": "markdown",
   "metadata": {},
   "source": [
    "Vamos a ver si podemos mejorar algo de estos dos modelos mirando la importancia de las columnas (features) y realizando alguna modificación. Comenzamos con el RandomForest:"
   ]
  },
  {
   "cell_type": "code",
   "execution_count": 233,
   "metadata": {},
   "outputs": [
    {
     "data": {
      "text/plain": [
       "array([0.02630114, 0.03585169, 0.00740106, 0.51809273, 0.08748047,\n",
       "       0.31197589, 0.00288025, 0.01001676])"
      ]
     },
     "execution_count": 233,
     "metadata": {},
     "output_type": "execute_result"
    }
   ],
   "source": [
    "gs_rf.best_estimator_.feature_importances_"
   ]
  },
  {
   "cell_type": "markdown",
   "metadata": {},
   "source": [
    "Realizamos un dataframe con la importancia de las cada columna en el modelo RandomForest:"
   ]
  },
  {
   "cell_type": "code",
   "execution_count": 234,
   "metadata": {},
   "outputs": [
    {
     "data": {
      "text/html": [
       "<div>\n",
       "<style scoped>\n",
       "    .dataframe tbody tr th:only-of-type {\n",
       "        vertical-align: middle;\n",
       "    }\n",
       "\n",
       "    .dataframe tbody tr th {\n",
       "        vertical-align: top;\n",
       "    }\n",
       "\n",
       "    .dataframe thead th {\n",
       "        text-align: right;\n",
       "    }\n",
       "</style>\n",
       "<table border=\"1\" class=\"dataframe\">\n",
       "  <thead>\n",
       "    <tr style=\"text-align: right;\">\n",
       "      <th></th>\n",
       "      <th>Feature Importance</th>\n",
       "    </tr>\n",
       "  </thead>\n",
       "  <tbody>\n",
       "    <tr>\n",
       "      <th>anyo_vehiculo</th>\n",
       "      <td>0.518093</td>\n",
       "    </tr>\n",
       "    <tr>\n",
       "      <th>potencia</th>\n",
       "      <td>0.311976</td>\n",
       "    </tr>\n",
       "    <tr>\n",
       "      <th>kilometraje</th>\n",
       "      <td>0.087480</td>\n",
       "    </tr>\n",
       "    <tr>\n",
       "      <th>modelo</th>\n",
       "      <td>0.035852</td>\n",
       "    </tr>\n",
       "    <tr>\n",
       "      <th>marca</th>\n",
       "      <td>0.026301</td>\n",
       "    </tr>\n",
       "    <tr>\n",
       "      <th>tipo_cambio</th>\n",
       "      <td>0.010017</td>\n",
       "    </tr>\n",
       "    <tr>\n",
       "      <th>combustible</th>\n",
       "      <td>0.007401</td>\n",
       "    </tr>\n",
       "    <tr>\n",
       "      <th>num_puertas</th>\n",
       "      <td>0.002880</td>\n",
       "    </tr>\n",
       "  </tbody>\n",
       "</table>\n",
       "</div>"
      ],
      "text/plain": [
       "               Feature Importance\n",
       "anyo_vehiculo            0.518093\n",
       "potencia                 0.311976\n",
       "kilometraje              0.087480\n",
       "modelo                   0.035852\n",
       "marca                    0.026301\n",
       "tipo_cambio              0.010017\n",
       "combustible              0.007401\n",
       "num_puertas              0.002880"
      ]
     },
     "execution_count": 234,
     "metadata": {},
     "output_type": "execute_result"
    }
   ],
   "source": [
    "df_feat_imp_rf = pd.DataFrame(gs_rf.best_estimator_.feature_importances_, index=X.columns)\n",
    "df_feat_imp_rf = df_feat_imp_rf.rename(columns={0:\"Feature Importance\"}).sort_values(\"Feature Importance\", ascending=False)\n",
    "df_feat_imp_rf"
   ]
  },
  {
   "cell_type": "code",
   "execution_count": 235,
   "metadata": {},
   "outputs": [
    {
     "data": {
      "image/png": "[encoded data removed]",
      "text/plain": [
       "<Figure size 1000x600 with 1 Axes>"
      ]
     },
     "metadata": {},
     "output_type": "display_data"
    }
   ],
   "source": [
    "import matplotlib.pyplot as plt\n",
    "import seaborn as sns\n",
    "\n",
    "plt.figure(figsize=(10, 6)) \n",
    "\n",
    "\n",
    "df_feat_imp_rf = df_feat_imp_rf.reset_index() \n",
    "df_feat_imp_rf.rename(columns={'index': 'Feature'}, inplace=True)\n",
    "\n",
    "sns.barplot(data=df_feat_imp_rf, x='Feature', y='Feature Importance', color=colors[0])\n",
    "\n",
    "plt.title(\"Importancia de cada feature en el modelo Random Forest\", fontsize=16)\n",
    "plt.xlabel(\"Feature\", fontsize=14)\n",
    "plt.ylabel(\"Importancia\", fontsize=14)\n",
    "\n",
    "plt.xticks(rotation=45)\n",
    "plt.tight_layout()\n",
    "plt.show()"
   ]
  },
  {
   "cell_type": "markdown",
   "metadata": {},
   "source": [
    "Se observa cómo las columnas con más importancia en el precio de un coche de segunda mano son, según nuestro modelo RandomForest, el año de matriculación, potencia del motor y kms recorridos. Las columnas de modelo y marca del coche también tienen algo de importancia, y las demás (tipo de cambio, combustible y número de puertas) tienen una importancia mucho menor.\n",
    "\n",
    "Por esto, vamos a probar a hacer un Random Forest, con la misma parametrización que el mejor de antes, pero quitando las columnas menos importantes: ```[\"tipo_cambio\", \"combustible\", \"num_puertas\"]```, a ver si mejora el modelo."
   ]
  },
  {
   "cell_type": "code",
   "execution_count": 236,
   "metadata": {},
   "outputs": [
    {
     "data": {
      "text/html": [
       "<div>\n",
       "<style scoped>\n",
       "    .dataframe tbody tr th:only-of-type {\n",
       "        vertical-align: middle;\n",
       "    }\n",
       "\n",
       "    .dataframe tbody tr th {\n",
       "        vertical-align: top;\n",
       "    }\n",
       "\n",
       "    .dataframe thead th {\n",
       "        text-align: right;\n",
       "    }\n",
       "</style>\n",
       "<table border=\"1\" class=\"dataframe\">\n",
       "  <thead>\n",
       "    <tr style=\"text-align: right;\">\n",
       "      <th></th>\n",
       "      <th>marca</th>\n",
       "      <th>modelo</th>\n",
       "      <th>anyo_vehiculo</th>\n",
       "      <th>kilometraje</th>\n",
       "      <th>potencia</th>\n",
       "    </tr>\n",
       "  </thead>\n",
       "  <tbody>\n",
       "    <tr>\n",
       "      <th>0</th>\n",
       "      <td>0</td>\n",
       "      <td>67</td>\n",
       "      <td>2023</td>\n",
       "      <td>46273</td>\n",
       "      <td>110.0</td>\n",
       "    </tr>\n",
       "    <tr>\n",
       "      <th>1</th>\n",
       "      <td>4</td>\n",
       "      <td>269</td>\n",
       "      <td>2022</td>\n",
       "      <td>103209</td>\n",
       "      <td>120.0</td>\n",
       "    </tr>\n",
       "    <tr>\n",
       "      <th>2</th>\n",
       "      <td>12</td>\n",
       "      <td>110</td>\n",
       "      <td>2020</td>\n",
       "      <td>110745</td>\n",
       "      <td>122.0</td>\n",
       "    </tr>\n",
       "    <tr>\n",
       "      <th>3</th>\n",
       "      <td>7</td>\n",
       "      <td>287</td>\n",
       "      <td>2022</td>\n",
       "      <td>63000</td>\n",
       "      <td>114.0</td>\n",
       "    </tr>\n",
       "    <tr>\n",
       "      <th>4</th>\n",
       "      <td>7</td>\n",
       "      <td>387</td>\n",
       "      <td>2022</td>\n",
       "      <td>62765</td>\n",
       "      <td>140.0</td>\n",
       "    </tr>\n",
       "    <tr>\n",
       "      <th>...</th>\n",
       "      <td>...</td>\n",
       "      <td>...</td>\n",
       "      <td>...</td>\n",
       "      <td>...</td>\n",
       "      <td>...</td>\n",
       "    </tr>\n",
       "    <tr>\n",
       "      <th>40222</th>\n",
       "      <td>5</td>\n",
       "      <td>440</td>\n",
       "      <td>2012</td>\n",
       "      <td>195000</td>\n",
       "      <td>136.0</td>\n",
       "    </tr>\n",
       "    <tr>\n",
       "      <th>40223</th>\n",
       "      <td>7</td>\n",
       "      <td>387</td>\n",
       "      <td>2016</td>\n",
       "      <td>79983</td>\n",
       "      <td>110.0</td>\n",
       "    </tr>\n",
       "    <tr>\n",
       "      <th>40224</th>\n",
       "      <td>7</td>\n",
       "      <td>387</td>\n",
       "      <td>2018</td>\n",
       "      <td>88644</td>\n",
       "      <td>130.0</td>\n",
       "    </tr>\n",
       "    <tr>\n",
       "      <th>40225</th>\n",
       "      <td>7</td>\n",
       "      <td>491</td>\n",
       "      <td>2018</td>\n",
       "      <td>36463</td>\n",
       "      <td>130.0</td>\n",
       "    </tr>\n",
       "    <tr>\n",
       "      <th>40226</th>\n",
       "      <td>4</td>\n",
       "      <td>269</td>\n",
       "      <td>2018</td>\n",
       "      <td>47000</td>\n",
       "      <td>140.0</td>\n",
       "    </tr>\n",
       "  </tbody>\n",
       "</table>\n",
       "<p>40227 rows × 5 columns</p>\n",
       "</div>"
      ],
      "text/plain": [
       "       marca  modelo  anyo_vehiculo  kilometraje  potencia\n",
       "0          0      67           2023        46273     110.0\n",
       "1          4     269           2022       103209     120.0\n",
       "2         12     110           2020       110745     122.0\n",
       "3          7     287           2022        63000     114.0\n",
       "4          7     387           2022        62765     140.0\n",
       "...      ...     ...            ...          ...       ...\n",
       "40222      5     440           2012       195000     136.0\n",
       "40223      7     387           2016        79983     110.0\n",
       "40224      7     387           2018        88644     130.0\n",
       "40225      7     491           2018        36463     130.0\n",
       "40226      4     269           2018        47000     140.0\n",
       "\n",
       "[40227 rows x 5 columns]"
      ]
     },
     "execution_count": 236,
     "metadata": {},
     "output_type": "execute_result"
    }
   ],
   "source": [
    "# RF 2\n",
    "\n",
    "X_rf_2 = X.drop(columns=[\"tipo_cambio\", \"combustible\", \"num_puertas\"])\n",
    "X_rf_2"
   ]
  },
  {
   "cell_type": "code",
   "execution_count": 237,
   "metadata": {},
   "outputs": [
    {
     "name": "stdout",
     "output_type": "stream",
     "text": [
      "(32181, 5)\n",
      "(8046, 5)\n",
      "(32181,)\n",
      "(8046,)\n"
     ]
    }
   ],
   "source": [
    "from sklearn.model_selection import train_test_split\n",
    "\n",
    "X_train_rf2, X_test_rf2, y_train_rf2, y_test_rf2 = train_test_split(X_rf_2, y, test_size=0.2, random_state=42)\n",
    "\n",
    "print(X_train_rf2.shape)\n",
    "print(X_test_rf2.shape)\n",
    "print(y_train_rf2.shape)\n",
    "print(y_test_rf2.shape)"
   ]
  },
  {
   "cell_type": "code",
   "execution_count": 238,
   "metadata": {},
   "outputs": [],
   "source": [
    "from sklearn.preprocessing import MinMaxScaler\n",
    "\n",
    "scaler = MinMaxScaler()\n",
    "\n",
    "scaler.fit(X_train_rf2)\n",
    "X_train_rf2 = scaler.transform(X_train_rf2)\n",
    "X_test_rf2 = scaler.transform(X_test_rf2)"
   ]
  },
  {
   "cell_type": "code",
   "execution_count": 239,
   "metadata": {},
   "outputs": [
    {
     "name": "stdout",
     "output_type": "stream",
     "text": [
      "MSE: 7.500970822728123\n",
      "RMSE: 2.738790028959526\n",
      "MAE: 1.8197592540377456\n",
      "MAPE: 0.042441818650178674\n",
      "r2 score: 0.9291156817384204\n"
     ]
    }
   ],
   "source": [
    "# RandomForest\n",
    "\n",
    "# param = {\"n_estimators\":[50, 100, 300], \"max_depth\":[3, 5, 9, 15, 33], \"n_jobs\":[-1], \"random_state\":[42]}\n",
    "\n",
    "rf2 = RandomForestRegressor(n_estimators=300, max_depth=33, n_jobs=-1, random_state=42)\n",
    "\n",
    "rf2.fit(X_train_rf2, y_train_rf2)\n",
    "\n",
    "y_pred_rf2 = rf2.predict(X_test_rf2)\n",
    "\n",
    "print(f\"MSE: {metrics.mean_squared_error(y_test_rf2, y_pred_rf2)}\")\n",
    "print(f\"RMSE: {np.sqrt(metrics.mean_squared_error(y_test_rf2, y_pred_rf2))}\")\n",
    "print(f\"MAE: {metrics.mean_absolute_error(y_test_rf2, y_pred_rf2)}\")\n",
    "print(f\"MAPE: {metrics.mean_absolute_percentage_error(y_test_rf2, y_pred_rf2)}\")\n",
    "\n",
    "print(f\"r2 score: {metrics.r2_score(y_test_rf2, y_pred_rf2)}\")"
   ]
  },
  {
   "cell_type": "markdown",
   "metadata": {},
   "source": [
    "### 4.2. Análisis del modelo definitivo:"
   ]
  },
  {
   "cell_type": "markdown",
   "metadata": {},
   "source": [
    "Obtenemos un MSE más elevado que antes, por lo que no mejora. Nos quedamos entonces el XG Boost, que es el modelo con el MSE más bajo y el más rápido de entrenar. Vamos a ver la importancia de las features en este modelo:"
   ]
  },
  {
   "cell_type": "code",
   "execution_count": 240,
   "metadata": {},
   "outputs": [
    {
     "name": "stdout",
     "output_type": "stream",
     "text": [
      "MSE: 6.551444322788454\n",
      "RMSE: 2.559578934666492\n",
      "MAE: 1.7526109449831762\n",
      "MAPE: 0.040673954484197486\n",
      "r2 score: 0.9380887253897284\n"
     ]
    }
   ],
   "source": [
    "xgb_model = xgboost.XGBRegressor()\n",
    "\n",
    "xgb_model.fit(X_train, y_train)\n",
    "\n",
    "y_pred = xgb_model.predict(X_test)\n",
    "\n",
    "print(f\"MSE: {metrics.mean_squared_error(y_test, y_pred)}\")\n",
    "print(f\"RMSE: {np.sqrt(metrics.mean_squared_error(y_test, y_pred))}\")\n",
    "print(f\"MAE: {metrics.mean_absolute_error(y_test, y_pred)}\")\n",
    "print(f\"MAPE: {metrics.mean_absolute_percentage_error(y_test, y_pred)}\")\n",
    "\n",
    "print(f\"r2 score: {metrics.r2_score(y_test, y_pred)}\")"
   ]
  },
  {
   "cell_type": "code",
   "execution_count": 241,
   "metadata": {},
   "outputs": [
    {
     "data": {
      "text/plain": [
       "Index(['marca', 'modelo', 'combustible', 'anyo_vehiculo', 'kilometraje',\n",
       "       'potencia', 'num_puertas', 'tipo_cambio'],\n",
       "      dtype='object')"
      ]
     },
     "execution_count": 241,
     "metadata": {},
     "output_type": "execute_result"
    }
   ],
   "source": [
    "X.columns"
   ]
  },
  {
   "cell_type": "code",
   "execution_count": 242,
   "metadata": {},
   "outputs": [
    {
     "data": {
      "text/plain": [
       "array([0.0413649 , 0.01846637, 0.02494314, 0.41880536, 0.04263186,\n",
       "       0.25573853, 0.01920591, 0.17884396], dtype=float32)"
      ]
     },
     "execution_count": 242,
     "metadata": {},
     "output_type": "execute_result"
    }
   ],
   "source": [
    "xgb_model.feature_importances_"
   ]
  },
  {
   "cell_type": "code",
   "execution_count": 243,
   "metadata": {},
   "outputs": [
    {
     "data": {
      "text/html": [
       "<div>\n",
       "<style scoped>\n",
       "    .dataframe tbody tr th:only-of-type {\n",
       "        vertical-align: middle;\n",
       "    }\n",
       "\n",
       "    .dataframe tbody tr th {\n",
       "        vertical-align: top;\n",
       "    }\n",
       "\n",
       "    .dataframe thead th {\n",
       "        text-align: right;\n",
       "    }\n",
       "</style>\n",
       "<table border=\"1\" class=\"dataframe\">\n",
       "  <thead>\n",
       "    <tr style=\"text-align: right;\">\n",
       "      <th></th>\n",
       "      <th>Feature Importance</th>\n",
       "    </tr>\n",
       "  </thead>\n",
       "  <tbody>\n",
       "    <tr>\n",
       "      <th>anyo_vehiculo</th>\n",
       "      <td>0.418805</td>\n",
       "    </tr>\n",
       "    <tr>\n",
       "      <th>potencia</th>\n",
       "      <td>0.255739</td>\n",
       "    </tr>\n",
       "    <tr>\n",
       "      <th>tipo_cambio</th>\n",
       "      <td>0.178844</td>\n",
       "    </tr>\n",
       "    <tr>\n",
       "      <th>kilometraje</th>\n",
       "      <td>0.042632</td>\n",
       "    </tr>\n",
       "    <tr>\n",
       "      <th>marca</th>\n",
       "      <td>0.041365</td>\n",
       "    </tr>\n",
       "    <tr>\n",
       "      <th>combustible</th>\n",
       "      <td>0.024943</td>\n",
       "    </tr>\n",
       "    <tr>\n",
       "      <th>num_puertas</th>\n",
       "      <td>0.019206</td>\n",
       "    </tr>\n",
       "    <tr>\n",
       "      <th>modelo</th>\n",
       "      <td>0.018466</td>\n",
       "    </tr>\n",
       "  </tbody>\n",
       "</table>\n",
       "</div>"
      ],
      "text/plain": [
       "               Feature Importance\n",
       "anyo_vehiculo            0.418805\n",
       "potencia                 0.255739\n",
       "tipo_cambio              0.178844\n",
       "kilometraje              0.042632\n",
       "marca                    0.041365\n",
       "combustible              0.024943\n",
       "num_puertas              0.019206\n",
       "modelo                   0.018466"
      ]
     },
     "execution_count": 243,
     "metadata": {},
     "output_type": "execute_result"
    }
   ],
   "source": [
    "df_feat_imp = pd.DataFrame(xgb_model.feature_importances_, index=X.columns)\n",
    "df_feat_imp = df_feat_imp.rename(columns={0:\"Feature Importance\"}).sort_values(\"Feature Importance\", ascending=False)\n",
    "df_feat_imp"
   ]
  },
  {
   "cell_type": "code",
   "execution_count": 244,
   "metadata": {},
   "outputs": [
    {
     "data": {
      "image/png": "[encoded data removed]",
      "text/plain": [
       "<Figure size 1000x600 with 1 Axes>"
      ]
     },
     "metadata": {},
     "output_type": "display_data"
    }
   ],
   "source": [
    "import matplotlib.pyplot as plt\n",
    "import seaborn as sns\n",
    "\n",
    "plt.figure(figsize=(10, 6))\n",
    "\n",
    "df_feat_imp = df_feat_imp.reset_index()\n",
    "df_feat_imp.rename(columns={'index': 'Feature'}, inplace=True)\n",
    "\n",
    "sns.barplot(data=df_feat_imp, x='Feature', y='Feature Importance', color=colors[0])\n",
    "\n",
    "plt.title(\"Importancia de cada feature en el modelo XGBoost\", fontsize=16)\n",
    "plt.xlabel(\"Feature\", fontsize=14)\n",
    "plt.ylabel(\"Importancia\", fontsize=14)\n",
    "\n",
    "plt.xticks(rotation=45)\n",
    "plt.tight_layout()\n",
    "plt.show()\n"
   ]
  },
  {
   "cell_type": "code",
   "execution_count": 245,
   "metadata": {},
   "outputs": [
    {
     "data": {
      "image/png": "[encoded data removed]",
      "text/plain": [
       "<Figure size 800x900 with 2 Axes>"
      ]
     },
     "metadata": {},
     "output_type": "display_data"
    }
   ],
   "source": [
    "# Comparativa entre importancias del Randomforest y XG Boost:\n",
    "\n",
    "import matplotlib.pyplot as plt\n",
    "import seaborn as sns\n",
    "\n",
    "# Asegúrate de que estos DataFrames ya tienen una columna 'Feature'\n",
    "# Si no, usa reset_index() solo si el índice representa las features\n",
    "\n",
    "# Crear la figura y los subplots\n",
    "fig, axes = plt.subplots(nrows=2, ncols=1, figsize=(8, 9))\n",
    "\n",
    "# Gráfico 1 - RandomForest\n",
    "sns.barplot(data=df_feat_imp_rf, x='Feature', y='Feature Importance', color=colors[0], ax=axes[0])\n",
    "axes[0].set_title(\"Importancia de cada característica en el modelo Random Forest\", fontsize=18)\n",
    "axes[0].set_xlabel(\"Característica\", fontsize=14)\n",
    "axes[0].set_ylabel(\"Importancia\", fontsize=14)\n",
    "axes[0].tick_params(axis='x', rotation=45)\n",
    "\n",
    "# Gráfico 2 - XGBoost\n",
    "sns.barplot(data=df_feat_imp, x='Feature', y='Feature Importance', color=colors[0], ax=axes[1])\n",
    "axes[1].set_title(\"Importancia de cada característica en el modelo XGBoost\", fontsize=18)\n",
    "axes[1].set_xlabel(\"Característica\", fontsize=14)\n",
    "axes[1].set_ylabel(\"Importancia\", fontsize=14)\n",
    "axes[1].tick_params(axis='x', rotation=45)\n",
    "\n",
    "plt.tight_layout()\n",
    "plt.subplots_adjust(hspace=0.7)  # aumenta el espacio vertical entre subplots\n",
    "plt.show()\n"
   ]
  },
  {
   "cell_type": "markdown",
   "metadata": {},
   "source": [
    "Ahora observamos que las columnas más importantes siguen siendo ```\"anyo_vehiculo\"``` y ```\"potencia\"```. Sin embargo, el XGBoost le da mucha más importancia a la columna ```\"tipo_cambio\"``` que el RandomForest previo, y menos a la columna ```\"kilometraje\"```. Además la importancia de las columnas menos importantes es más elevada que en el anterior modelo, por lo que no descartaremos ninguna de estas columnas.\n",
    "\n",
    "Vamos a deshacer la transformación que realizamos en la columna ```\"precio\"``` (target) para ver la dimensión real de nuestras métricas:"
   ]
  },
  {
   "cell_type": "code",
   "execution_count": 246,
   "metadata": {},
   "outputs": [
    {
     "data": {
      "text/plain": [
       "25289.99999999999"
      ]
     },
     "execution_count": 246,
     "metadata": {},
     "output_type": "execute_result"
    }
   ],
   "source": [
    "inv_boxcox(df[\"precio\"][0], lambda_opt)"
   ]
  },
  {
   "cell_type": "code",
   "execution_count": null,
   "metadata": {},
   "outputs": [
    {
     "name": "stdout",
     "output_type": "stream",
     "text": [
      "MSE: 8181975.19443998\n",
      "RMSE: 2860.415213642939\n",
      "MAE: 1707.817019806553\n",
      "MAPE: 0.1387254641084232\n",
      "r2 score: 0.9276348038637756\n"
     ]
    }
   ],
   "source": [
    "y_pred = xgb_model.predict(X_test)\n",
    "\n",
    "# Deshacemos la transformación Box-Cox:\n",
    "\n",
    "y_test_final = inv_boxcox(y_test, lambda_opt)\n",
    "y_pred_final = inv_boxcox(y_pred, lambda_opt)\n",
    "\n",
    "# Claculamos las métricas reales:\n",
    "print(f\"MSE: {metrics.mean_squared_error(y_test_final, y_pred_final)}\")\n",
    "print(f\"RMSE: {np.sqrt(metrics.mean_squared_error(y_test_final, y_pred_final))}\")\n",
    "print(f\"MAE: {metrics.mean_absolute_error(y_test_final, y_pred_final)}\")\n",
    "print(f\"MAPE: {metrics.mean_absolute_percentage_error(y_test_final, y_pred_final)}\")\n",
    "\n",
    "print(f\"r2 score: {metrics.r2_score(y_test_final, y_pred_final)}\")"
   ]
  },
  {
   "cell_type": "markdown",
   "metadata": {},
   "source": [
    "Vemos que el MAE = 1.707 euros. Esto significa que para cada vehículo nos podemos ir esa cantidad de dinero de media en la predicción. \n",
    "\n",
    "El RMSE es algo mayor, 2.860 euros, lo cual se debe a que existen unos pocos coches cuyo error es alto, y al hacer el error cuadrático este error se hace más grande.\n",
    "\n",
    "En cuanto al MAPE, nos indica que nuestro modelo tiene un % de error medio del 13.87% sobre el precio del vehículo, el cual es algo elevado."
   ]
  },
  {
   "cell_type": "markdown",
   "metadata": {},
   "source": [
    "Vamos a exportar el modelo final:"
   ]
  },
  {
   "cell_type": "code",
   "execution_count": 249,
   "metadata": {},
   "outputs": [],
   "source": [
    "import pickle\n",
    "\n",
    "# Guardamos el modelo final:\n",
    "\n",
    "with open(\"../include/model/modelo_final.pkl\", 'wb') as archivo_salida:\n",
    "    pickle.dump(xgb_model, archivo_salida)\n"
   ]
  },
  {
   "cell_type": "markdown",
   "metadata": {},
   "source": [
    "Creamos una función que nos permita meter nuevos inputs en el formato de nuestro DataFrame inicial y extraer las variables para pasar directamente al modelo.\n",
    "\n",
    "Además, creamos otras dos funciones: una para realizar predicciones y otra para destransformar la columna target ```\"precio\"```."
   ]
  },
  {
   "cell_type": "code",
   "execution_count": 273,
   "metadata": {},
   "outputs": [
    {
     "data": {
      "text/plain": [
       "0.2805938549051249"
      ]
     },
     "execution_count": 273,
     "metadata": {},
     "output_type": "execute_result"
    }
   ],
   "source": [
    "lambda_opt"
   ]
  },
  {
   "cell_type": "code",
   "execution_count": 292,
   "metadata": {},
   "outputs": [],
   "source": [
    "# Función para transformar un df con nuevos inputs de la base de datos en X, y para pasar al modelo.\n",
    "\n",
    "from sklearn.preprocessing import LabelEncoder\n",
    "from sklearn.preprocessing import MinMaxScaler\n",
    "import pickle\n",
    "from scipy.stats import boxcox\n",
    "from scipy.special import inv_boxcox\n",
    "\n",
    "\n",
    "def new_input_clean(input_df):\n",
    "    '''\n",
    "    Introduce los nuevos inputs en formato DataFrame con las columnas iniciales y devuelve los datos listos para introducirlos al modelo.\n",
    "\n",
    "    El input DataFrame debe contener al menos las columnas (['marca', 'modelo', 'combustible', 'anyo_vehiculo', 'kilometraje', 'potencia', \n",
    "    'num_puertas', 'tipo_cambio'])\n",
    "    '''\n",
    "\n",
    "    excepciones = ['marca', 'modelo', 'precio', 'combustible', 'anyo_vehiculo', 'kilometraje', 'potencia', 'num_puertas', 'tipo_cambio']\n",
    "\n",
    "    # Reemplazar NaN con 0 excepto en las columnas de excepciones (las que utiliza el modelo)\n",
    "    input_df = input_df.fillna({col: 0 for col in input_df.columns if col not in excepciones})\n",
    "\n",
    "\n",
    "    input_df = input_df[excepciones]\n",
    "    input_df = input_df.drop(index=(input_df.loc[df.loc[:, \"potencia\"].isna() == True, :]).index)\n",
    "    input_df = input_df.drop(index=(input_df.loc[df.loc[:, \"tipo_cambio\"].isna() == True, :]).index)\n",
    "    input_df = input_df.dropna()\n",
    "\n",
    "    # Importamos los encodings hechos antes:\n",
    "    encoder_marca = pickle.load(open(\"../include/utils/label_encoder_marca.pkl\", 'rb'))\n",
    "    encoder_modelo = pickle.load(open(\"../include/utils/label_encoder_modelo.pkl\", 'rb'))\n",
    "\n",
    "    list(encoder_marca.classes_)\n",
    "    input_df[\"marca\"] = encoder_marca.transform(input_df[\"marca\"])\n",
    "\n",
    "    list(encoder_modelo.classes_)\n",
    "    input_df[\"modelo\"] = encoder_modelo.transform(input_df[\"modelo\"])\n",
    "\n",
    "    tipos_combustible = {\"Diésel\" : 0,\n",
    "            \"Gasolina\" : 1,\n",
    "            \"Híbrido\" : 2,\n",
    "            \"Eléctrico\" : 3,\n",
    "            \"Híbrido enchufable\" : 4, \n",
    "            \"Gas licuado (GLP)\" : 5,\n",
    "            \"Gas natural (CNG)\" : 6}\n",
    "                     \n",
    "    input_df[\"combustible\"] = input_df[\"combustible\"].map(tipos_combustible)\n",
    "\n",
    "    num_puertas = {5: 5,\n",
    "            4 : 5,\n",
    "            3 : 3,\n",
    "            2 : 3}\n",
    "    \n",
    "    input_df[\"num_puertas\"] = input_df[\"num_puertas\"].map(num_puertas)\n",
    "    \n",
    "    input_df[\"tipo_cambio\"] = input_df[\"tipo_cambio\"].apply(lambda x: 0 if x == \"Manual\" else 1)\n",
    "\n",
    "    # input_df[\"precio\"] = np.log(input_df[\"precio\"])\n",
    "\n",
    "    # Valor de lambda utilizado en la transformación del modelo:\n",
    "    lambda_box = 0.2805938549051249\n",
    "\n",
    "    # Transformación Box-Cox del precio:\n",
    "    input_df[\"precio\"] = boxcox(x=input_df[\"precio\"], lmbda=lambda_box)\n",
    "\n",
    "    X_input = input_df.drop(\"precio\", axis=1)\n",
    "    y_input = input_df[\"precio\"]\n",
    "    \n",
    "\n",
    "    scaler = pickle.load(open(\"../include/utils/scaler.pkl\", 'rb'))\n",
    "\n",
    "    X_input = scaler.transform(X_input)\n",
    "\n",
    "    return [X_input, y_input]\n",
    "\n",
    "# Función para hacer predicciones\n",
    "\n",
    "def predict(loaded_model, X_input):\n",
    "    return loaded_model.predict(X_input)\n",
    "\n",
    "# Función para deshacer la transformación y devolver el precio:\n",
    "\n",
    "import numpy as np\n",
    "\n",
    "def destransformar_y(y_out):\n",
    "    lambda_box = 0.2805938549051249\n",
    "    # return np.exp(y_out)\n",
    "    return inv_boxcox(y_out, lambda_box)"
   ]
  },
  {
   "cell_type": "markdown",
   "metadata": {},
   "source": [
    "Vamos ahora a cargar el modelo y probarlo con un DataFrame de prueba con coches, para ver el precio que predice. "
   ]
  },
  {
   "cell_type": "code",
   "execution_count": 287,
   "metadata": {},
   "outputs": [],
   "source": [
    "import pickle\n",
    "\n",
    "loaded_model = pickle.load(open(\"../include/model/modelo_final.pkl\", 'rb'))"
   ]
  },
  {
   "cell_type": "code",
   "execution_count": 288,
   "metadata": {},
   "outputs": [
    {
     "data": {
      "text/html": [
       "<style>#sk-container-id-6 {color: black;}#sk-container-id-6 pre{padding: 0;}#sk-container-id-6 div.sk-toggleable {background-color: white;}#sk-container-id-6 label.sk-toggleable__label {cursor: pointer;display: block;width: 100%;margin-bottom: 0;padding: 0.3em;box-sizing: border-box;text-align: center;}#sk-container-id-6 label.sk-toggleable__label-arrow:before {content: \"▸\";float: left;margin-right: 0.25em;color: #696969;}#sk-container-id-6 label.sk-toggleable__label-arrow:hover:before {color: black;}#sk-container-id-6 div.sk-estimator:hover label.sk-toggleable__label-arrow:before {color: black;}#sk-container-id-6 div.sk-toggleable__content {max-height: 0;max-width: 0;overflow: hidden;text-align: left;background-color: #f0f8ff;}#sk-container-id-6 div.sk-toggleable__content pre {margin: 0.2em;color: black;border-radius: 0.25em;background-color: #f0f8ff;}#sk-container-id-6 input.sk-toggleable__control:checked~div.sk-toggleable__content {max-height: 200px;max-width: 100%;overflow: auto;}#sk-container-id-6 input.sk-toggleable__control:checked~label.sk-toggleable__label-arrow:before {content: \"▾\";}#sk-container-id-6 div.sk-estimator input.sk-toggleable__control:checked~label.sk-toggleable__label {background-color: #d4ebff;}#sk-container-id-6 div.sk-label input.sk-toggleable__control:checked~label.sk-toggleable__label {background-color: #d4ebff;}#sk-container-id-6 input.sk-hidden--visually {border: 0;clip: rect(1px 1px 1px 1px);clip: rect(1px, 1px, 1px, 1px);height: 1px;margin: -1px;overflow: hidden;padding: 0;position: absolute;width: 1px;}#sk-container-id-6 div.sk-estimator {font-family: monospace;background-color: #f0f8ff;border: 1px dotted black;border-radius: 0.25em;box-sizing: border-box;margin-bottom: 0.5em;}#sk-container-id-6 div.sk-estimator:hover {background-color: #d4ebff;}#sk-container-id-6 div.sk-parallel-item::after {content: \"\";width: 100%;border-bottom: 1px solid gray;flex-grow: 1;}#sk-container-id-6 div.sk-label:hover label.sk-toggleable__label {background-color: #d4ebff;}#sk-container-id-6 div.sk-serial::before {content: \"\";position: absolute;border-left: 1px solid gray;box-sizing: border-box;top: 0;bottom: 0;left: 50%;z-index: 0;}#sk-container-id-6 div.sk-serial {display: flex;flex-direction: column;align-items: center;background-color: white;padding-right: 0.2em;padding-left: 0.2em;position: relative;}#sk-container-id-6 div.sk-item {position: relative;z-index: 1;}#sk-container-id-6 div.sk-parallel {display: flex;align-items: stretch;justify-content: center;background-color: white;position: relative;}#sk-container-id-6 div.sk-item::before, #sk-container-id-6 div.sk-parallel-item::before {content: \"\";position: absolute;border-left: 1px solid gray;box-sizing: border-box;top: 0;bottom: 0;left: 50%;z-index: -1;}#sk-container-id-6 div.sk-parallel-item {display: flex;flex-direction: column;z-index: 1;position: relative;background-color: white;}#sk-container-id-6 div.sk-parallel-item:first-child::after {align-self: flex-end;width: 50%;}#sk-container-id-6 div.sk-parallel-item:last-child::after {align-self: flex-start;width: 50%;}#sk-container-id-6 div.sk-parallel-item:only-child::after {width: 0;}#sk-container-id-6 div.sk-dashed-wrapped {border: 1px dashed gray;margin: 0 0.4em 0.5em 0.4em;box-sizing: border-box;padding-bottom: 0.4em;background-color: white;}#sk-container-id-6 div.sk-label label {font-family: monospace;font-weight: bold;display: inline-block;line-height: 1.2em;}#sk-container-id-6 div.sk-label-container {text-align: center;}#sk-container-id-6 div.sk-container {/* jupyter's `normalize.less` sets `[hidden] { display: none; }` but bootstrap.min.css set `[hidden] { display: none !important; }` so we also need the `!important` here to be able to override the default hidden behavior on the sphinx rendered scikit-learn.org. See: https://github.com/scikit-learn/scikit-learn/issues/21755 */display: inline-block !important;position: relative;}#sk-container-id-6 div.sk-text-repr-fallback {display: none;}</style><div id=\"sk-container-id-6\" class=\"sk-top-container\"><div class=\"sk-text-repr-fallback\"><pre>XGBRegressor(base_score=None, booster=None, callbacks=None,\n",
       "             colsample_bylevel=None, colsample_bynode=None,\n",
       "             colsample_bytree=None, device=None, early_stopping_rounds=None,\n",
       "             enable_categorical=False, eval_metric=None, feature_types=None,\n",
       "             feature_weights=None, gamma=None, grow_policy=None,\n",
       "             importance_type=None, interaction_constraints=None,\n",
       "             learning_rate=None, max_bin=None, max_cat_threshold=None,\n",
       "             max_cat_to_onehot=None, max_delta_step=None, max_depth=None,\n",
       "             max_leaves=None, min_child_weight=None, missing=nan,\n",
       "             monotone_constraints=None, multi_strategy=None, n_estimators=None,\n",
       "             n_jobs=None, num_parallel_tree=None, ...)</pre><b>In a Jupyter environment, please rerun this cell to show the HTML representation or trust the notebook. <br />On GitHub, the HTML representation is unable to render, please try loading this page with nbviewer.org.</b></div><div class=\"sk-container\" hidden><div class=\"sk-item\"><div class=\"sk-estimator sk-toggleable\"><input class=\"sk-toggleable__control sk-hidden--visually\" id=\"sk-estimator-id-6\" type=\"checkbox\" checked><label for=\"sk-estimator-id-6\" class=\"sk-toggleable__label sk-toggleable__label-arrow\">XGBRegressor</label><div class=\"sk-toggleable__content\"><pre>XGBRegressor(base_score=None, booster=None, callbacks=None,\n",
       "             colsample_bylevel=None, colsample_bynode=None,\n",
       "             colsample_bytree=None, device=None, early_stopping_rounds=None,\n",
       "             enable_categorical=False, eval_metric=None, feature_types=None,\n",
       "             feature_weights=None, gamma=None, grow_policy=None,\n",
       "             importance_type=None, interaction_constraints=None,\n",
       "             learning_rate=None, max_bin=None, max_cat_threshold=None,\n",
       "             max_cat_to_onehot=None, max_delta_step=None, max_depth=None,\n",
       "             max_leaves=None, min_child_weight=None, missing=nan,\n",
       "             monotone_constraints=None, multi_strategy=None, n_estimators=None,\n",
       "             n_jobs=None, num_parallel_tree=None, ...)</pre></div></div></div></div></div>"
      ],
      "text/plain": [
       "XGBRegressor(base_score=None, booster=None, callbacks=None,\n",
       "             colsample_bylevel=None, colsample_bynode=None,\n",
       "             colsample_bytree=None, device=None, early_stopping_rounds=None,\n",
       "             enable_categorical=False, eval_metric=None, feature_types=None,\n",
       "             feature_weights=None, gamma=None, grow_policy=None,\n",
       "             importance_type=None, interaction_constraints=None,\n",
       "             learning_rate=None, max_bin=None, max_cat_threshold=None,\n",
       "             max_cat_to_onehot=None, max_delta_step=None, max_depth=None,\n",
       "             max_leaves=None, min_child_weight=None, missing=nan,\n",
       "             monotone_constraints=None, multi_strategy=None, n_estimators=None,\n",
       "             n_jobs=None, num_parallel_tree=None, ...)"
      ]
     },
     "execution_count": 288,
     "metadata": {},
     "output_type": "execute_result"
    }
   ],
   "source": [
    "loaded_model"
   ]
  },
  {
   "cell_type": "code",
   "execution_count": 289,
   "metadata": {},
   "outputs": [
    {
     "data": {
      "text/html": [
       "<div>\n",
       "<style scoped>\n",
       "    .dataframe tbody tr th:only-of-type {\n",
       "        vertical-align: middle;\n",
       "    }\n",
       "\n",
       "    .dataframe tbody tr th {\n",
       "        vertical-align: top;\n",
       "    }\n",
       "\n",
       "    .dataframe thead th {\n",
       "        text-align: right;\n",
       "    }\n",
       "</style>\n",
       "<table border=\"1\" class=\"dataframe\">\n",
       "  <thead>\n",
       "    <tr style=\"text-align: right;\">\n",
       "      <th></th>\n",
       "      <th>pk_anuncio_id</th>\n",
       "      <th>marca</th>\n",
       "      <th>modelo</th>\n",
       "      <th>precio</th>\n",
       "      <th>combustible</th>\n",
       "      <th>anyo_vehiculo</th>\n",
       "      <th>kilometraje</th>\n",
       "      <th>potencia</th>\n",
       "      <th>num_puertas</th>\n",
       "      <th>num_plazas</th>\n",
       "      <th>...</th>\n",
       "      <th>tipo_vehiculo</th>\n",
       "      <th>cilindrada_motor</th>\n",
       "      <th>color</th>\n",
       "      <th>provincia</th>\n",
       "      <th>etiqueta_eco</th>\n",
       "      <th>origen_anuncio</th>\n",
       "      <th>fecha_publicacion</th>\n",
       "      <th>anyomes_publicacion</th>\n",
       "      <th>fecha_carga</th>\n",
       "      <th>url</th>\n",
       "    </tr>\n",
       "  </thead>\n",
       "  <tbody>\n",
       "    <tr>\n",
       "      <th>0</th>\n",
       "      <td>60611029</td>\n",
       "      <td>AUDI</td>\n",
       "      <td>a3</td>\n",
       "      <td>25290.0</td>\n",
       "      <td>Híbrido</td>\n",
       "      <td>2023.0</td>\n",
       "      <td>46273</td>\n",
       "      <td>110.0</td>\n",
       "      <td>5.0</td>\n",
       "      <td>5.0</td>\n",
       "      <td>...</td>\n",
       "      <td>Berlina</td>\n",
       "      <td>999.0</td>\n",
       "      <td>negro</td>\n",
       "      <td>Ciudad Real</td>\n",
       "      <td>ECO (azul/verde)</td>\n",
       "      <td>WebScraping</td>\n",
       "      <td>2025-05-20</td>\n",
       "      <td>202505</td>\n",
       "      <td>2025-06-07 06:51:00</td>\n",
       "      <td>https://www.coches.net/audi-a3-sportback-30-tf...</td>\n",
       "    </tr>\n",
       "    <tr>\n",
       "      <th>1</th>\n",
       "      <td>60652943</td>\n",
       "      <td>HYUNDAI</td>\n",
       "      <td>i30</td>\n",
       "      <td>14850.0</td>\n",
       "      <td>Híbrido</td>\n",
       "      <td>2022.0</td>\n",
       "      <td>103209</td>\n",
       "      <td>120.0</td>\n",
       "      <td>5.0</td>\n",
       "      <td>5.0</td>\n",
       "      <td>...</td>\n",
       "      <td>Familiar</td>\n",
       "      <td>998.0</td>\n",
       "      <td>None</td>\n",
       "      <td>A Coruña</td>\n",
       "      <td>ECO (azul/verde)</td>\n",
       "      <td>WebScraping</td>\n",
       "      <td>2025-06-03</td>\n",
       "      <td>202506</td>\n",
       "      <td>2025-06-03 13:24:18</td>\n",
       "      <td>https://www.coches.net/hyundai-i30-10-tgdi-48v...</td>\n",
       "    </tr>\n",
       "    <tr>\n",
       "      <th>2</th>\n",
       "      <td>60716264</td>\n",
       "      <td>TOYOTA</td>\n",
       "      <td>c-hr</td>\n",
       "      <td>20100.0</td>\n",
       "      <td>Híbrido</td>\n",
       "      <td>2020.0</td>\n",
       "      <td>110745</td>\n",
       "      <td>122.0</td>\n",
       "      <td>5.0</td>\n",
       "      <td>5.0</td>\n",
       "      <td>...</td>\n",
       "      <td>Berlina</td>\n",
       "      <td>1798.0</td>\n",
       "      <td>blanco</td>\n",
       "      <td>Madrid</td>\n",
       "      <td>ECO (azul/verde)</td>\n",
       "      <td>WebScraping</td>\n",
       "      <td>2025-06-03</td>\n",
       "      <td>202506</td>\n",
       "      <td>2025-06-03 13:22:36</td>\n",
       "      <td>https://www.coches.net/toyota-c-hr-18-125h-act...</td>\n",
       "    </tr>\n",
       "    <tr>\n",
       "      <th>3</th>\n",
       "      <td>60206285</td>\n",
       "      <td>NISSAN</td>\n",
       "      <td>juke</td>\n",
       "      <td>17990.0</td>\n",
       "      <td>Gasolina</td>\n",
       "      <td>2022.0</td>\n",
       "      <td>63000</td>\n",
       "      <td>114.0</td>\n",
       "      <td>5.0</td>\n",
       "      <td>5.0</td>\n",
       "      <td>...</td>\n",
       "      <td>SUV</td>\n",
       "      <td>999.0</td>\n",
       "      <td>None</td>\n",
       "      <td>Las Palmas</td>\n",
       "      <td>None</td>\n",
       "      <td>WebScraping</td>\n",
       "      <td>2025-06-03</td>\n",
       "      <td>202506</td>\n",
       "      <td>2025-06-03 13:21:36</td>\n",
       "      <td>https://www.coches.net/nissan-juke-digt-84-kw-...</td>\n",
       "    </tr>\n",
       "    <tr>\n",
       "      <th>4</th>\n",
       "      <td>60716125</td>\n",
       "      <td>NISSAN</td>\n",
       "      <td>qashqai</td>\n",
       "      <td>24390.0</td>\n",
       "      <td>Híbrido</td>\n",
       "      <td>2022.0</td>\n",
       "      <td>62765</td>\n",
       "      <td>140.0</td>\n",
       "      <td>5.0</td>\n",
       "      <td>5.0</td>\n",
       "      <td>...</td>\n",
       "      <td>SUV</td>\n",
       "      <td>1332.0</td>\n",
       "      <td>negro</td>\n",
       "      <td>Huelva</td>\n",
       "      <td>ECO (azul/verde)</td>\n",
       "      <td>WebScraping</td>\n",
       "      <td>2025-06-03</td>\n",
       "      <td>202506</td>\n",
       "      <td>2025-06-03 13:20:26</td>\n",
       "      <td>https://www.coches.net/nissan-qashqai-digt-103...</td>\n",
       "    </tr>\n",
       "  </tbody>\n",
       "</table>\n",
       "<p>5 rows × 21 columns</p>\n",
       "</div>"
      ],
      "text/plain": [
       "   pk_anuncio_id    marca   modelo   precio combustible  anyo_vehiculo  \\\n",
       "0       60611029     AUDI       a3  25290.0     Híbrido         2023.0   \n",
       "1       60652943  HYUNDAI      i30  14850.0     Híbrido         2022.0   \n",
       "2       60716264   TOYOTA     c-hr  20100.0     Híbrido         2020.0   \n",
       "3       60206285   NISSAN     juke  17990.0    Gasolina         2022.0   \n",
       "4       60716125   NISSAN  qashqai  24390.0     Híbrido         2022.0   \n",
       "\n",
       "   kilometraje  potencia  num_puertas  num_plazas  ... tipo_vehiculo  \\\n",
       "0        46273     110.0          5.0         5.0  ...       Berlina   \n",
       "1       103209     120.0          5.0         5.0  ...      Familiar   \n",
       "2       110745     122.0          5.0         5.0  ...       Berlina   \n",
       "3        63000     114.0          5.0         5.0  ...           SUV   \n",
       "4        62765     140.0          5.0         5.0  ...           SUV   \n",
       "\n",
       "  cilindrada_motor   color    provincia      etiqueta_eco origen_anuncio  \\\n",
       "0            999.0   negro  Ciudad Real  ECO (azul/verde)    WebScraping   \n",
       "1            998.0    None     A Coruña  ECO (azul/verde)    WebScraping   \n",
       "2           1798.0  blanco       Madrid  ECO (azul/verde)    WebScraping   \n",
       "3            999.0    None   Las Palmas              None    WebScraping   \n",
       "4           1332.0   negro       Huelva  ECO (azul/verde)    WebScraping   \n",
       "\n",
       "  fecha_publicacion anyomes_publicacion          fecha_carga  \\\n",
       "0        2025-05-20              202505  2025-06-07 06:51:00   \n",
       "1        2025-06-03              202506  2025-06-03 13:24:18   \n",
       "2        2025-06-03              202506  2025-06-03 13:22:36   \n",
       "3        2025-06-03              202506  2025-06-03 13:21:36   \n",
       "4        2025-06-03              202506  2025-06-03 13:20:26   \n",
       "\n",
       "                                                 url  \n",
       "0  https://www.coches.net/audi-a3-sportback-30-tf...  \n",
       "1  https://www.coches.net/hyundai-i30-10-tgdi-48v...  \n",
       "2  https://www.coches.net/toyota-c-hr-18-125h-act...  \n",
       "3  https://www.coches.net/nissan-juke-digt-84-kw-...  \n",
       "4  https://www.coches.net/nissan-qashqai-digt-103...  \n",
       "\n",
       "[5 rows x 21 columns]"
      ]
     },
     "execution_count": 289,
     "metadata": {},
     "output_type": "execute_result"
    }
   ],
   "source": [
    "import pandas as pd\n",
    "import sqlite3\n",
    "\n",
    "# Conexión a la BBDD:\n",
    "con = sqlite3.connect(\"../include/db_vehiculos.db\")\n",
    "\n",
    "# Vamos a ver qué nos devuelve un select sobre la tabla:\n",
    "query = \"\"\"\n",
    "SELECT * FROM TX_VEHICULOS_SEG_MANO\n",
    "where\n",
    "    marca in ('BMW', 'VOLKSWAGEN', 'MERCEDES-BENZ', 'AUDI', 'PEUGEOT', 'FORD', 'RENAULT', 'OPEL', 'CITROEN', 'SEAT', 'HYUNDAI', 'KIA', 'NISSAN', 'TOYOTA')\n",
    "order by\n",
    "    fecha_carga desc\n",
    ";\n",
    "\"\"\"\n",
    "\n",
    "# Leemos los resultados en un DataFrame de pandas\n",
    "df = pd.read_sql_query(query, con)\n",
    "\n",
    "# Mostramos los primeros registros (aún no hay):\n",
    "df_prueba = df.head()\n",
    "\n",
    "df_prueba"
   ]
  },
  {
   "cell_type": "code",
   "execution_count": 290,
   "metadata": {},
   "outputs": [],
   "source": [
    "X_input, y_input = new_input_clean(input_df=df_prueba)"
   ]
  },
  {
   "cell_type": "code",
   "execution_count": 268,
   "metadata": {},
   "outputs": [
    {
     "data": {
      "text/plain": [
       "array([57.638596, 49.949112, 53.284588, 52.034492, 55.65942 ],\n",
       "      dtype=float32)"
      ]
     },
     "execution_count": 268,
     "metadata": {},
     "output_type": "execute_result"
    }
   ],
   "source": [
    "predictions = loaded_model.predict(X_input)\n",
    "predictions"
   ]
  },
  {
   "cell_type": "code",
   "execution_count": 293,
   "metadata": {},
   "outputs": [
    {
     "data": {
      "text/plain": [
       "array([25167., 15596., 19347., 17873., 22385.], dtype=float32)"
      ]
     },
     "execution_count": 293,
     "metadata": {},
     "output_type": "execute_result"
    }
   ],
   "source": [
    "y_prueba = destransformar_y(predictions).round(0)\n",
    "y_prueba"
   ]
  },
  {
   "cell_type": "markdown",
   "metadata": {},
   "source": [
    "Insertamos las predicciones realizadas en la columna ```\"precio_predicho\"```, al lado de la columna target ```\"precio\"```:"
   ]
  },
  {
   "cell_type": "code",
   "execution_count": 294,
   "metadata": {},
   "outputs": [
    {
     "data": {
      "text/html": [
       "<div>\n",
       "<style scoped>\n",
       "    .dataframe tbody tr th:only-of-type {\n",
       "        vertical-align: middle;\n",
       "    }\n",
       "\n",
       "    .dataframe tbody tr th {\n",
       "        vertical-align: top;\n",
       "    }\n",
       "\n",
       "    .dataframe thead th {\n",
       "        text-align: right;\n",
       "    }\n",
       "</style>\n",
       "<table border=\"1\" class=\"dataframe\">\n",
       "  <thead>\n",
       "    <tr style=\"text-align: right;\">\n",
       "      <th></th>\n",
       "      <th>pk_anuncio_id</th>\n",
       "      <th>marca</th>\n",
       "      <th>modelo</th>\n",
       "      <th>precio</th>\n",
       "      <th>precio_predicho</th>\n",
       "      <th>combustible</th>\n",
       "      <th>anyo_vehiculo</th>\n",
       "      <th>kilometraje</th>\n",
       "      <th>potencia</th>\n",
       "      <th>num_puertas</th>\n",
       "      <th>...</th>\n",
       "      <th>tipo_vehiculo</th>\n",
       "      <th>cilindrada_motor</th>\n",
       "      <th>color</th>\n",
       "      <th>provincia</th>\n",
       "      <th>etiqueta_eco</th>\n",
       "      <th>origen_anuncio</th>\n",
       "      <th>fecha_publicacion</th>\n",
       "      <th>anyomes_publicacion</th>\n",
       "      <th>fecha_carga</th>\n",
       "      <th>url</th>\n",
       "    </tr>\n",
       "  </thead>\n",
       "  <tbody>\n",
       "    <tr>\n",
       "      <th>0</th>\n",
       "      <td>60611029</td>\n",
       "      <td>AUDI</td>\n",
       "      <td>a3</td>\n",
       "      <td>25290.0</td>\n",
       "      <td>25167.0</td>\n",
       "      <td>Híbrido</td>\n",
       "      <td>2023.0</td>\n",
       "      <td>46273</td>\n",
       "      <td>110.0</td>\n",
       "      <td>5.0</td>\n",
       "      <td>...</td>\n",
       "      <td>Berlina</td>\n",
       "      <td>999.0</td>\n",
       "      <td>negro</td>\n",
       "      <td>Ciudad Real</td>\n",
       "      <td>ECO (azul/verde)</td>\n",
       "      <td>WebScraping</td>\n",
       "      <td>2025-05-20</td>\n",
       "      <td>202505</td>\n",
       "      <td>2025-06-07 06:51:00</td>\n",
       "      <td>https://www.coches.net/audi-a3-sportback-30-tf...</td>\n",
       "    </tr>\n",
       "    <tr>\n",
       "      <th>1</th>\n",
       "      <td>60652943</td>\n",
       "      <td>HYUNDAI</td>\n",
       "      <td>i30</td>\n",
       "      <td>14850.0</td>\n",
       "      <td>15596.0</td>\n",
       "      <td>Híbrido</td>\n",
       "      <td>2022.0</td>\n",
       "      <td>103209</td>\n",
       "      <td>120.0</td>\n",
       "      <td>5.0</td>\n",
       "      <td>...</td>\n",
       "      <td>Familiar</td>\n",
       "      <td>998.0</td>\n",
       "      <td>None</td>\n",
       "      <td>A Coruña</td>\n",
       "      <td>ECO (azul/verde)</td>\n",
       "      <td>WebScraping</td>\n",
       "      <td>2025-06-03</td>\n",
       "      <td>202506</td>\n",
       "      <td>2025-06-03 13:24:18</td>\n",
       "      <td>https://www.coches.net/hyundai-i30-10-tgdi-48v...</td>\n",
       "    </tr>\n",
       "    <tr>\n",
       "      <th>2</th>\n",
       "      <td>60716264</td>\n",
       "      <td>TOYOTA</td>\n",
       "      <td>c-hr</td>\n",
       "      <td>20100.0</td>\n",
       "      <td>19347.0</td>\n",
       "      <td>Híbrido</td>\n",
       "      <td>2020.0</td>\n",
       "      <td>110745</td>\n",
       "      <td>122.0</td>\n",
       "      <td>5.0</td>\n",
       "      <td>...</td>\n",
       "      <td>Berlina</td>\n",
       "      <td>1798.0</td>\n",
       "      <td>blanco</td>\n",
       "      <td>Madrid</td>\n",
       "      <td>ECO (azul/verde)</td>\n",
       "      <td>WebScraping</td>\n",
       "      <td>2025-06-03</td>\n",
       "      <td>202506</td>\n",
       "      <td>2025-06-03 13:22:36</td>\n",
       "      <td>https://www.coches.net/toyota-c-hr-18-125h-act...</td>\n",
       "    </tr>\n",
       "    <tr>\n",
       "      <th>3</th>\n",
       "      <td>60206285</td>\n",
       "      <td>NISSAN</td>\n",
       "      <td>juke</td>\n",
       "      <td>17990.0</td>\n",
       "      <td>17873.0</td>\n",
       "      <td>Gasolina</td>\n",
       "      <td>2022.0</td>\n",
       "      <td>63000</td>\n",
       "      <td>114.0</td>\n",
       "      <td>5.0</td>\n",
       "      <td>...</td>\n",
       "      <td>SUV</td>\n",
       "      <td>999.0</td>\n",
       "      <td>None</td>\n",
       "      <td>Las Palmas</td>\n",
       "      <td>None</td>\n",
       "      <td>WebScraping</td>\n",
       "      <td>2025-06-03</td>\n",
       "      <td>202506</td>\n",
       "      <td>2025-06-03 13:21:36</td>\n",
       "      <td>https://www.coches.net/nissan-juke-digt-84-kw-...</td>\n",
       "    </tr>\n",
       "    <tr>\n",
       "      <th>4</th>\n",
       "      <td>60716125</td>\n",
       "      <td>NISSAN</td>\n",
       "      <td>qashqai</td>\n",
       "      <td>24390.0</td>\n",
       "      <td>22385.0</td>\n",
       "      <td>Híbrido</td>\n",
       "      <td>2022.0</td>\n",
       "      <td>62765</td>\n",
       "      <td>140.0</td>\n",
       "      <td>5.0</td>\n",
       "      <td>...</td>\n",
       "      <td>SUV</td>\n",
       "      <td>1332.0</td>\n",
       "      <td>negro</td>\n",
       "      <td>Huelva</td>\n",
       "      <td>ECO (azul/verde)</td>\n",
       "      <td>WebScraping</td>\n",
       "      <td>2025-06-03</td>\n",
       "      <td>202506</td>\n",
       "      <td>2025-06-03 13:20:26</td>\n",
       "      <td>https://www.coches.net/nissan-qashqai-digt-103...</td>\n",
       "    </tr>\n",
       "  </tbody>\n",
       "</table>\n",
       "<p>5 rows × 22 columns</p>\n",
       "</div>"
      ],
      "text/plain": [
       "   pk_anuncio_id    marca   modelo   precio  precio_predicho combustible  \\\n",
       "0       60611029     AUDI       a3  25290.0          25167.0     Híbrido   \n",
       "1       60652943  HYUNDAI      i30  14850.0          15596.0     Híbrido   \n",
       "2       60716264   TOYOTA     c-hr  20100.0          19347.0     Híbrido   \n",
       "3       60206285   NISSAN     juke  17990.0          17873.0    Gasolina   \n",
       "4       60716125   NISSAN  qashqai  24390.0          22385.0     Híbrido   \n",
       "\n",
       "   anyo_vehiculo  kilometraje  potencia  num_puertas  ...  tipo_vehiculo  \\\n",
       "0         2023.0        46273     110.0          5.0  ...        Berlina   \n",
       "1         2022.0       103209     120.0          5.0  ...       Familiar   \n",
       "2         2020.0       110745     122.0          5.0  ...        Berlina   \n",
       "3         2022.0        63000     114.0          5.0  ...            SUV   \n",
       "4         2022.0        62765     140.0          5.0  ...            SUV   \n",
       "\n",
       "  cilindrada_motor   color    provincia      etiqueta_eco origen_anuncio  \\\n",
       "0            999.0   negro  Ciudad Real  ECO (azul/verde)    WebScraping   \n",
       "1            998.0    None     A Coruña  ECO (azul/verde)    WebScraping   \n",
       "2           1798.0  blanco       Madrid  ECO (azul/verde)    WebScraping   \n",
       "3            999.0    None   Las Palmas              None    WebScraping   \n",
       "4           1332.0   negro       Huelva  ECO (azul/verde)    WebScraping   \n",
       "\n",
       "  fecha_publicacion anyomes_publicacion          fecha_carga  \\\n",
       "0        2025-05-20              202505  2025-06-07 06:51:00   \n",
       "1        2025-06-03              202506  2025-06-03 13:24:18   \n",
       "2        2025-06-03              202506  2025-06-03 13:22:36   \n",
       "3        2025-06-03              202506  2025-06-03 13:21:36   \n",
       "4        2025-06-03              202506  2025-06-03 13:20:26   \n",
       "\n",
       "                                                 url  \n",
       "0  https://www.coches.net/audi-a3-sportback-30-tf...  \n",
       "1  https://www.coches.net/hyundai-i30-10-tgdi-48v...  \n",
       "2  https://www.coches.net/toyota-c-hr-18-125h-act...  \n",
       "3  https://www.coches.net/nissan-juke-digt-84-kw-...  \n",
       "4  https://www.coches.net/nissan-qashqai-digt-103...  \n",
       "\n",
       "[5 rows x 22 columns]"
      ]
     },
     "execution_count": 294,
     "metadata": {},
     "output_type": "execute_result"
    }
   ],
   "source": [
    "df_prueba.insert(4, \"precio_predicho\", y_prueba)\n",
    "df_prueba.to_csv(\"../include/data/processed/df_prueba_pred.csv\")\n",
    "df_prueba"
   ]
  },
  {
   "cell_type": "markdown",
   "metadata": {},
   "source": [
    "Vemos que los precios que predice el modelo se ajustan bastante a los reales."
   ]
  },
  {
   "cell_type": "markdown",
   "metadata": {},
   "source": [
    "## Idea: división en segmentos.\n",
    "\n",
    "1. Segmento medio: hasta 30k eur.\n",
    "2. Segmento premium: desde 30k eur."
   ]
  }
 ],
 "metadata": {
  "kernelspec": {
   "display_name": "base",
   "language": "python",
   "name": "python3"
  },
  "language_info": {
   "codemirror_mode": {
    "name": "ipython",
    "version": 3
   },
   "file_extension": ".py",
   "mimetype": "text/x-python",
   "name": "python",
   "nbconvert_exporter": "python",
   "pygments_lexer": "ipython3",
   "version": "3.11.5"
  }
 },
 "nbformat": 4,
 "nbformat_minor": 2
}

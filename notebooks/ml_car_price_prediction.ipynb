{
 "cells": [
  {
   "cell_type": "markdown",
   "metadata": {},
   "source": [
    "# Proyecto ML: Modelo predictivo de precios de coche."
   ]
  },
  {
   "cell_type": "markdown",
   "metadata": {},
   "source": [
    "## 1. Introducción."
   ]
  },
  {
   "cell_type": "markdown",
   "metadata": {},
   "source": [
    "En este cuaderno buscaremos elaborar un modelo predictivo utilizando Machine Learning para saber una estimación del precio de un determinado vehículo de segunda mano y poder optimizar la compraventa de coches.\n",
    "\n",
    "Por esto, el objetivo es tener una plataforma web donde poder saber el precio de un determinado vehículo de segunda mano, en base al precio de otros coches registrados en nuestra base de datos. Para ello, se utilizan los registros guardados en la tabla TX_VEHICULOS_SEG_MANO de nuestra BBDD de sqlite, con cerca de 35.000 registros de vehículos de 10 marcas diferentes importadas desde un Dataset de Kaggle hecho a partir de WebScraping, a los que hemos añadido X vehículos scrapeados mediante el script guardado en la ruta ```\"dags/webscraping_script.py\"``` de la página de [coches.net](coches.net).\n",
    "\n",
    "Los registros obtenidos mediante ambos orígenes de datos han sido posibles de combinar mediante las transformaciones realizadas en el cuaderno ```\"notebooks/kaggle_dataset_cleaning.ipynb\"```, aunque antes de entrenar el modelo predictivo será necesario realizar algunas transformaciones adicionales, así como seleccionar las features del modelo.\n",
    "\n",
    "En este proyecto, se utilizarán modelos de Machine Learning para calcular el precio de un coche a partir de características como la marca, modelo, tipo de combustible, año, etc. Se trata, por tanto, de un problema de regresión. Se utilizará como métrica de optimización el Mean Squared Error (MSE), aunque también se analizarán otras métricas como el Mean Average Error (MAE)."
   ]
  },
  {
   "cell_type": "markdown",
   "metadata": {},
   "source": [
    "## 2. Obtención y procesado de datos."
   ]
  },
  {
   "cell_type": "markdown",
   "metadata": {},
   "source": [
    "Importamos los datos desde nuestra base de datos:"
   ]
  },
  {
   "cell_type": "code",
   "execution_count": 291,
   "metadata": {},
   "outputs": [],
   "source": [
    "# Importamos las librerías necesarias\n",
    "\n",
    "import pandas as pd\n",
    "import numpy as np\n",
    "import matplotlib.pyplot as plt\n",
    "import seaborn as sns\n",
    "import pickle\n",
    "\n",
    "\n",
    "sns.set_style(\"darkgrid\")\n",
    "\n",
    "\n",
    "colors = [\"#d5001c\", \"#f59908\", \"#ffcb01\", \"#969696\"]"
   ]
  },
  {
   "cell_type": "code",
   "execution_count": 292,
   "metadata": {},
   "outputs": [
    {
     "data": {
      "text/html": [
       "<div>\n",
       "<style scoped>\n",
       "    .dataframe tbody tr th:only-of-type {\n",
       "        vertical-align: middle;\n",
       "    }\n",
       "\n",
       "    .dataframe tbody tr th {\n",
       "        vertical-align: top;\n",
       "    }\n",
       "\n",
       "    .dataframe thead th {\n",
       "        text-align: right;\n",
       "    }\n",
       "</style>\n",
       "<table border=\"1\" class=\"dataframe\">\n",
       "  <thead>\n",
       "    <tr style=\"text-align: right;\">\n",
       "      <th></th>\n",
       "      <th>pk_anuncio_id</th>\n",
       "      <th>marca</th>\n",
       "      <th>modelo</th>\n",
       "      <th>precio</th>\n",
       "      <th>combustible</th>\n",
       "      <th>anyo_vehiculo</th>\n",
       "      <th>kilometraje</th>\n",
       "      <th>potencia</th>\n",
       "      <th>num_puertas</th>\n",
       "      <th>num_plazas</th>\n",
       "      <th>...</th>\n",
       "      <th>tipo_vehiculo</th>\n",
       "      <th>cilindrada_motor</th>\n",
       "      <th>color</th>\n",
       "      <th>provincia</th>\n",
       "      <th>etiqueta_eco</th>\n",
       "      <th>origen_anuncio</th>\n",
       "      <th>fecha_publicacion</th>\n",
       "      <th>anyomes_publicacion</th>\n",
       "      <th>fecha_carga</th>\n",
       "      <th>url</th>\n",
       "    </tr>\n",
       "  </thead>\n",
       "  <tbody>\n",
       "    <tr>\n",
       "      <th>0</th>\n",
       "      <td>60545114</td>\n",
       "      <td>CITROEN</td>\n",
       "      <td>c4 picasso</td>\n",
       "      <td>7999.0</td>\n",
       "      <td>Diésel</td>\n",
       "      <td>2014.0</td>\n",
       "      <td>195000</td>\n",
       "      <td>115.0</td>\n",
       "      <td>5.0</td>\n",
       "      <td>5.0</td>\n",
       "      <td>...</td>\n",
       "      <td>Monovolumen</td>\n",
       "      <td>1560.0</td>\n",
       "      <td>negro</td>\n",
       "      <td>Barcelona</td>\n",
       "      <td>B (amarilla)</td>\n",
       "      <td>WebScraping</td>\n",
       "      <td>2025-05-27</td>\n",
       "      <td>202505</td>\n",
       "      <td>2025-05-27 10:50:08</td>\n",
       "      <td>https://www.coches.net/citroen-c4-picasso-16-e...</td>\n",
       "    </tr>\n",
       "    <tr>\n",
       "      <th>1</th>\n",
       "      <td>60657064</td>\n",
       "      <td>OPEL</td>\n",
       "      <td>corsa</td>\n",
       "      <td>11985.0</td>\n",
       "      <td>Gasolina</td>\n",
       "      <td>2020.0</td>\n",
       "      <td>32325</td>\n",
       "      <td>100.0</td>\n",
       "      <td>5.0</td>\n",
       "      <td>5.0</td>\n",
       "      <td>...</td>\n",
       "      <td>Berlina</td>\n",
       "      <td>1364.0</td>\n",
       "      <td>blanco</td>\n",
       "      <td>Sta. C. Tenerife</td>\n",
       "      <td>C (verde)</td>\n",
       "      <td>WebScraping</td>\n",
       "      <td>2025-05-27</td>\n",
       "      <td>202505</td>\n",
       "      <td>2025-05-27 10:49:44</td>\n",
       "      <td>https://www.coches.net/opel-corsa-14-turbo-74k...</td>\n",
       "    </tr>\n",
       "    <tr>\n",
       "      <th>2</th>\n",
       "      <td>60656553</td>\n",
       "      <td>OPEL</td>\n",
       "      <td>corsa</td>\n",
       "      <td>14990.0</td>\n",
       "      <td>Gasolina</td>\n",
       "      <td>2022.0</td>\n",
       "      <td>63540</td>\n",
       "      <td>130.0</td>\n",
       "      <td>5.0</td>\n",
       "      <td>5.0</td>\n",
       "      <td>...</td>\n",
       "      <td>Berlina</td>\n",
       "      <td>1199.0</td>\n",
       "      <td>azul</td>\n",
       "      <td>Valencia</td>\n",
       "      <td>None</td>\n",
       "      <td>WebScraping</td>\n",
       "      <td>2025-05-27</td>\n",
       "      <td>202505</td>\n",
       "      <td>2025-05-27 10:48:33</td>\n",
       "      <td>https://www.coches.net/opel-corsa-12t-xht-96kw...</td>\n",
       "    </tr>\n",
       "    <tr>\n",
       "      <th>3</th>\n",
       "      <td>60659620</td>\n",
       "      <td>CITROEN</td>\n",
       "      <td>berlingo</td>\n",
       "      <td>9990.0</td>\n",
       "      <td>Gasolina</td>\n",
       "      <td>2018.0</td>\n",
       "      <td>110000</td>\n",
       "      <td>110.0</td>\n",
       "      <td>5.0</td>\n",
       "      <td>5.0</td>\n",
       "      <td>...</td>\n",
       "      <td>Monovolumen</td>\n",
       "      <td>1199.0</td>\n",
       "      <td>gris</td>\n",
       "      <td>Sta. C. Tenerife</td>\n",
       "      <td>None</td>\n",
       "      <td>WebScraping</td>\n",
       "      <td>2025-05-27</td>\n",
       "      <td>202505</td>\n",
       "      <td>2025-05-27 10:47:11</td>\n",
       "      <td>https://www.coches.net/citroen-berlingo-talla-...</td>\n",
       "    </tr>\n",
       "    <tr>\n",
       "      <th>4</th>\n",
       "      <td>60659465</td>\n",
       "      <td>AUDI</td>\n",
       "      <td>a3</td>\n",
       "      <td>29150.0</td>\n",
       "      <td>Híbrido</td>\n",
       "      <td>2020.0</td>\n",
       "      <td>82351</td>\n",
       "      <td>150.0</td>\n",
       "      <td>5.0</td>\n",
       "      <td>5.0</td>\n",
       "      <td>...</td>\n",
       "      <td>Berlina</td>\n",
       "      <td>1498.0</td>\n",
       "      <td>azul</td>\n",
       "      <td>Madrid</td>\n",
       "      <td>ECO (azul/verde)</td>\n",
       "      <td>WebScraping</td>\n",
       "      <td>2025-05-27</td>\n",
       "      <td>202505</td>\n",
       "      <td>2025-05-27 10:37:06</td>\n",
       "      <td>https://www.coches.net/audi-a3-sportback-genui...</td>\n",
       "    </tr>\n",
       "  </tbody>\n",
       "</table>\n",
       "<p>5 rows × 21 columns</p>\n",
       "</div>"
      ],
      "text/plain": [
       "   pk_anuncio_id    marca      modelo   precio combustible  anyo_vehiculo  \\\n",
       "0       60545114  CITROEN  c4 picasso   7999.0      Diésel         2014.0   \n",
       "1       60657064     OPEL       corsa  11985.0    Gasolina         2020.0   \n",
       "2       60656553     OPEL       corsa  14990.0    Gasolina         2022.0   \n",
       "3       60659620  CITROEN    berlingo   9990.0    Gasolina         2018.0   \n",
       "4       60659465     AUDI          a3  29150.0     Híbrido         2020.0   \n",
       "\n",
       "   kilometraje  potencia  num_puertas  num_plazas  ... tipo_vehiculo  \\\n",
       "0       195000     115.0          5.0         5.0  ...   Monovolumen   \n",
       "1        32325     100.0          5.0         5.0  ...       Berlina   \n",
       "2        63540     130.0          5.0         5.0  ...       Berlina   \n",
       "3       110000     110.0          5.0         5.0  ...   Monovolumen   \n",
       "4        82351     150.0          5.0         5.0  ...       Berlina   \n",
       "\n",
       "  cilindrada_motor   color         provincia      etiqueta_eco origen_anuncio  \\\n",
       "0           1560.0   negro         Barcelona      B (amarilla)    WebScraping   \n",
       "1           1364.0  blanco  Sta. C. Tenerife         C (verde)    WebScraping   \n",
       "2           1199.0    azul          Valencia              None    WebScraping   \n",
       "3           1199.0    gris  Sta. C. Tenerife              None    WebScraping   \n",
       "4           1498.0    azul            Madrid  ECO (azul/verde)    WebScraping   \n",
       "\n",
       "  fecha_publicacion anyomes_publicacion          fecha_carga  \\\n",
       "0        2025-05-27              202505  2025-05-27 10:50:08   \n",
       "1        2025-05-27              202505  2025-05-27 10:49:44   \n",
       "2        2025-05-27              202505  2025-05-27 10:48:33   \n",
       "3        2025-05-27              202505  2025-05-27 10:47:11   \n",
       "4        2025-05-27              202505  2025-05-27 10:37:06   \n",
       "\n",
       "                                                 url  \n",
       "0  https://www.coches.net/citroen-c4-picasso-16-e...  \n",
       "1  https://www.coches.net/opel-corsa-14-turbo-74k...  \n",
       "2  https://www.coches.net/opel-corsa-12t-xht-96kw...  \n",
       "3  https://www.coches.net/citroen-berlingo-talla-...  \n",
       "4  https://www.coches.net/audi-a3-sportback-genui...  \n",
       "\n",
       "[5 rows x 21 columns]"
      ]
     },
     "execution_count": 292,
     "metadata": {},
     "output_type": "execute_result"
    }
   ],
   "source": [
    "import sqlite3\n",
    "import pandas as pd\n",
    "\n",
    "con = sqlite3.connect(\"../include/db_vehiculos.db\")\n",
    "\n",
    "query = \"\"\"\n",
    "SELECT *\n",
    "FROM TX_VEHICULOS_SEG_MANO\n",
    "where\n",
    "    --origen_anuncio = 'WebScraping'\n",
    "    --origen_anuncio = 'dataset kaggle'\n",
    "    --and marca not in ('BMW', 'VOLKSWAGEN', 'MERCEDES-BENZ', 'AUDI', 'PEUGEOT', 'FORD', 'RENAULT', 'OPEL', 'CITROEN', 'SEAT')\n",
    "    marca in ('BMW', 'VOLKSWAGEN', 'MERCEDES-BENZ', 'AUDI', 'PEUGEOT', 'FORD', 'RENAULT', 'OPEL', 'CITROEN', 'SEAT')\n",
    "order by\n",
    "    fecha_carga desc\n",
    ";\n",
    "\"\"\"\n",
    "\n",
    "df = pd.read_sql_query(query, con)\n",
    "\n",
    "df.head()"
   ]
  },
  {
   "cell_type": "markdown",
   "metadata": {},
   "source": [
    "Podemos ver el número de registros para cada origen de datos:"
   ]
  },
  {
   "cell_type": "code",
   "execution_count": 293,
   "metadata": {},
   "outputs": [
    {
     "data": {
      "text/plain": [
       "origen_anuncio\n",
       "dataset kaggle    35041\n",
       "WebScraping        5002\n",
       "Name: count, dtype: int64"
      ]
     },
     "execution_count": 293,
     "metadata": {},
     "output_type": "execute_result"
    }
   ],
   "source": [
    "df['origen_anuncio'].value_counts()"
   ]
  },
  {
   "cell_type": "markdown",
   "metadata": {},
   "source": [
    "Vemos que la gran mayoría de registros provienen del dataset de kaggle.\n",
    "\n",
    "Vamos a ver qué columnas contiene el DataFrame:"
   ]
  },
  {
   "cell_type": "code",
   "execution_count": 294,
   "metadata": {},
   "outputs": [
    {
     "name": "stdout",
     "output_type": "stream",
     "text": [
      "<class 'pandas.core.frame.DataFrame'>\n",
      "RangeIndex: 40043 entries, 0 to 40042\n",
      "Data columns (total 21 columns):\n",
      " #   Column               Non-Null Count  Dtype  \n",
      "---  ------               --------------  -----  \n",
      " 0   pk_anuncio_id        40043 non-null  int64  \n",
      " 1   marca                40043 non-null  object \n",
      " 2   modelo               40043 non-null  object \n",
      " 3   precio               40043 non-null  float64\n",
      " 4   combustible          39843 non-null  object \n",
      " 5   anyo_vehiculo        40042 non-null  float64\n",
      " 6   kilometraje          40043 non-null  int64  \n",
      " 7   potencia             33150 non-null  float64\n",
      " 8   num_puertas          39931 non-null  float64\n",
      " 9   num_plazas           4886 non-null   float64\n",
      " 10  tipo_cambio          39963 non-null  object \n",
      " 11  tipo_vehiculo        5002 non-null   object \n",
      " 12  cilindrada_motor     4864 non-null   float64\n",
      " 13  color                39424 non-null  object \n",
      " 14  provincia            40039 non-null  object \n",
      " 15  etiqueta_eco         3306 non-null   object \n",
      " 16  origen_anuncio       40043 non-null  object \n",
      " 17  fecha_publicacion    40043 non-null  object \n",
      " 18  anyomes_publicacion  40043 non-null  int64  \n",
      " 19  fecha_carga          40043 non-null  object \n",
      " 20  url                  40043 non-null  object \n",
      "dtypes: float64(6), int64(3), object(12)\n",
      "memory usage: 6.4+ MB\n"
     ]
    }
   ],
   "source": [
    "df.info()"
   ]
  },
  {
   "cell_type": "markdown",
   "metadata": {},
   "source": [
    "Vemos que el DataFrame se compone de 21 columnas, de las cuales, muchas de ellas son de tipo string. Además, contienen valores nulos, por lo que, a continuación, haremos un procesado de estas columnas.\n",
    "\n",
    "La columna target u objetivo a predecir es la columna llamada ```\"precio\"```."
   ]
  },
  {
   "cell_type": "markdown",
   "metadata": {},
   "source": [
    "Lo primero que haremos es eliminar las columnas ```['num_plazas', 'tipo_vehiculo', 'cilindrada_motor', 'etiqueta_eco']```, ya que solo tienen valores no nulos para los registros obtenidos mediante WebScraping."
   ]
  },
  {
   "cell_type": "code",
   "execution_count": 295,
   "metadata": {},
   "outputs": [
    {
     "name": "stdout",
     "output_type": "stream",
     "text": [
      "<class 'pandas.core.frame.DataFrame'>\n",
      "RangeIndex: 40043 entries, 0 to 40042\n",
      "Data columns (total 17 columns):\n",
      " #   Column               Non-Null Count  Dtype  \n",
      "---  ------               --------------  -----  \n",
      " 0   pk_anuncio_id        40043 non-null  int64  \n",
      " 1   marca                40043 non-null  object \n",
      " 2   modelo               40043 non-null  object \n",
      " 3   precio               40043 non-null  float64\n",
      " 4   combustible          39843 non-null  object \n",
      " 5   anyo_vehiculo        40042 non-null  float64\n",
      " 6   kilometraje          40043 non-null  int64  \n",
      " 7   potencia             33150 non-null  float64\n",
      " 8   num_puertas          39931 non-null  float64\n",
      " 9   tipo_cambio          39963 non-null  object \n",
      " 10  color                39424 non-null  object \n",
      " 11  provincia            40039 non-null  object \n",
      " 12  origen_anuncio       40043 non-null  object \n",
      " 13  fecha_publicacion    40043 non-null  object \n",
      " 14  anyomes_publicacion  40043 non-null  int64  \n",
      " 15  fecha_carga          40043 non-null  object \n",
      " 16  url                  40043 non-null  object \n",
      "dtypes: float64(4), int64(3), object(10)\n",
      "memory usage: 5.2+ MB\n"
     ]
    }
   ],
   "source": [
    "df = df.drop(columns=['num_plazas', 'tipo_vehiculo', 'cilindrada_motor', 'etiqueta_eco'])\n",
    "df.info()"
   ]
  },
  {
   "cell_type": "markdown",
   "metadata": {},
   "source": [
    "Vamos a eliminar también las columnas: ```['pk_anuncio_id', 'provincia', 'fecha_publicacion', 'anyomes_publicacion','fecha_carga', 'url']```, ya que tampoco aportan información para el modelo.\n",
    "\n",
    "De momento dejamos la columna ```'origen_anuncio'``` por si hay que distinguir en alguna transformación entre los datos de ambos orígenes."
   ]
  },
  {
   "cell_type": "code",
   "execution_count": 296,
   "metadata": {},
   "outputs": [
    {
     "name": "stdout",
     "output_type": "stream",
     "text": [
      "<class 'pandas.core.frame.DataFrame'>\n",
      "RangeIndex: 40043 entries, 0 to 40042\n",
      "Data columns (total 11 columns):\n",
      " #   Column          Non-Null Count  Dtype  \n",
      "---  ------          --------------  -----  \n",
      " 0   marca           40043 non-null  object \n",
      " 1   modelo          40043 non-null  object \n",
      " 2   precio          40043 non-null  float64\n",
      " 3   combustible     39843 non-null  object \n",
      " 4   anyo_vehiculo   40042 non-null  float64\n",
      " 5   kilometraje     40043 non-null  int64  \n",
      " 6   potencia        33150 non-null  float64\n",
      " 7   num_puertas     39931 non-null  float64\n",
      " 8   tipo_cambio     39963 non-null  object \n",
      " 9   color           39424 non-null  object \n",
      " 10  origen_anuncio  40043 non-null  object \n",
      "dtypes: float64(4), int64(1), object(6)\n",
      "memory usage: 3.4+ MB\n"
     ]
    }
   ],
   "source": [
    "df = df.drop(columns=['pk_anuncio_id', 'provincia', 'fecha_publicacion', 'anyomes_publicacion','fecha_carga', 'url'])\n",
    "\n",
    "df.info()"
   ]
  },
  {
   "cell_type": "markdown",
   "metadata": {},
   "source": [
    "### Variable objetivo: precio."
   ]
  },
  {
   "cell_type": "markdown",
   "metadata": {},
   "source": [
    "Vamos a ver la distibución de datos de la columna target (```\"precio\"```):"
   ]
  },
  {
   "cell_type": "code",
   "execution_count": 297,
   "metadata": {},
   "outputs": [
    {
     "name": "stderr",
     "output_type": "stream",
     "text": [
      "c:\\Users\\alberto.pintos\\AppData\\Local\\anaconda3\\Lib\\site-packages\\seaborn\\_oldcore.py:1119: FutureWarning: use_inf_as_na option is deprecated and will be removed in a future version. Convert inf values to NaN before operating instead.\n",
      "  with pd.option_context('mode.use_inf_as_na', True):\n",
      "c:\\Users\\alberto.pintos\\AppData\\Local\\anaconda3\\Lib\\site-packages\\seaborn\\axisgrid.py:118: UserWarning: The figure layout has changed to tight\n",
      "  self._figure.tight_layout(*args, **kwargs)\n"
     ]
    },
    {
     "data": {
      "text/plain": [
       "<Figure size 800x600 with 0 Axes>"
      ]
     },
     "metadata": {},
     "output_type": "display_data"
    },
    {
     "data": {
      "image/png": "[encoded data removed]",
      "text/plain": [
       "<Figure size 500x500 with 1 Axes>"
      ]
     },
     "metadata": {},
     "output_type": "display_data"
    }
   ],
   "source": [
    "plt.figure(figsize=(8, 6))\n",
    "\n",
    "sns.displot(df[\"precio\"], color=colors[0])\n",
    "\n",
    "plt.title(\"Cantidad de coches por precio\", fontsize=16)\n",
    "\n",
    "plt.xlabel(\"Precio (euros)\", fontsize=14)\n",
    "plt.ylabel(\"Cantidad de coches\", fontsize=14)\n",
    "\n",
    "plt.show()"
   ]
  },
  {
   "cell_type": "markdown",
   "metadata": {},
   "source": [
    "Vemos que existen muchos coches con un precio más bajo, y que, para precios más elevados, se reduce el número. Para corregir esto, y aumentar la eficacia del modelo predictivo, vamos a tomar dos medidas:\n",
    "\n",
    "1. Realizar un boxplot para detectar outliers y poder eliminar estos registros.\n",
    "\n",
    "2. Aplicar una transformación logarítmica a la columna ```\"precio\"```, de modo que los datos tiendan a una distribución normal. Al final, cuando ya esté hecho el modelo, habrá que deshacer esta transformación para obtener el precio real del vehículo a predecir."
   ]
  },
  {
   "cell_type": "markdown",
   "metadata": {},
   "source": [
    "Comenzamos realizando el Boxplot:"
   ]
  },
  {
   "cell_type": "code",
   "execution_count": 298,
   "metadata": {},
   "outputs": [
    {
     "data": {
      "image/png": "[encoded data removed]",
      "text/plain": [
       "<Figure size 800x600 with 1 Axes>"
      ]
     },
     "metadata": {},
     "output_type": "display_data"
    }
   ],
   "source": [
    "import matplotlib.pyplot as plt\n",
    "import seaborn as sns\n",
    "\n",
    "plt.figure(figsize=(8, 6))\n",
    "\n",
    "# Boxplot de la variable \"precio\"\n",
    "sns.boxplot(x=df[\"precio\"], color=colors[0])\n",
    "\n",
    "# Títulos y etiquetas\n",
    "plt.title(\"Boxplot del precio de coches\", fontsize=16)\n",
    "plt.xlabel(\"Precio (euros)\", fontsize=14)\n",
    "\n",
    "plt.show()\n"
   ]
  },
  {
   "cell_type": "markdown",
   "metadata": {},
   "source": [
    "Vemos que la distribución del boxplot muestra que el 75 % de los registros se concentran por debajo de los 20.000 euros aproximadamente.\n",
    "\n",
    "Vamos a ver las principales medidas estadísticas de la variable ```\"precio\"```:"
   ]
  },
  {
   "cell_type": "code",
   "execution_count": 299,
   "metadata": {},
   "outputs": [
    {
     "data": {
      "text/plain": [
       "count     40043.000000\n",
       "mean      14331.830382\n",
       "std       13386.183157\n",
       "min         300.000000\n",
       "25%        5500.000000\n",
       "50%       11900.000000\n",
       "75%       18900.000000\n",
       "max      375000.000000\n",
       "Name: precio, dtype: float64"
      ]
     },
     "execution_count": 299,
     "metadata": {},
     "output_type": "execute_result"
    }
   ],
   "source": [
    "df[\"precio\"].describe()"
   ]
  },
  {
   "cell_type": "code",
   "execution_count": 300,
   "metadata": {},
   "outputs": [],
   "source": [
    "# df = df.loc[df.loc[:, \"precio\"] < 101000, :]"
   ]
  },
  {
   "cell_type": "markdown",
   "metadata": {},
   "source": [
    "Observamos que la variable tiene una media de 14.266 euros y una desviación estándar (sigma) de 13.697 euros. Sin embargo, el valor máximo es de 375.000 euros.\n",
    "\n",
    "Ante esto, vamos a proponer dos opciones para eliminar outliers que puedan influir negativamente en el modelo o para los cuáles funcione muy mal.\n",
    "\n",
    "1. Coger los valores dentro de los siguientes límites a partir del Rango intercuartílico (IQR), que marcarían los outliers tradicionales:\n",
    "\n",
    "    - limite_inferior = Q1 - 1.5 * IQR\n",
    "    - limite_superior = Q3 + 1.5 * IQR\n",
    "\n",
    "Probamos esta opción:\n"
   ]
  },
  {
   "cell_type": "markdown",
   "metadata": {},
   "source": [
    "Opción con cuartiles:"
   ]
  },
  {
   "cell_type": "code",
   "execution_count": 301,
   "metadata": {},
   "outputs": [
    {
     "name": "stdout",
     "output_type": "stream",
     "text": [
      "Límite de precio inferior: -14600.0\n",
      "Límite de precio superior: 39000.0\n",
      "Número de coches antes de eliminar outliers: 40043\n",
      "Número de coches después de eliminar outliers: 38497\n"
     ]
    }
   ],
   "source": [
    "# Calculamos Q1, Q3 e IQR\n",
    "Q1 = df[\"precio\"].quantile(0.25)\n",
    "Q3 = df[\"precio\"].quantile(0.75)\n",
    "IQR = Q3 - Q1\n",
    "\n",
    "# Límites inferior y superior para considerar outliers\n",
    "limite_inferior = Q1 - 1.5 * IQR\n",
    "limite_superior = Q3 + 1.5 * IQR\n",
    "\n",
    "print(f\"Límite de precio inferior: {limite_inferior}\")\n",
    "print(f\"Límite de precio superior: {limite_superior}\")\n",
    "\n",
    "df_iqr = df[(df[\"precio\"] >= limite_inferior) & (df[\"precio\"] <= limite_superior)]\n",
    "\n",
    "print(f\"Número de coches antes de eliminar outliers: {len(df)}\")\n",
    "print(f\"Número de coches después de eliminar outliers: {len(df_iqr)}\")\n"
   ]
  },
  {
   "cell_type": "markdown",
   "metadata": {},
   "source": [
    "Si utilizamos esta opción seguro que el modelo funciona muy bien pero solo predeciríamos vehículos con precios hasta 39.975 euros, lo que dejaría fuera muchos modelos.\n",
    "\n",
    "Por ello, vamos a descartar esta opción."
   ]
  },
  {
   "cell_type": "markdown",
   "metadata": {},
   "source": [
    "Probaremos una segunda opción que consiste en aplicar una transformación logarítmica a la columna ```\"precio\"```, de modo que los datos tiendan a una distribución normal. Después, nos quedaremos con los vehículos en un rango de valores del precio transformado de 2 desviaciones estandar a partir de la media, que coresponderá a un porcentaje muy elevado de los datos.\n",
    "\n",
    "Al final, cuando ya esté hecho el modelo, habrá que deshacer esta transformación para obtener el precio real del vehículo a predecir."
   ]
  },
  {
   "cell_type": "markdown",
   "metadata": {},
   "source": [
    "Aplicamos la transformación logarítmica:"
   ]
  },
  {
   "cell_type": "code",
   "execution_count": 302,
   "metadata": {},
   "outputs": [],
   "source": [
    "import numpy as np\n",
    "\n",
    "# Transformación logarítmica del precio:\n",
    "df[\"precio\"] = np.log(df[\"precio\"])"
   ]
  },
  {
   "cell_type": "code",
   "execution_count": 303,
   "metadata": {},
   "outputs": [
    {
     "name": "stderr",
     "output_type": "stream",
     "text": [
      "c:\\Users\\alberto.pintos\\AppData\\Local\\anaconda3\\Lib\\site-packages\\seaborn\\_oldcore.py:1119: FutureWarning: use_inf_as_na option is deprecated and will be removed in a future version. Convert inf values to NaN before operating instead.\n",
      "  with pd.option_context('mode.use_inf_as_na', True):\n",
      "c:\\Users\\alberto.pintos\\AppData\\Local\\anaconda3\\Lib\\site-packages\\seaborn\\axisgrid.py:118: UserWarning: The figure layout has changed to tight\n",
      "  self._figure.tight_layout(*args, **kwargs)\n"
     ]
    },
    {
     "data": {
      "text/plain": [
       "<Figure size 800x600 with 0 Axes>"
      ]
     },
     "metadata": {},
     "output_type": "display_data"
    },
    {
     "data": {
      "image/png": "[encoded data removed]",
      "text/plain": [
       "<Figure size 500x500 with 1 Axes>"
      ]
     },
     "metadata": {},
     "output_type": "display_data"
    }
   ],
   "source": [
    "plt.figure(figsize=(8, 6))\n",
    "\n",
    "sns.displot(df[\"precio\"], color=colors[0])\n",
    "\n",
    "plt.title(\"Cantidad de coches por precio después de transformar\", fontsize=16)\n",
    "\n",
    "plt.xlabel(\"Precio transformado\", fontsize=14)\n",
    "plt.ylabel(\"Cantidad de coches\", fontsize=14)\n",
    "\n",
    "plt.yticks(range(0, 1500, 250))\n",
    "\n",
    "plt.show()"
   ]
  },
  {
   "cell_type": "markdown",
   "metadata": {},
   "source": [
    "Test de normalidad de Shapiro-Wilk:"
   ]
  },
  {
   "cell_type": "code",
   "execution_count": 304,
   "metadata": {},
   "outputs": [
    {
     "name": "stdout",
     "output_type": "stream",
     "text": [
      "Estadístico W: 0.9626\n",
      "Valor p: 0.00000000000000000000000000000000042\n",
      "Se rechaza H₀: los datos no siguen una distribución normal.\n"
     ]
    }
   ],
   "source": [
    "from scipy.stats import shapiro\n",
    "\n",
    "# Aplicar el test de Shapiro-Wilk a una muestra (máx. 5000 datos recomendado)\n",
    "sample = df[\"precio\"].sample(n=5000, random_state=42)\n",
    "\n",
    "stat, p_value = shapiro(sample)\n",
    "\n",
    "print(f\"Estadístico W: {stat:.4f}\")\n",
    "print(f\"Valor p: {p_value:.35f}\")\n",
    "\n",
    "if p_value > 0.05:\n",
    "    print(\"No se rechaza H₀: los datos podrían ser normales.\")\n",
    "else:\n",
    "    print(\"Se rechaza H₀: los datos no siguen una distribución normal.\")\n"
   ]
  },
  {
   "cell_type": "markdown",
   "metadata": {},
   "source": [
    "Nos quedamos con los valores dentro del límite superior de 2 sigmas:"
   ]
  },
  {
   "cell_type": "code",
   "execution_count": 305,
   "metadata": {},
   "outputs": [
    {
     "name": "stdout",
     "output_type": "stream",
     "text": [
      "Límite superior en escala log: 11.1244\n",
      "Corresponde a un precio real de: 67,806.08 €\n",
      "Número de coches antes de eliminar outliers: 40043\n",
      "Número de coches después de eliminar outliers: 39736\n"
     ]
    }
   ],
   "source": [
    "mean_log = df[\"precio\"].mean()\n",
    "std_log = df[\"precio\"].std()\n",
    "\n",
    "# Límite superior a 2 sigmas en escala logarítmica:\n",
    "upper_log_limit = mean_log + 2 * std_log\n",
    "\n",
    "# Filtramos solo los valores dentro de las 2 sigmas:\n",
    "df_filtrado = df[df[\"precio\"] <= upper_log_limit]\n",
    "\n",
    "# (Opcional) Si necesitamos volver a la escala original:\n",
    "max_precio_filtrado = np.exp(upper_log_limit)\n",
    "\n",
    "print(f\"Límite superior en escala log: {upper_log_limit:.4f}\")\n",
    "print(f\"Corresponde a un precio real de: {max_precio_filtrado:,.2f} €\")\n",
    "\n",
    "print(f\"Número de coches antes de eliminar outliers: {len(df)}\")\n",
    "print(f\"Número de coches después de eliminar outliers: {len(df_filtrado)}\")\n"
   ]
  },
  {
   "cell_type": "code",
   "execution_count": 306,
   "metadata": {},
   "outputs": [
    {
     "data": {
      "text/plain": [
       "count    40043.000000\n",
       "mean         9.180664\n",
       "std          0.971872\n",
       "min          5.703782\n",
       "25%          8.612503\n",
       "50%          9.384294\n",
       "75%          9.846917\n",
       "max         12.834681\n",
       "Name: precio, dtype: float64"
      ]
     },
     "execution_count": 306,
     "metadata": {},
     "output_type": "execute_result"
    }
   ],
   "source": [
    "# Estadísticos de la variable precio transfromada:\n",
    "\n",
    "df[\"precio\"].describe()"
   ]
  },
  {
   "cell_type": "markdown",
   "metadata": {},
   "source": [
    "Vemos que se eliminan 269 registros. Vamos a aplicar la transformación al df original y a ver los valores estadísticos transformados de nuevo, para ver que se ha realizado correctamente:"
   ]
  },
  {
   "cell_type": "code",
   "execution_count": 307,
   "metadata": {},
   "outputs": [
    {
     "data": {
      "text/plain": [
       "count    39736.000000\n",
       "mean         9.163411\n",
       "std          0.955134\n",
       "min          5.703782\n",
       "25%          8.612503\n",
       "50%          9.380421\n",
       "75%          9.836946\n",
       "max         11.119883\n",
       "Name: precio, dtype: float64"
      ]
     },
     "execution_count": 307,
     "metadata": {},
     "output_type": "execute_result"
    }
   ],
   "source": [
    "# Aplicamos el filtro de las 2 sigmas al df original:\n",
    "df = df[df[\"precio\"] <= upper_log_limit]\n",
    "\n",
    "# Nuevos estadísticos tras el filtro:\n",
    "df[\"precio\"].describe()"
   ]
  },
  {
   "cell_type": "markdown",
   "metadata": {},
   "source": [
    "Estos son los estadísticos que contiene la columna ```df[\"precio\"]```, que ahora están en escala logarítmica, vamos a verlos en escala normal deshaciendo la transformación:"
   ]
  },
  {
   "cell_type": "code",
   "execution_count": 308,
   "metadata": {},
   "outputs": [
    {
     "name": "stdout",
     "output_type": "stream",
     "text": [
      "count    39736.000000\n",
      "mean     13701.004782\n",
      "std      10720.172920\n",
      "min        300.000000\n",
      "25%       5500.000000\n",
      "50%      11854.000000\n",
      "75%      18712.500000\n",
      "max      67500.000000\n",
      "Name: precio, dtype: float64\n"
     ]
    }
   ],
   "source": [
    "import numpy as np\n",
    "\n",
    "# Mostramos el resumen estadístico con la transformación inversa (precio real)\n",
    "print(np.exp(df[\"precio\"]).describe())"
   ]
  },
  {
   "cell_type": "code",
   "execution_count": 309,
   "metadata": {},
   "outputs": [
    {
     "data": {
      "image/png": "[encoded data removed]",
      "text/plain": [
       "<Figure size 800x600 with 1 Axes>"
      ]
     },
     "metadata": {},
     "output_type": "display_data"
    }
   ],
   "source": [
    "plt.figure(figsize=(8, 6))\n",
    "\n",
    "# Boxplot con la transformación inversa de log(precio)\n",
    "sns.boxplot(x=np.exp(df[\"precio\"]), color=colors[0])\n",
    "\n",
    "plt.title(\"Boxplot del Precio Real de los Coches (tras filtrado)\", fontsize=16)\n",
    "plt.xlabel(\"Precio (euros)\", fontsize=14)\n",
    "\n",
    "plt.show()\n"
   ]
  },
  {
   "cell_type": "markdown",
   "metadata": {},
   "source": [
    "Vemos que sólo hemos perdido 269 vehículos pero ahora el precio máximo es de 69.395 euros, lo que comprende más vehículos y elimina outliers que el modelo podría predecir mal."
   ]
  },
  {
   "cell_type": "code",
   "execution_count": 260,
   "metadata": {},
   "outputs": [
    {
     "data": {
      "text/html": [
       "<div>\n",
       "<style scoped>\n",
       "    .dataframe tbody tr th:only-of-type {\n",
       "        vertical-align: middle;\n",
       "    }\n",
       "\n",
       "    .dataframe tbody tr th {\n",
       "        vertical-align: top;\n",
       "    }\n",
       "\n",
       "    .dataframe thead th {\n",
       "        text-align: right;\n",
       "    }\n",
       "</style>\n",
       "<table border=\"1\" class=\"dataframe\">\n",
       "  <thead>\n",
       "    <tr style=\"text-align: right;\">\n",
       "      <th></th>\n",
       "      <th>marca</th>\n",
       "      <th>modelo</th>\n",
       "      <th>precio</th>\n",
       "      <th>combustible</th>\n",
       "      <th>anyo_vehiculo</th>\n",
       "      <th>kilometraje</th>\n",
       "      <th>potencia</th>\n",
       "      <th>num_puertas</th>\n",
       "      <th>tipo_cambio</th>\n",
       "      <th>color</th>\n",
       "      <th>origen_anuncio</th>\n",
       "    </tr>\n",
       "  </thead>\n",
       "  <tbody>\n",
       "    <tr>\n",
       "      <th>0</th>\n",
       "      <td>CITROEN</td>\n",
       "      <td>c4 picasso</td>\n",
       "      <td>8.987072</td>\n",
       "      <td>Diésel</td>\n",
       "      <td>2014.0</td>\n",
       "      <td>195000</td>\n",
       "      <td>115.0</td>\n",
       "      <td>5.0</td>\n",
       "      <td>Manual</td>\n",
       "      <td>negro</td>\n",
       "      <td>WebScraping</td>\n",
       "    </tr>\n",
       "    <tr>\n",
       "      <th>1</th>\n",
       "      <td>OPEL</td>\n",
       "      <td>corsa</td>\n",
       "      <td>9.391411</td>\n",
       "      <td>Gasolina</td>\n",
       "      <td>2020.0</td>\n",
       "      <td>32325</td>\n",
       "      <td>100.0</td>\n",
       "      <td>5.0</td>\n",
       "      <td>Manual</td>\n",
       "      <td>blanco</td>\n",
       "      <td>WebScraping</td>\n",
       "    </tr>\n",
       "    <tr>\n",
       "      <th>2</th>\n",
       "      <td>OPEL</td>\n",
       "      <td>corsa</td>\n",
       "      <td>9.615139</td>\n",
       "      <td>Gasolina</td>\n",
       "      <td>2022.0</td>\n",
       "      <td>63540</td>\n",
       "      <td>130.0</td>\n",
       "      <td>5.0</td>\n",
       "      <td>Automático</td>\n",
       "      <td>azul</td>\n",
       "      <td>WebScraping</td>\n",
       "    </tr>\n",
       "    <tr>\n",
       "      <th>3</th>\n",
       "      <td>CITROEN</td>\n",
       "      <td>berlingo</td>\n",
       "      <td>9.209340</td>\n",
       "      <td>Gasolina</td>\n",
       "      <td>2018.0</td>\n",
       "      <td>110000</td>\n",
       "      <td>110.0</td>\n",
       "      <td>5.0</td>\n",
       "      <td>Manual</td>\n",
       "      <td>gris</td>\n",
       "      <td>WebScraping</td>\n",
       "    </tr>\n",
       "    <tr>\n",
       "      <th>4</th>\n",
       "      <td>AUDI</td>\n",
       "      <td>a3</td>\n",
       "      <td>10.280210</td>\n",
       "      <td>Híbrido</td>\n",
       "      <td>2020.0</td>\n",
       "      <td>82351</td>\n",
       "      <td>150.0</td>\n",
       "      <td>5.0</td>\n",
       "      <td>Automático</td>\n",
       "      <td>azul</td>\n",
       "      <td>WebScraping</td>\n",
       "    </tr>\n",
       "  </tbody>\n",
       "</table>\n",
       "</div>"
      ],
      "text/plain": [
       "     marca      modelo     precio combustible  anyo_vehiculo  kilometraje  \\\n",
       "0  CITROEN  c4 picasso   8.987072      Diésel         2014.0       195000   \n",
       "1     OPEL       corsa   9.391411    Gasolina         2020.0        32325   \n",
       "2     OPEL       corsa   9.615139    Gasolina         2022.0        63540   \n",
       "3  CITROEN    berlingo   9.209340    Gasolina         2018.0       110000   \n",
       "4     AUDI          a3  10.280210     Híbrido         2020.0        82351   \n",
       "\n",
       "   potencia  num_puertas tipo_cambio   color origen_anuncio  \n",
       "0     115.0          5.0      Manual   negro    WebScraping  \n",
       "1     100.0          5.0      Manual  blanco    WebScraping  \n",
       "2     130.0          5.0  Automático    azul    WebScraping  \n",
       "3     110.0          5.0      Manual    gris    WebScraping  \n",
       "4     150.0          5.0  Automático    azul    WebScraping  "
      ]
     },
     "execution_count": 260,
     "metadata": {},
     "output_type": "execute_result"
    }
   ],
   "source": [
    "df.head()"
   ]
  },
  {
   "cell_type": "markdown",
   "metadata": {},
   "source": [
    "Vemos que el precio ya no está en euros. Al final, cuando ya esté hecho el modelo, habrá que deshacer esta transformación para obtener el precio real del vehículo a predecir."
   ]
  },
  {
   "cell_type": "markdown",
   "metadata": {},
   "source": [
    "### Variables numéricas:"
   ]
  },
  {
   "cell_type": "markdown",
   "metadata": {},
   "source": [
    "#### Potencia:"
   ]
  },
  {
   "cell_type": "markdown",
   "metadata": {},
   "source": [
    "Vamos a analizar los nulos de la columna ```'potencia'```, a ver si son debidos al tipo de combustible o simplemente falta en esos registros."
   ]
  },
  {
   "cell_type": "code",
   "execution_count": 261,
   "metadata": {},
   "outputs": [
    {
     "data": {
      "text/plain": [
       "combustible\n",
       "Diesel                   3\n",
       "Diésel                4879\n",
       "Eléctrico                0\n",
       "Gas licuado (GLP)        0\n",
       "Gas natural (CNG)        0\n",
       "Gasolina              1878\n",
       "Híbrido                  0\n",
       "Híbrido Enchufable       0\n",
       "Híbrido enchufable       0\n",
       "Name: potencia, dtype: int64"
      ]
     },
     "execution_count": 261,
     "metadata": {},
     "output_type": "execute_result"
    }
   ],
   "source": [
    "df.groupby(\"combustible\")[\"potencia\"].apply(lambda x: x.isnull().sum())"
   ]
  },
  {
   "cell_type": "markdown",
   "metadata": {},
   "source": [
    "Como parece que hay varios formatos de la columna combustible, vamos a mapearlos:"
   ]
  },
  {
   "cell_type": "code",
   "execution_count": 262,
   "metadata": {},
   "outputs": [],
   "source": [
    "\n",
    "mapa_combustible = {\n",
    "    \"Diesel\": \"Diésel\",\n",
    "    \"Híbrido enchufable\": \"Híbrido Enchufable\",\n",
    "    \"Híbrido Enchufable\": \"Híbrido Enchufable\"\n",
    "}\n",
    "\n",
    "df[\"combustible\"] = df[\"combustible\"].replace(mapa_combustible)"
   ]
  },
  {
   "cell_type": "code",
   "execution_count": 263,
   "metadata": {},
   "outputs": [
    {
     "data": {
      "text/plain": [
       "combustible\n",
       "Diésel                25881\n",
       "Gasolina              12538\n",
       "Híbrido Enchufable      376\n",
       "Híbrido                 343\n",
       "Eléctrico               291\n",
       "Gas natural (CNG)        58\n",
       "Gas licuado (GLP)        49\n",
       "Name: count, dtype: int64"
      ]
     },
     "execution_count": 263,
     "metadata": {},
     "output_type": "execute_result"
    }
   ],
   "source": [
    "df[\"combustible\"].value_counts()"
   ]
  },
  {
   "cell_type": "code",
   "execution_count": 264,
   "metadata": {},
   "outputs": [
    {
     "data": {
      "text/plain": [
       "combustible\n",
       "Diésel      4882\n",
       "Gasolina    1878\n",
       "dtype: int64"
      ]
     },
     "execution_count": 264,
     "metadata": {},
     "output_type": "execute_result"
    }
   ],
   "source": [
    "df[df[\"potencia\"].isna()].groupby(\"combustible\").size()"
   ]
  },
  {
   "cell_type": "markdown",
   "metadata": {},
   "source": [
    "Observamos que todos los nulos son para vehículos de gasolina o diésel, por lo que vamos a eliminar estos registros del DataFrame, ya que tenemos una cantidad de datos abundante y puede ser un parámetro sensible en el modelo, por lo que tratar de rellenar esos NaN por alguna métrica como la media, puede afectar negativamente."
   ]
  },
  {
   "cell_type": "code",
   "execution_count": 265,
   "metadata": {},
   "outputs": [
    {
     "data": {
      "text/html": [
       "<div>\n",
       "<style scoped>\n",
       "    .dataframe tbody tr th:only-of-type {\n",
       "        vertical-align: middle;\n",
       "    }\n",
       "\n",
       "    .dataframe tbody tr th {\n",
       "        vertical-align: top;\n",
       "    }\n",
       "\n",
       "    .dataframe thead th {\n",
       "        text-align: right;\n",
       "    }\n",
       "</style>\n",
       "<table border=\"1\" class=\"dataframe\">\n",
       "  <thead>\n",
       "    <tr style=\"text-align: right;\">\n",
       "      <th></th>\n",
       "      <th>marca</th>\n",
       "      <th>modelo</th>\n",
       "      <th>precio</th>\n",
       "      <th>combustible</th>\n",
       "      <th>anyo_vehiculo</th>\n",
       "      <th>kilometraje</th>\n",
       "      <th>potencia</th>\n",
       "      <th>num_puertas</th>\n",
       "      <th>tipo_cambio</th>\n",
       "      <th>color</th>\n",
       "      <th>origen_anuncio</th>\n",
       "    </tr>\n",
       "  </thead>\n",
       "  <tbody>\n",
       "    <tr>\n",
       "      <th>0</th>\n",
       "      <td>CITROEN</td>\n",
       "      <td>c4 picasso</td>\n",
       "      <td>8.987072</td>\n",
       "      <td>Diésel</td>\n",
       "      <td>2014.0</td>\n",
       "      <td>195000</td>\n",
       "      <td>115.0</td>\n",
       "      <td>5.0</td>\n",
       "      <td>Manual</td>\n",
       "      <td>negro</td>\n",
       "      <td>WebScraping</td>\n",
       "    </tr>\n",
       "    <tr>\n",
       "      <th>1</th>\n",
       "      <td>OPEL</td>\n",
       "      <td>corsa</td>\n",
       "      <td>9.391411</td>\n",
       "      <td>Gasolina</td>\n",
       "      <td>2020.0</td>\n",
       "      <td>32325</td>\n",
       "      <td>100.0</td>\n",
       "      <td>5.0</td>\n",
       "      <td>Manual</td>\n",
       "      <td>blanco</td>\n",
       "      <td>WebScraping</td>\n",
       "    </tr>\n",
       "    <tr>\n",
       "      <th>2</th>\n",
       "      <td>OPEL</td>\n",
       "      <td>corsa</td>\n",
       "      <td>9.615139</td>\n",
       "      <td>Gasolina</td>\n",
       "      <td>2022.0</td>\n",
       "      <td>63540</td>\n",
       "      <td>130.0</td>\n",
       "      <td>5.0</td>\n",
       "      <td>Automático</td>\n",
       "      <td>azul</td>\n",
       "      <td>WebScraping</td>\n",
       "    </tr>\n",
       "    <tr>\n",
       "      <th>3</th>\n",
       "      <td>CITROEN</td>\n",
       "      <td>berlingo</td>\n",
       "      <td>9.209340</td>\n",
       "      <td>Gasolina</td>\n",
       "      <td>2018.0</td>\n",
       "      <td>110000</td>\n",
       "      <td>110.0</td>\n",
       "      <td>5.0</td>\n",
       "      <td>Manual</td>\n",
       "      <td>gris</td>\n",
       "      <td>WebScraping</td>\n",
       "    </tr>\n",
       "    <tr>\n",
       "      <th>4</th>\n",
       "      <td>AUDI</td>\n",
       "      <td>a3</td>\n",
       "      <td>10.280210</td>\n",
       "      <td>Híbrido</td>\n",
       "      <td>2020.0</td>\n",
       "      <td>82351</td>\n",
       "      <td>150.0</td>\n",
       "      <td>5.0</td>\n",
       "      <td>Automático</td>\n",
       "      <td>azul</td>\n",
       "      <td>WebScraping</td>\n",
       "    </tr>\n",
       "  </tbody>\n",
       "</table>\n",
       "</div>"
      ],
      "text/plain": [
       "     marca      modelo     precio combustible  anyo_vehiculo  kilometraje  \\\n",
       "0  CITROEN  c4 picasso   8.987072      Diésel         2014.0       195000   \n",
       "1     OPEL       corsa   9.391411    Gasolina         2020.0        32325   \n",
       "2     OPEL       corsa   9.615139    Gasolina         2022.0        63540   \n",
       "3  CITROEN    berlingo   9.209340    Gasolina         2018.0       110000   \n",
       "4     AUDI          a3  10.280210     Híbrido         2020.0        82351   \n",
       "\n",
       "   potencia  num_puertas tipo_cambio   color origen_anuncio  \n",
       "0     115.0          5.0      Manual   negro    WebScraping  \n",
       "1     100.0          5.0      Manual  blanco    WebScraping  \n",
       "2     130.0          5.0  Automático    azul    WebScraping  \n",
       "3     110.0          5.0      Manual    gris    WebScraping  \n",
       "4     150.0          5.0  Automático    azul    WebScraping  "
      ]
     },
     "execution_count": 265,
     "metadata": {},
     "output_type": "execute_result"
    }
   ],
   "source": [
    "df = df.drop(index=(df.loc[df.loc[:, \"potencia\"].isna() == True, :]).index)\n",
    "df.head()"
   ]
  },
  {
   "cell_type": "code",
   "execution_count": 266,
   "metadata": {},
   "outputs": [
    {
     "name": "stderr",
     "output_type": "stream",
     "text": [
      "c:\\Users\\alberto.pintos\\AppData\\Local\\anaconda3\\Lib\\site-packages\\seaborn\\categorical.py:641: FutureWarning: The default of observed=False is deprecated and will be changed to True in a future version of pandas. Pass observed=False to retain current behavior or observed=True to adopt the future default and silence this warning.\n",
      "  grouped_vals = vals.groupby(grouper)\n"
     ]
    },
    {
     "data": {
      "image/png": "[encoded data removed]",
      "text/plain": [
       "<Figure size 800x600 with 1 Axes>"
      ]
     },
     "metadata": {},
     "output_type": "display_data"
    }
   ],
   "source": [
    "# Definimos los rangos de potencia:\n",
    "min_potencia = df['potencia'].min()\n",
    "max_potencia = df['potencia'].max()\n",
    "\n",
    "num_bins = 8\n",
    "\n",
    "bins = np.linspace(min_potencia, max_potencia, num_bins + 1) \n",
    "bins = np.round(bins, -1) \n",
    "\n",
    "labels = [f'{int(bins[i])}-{int(bins[i+1])}' for i in range(len(bins)-1)]\n",
    "\n",
    "df_rangos = df.copy() \n",
    "df_rangos['potencia_rango'] = pd.cut(df_rangos['potencia'], bins=bins, labels=labels, right=False)\n",
    "\n",
    "plt.figure(figsize = (8, 6))\n",
    "\n",
    "sns.countplot(x=df_rangos[\"potencia_rango\"], order=labels, color=colors[0])\n",
    "\n",
    "plt.title(\"Distribución de vehículos por potencia\", fontsize=16)\n",
    "plt.xlabel(\"Potencia\", fontsize=14)\n",
    "plt.ylabel(\"Cantidad de vehículos\", fontsize=14)\n",
    "# plt.xticks(rotation=45)  \n",
    "\n",
    "plt.xticks(ha='center') \n",
    "plt.tight_layout()\n",
    "\n",
    "plt.show()"
   ]
  },
  {
   "cell_type": "code",
   "execution_count": 267,
   "metadata": {},
   "outputs": [
    {
     "data": {
      "text/plain": [
       "marca             499\n",
       "modelo            499\n",
       "precio            499\n",
       "combustible       499\n",
       "anyo_vehiculo     499\n",
       "kilometraje       499\n",
       "potencia          499\n",
       "num_puertas       499\n",
       "tipo_cambio       499\n",
       "color             499\n",
       "origen_anuncio    499\n",
       "dtype: int64"
      ]
     },
     "execution_count": 267,
     "metadata": {},
     "output_type": "execute_result"
    }
   ],
   "source": [
    "# Num de vehículos con potncia > 330 CV:\n",
    "\n",
    "df.loc[df.loc[:, \"potencia\"] > 330, :].count()"
   ]
  },
  {
   "cell_type": "code",
   "execution_count": 268,
   "metadata": {},
   "outputs": [
    {
     "name": "stdout",
     "output_type": "stream",
     "text": [
      "<class 'pandas.core.frame.DataFrame'>\n",
      "Index: 32848 entries, 0 to 40042\n",
      "Data columns (total 11 columns):\n",
      " #   Column          Non-Null Count  Dtype  \n",
      "---  ------          --------------  -----  \n",
      " 0   marca           32848 non-null  object \n",
      " 1   modelo          32848 non-null  object \n",
      " 2   precio          32848 non-null  float64\n",
      " 3   combustible     32776 non-null  object \n",
      " 4   anyo_vehiculo   32847 non-null  float64\n",
      " 5   kilometraje     32848 non-null  int64  \n",
      " 6   potencia        32848 non-null  float64\n",
      " 7   num_puertas     32848 non-null  float64\n",
      " 8   tipo_cambio     32768 non-null  object \n",
      " 9   color           32730 non-null  object \n",
      " 10  origen_anuncio  32848 non-null  object \n",
      "dtypes: float64(4), int64(1), object(6)\n",
      "memory usage: 3.0+ MB\n"
     ]
    }
   ],
   "source": [
    "df.info()"
   ]
  },
  {
   "cell_type": "markdown",
   "metadata": {},
   "source": [
    "#### Año:"
   ]
  },
  {
   "cell_type": "code",
   "execution_count": 269,
   "metadata": {},
   "outputs": [
    {
     "data": {
      "text/html": [
       "<div>\n",
       "<style scoped>\n",
       "    .dataframe tbody tr th:only-of-type {\n",
       "        vertical-align: middle;\n",
       "    }\n",
       "\n",
       "    .dataframe tbody tr th {\n",
       "        vertical-align: top;\n",
       "    }\n",
       "\n",
       "    .dataframe thead th {\n",
       "        text-align: right;\n",
       "    }\n",
       "</style>\n",
       "<table border=\"1\" class=\"dataframe\">\n",
       "  <thead>\n",
       "    <tr style=\"text-align: right;\">\n",
       "      <th></th>\n",
       "      <th>marca</th>\n",
       "      <th>modelo</th>\n",
       "      <th>precio</th>\n",
       "      <th>combustible</th>\n",
       "      <th>anyo_vehiculo</th>\n",
       "      <th>kilometraje</th>\n",
       "      <th>potencia</th>\n",
       "      <th>num_puertas</th>\n",
       "      <th>tipo_cambio</th>\n",
       "      <th>color</th>\n",
       "      <th>origen_anuncio</th>\n",
       "    </tr>\n",
       "  </thead>\n",
       "  <tbody>\n",
       "    <tr>\n",
       "      <th>34438</th>\n",
       "      <td>SEAT</td>\n",
       "      <td>arona</td>\n",
       "      <td>10.021271</td>\n",
       "      <td>Gasolina</td>\n",
       "      <td>NaN</td>\n",
       "      <td>1</td>\n",
       "      <td>115.0</td>\n",
       "      <td>5.0</td>\n",
       "      <td>Manual</td>\n",
       "      <td>naranja</td>\n",
       "      <td>dataset kaggle</td>\n",
       "    </tr>\n",
       "  </tbody>\n",
       "</table>\n",
       "</div>"
      ],
      "text/plain": [
       "      marca modelo     precio combustible  anyo_vehiculo  kilometraje  \\\n",
       "34438  SEAT  arona  10.021271    Gasolina            NaN            1   \n",
       "\n",
       "       potencia  num_puertas tipo_cambio    color  origen_anuncio  \n",
       "34438     115.0          5.0      Manual  naranja  dataset kaggle  "
      ]
     },
     "execution_count": 269,
     "metadata": {},
     "output_type": "execute_result"
    }
   ],
   "source": [
    "# Vemos si hay alguno nulo:\n",
    "\n",
    "df[df[\"anyo_vehiculo\"].isna()]"
   ]
  },
  {
   "cell_type": "markdown",
   "metadata": {},
   "source": [
    "Vamos a ver la distribución de valores del campo ```\"anyo_vehiculo\"```."
   ]
  },
  {
   "cell_type": "markdown",
   "metadata": {},
   "source": [
    "Hay uno con valor nulo. Lo eliminamos y convertimos el resto a int:"
   ]
  },
  {
   "cell_type": "code",
   "execution_count": 270,
   "metadata": {},
   "outputs": [],
   "source": [
    "df = df.dropna(subset=[\"anyo_vehiculo\"])\n",
    "\n",
    "df[\"anyo_vehiculo\"] = df[\"anyo_vehiculo\"].astype(int)"
   ]
  },
  {
   "cell_type": "code",
   "execution_count": 271,
   "metadata": {},
   "outputs": [
    {
     "data": {
      "text/plain": [
       "anyo_vehiculo\n",
       "2016    3948\n",
       "2019    3433\n",
       "2017    3246\n",
       "2020    3152\n",
       "2018    2755\n",
       "2015    2313\n",
       "2014    1456\n",
       "2013    1065\n",
       "2007    1012\n",
       "2008     982\n",
       "2011     960\n",
       "2010     934\n",
       "2012     903\n",
       "2009     899\n",
       "2006     837\n",
       "2021     786\n",
       "2005     766\n",
       "2004     603\n",
       "2003     437\n",
       "2022     405\n",
       "2002     330\n",
       "2023     312\n",
       "2001     255\n",
       "2000     218\n",
       "2024     207\n",
       "1999     164\n",
       "1998      92\n",
       "1997      62\n",
       "1996      50\n",
       "1993      41\n",
       "1995      33\n",
       "1992      29\n",
       "1994      28\n",
       "1989      24\n",
       "1991      24\n",
       "2025      22\n",
       "1990      17\n",
       "1988      11\n",
       "1987       9\n",
       "1986       8\n",
       "1982       7\n",
       "1985       5\n",
       "1984       3\n",
       "1983       3\n",
       "1980       1\n",
       "Name: count, dtype: int64"
      ]
     },
     "execution_count": 271,
     "metadata": {},
     "output_type": "execute_result"
    }
   ],
   "source": [
    "df[\"anyo_vehiculo\"].value_counts()"
   ]
  },
  {
   "cell_type": "code",
   "execution_count": 272,
   "metadata": {},
   "outputs": [
    {
     "data": {
      "image/png": "[encoded data removed]",
      "text/plain": [
       "<Figure size 800x600 with 1 Axes>"
      ]
     },
     "metadata": {},
     "output_type": "display_data"
    }
   ],
   "source": [
    "plt.figure(figsize = (8, 6))\n",
    "\n",
    "rango_años = np.linspace(df[\"anyo_vehiculo\"].min(), df[\"anyo_vehiculo\"].max(), num=int(df[\"anyo_vehiculo\"].max() - df[\"anyo_vehiculo\"].min()) + 1, dtype=int)\n",
    "\n",
    "\n",
    "sns.countplot(x=df[\"anyo_vehiculo\"], order=rango_años, color=colors[0])\n",
    "\n",
    "plt.title(\"Distribución de vehículos por año de fabricación\", fontsize=16)\n",
    "plt.xlabel(\"Año de fabricación\", fontsize=14)\n",
    "plt.ylabel(\"Cantidad de vehículos\", fontsize=14)\n",
    "plt.xticks(rotation=90)  \n",
    "\n",
    "plt.show()"
   ]
  },
  {
   "cell_type": "markdown",
   "metadata": {},
   "source": [
    "#### Número de puertas:"
   ]
  },
  {
   "cell_type": "markdown",
   "metadata": {},
   "source": [
    "Veamos los valores de la siguiente columna no numérica, ```\"num_puertas\"```:"
   ]
  },
  {
   "cell_type": "code",
   "execution_count": 273,
   "metadata": {},
   "outputs": [
    {
     "data": {
      "text/plain": [
       "num_puertas\n",
       "5    23739\n",
       "4     5289\n",
       "3     2295\n",
       "2     1524\n",
       "Name: count, dtype: int64"
      ]
     },
     "execution_count": 273,
     "metadata": {},
     "output_type": "execute_result"
    }
   ],
   "source": [
    "df[\"num_puertas\"] = df[\"num_puertas\"].astype(int)\n",
    "\n",
    "df[\"num_puertas\"].value_counts()"
   ]
  },
  {
   "cell_type": "markdown",
   "metadata": {},
   "source": [
    "Vamos a agrupar los coches de 5 puertas con los de 4, y los de 3 con los de 2, ya que la diferencia es que no se cuenta el maletero."
   ]
  },
  {
   "cell_type": "code",
   "execution_count": 274,
   "metadata": {},
   "outputs": [],
   "source": [
    "num_puertas = {5: 5,\n",
    "            4 : 5,\n",
    "            3 : 3,\n",
    "            2 : 3}\n",
    "                     \n",
    "df[\"num_puertas\"] = df[\"num_puertas\"].map(num_puertas)"
   ]
  },
  {
   "cell_type": "code",
   "execution_count": 275,
   "metadata": {},
   "outputs": [
    {
     "data": {
      "text/plain": [
       "num_puertas\n",
       "5    29028\n",
       "3     3819\n",
       "Name: count, dtype: int64"
      ]
     },
     "execution_count": 275,
     "metadata": {},
     "output_type": "execute_result"
    }
   ],
   "source": [
    "df[\"num_puertas\"].value_counts()"
   ]
  },
  {
   "cell_type": "code",
   "execution_count": 276,
   "metadata": {},
   "outputs": [
    {
     "name": "stdout",
     "output_type": "stream",
     "text": [
      "<class 'pandas.core.frame.DataFrame'>\n",
      "Index: 32847 entries, 0 to 40042\n",
      "Data columns (total 11 columns):\n",
      " #   Column          Non-Null Count  Dtype  \n",
      "---  ------          --------------  -----  \n",
      " 0   marca           32847 non-null  object \n",
      " 1   modelo          32847 non-null  object \n",
      " 2   precio          32847 non-null  float64\n",
      " 3   combustible     32775 non-null  object \n",
      " 4   anyo_vehiculo   32847 non-null  int32  \n",
      " 5   kilometraje     32847 non-null  int64  \n",
      " 6   potencia        32847 non-null  float64\n",
      " 7   num_puertas     32847 non-null  int64  \n",
      " 8   tipo_cambio     32767 non-null  object \n",
      " 9   color           32729 non-null  object \n",
      " 10  origen_anuncio  32847 non-null  object \n",
      "dtypes: float64(2), int32(1), int64(2), object(6)\n",
      "memory usage: 2.9+ MB\n"
     ]
    }
   ],
   "source": [
    "df.info()"
   ]
  },
  {
   "cell_type": "markdown",
   "metadata": {},
   "source": [
    "### Variables categóricas:"
   ]
  },
  {
   "cell_type": "markdown",
   "metadata": {},
   "source": [
    "#### Color:"
   ]
  },
  {
   "cell_type": "markdown",
   "metadata": {},
   "source": [
    "La columna ```\"color\"``` sigue teniendo bastantes NaN."
   ]
  },
  {
   "cell_type": "code",
   "execution_count": 277,
   "metadata": {},
   "outputs": [
    {
     "data": {
      "text/plain": [
       "color\n",
       "blanco         8640\n",
       "gris           7859\n",
       "negro          5482\n",
       "azul           3815\n",
       "rojo           1931\n",
       "               ... \n",
       "gg7               1\n",
       "t1t1              1\n",
       "191               1\n",
       "79u               1\n",
       "mineralgrau       1\n",
       "Name: count, Length: 320, dtype: int64"
      ]
     },
     "execution_count": 277,
     "metadata": {},
     "output_type": "execute_result"
    }
   ],
   "source": [
    "# pd.set_option(\"display.max_rows\", None)\n",
    "\n",
    "df[\"color\"].value_counts()"
   ]
  },
  {
   "cell_type": "markdown",
   "metadata": {},
   "source": [
    "Vamos a eliminar la columna color, ya que es una columna categórica con 323 valores únicos y algunos pueden estar en una codificación numérica y otros están mal guardados."
   ]
  },
  {
   "cell_type": "code",
   "execution_count": 278,
   "metadata": {},
   "outputs": [],
   "source": [
    "df = df.drop(columns=\"color\")"
   ]
  },
  {
   "cell_type": "code",
   "execution_count": 279,
   "metadata": {},
   "outputs": [
    {
     "name": "stdout",
     "output_type": "stream",
     "text": [
      "<class 'pandas.core.frame.DataFrame'>\n",
      "Index: 32847 entries, 0 to 40042\n",
      "Data columns (total 10 columns):\n",
      " #   Column          Non-Null Count  Dtype  \n",
      "---  ------          --------------  -----  \n",
      " 0   marca           32847 non-null  object \n",
      " 1   modelo          32847 non-null  object \n",
      " 2   precio          32847 non-null  float64\n",
      " 3   combustible     32775 non-null  object \n",
      " 4   anyo_vehiculo   32847 non-null  int32  \n",
      " 5   kilometraje     32847 non-null  int64  \n",
      " 6   potencia        32847 non-null  float64\n",
      " 7   num_puertas     32847 non-null  int64  \n",
      " 8   tipo_cambio     32767 non-null  object \n",
      " 9   origen_anuncio  32847 non-null  object \n",
      "dtypes: float64(2), int32(1), int64(2), object(5)\n",
      "memory usage: 2.6+ MB\n"
     ]
    }
   ],
   "source": [
    "df.info()"
   ]
  },
  {
   "cell_type": "markdown",
   "metadata": {},
   "source": [
    "#### Tipo de cambio:"
   ]
  },
  {
   "cell_type": "markdown",
   "metadata": {},
   "source": [
    "La columna ```\"tipo_cambio\"``` también continúa teniendo bastantes NaN."
   ]
  },
  {
   "cell_type": "code",
   "execution_count": 280,
   "metadata": {},
   "outputs": [
    {
     "data": {
      "text/plain": [
       "tipo_cambio\n",
       "Manual        22293\n",
       "Automático    10474\n",
       "None             80\n",
       "Name: count, dtype: int64"
      ]
     },
     "execution_count": 280,
     "metadata": {},
     "output_type": "execute_result"
    }
   ],
   "source": [
    "df[\"tipo_cambio\"].value_counts(dropna=False)"
   ]
  },
  {
   "cell_type": "markdown",
   "metadata": {},
   "source": [
    "Como en la columna ```\"tipo_cambio\"``` existen muchos coches manuales y automáticos, vamos a eliminar las filas con valores de ```\"tipo_cambio\"``` nulos (111)."
   ]
  },
  {
   "cell_type": "code",
   "execution_count": 281,
   "metadata": {},
   "outputs": [
    {
     "data": {
      "text/html": [
       "<div>\n",
       "<style scoped>\n",
       "    .dataframe tbody tr th:only-of-type {\n",
       "        vertical-align: middle;\n",
       "    }\n",
       "\n",
       "    .dataframe tbody tr th {\n",
       "        vertical-align: top;\n",
       "    }\n",
       "\n",
       "    .dataframe thead th {\n",
       "        text-align: right;\n",
       "    }\n",
       "</style>\n",
       "<table border=\"1\" class=\"dataframe\">\n",
       "  <thead>\n",
       "    <tr style=\"text-align: right;\">\n",
       "      <th></th>\n",
       "      <th>marca</th>\n",
       "      <th>modelo</th>\n",
       "      <th>precio</th>\n",
       "      <th>combustible</th>\n",
       "      <th>anyo_vehiculo</th>\n",
       "      <th>kilometraje</th>\n",
       "      <th>potencia</th>\n",
       "      <th>num_puertas</th>\n",
       "      <th>tipo_cambio</th>\n",
       "      <th>origen_anuncio</th>\n",
       "    </tr>\n",
       "  </thead>\n",
       "  <tbody>\n",
       "    <tr>\n",
       "      <th>0</th>\n",
       "      <td>CITROEN</td>\n",
       "      <td>c4 picasso</td>\n",
       "      <td>8.987072</td>\n",
       "      <td>Diésel</td>\n",
       "      <td>2014</td>\n",
       "      <td>195000</td>\n",
       "      <td>115.0</td>\n",
       "      <td>5</td>\n",
       "      <td>Manual</td>\n",
       "      <td>WebScraping</td>\n",
       "    </tr>\n",
       "    <tr>\n",
       "      <th>1</th>\n",
       "      <td>OPEL</td>\n",
       "      <td>corsa</td>\n",
       "      <td>9.391411</td>\n",
       "      <td>Gasolina</td>\n",
       "      <td>2020</td>\n",
       "      <td>32325</td>\n",
       "      <td>100.0</td>\n",
       "      <td>5</td>\n",
       "      <td>Manual</td>\n",
       "      <td>WebScraping</td>\n",
       "    </tr>\n",
       "    <tr>\n",
       "      <th>2</th>\n",
       "      <td>OPEL</td>\n",
       "      <td>corsa</td>\n",
       "      <td>9.615139</td>\n",
       "      <td>Gasolina</td>\n",
       "      <td>2022</td>\n",
       "      <td>63540</td>\n",
       "      <td>130.0</td>\n",
       "      <td>5</td>\n",
       "      <td>Automático</td>\n",
       "      <td>WebScraping</td>\n",
       "    </tr>\n",
       "    <tr>\n",
       "      <th>3</th>\n",
       "      <td>CITROEN</td>\n",
       "      <td>berlingo</td>\n",
       "      <td>9.209340</td>\n",
       "      <td>Gasolina</td>\n",
       "      <td>2018</td>\n",
       "      <td>110000</td>\n",
       "      <td>110.0</td>\n",
       "      <td>5</td>\n",
       "      <td>Manual</td>\n",
       "      <td>WebScraping</td>\n",
       "    </tr>\n",
       "    <tr>\n",
       "      <th>4</th>\n",
       "      <td>AUDI</td>\n",
       "      <td>a3</td>\n",
       "      <td>10.280210</td>\n",
       "      <td>Híbrido</td>\n",
       "      <td>2020</td>\n",
       "      <td>82351</td>\n",
       "      <td>150.0</td>\n",
       "      <td>5</td>\n",
       "      <td>Automático</td>\n",
       "      <td>WebScraping</td>\n",
       "    </tr>\n",
       "  </tbody>\n",
       "</table>\n",
       "</div>"
      ],
      "text/plain": [
       "     marca      modelo     precio combustible  anyo_vehiculo  kilometraje  \\\n",
       "0  CITROEN  c4 picasso   8.987072      Diésel           2014       195000   \n",
       "1     OPEL       corsa   9.391411    Gasolina           2020        32325   \n",
       "2     OPEL       corsa   9.615139    Gasolina           2022        63540   \n",
       "3  CITROEN    berlingo   9.209340    Gasolina           2018       110000   \n",
       "4     AUDI          a3  10.280210     Híbrido           2020        82351   \n",
       "\n",
       "   potencia  num_puertas tipo_cambio origen_anuncio  \n",
       "0     115.0            5      Manual    WebScraping  \n",
       "1     100.0            5      Manual    WebScraping  \n",
       "2     130.0            5  Automático    WebScraping  \n",
       "3     110.0            5      Manual    WebScraping  \n",
       "4     150.0            5  Automático    WebScraping  "
      ]
     },
     "execution_count": 281,
     "metadata": {},
     "output_type": "execute_result"
    }
   ],
   "source": [
    "df = df.drop(index=(df.loc[df.loc[:, \"tipo_cambio\"].isna() == True, :]).index)\n",
    "df.head()"
   ]
  },
  {
   "cell_type": "code",
   "execution_count": 282,
   "metadata": {},
   "outputs": [
    {
     "name": "stdout",
     "output_type": "stream",
     "text": [
      "<class 'pandas.core.frame.DataFrame'>\n",
      "Index: 32767 entries, 0 to 40042\n",
      "Data columns (total 10 columns):\n",
      " #   Column          Non-Null Count  Dtype  \n",
      "---  ------          --------------  -----  \n",
      " 0   marca           32767 non-null  object \n",
      " 1   modelo          32767 non-null  object \n",
      " 2   precio          32767 non-null  float64\n",
      " 3   combustible     32695 non-null  object \n",
      " 4   anyo_vehiculo   32767 non-null  int32  \n",
      " 5   kilometraje     32767 non-null  int64  \n",
      " 6   potencia        32767 non-null  float64\n",
      " 7   num_puertas     32767 non-null  int64  \n",
      " 8   tipo_cambio     32767 non-null  object \n",
      " 9   origen_anuncio  32767 non-null  object \n",
      "dtypes: float64(2), int32(1), int64(2), object(5)\n",
      "memory usage: 2.6+ MB\n"
     ]
    }
   ],
   "source": [
    "df.info()"
   ]
  },
  {
   "cell_type": "markdown",
   "metadata": {},
   "source": [
    "Ahora que ya no contiene nulos, convertimos a numéricos los valores de la columna ```\"tipo_cambio\"```, mapeando como 0 los vehículos con cambio \"Manual\" y 1 los que tienen \"Automático\":"
   ]
  },
  {
   "cell_type": "code",
   "execution_count": 283,
   "metadata": {},
   "outputs": [
    {
     "data": {
      "text/plain": [
       "tipo_cambio\n",
       "Manual        22293\n",
       "Automático    10474\n",
       "Name: count, dtype: int64"
      ]
     },
     "execution_count": 283,
     "metadata": {},
     "output_type": "execute_result"
    }
   ],
   "source": [
    "df[\"tipo_cambio\"].value_counts()"
   ]
  },
  {
   "cell_type": "code",
   "execution_count": 284,
   "metadata": {},
   "outputs": [],
   "source": [
    "df[\"tipo_cambio\"] = df[\"tipo_cambio\"].apply(lambda x: 0 if x == \"Manual\" else 1)"
   ]
  },
  {
   "cell_type": "code",
   "execution_count": 285,
   "metadata": {},
   "outputs": [
    {
     "data": {
      "text/plain": [
       "tipo_cambio\n",
       "0    22293\n",
       "1    10474\n",
       "Name: count, dtype: int64"
      ]
     },
     "execution_count": 285,
     "metadata": {},
     "output_type": "execute_result"
    }
   ],
   "source": [
    "df[\"tipo_cambio\"].value_counts()"
   ]
  },
  {
   "cell_type": "code",
   "execution_count": 286,
   "metadata": {},
   "outputs": [
    {
     "name": "stdout",
     "output_type": "stream",
     "text": [
      "<class 'pandas.core.frame.DataFrame'>\n",
      "Index: 32767 entries, 0 to 40042\n",
      "Data columns (total 10 columns):\n",
      " #   Column          Non-Null Count  Dtype  \n",
      "---  ------          --------------  -----  \n",
      " 0   marca           32767 non-null  object \n",
      " 1   modelo          32767 non-null  object \n",
      " 2   precio          32767 non-null  float64\n",
      " 3   combustible     32695 non-null  object \n",
      " 4   anyo_vehiculo   32767 non-null  int32  \n",
      " 5   kilometraje     32767 non-null  int64  \n",
      " 6   potencia        32767 non-null  float64\n",
      " 7   num_puertas     32767 non-null  int64  \n",
      " 8   tipo_cambio     32767 non-null  int64  \n",
      " 9   origen_anuncio  32767 non-null  object \n",
      "dtypes: float64(2), int32(1), int64(3), object(4)\n",
      "memory usage: 2.6+ MB\n"
     ]
    }
   ],
   "source": [
    "df.info()"
   ]
  },
  {
   "cell_type": "markdown",
   "metadata": {},
   "source": [
    "#### Combustible:"
   ]
  },
  {
   "cell_type": "code",
   "execution_count": 287,
   "metadata": {},
   "outputs": [
    {
     "data": {
      "text/plain": [
       "marca             72\n",
       "modelo            72\n",
       "precio            72\n",
       "combustible        0\n",
       "anyo_vehiculo     72\n",
       "kilometraje       72\n",
       "potencia          72\n",
       "num_puertas       72\n",
       "tipo_cambio       72\n",
       "origen_anuncio    72\n",
       "dtype: int64"
      ]
     },
     "execution_count": 287,
     "metadata": {},
     "output_type": "execute_result"
    }
   ],
   "source": [
    "df[df[\"combustible\"].isna()].count()"
   ]
  },
  {
   "cell_type": "markdown",
   "metadata": {},
   "source": [
    "Todavía hay 34 registros con el valor de combustible nulo, de modo que eliminamos estos registros:"
   ]
  },
  {
   "cell_type": "code",
   "execution_count": 288,
   "metadata": {},
   "outputs": [
    {
     "name": "stdout",
     "output_type": "stream",
     "text": [
      "<class 'pandas.core.frame.DataFrame'>\n",
      "Index: 32695 entries, 0 to 40042\n",
      "Data columns (total 10 columns):\n",
      " #   Column          Non-Null Count  Dtype  \n",
      "---  ------          --------------  -----  \n",
      " 0   marca           32695 non-null  object \n",
      " 1   modelo          32695 non-null  object \n",
      " 2   precio          32695 non-null  float64\n",
      " 3   combustible     32695 non-null  object \n",
      " 4   anyo_vehiculo   32695 non-null  int32  \n",
      " 5   kilometraje     32695 non-null  int64  \n",
      " 6   potencia        32695 non-null  float64\n",
      " 7   num_puertas     32695 non-null  int64  \n",
      " 8   tipo_cambio     32695 non-null  int64  \n",
      " 9   origen_anuncio  32695 non-null  object \n",
      "dtypes: float64(2), int32(1), int64(3), object(4)\n",
      "memory usage: 2.6+ MB\n"
     ]
    }
   ],
   "source": [
    "df = df.dropna()\n",
    "df.info()"
   ]
  },
  {
   "cell_type": "markdown",
   "metadata": {},
   "source": [
    "Vemos que nos hemos quedado con 29698 filas de 10 marcas de vehículos. Ya no tenemos valores nulos, ahora vamos a procesar las columnas restantes para que puedan ser usadas en el modelo."
   ]
  },
  {
   "cell_type": "code",
   "execution_count": 289,
   "metadata": {},
   "outputs": [
    {
     "data": {
      "text/plain": [
       "combustible\n",
       "Diésel                20938\n",
       "Gasolina              10640\n",
       "Híbrido Enchufable      376\n",
       "Híbrido                 343\n",
       "Eléctrico               291\n",
       "Gas natural (CNG)        58\n",
       "Gas licuado (GLP)        49\n",
       "Name: count, dtype: int64"
      ]
     },
     "execution_count": 289,
     "metadata": {},
     "output_type": "execute_result"
    }
   ],
   "source": [
    "df[\"combustible\"].value_counts()"
   ]
  },
  {
   "cell_type": "code",
   "execution_count": 290,
   "metadata": {},
   "outputs": [
    {
     "data": {
      "image/png": "[encoded data removed]",
      "text/plain": [
       "<Figure size 800x600 with 1 Axes>"
      ]
     },
     "metadata": {},
     "output_type": "display_data"
    }
   ],
   "source": [
    "plt.figure(figsize = (8, 6))\n",
    "\n",
    "sns.countplot(x=df[\"combustible\"], order=df[\"combustible\"].value_counts(ascending=False).index, color=colors[0])\n",
    "\n",
    "plt.title(\"Distribución de coches según el tipo de combustible\", fontsize=16)\n",
    "plt.xlabel(\"Tipo de combustible\", fontsize=14)\n",
    "plt.ylabel(\"Cantidad de vehículos\", fontsize=14)\n",
    "plt.xticks(rotation=45)  \n",
    "\n",
    "plt.show()"
   ]
  },
  {
   "cell_type": "code",
   "execution_count": 163,
   "metadata": {},
   "outputs": [
    {
     "name": "stdout",
     "output_type": "stream",
     "text": [
      "<class 'pandas.core.frame.DataFrame'>\n",
      "Index: 32695 entries, 0 to 40042\n",
      "Data columns (total 10 columns):\n",
      " #   Column          Non-Null Count  Dtype  \n",
      "---  ------          --------------  -----  \n",
      " 0   marca           32695 non-null  object \n",
      " 1   modelo          32695 non-null  object \n",
      " 2   precio          32695 non-null  float64\n",
      " 3   combustible     32695 non-null  object \n",
      " 4   anyo_vehiculo   32695 non-null  int32  \n",
      " 5   kilometraje     32695 non-null  int64  \n",
      " 6   potencia        32695 non-null  float64\n",
      " 7   num_puertas     32695 non-null  int64  \n",
      " 8   tipo_cambio     32695 non-null  int64  \n",
      " 9   origen_anuncio  32695 non-null  object \n",
      "dtypes: float64(2), int32(1), int64(3), object(4)\n",
      "memory usage: 2.6+ MB\n"
     ]
    }
   ],
   "source": [
    "df.info()"
   ]
  },
  {
   "cell_type": "markdown",
   "metadata": {},
   "source": [
    "Vamos ahora a convertir la columna ```\"combustible\"``` en numérica a través de un mapeado:"
   ]
  },
  {
   "cell_type": "code",
   "execution_count": 164,
   "metadata": {},
   "outputs": [
    {
     "data": {
      "text/plain": [
       "combustible\n",
       "Diésel                20938\n",
       "Gasolina              10640\n",
       "Híbrido Enchufable      376\n",
       "Híbrido                 343\n",
       "Eléctrico               291\n",
       "Gas natural (CNG)        58\n",
       "Gas licuado (GLP)        49\n",
       "Name: count, dtype: int64"
      ]
     },
     "execution_count": 164,
     "metadata": {},
     "output_type": "execute_result"
    }
   ],
   "source": [
    "df[\"combustible\"].value_counts()"
   ]
  },
  {
   "cell_type": "markdown",
   "metadata": {},
   "source": [
    "Vemos cómo predominan los coches de diésel y gasolina.\n",
    "\n",
    "Convertimos los valores en numéricos utilizando un mapeado:"
   ]
  },
  {
   "cell_type": "code",
   "execution_count": 165,
   "metadata": {},
   "outputs": [],
   "source": [
    "# Aplicamos un mapeado para la columna \"combustible\":\n",
    "\n",
    "tipos_combutible = {\"Diésel\" : 0,\n",
    "            \"Gasolina\" : 1,\n",
    "            \"Híbrido\" : 2,\n",
    "            \"Eléctrico\" : 3,\n",
    "            \"Híbrido Enchufable\" : 4, \n",
    "            \"Gas licuado (GLP)\" : 5,\n",
    "            \"Gas natural (CNG)\" : 6}\n",
    "                     \n",
    "df[\"combustible\"] = df[\"combustible\"].map(tipos_combutible)"
   ]
  },
  {
   "cell_type": "code",
   "execution_count": 166,
   "metadata": {},
   "outputs": [
    {
     "data": {
      "text/plain": [
       "combustible\n",
       "0    20938\n",
       "1    10640\n",
       "4      376\n",
       "2      343\n",
       "3      291\n",
       "6       58\n",
       "5       49\n",
       "Name: count, dtype: int64"
      ]
     },
     "execution_count": 166,
     "metadata": {},
     "output_type": "execute_result"
    }
   ],
   "source": [
    "df[\"combustible\"].value_counts()"
   ]
  },
  {
   "cell_type": "code",
   "execution_count": 167,
   "metadata": {},
   "outputs": [
    {
     "name": "stdout",
     "output_type": "stream",
     "text": [
      "<class 'pandas.core.frame.DataFrame'>\n",
      "Index: 32695 entries, 0 to 40042\n",
      "Data columns (total 10 columns):\n",
      " #   Column          Non-Null Count  Dtype  \n",
      "---  ------          --------------  -----  \n",
      " 0   marca           32695 non-null  object \n",
      " 1   modelo          32695 non-null  object \n",
      " 2   precio          32695 non-null  float64\n",
      " 3   combustible     32695 non-null  int64  \n",
      " 4   anyo_vehiculo   32695 non-null  int32  \n",
      " 5   kilometraje     32695 non-null  int64  \n",
      " 6   potencia        32695 non-null  float64\n",
      " 7   num_puertas     32695 non-null  int64  \n",
      " 8   tipo_cambio     32695 non-null  int64  \n",
      " 9   origen_anuncio  32695 non-null  object \n",
      "dtypes: float64(2), int32(1), int64(4), object(3)\n",
      "memory usage: 2.6+ MB\n"
     ]
    }
   ],
   "source": [
    "df.info()"
   ]
  },
  {
   "cell_type": "markdown",
   "metadata": {},
   "source": [
    "#### Marca:"
   ]
  },
  {
   "cell_type": "markdown",
   "metadata": {},
   "source": [
    "Antes de convertir las columnas ```\"marca\"``` y ```\"modelo\"``` en númericas, vamos a guardar en un set las marcas y modelos de coches que quedan en el DataFrame, para luego utilizarlas en la Web App de predicción de precios:"
   ]
  },
  {
   "cell_type": "code",
   "execution_count": 168,
   "metadata": {},
   "outputs": [
    {
     "data": {
      "text/html": [
       "<div>\n",
       "<style scoped>\n",
       "    .dataframe tbody tr th:only-of-type {\n",
       "        vertical-align: middle;\n",
       "    }\n",
       "\n",
       "    .dataframe tbody tr th {\n",
       "        vertical-align: top;\n",
       "    }\n",
       "\n",
       "    .dataframe thead th {\n",
       "        text-align: right;\n",
       "    }\n",
       "</style>\n",
       "<table border=\"1\" class=\"dataframe\">\n",
       "  <thead>\n",
       "    <tr style=\"text-align: right;\">\n",
       "      <th></th>\n",
       "      <th>marca</th>\n",
       "      <th>modelo</th>\n",
       "      <th>precio</th>\n",
       "      <th>combustible</th>\n",
       "      <th>anyo_vehiculo</th>\n",
       "      <th>kilometraje</th>\n",
       "      <th>potencia</th>\n",
       "      <th>num_puertas</th>\n",
       "      <th>tipo_cambio</th>\n",
       "      <th>origen_anuncio</th>\n",
       "    </tr>\n",
       "  </thead>\n",
       "  <tbody>\n",
       "    <tr>\n",
       "      <th>0</th>\n",
       "      <td>CITROEN</td>\n",
       "      <td>c4 picasso</td>\n",
       "      <td>8.987072</td>\n",
       "      <td>0</td>\n",
       "      <td>2014</td>\n",
       "      <td>195000</td>\n",
       "      <td>115.0</td>\n",
       "      <td>5</td>\n",
       "      <td>0</td>\n",
       "      <td>WebScraping</td>\n",
       "    </tr>\n",
       "    <tr>\n",
       "      <th>1</th>\n",
       "      <td>OPEL</td>\n",
       "      <td>corsa</td>\n",
       "      <td>9.391411</td>\n",
       "      <td>1</td>\n",
       "      <td>2020</td>\n",
       "      <td>32325</td>\n",
       "      <td>100.0</td>\n",
       "      <td>5</td>\n",
       "      <td>0</td>\n",
       "      <td>WebScraping</td>\n",
       "    </tr>\n",
       "    <tr>\n",
       "      <th>2</th>\n",
       "      <td>OPEL</td>\n",
       "      <td>corsa</td>\n",
       "      <td>9.615139</td>\n",
       "      <td>1</td>\n",
       "      <td>2022</td>\n",
       "      <td>63540</td>\n",
       "      <td>130.0</td>\n",
       "      <td>5</td>\n",
       "      <td>1</td>\n",
       "      <td>WebScraping</td>\n",
       "    </tr>\n",
       "    <tr>\n",
       "      <th>3</th>\n",
       "      <td>CITROEN</td>\n",
       "      <td>berlingo</td>\n",
       "      <td>9.209340</td>\n",
       "      <td>1</td>\n",
       "      <td>2018</td>\n",
       "      <td>110000</td>\n",
       "      <td>110.0</td>\n",
       "      <td>5</td>\n",
       "      <td>0</td>\n",
       "      <td>WebScraping</td>\n",
       "    </tr>\n",
       "    <tr>\n",
       "      <th>4</th>\n",
       "      <td>AUDI</td>\n",
       "      <td>a3</td>\n",
       "      <td>10.280210</td>\n",
       "      <td>2</td>\n",
       "      <td>2020</td>\n",
       "      <td>82351</td>\n",
       "      <td>150.0</td>\n",
       "      <td>5</td>\n",
       "      <td>1</td>\n",
       "      <td>WebScraping</td>\n",
       "    </tr>\n",
       "  </tbody>\n",
       "</table>\n",
       "</div>"
      ],
      "text/plain": [
       "     marca      modelo     precio  combustible  anyo_vehiculo  kilometraje  \\\n",
       "0  CITROEN  c4 picasso   8.987072            0           2014       195000   \n",
       "1     OPEL       corsa   9.391411            1           2020        32325   \n",
       "2     OPEL       corsa   9.615139            1           2022        63540   \n",
       "3  CITROEN    berlingo   9.209340            1           2018       110000   \n",
       "4     AUDI          a3  10.280210            2           2020        82351   \n",
       "\n",
       "   potencia  num_puertas  tipo_cambio origen_anuncio  \n",
       "0     115.0            5            0    WebScraping  \n",
       "1     100.0            5            0    WebScraping  \n",
       "2     130.0            5            1    WebScraping  \n",
       "3     110.0            5            0    WebScraping  \n",
       "4     150.0            5            1    WebScraping  "
      ]
     },
     "execution_count": 168,
     "metadata": {},
     "output_type": "execute_result"
    }
   ],
   "source": [
    "df.head()"
   ]
  },
  {
   "cell_type": "code",
   "execution_count": 169,
   "metadata": {},
   "outputs": [
    {
     "name": "stdout",
     "output_type": "stream",
     "text": [
      "{'CITROEN': {'c5', 'c6', 'c4 sedan', 'xsara', 'c4 cactus', 'c8', 'c4 aircross', 'xsara picasso', 'c4 picasso', 'c1', 'c3 pluriel', 'grand c4 picasso', 'nemo', 'c4', 'c-15', 'c-crosser', 'c3 picasso', 'c4 spacetourer', 'ds4', 'saxo', 'xantia', 'c2', 'c5 aircross', 'c3 aircross', 'ax', 'ds5', 'c-zero', 'grand c4 spacetourer', 'c-elysee', 'c5 aircross hybrid', 'jumpy', 'ds3', '2cv', 'jumper', 'bx', 'c3', 'e-c4', 'berlingo', 'spacetourer', 'zx', 'evasion'}, 'OPEL': {'movano', 'gt', 'crossland x', 'zafira tourer', 'grandland x phev', 'tigra', 'cabrio', 'corsa', 'antara', 'crossland', 'gtc', 'corsa-e', 'agila', 'frontera', 'kadett', 'zafira-e life', 'astra', 'zafira life', 'monterey', 'mokka x', 'vectra', 'karl', 'omega', 'grandland x', 'vivaro', 'insignia', 'combo life', 'meriva', 'corsa van', 'manta', 'mokka', 'zafira', 'signum', 'ampera', 'combo', 'adam'}, 'AUDI': {'s7', 'rs5', 'a6', 'r8', 'a7', 's5', 'a2', 'q3 sportback', 's8', 'tt rs', 'rs3', 'a1', 'q5', '90', 'rs6', 'a5', 'rs q3', 'rs7', 'sq7', 'a4 allroad quattro', 'cabriolet', 'q7', 'rs4', 'coupe', 'q2', 'a6 allroad quattro', 'sq5', 'a4', 'tts', '100', 'a3', 'tt', 'q3', 's6', 'allroad quattro', 'a8', 's4', 's3'}, 'FORD': {'kuga', 'sierra', 'probe', 'transit connect', 'fiesta van', 'fusion', 'tourneo courier', 'ka', 'grand c-max', 'ranger', 'tourneo connect', 'transit courier', 'maverick', 'b-max', 'fiesta', 'ka+', 'transit', 'tourneo custom', 'mondeo', 'edge', 'galaxy', 's-max', 'grand tourneo connect', 'focus c-max', 'focus', 'courier', 'connect', 'puma', 'ecosport', 'mustang', 'transit custom', 'escort', 'explorer', 'c-max', 'capri'}, 'VOLKSWAGEN': {'Taigo Life 1.0 TSI', 'bora', 'id.3', 'golf plus', 'caravelle', 'golf', 'scirocco', 'sharan', 'tiguan allspace', 'touareg', 'caddy', 'ID. BUZZ Pro', 'polo', 'lt', 'crafter', 'arteon', 'tiguan', 'TRoc Sport 1.5 TSI DSG', 'cc', 'jetta', 'passat cc', 'amarok', 'corrado', 'california', 'grand california', 'transporter', 'phaeton', 'santana', 'touran', 'golf sportsvan', 'multivan', 'e-up!', 't-roc', 'beetle', 'up!', 'new beetle', 't-cross', 'passat', 'lupo', 'eos'}, 'BMW': {'z4', 'serie 8', 'z3', 'compact', 'i4 eDrive40', 'serie 5', 'x5', 'serie 2 gran tourer', 'x3', 'serie 3', 'x4', 'iX1 xDrive30', 'serie 2 active tourer', 'x2', 'x1', 'serie 2', 'x6', 'serie 1', 'i3', 'i8', 'serie 4', 'serie 7', 'ix3', 'z1', 'serie 6'}, 'PEUGEOT': {'806', '4007', '407 sw', '2008', '3008 hybrid', '205', '306', '206 +', '107', '407', 'rcz', 'boxer', '208', '307 sw', 'rifter', '309', 'traveller', '106', '607', '1007', '508', 'e-2008', '4008', '208 xad', '206 sw', '207', '5008', 'bipper', '308', '108', '307', '505', '406', 'expert', '3008', 'e-208', 'ion', '207 +', '206', '508 hybrid', '807', 'partner', 'partner origin'}, 'SEAT': {'alhambra', 'ateca', 'toledo', 'arona', 'cordoba', 'altea', 'arosa', 'leon', 'altea freetrack', 'altea xl', 'ibiza', 'exeo', 'inca', 'tarraco', 'marbella', 'mii'}, 'RENAULT': {'mascott', '5 E-Tech Iconic Cinq Autonomia Conf', 'koleos', 'kadjar', 'modus', 'Austral Techno ETech Full Hybrid', 'express', 'laguna', 'r5', 'grand espace', 'scenic', 'clio campus', 'espace', 'clio iii', 'r11', 'grand scenic', 'latitude', 'clio 4', 'zoe', 'kangoo combi', 'r4', 'r6', 'Arkana Zen ETECH Hibrido 105kW145CV', 'kangoo furgon', 'talisman', 'fluence', 'vel satis', 'clio', 'trafic', 'captur', 'twingo', 'wind', 'grand kangoo combi', 'safrane', 'r21', 'megane', 'kangoo', 'master propulsion', 'kangoo express', 'grand modus', 'maxity', 'master', 'kangoo z.e.', '19'}, 'MERCEDES-BENZ': {'sprinter', 'EQA EQA 250', '140d', 'clase cl', '200', 'clase r', 'citan', 'clase gl', 'clase gla', 'clase clk', 'clase sl r129', 'clase s', '220', 'cls', 'clase a', '500', 'glb', 'clase x', 'clase gls', 'clase m', 'clase slk', 'clase slc', 'clase gle', 'gle', '100d', 'gla', '230', 'clase glc', '400', 'clase v', 'clase clc', 'clase gle coupe', 'clase glk', 'clase b', 'clase cla', '260', 'clase e', 'vito', 'clase g', '190', 'eqc', 'clase c', 'clase cls', 'glc coupe', 'viano', 'clase sl', 'gle coupe', 'cla', '300'}}\n"
     ]
    }
   ],
   "source": [
    "marca_modelo_set = {}\n",
    "\n",
    "for index, row in df.iterrows():\n",
    "    make = row['marca']\n",
    "    model = row['modelo']\n",
    "    \n",
    "    if make not in marca_modelo_set:\n",
    "        marca_modelo_set[make] = {model}\n",
    "    else:\n",
    "        marca_modelo_set[make].add(model)\n",
    "\n",
    "# Guardamos el set con marcas y modelos en un pkl:\n",
    "\n",
    "with open('../include/utils/marca_modelo_set.pkl', 'wb') as archivo_salida3:\n",
    "    pickle.dump(marca_modelo_set, archivo_salida3)\n",
    "\n",
    "print(marca_modelo_set)"
   ]
  },
  {
   "cell_type": "markdown",
   "metadata": {},
   "source": [
    "Una vez guardado este set, empezamos con el análisis y procesado de las variables que utilizaremos en el modelo:"
   ]
  },
  {
   "cell_type": "code",
   "execution_count": 170,
   "metadata": {},
   "outputs": [
    {
     "data": {
      "text/plain": [
       "marca\n",
       "VOLKSWAGEN       4312\n",
       "BMW              4003\n",
       "MERCEDES-BENZ    3819\n",
       "AUDI             3331\n",
       "PEUGEOT          3109\n",
       "FORD             2947\n",
       "RENAULT          2947\n",
       "OPEL             2869\n",
       "CITROEN          2838\n",
       "SEAT             2520\n",
       "Name: count, dtype: int64"
      ]
     },
     "execution_count": 170,
     "metadata": {},
     "output_type": "execute_result"
    }
   ],
   "source": [
    "marca_df = df[\"marca\"]\n",
    "marca_df.value_counts()"
   ]
  },
  {
   "cell_type": "markdown",
   "metadata": {},
   "source": [
    "Tenemos 72 marcas diferentes de coches. Vamos a hacer un countplot para ver cuántos vehículos tenemos de cada marca:"
   ]
  },
  {
   "cell_type": "code",
   "execution_count": 171,
   "metadata": {},
   "outputs": [
    {
     "data": {
      "image/png": "[encoded data removed]",
      "text/plain": [
       "<Figure size 800x600 with 1 Axes>"
      ]
     },
     "metadata": {},
     "output_type": "display_data"
    }
   ],
   "source": [
    "plt.figure(figsize = (8, 6))\n",
    "sns.countplot(y = marca_df, order=marca_df.value_counts(ascending=False).index, color=colors[0])\n",
    "\n",
    "plt.title(\"Cantidad de coches por marca\", fontsize=16)\n",
    "plt.xlabel(\"Cantidad de vehículos\", fontsize=14)\n",
    "plt.ylabel(\"Marca\", fontsize=14)\n",
    "\n",
    "plt.show()"
   ]
  },
  {
   "cell_type": "markdown",
   "metadata": {},
   "source": [
    "En el gráfico vemos cómo tenemos muchos coches registrados en la base de datos para cada una de las 10 marcas.\n",
    "\n",
    "Vamos a asignar un valor numérico a cada marca para poder utilizar dicha columna como feature del modelo:"
   ]
  },
  {
   "cell_type": "code",
   "execution_count": 172,
   "metadata": {},
   "outputs": [
    {
     "data": {
      "text/plain": [
       "marca\n",
       "9    4312\n",
       "1    4003\n",
       "4    3819\n",
       "0    3331\n",
       "6    3109\n",
       "3    2947\n",
       "7    2947\n",
       "5    2869\n",
       "2    2838\n",
       "8    2520\n",
       "Name: count, dtype: int64"
      ]
     },
     "execution_count": 172,
     "metadata": {},
     "output_type": "execute_result"
    }
   ],
   "source": [
    "# Asignamos cada marca a un valor numérico utilizando LabelEncoder:\n",
    "\n",
    "from sklearn.preprocessing import LabelEncoder\n",
    "\n",
    "encoder_marca = LabelEncoder()\n",
    "encoder_marca.fit(df[\"marca\"].sort_values(ascending=False))\n",
    "list(encoder_marca.classes_)\n",
    "df[\"marca\"] = encoder_marca.transform(df[\"marca\"])\n",
    "\n",
    "# Guardamos el LabelEncoder para poder utilizarlo después en otros archivos:\n",
    "\n",
    "with open('../include/utils/label_encoder_marca.pkl', 'wb') as archivo_salida1:\n",
    "    pickle.dump(encoder_marca, archivo_salida1)\n",
    "\n",
    "df[\"marca\"].value_counts()"
   ]
  },
  {
   "cell_type": "code",
   "execution_count": 173,
   "metadata": {},
   "outputs": [
    {
     "name": "stdout",
     "output_type": "stream",
     "text": [
      "['AUDI' 'BMW' 'CITROEN' 'FORD' 'MERCEDES-BENZ' 'OPEL' 'PEUGEOT' 'RENAULT'\n",
      " 'SEAT' 'VOLKSWAGEN']\n"
     ]
    }
   ],
   "source": [
    "# muestra las marcas originales\n",
    "\n",
    "print(encoder_marca.classes_) \n"
   ]
  },
  {
   "cell_type": "code",
   "execution_count": 174,
   "metadata": {},
   "outputs": [
    {
     "data": {
      "text/plain": [
       "['AUDI']"
      ]
     },
     "execution_count": 174,
     "metadata": {},
     "output_type": "execute_result"
    }
   ],
   "source": [
    "# Para visualizar el mapping de marca con LabelEncoder\n",
    "\n",
    "list(encoder_marca.inverse_transform([0]))"
   ]
  },
  {
   "cell_type": "code",
   "execution_count": 175,
   "metadata": {},
   "outputs": [
    {
     "name": "stdout",
     "output_type": "stream",
     "text": [
      "<class 'pandas.core.frame.DataFrame'>\n",
      "Index: 32695 entries, 0 to 40042\n",
      "Data columns (total 10 columns):\n",
      " #   Column          Non-Null Count  Dtype  \n",
      "---  ------          --------------  -----  \n",
      " 0   marca           32695 non-null  int32  \n",
      " 1   modelo          32695 non-null  object \n",
      " 2   precio          32695 non-null  float64\n",
      " 3   combustible     32695 non-null  int64  \n",
      " 4   anyo_vehiculo   32695 non-null  int32  \n",
      " 5   kilometraje     32695 non-null  int64  \n",
      " 6   potencia        32695 non-null  float64\n",
      " 7   num_puertas     32695 non-null  int64  \n",
      " 8   tipo_cambio     32695 non-null  int64  \n",
      " 9   origen_anuncio  32695 non-null  object \n",
      "dtypes: float64(2), int32(2), int64(4), object(2)\n",
      "memory usage: 2.5+ MB\n"
     ]
    }
   ],
   "source": [
    "df.info()"
   ]
  },
  {
   "cell_type": "markdown",
   "metadata": {},
   "source": [
    "#### Modelo:"
   ]
  },
  {
   "cell_type": "markdown",
   "metadata": {},
   "source": [
    "Vamos ahora con la columna ```\"modelo\"```:"
   ]
  },
  {
   "cell_type": "code",
   "execution_count": 176,
   "metadata": {},
   "outputs": [
    {
     "data": {
      "text/plain": [
       "modelo\n",
       "golf         1433\n",
       "serie 3      1036\n",
       "ibiza         872\n",
       "focus         850\n",
       "leon          849\n",
       "             ... \n",
       "lt              1\n",
       "s7              1\n",
       "gle coupe       1\n",
       "140d            1\n",
       "r21             1\n",
       "Name: count, Length: 367, dtype: int64"
      ]
     },
     "execution_count": 176,
     "metadata": {},
     "output_type": "execute_result"
    }
   ],
   "source": [
    "df[\"modelo\"].value_counts()"
   ]
  },
  {
   "cell_type": "markdown",
   "metadata": {},
   "source": [
    "Tenemos 373 modelos diferentes. En esta ocasión no realizamos el countplot ya que es información demasiado específica para visualizar.\n",
    "\n",
    "Aunque son muchos valores diferentes, por el momento, realizamos otro Label Encoder. Más adelante veremos si es una columna que aporte información al modelo."
   ]
  },
  {
   "cell_type": "code",
   "execution_count": 177,
   "metadata": {},
   "outputs": [
    {
     "data": {
      "text/plain": [
       "modelo\n",
       "194    1433\n",
       "305    1036\n",
       "214     872\n",
       "184     850\n",
       "237     849\n",
       "       ... \n",
       "238       1\n",
       "294       1\n",
       "193       1\n",
       "6         1\n",
       "275       1\n",
       "Name: count, Length: 367, dtype: int64"
      ]
     },
     "execution_count": 177,
     "metadata": {},
     "output_type": "execute_result"
    }
   ],
   "source": [
    "from sklearn.preprocessing import LabelEncoder\n",
    "\n",
    "encoder_modelo = LabelEncoder()\n",
    "encoder_modelo.fit(df[\"modelo\"].sort_values(ascending=False))\n",
    "list(encoder_modelo.classes_)\n",
    "df[\"modelo\"] = encoder_modelo.transform(df[\"modelo\"])\n",
    "\n",
    "# Guardamos el Encoding:\n",
    "\n",
    "with open('../include/utils/label_encoder_modelo.pkl', 'wb') as archivo_salida2:\n",
    "    pickle.dump(encoder_modelo, archivo_salida2)\n",
    "\n",
    "df[\"modelo\"].value_counts()"
   ]
  },
  {
   "cell_type": "code",
   "execution_count": 178,
   "metadata": {},
   "outputs": [
    {
     "data": {
      "text/plain": [
       "['golf sportsvan']"
      ]
     },
     "execution_count": 178,
     "metadata": {},
     "output_type": "execute_result"
    }
   ],
   "source": [
    "# Para visualizar el mapping de model con LabelEncoder\n",
    "\n",
    "list(encoder_modelo.inverse_transform([196]))"
   ]
  },
  {
   "cell_type": "code",
   "execution_count": 179,
   "metadata": {},
   "outputs": [
    {
     "name": "stdout",
     "output_type": "stream",
     "text": [
      "<class 'pandas.core.frame.DataFrame'>\n",
      "Index: 32695 entries, 0 to 40042\n",
      "Data columns (total 10 columns):\n",
      " #   Column          Non-Null Count  Dtype  \n",
      "---  ------          --------------  -----  \n",
      " 0   marca           32695 non-null  int32  \n",
      " 1   modelo          32695 non-null  int32  \n",
      " 2   precio          32695 non-null  float64\n",
      " 3   combustible     32695 non-null  int64  \n",
      " 4   anyo_vehiculo   32695 non-null  int32  \n",
      " 5   kilometraje     32695 non-null  int64  \n",
      " 6   potencia        32695 non-null  float64\n",
      " 7   num_puertas     32695 non-null  int64  \n",
      " 8   tipo_cambio     32695 non-null  int64  \n",
      " 9   origen_anuncio  32695 non-null  object \n",
      "dtypes: float64(2), int32(3), int64(4), object(1)\n",
      "memory usage: 2.4+ MB\n"
     ]
    }
   ],
   "source": [
    "df.info()"
   ]
  },
  {
   "cell_type": "markdown",
   "metadata": {},
   "source": [
    "#### Origen anuncio:"
   ]
  },
  {
   "cell_type": "markdown",
   "metadata": {},
   "source": [
    "Tan solo falta la columna ```\"origen_anuncio\"```, que vamos a eliminar ya que sólo la hemos mantenido para diferenciar el origen del anuncio, pero no la queremos utilizar en el modelo predictivo."
   ]
  },
  {
   "cell_type": "code",
   "execution_count": 180,
   "metadata": {},
   "outputs": [],
   "source": [
    "df.drop(columns=[\"origen_anuncio\"], inplace=True)"
   ]
  },
  {
   "cell_type": "code",
   "execution_count": 181,
   "metadata": {},
   "outputs": [
    {
     "name": "stdout",
     "output_type": "stream",
     "text": [
      "<class 'pandas.core.frame.DataFrame'>\n",
      "Index: 32695 entries, 0 to 40042\n",
      "Data columns (total 9 columns):\n",
      " #   Column         Non-Null Count  Dtype  \n",
      "---  ------         --------------  -----  \n",
      " 0   marca          32695 non-null  int32  \n",
      " 1   modelo         32695 non-null  int32  \n",
      " 2   precio         32695 non-null  float64\n",
      " 3   combustible    32695 non-null  int64  \n",
      " 4   anyo_vehiculo  32695 non-null  int32  \n",
      " 5   kilometraje    32695 non-null  int64  \n",
      " 6   potencia       32695 non-null  float64\n",
      " 7   num_puertas    32695 non-null  int64  \n",
      " 8   tipo_cambio    32695 non-null  int64  \n",
      "dtypes: float64(2), int32(3), int64(4)\n",
      "memory usage: 2.1 MB\n"
     ]
    }
   ],
   "source": [
    "df.info()"
   ]
  },
  {
   "cell_type": "markdown",
   "metadata": {},
   "source": [
    "Ya tenemos nuestro DataFrame con todas las columnas de tipo numérico, listas para ser utilizadas por el modelo (después de escalar, dividir los conjuntos de train y test, etc.).\n",
    "\n",
    "Guardamos el DataFrame."
   ]
  },
  {
   "cell_type": "code",
   "execution_count": 182,
   "metadata": {},
   "outputs": [],
   "source": [
    "# Guardamos el DataFrame transformado\n",
    "\n",
    "df.to_csv(\"../include/data/processed/df_pre_modelo.csv\")"
   ]
  },
  {
   "cell_type": "markdown",
   "metadata": {},
   "source": [
    "## 3. Modelos predictivos."
   ]
  },
  {
   "cell_type": "code",
   "execution_count": 183,
   "metadata": {},
   "outputs": [
    {
     "data": {
      "text/html": [
       "<div>\n",
       "<style scoped>\n",
       "    .dataframe tbody tr th:only-of-type {\n",
       "        vertical-align: middle;\n",
       "    }\n",
       "\n",
       "    .dataframe tbody tr th {\n",
       "        vertical-align: top;\n",
       "    }\n",
       "\n",
       "    .dataframe thead th {\n",
       "        text-align: right;\n",
       "    }\n",
       "</style>\n",
       "<table border=\"1\" class=\"dataframe\">\n",
       "  <thead>\n",
       "    <tr style=\"text-align: right;\">\n",
       "      <th></th>\n",
       "      <th>marca</th>\n",
       "      <th>modelo</th>\n",
       "      <th>precio</th>\n",
       "      <th>combustible</th>\n",
       "      <th>anyo_vehiculo</th>\n",
       "      <th>kilometraje</th>\n",
       "      <th>potencia</th>\n",
       "      <th>num_puertas</th>\n",
       "      <th>tipo_cambio</th>\n",
       "    </tr>\n",
       "  </thead>\n",
       "  <tbody>\n",
       "    <tr>\n",
       "      <th>0</th>\n",
       "      <td>2</td>\n",
       "      <td>100</td>\n",
       "      <td>8.987072</td>\n",
       "      <td>0</td>\n",
       "      <td>2014</td>\n",
       "      <td>195000</td>\n",
       "      <td>115.0</td>\n",
       "      <td>5</td>\n",
       "      <td>0</td>\n",
       "    </tr>\n",
       "    <tr>\n",
       "      <th>1</th>\n",
       "      <td>5</td>\n",
       "      <td>155</td>\n",
       "      <td>9.391411</td>\n",
       "      <td>1</td>\n",
       "      <td>2020</td>\n",
       "      <td>32325</td>\n",
       "      <td>100.0</td>\n",
       "      <td>5</td>\n",
       "      <td>0</td>\n",
       "    </tr>\n",
       "    <tr>\n",
       "      <th>2</th>\n",
       "      <td>5</td>\n",
       "      <td>155</td>\n",
       "      <td>9.615139</td>\n",
       "      <td>1</td>\n",
       "      <td>2022</td>\n",
       "      <td>63540</td>\n",
       "      <td>130.0</td>\n",
       "      <td>5</td>\n",
       "      <td>1</td>\n",
       "    </tr>\n",
       "    <tr>\n",
       "      <th>3</th>\n",
       "      <td>2</td>\n",
       "      <td>81</td>\n",
       "      <td>9.209340</td>\n",
       "      <td>1</td>\n",
       "      <td>2018</td>\n",
       "      <td>110000</td>\n",
       "      <td>110.0</td>\n",
       "      <td>5</td>\n",
       "      <td>0</td>\n",
       "    </tr>\n",
       "    <tr>\n",
       "      <th>4</th>\n",
       "      <td>0</td>\n",
       "      <td>55</td>\n",
       "      <td>10.280210</td>\n",
       "      <td>2</td>\n",
       "      <td>2020</td>\n",
       "      <td>82351</td>\n",
       "      <td>150.0</td>\n",
       "      <td>5</td>\n",
       "      <td>1</td>\n",
       "    </tr>\n",
       "    <tr>\n",
       "      <th>...</th>\n",
       "      <td>...</td>\n",
       "      <td>...</td>\n",
       "      <td>...</td>\n",
       "      <td>...</td>\n",
       "      <td>...</td>\n",
       "      <td>...</td>\n",
       "      <td>...</td>\n",
       "      <td>...</td>\n",
       "      <td>...</td>\n",
       "    </tr>\n",
       "    <tr>\n",
       "      <th>32690</th>\n",
       "      <td>8</td>\n",
       "      <td>237</td>\n",
       "      <td>9.830379</td>\n",
       "      <td>0</td>\n",
       "      <td>2019</td>\n",
       "      <td>21153</td>\n",
       "      <td>115.0</td>\n",
       "      <td>5</td>\n",
       "      <td>0</td>\n",
       "    </tr>\n",
       "    <tr>\n",
       "      <th>32691</th>\n",
       "      <td>7</td>\n",
       "      <td>235</td>\n",
       "      <td>9.581904</td>\n",
       "      <td>0</td>\n",
       "      <td>2015</td>\n",
       "      <td>68750</td>\n",
       "      <td>150.0</td>\n",
       "      <td>3</td>\n",
       "      <td>0</td>\n",
       "    </tr>\n",
       "    <tr>\n",
       "      <th>32692</th>\n",
       "      <td>6</td>\n",
       "      <td>5</td>\n",
       "      <td>9.305651</td>\n",
       "      <td>1</td>\n",
       "      <td>2019</td>\n",
       "      <td>21422</td>\n",
       "      <td>72.0</td>\n",
       "      <td>5</td>\n",
       "      <td>0</td>\n",
       "    </tr>\n",
       "    <tr>\n",
       "      <th>32693</th>\n",
       "      <td>0</td>\n",
       "      <td>285</td>\n",
       "      <td>10.776871</td>\n",
       "      <td>1</td>\n",
       "      <td>2013</td>\n",
       "      <td>47900</td>\n",
       "      <td>450.0</td>\n",
       "      <td>5</td>\n",
       "      <td>1</td>\n",
       "    </tr>\n",
       "    <tr>\n",
       "      <th>32694</th>\n",
       "      <td>2</td>\n",
       "      <td>92</td>\n",
       "      <td>7.933797</td>\n",
       "      <td>0</td>\n",
       "      <td>2006</td>\n",
       "      <td>106000</td>\n",
       "      <td>70.0</td>\n",
       "      <td>3</td>\n",
       "      <td>0</td>\n",
       "    </tr>\n",
       "  </tbody>\n",
       "</table>\n",
       "<p>32695 rows × 9 columns</p>\n",
       "</div>"
      ],
      "text/plain": [
       "       marca  modelo     precio  combustible  anyo_vehiculo  kilometraje  \\\n",
       "0          2     100   8.987072            0           2014       195000   \n",
       "1          5     155   9.391411            1           2020        32325   \n",
       "2          5     155   9.615139            1           2022        63540   \n",
       "3          2      81   9.209340            1           2018       110000   \n",
       "4          0      55  10.280210            2           2020        82351   \n",
       "...      ...     ...        ...          ...            ...          ...   \n",
       "32690      8     237   9.830379            0           2019        21153   \n",
       "32691      7     235   9.581904            0           2015        68750   \n",
       "32692      6       5   9.305651            1           2019        21422   \n",
       "32693      0     285  10.776871            1           2013        47900   \n",
       "32694      2      92   7.933797            0           2006       106000   \n",
       "\n",
       "       potencia  num_puertas  tipo_cambio  \n",
       "0         115.0            5            0  \n",
       "1         100.0            5            0  \n",
       "2         130.0            5            1  \n",
       "3         110.0            5            0  \n",
       "4         150.0            5            1  \n",
       "...         ...          ...          ...  \n",
       "32690     115.0            5            0  \n",
       "32691     150.0            3            0  \n",
       "32692      72.0            5            0  \n",
       "32693     450.0            5            1  \n",
       "32694      70.0            3            0  \n",
       "\n",
       "[32695 rows x 9 columns]"
      ]
     },
     "execution_count": 183,
     "metadata": {},
     "output_type": "execute_result"
    }
   ],
   "source": [
    "df = pd.read_csv(\"../include/data/processed/df_pre_modelo.csv\", index_col=0).reset_index(drop=True)\n",
    "df"
   ]
  },
  {
   "cell_type": "markdown",
   "metadata": {},
   "source": [
    "Ya tenemos 9 columnas numéricas con las que poder predecir la columna target (```\"precio\"```)."
   ]
  },
  {
   "cell_type": "markdown",
   "metadata": {},
   "source": [
    "Vamos ahora a dividir los datos de X (features) e y (target)."
   ]
  },
  {
   "cell_type": "code",
   "execution_count": 184,
   "metadata": {},
   "outputs": [],
   "source": [
    "X = df.drop(\"precio\", axis=1)\n",
    "y = df[\"precio\"]"
   ]
  },
  {
   "cell_type": "code",
   "execution_count": 185,
   "metadata": {},
   "outputs": [
    {
     "data": {
      "text/html": [
       "<div>\n",
       "<style scoped>\n",
       "    .dataframe tbody tr th:only-of-type {\n",
       "        vertical-align: middle;\n",
       "    }\n",
       "\n",
       "    .dataframe tbody tr th {\n",
       "        vertical-align: top;\n",
       "    }\n",
       "\n",
       "    .dataframe thead th {\n",
       "        text-align: right;\n",
       "    }\n",
       "</style>\n",
       "<table border=\"1\" class=\"dataframe\">\n",
       "  <thead>\n",
       "    <tr style=\"text-align: right;\">\n",
       "      <th></th>\n",
       "      <th>marca</th>\n",
       "      <th>modelo</th>\n",
       "      <th>combustible</th>\n",
       "      <th>anyo_vehiculo</th>\n",
       "      <th>kilometraje</th>\n",
       "      <th>potencia</th>\n",
       "      <th>num_puertas</th>\n",
       "      <th>tipo_cambio</th>\n",
       "    </tr>\n",
       "  </thead>\n",
       "  <tbody>\n",
       "    <tr>\n",
       "      <th>0</th>\n",
       "      <td>2</td>\n",
       "      <td>100</td>\n",
       "      <td>0</td>\n",
       "      <td>2014</td>\n",
       "      <td>195000</td>\n",
       "      <td>115.0</td>\n",
       "      <td>5</td>\n",
       "      <td>0</td>\n",
       "    </tr>\n",
       "    <tr>\n",
       "      <th>1</th>\n",
       "      <td>5</td>\n",
       "      <td>155</td>\n",
       "      <td>1</td>\n",
       "      <td>2020</td>\n",
       "      <td>32325</td>\n",
       "      <td>100.0</td>\n",
       "      <td>5</td>\n",
       "      <td>0</td>\n",
       "    </tr>\n",
       "    <tr>\n",
       "      <th>2</th>\n",
       "      <td>5</td>\n",
       "      <td>155</td>\n",
       "      <td>1</td>\n",
       "      <td>2022</td>\n",
       "      <td>63540</td>\n",
       "      <td>130.0</td>\n",
       "      <td>5</td>\n",
       "      <td>1</td>\n",
       "    </tr>\n",
       "    <tr>\n",
       "      <th>3</th>\n",
       "      <td>2</td>\n",
       "      <td>81</td>\n",
       "      <td>1</td>\n",
       "      <td>2018</td>\n",
       "      <td>110000</td>\n",
       "      <td>110.0</td>\n",
       "      <td>5</td>\n",
       "      <td>0</td>\n",
       "    </tr>\n",
       "    <tr>\n",
       "      <th>4</th>\n",
       "      <td>0</td>\n",
       "      <td>55</td>\n",
       "      <td>2</td>\n",
       "      <td>2020</td>\n",
       "      <td>82351</td>\n",
       "      <td>150.0</td>\n",
       "      <td>5</td>\n",
       "      <td>1</td>\n",
       "    </tr>\n",
       "    <tr>\n",
       "      <th>...</th>\n",
       "      <td>...</td>\n",
       "      <td>...</td>\n",
       "      <td>...</td>\n",
       "      <td>...</td>\n",
       "      <td>...</td>\n",
       "      <td>...</td>\n",
       "      <td>...</td>\n",
       "      <td>...</td>\n",
       "    </tr>\n",
       "    <tr>\n",
       "      <th>32690</th>\n",
       "      <td>8</td>\n",
       "      <td>237</td>\n",
       "      <td>0</td>\n",
       "      <td>2019</td>\n",
       "      <td>21153</td>\n",
       "      <td>115.0</td>\n",
       "      <td>5</td>\n",
       "      <td>0</td>\n",
       "    </tr>\n",
       "    <tr>\n",
       "      <th>32691</th>\n",
       "      <td>7</td>\n",
       "      <td>235</td>\n",
       "      <td>0</td>\n",
       "      <td>2015</td>\n",
       "      <td>68750</td>\n",
       "      <td>150.0</td>\n",
       "      <td>3</td>\n",
       "      <td>0</td>\n",
       "    </tr>\n",
       "    <tr>\n",
       "      <th>32692</th>\n",
       "      <td>6</td>\n",
       "      <td>5</td>\n",
       "      <td>1</td>\n",
       "      <td>2019</td>\n",
       "      <td>21422</td>\n",
       "      <td>72.0</td>\n",
       "      <td>5</td>\n",
       "      <td>0</td>\n",
       "    </tr>\n",
       "    <tr>\n",
       "      <th>32693</th>\n",
       "      <td>0</td>\n",
       "      <td>285</td>\n",
       "      <td>1</td>\n",
       "      <td>2013</td>\n",
       "      <td>47900</td>\n",
       "      <td>450.0</td>\n",
       "      <td>5</td>\n",
       "      <td>1</td>\n",
       "    </tr>\n",
       "    <tr>\n",
       "      <th>32694</th>\n",
       "      <td>2</td>\n",
       "      <td>92</td>\n",
       "      <td>0</td>\n",
       "      <td>2006</td>\n",
       "      <td>106000</td>\n",
       "      <td>70.0</td>\n",
       "      <td>3</td>\n",
       "      <td>0</td>\n",
       "    </tr>\n",
       "  </tbody>\n",
       "</table>\n",
       "<p>32695 rows × 8 columns</p>\n",
       "</div>"
      ],
      "text/plain": [
       "       marca  modelo  combustible  anyo_vehiculo  kilometraje  potencia  \\\n",
       "0          2     100            0           2014       195000     115.0   \n",
       "1          5     155            1           2020        32325     100.0   \n",
       "2          5     155            1           2022        63540     130.0   \n",
       "3          2      81            1           2018       110000     110.0   \n",
       "4          0      55            2           2020        82351     150.0   \n",
       "...      ...     ...          ...            ...          ...       ...   \n",
       "32690      8     237            0           2019        21153     115.0   \n",
       "32691      7     235            0           2015        68750     150.0   \n",
       "32692      6       5            1           2019        21422      72.0   \n",
       "32693      0     285            1           2013        47900     450.0   \n",
       "32694      2      92            0           2006       106000      70.0   \n",
       "\n",
       "       num_puertas  tipo_cambio  \n",
       "0                5            0  \n",
       "1                5            0  \n",
       "2                5            1  \n",
       "3                5            0  \n",
       "4                5            1  \n",
       "...            ...          ...  \n",
       "32690            5            0  \n",
       "32691            3            0  \n",
       "32692            5            0  \n",
       "32693            5            1  \n",
       "32694            3            0  \n",
       "\n",
       "[32695 rows x 8 columns]"
      ]
     },
     "execution_count": 185,
     "metadata": {},
     "output_type": "execute_result"
    }
   ],
   "source": [
    "X"
   ]
  },
  {
   "cell_type": "markdown",
   "metadata": {},
   "source": [
    "Vamos a realizar un heatmap de las features de nuestro modelo, para ver cómo de correlacionadas están entre ellas:"
   ]
  },
  {
   "cell_type": "code",
   "execution_count": 186,
   "metadata": {},
   "outputs": [
    {
     "data": {
      "image/png": "[encoded data removed]",
      "text/plain": [
       "<Figure size 800x600 with 2 Axes>"
      ]
     },
     "metadata": {},
     "output_type": "display_data"
    }
   ],
   "source": [
    "matriz_corr = X.corr(numeric_only=True).round(decimals=3)\n",
    "\n",
    "plt.figure(figsize=(8, 6))\n",
    "\n",
    "sns.heatmap(matriz_corr, annot=True, cmap='coolwarm', vmin=-1, vmax=1)\n",
    "\n",
    "plt.show()"
   ]
  },
  {
   "cell_type": "markdown",
   "metadata": {},
   "source": [
    "Vemos que la mayor correlación se da entre los kilómetros y el año del vehículo, y es negativa. Esto es lógico, ya que cuanto mayor sea el año (y más nuevo el coche), menor suele ser el número de kilómetros realizados.\n",
    "\n",
    "Además de esto, cabe mencionar que ninguna de las correlaciones es lo suficientemente elevada como para plantearse prescindir de alguna columna."
   ]
  },
  {
   "cell_type": "markdown",
   "metadata": {},
   "source": [
    "Separamos los datos de train y test:"
   ]
  },
  {
   "cell_type": "code",
   "execution_count": 187,
   "metadata": {},
   "outputs": [
    {
     "name": "stdout",
     "output_type": "stream",
     "text": [
      "(26156, 8)\n",
      "(6539, 8)\n",
      "(26156,)\n",
      "(6539,)\n"
     ]
    }
   ],
   "source": [
    "from sklearn.model_selection import train_test_split\n",
    "\n",
    "X_train, X_test, y_train, y_test = train_test_split(X, y, test_size=0.2, random_state=42)\n",
    "\n",
    "print(X_train.shape)\n",
    "print(X_test.shape)\n",
    "print(y_train.shape)\n",
    "print(y_test.shape)"
   ]
  },
  {
   "cell_type": "markdown",
   "metadata": {},
   "source": [
    "Vamos a escalar los datos de X entre 0 y 1:"
   ]
  },
  {
   "cell_type": "code",
   "execution_count": 188,
   "metadata": {},
   "outputs": [],
   "source": [
    "from sklearn.preprocessing import MinMaxScaler\n",
    "\n",
    "scaler = MinMaxScaler()\n",
    "\n",
    "scaler.fit(X_train)\n",
    "\n",
    "# Guardamos el Scaler\n",
    "\n",
    "with open('../include/utils/scaler.pkl', 'wb') as archivo_salida4:\n",
    "    pickle.dump(scaler, archivo_salida4)\n",
    "\n",
    "X_train = scaler.transform(X_train)\n",
    "X_test = scaler.transform(X_test)"
   ]
  },
  {
   "cell_type": "code",
   "execution_count": 189,
   "metadata": {},
   "outputs": [
    {
     "data": {
      "text/plain": [
       "array([[0.        , 0.15027322, 0.        , ..., 0.21006944, 0.        ,\n",
       "        0.        ],\n",
       "       [0.        , 0.16393443, 0.        , ..., 0.34027778, 1.        ,\n",
       "        1.        ],\n",
       "       [0.44444444, 0.35245902, 0.        , ..., 0.18576389, 1.        ,\n",
       "        1.        ],\n",
       "       ...,\n",
       "       [1.        , 0.89344262, 0.        , ..., 0.24479167, 1.        ,\n",
       "        0.        ],\n",
       "       [0.77777778, 0.67486339, 0.16666667, ..., 0.14930556, 1.        ,\n",
       "        0.        ],\n",
       "       [0.11111111, 0.95355191, 0.        , ..., 0.21006944, 1.        ,\n",
       "        0.        ]])"
      ]
     },
     "execution_count": 189,
     "metadata": {},
     "output_type": "execute_result"
    }
   ],
   "source": [
    "X_train"
   ]
  },
  {
   "cell_type": "markdown",
   "metadata": {},
   "source": [
    "Comenzamos la seleción del modelo de regresión. Para ello, probamos varias parametrizaciones de modelos utilizando GridSearchCV."
   ]
  },
  {
   "cell_type": "code",
   "execution_count": 78,
   "metadata": {},
   "outputs": [],
   "source": [
    "# Importamos los modelos de regresión que utilizaremos\n",
    "\n",
    "from sklearn.linear_model import LinearRegression\n",
    "from sklearn.preprocessing import PolynomialFeatures\n",
    "\n",
    "from sklearn.ensemble import RandomForestRegressor\n",
    "from sklearn.ensemble import AdaBoostRegressor\n",
    "from sklearn.ensemble import GradientBoostingRegressor\n",
    "\n",
    "import xgboost\n",
    "\n",
    "from sklearn.ensemble import VotingRegressor\n",
    "\n",
    "from sklearn.model_selection import GridSearchCV\n",
    "\n",
    "from sklearn import metrics"
   ]
  },
  {
   "cell_type": "code",
   "execution_count": 66,
   "metadata": {},
   "outputs": [],
   "source": [
    "# LinearRegression??"
   ]
  },
  {
   "cell_type": "markdown",
   "metadata": {},
   "source": [
    "### 3.1. Linear Regression."
   ]
  },
  {
   "cell_type": "code",
   "execution_count": 67,
   "metadata": {},
   "outputs": [
    {
     "name": "stdout",
     "output_type": "stream",
     "text": [
      "MSE: 0.11461013111805038\n",
      "RMSE: 0.33854118083041296\n",
      "MAE: 0.23870741331869805\n",
      "MAPE: 0.0261976080078374\n",
      "r2 score: 0.8350559570096232\n"
     ]
    }
   ],
   "source": [
    "# Linear Regression\n",
    "\n",
    "param = {}\n",
    "\n",
    "gs_lin_reg = GridSearchCV(estimator=LinearRegression(), param_grid=param, cv=5, scoring=\"neg_mean_squared_error\")\n",
    "\n",
    "gs_lin_reg.fit(X_train, y_train)\n",
    "\n",
    "y_pred = gs_lin_reg.predict(X_test)\n",
    "\n",
    "print(f\"MSE: {metrics.mean_squared_error(y_test, y_pred)}\")\n",
    "print(f\"RMSE: {np.sqrt(metrics.mean_squared_error(y_test, y_pred))}\")\n",
    "print(f\"MAE: {metrics.mean_absolute_error(y_test, y_pred)}\")\n",
    "print(f\"MAPE: {metrics.mean_absolute_percentage_error(y_test, y_pred)}\")\n",
    "\n",
    "print(f\"r2 score: {metrics.r2_score(y_test, y_pred)}\")"
   ]
  },
  {
   "cell_type": "markdown",
   "metadata": {},
   "source": [
    "### 3.2. Polynomial Regression."
   ]
  },
  {
   "cell_type": "code",
   "execution_count": 70,
   "metadata": {},
   "outputs": [
    {
     "name": "stdout",
     "output_type": "stream",
     "text": [
      "Poly Degree 1:\n",
      "MSE: 0.11461013111804957\n",
      "RMSE: 0.3385411808304118\n",
      "MAE: 0.23870741331869574\n",
      "MAPE: 0.026197608007837523\n",
      "r2 score: 0.8350559570096244\n",
      " \n",
      "Poly Degree 2:\n",
      "MSE: 0.08969448465760148\n",
      "RMSE: 0.2994903748997645\n",
      "MAE: 0.20880008952004817\n",
      "MAPE: 0.02296056967485811\n",
      "r2 score: 0.8709139341431829\n",
      " \n",
      "Poly Degree 3:\n",
      "MSE: 0.07531957401464005\n",
      "RMSE: 0.2744441182001175\n",
      "MAE: 0.1849798011154453\n",
      "MAPE: 0.02045669961142007\n",
      "r2 score: 0.891601947113286\n",
      " \n",
      "Poly Degree 4:\n",
      "MSE: 0.07132395700256919\n",
      "RMSE: 0.26706545452860275\n",
      "MAE: 0.17608620688370796\n",
      "MAPE: 0.019463395613474915\n",
      "r2 score: 0.8973523394894474\n",
      " \n",
      "Poly Degree 5:\n",
      "MSE: 0.0712422159219938\n",
      "RMSE: 0.2669123749884853\n",
      "MAE: 0.17137233242708003\n",
      "MAPE: 0.018930735957661968\n",
      "r2 score: 0.897469979214461\n",
      " \n"
     ]
    }
   ],
   "source": [
    "# Polynomial Regression\n",
    "\n",
    "param = {}\n",
    "\n",
    "for degree in range(1, 6):\n",
    "\n",
    "    poly_feat = PolynomialFeatures(degree = degree)\n",
    "\n",
    "    poly_feat.fit(X_train)\n",
    "\n",
    "    X_train_poly = poly_feat.transform(X_train)\n",
    "    X_test_poly = poly_feat.transform(X_test)\n",
    "\n",
    "\n",
    "    gs_poly = GridSearchCV(estimator=LinearRegression(), param_grid=param, cv=5, scoring=\"neg_mean_squared_error\")\n",
    "\n",
    "    gs_poly.fit(X_train_poly, y_train)\n",
    "\n",
    "    y_pred = gs_poly.predict(X_test_poly)\n",
    "\n",
    "    print(f\"Poly Degree {degree}:\")\n",
    "\n",
    "    print(f\"MSE: {metrics.mean_squared_error(y_test, y_pred)}\")\n",
    "    print(f\"RMSE: {np.sqrt(metrics.mean_squared_error(y_test, y_pred))}\")\n",
    "    print(f\"MAE: {metrics.mean_absolute_error(y_test, y_pred)}\")\n",
    "    print(f\"MAPE: {metrics.mean_absolute_percentage_error(y_test, y_pred)}\")\n",
    "\n",
    "    print(f\"r2 score: {metrics.r2_score(y_test, y_pred)}\")\n",
    "    print(\" \")"
   ]
  },
  {
   "cell_type": "code",
   "execution_count": 71,
   "metadata": {},
   "outputs": [
    {
     "name": "stdout",
     "output_type": "stream",
     "text": [
      "Poly Degree 5:\n",
      "MSE: 0.0712422159219938\n",
      "RMSE: 0.2669123749884853\n",
      "MAE: 0.17137233242708003\n",
      "MAPE: 0.018930735957661968\n",
      "r2 score: 0.897469979214461\n"
     ]
    }
   ],
   "source": [
    "# El mejor es el de grado 5:\n",
    "\n",
    "degree = 5\n",
    "poly_feat = PolynomialFeatures(degree = degree)\n",
    "\n",
    "poly_feat.fit(X_train)\n",
    "\n",
    "X_train_poly = poly_feat.transform(X_train)\n",
    "X_test_poly = poly_feat.transform(X_test)\n",
    "\n",
    "\n",
    "best_poly_model = GridSearchCV(estimator=LinearRegression(), param_grid=param, cv=5, scoring=\"neg_mean_squared_error\")\n",
    "\n",
    "best_poly_model.fit(X_train_poly, y_train)\n",
    "\n",
    "y_pred = best_poly_model.predict(X_test_poly)\n",
    "\n",
    "print(f\"Poly Degree {degree}:\")\n",
    "\n",
    "print(f\"MSE: {metrics.mean_squared_error(y_test, y_pred)}\")\n",
    "print(f\"RMSE: {np.sqrt(metrics.mean_squared_error(y_test, y_pred))}\")\n",
    "print(f\"MAE: {metrics.mean_absolute_error(y_test, y_pred)}\")\n",
    "print(f\"MAPE: {metrics.mean_absolute_percentage_error(y_test, y_pred)}\")\n",
    "\n",
    "print(f\"r2 score: {metrics.r2_score(y_test, y_pred)}\")"
   ]
  },
  {
   "cell_type": "markdown",
   "metadata": {},
   "source": [
    "### 3.3. RandomForest."
   ]
  },
  {
   "cell_type": "code",
   "execution_count": 79,
   "metadata": {},
   "outputs": [
    {
     "name": "stdout",
     "output_type": "stream",
     "text": [
      "MSE: 0.04659971668038285\n",
      "RMSE: 0.2158696752218404\n",
      "MAE: 0.13772853732392737\n",
      "MAPE: 0.015411189923661412\n",
      "r2 score: 0.9266683436310879\n"
     ]
    }
   ],
   "source": [
    "# RandomForest\n",
    "\n",
    "param = {\"n_estimators\":[50, 100, 300], \"max_depth\":[3, 5, 9, 15, 33], \"n_jobs\":[-1], \"random_state\":[42]}\n",
    "\n",
    "gs_rf = GridSearchCV(estimator=RandomForestRegressor(), param_grid=param, cv=5, scoring=\"neg_mean_squared_error\")\n",
    "\n",
    "gs_rf.fit(X_train, y_train)\n",
    "\n",
    "y_pred = gs_rf.predict(X_test)\n",
    "\n",
    "print(f\"MSE: {metrics.mean_squared_error(y_test, y_pred)}\")\n",
    "print(f\"RMSE: {np.sqrt(metrics.mean_squared_error(y_test, y_pred))}\")\n",
    "print(f\"MAE: {metrics.mean_absolute_error(y_test, y_pred)}\")\n",
    "print(f\"MAPE: {metrics.mean_absolute_percentage_error(y_test, y_pred)}\")\n",
    "\n",
    "print(f\"r2 score: {metrics.r2_score(y_test, y_pred)}\")"
   ]
  },
  {
   "cell_type": "code",
   "execution_count": 80,
   "metadata": {},
   "outputs": [
    {
     "data": {
      "text/plain": [
       "{'max_depth': 33, 'n_estimators': 300, 'n_jobs': -1, 'random_state': 42}"
      ]
     },
     "execution_count": 80,
     "metadata": {},
     "output_type": "execute_result"
    }
   ],
   "source": [
    "gs_rf.best_params_"
   ]
  },
  {
   "cell_type": "markdown",
   "metadata": {},
   "source": [
    "### 3.4. ADA Boost Regression."
   ]
  },
  {
   "cell_type": "code",
   "execution_count": 74,
   "metadata": {},
   "outputs": [
    {
     "name": "stdout",
     "output_type": "stream",
     "text": [
      "MSE: 0.12913964574632744\n",
      "RMSE: 0.3593600502926382\n",
      "MAE: 0.2685003649807258\n",
      "MAPE: 0.029238076979689855\n",
      "r2 score: 0.8141454418387843\n"
     ]
    }
   ],
   "source": [
    "# ADA\n",
    "\n",
    "param = {\"n_estimators\":[50, 100, 300], \"learning_rate\":np.arange(0.1, 1.1, 0.1), \"random_state\":[42]}\n",
    "\n",
    "gs_ada = GridSearchCV(estimator=AdaBoostRegressor(), param_grid=param, cv=5, scoring=\"neg_mean_squared_error\")\n",
    "\n",
    "gs_ada.fit(X_train, y_train)\n",
    "\n",
    "y_pred = gs_ada.predict(X_test)\n",
    "\n",
    "print(f\"MSE: {metrics.mean_squared_error(y_test, y_pred)}\")\n",
    "print(f\"RMSE: {np.sqrt(metrics.mean_squared_error(y_test, y_pred))}\")\n",
    "print(f\"MAE: {metrics.mean_absolute_error(y_test, y_pred)}\")\n",
    "print(f\"MAPE: {metrics.mean_absolute_percentage_error(y_test, y_pred)}\")\n",
    "\n",
    "print(f\"r2 score: {metrics.r2_score(y_test, y_pred)}\")"
   ]
  },
  {
   "cell_type": "code",
   "execution_count": 75,
   "metadata": {},
   "outputs": [
    {
     "data": {
      "text/plain": [
       "-0.1272252746038315"
      ]
     },
     "execution_count": 75,
     "metadata": {},
     "output_type": "execute_result"
    }
   ],
   "source": [
    "gs_ada.best_score_"
   ]
  },
  {
   "cell_type": "code",
   "execution_count": 76,
   "metadata": {},
   "outputs": [
    {
     "data": {
      "text/plain": [
       "{'learning_rate': 0.4, 'n_estimators': 100, 'random_state': 42}"
      ]
     },
     "execution_count": 76,
     "metadata": {},
     "output_type": "execute_result"
    }
   ],
   "source": [
    "gs_ada.best_params_"
   ]
  },
  {
   "cell_type": "markdown",
   "metadata": {},
   "source": [
    "### 3.5. Gradient Boosting Regression."
   ]
  },
  {
   "cell_type": "code",
   "execution_count": 77,
   "metadata": {},
   "outputs": [
    {
     "name": "stdout",
     "output_type": "stream",
     "text": [
      "MSE: 0.04443449167430775\n",
      "RMSE: 0.210794904289235\n",
      "MAE: 0.14072856066304698\n",
      "MAPE: 0.015624269353422865\n",
      "r2 score: 0.9360509875219203\n"
     ]
    }
   ],
   "source": [
    "# Gradient Boost\n",
    "\n",
    "param = {\"n_estimators\":[50, 100, 300], \"learning_rate\":np.arange(0.1, 1.1, 0.1), \"random_state\":[42]}\n",
    "\n",
    "gs_gb = GridSearchCV(estimator=GradientBoostingRegressor(), param_grid=param, cv=5, scoring=\"neg_mean_squared_error\")\n",
    "\n",
    "gs_gb.fit(X_train, y_train)\n",
    "\n",
    "y_pred = gs_gb.predict(X_test)\n",
    "\n",
    "print(f\"MSE: {metrics.mean_squared_error(y_test, y_pred)}\")\n",
    "print(f\"RMSE: {np.sqrt(metrics.mean_squared_error(y_test, y_pred))}\")\n",
    "print(f\"MAE: {metrics.mean_absolute_error(y_test, y_pred)}\")\n",
    "print(f\"MAPE: {metrics.mean_absolute_percentage_error(y_test, y_pred)}\")\n",
    "\n",
    "print(f\"r2 score: {metrics.r2_score(y_test, y_pred)}\")"
   ]
  },
  {
   "cell_type": "markdown",
   "metadata": {},
   "source": [
    "### 3.6. XGradient Boosting Regression."
   ]
  },
  {
   "cell_type": "code",
   "execution_count": 81,
   "metadata": {},
   "outputs": [
    {
     "name": "stdout",
     "output_type": "stream",
     "text": [
      "MSE: 0.04046446481334211\n",
      "RMSE: 0.20115781071920152\n",
      "MAE: 0.13326713803530943\n",
      "MAPE: 0.01487794831453516\n",
      "r2 score: 0.9363230843398432\n"
     ]
    }
   ],
   "source": [
    "# XG Boost\n",
    "\n",
    "param = {}\n",
    "\n",
    "gs_xgb = GridSearchCV(estimator=xgboost.XGBRegressor(), param_grid=param, cv=5, scoring=\"neg_mean_squared_error\")\n",
    "\n",
    "gs_xgb.fit(X_train, y_train)\n",
    "\n",
    "y_pred = gs_xgb.predict(X_test)\n",
    "\n",
    "print(f\"MSE: {metrics.mean_squared_error(y_test, y_pred)}\")\n",
    "print(f\"RMSE: {np.sqrt(metrics.mean_squared_error(y_test, y_pred))}\")\n",
    "print(f\"MAE: {metrics.mean_absolute_error(y_test, y_pred)}\")\n",
    "print(f\"MAPE: {metrics.mean_absolute_percentage_error(y_test, y_pred)}\")\n",
    "\n",
    "print(f\"r2 score: {metrics.r2_score(y_test, y_pred)}\")"
   ]
  },
  {
   "cell_type": "markdown",
   "metadata": {},
   "source": [
    "### 3.7. Voting."
   ]
  },
  {
   "cell_type": "code",
   "execution_count": 79,
   "metadata": {},
   "outputs": [
    {
     "name": "stdout",
     "output_type": "stream",
     "text": [
      "MSE: 0.053497701952873\n",
      "RMSE: 0.23129570240900066\n",
      "MAE: 0.15609829313481452\n",
      "MAPE: 0.017271840387161876\n",
      "r2 score: 0.9230074412731275\n"
     ]
    }
   ],
   "source": [
    "# Voting\n",
    "\n",
    "# param = {\"estimators\":[gs_lin_reg.best_estimator_, best_poly_model.best_estimator_, gs_rf.best_estimator_, gs_ada.best_estimator_, gs_gb.best_estimator_, gs_xgb.best_estimator_],\n",
    "#          \"n_jobs\":[-1]}\n",
    "\n",
    "gs_voting = VotingRegressor(estimators=[(\"lin_reg\", gs_lin_reg.best_estimator_), (\"rf\", gs_rf.best_estimator_), (\"ada\", gs_ada.best_estimator_), (\"gb\", gs_gb.best_estimator_), (\"xgb\", gs_xgb.best_estimator_)],\n",
    "                            n_jobs=-1,)\n",
    "\n",
    "gs_voting.fit(X_train, y_train)\n",
    "\n",
    "y_pred = gs_voting.predict(X_test)\n",
    "\n",
    "print(f\"MSE: {metrics.mean_squared_error(y_test, y_pred)}\")\n",
    "print(f\"RMSE: {np.sqrt(metrics.mean_squared_error(y_test, y_pred))}\")\n",
    "print(f\"MAE: {metrics.mean_absolute_error(y_test, y_pred)}\")\n",
    "print(f\"MAPE: {metrics.mean_absolute_percentage_error(y_test, y_pred)}\")\n",
    "\n",
    "print(f\"r2 score: {metrics.r2_score(y_test, y_pred)}\")"
   ]
  },
  {
   "cell_type": "markdown",
   "metadata": {},
   "source": [
    "El Voting da peor. El modelo con mejores métricas es el Gradient Boosting Regressor, aunque el XGradient Boosting y el RandomForest también estaba cerca. "
   ]
  },
  {
   "cell_type": "markdown",
   "metadata": {},
   "source": [
    "## 4. Selección y análisis del mejor modelo."
   ]
  },
  {
   "cell_type": "markdown",
   "metadata": {},
   "source": [
    "### 4.1. Selección de modelo:"
   ]
  },
  {
   "cell_type": "markdown",
   "metadata": {},
   "source": [
    "Vamos a comparar en una tabla el resultado obtenido para el MSE de test en cada modelo, ya que es la métrica que estamos utilizando, con el fin de elegir el mejor:"
   ]
  },
  {
   "cell_type": "code",
   "execution_count": 2,
   "metadata": {},
   "outputs": [],
   "source": [
    "import pandas as pd"
   ]
  },
  {
   "cell_type": "code",
   "execution_count": null,
   "metadata": {},
   "outputs": [
    {
     "data": {
      "text/html": [
       "<div>\n",
       "<style scoped>\n",
       "    .dataframe tbody tr th:only-of-type {\n",
       "        vertical-align: middle;\n",
       "    }\n",
       "\n",
       "    .dataframe tbody tr th {\n",
       "        vertical-align: top;\n",
       "    }\n",
       "\n",
       "    .dataframe thead th {\n",
       "        text-align: right;\n",
       "    }\n",
       "</style>\n",
       "<table border=\"1\" class=\"dataframe\">\n",
       "  <thead>\n",
       "    <tr style=\"text-align: right;\">\n",
       "      <th></th>\n",
       "      <th>Modelo</th>\n",
       "      <th>RMSE</th>\n",
       "      <th>MAE</th>\n",
       "      <th>r2 score</th>\n",
       "    </tr>\n",
       "  </thead>\n",
       "  <tbody>\n",
       "    <tr>\n",
       "      <th>0</th>\n",
       "      <td>XG Boost</td>\n",
       "      <td>0.2135</td>\n",
       "      <td>0.1376</td>\n",
       "      <td>0.9344</td>\n",
       "    </tr>\n",
       "    <tr>\n",
       "      <th>1</th>\n",
       "      <td>Gradient Boost</td>\n",
       "      <td>0.2108</td>\n",
       "      <td>0.1407</td>\n",
       "      <td>0.9361</td>\n",
       "    </tr>\n",
       "    <tr>\n",
       "      <th>2</th>\n",
       "      <td>RandomForest</td>\n",
       "      <td>0.2290</td>\n",
       "      <td>0.1432</td>\n",
       "      <td>0.9245</td>\n",
       "    </tr>\n",
       "    <tr>\n",
       "      <th>3</th>\n",
       "      <td>Voting</td>\n",
       "      <td>0.2313</td>\n",
       "      <td>0.1561</td>\n",
       "      <td>0.9230</td>\n",
       "    </tr>\n",
       "    <tr>\n",
       "      <th>4</th>\n",
       "      <td>Polynomial Regression (grado 5)</td>\n",
       "      <td>0.2669</td>\n",
       "      <td>0.1714</td>\n",
       "      <td>0.8975</td>\n",
       "    </tr>\n",
       "    <tr>\n",
       "      <th>5</th>\n",
       "      <td>Linear Regression</td>\n",
       "      <td>0.3385</td>\n",
       "      <td>0.2387</td>\n",
       "      <td>0.8351</td>\n",
       "    </tr>\n",
       "    <tr>\n",
       "      <th>6</th>\n",
       "      <td>ADA Boost</td>\n",
       "      <td>0.3594</td>\n",
       "      <td>0.2685</td>\n",
       "      <td>0.8142</td>\n",
       "    </tr>\n",
       "  </tbody>\n",
       "</table>\n",
       "</div>"
      ],
      "text/plain": [
       "                            Modelo    RMSE     MAE  r2 score\n",
       "0                         XG Boost  0.2135  0.1376    0.9344\n",
       "1                   Gradient Boost  0.2108  0.1407    0.9361\n",
       "2                     RandomForest  0.2290  0.1432    0.9245\n",
       "3                           Voting  0.2313  0.1561    0.9230\n",
       "4  Polynomial Regression (grado 5)  0.2669  0.1714    0.8975\n",
       "5                Linear Regression  0.3385  0.2387    0.8351\n",
       "6                        ADA Boost  0.3594  0.2685    0.8142"
      ]
     },
     "execution_count": 4,
     "metadata": {},
     "output_type": "execute_result"
    }
   ],
   "source": [
    "df_comp_modelos_log = pd.DataFrame({\"Modelo\":[\"Linear Regression\", \"Polynomial Regression (grado 5)\", \"RandomForest\", \"ADA Boost\", \"Gradient Boost\", \"XG Boost\", \"Voting\"],\n",
    "                                \"MAE\":[0.2387, 0.1714, 0.1432, 0.2685, 0.1407, 0.1376, 0.1561],\n",
    "                                \"RMSE\":[0.3385, 0.2669, 0.2290, 0.3594, 0.2108, 0.2135, 0.2313],\n",
    "                                \"r2 score\":[0.8351, 0.8975, 0.9245, 0.8142, 0.9361, 0.9344, 0.9230]})\n",
    "\n",
    "df_comp_modelos_log = df_comp_modelos_log.sort_values(\"MAE\", ascending=True).reset_index(drop=True)\n",
    "df_comp_modelos_log"
   ]
  },
  {
   "cell_type": "markdown",
   "metadata": {},
   "source": [
    "Vemos que el mejor modelo es el Gradient Boost, aunque está muy cerca el XGBoost. Vamos a quedarnos con el XGBoost, ya que su tiempo de entrenamiento es mucho menor y los resultados muy similares, y también con el RandomForest, ya que su funcionamiento es distinto y sus resultados están bastante cerca, por lo que puede sernos útil para comparar.\n",
    "\n",
    "Cabe destacar que el MAE representado en la tabla anterior no se corresponde con el error medio en la predicción del modelo sobre el precio del vehículo, ya que hemos aplicado una transformación logarítmica a este precio. Más adelante veremos el MAE y el MSE reales del mejor modelo, una vez aplicada la transformación inversa. "
   ]
  },
  {
   "cell_type": "markdown",
   "metadata": {},
   "source": [
    "Vamos a ver si podemos mejorar algo de estos dos modelos mirando la importancia de las columnas (features) y realizando alguna modificación. Comenzamos con el RandomForest:"
   ]
  },
  {
   "cell_type": "code",
   "execution_count": 82,
   "metadata": {},
   "outputs": [
    {
     "data": {
      "text/plain": [
       "array([0.02738064, 0.03375813, 0.00549048, 0.57843518, 0.08085046,\n",
       "       0.26449185, 0.00348913, 0.00610414])"
      ]
     },
     "execution_count": 82,
     "metadata": {},
     "output_type": "execute_result"
    }
   ],
   "source": [
    "gs_rf.best_estimator_.feature_importances_"
   ]
  },
  {
   "cell_type": "markdown",
   "metadata": {},
   "source": [
    "Realizamos un dataframe con la importancia de las cada columna en el modelo RandomForest:"
   ]
  },
  {
   "cell_type": "code",
   "execution_count": 83,
   "metadata": {},
   "outputs": [
    {
     "data": {
      "text/html": [
       "<div>\n",
       "<style scoped>\n",
       "    .dataframe tbody tr th:only-of-type {\n",
       "        vertical-align: middle;\n",
       "    }\n",
       "\n",
       "    .dataframe tbody tr th {\n",
       "        vertical-align: top;\n",
       "    }\n",
       "\n",
       "    .dataframe thead th {\n",
       "        text-align: right;\n",
       "    }\n",
       "</style>\n",
       "<table border=\"1\" class=\"dataframe\">\n",
       "  <thead>\n",
       "    <tr style=\"text-align: right;\">\n",
       "      <th></th>\n",
       "      <th>Feature Importance</th>\n",
       "    </tr>\n",
       "  </thead>\n",
       "  <tbody>\n",
       "    <tr>\n",
       "      <th>anyo_vehiculo</th>\n",
       "      <td>0.578435</td>\n",
       "    </tr>\n",
       "    <tr>\n",
       "      <th>potencia</th>\n",
       "      <td>0.264492</td>\n",
       "    </tr>\n",
       "    <tr>\n",
       "      <th>kilometraje</th>\n",
       "      <td>0.080850</td>\n",
       "    </tr>\n",
       "    <tr>\n",
       "      <th>modelo</th>\n",
       "      <td>0.033758</td>\n",
       "    </tr>\n",
       "    <tr>\n",
       "      <th>marca</th>\n",
       "      <td>0.027381</td>\n",
       "    </tr>\n",
       "    <tr>\n",
       "      <th>tipo_cambio</th>\n",
       "      <td>0.006104</td>\n",
       "    </tr>\n",
       "    <tr>\n",
       "      <th>combustible</th>\n",
       "      <td>0.005490</td>\n",
       "    </tr>\n",
       "    <tr>\n",
       "      <th>num_puertas</th>\n",
       "      <td>0.003489</td>\n",
       "    </tr>\n",
       "  </tbody>\n",
       "</table>\n",
       "</div>"
      ],
      "text/plain": [
       "               Feature Importance\n",
       "anyo_vehiculo            0.578435\n",
       "potencia                 0.264492\n",
       "kilometraje              0.080850\n",
       "modelo                   0.033758\n",
       "marca                    0.027381\n",
       "tipo_cambio              0.006104\n",
       "combustible              0.005490\n",
       "num_puertas              0.003489"
      ]
     },
     "execution_count": 83,
     "metadata": {},
     "output_type": "execute_result"
    }
   ],
   "source": [
    "df_feat_imp_rf = pd.DataFrame(gs_rf.best_estimator_.feature_importances_, index=X.columns)\n",
    "df_feat_imp_rf = df_feat_imp_rf.rename(columns={0:\"Feature Importance\"}).sort_values(\"Feature Importance\", ascending=False)\n",
    "df_feat_imp_rf"
   ]
  },
  {
   "cell_type": "code",
   "execution_count": 84,
   "metadata": {},
   "outputs": [
    {
     "data": {
      "image/png": "[encoded data removed]",
      "text/plain": [
       "<Figure size 1000x600 with 1 Axes>"
      ]
     },
     "metadata": {},
     "output_type": "display_data"
    }
   ],
   "source": [
    "import matplotlib.pyplot as plt\n",
    "import seaborn as sns\n",
    "\n",
    "plt.figure(figsize=(10, 6)) \n",
    "\n",
    "\n",
    "df_feat_imp_rf = df_feat_imp_rf.reset_index() \n",
    "df_feat_imp_rf.rename(columns={'index': 'Feature'}, inplace=True)\n",
    "\n",
    "sns.barplot(data=df_feat_imp_rf, x='Feature', y='Feature Importance', color=colors[0])\n",
    "\n",
    "plt.title(\"Importancia de cada feature en el modelo RandomForest\", fontsize=16)\n",
    "plt.xlabel(\"Feature\", fontsize=14)\n",
    "plt.ylabel(\"Importancia\", fontsize=14)\n",
    "\n",
    "plt.xticks(rotation=45)\n",
    "plt.tight_layout()\n",
    "plt.show()"
   ]
  },
  {
   "cell_type": "markdown",
   "metadata": {},
   "source": [
    "Se observa cómo las columnas con más importancia en el precio de un coche de segunda mano son, según nuestro modelo RandomForest, el año de matriculación, potencia del motor y kms recorridos. Las columnas de modelo y marca del coche también tienen algo de importancia, y las demás (tipo de cambio, combustible y número de puertas) tienen una importancia mucho menor.\n",
    "\n",
    "Por esto, vamos a probar a hacer un Random Forest, con la misma parametrización que el mejor de antes, pero quitando las columnas menos importantes: ```[\"tipo_cambio\", \"combustible\", \"num_puertas\"]```, a ver si mejora el modelo."
   ]
  },
  {
   "cell_type": "code",
   "execution_count": 91,
   "metadata": {},
   "outputs": [
    {
     "data": {
      "text/html": [
       "<div>\n",
       "<style scoped>\n",
       "    .dataframe tbody tr th:only-of-type {\n",
       "        vertical-align: middle;\n",
       "    }\n",
       "\n",
       "    .dataframe tbody tr th {\n",
       "        vertical-align: top;\n",
       "    }\n",
       "\n",
       "    .dataframe thead th {\n",
       "        text-align: right;\n",
       "    }\n",
       "</style>\n",
       "<table border=\"1\" class=\"dataframe\">\n",
       "  <thead>\n",
       "    <tr style=\"text-align: right;\">\n",
       "      <th></th>\n",
       "      <th>marca</th>\n",
       "      <th>modelo</th>\n",
       "      <th>anyo_vehiculo</th>\n",
       "      <th>kilometraje</th>\n",
       "      <th>potencia</th>\n",
       "    </tr>\n",
       "  </thead>\n",
       "  <tbody>\n",
       "    <tr>\n",
       "      <th>0</th>\n",
       "      <td>1</td>\n",
       "      <td>356</td>\n",
       "      <td>2021.0</td>\n",
       "      <td>33200</td>\n",
       "      <td>190.0</td>\n",
       "    </tr>\n",
       "    <tr>\n",
       "      <th>1</th>\n",
       "      <td>6</td>\n",
       "      <td>29</td>\n",
       "      <td>2016.0</td>\n",
       "      <td>127300</td>\n",
       "      <td>110.0</td>\n",
       "    </tr>\n",
       "    <tr>\n",
       "      <th>2</th>\n",
       "      <td>7</td>\n",
       "      <td>143</td>\n",
       "      <td>2022.0</td>\n",
       "      <td>123000</td>\n",
       "      <td>100.0</td>\n",
       "    </tr>\n",
       "    <tr>\n",
       "      <th>3</th>\n",
       "      <td>2</td>\n",
       "      <td>92</td>\n",
       "      <td>2022.0</td>\n",
       "      <td>18150</td>\n",
       "      <td>83.0</td>\n",
       "    </tr>\n",
       "    <tr>\n",
       "      <th>4</th>\n",
       "      <td>9</td>\n",
       "      <td>110</td>\n",
       "      <td>2023.0</td>\n",
       "      <td>12000</td>\n",
       "      <td>150.0</td>\n",
       "    </tr>\n",
       "    <tr>\n",
       "      <th>...</th>\n",
       "      <td>...</td>\n",
       "      <td>...</td>\n",
       "      <td>...</td>\n",
       "      <td>...</td>\n",
       "      <td>...</td>\n",
       "    </tr>\n",
       "    <tr>\n",
       "      <th>29694</th>\n",
       "      <td>8</td>\n",
       "      <td>239</td>\n",
       "      <td>2019.0</td>\n",
       "      <td>21153</td>\n",
       "      <td>115.0</td>\n",
       "    </tr>\n",
       "    <tr>\n",
       "      <th>29695</th>\n",
       "      <td>7</td>\n",
       "      <td>237</td>\n",
       "      <td>2015.0</td>\n",
       "      <td>68750</td>\n",
       "      <td>150.0</td>\n",
       "    </tr>\n",
       "    <tr>\n",
       "      <th>29696</th>\n",
       "      <td>6</td>\n",
       "      <td>5</td>\n",
       "      <td>2019.0</td>\n",
       "      <td>21422</td>\n",
       "      <td>72.0</td>\n",
       "    </tr>\n",
       "    <tr>\n",
       "      <th>29697</th>\n",
       "      <td>0</td>\n",
       "      <td>289</td>\n",
       "      <td>2013.0</td>\n",
       "      <td>47900</td>\n",
       "      <td>450.0</td>\n",
       "    </tr>\n",
       "    <tr>\n",
       "      <th>29698</th>\n",
       "      <td>2</td>\n",
       "      <td>91</td>\n",
       "      <td>2006.0</td>\n",
       "      <td>106000</td>\n",
       "      <td>70.0</td>\n",
       "    </tr>\n",
       "  </tbody>\n",
       "</table>\n",
       "<p>29699 rows × 5 columns</p>\n",
       "</div>"
      ],
      "text/plain": [
       "       marca  modelo  anyo_vehiculo  kilometraje  potencia\n",
       "0          1     356         2021.0        33200     190.0\n",
       "1          6      29         2016.0       127300     110.0\n",
       "2          7     143         2022.0       123000     100.0\n",
       "3          2      92         2022.0        18150      83.0\n",
       "4          9     110         2023.0        12000     150.0\n",
       "...      ...     ...            ...          ...       ...\n",
       "29694      8     239         2019.0        21153     115.0\n",
       "29695      7     237         2015.0        68750     150.0\n",
       "29696      6       5         2019.0        21422      72.0\n",
       "29697      0     289         2013.0        47900     450.0\n",
       "29698      2      91         2006.0       106000      70.0\n",
       "\n",
       "[29699 rows x 5 columns]"
      ]
     },
     "execution_count": 91,
     "metadata": {},
     "output_type": "execute_result"
    }
   ],
   "source": [
    "# RF 2\n",
    "\n",
    "X_rf_2 = X.drop(columns=[\"tipo_cambio\", \"combustible\", \"num_puertas\"])\n",
    "X_rf_2"
   ]
  },
  {
   "cell_type": "code",
   "execution_count": 92,
   "metadata": {},
   "outputs": [
    {
     "name": "stdout",
     "output_type": "stream",
     "text": [
      "(23759, 5)\n",
      "(5940, 5)\n",
      "(23759,)\n",
      "(5940,)\n"
     ]
    }
   ],
   "source": [
    "from sklearn.model_selection import train_test_split\n",
    "\n",
    "X_train_rf2, X_test_rf2, y_train_rf2, y_test_rf2 = train_test_split(X_rf_2, y, test_size=0.2, random_state=42)\n",
    "\n",
    "print(X_train_rf2.shape)\n",
    "print(X_test_rf2.shape)\n",
    "print(y_train_rf2.shape)\n",
    "print(y_test_rf2.shape)"
   ]
  },
  {
   "cell_type": "code",
   "execution_count": 93,
   "metadata": {},
   "outputs": [],
   "source": [
    "from sklearn.preprocessing import MinMaxScaler\n",
    "\n",
    "scaler = MinMaxScaler()\n",
    "\n",
    "scaler.fit(X_train_rf2)\n",
    "X_train_rf2 = scaler.transform(X_train_rf2)\n",
    "X_test_rf2 = scaler.transform(X_test_rf2)"
   ]
  },
  {
   "cell_type": "code",
   "execution_count": 94,
   "metadata": {},
   "outputs": [
    {
     "name": "stdout",
     "output_type": "stream",
     "text": [
      "MSE: 0.055758710357681825\n",
      "RMSE: 0.23613282354997117\n",
      "MAE: 0.14799043130934064\n",
      "MAPE: 0.016508326874130987\n",
      "r2 score: 0.9197534543534175\n"
     ]
    }
   ],
   "source": [
    "# RandomForest\n",
    "\n",
    "# param = {\"n_estimators\":[50, 100, 300], \"max_depth\":[3, 5, 9, 15, 33], \"n_jobs\":[-1], \"random_state\":[42]}\n",
    "\n",
    "rf2 = RandomForestRegressor(n_estimators=300, max_depth=33, n_jobs=-1, random_state=42)\n",
    "\n",
    "rf2.fit(X_train_rf2, y_train_rf2)\n",
    "\n",
    "y_pred_rf2 = rf2.predict(X_test_rf2)\n",
    "\n",
    "print(f\"MSE: {metrics.mean_squared_error(y_test_rf2, y_pred_rf2)}\")\n",
    "print(f\"RMSE: {np.sqrt(metrics.mean_squared_error(y_test_rf2, y_pred_rf2))}\")\n",
    "print(f\"MAE: {metrics.mean_absolute_error(y_test_rf2, y_pred_rf2)}\")\n",
    "print(f\"MAPE: {metrics.mean_absolute_percentage_error(y_test_rf2, y_pred_rf2)}\")\n",
    "\n",
    "print(f\"r2 score: {metrics.r2_score(y_test_rf2, y_pred_rf2)}\")"
   ]
  },
  {
   "cell_type": "markdown",
   "metadata": {},
   "source": [
    "### 4.2. Análisis del modelo definitivo:"
   ]
  },
  {
   "cell_type": "markdown",
   "metadata": {},
   "source": [
    "Obtenemos un MSE más elevado que antes, por lo que no mejora. Nos quedamos entonces el XG Boost, que era el segundo modelo con el MSE más bajo pero más rápido que el primero. Vamos a ver la importancia de las features en este modelo:"
   ]
  },
  {
   "cell_type": "code",
   "execution_count": 85,
   "metadata": {},
   "outputs": [
    {
     "name": "stdout",
     "output_type": "stream",
     "text": [
      "MSE: 0.04046446481334211\n",
      "RMSE: 0.20115781071920152\n",
      "MAE: 0.13326713803530943\n",
      "MAPE: 0.01487794831453516\n",
      "r2 score: 0.9363230843398432\n"
     ]
    }
   ],
   "source": [
    "xgb_model = xgboost.XGBRegressor()\n",
    "\n",
    "xgb_model.fit(X_train, y_train)\n",
    "\n",
    "y_pred = xgb_model.predict(X_test)\n",
    "\n",
    "print(f\"MSE: {metrics.mean_squared_error(y_test, y_pred)}\")\n",
    "print(f\"RMSE: {np.sqrt(metrics.mean_squared_error(y_test, y_pred))}\")\n",
    "print(f\"MAE: {metrics.mean_absolute_error(y_test, y_pred)}\")\n",
    "print(f\"MAPE: {metrics.mean_absolute_percentage_error(y_test, y_pred)}\")\n",
    "\n",
    "print(f\"r2 score: {metrics.r2_score(y_test, y_pred)}\")"
   ]
  },
  {
   "cell_type": "code",
   "execution_count": 86,
   "metadata": {},
   "outputs": [
    {
     "data": {
      "text/plain": [
       "Index(['marca', 'modelo', 'combustible', 'anyo_vehiculo', 'kilometraje',\n",
       "       'potencia', 'num_puertas', 'tipo_cambio'],\n",
       "      dtype='object')"
      ]
     },
     "execution_count": 86,
     "metadata": {},
     "output_type": "execute_result"
    }
   ],
   "source": [
    "X.columns"
   ]
  },
  {
   "cell_type": "code",
   "execution_count": 87,
   "metadata": {},
   "outputs": [
    {
     "data": {
      "text/plain": [
       "array([0.04494654, 0.01821221, 0.01724326, 0.3960624 , 0.03480169,\n",
       "       0.17668569, 0.01996149, 0.29208672], dtype=float32)"
      ]
     },
     "execution_count": 87,
     "metadata": {},
     "output_type": "execute_result"
    }
   ],
   "source": [
    "xgb_model.feature_importances_"
   ]
  },
  {
   "cell_type": "code",
   "execution_count": 88,
   "metadata": {},
   "outputs": [
    {
     "data": {
      "text/html": [
       "<div>\n",
       "<style scoped>\n",
       "    .dataframe tbody tr th:only-of-type {\n",
       "        vertical-align: middle;\n",
       "    }\n",
       "\n",
       "    .dataframe tbody tr th {\n",
       "        vertical-align: top;\n",
       "    }\n",
       "\n",
       "    .dataframe thead th {\n",
       "        text-align: right;\n",
       "    }\n",
       "</style>\n",
       "<table border=\"1\" class=\"dataframe\">\n",
       "  <thead>\n",
       "    <tr style=\"text-align: right;\">\n",
       "      <th></th>\n",
       "      <th>Feature Importance</th>\n",
       "    </tr>\n",
       "  </thead>\n",
       "  <tbody>\n",
       "    <tr>\n",
       "      <th>anyo_vehiculo</th>\n",
       "      <td>0.396062</td>\n",
       "    </tr>\n",
       "    <tr>\n",
       "      <th>tipo_cambio</th>\n",
       "      <td>0.292087</td>\n",
       "    </tr>\n",
       "    <tr>\n",
       "      <th>potencia</th>\n",
       "      <td>0.176686</td>\n",
       "    </tr>\n",
       "    <tr>\n",
       "      <th>marca</th>\n",
       "      <td>0.044947</td>\n",
       "    </tr>\n",
       "    <tr>\n",
       "      <th>kilometraje</th>\n",
       "      <td>0.034802</td>\n",
       "    </tr>\n",
       "    <tr>\n",
       "      <th>num_puertas</th>\n",
       "      <td>0.019961</td>\n",
       "    </tr>\n",
       "    <tr>\n",
       "      <th>modelo</th>\n",
       "      <td>0.018212</td>\n",
       "    </tr>\n",
       "    <tr>\n",
       "      <th>combustible</th>\n",
       "      <td>0.017243</td>\n",
       "    </tr>\n",
       "  </tbody>\n",
       "</table>\n",
       "</div>"
      ],
      "text/plain": [
       "               Feature Importance\n",
       "anyo_vehiculo            0.396062\n",
       "tipo_cambio              0.292087\n",
       "potencia                 0.176686\n",
       "marca                    0.044947\n",
       "kilometraje              0.034802\n",
       "num_puertas              0.019961\n",
       "modelo                   0.018212\n",
       "combustible              0.017243"
      ]
     },
     "execution_count": 88,
     "metadata": {},
     "output_type": "execute_result"
    }
   ],
   "source": [
    "df_feat_imp = pd.DataFrame(xgb_model.feature_importances_, index=X.columns)\n",
    "df_feat_imp = df_feat_imp.rename(columns={0:\"Feature Importance\"}).sort_values(\"Feature Importance\", ascending=False)\n",
    "df_feat_imp"
   ]
  },
  {
   "cell_type": "code",
   "execution_count": 89,
   "metadata": {},
   "outputs": [
    {
     "data": {
      "image/png": "[encoded data removed]",
      "text/plain": [
       "<Figure size 1000x600 with 1 Axes>"
      ]
     },
     "metadata": {},
     "output_type": "display_data"
    }
   ],
   "source": [
    "import matplotlib.pyplot as plt\n",
    "import seaborn as sns\n",
    "\n",
    "plt.figure(figsize=(10, 6))\n",
    "\n",
    "df_feat_imp = df_feat_imp.reset_index()\n",
    "df_feat_imp.rename(columns={'index': 'Feature'}, inplace=True)\n",
    "\n",
    "sns.barplot(data=df_feat_imp, x='Feature', y='Feature Importance', color=colors[0])\n",
    "\n",
    "plt.title(\"Importancia de cada feature en el modelo XG Boost\", fontsize=16)\n",
    "plt.xlabel(\"Feature\", fontsize=14)\n",
    "plt.ylabel(\"Importancia\", fontsize=14)\n",
    "\n",
    "plt.xticks(rotation=45)\n",
    "plt.tight_layout()\n",
    "plt.show()\n"
   ]
  },
  {
   "cell_type": "code",
   "execution_count": null,
   "metadata": {},
   "outputs": [
    {
     "data": {
      "image/png": "[encoded data removed]",
      "text/plain": [
       "<Figure size 1200x1000 with 2 Axes>"
      ]
     },
     "metadata": {},
     "output_type": "display_data"
    }
   ],
   "source": [
    "# Comparativa entre importancias del Randomforest y XG Boost:\n",
    "\n",
    "import matplotlib.pyplot as plt\n",
    "import seaborn as sns\n",
    "\n",
    "# Asegúrate de que estos DataFrames ya tienen una columna 'Feature'\n",
    "# Si no, usa reset_index() solo si el índice representa las features\n",
    "\n",
    "# Crear la figura y los subplots\n",
    "fig, axes = plt.subplots(nrows=2, ncols=1, figsize=(8, 6))\n",
    "\n",
    "# Gráfico 1 - RandomForest\n",
    "sns.barplot(data=df_feat_imp_rf, x='Feature', y='Feature Importance', color=colors[0], ax=axes[0])\n",
    "axes[0].set_title(\"Importancia de cada feature en el modelo RandomForest\", fontsize=18)\n",
    "axes[0].set_xlabel(\"Feature\", fontsize=14)\n",
    "axes[0].set_ylabel(\"Importancia\", fontsize=14)\n",
    "axes[0].tick_params(axis='x', rotation=45)\n",
    "\n",
    "# Gráfico 2 - XGBoost\n",
    "sns.barplot(data=df_feat_imp, x='Feature', y='Feature Importance', color=colors[0], ax=axes[1])\n",
    "axes[1].set_title(\"Importancia de cada feature en el modelo XG Boost\", fontsize=18)\n",
    "axes[1].set_xlabel(\"Feature\", fontsize=14)\n",
    "axes[1].set_ylabel(\"Importancia\", fontsize=14)\n",
    "axes[1].tick_params(axis='x', rotation=45)\n",
    "\n",
    "plt.tight_layout()\n",
    "plt.subplots_adjust(hspace=0.6)  # aumenta el espacio vertical entre subplots\n",
    "plt.show()\n"
   ]
  },
  {
   "cell_type": "markdown",
   "metadata": {},
   "source": [
    "Ahora observamos que las columnas más importantes siguen siendo ```\"anyo_vehiculo\"``` y ```\"potencia\"```. Sin embargo, el XGBoost le da mucha más importancia a la columna ```\"tipo_cambio\"``` que el RandomForest previo, y menos a la columna ```\"kilometraje\"```. Además la importancia de las columnas menos importantes es más elevada que en el anterior modelo, por lo que no descartaremos ninguna de estas columnas.\n",
    "\n",
    "Vamos a deshacer la transformación que realizamos en la columna ```\"precio\"``` (target) para ver la dimensión real de nuestras métricas:"
   ]
  },
  {
   "cell_type": "code",
   "execution_count": 104,
   "metadata": {},
   "outputs": [
    {
     "name": "stdout",
     "output_type": "stream",
     "text": [
      "MSE: 14256628.19307195\n",
      "RMSE: 3775.7950411895968\n",
      "MAE: 1872.9885921902128\n",
      "MAPE: 0.1405485106362972\n",
      "r2 score: 0.9315665938523535\n"
     ]
    }
   ],
   "source": [
    "y_pred = xgb_model.predict(X_test)\n",
    "\n",
    "# Deshacemos la transformación logarítmica:\n",
    "y_test_final = np.exp(y_test)\n",
    "y_pred_final = np.exp(y_pred)\n",
    "\n",
    "# Claculamos las métricas reales:\n",
    "print(f\"MSE: {metrics.mean_squared_error(y_test_final, y_pred_final)}\")\n",
    "print(f\"RMSE: {np.sqrt(metrics.mean_squared_error(y_test_final, y_pred_final))}\")\n",
    "print(f\"MAE: {metrics.mean_absolute_error(y_test_final, y_pred_final)}\")\n",
    "print(f\"MAPE: {metrics.mean_absolute_percentage_error(y_test_final, y_pred_final)}\")\n",
    "\n",
    "print(f\"r2 score: {metrics.r2_score(y_test_final, y_pred_final)}\")"
   ]
  },
  {
   "cell_type": "markdown",
   "metadata": {},
   "source": [
    "Vemos que el MAE = 1873 euros. Esto significa que para cada vehículo nos podemos ir esa cantidad de dinero de media en la predicción. \n",
    "\n",
    "El RMSE es algo mayor, 3776 euros, lo cual se debe a que existen unos pocos coches cuyo error es alto, y al hacer el error cuadrático este error se hace más grande.\n",
    "\n",
    "En cuanto al MAPE, nos indica que nuestro modelo tiene un % de error medio del 14.05% sobre el precio del vehículo, el cual es algo elevado."
   ]
  },
  {
   "cell_type": "markdown",
   "metadata": {},
   "source": [
    "Vamos a exportar el modelo final:"
   ]
  },
  {
   "cell_type": "code",
   "execution_count": 107,
   "metadata": {},
   "outputs": [],
   "source": [
    "import pickle\n",
    "\n",
    "# Guardamos el modelo final:\n",
    "\n",
    "with open(\"../include/model/modelo_final.pkl\", 'wb') as archivo_salida:\n",
    "    pickle.dump(xgb_model, archivo_salida)\n"
   ]
  },
  {
   "cell_type": "markdown",
   "metadata": {},
   "source": [
    "Creamos una función que nos permita meter nuevos inputs en el formato de nuestro DataFrame inicial y extraer las variables para pasar directamente al modelo.\n",
    "\n",
    "Además, creamos otras dos funciones: una para realizar predicciones y otra para destransformar la columna target ```\"precio\"```."
   ]
  },
  {
   "cell_type": "code",
   "execution_count": 120,
   "metadata": {},
   "outputs": [],
   "source": [
    "# Función para transformar un df con nuevos inputs de la base de datos en X, y para pasar al modelo.\n",
    "\n",
    "from sklearn.preprocessing import LabelEncoder\n",
    "from sklearn.preprocessing import MinMaxScaler\n",
    "import pickle\n",
    "\n",
    "\n",
    "\n",
    "def new_input_clean(input_df):\n",
    "    '''\n",
    "    Introduce los nuevos inputs en formato DataFrame con las columnas iniciales y devuelve los datos listos para introducirlos al modelo.\n",
    "\n",
    "    El input DataFrame debe contener al menos las columnas (['marca', 'modelo', 'combustible', 'anyo_vehiculo', 'kilometraje', 'potencia', \n",
    "    'num_puertas', 'tipo_cambio'])\n",
    "    '''\n",
    "\n",
    "    excepciones = ['marca', 'modelo', 'precio', 'combustible', 'anyo_vehiculo', 'kilometraje', 'potencia', 'num_puertas', 'tipo_cambio']\n",
    "\n",
    "    # Reemplazar NaN con 0 excepto en las columnas de excepciones (las que utiliza el modelo)\n",
    "    input_df = input_df.fillna({col: 0 for col in input_df.columns if col not in excepciones})\n",
    "\n",
    "\n",
    "    input_df = input_df[excepciones]\n",
    "    input_df = input_df.drop(index=(input_df.loc[df.loc[:, \"potencia\"].isna() == True, :]).index)\n",
    "    input_df = input_df.drop(index=(input_df.loc[df.loc[:, \"tipo_cambio\"].isna() == True, :]).index)\n",
    "    input_df = input_df.dropna()\n",
    "\n",
    "    # Importamos los encodings hechos antes:\n",
    "    encoder_marca = pickle.load(open(\"../include/utils/label_encoder_marca.pkl\", 'rb'))\n",
    "    encoder_modelo = pickle.load(open(\"../include/utils/label_encoder_modelo.pkl\", 'rb'))\n",
    "\n",
    "    list(encoder_marca.classes_)\n",
    "    input_df[\"marca\"] = encoder_marca.transform(input_df[\"marca\"])\n",
    "\n",
    "    list(encoder_modelo.classes_)\n",
    "    input_df[\"modelo\"] = encoder_modelo.transform(input_df[\"modelo\"])\n",
    "\n",
    "    tipos_combustible = {\"Diésel\" : 0,\n",
    "            \"Gasolina\" : 1,\n",
    "            \"Híbrido\" : 2,\n",
    "            \"Eléctrico\" : 3,\n",
    "            \"Híbrido enchufable\" : 4, \n",
    "            \"Gas licuado (GLP)\" : 5,\n",
    "            \"Gas natural (CNG)\" : 6}\n",
    "                     \n",
    "    input_df[\"combustible\"] = input_df[\"combustible\"].map(tipos_combustible)\n",
    "\n",
    "    num_puertas = {5: 5,\n",
    "            4 : 5,\n",
    "            3 : 3,\n",
    "            2 : 3}\n",
    "    \n",
    "    input_df[\"num_puertas\"] = input_df[\"num_puertas\"].map(num_puertas)\n",
    "    \n",
    "    input_df[\"tipo_cambio\"] = input_df[\"tipo_cambio\"].apply(lambda x: 0 if x == \"Manual\" else 1)\n",
    "\n",
    "    input_df[\"precio\"] = np.log(input_df[\"precio\"])\n",
    "\n",
    "    X_input = input_df.drop(\"precio\", axis=1)\n",
    "    y_input = input_df[\"precio\"]\n",
    "    \n",
    "\n",
    "    scaler = pickle.load(open(\"../include/utils/scaler.pkl\", 'rb'))\n",
    "\n",
    "    X_input = scaler.transform(X_input)\n",
    "\n",
    "    return [X_input, y_input]\n",
    "\n",
    "# Función para hacer predicciones\n",
    "\n",
    "def predict(loaded_model, X_input):\n",
    "    return loaded_model.predict(X_input)\n",
    "\n",
    "# Función para deshacer la transformación y devolver el precio:\n",
    "\n",
    "import numpy as np\n",
    "\n",
    "def destransformar_y(y_out):\n",
    "    return np.exp(y_out)"
   ]
  },
  {
   "cell_type": "markdown",
   "metadata": {},
   "source": [
    "Vamos ahora a cargar el modelo y probarlo con un DataFrame de prueba con coches, para ver el precio que predice. "
   ]
  },
  {
   "cell_type": "code",
   "execution_count": 121,
   "metadata": {},
   "outputs": [],
   "source": [
    "import pickle\n",
    "\n",
    "loaded_model = pickle.load(open(\"../include/model/modelo_final.pkl\", 'rb'))"
   ]
  },
  {
   "cell_type": "code",
   "execution_count": 122,
   "metadata": {},
   "outputs": [
    {
     "data": {
      "text/html": [
       "<style>#sk-container-id-2 {color: black;}#sk-container-id-2 pre{padding: 0;}#sk-container-id-2 div.sk-toggleable {background-color: white;}#sk-container-id-2 label.sk-toggleable__label {cursor: pointer;display: block;width: 100%;margin-bottom: 0;padding: 0.3em;box-sizing: border-box;text-align: center;}#sk-container-id-2 label.sk-toggleable__label-arrow:before {content: \"▸\";float: left;margin-right: 0.25em;color: #696969;}#sk-container-id-2 label.sk-toggleable__label-arrow:hover:before {color: black;}#sk-container-id-2 div.sk-estimator:hover label.sk-toggleable__label-arrow:before {color: black;}#sk-container-id-2 div.sk-toggleable__content {max-height: 0;max-width: 0;overflow: hidden;text-align: left;background-color: #f0f8ff;}#sk-container-id-2 div.sk-toggleable__content pre {margin: 0.2em;color: black;border-radius: 0.25em;background-color: #f0f8ff;}#sk-container-id-2 input.sk-toggleable__control:checked~div.sk-toggleable__content {max-height: 200px;max-width: 100%;overflow: auto;}#sk-container-id-2 input.sk-toggleable__control:checked~label.sk-toggleable__label-arrow:before {content: \"▾\";}#sk-container-id-2 div.sk-estimator input.sk-toggleable__control:checked~label.sk-toggleable__label {background-color: #d4ebff;}#sk-container-id-2 div.sk-label input.sk-toggleable__control:checked~label.sk-toggleable__label {background-color: #d4ebff;}#sk-container-id-2 input.sk-hidden--visually {border: 0;clip: rect(1px 1px 1px 1px);clip: rect(1px, 1px, 1px, 1px);height: 1px;margin: -1px;overflow: hidden;padding: 0;position: absolute;width: 1px;}#sk-container-id-2 div.sk-estimator {font-family: monospace;background-color: #f0f8ff;border: 1px dotted black;border-radius: 0.25em;box-sizing: border-box;margin-bottom: 0.5em;}#sk-container-id-2 div.sk-estimator:hover {background-color: #d4ebff;}#sk-container-id-2 div.sk-parallel-item::after {content: \"\";width: 100%;border-bottom: 1px solid gray;flex-grow: 1;}#sk-container-id-2 div.sk-label:hover label.sk-toggleable__label {background-color: #d4ebff;}#sk-container-id-2 div.sk-serial::before {content: \"\";position: absolute;border-left: 1px solid gray;box-sizing: border-box;top: 0;bottom: 0;left: 50%;z-index: 0;}#sk-container-id-2 div.sk-serial {display: flex;flex-direction: column;align-items: center;background-color: white;padding-right: 0.2em;padding-left: 0.2em;position: relative;}#sk-container-id-2 div.sk-item {position: relative;z-index: 1;}#sk-container-id-2 div.sk-parallel {display: flex;align-items: stretch;justify-content: center;background-color: white;position: relative;}#sk-container-id-2 div.sk-item::before, #sk-container-id-2 div.sk-parallel-item::before {content: \"\";position: absolute;border-left: 1px solid gray;box-sizing: border-box;top: 0;bottom: 0;left: 50%;z-index: -1;}#sk-container-id-2 div.sk-parallel-item {display: flex;flex-direction: column;z-index: 1;position: relative;background-color: white;}#sk-container-id-2 div.sk-parallel-item:first-child::after {align-self: flex-end;width: 50%;}#sk-container-id-2 div.sk-parallel-item:last-child::after {align-self: flex-start;width: 50%;}#sk-container-id-2 div.sk-parallel-item:only-child::after {width: 0;}#sk-container-id-2 div.sk-dashed-wrapped {border: 1px dashed gray;margin: 0 0.4em 0.5em 0.4em;box-sizing: border-box;padding-bottom: 0.4em;background-color: white;}#sk-container-id-2 div.sk-label label {font-family: monospace;font-weight: bold;display: inline-block;line-height: 1.2em;}#sk-container-id-2 div.sk-label-container {text-align: center;}#sk-container-id-2 div.sk-container {/* jupyter's `normalize.less` sets `[hidden] { display: none; }` but bootstrap.min.css set `[hidden] { display: none !important; }` so we also need the `!important` here to be able to override the default hidden behavior on the sphinx rendered scikit-learn.org. See: https://github.com/scikit-learn/scikit-learn/issues/21755 */display: inline-block !important;position: relative;}#sk-container-id-2 div.sk-text-repr-fallback {display: none;}</style><div id=\"sk-container-id-2\" class=\"sk-top-container\"><div class=\"sk-text-repr-fallback\"><pre>XGBRegressor(base_score=None, booster=None, callbacks=None,\n",
       "             colsample_bylevel=None, colsample_bynode=None,\n",
       "             colsample_bytree=None, device=None, early_stopping_rounds=None,\n",
       "             enable_categorical=False, eval_metric=None, feature_types=None,\n",
       "             feature_weights=None, gamma=None, grow_policy=None,\n",
       "             importance_type=None, interaction_constraints=None,\n",
       "             learning_rate=None, max_bin=None, max_cat_threshold=None,\n",
       "             max_cat_to_onehot=None, max_delta_step=None, max_depth=None,\n",
       "             max_leaves=None, min_child_weight=None, missing=nan,\n",
       "             monotone_constraints=None, multi_strategy=None, n_estimators=None,\n",
       "             n_jobs=None, num_parallel_tree=None, ...)</pre><b>In a Jupyter environment, please rerun this cell to show the HTML representation or trust the notebook. <br />On GitHub, the HTML representation is unable to render, please try loading this page with nbviewer.org.</b></div><div class=\"sk-container\" hidden><div class=\"sk-item\"><div class=\"sk-estimator sk-toggleable\"><input class=\"sk-toggleable__control sk-hidden--visually\" id=\"sk-estimator-id-2\" type=\"checkbox\" checked><label for=\"sk-estimator-id-2\" class=\"sk-toggleable__label sk-toggleable__label-arrow\">XGBRegressor</label><div class=\"sk-toggleable__content\"><pre>XGBRegressor(base_score=None, booster=None, callbacks=None,\n",
       "             colsample_bylevel=None, colsample_bynode=None,\n",
       "             colsample_bytree=None, device=None, early_stopping_rounds=None,\n",
       "             enable_categorical=False, eval_metric=None, feature_types=None,\n",
       "             feature_weights=None, gamma=None, grow_policy=None,\n",
       "             importance_type=None, interaction_constraints=None,\n",
       "             learning_rate=None, max_bin=None, max_cat_threshold=None,\n",
       "             max_cat_to_onehot=None, max_delta_step=None, max_depth=None,\n",
       "             max_leaves=None, min_child_weight=None, missing=nan,\n",
       "             monotone_constraints=None, multi_strategy=None, n_estimators=None,\n",
       "             n_jobs=None, num_parallel_tree=None, ...)</pre></div></div></div></div></div>"
      ],
      "text/plain": [
       "XGBRegressor(base_score=None, booster=None, callbacks=None,\n",
       "             colsample_bylevel=None, colsample_bynode=None,\n",
       "             colsample_bytree=None, device=None, early_stopping_rounds=None,\n",
       "             enable_categorical=False, eval_metric=None, feature_types=None,\n",
       "             feature_weights=None, gamma=None, grow_policy=None,\n",
       "             importance_type=None, interaction_constraints=None,\n",
       "             learning_rate=None, max_bin=None, max_cat_threshold=None,\n",
       "             max_cat_to_onehot=None, max_delta_step=None, max_depth=None,\n",
       "             max_leaves=None, min_child_weight=None, missing=nan,\n",
       "             monotone_constraints=None, multi_strategy=None, n_estimators=None,\n",
       "             n_jobs=None, num_parallel_tree=None, ...)"
      ]
     },
     "execution_count": 122,
     "metadata": {},
     "output_type": "execute_result"
    }
   ],
   "source": [
    "loaded_model"
   ]
  },
  {
   "cell_type": "code",
   "execution_count": 123,
   "metadata": {},
   "outputs": [
    {
     "data": {
      "text/html": [
       "<div>\n",
       "<style scoped>\n",
       "    .dataframe tbody tr th:only-of-type {\n",
       "        vertical-align: middle;\n",
       "    }\n",
       "\n",
       "    .dataframe tbody tr th {\n",
       "        vertical-align: top;\n",
       "    }\n",
       "\n",
       "    .dataframe thead th {\n",
       "        text-align: right;\n",
       "    }\n",
       "</style>\n",
       "<table border=\"1\" class=\"dataframe\">\n",
       "  <thead>\n",
       "    <tr style=\"text-align: right;\">\n",
       "      <th></th>\n",
       "      <th>pk_anuncio_id</th>\n",
       "      <th>marca</th>\n",
       "      <th>modelo</th>\n",
       "      <th>precio</th>\n",
       "      <th>combustible</th>\n",
       "      <th>anyo_vehiculo</th>\n",
       "      <th>kilometraje</th>\n",
       "      <th>potencia</th>\n",
       "      <th>num_puertas</th>\n",
       "      <th>num_plazas</th>\n",
       "      <th>...</th>\n",
       "      <th>tipo_vehiculo</th>\n",
       "      <th>cilindrada_motor</th>\n",
       "      <th>color</th>\n",
       "      <th>provincia</th>\n",
       "      <th>etiqueta_eco</th>\n",
       "      <th>origen_anuncio</th>\n",
       "      <th>fecha_publicacion</th>\n",
       "      <th>anyomes_publicacion</th>\n",
       "      <th>fecha_carga</th>\n",
       "      <th>url</th>\n",
       "    </tr>\n",
       "  </thead>\n",
       "  <tbody>\n",
       "    <tr>\n",
       "      <th>0</th>\n",
       "      <td>60498281</td>\n",
       "      <td>BMW</td>\n",
       "      <td>x3</td>\n",
       "      <td>37900.0</td>\n",
       "      <td>Híbrido</td>\n",
       "      <td>2021.0</td>\n",
       "      <td>33200</td>\n",
       "      <td>190.0</td>\n",
       "      <td>5.0</td>\n",
       "      <td>5.0</td>\n",
       "      <td>...</td>\n",
       "      <td>SUV</td>\n",
       "      <td>1995.0</td>\n",
       "      <td>gris</td>\n",
       "      <td>Madrid</td>\n",
       "      <td>ECO (azul/verde)</td>\n",
       "      <td>WebScraping</td>\n",
       "      <td>2025-05-07</td>\n",
       "      <td>202505.0</td>\n",
       "      <td>2025-05-18 14:21:01</td>\n",
       "      <td>https://www.coches.net/bmw-x3-xdrive20d-xline-...</td>\n",
       "    </tr>\n",
       "    <tr>\n",
       "      <th>1</th>\n",
       "      <td>59710104</td>\n",
       "      <td>PEUGEOT</td>\n",
       "      <td>308</td>\n",
       "      <td>9000.0</td>\n",
       "      <td>Gasolina</td>\n",
       "      <td>2016.0</td>\n",
       "      <td>127300</td>\n",
       "      <td>110.0</td>\n",
       "      <td>5.0</td>\n",
       "      <td>5.0</td>\n",
       "      <td>...</td>\n",
       "      <td>Berlina</td>\n",
       "      <td>1199.0</td>\n",
       "      <td>blanco</td>\n",
       "      <td>Asturias</td>\n",
       "      <td>None</td>\n",
       "      <td>WebScraping</td>\n",
       "      <td>2025-01-25</td>\n",
       "      <td>202501.0</td>\n",
       "      <td>2025-05-18 11:18:51</td>\n",
       "      <td>https://www.coches.net/peugeot-308-5p-allure-1...</td>\n",
       "    </tr>\n",
       "    <tr>\n",
       "      <th>2</th>\n",
       "      <td>60479478</td>\n",
       "      <td>RENAULT</td>\n",
       "      <td>clio</td>\n",
       "      <td>11990.0</td>\n",
       "      <td>Diésel</td>\n",
       "      <td>2022.0</td>\n",
       "      <td>123000</td>\n",
       "      <td>100.0</td>\n",
       "      <td>5.0</td>\n",
       "      <td>5.0</td>\n",
       "      <td>...</td>\n",
       "      <td>Berlina</td>\n",
       "      <td>1461.0</td>\n",
       "      <td>blanco</td>\n",
       "      <td>Málaga</td>\n",
       "      <td>None</td>\n",
       "      <td>WebScraping</td>\n",
       "      <td>2025-05-18</td>\n",
       "      <td>202505.0</td>\n",
       "      <td>2025-05-18 10:06:26</td>\n",
       "      <td>https://www.coches.net/renault-clio-equilibre-...</td>\n",
       "    </tr>\n",
       "    <tr>\n",
       "      <th>3</th>\n",
       "      <td>60374025</td>\n",
       "      <td>CITROEN</td>\n",
       "      <td>c3</td>\n",
       "      <td>16500.0</td>\n",
       "      <td>Gasolina</td>\n",
       "      <td>2022.0</td>\n",
       "      <td>18150</td>\n",
       "      <td>83.0</td>\n",
       "      <td>5.0</td>\n",
       "      <td>5.0</td>\n",
       "      <td>...</td>\n",
       "      <td>Berlina</td>\n",
       "      <td>1199.0</td>\n",
       "      <td>blanco</td>\n",
       "      <td>Madrid</td>\n",
       "      <td>None</td>\n",
       "      <td>WebScraping</td>\n",
       "      <td>2025-04-19</td>\n",
       "      <td>202504.0</td>\n",
       "      <td>2025-05-18 10:05:00</td>\n",
       "      <td>https://www.coches.net/citroen-c3-puretech-60k...</td>\n",
       "    </tr>\n",
       "    <tr>\n",
       "      <th>4</th>\n",
       "      <td>60576644</td>\n",
       "      <td>VOLKSWAGEN</td>\n",
       "      <td>california</td>\n",
       "      <td>67900.0</td>\n",
       "      <td>Diesel</td>\n",
       "      <td>2023.0</td>\n",
       "      <td>12000</td>\n",
       "      <td>150.0</td>\n",
       "      <td>4.0</td>\n",
       "      <td>4.0</td>\n",
       "      <td>...</td>\n",
       "      <td>Monovolumen</td>\n",
       "      <td>1968.0</td>\n",
       "      <td>Blanco</td>\n",
       "      <td>Las Palmas</td>\n",
       "      <td>None</td>\n",
       "      <td>WebScraping</td>\n",
       "      <td>2025-05-18</td>\n",
       "      <td>202505.0</td>\n",
       "      <td>2025-05-18 07:24:21</td>\n",
       "      <td>https://www.coches.net/volkswagen-california-o...</td>\n",
       "    </tr>\n",
       "  </tbody>\n",
       "</table>\n",
       "<p>5 rows × 21 columns</p>\n",
       "</div>"
      ],
      "text/plain": [
       "   pk_anuncio_id       marca      modelo   precio combustible  anyo_vehiculo  \\\n",
       "0       60498281         BMW          x3  37900.0     Híbrido         2021.0   \n",
       "1       59710104     PEUGEOT         308   9000.0    Gasolina         2016.0   \n",
       "2       60479478     RENAULT        clio  11990.0      Diésel         2022.0   \n",
       "3       60374025     CITROEN          c3  16500.0    Gasolina         2022.0   \n",
       "4       60576644  VOLKSWAGEN  california  67900.0      Diesel         2023.0   \n",
       "\n",
       "   kilometraje  potencia  num_puertas  num_plazas  ... tipo_vehiculo  \\\n",
       "0        33200     190.0          5.0         5.0  ...           SUV   \n",
       "1       127300     110.0          5.0         5.0  ...       Berlina   \n",
       "2       123000     100.0          5.0         5.0  ...       Berlina   \n",
       "3        18150      83.0          5.0         5.0  ...       Berlina   \n",
       "4        12000     150.0          4.0         4.0  ...   Monovolumen   \n",
       "\n",
       "  cilindrada_motor   color   provincia      etiqueta_eco origen_anuncio  \\\n",
       "0           1995.0    gris      Madrid  ECO (azul/verde)    WebScraping   \n",
       "1           1199.0  blanco    Asturias              None    WebScraping   \n",
       "2           1461.0  blanco      Málaga              None    WebScraping   \n",
       "3           1199.0  blanco      Madrid              None    WebScraping   \n",
       "4           1968.0  Blanco  Las Palmas              None    WebScraping   \n",
       "\n",
       "  fecha_publicacion anyomes_publicacion          fecha_carga  \\\n",
       "0        2025-05-07            202505.0  2025-05-18 14:21:01   \n",
       "1        2025-01-25            202501.0  2025-05-18 11:18:51   \n",
       "2        2025-05-18            202505.0  2025-05-18 10:06:26   \n",
       "3        2025-04-19            202504.0  2025-05-18 10:05:00   \n",
       "4        2025-05-18            202505.0  2025-05-18 07:24:21   \n",
       "\n",
       "                                                 url  \n",
       "0  https://www.coches.net/bmw-x3-xdrive20d-xline-...  \n",
       "1  https://www.coches.net/peugeot-308-5p-allure-1...  \n",
       "2  https://www.coches.net/renault-clio-equilibre-...  \n",
       "3  https://www.coches.net/citroen-c3-puretech-60k...  \n",
       "4  https://www.coches.net/volkswagen-california-o...  \n",
       "\n",
       "[5 rows x 21 columns]"
      ]
     },
     "execution_count": 123,
     "metadata": {},
     "output_type": "execute_result"
    }
   ],
   "source": [
    "import pandas as pd\n",
    "import sqlite3\n",
    "\n",
    "# Conexión a la BBDD:\n",
    "con = sqlite3.connect(\"../include/db_vehiculos.db\")\n",
    "\n",
    "# Vamos a ver qué nos devuelve un select sobre la tabla:\n",
    "query = \"\"\"\n",
    "SELECT * FROM TX_VEHICULOS_SEG_MANO\n",
    "--where\n",
    "--fecha_carga > '2025-05-11 22:33:00'\n",
    "order by\n",
    "    fecha_carga desc\n",
    ";\n",
    "\"\"\"\n",
    "\n",
    "# Leemos los resultados en un DataFrame de pandas\n",
    "df = pd.read_sql_query(query, con)\n",
    "\n",
    "# Mostramos los primeros registros (aún no hay):\n",
    "df_prueba = df.head()\n",
    "\n",
    "df_prueba"
   ]
  },
  {
   "cell_type": "code",
   "execution_count": 124,
   "metadata": {},
   "outputs": [],
   "source": [
    "X_input, y_input = new_input_clean(input_df=df_prueba)"
   ]
  },
  {
   "cell_type": "code",
   "execution_count": 125,
   "metadata": {},
   "outputs": [
    {
     "data": {
      "text/plain": [
       "array([10.6165085,  9.09715  ,  9.384863 ,  9.533099 , 10.874894 ],\n",
       "      dtype=float32)"
      ]
     },
     "execution_count": 125,
     "metadata": {},
     "output_type": "execute_result"
    }
   ],
   "source": [
    "predictions = loaded_model.predict(X_input)\n",
    "predictions"
   ]
  },
  {
   "cell_type": "code",
   "execution_count": 126,
   "metadata": {},
   "outputs": [
    {
     "data": {
      "text/plain": [
       "array([40803.,  8930., 11907., 13809., 52833.], dtype=float32)"
      ]
     },
     "execution_count": 126,
     "metadata": {},
     "output_type": "execute_result"
    }
   ],
   "source": [
    "y_prueba = destransformar_y(predictions).round(0)\n",
    "y_prueba"
   ]
  },
  {
   "cell_type": "markdown",
   "metadata": {},
   "source": [
    "Insertamos las predicciones realizadas en la columna ```\"precio_predicho\"```, al lado de la columna target ```\"precio\"```:"
   ]
  },
  {
   "cell_type": "code",
   "execution_count": 130,
   "metadata": {},
   "outputs": [
    {
     "data": {
      "text/html": [
       "<div>\n",
       "<style scoped>\n",
       "    .dataframe tbody tr th:only-of-type {\n",
       "        vertical-align: middle;\n",
       "    }\n",
       "\n",
       "    .dataframe tbody tr th {\n",
       "        vertical-align: top;\n",
       "    }\n",
       "\n",
       "    .dataframe thead th {\n",
       "        text-align: right;\n",
       "    }\n",
       "</style>\n",
       "<table border=\"1\" class=\"dataframe\">\n",
       "  <thead>\n",
       "    <tr style=\"text-align: right;\">\n",
       "      <th></th>\n",
       "      <th>pk_anuncio_id</th>\n",
       "      <th>marca</th>\n",
       "      <th>modelo</th>\n",
       "      <th>precio</th>\n",
       "      <th>precio_predicho</th>\n",
       "      <th>combustible</th>\n",
       "      <th>anyo_vehiculo</th>\n",
       "      <th>kilometraje</th>\n",
       "      <th>potencia</th>\n",
       "      <th>num_puertas</th>\n",
       "      <th>...</th>\n",
       "      <th>tipo_vehiculo</th>\n",
       "      <th>cilindrada_motor</th>\n",
       "      <th>color</th>\n",
       "      <th>provincia</th>\n",
       "      <th>etiqueta_eco</th>\n",
       "      <th>origen_anuncio</th>\n",
       "      <th>fecha_publicacion</th>\n",
       "      <th>anyomes_publicacion</th>\n",
       "      <th>fecha_carga</th>\n",
       "      <th>url</th>\n",
       "    </tr>\n",
       "  </thead>\n",
       "  <tbody>\n",
       "    <tr>\n",
       "      <th>0</th>\n",
       "      <td>60498281</td>\n",
       "      <td>BMW</td>\n",
       "      <td>x3</td>\n",
       "      <td>37900.0</td>\n",
       "      <td>40803.0</td>\n",
       "      <td>Híbrido</td>\n",
       "      <td>2021.0</td>\n",
       "      <td>33200</td>\n",
       "      <td>190.0</td>\n",
       "      <td>5.0</td>\n",
       "      <td>...</td>\n",
       "      <td>SUV</td>\n",
       "      <td>1995.0</td>\n",
       "      <td>gris</td>\n",
       "      <td>Madrid</td>\n",
       "      <td>ECO (azul/verde)</td>\n",
       "      <td>WebScraping</td>\n",
       "      <td>2025-05-07</td>\n",
       "      <td>202505.0</td>\n",
       "      <td>2025-05-18 14:21:01</td>\n",
       "      <td>https://www.coches.net/bmw-x3-xdrive20d-xline-...</td>\n",
       "    </tr>\n",
       "    <tr>\n",
       "      <th>1</th>\n",
       "      <td>59710104</td>\n",
       "      <td>PEUGEOT</td>\n",
       "      <td>308</td>\n",
       "      <td>9000.0</td>\n",
       "      <td>8930.0</td>\n",
       "      <td>Gasolina</td>\n",
       "      <td>2016.0</td>\n",
       "      <td>127300</td>\n",
       "      <td>110.0</td>\n",
       "      <td>5.0</td>\n",
       "      <td>...</td>\n",
       "      <td>Berlina</td>\n",
       "      <td>1199.0</td>\n",
       "      <td>blanco</td>\n",
       "      <td>Asturias</td>\n",
       "      <td>None</td>\n",
       "      <td>WebScraping</td>\n",
       "      <td>2025-01-25</td>\n",
       "      <td>202501.0</td>\n",
       "      <td>2025-05-18 11:18:51</td>\n",
       "      <td>https://www.coches.net/peugeot-308-5p-allure-1...</td>\n",
       "    </tr>\n",
       "    <tr>\n",
       "      <th>2</th>\n",
       "      <td>60479478</td>\n",
       "      <td>RENAULT</td>\n",
       "      <td>clio</td>\n",
       "      <td>11990.0</td>\n",
       "      <td>11907.0</td>\n",
       "      <td>Diésel</td>\n",
       "      <td>2022.0</td>\n",
       "      <td>123000</td>\n",
       "      <td>100.0</td>\n",
       "      <td>5.0</td>\n",
       "      <td>...</td>\n",
       "      <td>Berlina</td>\n",
       "      <td>1461.0</td>\n",
       "      <td>blanco</td>\n",
       "      <td>Málaga</td>\n",
       "      <td>None</td>\n",
       "      <td>WebScraping</td>\n",
       "      <td>2025-05-18</td>\n",
       "      <td>202505.0</td>\n",
       "      <td>2025-05-18 10:06:26</td>\n",
       "      <td>https://www.coches.net/renault-clio-equilibre-...</td>\n",
       "    </tr>\n",
       "    <tr>\n",
       "      <th>3</th>\n",
       "      <td>60374025</td>\n",
       "      <td>CITROEN</td>\n",
       "      <td>c3</td>\n",
       "      <td>16500.0</td>\n",
       "      <td>13809.0</td>\n",
       "      <td>Gasolina</td>\n",
       "      <td>2022.0</td>\n",
       "      <td>18150</td>\n",
       "      <td>83.0</td>\n",
       "      <td>5.0</td>\n",
       "      <td>...</td>\n",
       "      <td>Berlina</td>\n",
       "      <td>1199.0</td>\n",
       "      <td>blanco</td>\n",
       "      <td>Madrid</td>\n",
       "      <td>None</td>\n",
       "      <td>WebScraping</td>\n",
       "      <td>2025-04-19</td>\n",
       "      <td>202504.0</td>\n",
       "      <td>2025-05-18 10:05:00</td>\n",
       "      <td>https://www.coches.net/citroen-c3-puretech-60k...</td>\n",
       "    </tr>\n",
       "    <tr>\n",
       "      <th>4</th>\n",
       "      <td>60576644</td>\n",
       "      <td>VOLKSWAGEN</td>\n",
       "      <td>california</td>\n",
       "      <td>67900.0</td>\n",
       "      <td>52833.0</td>\n",
       "      <td>Diesel</td>\n",
       "      <td>2023.0</td>\n",
       "      <td>12000</td>\n",
       "      <td>150.0</td>\n",
       "      <td>4.0</td>\n",
       "      <td>...</td>\n",
       "      <td>Monovolumen</td>\n",
       "      <td>1968.0</td>\n",
       "      <td>Blanco</td>\n",
       "      <td>Las Palmas</td>\n",
       "      <td>None</td>\n",
       "      <td>WebScraping</td>\n",
       "      <td>2025-05-18</td>\n",
       "      <td>202505.0</td>\n",
       "      <td>2025-05-18 07:24:21</td>\n",
       "      <td>https://www.coches.net/volkswagen-california-o...</td>\n",
       "    </tr>\n",
       "  </tbody>\n",
       "</table>\n",
       "<p>5 rows × 22 columns</p>\n",
       "</div>"
      ],
      "text/plain": [
       "   pk_anuncio_id       marca      modelo   precio  precio_predicho  \\\n",
       "0       60498281         BMW          x3  37900.0          40803.0   \n",
       "1       59710104     PEUGEOT         308   9000.0           8930.0   \n",
       "2       60479478     RENAULT        clio  11990.0          11907.0   \n",
       "3       60374025     CITROEN          c3  16500.0          13809.0   \n",
       "4       60576644  VOLKSWAGEN  california  67900.0          52833.0   \n",
       "\n",
       "  combustible  anyo_vehiculo  kilometraje  potencia  num_puertas  ...  \\\n",
       "0     Híbrido         2021.0        33200     190.0          5.0  ...   \n",
       "1    Gasolina         2016.0       127300     110.0          5.0  ...   \n",
       "2      Diésel         2022.0       123000     100.0          5.0  ...   \n",
       "3    Gasolina         2022.0        18150      83.0          5.0  ...   \n",
       "4      Diesel         2023.0        12000     150.0          4.0  ...   \n",
       "\n",
       "   tipo_vehiculo cilindrada_motor   color   provincia      etiqueta_eco  \\\n",
       "0            SUV           1995.0    gris      Madrid  ECO (azul/verde)   \n",
       "1        Berlina           1199.0  blanco    Asturias              None   \n",
       "2        Berlina           1461.0  blanco      Málaga              None   \n",
       "3        Berlina           1199.0  blanco      Madrid              None   \n",
       "4    Monovolumen           1968.0  Blanco  Las Palmas              None   \n",
       "\n",
       "  origen_anuncio fecha_publicacion anyomes_publicacion          fecha_carga  \\\n",
       "0    WebScraping        2025-05-07            202505.0  2025-05-18 14:21:01   \n",
       "1    WebScraping        2025-01-25            202501.0  2025-05-18 11:18:51   \n",
       "2    WebScraping        2025-05-18            202505.0  2025-05-18 10:06:26   \n",
       "3    WebScraping        2025-04-19            202504.0  2025-05-18 10:05:00   \n",
       "4    WebScraping        2025-05-18            202505.0  2025-05-18 07:24:21   \n",
       "\n",
       "                                                 url  \n",
       "0  https://www.coches.net/bmw-x3-xdrive20d-xline-...  \n",
       "1  https://www.coches.net/peugeot-308-5p-allure-1...  \n",
       "2  https://www.coches.net/renault-clio-equilibre-...  \n",
       "3  https://www.coches.net/citroen-c3-puretech-60k...  \n",
       "4  https://www.coches.net/volkswagen-california-o...  \n",
       "\n",
       "[5 rows x 22 columns]"
      ]
     },
     "execution_count": 130,
     "metadata": {},
     "output_type": "execute_result"
    }
   ],
   "source": [
    "df_prueba.insert(4, \"precio_predicho\", y_prueba)\n",
    "df_prueba.to_csv(\"../include/data/processed/df_prueba_pred.csv\")\n",
    "df_prueba"
   ]
  },
  {
   "cell_type": "markdown",
   "metadata": {},
   "source": [
    "Vemos que los precios que predice el modelo se ajustan bastante a los reales. Para el vehículo VolksWagen California no lo predice bien, lo cual es más común que pase para vehículos fuera del rango de precio entre 5.000 y 25.000 euros, que era donde más cantidad había."
   ]
  },
  {
   "cell_type": "markdown",
   "metadata": {},
   "source": [
    "Registros de VolksWagen California:"
   ]
  },
  {
   "cell_type": "code",
   "execution_count": 133,
   "metadata": {},
   "outputs": [],
   "source": [
    "import pandas as pd\n",
    "import sqlite3\n",
    "\n",
    "# Conexión a la BBDD:\n",
    "con = sqlite3.connect(\"../include/db_vehiculos.db\")\n",
    "\n",
    "# Vamos a ver qué nos devuelve un select sobre la tabla:\n",
    "query = \"\"\"\n",
    "SELECT * FROM TX_VEHICULOS_SEG_MANO\n",
    "where\n",
    "    marca = 'VOLKSWAGEN'\n",
    "    and modelo = 'california'\n",
    ";\n",
    "\"\"\"\n",
    "\n",
    "# Leemos los resultados en un DataFrame de pandas\n",
    "df_vw_california = pd.read_sql_query(query, con)\n",
    "\n",
    "# Mostramos los primeros registros (aún no hay):\n",
    "\n",
    "# df_vw_california"
   ]
  },
  {
   "cell_type": "markdown",
   "metadata": {},
   "source": [
    "## Idea: división en segmentos.\n",
    "\n",
    "1. Segmento medio: hasta 30k eur.\n",
    "2. Segmento premium: desde 30k eur."
   ]
  }
 ],
 "metadata": {
  "kernelspec": {
   "display_name": "base",
   "language": "python",
   "name": "python3"
  },
  "language_info": {
   "codemirror_mode": {
    "name": "ipython",
    "version": 3
   },
   "file_extension": ".py",
   "mimetype": "text/x-python",
   "name": "python",
   "nbconvert_exporter": "python",
   "pygments_lexer": "ipython3",
   "version": "3.11.5"
  }
 },
 "nbformat": 4,
 "nbformat_minor": 2
}
